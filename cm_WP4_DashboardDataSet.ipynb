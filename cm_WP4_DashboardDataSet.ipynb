{
 "cells": [
  {
   "cell_type": "code",
   "execution_count": 76,
   "metadata": {},
   "outputs": [
    {
     "data": {
      "text/html": [
       "<div>\n",
       "<style scoped>\n",
       "    .dataframe tbody tr th:only-of-type {\n",
       "        vertical-align: middle;\n",
       "    }\n",
       "\n",
       "    .dataframe tbody tr th {\n",
       "        vertical-align: top;\n",
       "    }\n",
       "\n",
       "    .dataframe thead th {\n",
       "        text-align: right;\n",
       "    }\n",
       "</style>\n",
       "<table border=\"1\" class=\"dataframe\">\n",
       "  <thead>\n",
       "    <tr style=\"text-align: right;\">\n",
       "      <th></th>\n",
       "      <th>Unnamed: 0.1</th>\n",
       "      <th>Unnamed: 0</th>\n",
       "      <th>name</th>\n",
       "      <th>type_company</th>\n",
       "      <th>lat</th>\n",
       "      <th>lon</th>\n",
       "      <th>city</th>\n",
       "      <th>avg_stars_num</th>\n",
       "      <th>n_reviews_num</th>\n",
       "      <th>encoded_user</th>\n",
       "      <th>...</th>\n",
       "      <th>clean_other_review_num</th>\n",
       "      <th>published_date</th>\n",
       "      <th>today_date</th>\n",
       "      <th>stars_num</th>\n",
       "      <th>review_EN</th>\n",
       "      <th>original_lang</th>\n",
       "      <th>Negative</th>\n",
       "      <th>Neutral</th>\n",
       "      <th>Positive</th>\n",
       "      <th>Roberta_Sentiment</th>\n",
       "    </tr>\n",
       "  </thead>\n",
       "  <tbody>\n",
       "    <tr>\n",
       "      <th>0</th>\n",
       "      <td>0</td>\n",
       "      <td>3</td>\n",
       "      <td>Dekkers Transport Holland</td>\n",
       "      <td>Trucking company</td>\n",
       "      <td>51.597249</td>\n",
       "      <td>5.027990</td>\n",
       "      <td>Tilburg</td>\n",
       "      <td>4.6</td>\n",
       "      <td>53</td>\n",
       "      <td>Pp1)c</td>\n",
       "      <td>...</td>\n",
       "      <td>5</td>\n",
       "      <td>a year ago</td>\n",
       "      <td>2022-09-24</td>\n",
       "      <td>5</td>\n",
       "      <td>Best employer ever. Worked there for approxima...</td>\n",
       "      <td>ENG</td>\n",
       "      <td>19.696923</td>\n",
       "      <td>29.049307</td>\n",
       "      <td>51.253772</td>\n",
       "      <td>Positive</td>\n",
       "    </tr>\n",
       "    <tr>\n",
       "      <th>1</th>\n",
       "      <td>1</td>\n",
       "      <td>4</td>\n",
       "      <td>Dekkers Transport Holland</td>\n",
       "      <td>Trucking company</td>\n",
       "      <td>51.597249</td>\n",
       "      <td>5.027990</td>\n",
       "      <td>Tilburg</td>\n",
       "      <td>4.6</td>\n",
       "      <td>53</td>\n",
       "      <td>*nk1l</td>\n",
       "      <td>...</td>\n",
       "      <td>2</td>\n",
       "      <td>a year ago</td>\n",
       "      <td>2022-09-24</td>\n",
       "      <td>5</td>\n",
       "      <td>better place with very good people everything ...</td>\n",
       "      <td>ENG</td>\n",
       "      <td>0.233895</td>\n",
       "      <td>1.816870</td>\n",
       "      <td>97.949243</td>\n",
       "      <td>Positive</td>\n",
       "    </tr>\n",
       "    <tr>\n",
       "      <th>2</th>\n",
       "      <td>2</td>\n",
       "      <td>5</td>\n",
       "      <td>Dekkers Transport Holland</td>\n",
       "      <td>Trucking company</td>\n",
       "      <td>51.597249</td>\n",
       "      <td>5.027990</td>\n",
       "      <td>Tilburg</td>\n",
       "      <td>4.6</td>\n",
       "      <td>53</td>\n",
       "      <td>69lOZ</td>\n",
       "      <td>...</td>\n",
       "      <td>3</td>\n",
       "      <td>4 years ago</td>\n",
       "      <td>2022-09-24</td>\n",
       "      <td>5</td>\n",
       "      <td>Nice</td>\n",
       "      <td>ENG</td>\n",
       "      <td>6.603812</td>\n",
       "      <td>35.445267</td>\n",
       "      <td>57.950914</td>\n",
       "      <td>Positive</td>\n",
       "    </tr>\n",
       "    <tr>\n",
       "      <th>3</th>\n",
       "      <td>3</td>\n",
       "      <td>475</td>\n",
       "      <td>GVT Transport &amp; Logistics Tilburg</td>\n",
       "      <td>Logistics</td>\n",
       "      <td>51.599276</td>\n",
       "      <td>5.013881</td>\n",
       "      <td>Tilburg</td>\n",
       "      <td>4.0</td>\n",
       "      <td>321</td>\n",
       "      <td>a!eIE</td>\n",
       "      <td>...</td>\n",
       "      <td>18</td>\n",
       "      <td>2 years ago</td>\n",
       "      <td>2022-09-29</td>\n",
       "      <td>5</td>\n",
       "      <td>Nice</td>\n",
       "      <td>ENG</td>\n",
       "      <td>6.603812</td>\n",
       "      <td>35.445267</td>\n",
       "      <td>57.950914</td>\n",
       "      <td>Positive</td>\n",
       "    </tr>\n",
       "    <tr>\n",
       "      <th>4</th>\n",
       "      <td>4</td>\n",
       "      <td>1435</td>\n",
       "      <td>Newcorp Logistics B.V.</td>\n",
       "      <td>Trucking company</td>\n",
       "      <td>51.813750</td>\n",
       "      <td>4.527254</td>\n",
       "      <td>Heinenoord</td>\n",
       "      <td>4.1</td>\n",
       "      <td>143</td>\n",
       "      <td>x#kZV</td>\n",
       "      <td>...</td>\n",
       "      <td>1773</td>\n",
       "      <td>5 years ago</td>\n",
       "      <td>2022-09-25</td>\n",
       "      <td>4</td>\n",
       "      <td>Nice</td>\n",
       "      <td>ENG</td>\n",
       "      <td>6.603812</td>\n",
       "      <td>35.445267</td>\n",
       "      <td>57.950914</td>\n",
       "      <td>Positive</td>\n",
       "    </tr>\n",
       "  </tbody>\n",
       "</table>\n",
       "<p>5 rows × 21 columns</p>\n",
       "</div>"
      ],
      "text/plain": [
       "   Unnamed: 0.1  Unnamed: 0                               name  \\\n",
       "0             0           3          Dekkers Transport Holland   \n",
       "1             1           4          Dekkers Transport Holland   \n",
       "2             2           5          Dekkers Transport Holland   \n",
       "3             3         475  GVT Transport & Logistics Tilburg   \n",
       "4             4        1435             Newcorp Logistics B.V.   \n",
       "\n",
       "       type_company        lat       lon        city  avg_stars_num  \\\n",
       "0  Trucking company  51.597249  5.027990     Tilburg            4.6   \n",
       "1  Trucking company  51.597249  5.027990     Tilburg            4.6   \n",
       "2  Trucking company  51.597249  5.027990     Tilburg            4.6   \n",
       "3         Logistics  51.599276  5.013881     Tilburg            4.0   \n",
       "4  Trucking company  51.813750  4.527254  Heinenoord            4.1   \n",
       "\n",
       "   n_reviews_num encoded_user  ...  clean_other_review_num  published_date  \\\n",
       "0             53        Pp1)c  ...                       5      a year ago   \n",
       "1             53        *nk1l  ...                       2      a year ago   \n",
       "2             53        69lOZ  ...                       3     4 years ago   \n",
       "3            321        a!eIE  ...                      18     2 years ago   \n",
       "4            143        x#kZV  ...                    1773     5 years ago   \n",
       "\n",
       "  today_date stars_num                                          review_EN  \\\n",
       "0 2022-09-24         5  Best employer ever. Worked there for approxima...   \n",
       "1 2022-09-24         5  better place with very good people everything ...   \n",
       "2 2022-09-24         5                                               Nice   \n",
       "3 2022-09-29         5                                               Nice   \n",
       "4 2022-09-25         4                                               Nice   \n",
       "\n",
       "  original_lang   Negative    Neutral   Positive  Roberta_Sentiment  \n",
       "0           ENG  19.696923  29.049307  51.253772           Positive  \n",
       "1           ENG   0.233895   1.816870  97.949243           Positive  \n",
       "2           ENG   6.603812  35.445267  57.950914           Positive  \n",
       "3           ENG   6.603812  35.445267  57.950914           Positive  \n",
       "4           ENG   6.603812  35.445267  57.950914           Positive  \n",
       "\n",
       "[5 rows x 21 columns]"
      ]
     },
     "execution_count": 76,
     "metadata": {},
     "output_type": "execute_result"
    }
   ],
   "source": [
    "import time\n",
    "from datetime import datetime\n",
    "import numpy as np\n",
    "import pandas as pd\n",
    "import os\n",
    "import matplotlib.pyplot as plt \n",
    "import seaborn as sns\n",
    "\n",
    "# main_dir = \n",
    "Dataset_name = 'clean_data_set.csv'\n",
    "\n",
    "# df = pd.read_csv(os.path.join('./Data/',Dataset_name))\n",
    "df = pd.read_excel(os.path.join('./Output/','Sent_Analysis_Roberta.xlsx'))\n",
    "\n",
    "df.head()"
   ]
  },
  {
   "attachments": {},
   "cell_type": "markdown",
   "metadata": {},
   "source": [
    "Convert relative time stamp to an estimated absolute date"
   ]
  },
  {
   "cell_type": "code",
   "execution_count": 77,
   "metadata": {},
   "outputs": [
    {
     "name": "stdout",
     "output_type": "stream",
     "text": [
      "<bound method Calendar.parse of <parsedatetime.Calendar object at 0x7f9bcabe73d0>>\n"
     ]
    }
   ],
   "source": [
    "import parsedatetime.parsedatetime as pdt\n",
    "from datetime import datetime, timedelta\n",
    "p = pdt.Calendar()\n",
    "print(p.parse)\n",
    "\n",
    "\n",
    "\n",
    "def parseDate(relative: str):\n",
    "    parsed, status = p.parse(relative)\n",
    "    # Offset datetime to when it was scraped\n",
    "    return datetime(*parsed[:6]) + timedelta(days=-117)\n",
    "\n",
    "df[\"published_date\"] = df[\"published_date\"].map(parseDate)"
   ]
  },
  {
   "cell_type": "code",
   "execution_count": 78,
   "metadata": {},
   "outputs": [],
   "source": [
    "df.to_csv(\"./Data/dashboard_data.csv\")"
   ]
  },
  {
   "attachments": {},
   "cell_type": "markdown",
   "metadata": {},
   "source": [
    "## Filter to companies of interest"
   ]
  },
  {
   "cell_type": "code",
   "execution_count": 83,
   "metadata": {},
   "outputs": [],
   "source": [
    "\n",
    "companies = pd.read_csv('./output/selected_companies.csv', encoding = \"ISO-8859-1\")\n",
    "company_names = companies[\"company_name\"].tolist()"
   ]
  },
  {
   "cell_type": "code",
   "execution_count": 86,
   "metadata": {},
   "outputs": [
    {
     "data": {
      "text/plain": [
       "Index(['Unnamed: 0.1', 'Unnamed: 0', 'name', 'type_company', 'lat', 'lon',\n",
       "       'city', 'avg_stars_num', 'n_reviews_num', 'encoded_user', 'local_guide',\n",
       "       'clean_other_review_num', 'published_date', 'today_date', 'stars_num',\n",
       "       'review_EN', 'original_lang', 'Negative', 'Neutral', 'Positive',\n",
       "       'Roberta_Sentiment'],\n",
       "      dtype='object')"
      ]
     },
     "execution_count": 86,
     "metadata": {},
     "output_type": "execute_result"
    }
   ],
   "source": [
    "df_filtered = df[df[\"name\"].isin(company_names)]\n",
    "df_filtered.to_csv(\"./Data/dashboard_data.csv\")\n",
    "df_filtered.head()\n",
    "df_filtered.shape\n",
    "df_filtered.columns"
   ]
  },
  {
   "attachments": {},
   "cell_type": "markdown",
   "metadata": {},
   "source": [
    "## Word counts"
   ]
  },
  {
   "cell_type": "code",
   "execution_count": null,
   "metadata": {},
   "outputs": [],
   "source": []
  }
 ],
 "metadata": {
  "kernelspec": {
   "display_name": "envname",
   "language": "python",
   "name": "python3"
  },
  "language_info": {
   "codemirror_mode": {
    "name": "ipython",
    "version": 3
   },
   "file_extension": ".py",
   "mimetype": "text/x-python",
   "name": "python",
   "nbconvert_exporter": "python",
   "pygments_lexer": "ipython3",
   "version": "3.9.15"
  },
  "orig_nbformat": 4,
  "vscode": {
   "interpreter": {
    "hash": "196340d06b2b9254b8fed50d12e4ff4cd03afebbff6976998ebe368f7000cf98"
   }
  }
 },
 "nbformat": 4,
 "nbformat_minor": 2
}
