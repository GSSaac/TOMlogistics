{
 "cells": [
  {
   "cell_type": "code",
   "execution_count": 1,
   "id": "72c883fa",
   "metadata": {},
   "outputs": [],
   "source": [
    "import numpy as np\n",
    "import pandas as pd\n",
    "import os\n",
    "import matplotlib.pyplot as plt \n",
    "import seaborn as sns\n",
    "import demoji\n",
    "import spacy\n",
    "\n",
    "import plotly.graph_objects as go\n",
    "from PIL import ImageColor, Image\n",
    "from wordcloud import WordCloud, STOPWORDS, ImageColorGenerator\n",
    "import plotly.express as px\n"
   ]
  },
  {
   "cell_type": "code",
   "execution_count": 2,
   "id": "4d05cf5d",
   "metadata": {},
   "outputs": [],
   "source": [
    "# colormaps = ['Accent', 'Accent_r', 'Blues', 'Blues_r', \n",
    "#              'BrBG', 'BrBG_r', 'BuGn', 'BuGn_r', 'BuPu', 'BuPu_r', \n",
    "#              'CMRmap', 'CMRmap_r', 'Dark2', 'Dark2_r', 'GnBu', 'GnBu_r', \n",
    "#              'Greens', 'Greens_r', 'Greys', 'Greys_r', 'OrRd', 'OrRd_r', \n",
    "#              'Oranges', 'Oranges_r', 'PRGn', 'PRGn_r', 'Paired', 'Paired_r', \n",
    "#              'Pastel1', 'Pastel1_r', 'Pastel2', 'Pastel2_r', 'PiYG', 'PiYG_r', \n",
    "#              'PuBu', 'PuBuGn', 'PuBuGn_r', 'PuBu_r', 'PuOr', 'PuOr_r', 'PuRd', 'PuRd_r', \n",
    "#              'Purples', 'Purples_r', 'RdBu', 'RdBu_r', 'RdGy', 'RdGy_r', 'RdPu', 'RdPu_r', \n",
    "#              'RdYlBu', 'RdYlBu_r', 'RdYlGn', 'RdYlGn_r', 'Reds', 'Reds_r', \n",
    "#              'Set1', 'Set1_r', 'Set2', 'Set2_r', 'Set3', 'Set3_r', \n",
    "#              'Spectral', 'Spectral_r', 'Wistia', 'Wistia_r', \n",
    "#              'YlGn', 'YlGnBu', 'YlGnBu_r', 'YlGn_r', 'YlOrBr', 'YlOrBr_r', 'YlOrRd', 'YlOrRd_r', \n",
    "#              'afmhot', 'afmhot_r', 'autumn', 'autumn_r', 'binary', 'binary_r', 'bone', 'bone_r', \n",
    "#              'brg', 'brg_r', 'bwr', 'bwr_r', 'cividis', 'cividis_r', 'cool', 'cool_r', \n",
    "#              'coolwarm', 'coolwarm_r', 'copper', 'copper_r', 'crest', 'crest_r', \n",
    "#              'cubehelix', 'cubehelix_r', 'flag', 'flag_r', 'flare', 'flare_r', \n",
    "#              'gist_earth', 'gist_earth_r', 'gist_gray', 'gist_gray_r', 'gist_heat', 'gist_heat_r', \n",
    "#              'gist_ncar', 'gist_ncar_r', 'gist_rainbow', 'gist_rainbow_r', 'gist_stern', \n",
    "#              'gist_stern_r', 'gist_yarg', 'gist_yarg_r', 'gnuplot', 'gnuplot2', 'gnuplot2_r', \n",
    "#              'gnuplot_r', 'gray', 'gray_r', 'hot', 'hot_r', 'hsv', 'hsv_r', 'icefire', 'icefire_r', \n",
    "#              'inferno', 'inferno_r', 'jet', 'jet_r', 'magma', 'magma_r', 'mako', 'mako_r', \n",
    "#              'nipy_spectral', 'nipy_spectral_r', 'ocean', 'ocean_r', 'pink', 'pink_r', 'plasma', \n",
    "#              'plasma_r', 'prism', 'prism_r', 'rainbow', 'rainbow_r', 'rocket', 'rocket_r', \n",
    "#              'seismic', 'seismic_r', 'spring', 'spring_r', 'summer', 'summer_r', 'tab10', \n",
    "#              'tab10_r', 'tab20', 'tab20_r', 'tab20b', 'tab20b_r', \n",
    "#              'tab20c', 'tab20c_r', 'terrain', 'terrain_r', 'turbo', 'turbo_r', \n",
    "#              'twilight', 'twilight_r', 'twilight_shifted', 'twilight_shifted_r', \n",
    "#              'viridis', 'viridis_r', 'vlag', 'vlag_r', 'winter', 'winter_r']"
   ]
  },
  {
   "cell_type": "markdown",
   "id": "5564a5ca",
   "metadata": {},
   "source": [
    "# Load DataSet and Data Dictionary"
   ]
  },
  {
   "cell_type": "code",
   "execution_count": 3,
   "id": "51e2b8c7",
   "metadata": {},
   "outputs": [
    {
     "data": {
      "text/html": [
       "<div>\n",
       "<style scoped>\n",
       "    .dataframe tbody tr th:only-of-type {\n",
       "        vertical-align: middle;\n",
       "    }\n",
       "\n",
       "    .dataframe tbody tr th {\n",
       "        vertical-align: top;\n",
       "    }\n",
       "\n",
       "    .dataframe thead th {\n",
       "        text-align: right;\n",
       "    }\n",
       "</style>\n",
       "<table border=\"1\" class=\"dataframe\">\n",
       "  <thead>\n",
       "    <tr style=\"text-align: right;\">\n",
       "      <th></th>\n",
       "      <th>name</th>\n",
       "      <th>type_company</th>\n",
       "      <th>website</th>\n",
       "      <th>lat</th>\n",
       "      <th>lon</th>\n",
       "      <th>city</th>\n",
       "      <th>avg_stars_num</th>\n",
       "      <th>n_reviews_num</th>\n",
       "      <th>encoded_user</th>\n",
       "      <th>local_guide</th>\n",
       "      <th>clean_other_review_num</th>\n",
       "      <th>published_date</th>\n",
       "      <th>today_date</th>\n",
       "      <th>stars_num</th>\n",
       "      <th>review_EN</th>\n",
       "      <th>original_lang</th>\n",
       "    </tr>\n",
       "  </thead>\n",
       "  <tbody>\n",
       "    <tr>\n",
       "      <th>0</th>\n",
       "      <td>Caretrex warehousing &amp; logistics</td>\n",
       "      <td>Logistics service</td>\n",
       "      <td>http://www.caretrex.com/</td>\n",
       "      <td>51.593721</td>\n",
       "      <td>5.073492</td>\n",
       "      <td>Tilburg</td>\n",
       "      <td>5.0</td>\n",
       "      <td>2.0</td>\n",
       "      <td>HHpDM</td>\n",
       "      <td>0.0</td>\n",
       "      <td>4.0</td>\n",
       "      <td>2 years ago</td>\n",
       "      <td>2022-09-24</td>\n",
       "      <td>5.0</td>\n",
       "      <td>NaN</td>\n",
       "      <td>NaN</td>\n",
       "    </tr>\n",
       "    <tr>\n",
       "      <th>1</th>\n",
       "      <td>Caretrex warehousing &amp; logistics</td>\n",
       "      <td>Logistics service</td>\n",
       "      <td>http://www.caretrex.com/</td>\n",
       "      <td>51.593721</td>\n",
       "      <td>5.073492</td>\n",
       "      <td>Tilburg</td>\n",
       "      <td>5.0</td>\n",
       "      <td>2.0</td>\n",
       "      <td>dYFWx</td>\n",
       "      <td>0.0</td>\n",
       "      <td>1.0</td>\n",
       "      <td>5 years ago</td>\n",
       "      <td>2022-09-24</td>\n",
       "      <td>5.0</td>\n",
       "      <td>NaN</td>\n",
       "      <td>NaN</td>\n",
       "    </tr>\n",
       "    <tr>\n",
       "      <th>2</th>\n",
       "      <td>FEFA Logistics</td>\n",
       "      <td>Trucking company</td>\n",
       "      <td>http://www.fefalogistics.nl/</td>\n",
       "      <td>51.480074</td>\n",
       "      <td>5.446764</td>\n",
       "      <td>Eindhoven</td>\n",
       "      <td>NaN</td>\n",
       "      <td>NaN</td>\n",
       "      <td>NaN</td>\n",
       "      <td>NaN</td>\n",
       "      <td>NaN</td>\n",
       "      <td>NaN</td>\n",
       "      <td>NaN</td>\n",
       "      <td>NaN</td>\n",
       "      <td>NaN</td>\n",
       "      <td>NaN</td>\n",
       "    </tr>\n",
       "    <tr>\n",
       "      <th>3</th>\n",
       "      <td>Dekkers Transport Holland</td>\n",
       "      <td>Trucking company</td>\n",
       "      <td>http://www.dekkerstransport.nl/</td>\n",
       "      <td>51.597249</td>\n",
       "      <td>5.027990</td>\n",
       "      <td>Tilburg</td>\n",
       "      <td>4.6</td>\n",
       "      <td>53.0</td>\n",
       "      <td>Pp1)c</td>\n",
       "      <td>0.0</td>\n",
       "      <td>5.0</td>\n",
       "      <td>a year ago</td>\n",
       "      <td>2022-09-24</td>\n",
       "      <td>5.0</td>\n",
       "      <td>Best employer ever. Worked there for approxima...</td>\n",
       "      <td>ENG</td>\n",
       "    </tr>\n",
       "    <tr>\n",
       "      <th>4</th>\n",
       "      <td>Dekkers Transport Holland</td>\n",
       "      <td>Trucking company</td>\n",
       "      <td>http://www.dekkerstransport.nl/</td>\n",
       "      <td>51.597249</td>\n",
       "      <td>5.027990</td>\n",
       "      <td>Tilburg</td>\n",
       "      <td>4.6</td>\n",
       "      <td>53.0</td>\n",
       "      <td>*nk1l</td>\n",
       "      <td>0.0</td>\n",
       "      <td>2.0</td>\n",
       "      <td>a year ago</td>\n",
       "      <td>2022-09-24</td>\n",
       "      <td>5.0</td>\n",
       "      <td>better place with very good people everything ...</td>\n",
       "      <td>ENG</td>\n",
       "    </tr>\n",
       "  </tbody>\n",
       "</table>\n",
       "</div>"
      ],
      "text/plain": [
       "                               name       type_company  \\\n",
       "0  Caretrex warehousing & logistics  Logistics service   \n",
       "1  Caretrex warehousing & logistics  Logistics service   \n",
       "2                    FEFA Logistics   Trucking company   \n",
       "3         Dekkers Transport Holland   Trucking company   \n",
       "4         Dekkers Transport Holland   Trucking company   \n",
       "\n",
       "                           website        lat       lon       city  \\\n",
       "0         http://www.caretrex.com/  51.593721  5.073492    Tilburg   \n",
       "1         http://www.caretrex.com/  51.593721  5.073492    Tilburg   \n",
       "2     http://www.fefalogistics.nl/  51.480074  5.446764  Eindhoven   \n",
       "3  http://www.dekkerstransport.nl/  51.597249  5.027990    Tilburg   \n",
       "4  http://www.dekkerstransport.nl/  51.597249  5.027990    Tilburg   \n",
       "\n",
       "   avg_stars_num  n_reviews_num encoded_user  local_guide  \\\n",
       "0            5.0            2.0        HHpDM          0.0   \n",
       "1            5.0            2.0        dYFWx          0.0   \n",
       "2            NaN            NaN          NaN          NaN   \n",
       "3            4.6           53.0        Pp1)c          0.0   \n",
       "4            4.6           53.0        *nk1l          0.0   \n",
       "\n",
       "   clean_other_review_num published_date  today_date  stars_num  \\\n",
       "0                     4.0    2 years ago  2022-09-24        5.0   \n",
       "1                     1.0    5 years ago  2022-09-24        5.0   \n",
       "2                     NaN            NaN         NaN        NaN   \n",
       "3                     5.0     a year ago  2022-09-24        5.0   \n",
       "4                     2.0     a year ago  2022-09-24        5.0   \n",
       "\n",
       "                                           review_EN original_lang  \n",
       "0                                                NaN           NaN  \n",
       "1                                                NaN           NaN  \n",
       "2                                                NaN           NaN  \n",
       "3  Best employer ever. Worked there for approxima...           ENG  \n",
       "4  better place with very good people everything ...           ENG  "
      ]
     },
     "execution_count": 3,
     "metadata": {},
     "output_type": "execute_result"
    }
   ],
   "source": [
    "# main_dir = \n",
    "Dataset_name = 'TechLabsDataset.csv' \n",
    "DataDictionary_name = 'TechLabsDataset_Dictionary.csv'\n",
    "\n",
    "Dataset = pd.read_csv(os.path.join('./Data/',Dataset_name), index_col = 0)\n",
    "DataDictionary = pd.read_csv(os.path.join('./Data/',DataDictionary_name), index_col = 0)\n",
    "Dataset.head()"
   ]
  },
  {
   "cell_type": "code",
   "execution_count": 4,
   "id": "0aeaec1f",
   "metadata": {},
   "outputs": [
    {
     "data": {
      "text/html": [
       "<div>\n",
       "<style scoped>\n",
       "    .dataframe tbody tr th:only-of-type {\n",
       "        vertical-align: middle;\n",
       "    }\n",
       "\n",
       "    .dataframe tbody tr th {\n",
       "        vertical-align: top;\n",
       "    }\n",
       "\n",
       "    .dataframe thead th {\n",
       "        text-align: right;\n",
       "    }\n",
       "</style>\n",
       "<table border=\"1\" class=\"dataframe\">\n",
       "  <thead>\n",
       "    <tr style=\"text-align: right;\">\n",
       "      <th></th>\n",
       "      <th>review_EN</th>\n",
       "    </tr>\n",
       "  </thead>\n",
       "  <tbody>\n",
       "    <tr>\n",
       "      <th>3</th>\n",
       "      <td>Best employer ever. Worked there for approxima...</td>\n",
       "    </tr>\n",
       "    <tr>\n",
       "      <th>4</th>\n",
       "      <td>better place with very good people everything ...</td>\n",
       "    </tr>\n",
       "    <tr>\n",
       "      <th>5</th>\n",
       "      <td>Nice</td>\n",
       "    </tr>\n",
       "    <tr>\n",
       "      <th>6</th>\n",
       "      <td>Good firm. The staff are very welcoming and f...</td>\n",
       "    </tr>\n",
       "    <tr>\n",
       "      <th>7</th>\n",
       "      <td>Top company, and coffee, so recommended\\n\\n</td>\n",
       "    </tr>\n",
       "  </tbody>\n",
       "</table>\n",
       "</div>"
      ],
      "text/plain": [
       "                                           review_EN\n",
       "3  Best employer ever. Worked there for approxima...\n",
       "4  better place with very good people everything ...\n",
       "5                                               Nice\n",
       "6   Good firm. The staff are very welcoming and f...\n",
       "7        Top company, and coffee, so recommended\\n\\n"
      ]
     },
     "execution_count": 4,
     "metadata": {},
     "output_type": "execute_result"
    }
   ],
   "source": [
    "review_df = pd.DataFrame(Dataset[~Dataset['review_EN'].isnull()]['review_EN'])\n",
    "review_df.head()\n"
   ]
  },
  {
   "cell_type": "code",
   "execution_count": 5,
   "id": "d5d8e532",
   "metadata": {},
   "outputs": [],
   "source": [
    "# find emo\n",
    "def find_emo(text):\n",
    "    # find emoji and add to list\n",
    "    all_emoji = demoji.findall(text)\n",
    "    emo = ''\n",
    "    if len(all_emoji)>0:\n",
    "        for i,j in enumerate(all_emoji):\n",
    "            # list emo\n",
    "            emo = emo+','+all_emoji[j]\n",
    "    return emo\n",
    "\n",
    "\n",
    "# replace emo with empty text\n",
    "def replace_emo(text):\n",
    "    # find emo and replce with empty text\n",
    "    all_emoji = demoji.findall(text)\n",
    "\n",
    "    if len(all_emoji)>0:\n",
    "        for i,j in enumerate(all_emoji):\n",
    "            text = text.replace(j,'')\n",
    "    return text"
   ]
  },
  {
   "cell_type": "code",
   "execution_count": 6,
   "id": "dc1f4fb3",
   "metadata": {},
   "outputs": [],
   "source": [
    "# add emo\n",
    "review_df['emo'] = review_df['review_EN'].apply(lambda x: find_emo(x))"
   ]
  },
  {
   "cell_type": "code",
   "execution_count": 7,
   "id": "267c7c4c",
   "metadata": {},
   "outputs": [
    {
     "data": {
      "text/html": [
       "<div>\n",
       "<style scoped>\n",
       "    .dataframe tbody tr th:only-of-type {\n",
       "        vertical-align: middle;\n",
       "    }\n",
       "\n",
       "    .dataframe tbody tr th {\n",
       "        vertical-align: top;\n",
       "    }\n",
       "\n",
       "    .dataframe thead th {\n",
       "        text-align: right;\n",
       "    }\n",
       "</style>\n",
       "<table border=\"1\" class=\"dataframe\">\n",
       "  <thead>\n",
       "    <tr style=\"text-align: right;\">\n",
       "      <th></th>\n",
       "      <th>review_EN</th>\n",
       "      <th>emo</th>\n",
       "    </tr>\n",
       "  </thead>\n",
       "  <tbody>\n",
       "    <tr>\n",
       "      <th>3</th>\n",
       "      <td>Best employer ever. Worked there for approxima...</td>\n",
       "      <td></td>\n",
       "    </tr>\n",
       "    <tr>\n",
       "      <th>4</th>\n",
       "      <td>better place with very good people everything ...</td>\n",
       "      <td></td>\n",
       "    </tr>\n",
       "    <tr>\n",
       "      <th>5</th>\n",
       "      <td>Nice</td>\n",
       "      <td></td>\n",
       "    </tr>\n",
       "    <tr>\n",
       "      <th>6</th>\n",
       "      <td>Good firm. The staff are very welcoming and f...</td>\n",
       "      <td></td>\n",
       "    </tr>\n",
       "    <tr>\n",
       "      <th>7</th>\n",
       "      <td>Top company, and coffee, so recommended\\n\\n</td>\n",
       "      <td></td>\n",
       "    </tr>\n",
       "  </tbody>\n",
       "</table>\n",
       "</div>"
      ],
      "text/plain": [
       "                                           review_EN emo\n",
       "3  Best employer ever. Worked there for approxima...    \n",
       "4  better place with very good people everything ...    \n",
       "5                                               Nice    \n",
       "6   Good firm. The staff are very welcoming and f...    \n",
       "7        Top company, and coffee, so recommended\\n\\n    "
      ]
     },
     "execution_count": 7,
     "metadata": {},
     "output_type": "execute_result"
    }
   ],
   "source": [
    "review_df.head()"
   ]
  },
  {
   "cell_type": "code",
   "execution_count": 8,
   "id": "59411bd2",
   "metadata": {},
   "outputs": [],
   "source": [
    "# add review with no emo\n",
    "review_df['review_no_emo'] = review_df['review_EN'].apply(lambda x: replace_emo(x))\n",
    "# review_df[review_df['emo']!=''][['review_no_emo','emo']]"
   ]
  },
  {
   "cell_type": "code",
   "execution_count": 9,
   "id": "984c3ba3",
   "metadata": {},
   "outputs": [
    {
     "data": {
      "text/html": [
       "<div>\n",
       "<style scoped>\n",
       "    .dataframe tbody tr th:only-of-type {\n",
       "        vertical-align: middle;\n",
       "    }\n",
       "\n",
       "    .dataframe tbody tr th {\n",
       "        vertical-align: top;\n",
       "    }\n",
       "\n",
       "    .dataframe thead th {\n",
       "        text-align: right;\n",
       "    }\n",
       "</style>\n",
       "<table border=\"1\" class=\"dataframe\">\n",
       "  <thead>\n",
       "    <tr style=\"text-align: right;\">\n",
       "      <th></th>\n",
       "      <th>review_EN</th>\n",
       "      <th>emo</th>\n",
       "      <th>review_no_emo</th>\n",
       "    </tr>\n",
       "  </thead>\n",
       "  <tbody>\n",
       "    <tr>\n",
       "      <th>3</th>\n",
       "      <td>Best employer ever. Worked there for approxima...</td>\n",
       "      <td></td>\n",
       "      <td>Best employer ever. Worked there for approxima...</td>\n",
       "    </tr>\n",
       "    <tr>\n",
       "      <th>4</th>\n",
       "      <td>better place with very good people everything ...</td>\n",
       "      <td></td>\n",
       "      <td>better place with very good people everything ...</td>\n",
       "    </tr>\n",
       "    <tr>\n",
       "      <th>5</th>\n",
       "      <td>Nice</td>\n",
       "      <td></td>\n",
       "      <td>Nice</td>\n",
       "    </tr>\n",
       "    <tr>\n",
       "      <th>6</th>\n",
       "      <td>Good firm. The staff are very welcoming and f...</td>\n",
       "      <td></td>\n",
       "      <td>Good firm. The staff are very welcoming and f...</td>\n",
       "    </tr>\n",
       "    <tr>\n",
       "      <th>7</th>\n",
       "      <td>Top company, and coffee, so recommended\\n\\n</td>\n",
       "      <td></td>\n",
       "      <td>Top company, and coffee, so recommended\\n\\n</td>\n",
       "    </tr>\n",
       "  </tbody>\n",
       "</table>\n",
       "</div>"
      ],
      "text/plain": [
       "                                           review_EN emo  \\\n",
       "3  Best employer ever. Worked there for approxima...       \n",
       "4  better place with very good people everything ...       \n",
       "5                                               Nice       \n",
       "6   Good firm. The staff are very welcoming and f...       \n",
       "7        Top company, and coffee, so recommended\\n\\n       \n",
       "\n",
       "                                       review_no_emo  \n",
       "3  Best employer ever. Worked there for approxima...  \n",
       "4  better place with very good people everything ...  \n",
       "5                                               Nice  \n",
       "6   Good firm. The staff are very welcoming and f...  \n",
       "7        Top company, and coffee, so recommended\\n\\n  "
      ]
     },
     "execution_count": 9,
     "metadata": {},
     "output_type": "execute_result"
    }
   ],
   "source": [
    "review_df.head()"
   ]
  },
  {
   "cell_type": "markdown",
   "id": "17427550",
   "metadata": {},
   "source": [
    "# NLP pre-processing on review_df['review_no_emo']\n"
   ]
  },
  {
   "cell_type": "code",
   "execution_count": 10,
   "id": "510f0781",
   "metadata": {},
   "outputs": [],
   "source": [
    "# get clean lemmas\n",
    "def get_clean_lemma(text):  \n",
    "    text = [token.lemma_ for token in nlp(text.lower()) if\n",
    "                  not token.is_punct\n",
    "                  and not token.is_currency\n",
    "                  and not token.is_digit\n",
    "                  and not token.is_punct\n",
    "    #               and not token.is_oov# is out of vocabulary\n",
    "                  and not token.is_space\n",
    "                  and not token.is_stop\n",
    "                  and not token.like_num\n",
    "                  and not token.pos_ in ['SYM','SPACE',#'ADJ',\n",
    "                                         'SCONJ','PUNCT', 'X', 'ADP',\n",
    "                                         'AUX','CCONJ','DET','INTJ',\n",
    "                                         'NUM','PART','PRON']\n",
    "                          ]\n",
    "    return text\n",
    "\n",
    "\n"
   ]
  },
  {
   "cell_type": "code",
   "execution_count": 11,
   "id": "1fab2921",
   "metadata": {},
   "outputs": [],
   "source": [
    "\n",
    "# check attribute of token in spacy: https://spacy.io/api/token\n",
    "\n",
    "# list of stop words in spacy\n",
    "# spacy_stopwords = spacy.lang.en.stop_words.STOP_WORDS\n",
    "# print('Number of stop words: %d' % len(spacy_stopwords))\n",
    "# print('First ten stop words: %s' % list(spacy_stopwords))\n",
    "\n",
    "nlp = spacy.load(\"en_core_web_sm\")\n",
    "\n",
    "review_df['text_lemmas'] = review_df['review_no_emo'].apply(lambda x: get_clean_lemma(x))\n"
   ]
  },
  {
   "cell_type": "code",
   "execution_count": 12,
   "id": "96b2f854",
   "metadata": {},
   "outputs": [
    {
     "data": {
      "text/html": [
       "<div>\n",
       "<style scoped>\n",
       "    .dataframe tbody tr th:only-of-type {\n",
       "        vertical-align: middle;\n",
       "    }\n",
       "\n",
       "    .dataframe tbody tr th {\n",
       "        vertical-align: top;\n",
       "    }\n",
       "\n",
       "    .dataframe thead th {\n",
       "        text-align: right;\n",
       "    }\n",
       "</style>\n",
       "<table border=\"1\" class=\"dataframe\">\n",
       "  <thead>\n",
       "    <tr style=\"text-align: right;\">\n",
       "      <th></th>\n",
       "      <th>review_EN</th>\n",
       "      <th>emo</th>\n",
       "      <th>review_no_emo</th>\n",
       "      <th>text_lemmas</th>\n",
       "    </tr>\n",
       "  </thead>\n",
       "  <tbody>\n",
       "    <tr>\n",
       "      <th>3</th>\n",
       "      <td>Best employer ever. Worked there for approxima...</td>\n",
       "      <td></td>\n",
       "      <td>Best employer ever. Worked there for approxima...</td>\n",
       "      <td>[good, employer, work, approximately, year, ti...</td>\n",
       "    </tr>\n",
       "    <tr>\n",
       "      <th>4</th>\n",
       "      <td>better place with very good people everything ...</td>\n",
       "      <td></td>\n",
       "      <td>better place with very good people everything ...</td>\n",
       "      <td>[well, place, good, people, perfect]</td>\n",
       "    </tr>\n",
       "    <tr>\n",
       "      <th>5</th>\n",
       "      <td>Nice</td>\n",
       "      <td></td>\n",
       "      <td>Nice</td>\n",
       "      <td>[nice]</td>\n",
       "    </tr>\n",
       "    <tr>\n",
       "      <th>6</th>\n",
       "      <td>Good firm. The staff are very welcoming and f...</td>\n",
       "      <td></td>\n",
       "      <td>Good firm. The staff are very welcoming and f...</td>\n",
       "      <td>[good, firm, staff, welcoming, friendly, thank...</td>\n",
       "    </tr>\n",
       "    <tr>\n",
       "      <th>7</th>\n",
       "      <td>Top company, and coffee, so recommended\\n\\n</td>\n",
       "      <td></td>\n",
       "      <td>Top company, and coffee, so recommended\\n\\n</td>\n",
       "      <td>[company, coffee, recommend]</td>\n",
       "    </tr>\n",
       "  </tbody>\n",
       "</table>\n",
       "</div>"
      ],
      "text/plain": [
       "                                           review_EN emo  \\\n",
       "3  Best employer ever. Worked there for approxima...       \n",
       "4  better place with very good people everything ...       \n",
       "5                                               Nice       \n",
       "6   Good firm. The staff are very welcoming and f...       \n",
       "7        Top company, and coffee, so recommended\\n\\n       \n",
       "\n",
       "                                       review_no_emo  \\\n",
       "3  Best employer ever. Worked there for approxima...   \n",
       "4  better place with very good people everything ...   \n",
       "5                                               Nice   \n",
       "6   Good firm. The staff are very welcoming and f...   \n",
       "7        Top company, and coffee, so recommended\\n\\n   \n",
       "\n",
       "                                         text_lemmas  \n",
       "3  [good, employer, work, approximately, year, ti...  \n",
       "4               [well, place, good, people, perfect]  \n",
       "5                                             [nice]  \n",
       "6  [good, firm, staff, welcoming, friendly, thank...  \n",
       "7                       [company, coffee, recommend]  "
      ]
     },
     "execution_count": 12,
     "metadata": {},
     "output_type": "execute_result"
    }
   ],
   "source": [
    "review_df.head()"
   ]
  },
  {
   "cell_type": "code",
   "execution_count": 13,
   "id": "f4778309",
   "metadata": {},
   "outputs": [],
   "source": [
    "\n",
    "concatenate_all_tokens = sum(review_df['text_lemmas'].tolist(),[])\n",
    "from collections import Counter\n",
    "\n",
    "\n",
    "word_counts = Counter(concatenate_all_tokens)\n"
   ]
  },
  {
   "cell_type": "code",
   "execution_count": 148,
   "id": "735c36a6",
   "metadata": {},
   "outputs": [],
   "source": [
    "word_counts_df = pd.DataFrame.from_dict(word_counts, orient='index').reset_index()\n",
    "word_counts_df.columns = ['word','#']\n",
    "word_counts_df.sort_values('#',ascending = False, inplace = True)\n"
   ]
  },
  {
   "cell_type": "code",
   "execution_count": 149,
   "id": "3e3f46ba",
   "metadata": {},
   "outputs": [],
   "source": [
    "# 'load' 'loading'\n",
    "# 'quickly' 'fast'\n",
    "word_counts_df.loc[word_counts_df['word']=='quickly','word'] = 'fast'\n",
    "word_counts_df.loc[word_counts_df['word']=='load','word'] = 'loading' \n",
    "word_counts_df.loc[word_counts_df['word']=='guy','word'] = 'man'\n",
    "word_counts_df.loc[word_counts_df['word']=='neat','word'] = 'neatly'\n",
    "word_counts_df.loc[word_counts_df['word']=='delivery','word'] = 'deliver'\n",
    "\n",
    "word_counts_df.loc[word_counts_df['word']=='fast','#'] = word_counts_df.loc[word_counts_df['word']=='fast']['#'].sum()\n",
    "word_counts_df.drop_duplicates(inplace = True)\n",
    "word_counts_df.loc[word_counts_df['word']=='loading','#'] = word_counts_df.loc[word_counts_df['word']=='loading']['#'].sum()\n",
    "word_counts_df.drop_duplicates(inplace = True)\n",
    "\n",
    "word_counts_df.loc[word_counts_df['word']=='man','#'] = word_counts_df.loc[word_counts_df['word']=='man']['#'].sum()\n",
    "word_counts_df.drop_duplicates(inplace = True)\n",
    "\n",
    "word_counts_df.loc[word_counts_df['word']=='neatly','#'] = word_counts_df.loc[word_counts_df['word']=='neatly']['#'].sum()\n",
    "word_counts_df.drop_duplicates(inplace = True)\n",
    "\n",
    "word_counts_df.loc[word_counts_df['word']=='deliver','#'] = word_counts_df.loc[word_counts_df['word']=='deliver']['#'].sum()\n",
    "word_counts_df.drop_duplicates(inplace = True)\n",
    "\n"
   ]
  },
  {
   "cell_type": "code",
   "execution_count": 150,
   "id": "0438fcb2",
   "metadata": {},
   "outputs": [],
   "source": [
    "word_counts_df['tag'] = word_counts_df['word'].apply(lambda x: nlp(x)[0].pos_)"
   ]
  },
  {
   "cell_type": "code",
   "execution_count": 151,
   "id": "619d535b",
   "metadata": {},
   "outputs": [],
   "source": [
    "word_counts_df = word_counts_df[~word_counts_df['tag'].isin(['SYM','SPACE','ADJ',\n",
    "                                         'SCONJ','PUNCT', 'X', 'ADP',\n",
    "                                         'AUX','CCONJ','DET','INTJ',\n",
    "                                         'NUM','PART','PRON','PROPN'])]\n",
    "\n"
   ]
  },
  {
   "cell_type": "code",
   "execution_count": 152,
   "id": "770c23b7",
   "metadata": {},
   "outputs": [
    {
     "name": "stderr",
     "output_type": "stream",
     "text": [
      "/var/folders/6d/dgjgypyn24x1lv9vc5gs38p00000gp/T/ipykernel_1160/3723777276.py:15: UserWarning:\n",
      "\n",
      "\n",
      "\n",
      "`distplot` is a deprecated function and will be removed in seaborn v0.14.0.\n",
      "\n",
      "Please adapt your code to use either `displot` (a figure-level function with\n",
      "similar flexibility) or `histplot` (an axes-level function for histograms).\n",
      "\n",
      "For a guide to updating your code to use the new functions, please see\n",
      "https://gist.github.com/mwaskom/de44147ed2974457ad6372750bbe5751\n",
      "\n",
      "\n"
     ]
    },
    {
     "data": {
      "text/plain": [
       "(0.0, 200.0)"
      ]
     },
     "execution_count": 152,
     "metadata": {},
     "output_type": "execute_result"
    },
    {
     "data": {
      "image/png": "[encoded data removed]",
      "text/plain": [
       "<Figure size 1080x360 with 2 Axes>"
      ]
     },
     "metadata": {
      "needs_background": "light"
     },
     "output_type": "display_data"
    }
   ],
   "source": [
    "fig,ax = plt.subplots(1,2, figsize = (15,5))\n",
    "sns.ecdfplot(data = word_counts_df,x = '#',ax = ax[0])\n",
    "thr_words = []\n",
    "for line in ax[0].get_lines():\n",
    "        \n",
    "    for y_special in [0.5, 0.7, 0.8, 0.9, 0.95, 0.98, 0.99]:\n",
    "        x, y = line.get_data()\n",
    "        ind = np.argwhere(y >= y_special)[0, 0]  # first index where y is larger than y_special\n",
    "        # x[ind] is the desired x-value\n",
    "        ax[0].text(x[ind], y_special, f' {x[ind]:.0f}', ha='left', va='top') # maybe color=line.get_color()\n",
    "        ax[0].axhline(y_special, linestyle='--', color='#cfcfcf', lw=2, alpha=0.75)\n",
    "        thr_words.append(x[ind])\n",
    "ax[0].set_xlim([0,200])\n",
    "\n",
    "sns.distplot(x = word_counts_df['#'], bins = 200,ax = ax[1])\n",
    "ax[1].set_xlim([0,200])\n",
    "\n",
    "# ax[0].axline((0, 0.5), slope=0, color='r')\n",
    "# ax[0].axline((0, 0.8), slope=0, color='r')\n",
    "# ax[0].axline((10, 0), slope=90, color='r')\n",
    "# ax[0].axline((20, 0), slope=90, color='r')"
   ]
  },
  {
   "cell_type": "code",
   "execution_count": 153,
   "id": "e8775596",
   "metadata": {},
   "outputs": [
    {
     "data": {
      "text/plain": [
       "[2.0, 4.0, 7.0, 16.0, 30.0, 79.0, 139.0]"
      ]
     },
     "execution_count": 153,
     "metadata": {},
     "output_type": "execute_result"
    }
   ],
   "source": [
    "thr_words"
   ]
  },
  {
   "cell_type": "code",
   "execution_count": 281,
   "id": "92cae77e",
   "metadata": {},
   "outputs": [
    {
     "data": {
      "text/plain": [
       "139.0"
      ]
     },
     "execution_count": 281,
     "metadata": {},
     "output_type": "execute_result"
    }
   ],
   "source": [
    "thr_words[6]"
   ]
  },
  {
   "cell_type": "code",
   "execution_count": 154,
   "id": "3616d059",
   "metadata": {},
   "outputs": [
    {
     "name": "stdout",
     "output_type": "stream",
     "text": [
      "['ADV' 'NOUN' 'VERB']\n"
     ]
    }
   ],
   "source": [
    "print(np.unique(word_counts_df['tag']))\n"
   ]
  },
  {
   "cell_type": "code",
   "execution_count": 289,
   "id": "dff1a151",
   "metadata": {},
   "outputs": [],
   "source": [
    "freq_thr = thr_words[6]\n",
    "most_freq_df = pd.DataFrame([])\n",
    "\n",
    "for i in np.unique(word_counts_df['tag']):\n",
    "    most_freq_df = pd.concat([most_freq_df,\n",
    "                               word_counts_df[(word_counts_df['tag']==i) & (word_counts_df['#']>=freq_thr)]],\n",
    "                             axis = 0)\n"
   ]
  },
  {
   "cell_type": "code",
   "execution_count": 290,
   "id": "39a16f0c",
   "metadata": {},
   "outputs": [
    {
     "data": {
      "text/plain": [
       "(26, 3)"
      ]
     },
     "execution_count": 290,
     "metadata": {},
     "output_type": "execute_result"
    }
   ],
   "source": [
    "most_freq_df.shape"
   ]
  },
  {
   "cell_type": "code",
   "execution_count": 291,
   "id": "8947a102",
   "metadata": {},
   "outputs": [],
   "source": [
    "\n",
    "remove =['spreuwel','mediamarkt','hornbach','netherlands','english',\n",
    "         'nl','eindhoven','germany','deliverer','quantum','ea','logistic',\n",
    "         'company','pm','p.m.','am','a.m.','work','super','thank','thing']\n",
    "most_freq_df = most_freq_df[~most_freq_df['word'].isin(remove)]\n",
    "most_freq_df.loc[most_freq_df['word']=='cmr','tag'] = 'NOUN'\n",
    "most_freq_df.loc[most_freq_df['word']=='minute','tag'] = 'NOUN'"
   ]
  },
  {
   "cell_type": "code",
   "execution_count": 292,
   "id": "418c23d0",
   "metadata": {},
   "outputs": [
    {
     "data": {
      "text/html": [
       "<div>\n",
       "<style scoped>\n",
       "    .dataframe tbody tr th:only-of-type {\n",
       "        vertical-align: middle;\n",
       "    }\n",
       "\n",
       "    .dataframe tbody tr th {\n",
       "        vertical-align: top;\n",
       "    }\n",
       "\n",
       "    .dataframe thead th {\n",
       "        text-align: right;\n",
       "    }\n",
       "</style>\n",
       "<table border=\"1\" class=\"dataframe\">\n",
       "  <thead>\n",
       "    <tr style=\"text-align: right;\">\n",
       "      <th></th>\n",
       "      <th>word</th>\n",
       "      <th>#</th>\n",
       "      <th>tag</th>\n",
       "    </tr>\n",
       "  </thead>\n",
       "  <tbody>\n",
       "  </tbody>\n",
       "</table>\n",
       "</div>"
      ],
      "text/plain": [
       "Empty DataFrame\n",
       "Columns: [word, #, tag]\n",
       "Index: []"
      ]
     },
     "execution_count": 292,
     "metadata": {},
     "output_type": "execute_result"
    }
   ],
   "source": [
    "most_freq_df.loc[most_freq_df['word']=='cmr']"
   ]
  },
  {
   "cell_type": "code",
   "execution_count": 293,
   "id": "d5f0f109",
   "metadata": {},
   "outputs": [
    {
     "data": {
      "text/plain": [
       "23"
      ]
     },
     "execution_count": 293,
     "metadata": {},
     "output_type": "execute_result"
    }
   ],
   "source": [
    "most_freq_df['tag'].value_counts().sum()"
   ]
  },
  {
   "cell_type": "code",
   "execution_count": 294,
   "id": "374b8c56",
   "metadata": {},
   "outputs": [
    {
     "data": {
      "text/plain": [
       "NOUN    14\n",
       "VERB     6\n",
       "ADV      3\n",
       "Name: tag, dtype: int64"
      ]
     },
     "execution_count": 294,
     "metadata": {},
     "output_type": "execute_result"
    }
   ],
   "source": [
    "# aggregate words having same count\n",
    "agg_words_df = pd.DataFrame([])\n",
    "for i in np.unique(most_freq_df['tag']):\n",
    "    aggre_df = pd.DataFrame(most_freq_df[most_freq_df['tag']==i].groupby('#')['word'].apply(list))\n",
    "    aggre_df['#'] = np.unique(most_freq_df[most_freq_df['tag']==i]['#'])\n",
    "    aggre_df['tag'] = i\n",
    "    agg_words_df = pd.concat([agg_words_df,aggre_df], axis= 0)\n",
    "agg_words_df['word_list'] = agg_words_df['word'].apply(lambda x: ', '.join(map(str,x)))\n",
    "agg_words_df['tag'].value_counts() "
   ]
  },
  {
   "cell_type": "code",
   "execution_count": 295,
   "id": "c4078abe",
   "metadata": {},
   "outputs": [
    {
     "data": {
      "text/html": [
       "<div>\n",
       "<style scoped>\n",
       "    .dataframe tbody tr th:only-of-type {\n",
       "        vertical-align: middle;\n",
       "    }\n",
       "\n",
       "    .dataframe tbody tr th {\n",
       "        vertical-align: top;\n",
       "    }\n",
       "\n",
       "    .dataframe thead th {\n",
       "        text-align: right;\n",
       "    }\n",
       "</style>\n",
       "<table border=\"1\" class=\"dataframe\">\n",
       "  <thead>\n",
       "    <tr style=\"text-align: right;\">\n",
       "      <th></th>\n",
       "      <th>word</th>\n",
       "      <th>#</th>\n",
       "      <th>tag</th>\n",
       "      <th>word_list</th>\n",
       "    </tr>\n",
       "    <tr>\n",
       "      <th>#</th>\n",
       "      <th></th>\n",
       "      <th></th>\n",
       "      <th></th>\n",
       "      <th></th>\n",
       "    </tr>\n",
       "  </thead>\n",
       "  <tbody>\n",
       "    <tr>\n",
       "      <th>152</th>\n",
       "      <td>[long]</td>\n",
       "      <td>152</td>\n",
       "      <td>ADV</td>\n",
       "      <td>long</td>\n",
       "    </tr>\n",
       "    <tr>\n",
       "      <th>153</th>\n",
       "      <td>[neatly]</td>\n",
       "      <td>153</td>\n",
       "      <td>ADV</td>\n",
       "      <td>neatly</td>\n",
       "    </tr>\n",
       "    <tr>\n",
       "      <th>575</th>\n",
       "      <td>[fast]</td>\n",
       "      <td>575</td>\n",
       "      <td>ADV</td>\n",
       "      <td>fast</td>\n",
       "    </tr>\n",
       "    <tr>\n",
       "      <th>144</th>\n",
       "      <td>[toilet]</td>\n",
       "      <td>144</td>\n",
       "      <td>NOUN</td>\n",
       "      <td>toilet</td>\n",
       "    </tr>\n",
       "    <tr>\n",
       "      <th>156</th>\n",
       "      <td>[coffee]</td>\n",
       "      <td>156</td>\n",
       "      <td>NOUN</td>\n",
       "      <td>coffee</td>\n",
       "    </tr>\n",
       "    <tr>\n",
       "      <th>160</th>\n",
       "      <td>[man]</td>\n",
       "      <td>160</td>\n",
       "      <td>NOUN</td>\n",
       "      <td>man</td>\n",
       "    </tr>\n",
       "    <tr>\n",
       "      <th>163</th>\n",
       "      <td>[place]</td>\n",
       "      <td>163</td>\n",
       "      <td>NOUN</td>\n",
       "      <td>place</td>\n",
       "    </tr>\n",
       "    <tr>\n",
       "      <th>167</th>\n",
       "      <td>[office]</td>\n",
       "      <td>167</td>\n",
       "      <td>NOUN</td>\n",
       "      <td>office</td>\n",
       "    </tr>\n",
       "    <tr>\n",
       "      <th>189</th>\n",
       "      <td>[transport]</td>\n",
       "      <td>189</td>\n",
       "      <td>NOUN</td>\n",
       "      <td>transport</td>\n",
       "    </tr>\n",
       "    <tr>\n",
       "      <th>190</th>\n",
       "      <td>[order]</td>\n",
       "      <td>190</td>\n",
       "      <td>NOUN</td>\n",
       "      <td>order</td>\n",
       "    </tr>\n",
       "    <tr>\n",
       "      <th>196</th>\n",
       "      <td>[hour]</td>\n",
       "      <td>196</td>\n",
       "      <td>NOUN</td>\n",
       "      <td>hour</td>\n",
       "    </tr>\n",
       "    <tr>\n",
       "      <th>226</th>\n",
       "      <td>[staff]</td>\n",
       "      <td>226</td>\n",
       "      <td>NOUN</td>\n",
       "      <td>staff</td>\n",
       "    </tr>\n",
       "    <tr>\n",
       "      <th>228</th>\n",
       "      <td>[unload]</td>\n",
       "      <td>228</td>\n",
       "      <td>NOUN</td>\n",
       "      <td>unload</td>\n",
       "    </tr>\n",
       "    <tr>\n",
       "      <th>235</th>\n",
       "      <td>[day]</td>\n",
       "      <td>235</td>\n",
       "      <td>NOUN</td>\n",
       "      <td>day</td>\n",
       "    </tr>\n",
       "    <tr>\n",
       "      <th>250</th>\n",
       "      <td>[people]</td>\n",
       "      <td>250</td>\n",
       "      <td>NOUN</td>\n",
       "      <td>people</td>\n",
       "    </tr>\n",
       "    <tr>\n",
       "      <th>386</th>\n",
       "      <td>[service]</td>\n",
       "      <td>386</td>\n",
       "      <td>NOUN</td>\n",
       "      <td>service</td>\n",
       "    </tr>\n",
       "    <tr>\n",
       "      <th>529</th>\n",
       "      <td>[time]</td>\n",
       "      <td>529</td>\n",
       "      <td>NOUN</td>\n",
       "      <td>time</td>\n",
       "    </tr>\n",
       "    <tr>\n",
       "      <th>139</th>\n",
       "      <td>[help]</td>\n",
       "      <td>139</td>\n",
       "      <td>VERB</td>\n",
       "      <td>help</td>\n",
       "    </tr>\n",
       "    <tr>\n",
       "      <th>167</th>\n",
       "      <td>[call]</td>\n",
       "      <td>167</td>\n",
       "      <td>VERB</td>\n",
       "      <td>call</td>\n",
       "    </tr>\n",
       "    <tr>\n",
       "      <th>199</th>\n",
       "      <td>[come]</td>\n",
       "      <td>199</td>\n",
       "      <td>VERB</td>\n",
       "      <td>come</td>\n",
       "    </tr>\n",
       "    <tr>\n",
       "      <th>242</th>\n",
       "      <td>[wait]</td>\n",
       "      <td>242</td>\n",
       "      <td>VERB</td>\n",
       "      <td>wait</td>\n",
       "    </tr>\n",
       "    <tr>\n",
       "      <th>460</th>\n",
       "      <td>[loading]</td>\n",
       "      <td>460</td>\n",
       "      <td>VERB</td>\n",
       "      <td>loading</td>\n",
       "    </tr>\n",
       "    <tr>\n",
       "      <th>811</th>\n",
       "      <td>[deliver]</td>\n",
       "      <td>811</td>\n",
       "      <td>VERB</td>\n",
       "      <td>deliver</td>\n",
       "    </tr>\n",
       "  </tbody>\n",
       "</table>\n",
       "</div>"
      ],
      "text/plain": [
       "            word    #   tag  word_list\n",
       "#                                     \n",
       "152       [long]  152   ADV       long\n",
       "153     [neatly]  153   ADV     neatly\n",
       "575       [fast]  575   ADV       fast\n",
       "144     [toilet]  144  NOUN     toilet\n",
       "156     [coffee]  156  NOUN     coffee\n",
       "160        [man]  160  NOUN        man\n",
       "163      [place]  163  NOUN      place\n",
       "167     [office]  167  NOUN     office\n",
       "189  [transport]  189  NOUN  transport\n",
       "190      [order]  190  NOUN      order\n",
       "196       [hour]  196  NOUN       hour\n",
       "226      [staff]  226  NOUN      staff\n",
       "228     [unload]  228  NOUN     unload\n",
       "235        [day]  235  NOUN        day\n",
       "250     [people]  250  NOUN     people\n",
       "386    [service]  386  NOUN    service\n",
       "529       [time]  529  NOUN       time\n",
       "139       [help]  139  VERB       help\n",
       "167       [call]  167  VERB       call\n",
       "199       [come]  199  VERB       come\n",
       "242       [wait]  242  VERB       wait\n",
       "460    [loading]  460  VERB    loading\n",
       "811    [deliver]  811  VERB    deliver"
      ]
     },
     "execution_count": 295,
     "metadata": {},
     "output_type": "execute_result"
    }
   ],
   "source": [
    "agg_words_df"
   ]
  },
  {
   "cell_type": "code",
   "execution_count": 296,
   "id": "8e0cc99a",
   "metadata": {},
   "outputs": [],
   "source": [
    "# https://stackabuse.com/python-for-nlp-tokenization-stemming-and-lemmatization-with-spacy-library/"
   ]
  },
  {
   "cell_type": "code",
   "execution_count": 297,
   "id": "f66d6d0b",
   "metadata": {},
   "outputs": [
    {
     "data": {
      "image/png": "[encoded data removed]",
      "text/plain": [
       "<Figure size 432x288 with 1 Axes>"
      ]
     },
     "metadata": {},
     "output_type": "display_data"
    }
   ],
   "source": [
    "# define Seaborn color palette to use\n",
    "data = agg_words_df[agg_words_df['tag']=='NOUN']['#'].tolist()\n",
    "keys = agg_words_df[agg_words_df['tag']=='NOUN']['word_list'].tolist()\n",
    "\n",
    "\n",
    "palette_color = sns.color_palette('bright')\n",
    "  \n",
    "# plotting data on chart\n",
    "plt.pie(data, labels=keys, colors=palette_color, autopct='%.0f%%')\n",
    "  \n",
    "# displaying chart\n",
    "plt.show()"
   ]
  },
  {
   "cell_type": "code",
   "execution_count": 298,
   "id": "63409c37",
   "metadata": {},
   "outputs": [
    {
     "data": {
      "image/png": "[encoded data removed]",
      "text/plain": [
       "<Figure size 432x288 with 1 Axes>"
      ]
     },
     "metadata": {},
     "output_type": "display_data"
    }
   ],
   "source": [
    "# define Seaborn color palette to use\n",
    "data = agg_words_df[agg_words_df['tag']=='VERB']['#'].tolist()\n",
    "keys = agg_words_df[agg_words_df['tag']=='VERB']['word_list'].tolist()\n",
    "\n",
    "\n",
    "palette_color = sns.color_palette('bright')\n",
    "  \n",
    "# plotting data on chart\n",
    "plt.pie(data, labels=keys, colors=palette_color, autopct='%.0f%%',textprops={'fontsize': 8})\n",
    "  \n",
    "# displaying chart\n",
    "plt.show()"
   ]
  },
  {
   "cell_type": "code",
   "execution_count": 299,
   "id": "d5c8e5ba",
   "metadata": {},
   "outputs": [
    {
     "data": {
      "image/png": "[encoded data removed]",
      "text/plain": [
       "<Figure size 432x288 with 1 Axes>"
      ]
     },
     "metadata": {},
     "output_type": "display_data"
    }
   ],
   "source": [
    "# define Seaborn color palette to use\n",
    "data = agg_words_df[agg_words_df['tag']=='ADV']['#'].tolist()\n",
    "keys = agg_words_df[agg_words_df['tag']=='ADV']['word_list'].tolist()\n",
    "\n",
    "\n",
    "palette_color = sns.color_palette('bright')\n",
    "  \n",
    "# plotting data on chart\n",
    "plt.pie(data, labels=keys, colors=palette_color, autopct='%.0f%%',textprops={'fontsize': 8})\n",
    "  \n",
    "# displaying chart\n",
    "plt.show()"
   ]
  },
  {
   "cell_type": "code",
   "execution_count": 300,
   "id": "4cf4c0df",
   "metadata": {},
   "outputs": [
    {
     "name": "stderr",
     "output_type": "stream",
     "text": [
      "/Users/giu/opt/anaconda3/envs/TOMlogistics/lib/python3.9/site-packages/seaborn/categorical.py:3202: UserWarning:\n",
      "\n",
      "Setting `sharey=False` with `color=None` may cause different levels of the `y` variable to share colors. This will change in a future version.\n",
      "\n"
     ]
    },
    {
     "data": {
      "text/plain": [
       "<seaborn.axisgrid.FacetGrid at 0x7ff07bcf2910>"
      ]
     },
     "execution_count": 300,
     "metadata": {},
     "output_type": "execute_result"
    },
    {
     "data": {
      "image/png": "[encoded data removed]",
      "text/plain": [
       "<Figure size 720x720 with 3 Axes>"
      ]
     },
     "metadata": {
      "needs_background": "light"
     },
     "output_type": "display_data"
    }
   ],
   "source": [
    "sns.catplot(\n",
    "    data=agg_words_df, y=\"word_list\", x=\"#\", col=\"tag\",col_wrap=2,\n",
    "    kind=\"bar\",sharey=False\n",
    ")"
   ]
  },
  {
   "cell_type": "code",
   "execution_count": 301,
   "id": "a23a537a",
   "metadata": {},
   "outputs": [
    {
     "data": {
      "text/plain": [
       "(-0.5, 399.5, 199.5, -0.5)"
      ]
     },
     "execution_count": 301,
     "metadata": {},
     "output_type": "execute_result"
    },
    {
     "data": {
      "image/png": "[encoded data removed]",
      "text/plain": [
       "<Figure size 360x576 with 1 Axes>"
      ]
     },
     "metadata": {
      "needs_background": "light"
     },
     "output_type": "display_data"
    }
   ],
   "source": [
    "most_freq_df.head()\n",
    "freq_dict={}\n",
    "N_words = most_freq_df.shape[0]\n",
    "for i in np.arange(N_words):\n",
    "    freq_dict[most_freq_df['word'].iloc[i]]=most_freq_df['#'].iloc[i]\n",
    "    \n",
    "wc_img = WordCloud(background_color=None,#collocation_threshold=80,mask=wave_mask,\n",
    "               contour_color='white',max_words=N_words,min_word_length=3,\n",
    "               mode =\"RGBA\",collocations=False,repeat=True)#max_font_size = 40,\n",
    "#print(txt_to_use.tolist())\n",
    "wc_img = wc_img.generate_from_frequencies(frequencies=freq_dict)\n",
    "\n",
    "fig,ax =plt.subplots(figsize=(5,8))\n",
    "ax.imshow(wc_img, interpolation='bilinear')\n",
    "ax.axis(\"off\")"
   ]
  },
  {
   "cell_type": "code",
   "execution_count": 302,
   "id": "b4dd473a",
   "metadata": {},
   "outputs": [],
   "source": [
    "def get_rgb_color_list(color_palette,n_colors):\n",
    "    \"\"\"\n",
    "        generate a list of rgb color from color_palette\n",
    "    \n",
    "    \n",
    "    inputs: color_palette,string e.g.'Grays'\n",
    "            n_colors,integer indicating how many colors should be generates\n",
    "    \n",
    "    outputs:\n",
    "            color_list_rgb,list containing color stings e.g. [(255,255,129),(243,198,244),..]\n",
    "            \"\"\"\n",
    "    color_list = sns.color_palette(palette=color_palette, n_colors=n_colors)\n",
    "    color_list=color_list.as_hex()\n",
    "    color_list_rgb =list()\n",
    "    for h in color_list:\n",
    "        color_list_rgb.append(ImageColor.getcolor(h, \"RGB\"))\n",
    "    #color_list_rgb.append([(0,0,0)])\n",
    "    return color_list_rgb\n",
    "\n",
    "def change_image_color(wave_mask,color_rgb,opacity):\n",
    "    \"\"\"\n",
    "        filter colors in image mask and change opacity\n",
    "    \n",
    "    \n",
    "    inputs: wave_mask,matrix (n,m,4)containing colors in rgba\n",
    "            color_rgb,color in rgb e.g.(0,0,0)\n",
    "            pltsize,[width,height] e.g.[400,600] \n",
    "            opacity,float between 0 and 1\n",
    "    outputs:\n",
    "            wave_mask,matrix (n,m,4)containing colors in rgba of the image mask\n",
    "            \"\"\"\n",
    "    red,green,blue,alpha=wave_mask.T\n",
    "    white_areas=(red>128)&(blue>128)&(green>128)\n",
    "    wave_mask[...,:][white_areas.T]=(255,255,255,255)\n",
    "    red,green,blue,alpha=wave_mask.T\n",
    "    white_areas=(red<128)&(blue<128)&(green<128)\n",
    "    wave_mask[...,:][white_areas.T]=color_rgb+(int(225*opacity),)\n",
    "    return wave_mask\n",
    "\n",
    "def plot_wordscloud(image_path,tags,color_mask,pltsize,opacity,colormap_text):\n",
    "    \"\"\"\n",
    "        generate wordscloud visualization compatible with plotly\n",
    "    \n",
    "    \n",
    "    inputs:\n",
    "            image_path, string indicating the path of the image mask to load\n",
    "            tags, dataframe with 'word' and count'#'\n",
    "            color_mask,rgb e.g.(0,0,0)\n",
    "            pltsize,[width,height] e.g.[400,600] \n",
    "            opacity,float between 0 and 1\n",
    "    outputs:\n",
    "            wc_img,image of wordscloud not suitable for plotly -to be used for verification\n",
    "            fig, figure handle suitable for plotly\n",
    "            wave_mask,matrix (n,m,4)containing colors in rgba of the image mask\n",
    "            \"\"\"\n",
    "\n",
    "    \n",
    "    # generate a mask with the input picture\n",
    "    wave_mask = np.array(Image.open(image_path).convert('RGBA'))\n",
    "\n",
    "    #wave_mask=np.insert(wave_mask,1,opacity*np.ones((wave_mask.shape[0],wave_mask.shape[1])),2)\n",
    "    wave_mask=change_image_color(wave_mask,color_mask,opacity)\n",
    "    freq_dict={}\n",
    "    N_words = tags.shape[0]\n",
    "    for i in np.arange(N_words):\n",
    "        freq_dict[tags['word'].iloc[i]]=tags['#'].iloc[i]\n",
    "\n",
    "    \n",
    "    \n",
    "    #generate wordcloud from package\n",
    "    \n",
    "    wc_img = WordCloud(mask=wave_mask,background_color=None,#collocation_threshold=80,\n",
    "                   contour_color='black',max_words=N_words,#min_word_length=3,\n",
    "                   mode =\"RGBA\",repeat=False,colormap = colormap_text)#,max_font_size = 80)#max_font_size = 40,\n",
    "    #print(txt_to_use.tolist())\n",
    "    wc_img = wc_img.generate_from_frequencies(frequencies=freq_dict)\n",
    "    \n",
    "    \n",
    "#    fig,ax =plt.subplots(figsize=(5,8))\n",
    "#    ax.imshow(wc_img, interpolation='bilinear')\n",
    "#    ax.axis(\"off\")\n",
    "\n",
    "    # string, font size, position, orientation and color.\n",
    "    # get wc layout\n",
    "    var_str =[wc_img.layout_[i][0][0] for i in np.arange(len(wc_img.layout_))]#string\n",
    "\n",
    "    var_freq =[wc_img.layout_[i][0][1] for i in np.arange(len(wc_img.layout_))]#frequency\n",
    "    var_size =[wc_img.layout_[i][1] for i in np.arange(len(wc_img.layout_))]#size\n",
    "    var_position =np.asarray([[wc_img.layout_[i][2][0],wc_img.layout_[i][2][1]] for i in np.arange(len(wc_img.layout_))])#position\n",
    "    var_position[:,0]=var_position[:,0]#-0.2*var_position[:,0]#-0.8*np.mean(var_position[:,0])\n",
    "    var_position[:,1]=var_position[:,1]#-0.2*var_position[:,1]#-0.8*np.mean(var_position[:,1])\n",
    "    var_oriet =[wc_img.layout_[i][3] for i in np.arange(len(wc_img.layout_))]#orientation\n",
    "    var_color =[wc_img.layout_[i][4] for i in np.arange(len(wc_img.layout_))]#color\n",
    "    \n",
    "    all_wc=pd.DataFrame([var_str,var_freq,var_size,var_position[:,0],var_position[:,1],var_oriet,var_color]).T\n",
    "    all_wc.columns=['var_str','var_freq','var_size','var_x','var_y','var_oriet','var_color']\n",
    "    \n",
    "    # split words per orienation\n",
    "    idx_or1= np.where(np.asarray(var_oriet)==2)[0]# vertical words\n",
    "    idx_or2= np.where(np.asarray(var_oriet)==None)[0]#orizontal words\n",
    "\n",
    "\n",
    "    layout = go.Layout({'xaxis': {'showgrid': False, 'showticklabels': False, 'zeroline': False},\n",
    "                        'yaxis': {'showgrid': False, 'showticklabels': False, 'zeroline': False}})\n",
    "    #generate wordcloud compatible with plotly\n",
    "    \n",
    "    fig = go.Figure(layout = layout,data =px.imshow(wave_mask))#, \n",
    "    fig.update_traces(hoverinfo='none', hovertemplate='')\n",
    "    #add annotation of vertical text\n",
    "    for i in idx_or1:\n",
    "        fig.add_annotation(y=np.asarray(var_position)[i,0],\n",
    "             x=np.asarray(var_position)[i,1],\n",
    "             text=np.asarray(var_str)[i],\n",
    "             textangle=90,\n",
    "             showarrow=False,\n",
    "             xanchor=\"left\",\n",
    "             yanchor=\"top\",\n",
    "             #clicktoshow='onout',\n",
    "             #captureevents=True,\n",
    "             hovertext='# '+str(tags['#'].loc[tags['word']==np.asarray(var_str)[i]].values[0]),\n",
    "                           font=dict(\n",
    "                    color=np.asarray(var_color)[i],\n",
    "                    size=np.asarray(var_size)[i]+5,\n",
    "                    family='Droid Sans Mono',\n",
    "                    \n",
    "                ))\n",
    "    #add annotation of horizontal text\n",
    "    for i in idx_or2:    \n",
    "        #print(np.asarray(var_str)[i])\n",
    "        fig.add_annotation(y=np.asarray(var_position)[i,0],\n",
    "             x=np.asarray(var_position)[i,1],\n",
    "             text=np.asarray(var_str)[i],\n",
    "             textangle=0,\n",
    "             showarrow=False,\n",
    "             xanchor=\"left\",\n",
    "             yanchor=\"top\",\n",
    "             hovertext='# '+str(tags['#'].loc[tags['word']==np.asarray(var_str)[i]].values[0]),\n",
    "             font=dict(\n",
    "                    color=np.asarray(var_color)[i],\n",
    "                    size=np.asarray(var_size)[i]+5,\n",
    "                    family='Droid Sans Mono'\n",
    "                ))\n",
    "    \n",
    "#     fig.update_traces(textposition='inside')\n",
    "    fig.update_yaxes(autorange=\"reversed\")\n",
    "    fig.update_xaxes(visible=False)\n",
    "    fig.update_yaxes(visible=False)\n",
    "    fig.update_layout(\n",
    "        paper_bgcolor='rgb(255,255,255)',\n",
    "        plot_bgcolor='rgb(255,255,255)', \n",
    "        width=pltsize[0],\n",
    "        height=pltsize[1],\n",
    "        margin=dict(l=1, r=1, t=1, b=1)\n",
    "        )\n",
    "    fig.update_layout(clickmode='select')\n",
    "\n",
    "    \n",
    "    return(wc_img,fig,wave_mask)\n"
   ]
  },
  {
   "cell_type": "code",
   "execution_count": 303,
   "id": "46b972f0",
   "metadata": {},
   "outputs": [
    {
     "data": {
      "application/vnd.plotly.v1+json": {
       "config": {
        "plotlyServerURL": "https://plot.ly"
       },
       "data": [
        {
         "hoverinfo": "none",
         "hovertemplate": "",
         "name": "0",
         "source": "data:image/png;base64,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",
         "type": "image",
         "xaxis": "x",
         "yaxis": "y"
        }
       ],
       "layout": {
        "annotations": [
         {
          "font": {
           "color": "rgb(106, 106, 106)",
           "family": "Droid Sans Mono",
           "size": 20
          },
          "hovertext": "# 235",
          "showarrow": false,
          "text": "day",
          "textangle": 90,
          "x": 96,
          "xanchor": "left",
          "y": 15,
          "yanchor": "top"
         },
         {
          "font": {
           "color": "rgb(12, 12, 12)",
           "family": "Droid Sans Mono",
           "size": 19
          },
          "hovertext": "# 190",
          "showarrow": false,
          "text": "order",
          "textangle": 90,
          "x": 193,
          "xanchor": "left",
          "y": 148,
          "yanchor": "top"
         },
         {
          "font": {
           "color": "rgb(153, 153, 153)",
           "family": "Droid Sans Mono",
           "size": 39
          },
          "hovertext": "# 811",
          "showarrow": false,
          "text": "deliver",
          "textangle": 0,
          "x": 98,
          "xanchor": "left",
          "y": 45,
          "yanchor": "top"
         },
         {
          "font": {
           "color": "rgb(64, 64, 64)",
           "family": "Droid Sans Mono",
           "size": 34
          },
          "hovertext": "# 575",
          "showarrow": false,
          "text": "fast",
          "textangle": 0,
          "x": 179,
          "xanchor": "left",
          "y": 80,
          "yanchor": "top"
         },
         {
          "font": {
           "color": "rgb(46, 46, 46)",
           "family": "Droid Sans Mono",
           "size": 33
          },
          "hovertext": "# 529",
          "showarrow": false,
          "text": "time",
          "textangle": 0,
          "x": 121,
          "xanchor": "left",
          "y": 17,
          "yanchor": "top"
         },
         {
          "font": {
           "color": "rgb(74, 74, 74)",
           "family": "Droid Sans Mono",
           "size": 25
          },
          "hovertext": "# 460",
          "showarrow": false,
          "text": "loading",
          "textangle": 0,
          "x": 98,
          "xanchor": "left",
          "y": 96,
          "yanchor": "top"
         },
         {
          "font": {
           "color": "rgb(13, 13, 13)",
           "family": "Droid Sans Mono",
           "size": 23
          },
          "hovertext": "# 386",
          "showarrow": false,
          "text": "service",
          "textangle": 0,
          "x": 100,
          "xanchor": "left",
          "y": 76,
          "yanchor": "top"
         },
         {
          "font": {
           "color": "rgb(199, 199, 199)",
           "family": "Droid Sans Mono",
           "size": 20
          },
          "hovertext": "# 250",
          "showarrow": false,
          "text": "people",
          "textangle": 0,
          "x": 104,
          "xanchor": "left",
          "y": 131,
          "yanchor": "top"
         },
         {
          "font": {
           "color": "rgb(92, 92, 92)",
           "family": "Droid Sans Mono",
           "size": 20
          },
          "hovertext": "# 242",
          "showarrow": false,
          "text": "wait",
          "textangle": 0,
          "x": 9,
          "xanchor": "left",
          "y": 129,
          "yanchor": "top"
         },
         {
          "font": {
           "color": "rgb(238, 238, 238)",
           "family": "Droid Sans Mono",
           "size": 20
          },
          "hovertext": "# 228",
          "showarrow": false,
          "text": "unload",
          "textangle": 0,
          "x": 188,
          "xanchor": "left",
          "y": 14,
          "yanchor": "top"
         },
         {
          "font": {
           "color": "rgb(19, 19, 19)",
           "family": "Droid Sans Mono",
           "size": 20
          },
          "hovertext": "# 226",
          "showarrow": false,
          "text": "staff",
          "textangle": 0,
          "x": 195,
          "xanchor": "left",
          "y": 102,
          "yanchor": "top"
         },
         {
          "font": {
           "color": "rgb(204, 204, 204)",
           "family": "Droid Sans Mono",
           "size": 19
          },
          "hovertext": "# 199",
          "showarrow": false,
          "text": "come",
          "textangle": 0,
          "x": 114,
          "xanchor": "left",
          "y": 151,
          "yanchor": "top"
         },
         {
          "font": {
           "color": "rgb(233, 233, 233)",
           "family": "Droid Sans Mono",
           "size": 19
          },
          "hovertext": "# 196",
          "showarrow": false,
          "text": "hour",
          "textangle": 0,
          "x": 191,
          "xanchor": "left",
          "y": 37,
          "yanchor": "top"
         },
         {
          "font": {
           "color": "rgb(151, 151, 151)",
           "family": "Droid Sans Mono",
           "size": 15
          },
          "hovertext": "# 189",
          "showarrow": false,
          "text": "transport",
          "textangle": 0,
          "x": 105,
          "xanchor": "left",
          "y": 111,
          "yanchor": "top"
         },
         {
          "font": {
           "color": "rgb(184, 184, 184)",
           "family": "Droid Sans Mono",
           "size": 14
          },
          "hovertext": "# 167",
          "showarrow": false,
          "text": "office",
          "textangle": 0,
          "x": 44,
          "xanchor": "left",
          "y": 119,
          "yanchor": "top"
         },
         {
          "font": {
           "color": "rgb(253, 253, 253)",
           "family": "Droid Sans Mono",
           "size": 14
          },
          "hovertext": "# 167",
          "showarrow": false,
          "text": "call",
          "textangle": 0,
          "x": 199,
          "xanchor": "left",
          "y": 71,
          "yanchor": "top"
         },
         {
          "font": {
           "color": "rgb(110, 110, 110)",
           "family": "Droid Sans Mono",
           "size": 14
          },
          "hovertext": "# 163",
          "showarrow": false,
          "text": "place",
          "textangle": 0,
          "x": 49,
          "xanchor": "left",
          "y": 152,
          "yanchor": "top"
         },
         {
          "font": {
           "color": "rgb(242, 242, 242)",
           "family": "Droid Sans Mono",
           "size": 14
          },
          "hovertext": "# 160",
          "showarrow": false,
          "text": "man",
          "textangle": 0,
          "x": 9,
          "xanchor": "left",
          "y": 160,
          "yanchor": "top"
         },
         {
          "font": {
           "color": "rgb(205, 205, 205)",
           "family": "Droid Sans Mono",
           "size": 14
          },
          "hovertext": "# 156",
          "showarrow": false,
          "text": "coffee",
          "textangle": 0,
          "x": 188,
          "xanchor": "left",
          "y": 114,
          "yanchor": "top"
         },
         {
          "font": {
           "color": "rgb(35, 35, 35)",
           "family": "Droid Sans Mono",
           "size": 14
          },
          "hovertext": "# 153",
          "showarrow": false,
          "text": "neatly",
          "textangle": 0,
          "x": 45,
          "xanchor": "left",
          "y": 128,
          "yanchor": "top"
         },
         {
          "font": {
           "color": "rgb(90, 90, 90)",
           "family": "Droid Sans Mono",
           "size": 14
          },
          "hovertext": "# 152",
          "showarrow": false,
          "text": "long",
          "textangle": 0,
          "x": 48,
          "xanchor": "left",
          "y": 174,
          "yanchor": "top"
         },
         {
          "font": {
           "color": "rgb(121, 121, 121)",
           "family": "Droid Sans Mono",
           "size": 14
          },
          "hovertext": "# 144",
          "showarrow": false,
          "text": "toilet",
          "textangle": 0,
          "x": 212,
          "xanchor": "left",
          "y": 29,
          "yanchor": "top"
         },
         {
          "font": {
           "color": "rgb(101, 101, 101)",
           "family": "Droid Sans Mono",
           "size": 14
          },
          "hovertext": "# 139",
          "showarrow": false,
          "text": "help",
          "textangle": 0,
          "x": 8,
          "xanchor": "left",
          "y": 145,
          "yanchor": "top"
         }
        ],
        "clickmode": "select",
        "height": 500,
        "margin": {
         "b": 1,
         "l": 1,
         "r": 1,
         "t": 1
        },
        "paper_bgcolor": "rgb(255,255,255)",
        "plot_bgcolor": "rgb(255,255,255)",
        "template": {
         "data": {
          "bar": [
           {
            "error_x": {
             "color": "#2a3f5f"
            },
            "error_y": {
             "color": "#2a3f5f"
            },
            "marker": {
             "line": {
              "color": "#E5ECF6",
              "width": 0.5
             },
             "pattern": {
              "fillmode": "overlay",
              "size": 10,
              "solidity": 0.2
             }
            },
            "type": "bar"
           }
          ],
          "barpolar": [
           {
            "marker": {
             "line": {
              "color": "#E5ECF6",
              "width": 0.5
             },
             "pattern": {
              "fillmode": "overlay",
              "size": 10,
              "solidity": 0.2
             }
            },
            "type": "barpolar"
           }
          ],
          "carpet": [
           {
            "aaxis": {
             "endlinecolor": "#2a3f5f",
             "gridcolor": "white",
             "linecolor": "white",
             "minorgridcolor": "white",
             "startlinecolor": "#2a3f5f"
            },
            "baxis": {
             "endlinecolor": "#2a3f5f",
             "gridcolor": "white",
             "linecolor": "white",
             "minorgridcolor": "white",
             "startlinecolor": "#2a3f5f"
            },
            "type": "carpet"
           }
          ],
          "choropleth": [
           {
            "colorbar": {
             "outlinewidth": 0,
             "ticks": ""
            },
            "type": "choropleth"
           }
          ],
          "contour": [
           {
            "colorbar": {
             "outlinewidth": 0,
             "ticks": ""
            },
            "colorscale": [
             [
              0,
              "#0d0887"
             ],
             [
              0.1111111111111111,
              "#46039f"
             ],
             [
              0.2222222222222222,
              "#7201a8"
             ],
             [
              0.3333333333333333,
              "#9c179e"
             ],
             [
              0.4444444444444444,
              "#bd3786"
             ],
             [
              0.5555555555555556,
              "#d8576b"
             ],
             [
              0.6666666666666666,
              "#ed7953"
             ],
             [
              0.7777777777777778,
              "#fb9f3a"
             ],
             [
              0.8888888888888888,
              "#fdca26"
             ],
             [
              1,
              "#f0f921"
             ]
            ],
            "type": "contour"
           }
          ],
          "contourcarpet": [
           {
            "colorbar": {
             "outlinewidth": 0,
             "ticks": ""
            },
            "type": "contourcarpet"
           }
          ],
          "heatmap": [
           {
            "colorbar": {
             "outlinewidth": 0,
             "ticks": ""
            },
            "colorscale": [
             [
              0,
              "#0d0887"
             ],
             [
              0.1111111111111111,
              "#46039f"
             ],
             [
              0.2222222222222222,
              "#7201a8"
             ],
             [
              0.3333333333333333,
              "#9c179e"
             ],
             [
              0.4444444444444444,
              "#bd3786"
             ],
             [
              0.5555555555555556,
              "#d8576b"
             ],
             [
              0.6666666666666666,
              "#ed7953"
             ],
             [
              0.7777777777777778,
              "#fb9f3a"
             ],
             [
              0.8888888888888888,
              "#fdca26"
             ],
             [
              1,
              "#f0f921"
             ]
            ],
            "type": "heatmap"
           }
          ],
          "heatmapgl": [
           {
            "colorbar": {
             "outlinewidth": 0,
             "ticks": ""
            },
            "colorscale": [
             [
              0,
              "#0d0887"
             ],
             [
              0.1111111111111111,
              "#46039f"
             ],
             [
              0.2222222222222222,
              "#7201a8"
             ],
             [
              0.3333333333333333,
              "#9c179e"
             ],
             [
              0.4444444444444444,
              "#bd3786"
             ],
             [
              0.5555555555555556,
              "#d8576b"
             ],
             [
              0.6666666666666666,
              "#ed7953"
             ],
             [
              0.7777777777777778,
              "#fb9f3a"
             ],
             [
              0.8888888888888888,
              "#fdca26"
             ],
             [
              1,
              "#f0f921"
             ]
            ],
            "type": "heatmapgl"
           }
          ],
          "histogram": [
           {
            "marker": {
             "pattern": {
              "fillmode": "overlay",
              "size": 10,
              "solidity": 0.2
             }
            },
            "type": "histogram"
           }
          ],
          "histogram2d": [
           {
            "colorbar": {
             "outlinewidth": 0,
             "ticks": ""
            },
            "colorscale": [
             [
              0,
              "#0d0887"
             ],
             [
              0.1111111111111111,
              "#46039f"
             ],
             [
              0.2222222222222222,
              "#7201a8"
             ],
             [
              0.3333333333333333,
              "#9c179e"
             ],
             [
              0.4444444444444444,
              "#bd3786"
             ],
             [
              0.5555555555555556,
              "#d8576b"
             ],
             [
              0.6666666666666666,
              "#ed7953"
             ],
             [
              0.7777777777777778,
              "#fb9f3a"
             ],
             [
              0.8888888888888888,
              "#fdca26"
             ],
             [
              1,
              "#f0f921"
             ]
            ],
            "type": "histogram2d"
           }
          ],
          "histogram2dcontour": [
           {
            "colorbar": {
             "outlinewidth": 0,
             "ticks": ""
            },
            "colorscale": [
             [
              0,
              "#0d0887"
             ],
             [
              0.1111111111111111,
              "#46039f"
             ],
             [
              0.2222222222222222,
              "#7201a8"
             ],
             [
              0.3333333333333333,
              "#9c179e"
             ],
             [
              0.4444444444444444,
              "#bd3786"
             ],
             [
              0.5555555555555556,
              "#d8576b"
             ],
             [
              0.6666666666666666,
              "#ed7953"
             ],
             [
              0.7777777777777778,
              "#fb9f3a"
             ],
             [
              0.8888888888888888,
              "#fdca26"
             ],
             [
              1,
              "#f0f921"
             ]
            ],
            "type": "histogram2dcontour"
           }
          ],
          "mesh3d": [
           {
            "colorbar": {
             "outlinewidth": 0,
             "ticks": ""
            },
            "type": "mesh3d"
           }
          ],
          "parcoords": [
           {
            "line": {
             "colorbar": {
              "outlinewidth": 0,
              "ticks": ""
             }
            },
            "type": "parcoords"
           }
          ],
          "pie": [
           {
            "automargin": true,
            "type": "pie"
           }
          ],
          "scatter": [
           {
            "fillpattern": {
             "fillmode": "overlay",
             "size": 10,
             "solidity": 0.2
            },
            "type": "scatter"
           }
          ],
          "scatter3d": [
           {
            "line": {
             "colorbar": {
              "outlinewidth": 0,
              "ticks": ""
             }
            },
            "marker": {
             "colorbar": {
              "outlinewidth": 0,
              "ticks": ""
             }
            },
            "type": "scatter3d"
           }
          ],
          "scattercarpet": [
           {
            "marker": {
             "colorbar": {
              "outlinewidth": 0,
              "ticks": ""
             }
            },
            "type": "scattercarpet"
           }
          ],
          "scattergeo": [
           {
            "marker": {
             "colorbar": {
              "outlinewidth": 0,
              "ticks": ""
             }
            },
            "type": "scattergeo"
           }
          ],
          "scattergl": [
           {
            "marker": {
             "colorbar": {
              "outlinewidth": 0,
              "ticks": ""
             }
            },
            "type": "scattergl"
           }
          ],
          "scattermapbox": [
           {
            "marker": {
             "colorbar": {
              "outlinewidth": 0,
              "ticks": ""
             }
            },
            "type": "scattermapbox"
           }
          ],
          "scatterpolar": [
           {
            "marker": {
             "colorbar": {
              "outlinewidth": 0,
              "ticks": ""
             }
            },
            "type": "scatterpolar"
           }
          ],
          "scatterpolargl": [
           {
            "marker": {
             "colorbar": {
              "outlinewidth": 0,
              "ticks": ""
             }
            },
            "type": "scatterpolargl"
           }
          ],
          "scatterternary": [
           {
            "marker": {
             "colorbar": {
              "outlinewidth": 0,
              "ticks": ""
             }
            },
            "type": "scatterternary"
           }
          ],
          "surface": [
           {
            "colorbar": {
             "outlinewidth": 0,
             "ticks": ""
            },
            "colorscale": [
             [
              0,
              "#0d0887"
             ],
             [
              0.1111111111111111,
              "#46039f"
             ],
             [
              0.2222222222222222,
              "#7201a8"
             ],
             [
              0.3333333333333333,
              "#9c179e"
             ],
             [
              0.4444444444444444,
              "#bd3786"
             ],
             [
              0.5555555555555556,
              "#d8576b"
             ],
             [
              0.6666666666666666,
              "#ed7953"
             ],
             [
              0.7777777777777778,
              "#fb9f3a"
             ],
             [
              0.8888888888888888,
              "#fdca26"
             ],
             [
              1,
              "#f0f921"
             ]
            ],
            "type": "surface"
           }
          ],
          "table": [
           {
            "cells": {
             "fill": {
              "color": "#EBF0F8"
             },
             "line": {
              "color": "white"
             }
            },
            "header": {
             "fill": {
              "color": "#C8D4E3"
             },
             "line": {
              "color": "white"
             }
            },
            "type": "table"
           }
          ]
         },
         "layout": {
          "annotationdefaults": {
           "arrowcolor": "#2a3f5f",
           "arrowhead": 0,
           "arrowwidth": 1
          },
          "autotypenumbers": "strict",
          "coloraxis": {
           "colorbar": {
            "outlinewidth": 0,
            "ticks": ""
           }
          },
          "colorscale": {
           "diverging": [
            [
             0,
             "#8e0152"
            ],
            [
             0.1,
             "#c51b7d"
            ],
            [
             0.2,
             "#de77ae"
            ],
            [
             0.3,
             "#f1b6da"
            ],
            [
             0.4,
             "#fde0ef"
            ],
            [
             0.5,
             "#f7f7f7"
            ],
            [
             0.6,
             "#e6f5d0"
            ],
            [
             0.7,
             "#b8e186"
            ],
            [
             0.8,
             "#7fbc41"
            ],
            [
             0.9,
             "#4d9221"
            ],
            [
             1,
             "#276419"
            ]
           ],
           "sequential": [
            [
             0,
             "#0d0887"
            ],
            [
             0.1111111111111111,
             "#46039f"
            ],
            [
             0.2222222222222222,
             "#7201a8"
            ],
            [
             0.3333333333333333,
             "#9c179e"
            ],
            [
             0.4444444444444444,
             "#bd3786"
            ],
            [
             0.5555555555555556,
             "#d8576b"
            ],
            [
             0.6666666666666666,
             "#ed7953"
            ],
            [
             0.7777777777777778,
             "#fb9f3a"
            ],
            [
             0.8888888888888888,
             "#fdca26"
            ],
            [
             1,
             "#f0f921"
            ]
           ],
           "sequentialminus": [
            [
             0,
             "#0d0887"
            ],
            [
             0.1111111111111111,
             "#46039f"
            ],
            [
             0.2222222222222222,
             "#7201a8"
            ],
            [
             0.3333333333333333,
             "#9c179e"
            ],
            [
             0.4444444444444444,
             "#bd3786"
            ],
            [
             0.5555555555555556,
             "#d8576b"
            ],
            [
             0.6666666666666666,
             "#ed7953"
            ],
            [
             0.7777777777777778,
             "#fb9f3a"
            ],
            [
             0.8888888888888888,
             "#fdca26"
            ],
            [
             1,
             "#f0f921"
            ]
           ]
          },
          "colorway": [
           "#636efa",
           "#EF553B",
           "#00cc96",
           "#ab63fa",
           "#FFA15A",
           "#19d3f3",
           "#FF6692",
           "#B6E880",
           "#FF97FF",
           "#FECB52"
          ],
          "font": {
           "color": "#2a3f5f"
          },
          "geo": {
           "bgcolor": "white",
           "lakecolor": "white",
           "landcolor": "#E5ECF6",
           "showlakes": true,
           "showland": true,
           "subunitcolor": "white"
          },
          "hoverlabel": {
           "align": "left"
          },
          "hovermode": "closest",
          "mapbox": {
           "style": "light"
          },
          "paper_bgcolor": "white",
          "plot_bgcolor": "#E5ECF6",
          "polar": {
           "angularaxis": {
            "gridcolor": "white",
            "linecolor": "white",
            "ticks": ""
           },
           "bgcolor": "#E5ECF6",
           "radialaxis": {
            "gridcolor": "white",
            "linecolor": "white",
            "ticks": ""
           }
          },
          "scene": {
           "xaxis": {
            "backgroundcolor": "#E5ECF6",
            "gridcolor": "white",
            "gridwidth": 2,
            "linecolor": "white",
            "showbackground": true,
            "ticks": "",
            "zerolinecolor": "white"
           },
           "yaxis": {
            "backgroundcolor": "#E5ECF6",
            "gridcolor": "white",
            "gridwidth": 2,
            "linecolor": "white",
            "showbackground": true,
            "ticks": "",
            "zerolinecolor": "white"
           },
           "zaxis": {
            "backgroundcolor": "#E5ECF6",
            "gridcolor": "white",
            "gridwidth": 2,
            "linecolor": "white",
            "showbackground": true,
            "ticks": "",
            "zerolinecolor": "white"
           }
          },
          "shapedefaults": {
           "line": {
            "color": "#2a3f5f"
           }
          },
          "ternary": {
           "aaxis": {
            "gridcolor": "white",
            "linecolor": "white",
            "ticks": ""
           },
           "baxis": {
            "gridcolor": "white",
            "linecolor": "white",
            "ticks": ""
           },
           "bgcolor": "#E5ECF6",
           "caxis": {
            "gridcolor": "white",
            "linecolor": "white",
            "ticks": ""
           }
          },
          "title": {
           "x": 0.05
          },
          "xaxis": {
           "automargin": true,
           "gridcolor": "white",
           "linecolor": "white",
           "ticks": "",
           "title": {
            "standoff": 15
           },
           "zerolinecolor": "white",
           "zerolinewidth": 2
          },
          "yaxis": {
           "automargin": true,
           "gridcolor": "white",
           "linecolor": "white",
           "ticks": "",
           "title": {
            "standoff": 15
           },
           "zerolinecolor": "white",
           "zerolinewidth": 2
          }
         }
        },
        "width": 500,
        "xaxis": {
         "anchor": "y",
         "domain": [
          0,
          1
         ],
         "visible": false
        },
        "yaxis": {
         "anchor": "x",
         "autorange": "reversed",
         "domain": [
          0,
          1
         ],
         "visible": false
        }
       }
      },
      "text/html": [
       "<div>                            <div id=\"1b659ad4-f155-4283-a07a-f8155653bc72\" class=\"plotly-graph-div\" style=\"height:500px; width:500px;\"></div>            <script type=\"text/javascript\">                require([\"plotly\"], function(Plotly) {                    window.PLOTLYENV=window.PLOTLYENV || {};                                    if (document.getElementById(\"1b659ad4-f155-4283-a07a-f8155653bc72\")) {                    Plotly.newPlot(                        \"1b659ad4-f155-4283-a07a-f8155653bc72\",                        [{\"hovertemplate\":\"\",\"name\":\"0\",\"source\":\"data:image/png;base64,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\",\"xaxis\":\"x\",\"yaxis\":\"y\",\"type\":\"image\",\"hoverinfo\":\"none\"}],                        {\"margin\":{\"t\":1,\"l\":1,\"r\":1,\"b\":1},\"template\":{\"data\":{\"barpolar\":[{\"marker\":{\"line\":{\"color\":\"#E5ECF6\",\"width\":0.5},\"pattern\":{\"fillmode\":\"overlay\",\"size\":10,\"solidity\":0.2}},\"type\":\"barpolar\"}],\"bar\":[{\"error_x\":{\"color\":\"#2a3f5f\"},\"error_y\":{\"color\":\"#2a3f5f\"},\"marker\":{\"line\":{\"color\":\"#E5ECF6\",\"width\":0.5},\"pattern\":{\"fillmode\":\"overlay\",\"size\":10,\"solidity\":0.2}},\"type\":\"bar\"}],\"carpet\":[{\"aaxis\":{\"endlinecolor\":\"#2a3f5f\",\"gridcolor\":\"white\",\"linecolor\":\"white\",\"minorgridcolor\":\"white\",\"startlinecolor\":\"#2a3f5f\"},\"baxis\":{\"endlinecolor\":\"#2a3f5f\",\"gridcolor\":\"white\",\"linecolor\":\"white\",\"minorgridcolor\":\"white\",\"startlinecolor\":\"#2a3f5f\"},\"type\":\"carpet\"}],\"choropleth\":[{\"colorbar\":{\"outlinewidth\":0,\"ticks\":\"\"},\"type\":\"choropleth\"}],\"contourcarpet\":[{\"colorbar\":{\"outlinewidth\":0,\"ticks\":\"\"},\"type\":\"contourcarpet\"}],\"contour\":[{\"colorbar\":{\"outlinewidth\":0,\"ticks\":\"\"},\"colorscale\":[[0.0,\"#0d0887\"],[0.1111111111111111,\"#46039f\"],[0.2222222222222222,\"#7201a8\"],[0.3333333333333333,\"#9c179e\"],[0.4444444444444444,\"#bd3786\"],[0.5555555555555556,\"#d8576b\"],[0.6666666666666666,\"#ed7953\"],[0.7777777777777778,\"#fb9f3a\"],[0.8888888888888888,\"#fdca26\"],[1.0,\"#f0f921\"]],\"type\":\"contour\"}],\"heatmapgl\":[{\"colorbar\":{\"outlinewidth\":0,\"ticks\":\"\"},\"colorscale\":[[0.0,\"#0d0887\"],[0.1111111111111111,\"#46039f\"],[0.2222222222222222,\"#7201a8\"],[0.3333333333333333,\"#9c179e\"],[0.4444444444444444,\"#bd3786\"],[0.5555555555555556,\"#d8576b\"],[0.6666666666666666,\"#ed7953\"],[0.7777777777777778,\"#fb9f3a\"],[0.8888888888888888,\"#fdca26\"],[1.0,\"#f0f921\"]],\"type\":\"heatmapgl\"}],\"heatmap\":[{\"colorbar\":{\"outlinewidth\":0,\"ticks\":\"\"},\"colorscale\":[[0.0,\"#0d0887\"],[0.1111111111111111,\"#46039f\"],[0.2222222222222222,\"#7201a8\"],[0.3333333333333333,\"#9c179e\"],[0.4444444444444444,\"#bd3786\"],[0.5555555555555556,\"#d8576b\"],[0.6666666666666666,\"#ed7953\"],[0.7777777777777778,\"#fb9f3a\"],[0.8888888888888888,\"#fdca26\"],[1.0,\"#f0f921\"]],\"type\":\"heatmap\"}],\"histogram2dcontour\":[{\"colorbar\":{\"outlinewidth\":0,\"ticks\":\"\"},\"colorscale\":[[0.0,\"#0d0887\"],[0.1111111111111111,\"#46039f\"],[0.2222222222222222,\"#7201a8\"],[0.3333333333333333,\"#9c179e\"],[0.4444444444444444,\"#bd3786\"],[0.5555555555555556,\"#d8576b\"],[0.6666666666666666,\"#ed7953\"],[0.7777777777777778,\"#fb9f3a\"],[0.8888888888888888,\"#fdca26\"],[1.0,\"#f0f921\"]],\"type\":\"histogram2dcontour\"}],\"histogram2d\":[{\"colorbar\":{\"outlinewidth\":0,\"ticks\":\"\"},\"colorscale\":[[0.0,\"#0d0887\"],[0.1111111111111111,\"#46039f\"],[0.2222222222222222,\"#7201a8\"],[0.3333333333333333,\"#9c179e\"],[0.4444444444444444,\"#bd3786\"],[0.5555555555555556,\"#d8576b\"],[0.6666666666666666,\"#ed7953\"],[0.7777777777777778,\"#fb9f3a\"],[0.8888888888888888,\"#fdca26\"],[1.0,\"#f0f921\"]],\"type\":\"histogram2d\"}],\"histogram\":[{\"marker\":{\"pattern\":{\"fillmode\":\"overlay\",\"size\":10,\"solidity\":0.2}},\"type\":\"histogram\"}],\"mesh3d\":[{\"colorbar\":{\"outlinewidth\":0,\"ticks\":\"\"},\"type\":\"mesh3d\"}],\"parcoords\":[{\"line\":{\"colorbar\":{\"outlinewidth\":0,\"ticks\":\"\"}},\"type\":\"parcoords\"}],\"pie\":[{\"automargin\":true,\"type\":\"pie\"}],\"scatter3d\":[{\"line\":{\"colorbar\":{\"outlinewidth\":0,\"ticks\":\"\"}},\"marker\":{\"colorbar\":{\"outlinewidth\":0,\"ticks\":\"\"}},\"type\":\"scatter3d\"}],\"scattercarpet\":[{\"marker\":{\"colorbar\":{\"outlinewidth\":0,\"ticks\":\"\"}},\"type\":\"scattercarpet\"}],\"scattergeo\":[{\"marker\":{\"colorbar\":{\"outlinewidth\":0,\"ticks\":\"\"}},\"type\":\"scattergeo\"}],\"scattergl\":[{\"marker\":{\"colorbar\":{\"outlinewidth\":0,\"ticks\":\"\"}},\"type\":\"scattergl\"}],\"scattermapbox\":[{\"marker\":{\"colorbar\":{\"outlinewidth\":0,\"ticks\":\"\"}},\"type\":\"scattermapbox\"}],\"scatterpolargl\":[{\"marker\":{\"colorbar\":{\"outlinewidth\":0,\"ticks\":\"\"}},\"type\":\"scatterpolargl\"}],\"scatterpolar\":[{\"marker\":{\"colorbar\":{\"outlinewidth\":0,\"ticks\":\"\"}},\"type\":\"scatterpolar\"}],\"scatter\":[{\"fillpattern\":{\"fillmode\":\"overlay\",\"size\":10,\"solidity\":0.2},\"type\":\"scatter\"}],\"scatterternary\":[{\"marker\":{\"colorbar\":{\"outlinewidth\":0,\"ticks\":\"\"}},\"type\":\"scatterternary\"}],\"surface\":[{\"colorbar\":{\"outlinewidth\":0,\"ticks\":\"\"},\"colorscale\":[[0.0,\"#0d0887\"],[0.1111111111111111,\"#46039f\"],[0.2222222222222222,\"#7201a8\"],[0.3333333333333333,\"#9c179e\"],[0.4444444444444444,\"#bd3786\"],[0.5555555555555556,\"#d8576b\"],[0.6666666666666666,\"#ed7953\"],[0.7777777777777778,\"#fb9f3a\"],[0.8888888888888888,\"#fdca26\"],[1.0,\"#f0f921\"]],\"type\":\"surface\"}],\"table\":[{\"cells\":{\"fill\":{\"color\":\"#EBF0F8\"},\"line\":{\"color\":\"white\"}},\"header\":{\"fill\":{\"color\":\"#C8D4E3\"},\"line\":{\"color\":\"white\"}},\"type\":\"table\"}]},\"layout\":{\"annotationdefaults\":{\"arrowcolor\":\"#2a3f5f\",\"arrowhead\":0,\"arrowwidth\":1},\"autotypenumbers\":\"strict\",\"coloraxis\":{\"colorbar\":{\"outlinewidth\":0,\"ticks\":\"\"}},\"colorscale\":{\"diverging\":[[0,\"#8e0152\"],[0.1,\"#c51b7d\"],[0.2,\"#de77ae\"],[0.3,\"#f1b6da\"],[0.4,\"#fde0ef\"],[0.5,\"#f7f7f7\"],[0.6,\"#e6f5d0\"],[0.7,\"#b8e186\"],[0.8,\"#7fbc41\"],[0.9,\"#4d9221\"],[1,\"#276419\"]],\"sequential\":[[0.0,\"#0d0887\"],[0.1111111111111111,\"#46039f\"],[0.2222222222222222,\"#7201a8\"],[0.3333333333333333,\"#9c179e\"],[0.4444444444444444,\"#bd3786\"],[0.5555555555555556,\"#d8576b\"],[0.6666666666666666,\"#ed7953\"],[0.7777777777777778,\"#fb9f3a\"],[0.8888888888888888,\"#fdca26\"],[1.0,\"#f0f921\"]],\"sequentialminus\":[[0.0,\"#0d0887\"],[0.1111111111111111,\"#46039f\"],[0.2222222222222222,\"#7201a8\"],[0.3333333333333333,\"#9c179e\"],[0.4444444444444444,\"#bd3786\"],[0.5555555555555556,\"#d8576b\"],[0.6666666666666666,\"#ed7953\"],[0.7777777777777778,\"#fb9f3a\"],[0.8888888888888888,\"#fdca26\"],[1.0,\"#f0f921\"]]},\"colorway\":[\"#636efa\",\"#EF553B\",\"#00cc96\",\"#ab63fa\",\"#FFA15A\",\"#19d3f3\",\"#FF6692\",\"#B6E880\",\"#FF97FF\",\"#FECB52\"],\"font\":{\"color\":\"#2a3f5f\"},\"geo\":{\"bgcolor\":\"white\",\"lakecolor\":\"white\",\"landcolor\":\"#E5ECF6\",\"showlakes\":true,\"showland\":true,\"subunitcolor\":\"white\"},\"hoverlabel\":{\"align\":\"left\"},\"hovermode\":\"closest\",\"mapbox\":{\"style\":\"light\"},\"paper_bgcolor\":\"white\",\"plot_bgcolor\":\"#E5ECF6\",\"polar\":{\"angularaxis\":{\"gridcolor\":\"white\",\"linecolor\":\"white\",\"ticks\":\"\"},\"bgcolor\":\"#E5ECF6\",\"radialaxis\":{\"gridcolor\":\"white\",\"linecolor\":\"white\",\"ticks\":\"\"}},\"scene\":{\"xaxis\":{\"backgroundcolor\":\"#E5ECF6\",\"gridcolor\":\"white\",\"gridwidth\":2,\"linecolor\":\"white\",\"showbackground\":true,\"ticks\":\"\",\"zerolinecolor\":\"white\"},\"yaxis\":{\"backgroundcolor\":\"#E5ECF6\",\"gridcolor\":\"white\",\"gridwidth\":2,\"linecolor\":\"white\",\"showbackground\":true,\"ticks\":\"\",\"zerolinecolor\":\"white\"},\"zaxis\":{\"backgroundcolor\":\"#E5ECF6\",\"gridcolor\":\"white\",\"gridwidth\":2,\"linecolor\":\"white\",\"showbackground\":true,\"ticks\":\"\",\"zerolinecolor\":\"white\"}},\"shapedefaults\":{\"line\":{\"color\":\"#2a3f5f\"}},\"ternary\":{\"aaxis\":{\"gridcolor\":\"white\",\"linecolor\":\"white\",\"ticks\":\"\"},\"baxis\":{\"gridcolor\":\"white\",\"linecolor\":\"white\",\"ticks\":\"\"},\"bgcolor\":\"#E5ECF6\",\"caxis\":{\"gridcolor\":\"white\",\"linecolor\":\"white\",\"ticks\":\"\"}},\"title\":{\"x\":0.05},\"xaxis\":{\"automargin\":true,\"gridcolor\":\"white\",\"linecolor\":\"white\",\"ticks\":\"\",\"title\":{\"standoff\":15},\"zerolinecolor\":\"white\",\"zerolinewidth\":2},\"yaxis\":{\"automargin\":true,\"gridcolor\":\"white\",\"linecolor\":\"white\",\"ticks\":\"\",\"title\":{\"standoff\":15},\"zerolinecolor\":\"white\",\"zerolinewidth\":2}}},\"xaxis\":{\"anchor\":\"y\",\"domain\":[0.0,1.0],\"visible\":false},\"yaxis\":{\"anchor\":\"x\",\"domain\":[0.0,1.0],\"autorange\":\"reversed\",\"visible\":false},\"annotations\":[{\"font\":{\"color\":\"rgb(106, 106, 106)\",\"family\":\"Droid Sans Mono\",\"size\":20},\"hovertext\":\"# 235\",\"showarrow\":false,\"text\":\"day\",\"textangle\":90,\"x\":96,\"xanchor\":\"left\",\"y\":15,\"yanchor\":\"top\"},{\"font\":{\"color\":\"rgb(12, 12, 12)\",\"family\":\"Droid Sans Mono\",\"size\":19},\"hovertext\":\"# 190\",\"showarrow\":false,\"text\":\"order\",\"textangle\":90,\"x\":193,\"xanchor\":\"left\",\"y\":148,\"yanchor\":\"top\"},{\"font\":{\"color\":\"rgb(153, 153, 153)\",\"family\":\"Droid Sans Mono\",\"size\":39},\"hovertext\":\"# 811\",\"showarrow\":false,\"text\":\"deliver\",\"textangle\":0,\"x\":98,\"xanchor\":\"left\",\"y\":45,\"yanchor\":\"top\"},{\"font\":{\"color\":\"rgb(64, 64, 64)\",\"family\":\"Droid Sans Mono\",\"size\":34},\"hovertext\":\"# 575\",\"showarrow\":false,\"text\":\"fast\",\"textangle\":0,\"x\":179,\"xanchor\":\"left\",\"y\":80,\"yanchor\":\"top\"},{\"font\":{\"color\":\"rgb(46, 46, 46)\",\"family\":\"Droid Sans Mono\",\"size\":33},\"hovertext\":\"# 529\",\"showarrow\":false,\"text\":\"time\",\"textangle\":0,\"x\":121,\"xanchor\":\"left\",\"y\":17,\"yanchor\":\"top\"},{\"font\":{\"color\":\"rgb(74, 74, 74)\",\"family\":\"Droid Sans Mono\",\"size\":25},\"hovertext\":\"# 460\",\"showarrow\":false,\"text\":\"loading\",\"textangle\":0,\"x\":98,\"xanchor\":\"left\",\"y\":96,\"yanchor\":\"top\"},{\"font\":{\"color\":\"rgb(13, 13, 13)\",\"family\":\"Droid Sans Mono\",\"size\":23},\"hovertext\":\"# 386\",\"showarrow\":false,\"text\":\"service\",\"textangle\":0,\"x\":100,\"xanchor\":\"left\",\"y\":76,\"yanchor\":\"top\"},{\"font\":{\"color\":\"rgb(199, 199, 199)\",\"family\":\"Droid Sans Mono\",\"size\":20},\"hovertext\":\"# 250\",\"showarrow\":false,\"text\":\"people\",\"textangle\":0,\"x\":104,\"xanchor\":\"left\",\"y\":131,\"yanchor\":\"top\"},{\"font\":{\"color\":\"rgb(92, 92, 92)\",\"family\":\"Droid Sans Mono\",\"size\":20},\"hovertext\":\"# 242\",\"showarrow\":false,\"text\":\"wait\",\"textangle\":0,\"x\":9,\"xanchor\":\"left\",\"y\":129,\"yanchor\":\"top\"},{\"font\":{\"color\":\"rgb(238, 238, 238)\",\"family\":\"Droid Sans Mono\",\"size\":20},\"hovertext\":\"# 228\",\"showarrow\":false,\"text\":\"unload\",\"textangle\":0,\"x\":188,\"xanchor\":\"left\",\"y\":14,\"yanchor\":\"top\"},{\"font\":{\"color\":\"rgb(19, 19, 19)\",\"family\":\"Droid Sans Mono\",\"size\":20},\"hovertext\":\"# 226\",\"showarrow\":false,\"text\":\"staff\",\"textangle\":0,\"x\":195,\"xanchor\":\"left\",\"y\":102,\"yanchor\":\"top\"},{\"font\":{\"color\":\"rgb(204, 204, 204)\",\"family\":\"Droid Sans Mono\",\"size\":19},\"hovertext\":\"# 199\",\"showarrow\":false,\"text\":\"come\",\"textangle\":0,\"x\":114,\"xanchor\":\"left\",\"y\":151,\"yanchor\":\"top\"},{\"font\":{\"color\":\"rgb(233, 233, 233)\",\"family\":\"Droid Sans Mono\",\"size\":19},\"hovertext\":\"# 196\",\"showarrow\":false,\"text\":\"hour\",\"textangle\":0,\"x\":191,\"xanchor\":\"left\",\"y\":37,\"yanchor\":\"top\"},{\"font\":{\"color\":\"rgb(151, 151, 151)\",\"family\":\"Droid Sans Mono\",\"size\":15},\"hovertext\":\"# 189\",\"showarrow\":false,\"text\":\"transport\",\"textangle\":0,\"x\":105,\"xanchor\":\"left\",\"y\":111,\"yanchor\":\"top\"},{\"font\":{\"color\":\"rgb(184, 184, 184)\",\"family\":\"Droid Sans Mono\",\"size\":14},\"hovertext\":\"# 167\",\"showarrow\":false,\"text\":\"office\",\"textangle\":0,\"x\":44,\"xanchor\":\"left\",\"y\":119,\"yanchor\":\"top\"},{\"font\":{\"color\":\"rgb(253, 253, 253)\",\"family\":\"Droid Sans Mono\",\"size\":14},\"hovertext\":\"# 167\",\"showarrow\":false,\"text\":\"call\",\"textangle\":0,\"x\":199,\"xanchor\":\"left\",\"y\":71,\"yanchor\":\"top\"},{\"font\":{\"color\":\"rgb(110, 110, 110)\",\"family\":\"Droid Sans Mono\",\"size\":14},\"hovertext\":\"# 163\",\"showarrow\":false,\"text\":\"place\",\"textangle\":0,\"x\":49,\"xanchor\":\"left\",\"y\":152,\"yanchor\":\"top\"},{\"font\":{\"color\":\"rgb(242, 242, 242)\",\"family\":\"Droid Sans Mono\",\"size\":14},\"hovertext\":\"# 160\",\"showarrow\":false,\"text\":\"man\",\"textangle\":0,\"x\":9,\"xanchor\":\"left\",\"y\":160,\"yanchor\":\"top\"},{\"font\":{\"color\":\"rgb(205, 205, 205)\",\"family\":\"Droid Sans Mono\",\"size\":14},\"hovertext\":\"# 156\",\"showarrow\":false,\"text\":\"coffee\",\"textangle\":0,\"x\":188,\"xanchor\":\"left\",\"y\":114,\"yanchor\":\"top\"},{\"font\":{\"color\":\"rgb(35, 35, 35)\",\"family\":\"Droid Sans Mono\",\"size\":14},\"hovertext\":\"# 153\",\"showarrow\":false,\"text\":\"neatly\",\"textangle\":0,\"x\":45,\"xanchor\":\"left\",\"y\":128,\"yanchor\":\"top\"},{\"font\":{\"color\":\"rgb(90, 90, 90)\",\"family\":\"Droid Sans Mono\",\"size\":14},\"hovertext\":\"# 152\",\"showarrow\":false,\"text\":\"long\",\"textangle\":0,\"x\":48,\"xanchor\":\"left\",\"y\":174,\"yanchor\":\"top\"},{\"font\":{\"color\":\"rgb(121, 121, 121)\",\"family\":\"Droid Sans Mono\",\"size\":14},\"hovertext\":\"# 144\",\"showarrow\":false,\"text\":\"toilet\",\"textangle\":0,\"x\":212,\"xanchor\":\"left\",\"y\":29,\"yanchor\":\"top\"},{\"font\":{\"color\":\"rgb(101, 101, 101)\",\"family\":\"Droid Sans Mono\",\"size\":14},\"hovertext\":\"# 139\",\"showarrow\":false,\"text\":\"help\",\"textangle\":0,\"x\":8,\"xanchor\":\"left\",\"y\":145,\"yanchor\":\"top\"}],\"paper_bgcolor\":\"rgb(255,255,255)\",\"plot_bgcolor\":\"rgb(255,255,255)\",\"width\":500,\"height\":500,\"clickmode\":\"select\"},                        {\"responsive\": true}                    ).then(function(){\n",
       "                            \n",
       "var gd = document.getElementById('1b659ad4-f155-4283-a07a-f8155653bc72');\n",
       "var x = new MutationObserver(function (mutations, observer) {{\n",
       "        var display = window.getComputedStyle(gd).display;\n",
       "        if (!display || display === 'none') {{\n",
       "            console.log([gd, 'removed!']);\n",
       "            Plotly.purge(gd);\n",
       "            observer.disconnect();\n",
       "        }}\n",
       "}});\n",
       "\n",
       "// Listen for the removal of the full notebook cells\n",
       "var notebookContainer = gd.closest('#notebook-container');\n",
       "if (notebookContainer) {{\n",
       "    x.observe(notebookContainer, {childList: true});\n",
       "}}\n",
       "\n",
       "// Listen for the clearing of the current output cell\n",
       "var outputEl = gd.closest('.output');\n",
       "if (outputEl) {{\n",
       "    x.observe(outputEl, {childList: true});\n",
       "}}\n",
       "\n",
       "                        })                };                });            </script>        </div>"
      ]
     },
     "metadata": {},
     "output_type": "display_data"
    }
   ],
   "source": [
    "image_path = './figures/truck.png'\n",
    "pltsize = [500,500]\n",
    "opacity = 0.5\n",
    "color_list_rgb_list = get_rgb_color_list('Greens',5)\n",
    "color_mask = color_list_rgb_list[4]\n",
    "# tags = most_freq_df[most_freq_df['tag']=='ADV']\n",
    "colormap_text = 'Greys_r'\n",
    "wc_img,fig,wave_mask = plot_wordscloud(image_path,most_freq_df,color_mask,pltsize,opacity, colormap_text)\n",
    "fig\n",
    "fig.show()\n",
    "#    fig,ax =plt.subplots(figsize=(5,8))\n",
    "#    ax.imshow(wc_img, interpolation='bilinear')\n",
    "#    ax.axis(\"off\")\n",
    "\n"
   ]
  },
  {
   "cell_type": "code",
   "execution_count": 304,
   "id": "1a2f1702",
   "metadata": {},
   "outputs": [
    {
     "name": "stdout",
     "output_type": "stream",
     "text": [
      "['ADV' 'NOUN' 'VERB']\n"
     ]
    }
   ],
   "source": [
    "lexicon = most_freq_df['word'].tolist()\n",
    "len_lex = len(lexicon)\n",
    "print(np.unique(most_freq_df['tag']))"
   ]
  },
  {
   "cell_type": "code",
   "execution_count": 305,
   "id": "1af4af73",
   "metadata": {},
   "outputs": [],
   "source": [
    "# add color to tags\n",
    "col_tags = get_rgb_color_list('BuGn',len(np.unique(most_freq_df['tag'])))\n",
    "col_tags  = ['blue','red','yellow','green']\n",
    "col_tags = ['#d6cbd3','#eca1a6','#feb236','#ada397']\n",
    "\n",
    "dict_col = {}\n",
    "for j,i in enumerate(np.unique(most_freq_df['tag'])):\n",
    "    dict_col[i] = col_tags[j]\n"
   ]
  },
  {
   "cell_type": "code",
   "execution_count": 306,
   "id": "0d88dac5",
   "metadata": {},
   "outputs": [
    {
     "data": {
      "text/html": [
       "<div>\n",
       "<style scoped>\n",
       "    .dataframe tbody tr th:only-of-type {\n",
       "        vertical-align: middle;\n",
       "    }\n",
       "\n",
       "    .dataframe tbody tr th {\n",
       "        vertical-align: top;\n",
       "    }\n",
       "\n",
       "    .dataframe thead th {\n",
       "        text-align: right;\n",
       "    }\n",
       "</style>\n",
       "<table border=\"1\" class=\"dataframe\">\n",
       "  <thead>\n",
       "    <tr style=\"text-align: right;\">\n",
       "      <th></th>\n",
       "      <th>word</th>\n",
       "      <th>#</th>\n",
       "      <th>tag</th>\n",
       "      <th>col_tag</th>\n",
       "    </tr>\n",
       "  </thead>\n",
       "  <tbody>\n",
       "    <tr>\n",
       "      <th>92</th>\n",
       "      <td>fast</td>\n",
       "      <td>575</td>\n",
       "      <td>ADV</td>\n",
       "      <td>#d6cbd3</td>\n",
       "    </tr>\n",
       "    <tr>\n",
       "      <th>47</th>\n",
       "      <td>long</td>\n",
       "      <td>152</td>\n",
       "      <td>ADV</td>\n",
       "      <td>#d6cbd3</td>\n",
       "    </tr>\n",
       "    <tr>\n",
       "      <th>173</th>\n",
       "      <td>neatly</td>\n",
       "      <td>153</td>\n",
       "      <td>ADV</td>\n",
       "      <td>#d6cbd3</td>\n",
       "    </tr>\n",
       "    <tr>\n",
       "      <th>5</th>\n",
       "      <td>time</td>\n",
       "      <td>529</td>\n",
       "      <td>NOUN</td>\n",
       "      <td>#eca1a6</td>\n",
       "    </tr>\n",
       "    <tr>\n",
       "      <th>141</th>\n",
       "      <td>service</td>\n",
       "      <td>386</td>\n",
       "      <td>NOUN</td>\n",
       "      <td>#eca1a6</td>\n",
       "    </tr>\n",
       "  </tbody>\n",
       "</table>\n",
       "</div>"
      ],
      "text/plain": [
       "        word    #   tag  col_tag\n",
       "92      fast  575   ADV  #d6cbd3\n",
       "47      long  152   ADV  #d6cbd3\n",
       "173   neatly  153   ADV  #d6cbd3\n",
       "5       time  529  NOUN  #eca1a6\n",
       "141  service  386  NOUN  #eca1a6"
      ]
     },
     "execution_count": 306,
     "metadata": {},
     "output_type": "execute_result"
    }
   ],
   "source": [
    "# add color tag to the lexicon\n",
    "most_freq_df['col_tag'] = most_freq_df['tag'].apply(lambda x: dict_col[x])\n",
    "most_freq_df.head()"
   ]
  },
  {
   "cell_type": "code",
   "execution_count": 307,
   "id": "020271a0",
   "metadata": {},
   "outputs": [
    {
     "name": "stdout",
     "output_type": "stream",
     "text": [
      "['fast', 'long', 'neatly', 'time', 'service', 'people', 'day', 'unload', 'staff', 'hour', 'order', 'transport', 'office', 'place', 'coffee', 'toilet', 'man', 'deliver', 'loading', 'wait', 'come', 'call', 'help']\n"
     ]
    }
   ],
   "source": [
    "print(lexicon)\n",
    "# make adjacency matrix\n",
    "lexicon_adjmat = np.zeros((len_lex,len_lex))\n",
    "lexicon_adjmat = pd.DataFrame(lexicon_adjmat,columns = lexicon, index = lexicon)\n",
    "for i in np.arange(review_df['text_lemmas'].shape[0]):\n",
    "    intersec = list(set(review_df['text_lemmas'].iloc[i]).intersection(set(lexicon)))\n",
    "    lexicon_adjmat.loc[intersec,intersec] = lexicon_adjmat.loc[intersec,intersec]+ 1"
   ]
  },
  {
   "cell_type": "code",
   "execution_count": 308,
   "id": "fcba8021",
   "metadata": {},
   "outputs": [],
   "source": [
    "color_discrete_map = {}\n",
    "for i in np.arange(most_freq_df.shape[0]):\n",
    "    color_discrete_map[most_freq_df['word'].iloc[i]] = most_freq_df['col_tag'].iloc[i]"
   ]
  },
  {
   "cell_type": "code",
   "execution_count": 309,
   "id": "81670a55",
   "metadata": {},
   "outputs": [],
   "source": [
    "import plotly.graph_objects as go\n",
    "import networkx as nx\n",
    "import plotly.express as px\n",
    "from plotly.offline import plot\n",
    "\n",
    "# pos = nx.circular_layout(G)\n",
    "# pos = nx.kamada_kawai_layout(G)\n",
    "\n",
    "# G = nx.DiGraph(ad_mat)\n",
    "# nx.draw(G)\n",
    "\n",
    "# for i in np.arange(most_freq_df.shape[0]):\n",
    "#     G.nodes(data = True)[i]['level'] = most_freq_df['col_tag'].iloc[i]\n",
    "# pos = nx.multipartite_layout(G, subset_key=\"level\")\n",
    "\n",
    "def sigmoid(x):\n",
    "    y = 10 / (1 + np.exp(-(x-5)/1.9))\n",
    "    return y"
   ]
  },
  {
   "cell_type": "code",
   "execution_count": 310,
   "id": "14bae939",
   "metadata": {},
   "outputs": [
    {
     "data": {
      "text/plain": [
       "<AxesSubplot:>"
      ]
     },
     "execution_count": 310,
     "metadata": {},
     "output_type": "execute_result"
    },
    {
     "data": {
      "image/png": "[encoded data removed]",
      "text/plain": [
       "<Figure size 1080x1080 with 2 Axes>"
      ]
     },
     "metadata": {
      "needs_background": "light"
     },
     "output_type": "display_data"
    }
   ],
   "source": [
    "fig,ax = plt.subplots(figsize = (15,15))\n",
    "# matrix = np.triu(lexicon_adjmat.values)\n",
    "# mask = np.zeros_like(lexicon_adjmat.values, dtype=np.bool)\n",
    "# mask[np.triu_indices_from(mask)] = True\n",
    "sns.heatmap(lexicon_adjmat, annot=True, ax = ax, cmap=\"crest\",annot_kws={\"fontsize\":8})# mask=mask,"
   ]
  },
  {
   "cell_type": "code",
   "execution_count": 319,
   "id": "9857738f",
   "metadata": {},
   "outputs": [
    {
     "data": {
      "text/plain": [
       "23"
      ]
     },
     "execution_count": 319,
     "metadata": {},
     "output_type": "execute_result"
    }
   ],
   "source": [
    "lexicon_adjmat.shape[0]"
   ]
  },
  {
   "cell_type": "code",
   "execution_count": 340,
   "id": "e548e3b1",
   "metadata": {},
   "outputs": [],
   "source": [
    "ad_mat = lexicon_adjmat.values\n",
    "G = nx.from_numpy_matrix(ad_mat)\n",
    "pos = nx.random_layout(G)\n",
    "pos = nx.kamada_kawai_layout(G)\n",
    "\n",
    "pos = nx.spring_layout(G)#,k = 1/(10*lexicon_adjmat.shape[0]))\n",
    "# pos = nx.circular_layout(G)"
   ]
  },
  {
   "cell_type": "code",
   "execution_count": 341,
   "id": "96b26f74",
   "metadata": {},
   "outputs": [
    {
     "name": "stderr",
     "output_type": "stream",
     "text": [
      "/var/folders/6d/dgjgypyn24x1lv9vc5gs38p00000gp/T/ipykernel_1160/3846651168.py:47: SettingWithCopyWarning:\n",
      "\n",
      "\n",
      "A value is trying to be set on a copy of a slice from a DataFrame\n",
      "\n",
      "See the caveats in the documentation: https://pandas.pydata.org/pandas-docs/stable/user_guide/indexing.html#returning-a-view-versus-a-copy\n",
      "\n"
     ]
    },
    {
     "data": {
      "application/vnd.plotly.v1+json": {
       "config": {
        "plotlyServerURL": "https://plot.ly"
       },
       "data": [
        {
         "hoverinfo": "none",
         "hovertext": " ",
         "line": {
          "color": "rgb(0, 104, 42)",
          "width": 7
         },
         "textposition": "top center",
         "type": "scatter",
         "x": [
          0.731494294276745,
          0.731494294276745,
          null
         ],
         "y": [
          0.08517219678922733,
          0.08517219678922733,
          null
         ]
        },
        {
         "hoverinfo": "none",
         "hovertext": " ",
         "line": {
          "color": "rgb(231, 246, 227)",
          "width": 0
         },
         "textposition": "top center",
         "type": "scatter",
         "x": [
          0.731494294276745,
          -0.42315214872404533,
          null
         ],
         "y": [
          0.08517219678922733,
          0.5728609545690998,
          null
         ]
        },
        {
         "hoverinfo": "none",
         "hovertext": " ",
         "line": {
          "color": "rgb(231, 246, 227)",
          "width": 0
         },
         "textposition": "top center",
         "type": "scatter",
         "x": [
          0.731494294276745,
          -0.19616938522515973,
          null
         ],
         "y": [
          0.08517219678922733,
          -0.9921088336686266,
          null
         ]
        },
        {
         "hoverinfo": "none",
         "hovertext": " ",
         "line": {
          "color": "rgb(206, 236, 200)",
          "width": 1
         },
         "textposition": "top center",
         "type": "scatter",
         "x": [
          0.731494294276745,
          -0.18453436507291418,
          null
         ],
         "y": [
          0.08517219678922733,
          0.019894190336143733,
          null
         ]
        },
        {
         "hoverinfo": "none",
         "hovertext": " ",
         "line": {
          "color": "rgb(136, 206, 135)",
          "width": 3
         },
         "textposition": "top center",
         "type": "scatter",
         "x": [
          0.731494294276745,
          -0.05768021359772707,
          null
         ],
         "y": [
          0.08517219678922733,
          -0.2857092657225607,
          null
         ]
        },
        {
         "hoverinfo": "none",
         "hovertext": " ",
         "line": {
          "color": "rgb(174, 222, 167)",
          "width": 2
         },
         "textposition": "top center",
         "type": "scatter",
         "x": [
          0.731494294276745,
          0.5221620128874973,
          null
         ],
         "y": [
          0.08517219678922733,
          -0.22371668046237014,
          null
         ]
        },
        {
         "hoverinfo": "none",
         "hovertext": " ",
         "line": {
          "color": "rgb(231, 246, 227)",
          "width": 0
         },
         "textposition": "top center",
         "type": "scatter",
         "x": [
          0.731494294276745,
          -0.4785319216379006,
          null
         ],
         "y": [
          0.08517219678922733,
          -0.09727330761290566,
          null
         ]
        },
        {
         "hoverinfo": "none",
         "hovertext": " ",
         "line": {
          "color": "rgb(206, 236, 200)",
          "width": 1
         },
         "textposition": "top center",
         "type": "scatter",
         "x": [
          0.731494294276745,
          0.26041211431698535,
          null
         ],
         "y": [
          0.08517219678922733,
          0.3783038837175746,
          null
         ]
        },
        {
         "hoverinfo": "none",
         "hovertext": " ",
         "line": {
          "color": "rgb(136, 206, 135)",
          "width": 3
         },
         "textposition": "top center",
         "type": "scatter",
         "x": [
          0.731494294276745,
          0.3514228485283896,
          null
         ],
         "y": [
          0.08517219678922733,
          0.6520167153614409,
          null
         ]
        },
        {
         "hoverinfo": "none",
         "hovertext": " ",
         "line": {
          "color": "rgb(231, 246, 227)",
          "width": 0
         },
         "textposition": "top center",
         "type": "scatter",
         "x": [
          0.731494294276745,
          0.04788960634673765,
          null
         ],
         "y": [
          0.08517219678922733,
          0.17310151502817359,
          null
         ]
        },
        {
         "hoverinfo": "none",
         "hovertext": " ",
         "line": {
          "color": "rgb(231, 246, 227)",
          "width": 0
         },
         "textposition": "top center",
         "type": "scatter",
         "x": [
          0.731494294276745,
          -0.13831907570377594,
          null
         ],
         "y": [
          0.08517219678922733,
          -0.5840419276221137,
          null
         ]
        },
        {
         "hoverinfo": "none",
         "hovertext": " ",
         "line": {
          "color": "rgb(231, 246, 227)",
          "width": 0
         },
         "textposition": "top center",
         "type": "scatter",
         "x": [
          0.731494294276745,
          -0.7821113335359461,
          null
         ],
         "y": [
          0.08517219678922733,
          -0.33066913127911723,
          null
         ]
        },
        {
         "hoverinfo": "none",
         "hovertext": " ",
         "line": {
          "color": "rgb(206, 236, 200)",
          "width": 1
         },
         "textposition": "top center",
         "type": "scatter",
         "x": [
          0.731494294276745,
          0.07372678093973499,
          null
         ],
         "y": [
          0.08517219678922733,
          0.8249495473283394,
          null
         ]
        },
        {
         "hoverinfo": "none",
         "hovertext": " ",
         "line": {
          "color": "rgb(231, 246, 227)",
          "width": 0
         },
         "textposition": "top center",
         "type": "scatter",
         "x": [
          0.731494294276745,
          0.3258739032715395,
          null
         ],
         "y": [
          0.08517219678922733,
          -0.46008972657043984,
          null
         ]
        },
        {
         "hoverinfo": "none",
         "hovertext": " ",
         "line": {
          "color": "rgb(174, 222, 167)",
          "width": 2
         },
         "textposition": "top center",
         "type": "scatter",
         "x": [
          0.731494294276745,
          0.8512794768002446,
          null
         ],
         "y": [
          0.08517219678922733,
          0.5316526886740731,
          null
         ]
        },
        {
         "hoverinfo": "none",
         "hovertext": " ",
         "line": {
          "color": "rgb(174, 222, 167)",
          "width": 2
         },
         "textposition": "top center",
         "type": "scatter",
         "x": [
          0.731494294276745,
          0.6387434641683799,
          null
         ],
         "y": [
          0.08517219678922733,
          0.8502974259675539,
          null
         ]
        },
        {
         "hoverinfo": "none",
         "hovertext": " ",
         "line": {
          "color": "rgb(231, 246, 227)",
          "width": 0
         },
         "textposition": "top center",
         "type": "scatter",
         "x": [
          0.731494294276745,
          -0.6357871398279092,
          null
         ],
         "y": [
          0.08517219678922733,
          -1,
          null
         ]
        },
        {
         "hoverinfo": "none",
         "hovertext": " ",
         "line": {
          "color": "rgb(231, 246, 227)",
          "width": 0
         },
         "textposition": "top center",
         "type": "scatter",
         "x": [
          0.731494294276745,
          -0.40569121539260206,
          null
         ],
         "y": [
          0.08517219678922733,
          -0.32734802801625695,
          null
         ]
        },
        {
         "hoverinfo": "none",
         "hovertext": " ",
         "line": {
          "color": "rgb(93, 185, 107)",
          "width": 4
         },
         "textposition": "top center",
         "type": "scatter",
         "x": [
          0.731494294276745,
          0.6450589027683868,
          null
         ],
         "y": [
          0.08517219678922733,
          0.39540404296582776,
          null
         ]
        },
        {
         "hoverinfo": "none",
         "hovertext": " ",
         "line": {
          "color": "rgb(231, 246, 227)",
          "width": 0
         },
         "textposition": "top center",
         "type": "scatter",
         "x": [
          0.731494294276745,
          -0.11484503021519027,
          null
         ],
         "y": [
          0.08517219678922733,
          0.3952508395597706,
          null
         ]
        },
        {
         "hoverinfo": "none",
         "hovertext": " ",
         "line": {
          "color": "rgb(231, 246, 227)",
          "width": 0
         },
         "textposition": "top center",
         "type": "scatter",
         "x": [
          0.731494294276745,
          0.1449387983818865,
          null
         ],
         "y": [
          0.08517219678922733,
          -0.19991215144002028,
          null
         ]
        },
        {
         "hoverinfo": "none",
         "hovertext": " ",
         "line": {
          "color": "rgb(231, 246, 227)",
          "width": 0
         },
         "textposition": "top center",
         "type": "scatter",
         "x": [
          0.731494294276745,
          -0.4480642147745625,
          null
         ],
         "y": [
          0.08517219678922733,
          -0.5647369208751434,
          null
         ]
        },
        {
         "hoverinfo": "none",
         "hovertext": " ",
         "line": {
          "color": "rgb(231, 246, 227)",
          "width": 0
         },
         "textposition": "top center",
         "type": "scatter",
         "x": [
          0.731494294276745,
          -0.7281161589787841,
          null
         ],
         "y": [
          0.08517219678922733,
          0.18670197297230368,
          null
         ]
        },
        {
         "hoverinfo": "none",
         "hovertext": " ",
         "line": {
          "color": "rgb(93, 185, 107)",
          "width": 4
         },
         "textposition": "top center",
         "type": "scatter",
         "x": [
          -0.42315214872404533,
          -0.42315214872404533,
          null
         ],
         "y": [
          0.5728609545690998,
          0.5728609545690998,
          null
         ]
        },
        {
         "hoverinfo": "none",
         "hovertext": " ",
         "line": {
          "color": "rgb(231, 246, 227)",
          "width": 0
         },
         "textposition": "top center",
         "type": "scatter",
         "x": [
          -0.42315214872404533,
          -0.19616938522515973,
          null
         ],
         "y": [
          0.5728609545690998,
          -0.9921088336686266,
          null
         ]
        },
        {
         "hoverinfo": "none",
         "hovertext": " ",
         "line": {
          "color": "rgb(93, 185, 107)",
          "width": 4
         },
         "textposition": "top center",
         "type": "scatter",
         "x": [
          -0.42315214872404533,
          -0.18453436507291418,
          null
         ],
         "y": [
          0.5728609545690998,
          0.019894190336143733,
          null
         ]
        },
        {
         "hoverinfo": "none",
         "hovertext": " ",
         "line": {
          "color": "rgb(231, 246, 227)",
          "width": 0
         },
         "textposition": "top center",
         "type": "scatter",
         "x": [
          -0.42315214872404533,
          -0.05768021359772707,
          null
         ],
         "y": [
          0.5728609545690998,
          -0.2857092657225607,
          null
         ]
        },
        {
         "hoverinfo": "none",
         "hovertext": " ",
         "line": {
          "color": "rgb(231, 246, 227)",
          "width": 0
         },
         "textposition": "top center",
         "type": "scatter",
         "x": [
          -0.42315214872404533,
          0.5221620128874973,
          null
         ],
         "y": [
          0.5728609545690998,
          -0.22371668046237014,
          null
         ]
        },
        {
         "hoverinfo": "none",
         "hovertext": " ",
         "line": {
          "color": "rgb(231, 246, 227)",
          "width": 0
         },
         "textposition": "top center",
         "type": "scatter",
         "x": [
          -0.42315214872404533,
          -0.4785319216379006,
          null
         ],
         "y": [
          0.5728609545690998,
          -0.09727330761290566,
          null
         ]
        },
        {
         "hoverinfo": "none",
         "hovertext": " ",
         "line": {
          "color": "rgb(174, 222, 167)",
          "width": 2
         },
         "textposition": "top center",
         "type": "scatter",
         "x": [
          -0.42315214872404533,
          0.26041211431698535,
          null
         ],
         "y": [
          0.5728609545690998,
          0.3783038837175746,
          null
         ]
        },
        {
         "hoverinfo": "none",
         "hovertext": " ",
         "line": {
          "color": "rgb(231, 246, 227)",
          "width": 0
         },
         "textposition": "top center",
         "type": "scatter",
         "x": [
          -0.42315214872404533,
          0.3514228485283896,
          null
         ],
         "y": [
          0.5728609545690998,
          0.6520167153614409,
          null
         ]
        },
        {
         "hoverinfo": "none",
         "hovertext": " ",
         "line": {
          "color": "rgb(206, 236, 200)",
          "width": 1
         },
         "textposition": "top center",
         "type": "scatter",
         "x": [
          -0.42315214872404533,
          0.04788960634673765,
          null
         ],
         "y": [
          0.5728609545690998,
          0.17310151502817359,
          null
         ]
        },
        {
         "hoverinfo": "none",
         "hovertext": " ",
         "line": {
          "color": "rgb(231, 246, 227)",
          "width": 0
         },
         "textposition": "top center",
         "type": "scatter",
         "x": [
          -0.42315214872404533,
          -0.13831907570377594,
          null
         ],
         "y": [
          0.5728609545690998,
          -0.5840419276221137,
          null
         ]
        },
        {
         "hoverinfo": "none",
         "hovertext": " ",
         "line": {
          "color": "rgb(231, 246, 227)",
          "width": 0
         },
         "textposition": "top center",
         "type": "scatter",
         "x": [
          -0.42315214872404533,
          -0.7821113335359461,
          null
         ],
         "y": [
          0.5728609545690998,
          -0.33066913127911723,
          null
         ]
        },
        {
         "hoverinfo": "none",
         "hovertext": " ",
         "line": {
          "color": "rgb(231, 246, 227)",
          "width": 0
         },
         "textposition": "top center",
         "type": "scatter",
         "x": [
          -0.42315214872404533,
          0.07372678093973499,
          null
         ],
         "y": [
          0.5728609545690998,
          0.8249495473283394,
          null
         ]
        },
        {
         "hoverinfo": "none",
         "hovertext": " ",
         "line": {
          "color": "rgb(231, 246, 227)",
          "width": 0
         },
         "textposition": "top center",
         "type": "scatter",
         "x": [
          -0.42315214872404533,
          0.3258739032715395,
          null
         ],
         "y": [
          0.5728609545690998,
          -0.46008972657043984,
          null
         ]
        },
        {
         "hoverinfo": "none",
         "hovertext": " ",
         "line": {
          "color": "rgb(231, 246, 227)",
          "width": 0
         },
         "textposition": "top center",
         "type": "scatter",
         "x": [
          -0.42315214872404533,
          0.8512794768002446,
          null
         ],
         "y": [
          0.5728609545690998,
          0.5316526886740731,
          null
         ]
        },
        {
         "hoverinfo": "none",
         "hovertext": " ",
         "line": {
          "color": "rgb(231, 246, 227)",
          "width": 0
         },
         "textposition": "top center",
         "type": "scatter",
         "x": [
          -0.42315214872404533,
          0.6387434641683799,
          null
         ],
         "y": [
          0.5728609545690998,
          0.8502974259675539,
          null
         ]
        },
        {
         "hoverinfo": "none",
         "hovertext": " ",
         "line": {
          "color": "rgb(231, 246, 227)",
          "width": 0
         },
         "textposition": "top center",
         "type": "scatter",
         "x": [
          -0.42315214872404533,
          -0.6357871398279092,
          null
         ],
         "y": [
          0.5728609545690998,
          -1,
          null
         ]
        },
        {
         "hoverinfo": "none",
         "hovertext": " ",
         "line": {
          "color": "rgb(231, 246, 227)",
          "width": 0
         },
         "textposition": "top center",
         "type": "scatter",
         "x": [
          -0.42315214872404533,
          -0.40569121539260206,
          null
         ],
         "y": [
          0.5728609545690998,
          -0.32734802801625695,
          null
         ]
        },
        {
         "hoverinfo": "none",
         "hovertext": " ",
         "line": {
          "color": "rgb(231, 246, 227)",
          "width": 0
         },
         "textposition": "top center",
         "type": "scatter",
         "x": [
          -0.42315214872404533,
          0.6450589027683868,
          null
         ],
         "y": [
          0.5728609545690998,
          0.39540404296582776,
          null
         ]
        },
        {
         "hoverinfo": "none",
         "hovertext": " ",
         "line": {
          "color": "rgb(136, 206, 135)",
          "width": 3
         },
         "textposition": "top center",
         "type": "scatter",
         "x": [
          -0.42315214872404533,
          -0.11484503021519027,
          null
         ],
         "y": [
          0.5728609545690998,
          0.3952508395597706,
          null
         ]
        },
        {
         "hoverinfo": "none",
         "hovertext": " ",
         "line": {
          "color": "rgb(206, 236, 200)",
          "width": 1
         },
         "textposition": "top center",
         "type": "scatter",
         "x": [
          -0.42315214872404533,
          0.1449387983818865,
          null
         ],
         "y": [
          0.5728609545690998,
          -0.19991215144002028,
          null
         ]
        },
        {
         "hoverinfo": "none",
         "hovertext": " ",
         "line": {
          "color": "rgb(231, 246, 227)",
          "width": 0
         },
         "textposition": "top center",
         "type": "scatter",
         "x": [
          -0.42315214872404533,
          -0.4480642147745625,
          null
         ],
         "y": [
          0.5728609545690998,
          -0.5647369208751434,
          null
         ]
        },
        {
         "hoverinfo": "none",
         "hovertext": " ",
         "line": {
          "color": "rgb(231, 246, 227)",
          "width": 0
         },
         "textposition": "top center",
         "type": "scatter",
         "x": [
          -0.42315214872404533,
          -0.7281161589787841,
          null
         ],
         "y": [
          0.5728609545690998,
          0.18670197297230368,
          null
         ]
        },
        {
         "hoverinfo": "none",
         "hovertext": " ",
         "line": {
          "color": "rgb(93, 185, 107)",
          "width": 4
         },
         "textposition": "top center",
         "type": "scatter",
         "x": [
          -0.19616938522515973,
          -0.19616938522515973,
          null
         ],
         "y": [
          -0.9921088336686266,
          -0.9921088336686266,
          null
         ]
        },
        {
         "hoverinfo": "none",
         "hovertext": " ",
         "line": {
          "color": "rgb(174, 222, 167)",
          "width": 2
         },
         "textposition": "top center",
         "type": "scatter",
         "x": [
          -0.19616938522515973,
          -0.18453436507291418,
          null
         ],
         "y": [
          -0.9921088336686266,
          0.019894190336143733,
          null
         ]
        },
        {
         "hoverinfo": "none",
         "hovertext": " ",
         "line": {
          "color": "rgb(231, 246, 227)",
          "width": 0
         },
         "textposition": "top center",
         "type": "scatter",
         "x": [
          -0.19616938522515973,
          -0.05768021359772707,
          null
         ],
         "y": [
          -0.9921088336686266,
          -0.2857092657225607,
          null
         ]
        },
        {
         "hoverinfo": "none",
         "hovertext": " ",
         "line": {
          "color": "rgb(231, 246, 227)",
          "width": 0
         },
         "textposition": "top center",
         "type": "scatter",
         "x": [
          -0.19616938522515973,
          0.5221620128874973,
          null
         ],
         "y": [
          -0.9921088336686266,
          -0.22371668046237014,
          null
         ]
        },
        {
         "hoverinfo": "none",
         "hovertext": " ",
         "line": {
          "color": "rgb(231, 246, 227)",
          "width": 0
         },
         "textposition": "top center",
         "type": "scatter",
         "x": [
          -0.19616938522515973,
          -0.4785319216379006,
          null
         ],
         "y": [
          -0.9921088336686266,
          -0.09727330761290566,
          null
         ]
        },
        {
         "hoverinfo": "none",
         "hovertext": " ",
         "line": {
          "color": "rgb(231, 246, 227)",
          "width": 0
         },
         "textposition": "top center",
         "type": "scatter",
         "x": [
          -0.19616938522515973,
          0.26041211431698535,
          null
         ],
         "y": [
          -0.9921088336686266,
          0.3783038837175746,
          null
         ]
        },
        {
         "hoverinfo": "none",
         "hovertext": " ",
         "line": {
          "color": "rgb(231, 246, 227)",
          "width": 0
         },
         "textposition": "top center",
         "type": "scatter",
         "x": [
          -0.19616938522515973,
          0.04788960634673765,
          null
         ],
         "y": [
          -0.9921088336686266,
          0.17310151502817359,
          null
         ]
        },
        {
         "hoverinfo": "none",
         "hovertext": " ",
         "line": {
          "color": "rgb(206, 236, 200)",
          "width": 1
         },
         "textposition": "top center",
         "type": "scatter",
         "x": [
          -0.19616938522515973,
          -0.13831907570377594,
          null
         ],
         "y": [
          -0.9921088336686266,
          -0.5840419276221137,
          null
         ]
        },
        {
         "hoverinfo": "none",
         "hovertext": " ",
         "line": {
          "color": "rgb(231, 246, 227)",
          "width": 0
         },
         "textposition": "top center",
         "type": "scatter",
         "x": [
          -0.19616938522515973,
          -0.7821113335359461,
          null
         ],
         "y": [
          -0.9921088336686266,
          -0.33066913127911723,
          null
         ]
        },
        {
         "hoverinfo": "none",
         "hovertext": " ",
         "line": {
          "color": "rgb(231, 246, 227)",
          "width": 0
         },
         "textposition": "top center",
         "type": "scatter",
         "x": [
          -0.19616938522515973,
          0.3258739032715395,
          null
         ],
         "y": [
          -0.9921088336686266,
          -0.46008972657043984,
          null
         ]
        },
        {
         "hoverinfo": "none",
         "hovertext": " ",
         "line": {
          "color": "rgb(231, 246, 227)",
          "width": 0
         },
         "textposition": "top center",
         "type": "scatter",
         "x": [
          -0.19616938522515973,
          0.8512794768002446,
          null
         ],
         "y": [
          -0.9921088336686266,
          0.5316526886740731,
          null
         ]
        },
        {
         "hoverinfo": "none",
         "hovertext": " ",
         "line": {
          "color": "rgb(231, 246, 227)",
          "width": 0
         },
         "textposition": "top center",
         "type": "scatter",
         "x": [
          -0.19616938522515973,
          0.6387434641683799,
          null
         ],
         "y": [
          -0.9921088336686266,
          0.8502974259675539,
          null
         ]
        },
        {
         "hoverinfo": "none",
         "hovertext": " ",
         "line": {
          "color": "rgb(206, 236, 200)",
          "width": 1
         },
         "textposition": "top center",
         "type": "scatter",
         "x": [
          -0.19616938522515973,
          -0.6357871398279092,
          null
         ],
         "y": [
          -0.9921088336686266,
          -1,
          null
         ]
        },
        {
         "hoverinfo": "none",
         "hovertext": " ",
         "line": {
          "color": "rgb(136, 206, 135)",
          "width": 3
         },
         "textposition": "top center",
         "type": "scatter",
         "x": [
          -0.19616938522515973,
          -0.40569121539260206,
          null
         ],
         "y": [
          -0.9921088336686266,
          -0.32734802801625695,
          null
         ]
        },
        {
         "hoverinfo": "none",
         "hovertext": " ",
         "line": {
          "color": "rgb(231, 246, 227)",
          "width": 0
         },
         "textposition": "top center",
         "type": "scatter",
         "x": [
          -0.19616938522515973,
          -0.11484503021519027,
          null
         ],
         "y": [
          -0.9921088336686266,
          0.3952508395597706,
          null
         ]
        },
        {
         "hoverinfo": "none",
         "hovertext": " ",
         "line": {
          "color": "rgb(206, 236, 200)",
          "width": 1
         },
         "textposition": "top center",
         "type": "scatter",
         "x": [
          -0.19616938522515973,
          0.1449387983818865,
          null
         ],
         "y": [
          -0.9921088336686266,
          -0.19991215144002028,
          null
         ]
        },
        {
         "hoverinfo": "none",
         "hovertext": " ",
         "line": {
          "color": "rgb(206, 236, 200)",
          "width": 1
         },
         "textposition": "top center",
         "type": "scatter",
         "x": [
          -0.19616938522515973,
          -0.4480642147745625,
          null
         ],
         "y": [
          -0.9921088336686266,
          -0.5647369208751434,
          null
         ]
        },
        {
         "hoverinfo": "none",
         "hovertext": " ",
         "line": {
          "color": "rgb(231, 246, 227)",
          "width": 0
         },
         "textposition": "top center",
         "type": "scatter",
         "x": [
          -0.19616938522515973,
          -0.7281161589787841,
          null
         ],
         "y": [
          -0.9921088336686266,
          0.18670197297230368,
          null
         ]
        },
        {
         "hoverinfo": "none",
         "hovertext": " ",
         "line": {
          "color": "rgb(0, 104, 42)",
          "width": 7
         },
         "textposition": "top center",
         "type": "scatter",
         "x": [
          -0.18453436507291418,
          -0.18453436507291418,
          null
         ],
         "y": [
          0.019894190336143733,
          0.019894190336143733,
          null
         ]
        },
        {
         "hoverinfo": "none",
         "hovertext": " ",
         "line": {
          "color": "rgb(136, 206, 135)",
          "width": 3
         },
         "textposition": "top center",
         "type": "scatter",
         "x": [
          -0.18453436507291418,
          -0.05768021359772707,
          null
         ],
         "y": [
          0.019894190336143733,
          -0.2857092657225607,
          null
         ]
        },
        {
         "hoverinfo": "none",
         "hovertext": " ",
         "line": {
          "color": "rgb(174, 222, 167)",
          "width": 2
         },
         "textposition": "top center",
         "type": "scatter",
         "x": [
          -0.18453436507291418,
          0.5221620128874973,
          null
         ],
         "y": [
          0.019894190336143733,
          -0.22371668046237014,
          null
         ]
        },
        {
         "hoverinfo": "none",
         "hovertext": " ",
         "line": {
          "color": "rgb(93, 185, 107)",
          "width": 4
         },
         "textposition": "top center",
         "type": "scatter",
         "x": [
          -0.18453436507291418,
          -0.4785319216379006,
          null
         ],
         "y": [
          0.019894190336143733,
          -0.09727330761290566,
          null
         ]
        },
        {
         "hoverinfo": "none",
         "hovertext": " ",
         "line": {
          "color": "rgb(136, 206, 135)",
          "width": 3
         },
         "textposition": "top center",
         "type": "scatter",
         "x": [
          -0.18453436507291418,
          0.26041211431698535,
          null
         ],
         "y": [
          0.019894190336143733,
          0.3783038837175746,
          null
         ]
        },
        {
         "hoverinfo": "none",
         "hovertext": " ",
         "line": {
          "color": "rgb(206, 236, 200)",
          "width": 1
         },
         "textposition": "top center",
         "type": "scatter",
         "x": [
          -0.18453436507291418,
          0.3514228485283896,
          null
         ],
         "y": [
          0.019894190336143733,
          0.6520167153614409,
          null
         ]
        },
        {
         "hoverinfo": "none",
         "hovertext": " ",
         "line": {
          "color": "rgb(136, 206, 135)",
          "width": 3
         },
         "textposition": "top center",
         "type": "scatter",
         "x": [
          -0.18453436507291418,
          0.04788960634673765,
          null
         ],
         "y": [
          0.019894190336143733,
          0.17310151502817359,
          null
         ]
        },
        {
         "hoverinfo": "none",
         "hovertext": " ",
         "line": {
          "color": "rgb(136, 206, 135)",
          "width": 3
         },
         "textposition": "top center",
         "type": "scatter",
         "x": [
          -0.18453436507291418,
          -0.13831907570377594,
          null
         ],
         "y": [
          0.019894190336143733,
          -0.5840419276221137,
          null
         ]
        },
        {
         "hoverinfo": "none",
         "hovertext": " ",
         "line": {
          "color": "rgb(136, 206, 135)",
          "width": 3
         },
         "textposition": "top center",
         "type": "scatter",
         "x": [
          -0.18453436507291418,
          -0.7821113335359461,
          null
         ],
         "y": [
          0.019894190336143733,
          -0.33066913127911723,
          null
         ]
        },
        {
         "hoverinfo": "none",
         "hovertext": " ",
         "line": {
          "color": "rgb(174, 222, 167)",
          "width": 2
         },
         "textposition": "top center",
         "type": "scatter",
         "x": [
          -0.18453436507291418,
          0.07372678093973499,
          null
         ],
         "y": [
          0.019894190336143733,
          0.8249495473283394,
          null
         ]
        },
        {
         "hoverinfo": "none",
         "hovertext": " ",
         "line": {
          "color": "rgb(174, 222, 167)",
          "width": 2
         },
         "textposition": "top center",
         "type": "scatter",
         "x": [
          -0.18453436507291418,
          0.3258739032715395,
          null
         ],
         "y": [
          0.019894190336143733,
          -0.46008972657043984,
          null
         ]
        },
        {
         "hoverinfo": "none",
         "hovertext": " ",
         "line": {
          "color": "rgb(231, 246, 227)",
          "width": 0
         },
         "textposition": "top center",
         "type": "scatter",
         "x": [
          -0.18453436507291418,
          0.8512794768002446,
          null
         ],
         "y": [
          0.019894190336143733,
          0.5316526886740731,
          null
         ]
        },
        {
         "hoverinfo": "none",
         "hovertext": " ",
         "line": {
          "color": "rgb(206, 236, 200)",
          "width": 1
         },
         "textposition": "top center",
         "type": "scatter",
         "x": [
          -0.18453436507291418,
          0.6387434641683799,
          null
         ],
         "y": [
          0.019894190336143733,
          0.8502974259675539,
          null
         ]
        },
        {
         "hoverinfo": "none",
         "hovertext": " ",
         "line": {
          "color": "rgb(206, 236, 200)",
          "width": 1
         },
         "textposition": "top center",
         "type": "scatter",
         "x": [
          -0.18453436507291418,
          -0.6357871398279092,
          null
         ],
         "y": [
          0.019894190336143733,
          -1,
          null
         ]
        },
        {
         "hoverinfo": "none",
         "hovertext": " ",
         "line": {
          "color": "rgb(93, 185, 107)",
          "width": 4
         },
         "textposition": "top center",
         "type": "scatter",
         "x": [
          -0.18453436507291418,
          -0.40569121539260206,
          null
         ],
         "y": [
          0.019894190336143733,
          -0.32734802801625695,
          null
         ]
        },
        {
         "hoverinfo": "none",
         "hovertext": " ",
         "line": {
          "color": "rgb(206, 236, 200)",
          "width": 1
         },
         "textposition": "top center",
         "type": "scatter",
         "x": [
          -0.18453436507291418,
          0.6450589027683868,
          null
         ],
         "y": [
          0.019894190336143733,
          0.39540404296582776,
          null
         ]
        },
        {
         "hoverinfo": "none",
         "hovertext": " ",
         "line": {
          "color": "rgb(136, 206, 135)",
          "width": 3
         },
         "textposition": "top center",
         "type": "scatter",
         "x": [
          -0.18453436507291418,
          -0.11484503021519027,
          null
         ],
         "y": [
          0.019894190336143733,
          0.3952508395597706,
          null
         ]
        },
        {
         "hoverinfo": "none",
         "hovertext": " ",
         "line": {
          "color": "rgb(136, 206, 135)",
          "width": 3
         },
         "textposition": "top center",
         "type": "scatter",
         "x": [
          -0.18453436507291418,
          0.1449387983818865,
          null
         ],
         "y": [
          0.019894190336143733,
          -0.19991215144002028,
          null
         ]
        },
        {
         "hoverinfo": "none",
         "hovertext": " ",
         "line": {
          "color": "rgb(136, 206, 135)",
          "width": 3
         },
         "textposition": "top center",
         "type": "scatter",
         "x": [
          -0.18453436507291418,
          -0.4480642147745625,
          null
         ],
         "y": [
          0.019894190336143733,
          -0.5647369208751434,
          null
         ]
        },
        {
         "hoverinfo": "none",
         "hovertext": " ",
         "line": {
          "color": "rgb(206, 236, 200)",
          "width": 1
         },
         "textposition": "top center",
         "type": "scatter",
         "x": [
          -0.18453436507291418,
          -0.7281161589787841,
          null
         ],
         "y": [
          0.019894190336143733,
          0.18670197297230368,
          null
         ]
        },
        {
         "hoverinfo": "none",
         "hovertext": " ",
         "line": {
          "color": "rgb(0, 104, 42)",
          "width": 7
         },
         "textposition": "top center",
         "type": "scatter",
         "x": [
          -0.05768021359772707,
          -0.05768021359772707,
          null
         ],
         "y": [
          -0.2857092657225607,
          -0.2857092657225607,
          null
         ]
        },
        {
         "hoverinfo": "none",
         "hovertext": " ",
         "line": {
          "color": "rgb(206, 236, 200)",
          "width": 1
         },
         "textposition": "top center",
         "type": "scatter",
         "x": [
          -0.05768021359772707,
          0.5221620128874973,
          null
         ],
         "y": [
          -0.2857092657225607,
          -0.22371668046237014,
          null
         ]
        },
        {
         "hoverinfo": "none",
         "hovertext": " ",
         "line": {
          "color": "rgb(136, 206, 135)",
          "width": 3
         },
         "textposition": "top center",
         "type": "scatter",
         "x": [
          -0.05768021359772707,
          -0.4785319216379006,
          null
         ],
         "y": [
          -0.2857092657225607,
          -0.09727330761290566,
          null
         ]
        },
        {
         "hoverinfo": "none",
         "hovertext": " ",
         "line": {
          "color": "rgb(231, 246, 227)",
          "width": 0
         },
         "textposition": "top center",
         "type": "scatter",
         "x": [
          -0.05768021359772707,
          0.26041211431698535,
          null
         ],
         "y": [
          -0.2857092657225607,
          0.3783038837175746,
          null
         ]
        },
        {
         "hoverinfo": "none",
         "hovertext": " ",
         "line": {
          "color": "rgb(231, 246, 227)",
          "width": 0
         },
         "textposition": "top center",
         "type": "scatter",
         "x": [
          -0.05768021359772707,
          0.3514228485283896,
          null
         ],
         "y": [
          -0.2857092657225607,
          0.6520167153614409,
          null
         ]
        },
        {
         "hoverinfo": "none",
         "hovertext": " ",
         "line": {
          "color": "rgb(206, 236, 200)",
          "width": 1
         },
         "textposition": "top center",
         "type": "scatter",
         "x": [
          -0.05768021359772707,
          0.04788960634673765,
          null
         ],
         "y": [
          -0.2857092657225607,
          0.17310151502817359,
          null
         ]
        },
        {
         "hoverinfo": "none",
         "hovertext": " ",
         "line": {
          "color": "rgb(136, 206, 135)",
          "width": 3
         },
         "textposition": "top center",
         "type": "scatter",
         "x": [
          -0.05768021359772707,
          -0.13831907570377594,
          null
         ],
         "y": [
          -0.2857092657225607,
          -0.5840419276221137,
          null
         ]
        },
        {
         "hoverinfo": "none",
         "hovertext": " ",
         "line": {
          "color": "rgb(136, 206, 135)",
          "width": 3
         },
         "textposition": "top center",
         "type": "scatter",
         "x": [
          -0.05768021359772707,
          -0.7821113335359461,
          null
         ],
         "y": [
          -0.2857092657225607,
          -0.33066913127911723,
          null
         ]
        },
        {
         "hoverinfo": "none",
         "hovertext": " ",
         "line": {
          "color": "rgb(231, 246, 227)",
          "width": 0
         },
         "textposition": "top center",
         "type": "scatter",
         "x": [
          -0.05768021359772707,
          0.07372678093973499,
          null
         ],
         "y": [
          -0.2857092657225607,
          0.8249495473283394,
          null
         ]
        },
        {
         "hoverinfo": "none",
         "hovertext": " ",
         "line": {
          "color": "rgb(206, 236, 200)",
          "width": 1
         },
         "textposition": "top center",
         "type": "scatter",
         "x": [
          -0.05768021359772707,
          0.3258739032715395,
          null
         ],
         "y": [
          -0.2857092657225607,
          -0.46008972657043984,
          null
         ]
        },
        {
         "hoverinfo": "none",
         "hovertext": " ",
         "line": {
          "color": "rgb(231, 246, 227)",
          "width": 0
         },
         "textposition": "top center",
         "type": "scatter",
         "x": [
          -0.05768021359772707,
          0.8512794768002446,
          null
         ],
         "y": [
          -0.2857092657225607,
          0.5316526886740731,
          null
         ]
        },
        {
         "hoverinfo": "none",
         "hovertext": " ",
         "line": {
          "color": "rgb(231, 246, 227)",
          "width": 0
         },
         "textposition": "top center",
         "type": "scatter",
         "x": [
          -0.05768021359772707,
          0.6387434641683799,
          null
         ],
         "y": [
          -0.2857092657225607,
          0.8502974259675539,
          null
         ]
        },
        {
         "hoverinfo": "none",
         "hovertext": " ",
         "line": {
          "color": "rgb(231, 246, 227)",
          "width": 0
         },
         "textposition": "top center",
         "type": "scatter",
         "x": [
          -0.05768021359772707,
          -0.6357871398279092,
          null
         ],
         "y": [
          -0.2857092657225607,
          -1,
          null
         ]
        },
        {
         "hoverinfo": "none",
         "hovertext": " ",
         "line": {
          "color": "rgb(136, 206, 135)",
          "width": 3
         },
         "textposition": "top center",
         "type": "scatter",
         "x": [
          -0.05768021359772707,
          -0.40569121539260206,
          null
         ],
         "y": [
          -0.2857092657225607,
          -0.32734802801625695,
          null
         ]
        },
        {
         "hoverinfo": "none",
         "hovertext": " ",
         "line": {
          "color": "rgb(231, 246, 227)",
          "width": 0
         },
         "textposition": "top center",
         "type": "scatter",
         "x": [
          -0.05768021359772707,
          0.6450589027683868,
          null
         ],
         "y": [
          -0.2857092657225607,
          0.39540404296582776,
          null
         ]
        },
        {
         "hoverinfo": "none",
         "hovertext": " ",
         "line": {
          "color": "rgb(206, 236, 200)",
          "width": 1
         },
         "textposition": "top center",
         "type": "scatter",
         "x": [
          -0.05768021359772707,
          -0.11484503021519027,
          null
         ],
         "y": [
          -0.2857092657225607,
          0.3952508395597706,
          null
         ]
        },
        {
         "hoverinfo": "none",
         "hovertext": " ",
         "line": {
          "color": "rgb(174, 222, 167)",
          "width": 2
         },
         "textposition": "top center",
         "type": "scatter",
         "x": [
          -0.05768021359772707,
          0.1449387983818865,
          null
         ],
         "y": [
          -0.2857092657225607,
          -0.19991215144002028,
          null
         ]
        },
        {
         "hoverinfo": "none",
         "hovertext": " ",
         "line": {
          "color": "rgb(136, 206, 135)",
          "width": 3
         },
         "textposition": "top center",
         "type": "scatter",
         "x": [
          -0.05768021359772707,
          -0.4480642147745625,
          null
         ],
         "y": [
          -0.2857092657225607,
          -0.5647369208751434,
          null
         ]
        },
        {
         "hoverinfo": "none",
         "hovertext": " ",
         "line": {
          "color": "rgb(206, 236, 200)",
          "width": 1
         },
         "textposition": "top center",
         "type": "scatter",
         "x": [
          -0.05768021359772707,
          -0.7281161589787841,
          null
         ],
         "y": [
          -0.2857092657225607,
          0.18670197297230368,
          null
         ]
        },
        {
         "hoverinfo": "none",
         "hovertext": " ",
         "line": {
          "color": "rgb(26, 132, 63)",
          "width": 6
         },
         "textposition": "top center",
         "type": "scatter",
         "x": [
          0.5221620128874973,
          0.5221620128874973,
          null
         ],
         "y": [
          -0.22371668046237014,
          -0.22371668046237014,
          null
         ]
        },
        {
         "hoverinfo": "none",
         "hovertext": " ",
         "line": {
          "color": "rgb(206, 236, 200)",
          "width": 1
         },
         "textposition": "top center",
         "type": "scatter",
         "x": [
          0.5221620128874973,
          -0.4785319216379006,
          null
         ],
         "y": [
          -0.22371668046237014,
          -0.09727330761290566,
          null
         ]
        },
        {
         "hoverinfo": "none",
         "hovertext": " ",
         "line": {
          "color": "rgb(206, 236, 200)",
          "width": 1
         },
         "textposition": "top center",
         "type": "scatter",
         "x": [
          0.5221620128874973,
          0.26041211431698535,
          null
         ],
         "y": [
          -0.22371668046237014,
          0.3783038837175746,
          null
         ]
        },
        {
         "hoverinfo": "none",
         "hovertext": " ",
         "line": {
          "color": "rgb(231, 246, 227)",
          "width": 0
         },
         "textposition": "top center",
         "type": "scatter",
         "x": [
          0.5221620128874973,
          0.3514228485283896,
          null
         ],
         "y": [
          -0.22371668046237014,
          0.6520167153614409,
          null
         ]
        },
        {
         "hoverinfo": "none",
         "hovertext": " ",
         "line": {
          "color": "rgb(231, 246, 227)",
          "width": 0
         },
         "textposition": "top center",
         "type": "scatter",
         "x": [
          0.5221620128874973,
          0.04788960634673765,
          null
         ],
         "y": [
          -0.22371668046237014,
          0.17310151502817359,
          null
         ]
        },
        {
         "hoverinfo": "none",
         "hovertext": " ",
         "line": {
          "color": "rgb(231, 246, 227)",
          "width": 0
         },
         "textposition": "top center",
         "type": "scatter",
         "x": [
          0.5221620128874973,
          -0.13831907570377594,
          null
         ],
         "y": [
          -0.22371668046237014,
          -0.5840419276221137,
          null
         ]
        },
        {
         "hoverinfo": "none",
         "hovertext": " ",
         "line": {
          "color": "rgb(231, 246, 227)",
          "width": 0
         },
         "textposition": "top center",
         "type": "scatter",
         "x": [
          0.5221620128874973,
          -0.7821113335359461,
          null
         ],
         "y": [
          -0.22371668046237014,
          -0.33066913127911723,
          null
         ]
        },
        {
         "hoverinfo": "none",
         "hovertext": " ",
         "line": {
          "color": "rgb(206, 236, 200)",
          "width": 1
         },
         "textposition": "top center",
         "type": "scatter",
         "x": [
          0.5221620128874973,
          0.07372678093973499,
          null
         ],
         "y": [
          -0.22371668046237014,
          0.8249495473283394,
          null
         ]
        },
        {
         "hoverinfo": "none",
         "hovertext": " ",
         "line": {
          "color": "rgb(206, 236, 200)",
          "width": 1
         },
         "textposition": "top center",
         "type": "scatter",
         "x": [
          0.5221620128874973,
          0.3258739032715395,
          null
         ],
         "y": [
          -0.22371668046237014,
          -0.46008972657043984,
          null
         ]
        },
        {
         "hoverinfo": "none",
         "hovertext": " ",
         "line": {
          "color": "rgb(231, 246, 227)",
          "width": 0
         },
         "textposition": "top center",
         "type": "scatter",
         "x": [
          0.5221620128874973,
          0.8512794768002446,
          null
         ],
         "y": [
          -0.22371668046237014,
          0.5316526886740731,
          null
         ]
        },
        {
         "hoverinfo": "none",
         "hovertext": " ",
         "line": {
          "color": "rgb(231, 246, 227)",
          "width": 0
         },
         "textposition": "top center",
         "type": "scatter",
         "x": [
          0.5221620128874973,
          0.6387434641683799,
          null
         ],
         "y": [
          -0.22371668046237014,
          0.8502974259675539,
          null
         ]
        },
        {
         "hoverinfo": "none",
         "hovertext": " ",
         "line": {
          "color": "rgb(231, 246, 227)",
          "width": 0
         },
         "textposition": "top center",
         "type": "scatter",
         "x": [
          0.5221620128874973,
          -0.6357871398279092,
          null
         ],
         "y": [
          -0.22371668046237014,
          -1,
          null
         ]
        },
        {
         "hoverinfo": "none",
         "hovertext": " ",
         "line": {
          "color": "rgb(231, 246, 227)",
          "width": 0
         },
         "textposition": "top center",
         "type": "scatter",
         "x": [
          0.5221620128874973,
          -0.40569121539260206,
          null
         ],
         "y": [
          -0.22371668046237014,
          -0.32734802801625695,
          null
         ]
        },
        {
         "hoverinfo": "none",
         "hovertext": " ",
         "line": {
          "color": "rgb(206, 236, 200)",
          "width": 1
         },
         "textposition": "top center",
         "type": "scatter",
         "x": [
          0.5221620128874973,
          0.6450589027683868,
          null
         ],
         "y": [
          -0.22371668046237014,
          0.39540404296582776,
          null
         ]
        },
        {
         "hoverinfo": "none",
         "hovertext": " ",
         "line": {
          "color": "rgb(231, 246, 227)",
          "width": 0
         },
         "textposition": "top center",
         "type": "scatter",
         "x": [
          0.5221620128874973,
          -0.11484503021519027,
          null
         ],
         "y": [
          -0.22371668046237014,
          0.3952508395597706,
          null
         ]
        },
        {
         "hoverinfo": "none",
         "hovertext": " ",
         "line": {
          "color": "rgb(206, 236, 200)",
          "width": 1
         },
         "textposition": "top center",
         "type": "scatter",
         "x": [
          0.5221620128874973,
          0.1449387983818865,
          null
         ],
         "y": [
          -0.22371668046237014,
          -0.19991215144002028,
          null
         ]
        },
        {
         "hoverinfo": "none",
         "hovertext": " ",
         "line": {
          "color": "rgb(231, 246, 227)",
          "width": 0
         },
         "textposition": "top center",
         "type": "scatter",
         "x": [
          0.5221620128874973,
          -0.4480642147745625,
          null
         ],
         "y": [
          -0.22371668046237014,
          -0.5647369208751434,
          null
         ]
        },
        {
         "hoverinfo": "none",
         "hovertext": " ",
         "line": {
          "color": "rgb(206, 236, 200)",
          "width": 1
         },
         "textposition": "top center",
         "type": "scatter",
         "x": [
          0.5221620128874973,
          -0.7281161589787841,
          null
         ],
         "y": [
          -0.22371668046237014,
          0.18670197297230368,
          null
         ]
        },
        {
         "hoverinfo": "none",
         "hovertext": " ",
         "line": {
          "color": "rgb(55, 160, 85)",
          "width": 5
         },
         "textposition": "top center",
         "type": "scatter",
         "x": [
          -0.4785319216379006,
          -0.4785319216379006,
          null
         ],
         "y": [
          -0.09727330761290566,
          -0.09727330761290566,
          null
         ]
        },
        {
         "hoverinfo": "none",
         "hovertext": " ",
         "line": {
          "color": "rgb(231, 246, 227)",
          "width": 0
         },
         "textposition": "top center",
         "type": "scatter",
         "x": [
          -0.4785319216379006,
          0.26041211431698535,
          null
         ],
         "y": [
          -0.09727330761290566,
          0.3783038837175746,
          null
         ]
        },
        {
         "hoverinfo": "none",
         "hovertext": " ",
         "line": {
          "color": "rgb(231, 246, 227)",
          "width": 0
         },
         "textposition": "top center",
         "type": "scatter",
         "x": [
          -0.4785319216379006,
          0.3514228485283896,
          null
         ],
         "y": [
          -0.09727330761290566,
          0.6520167153614409,
          null
         ]
        },
        {
         "hoverinfo": "none",
         "hovertext": " ",
         "line": {
          "color": "rgb(174, 222, 167)",
          "width": 2
         },
         "textposition": "top center",
         "type": "scatter",
         "x": [
          -0.4785319216379006,
          0.04788960634673765,
          null
         ],
         "y": [
          -0.09727330761290566,
          0.17310151502817359,
          null
         ]
        },
        {
         "hoverinfo": "none",
         "hovertext": " ",
         "line": {
          "color": "rgb(136, 206, 135)",
          "width": 3
         },
         "textposition": "top center",
         "type": "scatter",
         "x": [
          -0.4785319216379006,
          -0.13831907570377594,
          null
         ],
         "y": [
          -0.09727330761290566,
          -0.5840419276221137,
          null
         ]
        },
        {
         "hoverinfo": "none",
         "hovertext": " ",
         "line": {
          "color": "rgb(206, 236, 200)",
          "width": 1
         },
         "textposition": "top center",
         "type": "scatter",
         "x": [
          -0.4785319216379006,
          -0.7821113335359461,
          null
         ],
         "y": [
          -0.09727330761290566,
          -0.33066913127911723,
          null
         ]
        },
        {
         "hoverinfo": "none",
         "hovertext": " ",
         "line": {
          "color": "rgb(231, 246, 227)",
          "width": 0
         },
         "textposition": "top center",
         "type": "scatter",
         "x": [
          -0.4785319216379006,
          0.07372678093973499,
          null
         ],
         "y": [
          -0.09727330761290566,
          0.8249495473283394,
          null
         ]
        },
        {
         "hoverinfo": "none",
         "hovertext": " ",
         "line": {
          "color": "rgb(206, 236, 200)",
          "width": 1
         },
         "textposition": "top center",
         "type": "scatter",
         "x": [
          -0.4785319216379006,
          0.3258739032715395,
          null
         ],
         "y": [
          -0.09727330761290566,
          -0.46008972657043984,
          null
         ]
        },
        {
         "hoverinfo": "none",
         "hovertext": " ",
         "line": {
          "color": "rgb(231, 246, 227)",
          "width": 0
         },
         "textposition": "top center",
         "type": "scatter",
         "x": [
          -0.4785319216379006,
          0.8512794768002446,
          null
         ],
         "y": [
          -0.09727330761290566,
          0.5316526886740731,
          null
         ]
        },
        {
         "hoverinfo": "none",
         "hovertext": " ",
         "line": {
          "color": "rgb(231, 246, 227)",
          "width": 0
         },
         "textposition": "top center",
         "type": "scatter",
         "x": [
          -0.4785319216379006,
          0.6387434641683799,
          null
         ],
         "y": [
          -0.09727330761290566,
          0.8502974259675539,
          null
         ]
        },
        {
         "hoverinfo": "none",
         "hovertext": " ",
         "line": {
          "color": "rgb(231, 246, 227)",
          "width": 0
         },
         "textposition": "top center",
         "type": "scatter",
         "x": [
          -0.4785319216379006,
          -0.6357871398279092,
          null
         ],
         "y": [
          -0.09727330761290566,
          -1,
          null
         ]
        },
        {
         "hoverinfo": "none",
         "hovertext": " ",
         "line": {
          "color": "rgb(136, 206, 135)",
          "width": 3
         },
         "textposition": "top center",
         "type": "scatter",
         "x": [
          -0.4785319216379006,
          -0.40569121539260206,
          null
         ],
         "y": [
          -0.09727330761290566,
          -0.32734802801625695,
          null
         ]
        },
        {
         "hoverinfo": "none",
         "hovertext": " ",
         "line": {
          "color": "rgb(231, 246, 227)",
          "width": 0
         },
         "textposition": "top center",
         "type": "scatter",
         "x": [
          -0.4785319216379006,
          0.6450589027683868,
          null
         ],
         "y": [
          -0.09727330761290566,
          0.39540404296582776,
          null
         ]
        },
        {
         "hoverinfo": "none",
         "hovertext": " ",
         "line": {
          "color": "rgb(174, 222, 167)",
          "width": 2
         },
         "textposition": "top center",
         "type": "scatter",
         "x": [
          -0.4785319216379006,
          -0.11484503021519027,
          null
         ],
         "y": [
          -0.09727330761290566,
          0.3952508395597706,
          null
         ]
        },
        {
         "hoverinfo": "none",
         "hovertext": " ",
         "line": {
          "color": "rgb(136, 206, 135)",
          "width": 3
         },
         "textposition": "top center",
         "type": "scatter",
         "x": [
          -0.4785319216379006,
          0.1449387983818865,
          null
         ],
         "y": [
          -0.09727330761290566,
          -0.19991215144002028,
          null
         ]
        },
        {
         "hoverinfo": "none",
         "hovertext": " ",
         "line": {
          "color": "rgb(136, 206, 135)",
          "width": 3
         },
         "textposition": "top center",
         "type": "scatter",
         "x": [
          -0.4785319216379006,
          -0.4480642147745625,
          null
         ],
         "y": [
          -0.09727330761290566,
          -0.5647369208751434,
          null
         ]
        },
        {
         "hoverinfo": "none",
         "hovertext": " ",
         "line": {
          "color": "rgb(231, 246, 227)",
          "width": 0
         },
         "textposition": "top center",
         "type": "scatter",
         "x": [
          -0.4785319216379006,
          -0.7281161589787841,
          null
         ],
         "y": [
          -0.09727330761290566,
          0.18670197297230368,
          null
         ]
        },
        {
         "hoverinfo": "none",
         "hovertext": " ",
         "line": {
          "color": "rgb(55, 160, 85)",
          "width": 5
         },
         "textposition": "top center",
         "type": "scatter",
         "x": [
          0.26041211431698535,
          0.26041211431698535,
          null
         ],
         "y": [
          0.3783038837175746,
          0.3783038837175746,
          null
         ]
        },
        {
         "hoverinfo": "none",
         "hovertext": " ",
         "line": {
          "color": "rgb(206, 236, 200)",
          "width": 1
         },
         "textposition": "top center",
         "type": "scatter",
         "x": [
          0.26041211431698535,
          0.3514228485283896,
          null
         ],
         "y": [
          0.3783038837175746,
          0.6520167153614409,
          null
         ]
        },
        {
         "hoverinfo": "none",
         "hovertext": " ",
         "line": {
          "color": "rgb(174, 222, 167)",
          "width": 2
         },
         "textposition": "top center",
         "type": "scatter",
         "x": [
          0.26041211431698535,
          0.04788960634673765,
          null
         ],
         "y": [
          0.3783038837175746,
          0.17310151502817359,
          null
         ]
        },
        {
         "hoverinfo": "none",
         "hovertext": " ",
         "line": {
          "color": "rgb(231, 246, 227)",
          "width": 0
         },
         "textposition": "top center",
         "type": "scatter",
         "x": [
          0.26041211431698535,
          -0.13831907570377594,
          null
         ],
         "y": [
          0.3783038837175746,
          -0.5840419276221137,
          null
         ]
        },
        {
         "hoverinfo": "none",
         "hovertext": " ",
         "line": {
          "color": "rgb(231, 246, 227)",
          "width": 0
         },
         "textposition": "top center",
         "type": "scatter",
         "x": [
          0.26041211431698535,
          -0.7821113335359461,
          null
         ],
         "y": [
          0.3783038837175746,
          -0.33066913127911723,
          null
         ]
        },
        {
         "hoverinfo": "none",
         "hovertext": " ",
         "line": {
          "color": "rgb(206, 236, 200)",
          "width": 1
         },
         "textposition": "top center",
         "type": "scatter",
         "x": [
          0.26041211431698535,
          0.07372678093973499,
          null
         ],
         "y": [
          0.3783038837175746,
          0.8249495473283394,
          null
         ]
        },
        {
         "hoverinfo": "none",
         "hovertext": " ",
         "line": {
          "color": "rgb(231, 246, 227)",
          "width": 0
         },
         "textposition": "top center",
         "type": "scatter",
         "x": [
          0.26041211431698535,
          0.3258739032715395,
          null
         ],
         "y": [
          0.3783038837175746,
          -0.46008972657043984,
          null
         ]
        },
        {
         "hoverinfo": "none",
         "hovertext": " ",
         "line": {
          "color": "rgb(206, 236, 200)",
          "width": 1
         },
         "textposition": "top center",
         "type": "scatter",
         "x": [
          0.26041211431698535,
          0.8512794768002446,
          null
         ],
         "y": [
          0.3783038837175746,
          0.5316526886740731,
          null
         ]
        },
        {
         "hoverinfo": "none",
         "hovertext": " ",
         "line": {
          "color": "rgb(206, 236, 200)",
          "width": 1
         },
         "textposition": "top center",
         "type": "scatter",
         "x": [
          0.26041211431698535,
          0.6387434641683799,
          null
         ],
         "y": [
          0.3783038837175746,
          0.8502974259675539,
          null
         ]
        },
        {
         "hoverinfo": "none",
         "hovertext": " ",
         "line": {
          "color": "rgb(231, 246, 227)",
          "width": 0
         },
         "textposition": "top center",
         "type": "scatter",
         "x": [
          0.26041211431698535,
          -0.6357871398279092,
          null
         ],
         "y": [
          0.3783038837175746,
          -1,
          null
         ]
        },
        {
         "hoverinfo": "none",
         "hovertext": " ",
         "line": {
          "color": "rgb(231, 246, 227)",
          "width": 0
         },
         "textposition": "top center",
         "type": "scatter",
         "x": [
          0.26041211431698535,
          -0.40569121539260206,
          null
         ],
         "y": [
          0.3783038837175746,
          -0.32734802801625695,
          null
         ]
        },
        {
         "hoverinfo": "none",
         "hovertext": " ",
         "line": {
          "color": "rgb(206, 236, 200)",
          "width": 1
         },
         "textposition": "top center",
         "type": "scatter",
         "x": [
          0.26041211431698535,
          0.6450589027683868,
          null
         ],
         "y": [
          0.3783038837175746,
          0.39540404296582776,
          null
         ]
        },
        {
         "hoverinfo": "none",
         "hovertext": " ",
         "line": {
          "color": "rgb(174, 222, 167)",
          "width": 2
         },
         "textposition": "top center",
         "type": "scatter",
         "x": [
          0.26041211431698535,
          -0.11484503021519027,
          null
         ],
         "y": [
          0.3783038837175746,
          0.3952508395597706,
          null
         ]
        },
        {
         "hoverinfo": "none",
         "hovertext": " ",
         "line": {
          "color": "rgb(206, 236, 200)",
          "width": 1
         },
         "textposition": "top center",
         "type": "scatter",
         "x": [
          0.26041211431698535,
          0.1449387983818865,
          null
         ],
         "y": [
          0.3783038837175746,
          -0.19991215144002028,
          null
         ]
        },
        {
         "hoverinfo": "none",
         "hovertext": " ",
         "line": {
          "color": "rgb(231, 246, 227)",
          "width": 0
         },
         "textposition": "top center",
         "type": "scatter",
         "x": [
          0.26041211431698535,
          -0.4480642147745625,
          null
         ],
         "y": [
          0.3783038837175746,
          -0.5647369208751434,
          null
         ]
        },
        {
         "hoverinfo": "none",
         "hovertext": " ",
         "line": {
          "color": "rgb(231, 246, 227)",
          "width": 0
         },
         "textposition": "top center",
         "type": "scatter",
         "x": [
          0.26041211431698535,
          -0.7281161589787841,
          null
         ],
         "y": [
          0.3783038837175746,
          0.18670197297230368,
          null
         ]
        },
        {
         "hoverinfo": "none",
         "hovertext": " ",
         "line": {
          "color": "rgb(26, 132, 63)",
          "width": 6
         },
         "textposition": "top center",
         "type": "scatter",
         "x": [
          0.3514228485283896,
          0.3514228485283896,
          null
         ],
         "y": [
          0.6520167153614409,
          0.6520167153614409,
          null
         ]
        },
        {
         "hoverinfo": "none",
         "hovertext": " ",
         "line": {
          "color": "rgb(231, 246, 227)",
          "width": 0
         },
         "textposition": "top center",
         "type": "scatter",
         "x": [
          0.3514228485283896,
          0.04788960634673765,
          null
         ],
         "y": [
          0.6520167153614409,
          0.17310151502817359,
          null
         ]
        },
        {
         "hoverinfo": "none",
         "hovertext": " ",
         "line": {
          "color": "rgb(231, 246, 227)",
          "width": 0
         },
         "textposition": "top center",
         "type": "scatter",
         "x": [
          0.3514228485283896,
          -0.13831907570377594,
          null
         ],
         "y": [
          0.6520167153614409,
          -0.5840419276221137,
          null
         ]
        },
        {
         "hoverinfo": "none",
         "hovertext": " ",
         "line": {
          "color": "rgb(231, 246, 227)",
          "width": 0
         },
         "textposition": "top center",
         "type": "scatter",
         "x": [
          0.3514228485283896,
          -0.7821113335359461,
          null
         ],
         "y": [
          0.6520167153614409,
          -0.33066913127911723,
          null
         ]
        },
        {
         "hoverinfo": "none",
         "hovertext": " ",
         "line": {
          "color": "rgb(206, 236, 200)",
          "width": 1
         },
         "textposition": "top center",
         "type": "scatter",
         "x": [
          0.3514228485283896,
          0.07372678093973499,
          null
         ],
         "y": [
          0.6520167153614409,
          0.8249495473283394,
          null
         ]
        },
        {
         "hoverinfo": "none",
         "hovertext": " ",
         "line": {
          "color": "rgb(231, 246, 227)",
          "width": 0
         },
         "textposition": "top center",
         "type": "scatter",
         "x": [
          0.3514228485283896,
          0.3258739032715395,
          null
         ],
         "y": [
          0.6520167153614409,
          -0.46008972657043984,
          null
         ]
        },
        {
         "hoverinfo": "none",
         "hovertext": " ",
         "line": {
          "color": "rgb(136, 206, 135)",
          "width": 3
         },
         "textposition": "top center",
         "type": "scatter",
         "x": [
          0.3514228485283896,
          0.8512794768002446,
          null
         ],
         "y": [
          0.6520167153614409,
          0.5316526886740731,
          null
         ]
        },
        {
         "hoverinfo": "none",
         "hovertext": " ",
         "line": {
          "color": "rgb(206, 236, 200)",
          "width": 1
         },
         "textposition": "top center",
         "type": "scatter",
         "x": [
          0.3514228485283896,
          0.6387434641683799,
          null
         ],
         "y": [
          0.6520167153614409,
          0.8502974259675539,
          null
         ]
        },
        {
         "hoverinfo": "none",
         "hovertext": " ",
         "line": {
          "color": "rgb(231, 246, 227)",
          "width": 0
         },
         "textposition": "top center",
         "type": "scatter",
         "x": [
          0.3514228485283896,
          -0.6357871398279092,
          null
         ],
         "y": [
          0.6520167153614409,
          -1,
          null
         ]
        },
        {
         "hoverinfo": "none",
         "hovertext": " ",
         "line": {
          "color": "rgb(231, 246, 227)",
          "width": 0
         },
         "textposition": "top center",
         "type": "scatter",
         "x": [
          0.3514228485283896,
          -0.40569121539260206,
          null
         ],
         "y": [
          0.6520167153614409,
          -0.32734802801625695,
          null
         ]
        },
        {
         "hoverinfo": "none",
         "hovertext": " ",
         "line": {
          "color": "rgb(174, 222, 167)",
          "width": 2
         },
         "textposition": "top center",
         "type": "scatter",
         "x": [
          0.3514228485283896,
          0.6450589027683868,
          null
         ],
         "y": [
          0.6520167153614409,
          0.39540404296582776,
          null
         ]
        },
        {
         "hoverinfo": "none",
         "hovertext": " ",
         "line": {
          "color": "rgb(231, 246, 227)",
          "width": 0
         },
         "textposition": "top center",
         "type": "scatter",
         "x": [
          0.3514228485283896,
          -0.11484503021519027,
          null
         ],
         "y": [
          0.6520167153614409,
          0.3952508395597706,
          null
         ]
        },
        {
         "hoverinfo": "none",
         "hovertext": " ",
         "line": {
          "color": "rgb(231, 246, 227)",
          "width": 0
         },
         "textposition": "top center",
         "type": "scatter",
         "x": [
          0.3514228485283896,
          0.1449387983818865,
          null
         ],
         "y": [
          0.6520167153614409,
          -0.19991215144002028,
          null
         ]
        },
        {
         "hoverinfo": "none",
         "hovertext": " ",
         "line": {
          "color": "rgb(231, 246, 227)",
          "width": 0
         },
         "textposition": "top center",
         "type": "scatter",
         "x": [
          0.3514228485283896,
          -0.4480642147745625,
          null
         ],
         "y": [
          0.6520167153614409,
          -0.5647369208751434,
          null
         ]
        },
        {
         "hoverinfo": "none",
         "hovertext": " ",
         "line": {
          "color": "rgb(231, 246, 227)",
          "width": 0
         },
         "textposition": "top center",
         "type": "scatter",
         "x": [
          0.3514228485283896,
          -0.7281161589787841,
          null
         ],
         "y": [
          0.6520167153614409,
          0.18670197297230368,
          null
         ]
        },
        {
         "hoverinfo": "none",
         "hovertext": " ",
         "line": {
          "color": "rgb(55, 160, 85)",
          "width": 5
         },
         "textposition": "top center",
         "type": "scatter",
         "x": [
          0.04788960634673765,
          0.04788960634673765,
          null
         ],
         "y": [
          0.17310151502817359,
          0.17310151502817359,
          null
         ]
        },
        {
         "hoverinfo": "none",
         "hovertext": " ",
         "line": {
          "color": "rgb(206, 236, 200)",
          "width": 1
         },
         "textposition": "top center",
         "type": "scatter",
         "x": [
          0.04788960634673765,
          -0.13831907570377594,
          null
         ],
         "y": [
          0.17310151502817359,
          -0.5840419276221137,
          null
         ]
        },
        {
         "hoverinfo": "none",
         "hovertext": " ",
         "line": {
          "color": "rgb(231, 246, 227)",
          "width": 0
         },
         "textposition": "top center",
         "type": "scatter",
         "x": [
          0.04788960634673765,
          -0.7821113335359461,
          null
         ],
         "y": [
          0.17310151502817359,
          -0.33066913127911723,
          null
         ]
        },
        {
         "hoverinfo": "none",
         "hovertext": " ",
         "line": {
          "color": "rgb(206, 236, 200)",
          "width": 1
         },
         "textposition": "top center",
         "type": "scatter",
         "x": [
          0.04788960634673765,
          0.07372678093973499,
          null
         ],
         "y": [
          0.17310151502817359,
          0.8249495473283394,
          null
         ]
        },
        {
         "hoverinfo": "none",
         "hovertext": " ",
         "line": {
          "color": "rgb(231, 246, 227)",
          "width": 0
         },
         "textposition": "top center",
         "type": "scatter",
         "x": [
          0.04788960634673765,
          0.3258739032715395,
          null
         ],
         "y": [
          0.17310151502817359,
          -0.46008972657043984,
          null
         ]
        },
        {
         "hoverinfo": "none",
         "hovertext": " ",
         "line": {
          "color": "rgb(231, 246, 227)",
          "width": 0
         },
         "textposition": "top center",
         "type": "scatter",
         "x": [
          0.04788960634673765,
          0.8512794768002446,
          null
         ],
         "y": [
          0.17310151502817359,
          0.5316526886740731,
          null
         ]
        },
        {
         "hoverinfo": "none",
         "hovertext": " ",
         "line": {
          "color": "rgb(206, 236, 200)",
          "width": 1
         },
         "textposition": "top center",
         "type": "scatter",
         "x": [
          0.04788960634673765,
          0.6387434641683799,
          null
         ],
         "y": [
          0.17310151502817359,
          0.8502974259675539,
          null
         ]
        },
        {
         "hoverinfo": "none",
         "hovertext": " ",
         "line": {
          "color": "rgb(231, 246, 227)",
          "width": 0
         },
         "textposition": "top center",
         "type": "scatter",
         "x": [
          0.04788960634673765,
          -0.6357871398279092,
          null
         ],
         "y": [
          0.17310151502817359,
          -1,
          null
         ]
        },
        {
         "hoverinfo": "none",
         "hovertext": " ",
         "line": {
          "color": "rgb(174, 222, 167)",
          "width": 2
         },
         "textposition": "top center",
         "type": "scatter",
         "x": [
          0.04788960634673765,
          -0.40569121539260206,
          null
         ],
         "y": [
          0.17310151502817359,
          -0.32734802801625695,
          null
         ]
        },
        {
         "hoverinfo": "none",
         "hovertext": " ",
         "line": {
          "color": "rgb(206, 236, 200)",
          "width": 1
         },
         "textposition": "top center",
         "type": "scatter",
         "x": [
          0.04788960634673765,
          0.6450589027683868,
          null
         ],
         "y": [
          0.17310151502817359,
          0.39540404296582776,
          null
         ]
        },
        {
         "hoverinfo": "none",
         "hovertext": " ",
         "line": {
          "color": "rgb(136, 206, 135)",
          "width": 3
         },
         "textposition": "top center",
         "type": "scatter",
         "x": [
          0.04788960634673765,
          -0.11484503021519027,
          null
         ],
         "y": [
          0.17310151502817359,
          0.3952508395597706,
          null
         ]
        },
        {
         "hoverinfo": "none",
         "hovertext": " ",
         "line": {
          "color": "rgb(174, 222, 167)",
          "width": 2
         },
         "textposition": "top center",
         "type": "scatter",
         "x": [
          0.04788960634673765,
          0.1449387983818865,
          null
         ],
         "y": [
          0.17310151502817359,
          -0.19991215144002028,
          null
         ]
        },
        {
         "hoverinfo": "none",
         "hovertext": " ",
         "line": {
          "color": "rgb(206, 236, 200)",
          "width": 1
         },
         "textposition": "top center",
         "type": "scatter",
         "x": [
          0.04788960634673765,
          -0.4480642147745625,
          null
         ],
         "y": [
          0.17310151502817359,
          -0.5647369208751434,
          null
         ]
        },
        {
         "hoverinfo": "none",
         "hovertext": " ",
         "line": {
          "color": "rgb(231, 246, 227)",
          "width": 0
         },
         "textposition": "top center",
         "type": "scatter",
         "x": [
          0.04788960634673765,
          -0.7281161589787841,
          null
         ],
         "y": [
          0.17310151502817359,
          0.18670197297230368,
          null
         ]
        },
        {
         "hoverinfo": "none",
         "hovertext": " ",
         "line": {
          "color": "rgb(93, 185, 107)",
          "width": 4
         },
         "textposition": "top center",
         "type": "scatter",
         "x": [
          -0.13831907570377594,
          -0.13831907570377594,
          null
         ],
         "y": [
          -0.5840419276221137,
          -0.5840419276221137,
          null
         ]
        },
        {
         "hoverinfo": "none",
         "hovertext": " ",
         "line": {
          "color": "rgb(174, 222, 167)",
          "width": 2
         },
         "textposition": "top center",
         "type": "scatter",
         "x": [
          -0.13831907570377594,
          -0.7821113335359461,
          null
         ],
         "y": [
          -0.5840419276221137,
          -0.33066913127911723,
          null
         ]
        },
        {
         "hoverinfo": "none",
         "hovertext": " ",
         "line": {
          "color": "rgb(231, 246, 227)",
          "width": 0
         },
         "textposition": "top center",
         "type": "scatter",
         "x": [
          -0.13831907570377594,
          0.07372678093973499,
          null
         ],
         "y": [
          -0.5840419276221137,
          0.8249495473283394,
          null
         ]
        },
        {
         "hoverinfo": "none",
         "hovertext": " ",
         "line": {
          "color": "rgb(206, 236, 200)",
          "width": 1
         },
         "textposition": "top center",
         "type": "scatter",
         "x": [
          -0.13831907570377594,
          0.3258739032715395,
          null
         ],
         "y": [
          -0.5840419276221137,
          -0.46008972657043984,
          null
         ]
        },
        {
         "hoverinfo": "none",
         "hovertext": " ",
         "line": {
          "color": "rgb(231, 246, 227)",
          "width": 0
         },
         "textposition": "top center",
         "type": "scatter",
         "x": [
          -0.13831907570377594,
          0.8512794768002446,
          null
         ],
         "y": [
          -0.5840419276221137,
          0.5316526886740731,
          null
         ]
        },
        {
         "hoverinfo": "none",
         "hovertext": " ",
         "line": {
          "color": "rgb(231, 246, 227)",
          "width": 0
         },
         "textposition": "top center",
         "type": "scatter",
         "x": [
          -0.13831907570377594,
          0.6387434641683799,
          null
         ],
         "y": [
          -0.5840419276221137,
          0.8502974259675539,
          null
         ]
        },
        {
         "hoverinfo": "none",
         "hovertext": " ",
         "line": {
          "color": "rgb(231, 246, 227)",
          "width": 0
         },
         "textposition": "top center",
         "type": "scatter",
         "x": [
          -0.13831907570377594,
          -0.6357871398279092,
          null
         ],
         "y": [
          -0.5840419276221137,
          -1,
          null
         ]
        },
        {
         "hoverinfo": "none",
         "hovertext": " ",
         "line": {
          "color": "rgb(93, 185, 107)",
          "width": 4
         },
         "textposition": "top center",
         "type": "scatter",
         "x": [
          -0.13831907570377594,
          -0.40569121539260206,
          null
         ],
         "y": [
          -0.5840419276221137,
          -0.32734802801625695,
          null
         ]
        },
        {
         "hoverinfo": "none",
         "hovertext": " ",
         "line": {
          "color": "rgb(231, 246, 227)",
          "width": 0
         },
         "textposition": "top center",
         "type": "scatter",
         "x": [
          -0.13831907570377594,
          0.6450589027683868,
          null
         ],
         "y": [
          -0.5840419276221137,
          0.39540404296582776,
          null
         ]
        },
        {
         "hoverinfo": "none",
         "hovertext": " ",
         "line": {
          "color": "rgb(206, 236, 200)",
          "width": 1
         },
         "textposition": "top center",
         "type": "scatter",
         "x": [
          -0.13831907570377594,
          -0.11484503021519027,
          null
         ],
         "y": [
          -0.5840419276221137,
          0.3952508395597706,
          null
         ]
        },
        {
         "hoverinfo": "none",
         "hovertext": " ",
         "line": {
          "color": "rgb(174, 222, 167)",
          "width": 2
         },
         "textposition": "top center",
         "type": "scatter",
         "x": [
          -0.13831907570377594,
          0.1449387983818865,
          null
         ],
         "y": [
          -0.5840419276221137,
          -0.19991215144002028,
          null
         ]
        },
        {
         "hoverinfo": "none",
         "hovertext": " ",
         "line": {
          "color": "rgb(174, 222, 167)",
          "width": 2
         },
         "textposition": "top center",
         "type": "scatter",
         "x": [
          -0.13831907570377594,
          -0.4480642147745625,
          null
         ],
         "y": [
          -0.5840419276221137,
          -0.5647369208751434,
          null
         ]
        },
        {
         "hoverinfo": "none",
         "hovertext": " ",
         "line": {
          "color": "rgb(206, 236, 200)",
          "width": 1
         },
         "textposition": "top center",
         "type": "scatter",
         "x": [
          -0.13831907570377594,
          -0.7281161589787841,
          null
         ],
         "y": [
          -0.5840419276221137,
          0.18670197297230368,
          null
         ]
        },
        {
         "hoverinfo": "none",
         "hovertext": " ",
         "line": {
          "color": "rgb(55, 160, 85)",
          "width": 5
         },
         "textposition": "top center",
         "type": "scatter",
         "x": [
          -0.7821113335359461,
          -0.7821113335359461,
          null
         ],
         "y": [
          -0.33066913127911723,
          -0.33066913127911723,
          null
         ]
        },
        {
         "hoverinfo": "none",
         "hovertext": " ",
         "line": {
          "color": "rgb(231, 246, 227)",
          "width": 0
         },
         "textposition": "top center",
         "type": "scatter",
         "x": [
          -0.7821113335359461,
          0.07372678093973499,
          null
         ],
         "y": [
          -0.33066913127911723,
          0.8249495473283394,
          null
         ]
        },
        {
         "hoverinfo": "none",
         "hovertext": " ",
         "line": {
          "color": "rgb(231, 246, 227)",
          "width": 0
         },
         "textposition": "top center",
         "type": "scatter",
         "x": [
          -0.7821113335359461,
          0.3258739032715395,
          null
         ],
         "y": [
          -0.33066913127911723,
          -0.46008972657043984,
          null
         ]
        },
        {
         "hoverinfo": "none",
         "hovertext": " ",
         "line": {
          "color": "rgb(231, 246, 227)",
          "width": 0
         },
         "textposition": "top center",
         "type": "scatter",
         "x": [
          -0.7821113335359461,
          0.8512794768002446,
          null
         ],
         "y": [
          -0.33066913127911723,
          0.5316526886740731,
          null
         ]
        },
        {
         "hoverinfo": "none",
         "hovertext": " ",
         "line": {
          "color": "rgb(231, 246, 227)",
          "width": 0
         },
         "textposition": "top center",
         "type": "scatter",
         "x": [
          -0.7821113335359461,
          0.6387434641683799,
          null
         ],
         "y": [
          -0.33066913127911723,
          0.8502974259675539,
          null
         ]
        },
        {
         "hoverinfo": "none",
         "hovertext": " ",
         "line": {
          "color": "rgb(231, 246, 227)",
          "width": 0
         },
         "textposition": "top center",
         "type": "scatter",
         "x": [
          -0.7821113335359461,
          -0.6357871398279092,
          null
         ],
         "y": [
          -0.33066913127911723,
          -1,
          null
         ]
        },
        {
         "hoverinfo": "none",
         "hovertext": " ",
         "line": {
          "color": "rgb(136, 206, 135)",
          "width": 3
         },
         "textposition": "top center",
         "type": "scatter",
         "x": [
          -0.7821113335359461,
          -0.40569121539260206,
          null
         ],
         "y": [
          -0.33066913127911723,
          -0.32734802801625695,
          null
         ]
        },
        {
         "hoverinfo": "none",
         "hovertext": " ",
         "line": {
          "color": "rgb(231, 246, 227)",
          "width": 0
         },
         "textposition": "top center",
         "type": "scatter",
         "x": [
          -0.7821113335359461,
          0.6450589027683868,
          null
         ],
         "y": [
          -0.33066913127911723,
          0.39540404296582776,
          null
         ]
        },
        {
         "hoverinfo": "none",
         "hovertext": " ",
         "line": {
          "color": "rgb(231, 246, 227)",
          "width": 0
         },
         "textposition": "top center",
         "type": "scatter",
         "x": [
          -0.7821113335359461,
          -0.11484503021519027,
          null
         ],
         "y": [
          -0.33066913127911723,
          0.3952508395597706,
          null
         ]
        },
        {
         "hoverinfo": "none",
         "hovertext": " ",
         "line": {
          "color": "rgb(231, 246, 227)",
          "width": 0
         },
         "textposition": "top center",
         "type": "scatter",
         "x": [
          -0.7821113335359461,
          0.1449387983818865,
          null
         ],
         "y": [
          -0.33066913127911723,
          -0.19991215144002028,
          null
         ]
        },
        {
         "hoverinfo": "none",
         "hovertext": " ",
         "line": {
          "color": "rgb(206, 236, 200)",
          "width": 1
         },
         "textposition": "top center",
         "type": "scatter",
         "x": [
          -0.7821113335359461,
          -0.4480642147745625,
          null
         ],
         "y": [
          -0.33066913127911723,
          -0.5647369208751434,
          null
         ]
        },
        {
         "hoverinfo": "none",
         "hovertext": " ",
         "line": {
          "color": "rgb(231, 246, 227)",
          "width": 0
         },
         "textposition": "top center",
         "type": "scatter",
         "x": [
          -0.7821113335359461,
          -0.7281161589787841,
          null
         ],
         "y": [
          -0.33066913127911723,
          0.18670197297230368,
          null
         ]
        },
        {
         "hoverinfo": "none",
         "hovertext": " ",
         "line": {
          "color": "rgb(93, 185, 107)",
          "width": 4
         },
         "textposition": "top center",
         "type": "scatter",
         "x": [
          0.07372678093973499,
          0.07372678093973499,
          null
         ],
         "y": [
          0.8249495473283394,
          0.8249495473283394,
          null
         ]
        },
        {
         "hoverinfo": "none",
         "hovertext": " ",
         "line": {
          "color": "rgb(231, 246, 227)",
          "width": 0
         },
         "textposition": "top center",
         "type": "scatter",
         "x": [
          0.07372678093973499,
          0.3258739032715395,
          null
         ],
         "y": [
          0.8249495473283394,
          -0.46008972657043984,
          null
         ]
        },
        {
         "hoverinfo": "none",
         "hovertext": " ",
         "line": {
          "color": "rgb(174, 222, 167)",
          "width": 2
         },
         "textposition": "top center",
         "type": "scatter",
         "x": [
          0.07372678093973499,
          0.8512794768002446,
          null
         ],
         "y": [
          0.8249495473283394,
          0.5316526886740731,
          null
         ]
        },
        {
         "hoverinfo": "none",
         "hovertext": " ",
         "line": {
          "color": "rgb(174, 222, 167)",
          "width": 2
         },
         "textposition": "top center",
         "type": "scatter",
         "x": [
          0.07372678093973499,
          0.6387434641683799,
          null
         ],
         "y": [
          0.8249495473283394,
          0.8502974259675539,
          null
         ]
        },
        {
         "hoverinfo": "none",
         "hovertext": " ",
         "line": {
          "color": "rgb(231, 246, 227)",
          "width": 0
         },
         "textposition": "top center",
         "type": "scatter",
         "x": [
          0.07372678093973499,
          -0.6357871398279092,
          null
         ],
         "y": [
          0.8249495473283394,
          -1,
          null
         ]
        },
        {
         "hoverinfo": "none",
         "hovertext": " ",
         "line": {
          "color": "rgb(231, 246, 227)",
          "width": 0
         },
         "textposition": "top center",
         "type": "scatter",
         "x": [
          0.07372678093973499,
          -0.40569121539260206,
          null
         ],
         "y": [
          0.8249495473283394,
          -0.32734802801625695,
          null
         ]
        },
        {
         "hoverinfo": "none",
         "hovertext": " ",
         "line": {
          "color": "rgb(174, 222, 167)",
          "width": 2
         },
         "textposition": "top center",
         "type": "scatter",
         "x": [
          0.07372678093973499,
          0.6450589027683868,
          null
         ],
         "y": [
          0.8249495473283394,
          0.39540404296582776,
          null
         ]
        },
        {
         "hoverinfo": "none",
         "hovertext": " ",
         "line": {
          "color": "rgb(174, 222, 167)",
          "width": 2
         },
         "textposition": "top center",
         "type": "scatter",
         "x": [
          0.07372678093973499,
          -0.11484503021519027,
          null
         ],
         "y": [
          0.8249495473283394,
          0.3952508395597706,
          null
         ]
        },
        {
         "hoverinfo": "none",
         "hovertext": " ",
         "line": {
          "color": "rgb(231, 246, 227)",
          "width": 0
         },
         "textposition": "top center",
         "type": "scatter",
         "x": [
          0.07372678093973499,
          0.1449387983818865,
          null
         ],
         "y": [
          0.8249495473283394,
          -0.19991215144002028,
          null
         ]
        },
        {
         "hoverinfo": "none",
         "hovertext": " ",
         "line": {
          "color": "rgb(231, 246, 227)",
          "width": 0
         },
         "textposition": "top center",
         "type": "scatter",
         "x": [
          0.07372678093973499,
          -0.4480642147745625,
          null
         ],
         "y": [
          0.8249495473283394,
          -0.5647369208751434,
          null
         ]
        },
        {
         "hoverinfo": "none",
         "hovertext": " ",
         "line": {
          "color": "rgb(231, 246, 227)",
          "width": 0
         },
         "textposition": "top center",
         "type": "scatter",
         "x": [
          0.07372678093973499,
          -0.7281161589787841,
          null
         ],
         "y": [
          0.8249495473283394,
          0.18670197297230368,
          null
         ]
        },
        {
         "hoverinfo": "none",
         "hovertext": " ",
         "line": {
          "color": "rgb(93, 185, 107)",
          "width": 4
         },
         "textposition": "top center",
         "type": "scatter",
         "x": [
          0.3258739032715395,
          0.3258739032715395,
          null
         ],
         "y": [
          -0.46008972657043984,
          -0.46008972657043984,
          null
         ]
        },
        {
         "hoverinfo": "none",
         "hovertext": " ",
         "line": {
          "color": "rgb(231, 246, 227)",
          "width": 0
         },
         "textposition": "top center",
         "type": "scatter",
         "x": [
          0.3258739032715395,
          0.8512794768002446,
          null
         ],
         "y": [
          -0.46008972657043984,
          0.5316526886740731,
          null
         ]
        },
        {
         "hoverinfo": "none",
         "hovertext": " ",
         "line": {
          "color": "rgb(231, 246, 227)",
          "width": 0
         },
         "textposition": "top center",
         "type": "scatter",
         "x": [
          0.3258739032715395,
          0.6387434641683799,
          null
         ],
         "y": [
          -0.46008972657043984,
          0.8502974259675539,
          null
         ]
        },
        {
         "hoverinfo": "none",
         "hovertext": " ",
         "line": {
          "color": "rgb(231, 246, 227)",
          "width": 0
         },
         "textposition": "top center",
         "type": "scatter",
         "x": [
          0.3258739032715395,
          -0.6357871398279092,
          null
         ],
         "y": [
          -0.46008972657043984,
          -1,
          null
         ]
        },
        {
         "hoverinfo": "none",
         "hovertext": " ",
         "line": {
          "color": "rgb(206, 236, 200)",
          "width": 1
         },
         "textposition": "top center",
         "type": "scatter",
         "x": [
          0.3258739032715395,
          -0.40569121539260206,
          null
         ],
         "y": [
          -0.46008972657043984,
          -0.32734802801625695,
          null
         ]
        },
        {
         "hoverinfo": "none",
         "hovertext": " ",
         "line": {
          "color": "rgb(231, 246, 227)",
          "width": 0
         },
         "textposition": "top center",
         "type": "scatter",
         "x": [
          0.3258739032715395,
          0.6450589027683868,
          null
         ],
         "y": [
          -0.46008972657043984,
          0.39540404296582776,
          null
         ]
        },
        {
         "hoverinfo": "none",
         "hovertext": " ",
         "line": {
          "color": "rgb(231, 246, 227)",
          "width": 0
         },
         "textposition": "top center",
         "type": "scatter",
         "x": [
          0.3258739032715395,
          -0.11484503021519027,
          null
         ],
         "y": [
          -0.46008972657043984,
          0.3952508395597706,
          null
         ]
        },
        {
         "hoverinfo": "none",
         "hovertext": " ",
         "line": {
          "color": "rgb(206, 236, 200)",
          "width": 1
         },
         "textposition": "top center",
         "type": "scatter",
         "x": [
          0.3258739032715395,
          0.1449387983818865,
          null
         ],
         "y": [
          -0.46008972657043984,
          -0.19991215144002028,
          null
         ]
        },
        {
         "hoverinfo": "none",
         "hovertext": " ",
         "line": {
          "color": "rgb(231, 246, 227)",
          "width": 0
         },
         "textposition": "top center",
         "type": "scatter",
         "x": [
          0.3258739032715395,
          -0.4480642147745625,
          null
         ],
         "y": [
          -0.46008972657043984,
          -0.5647369208751434,
          null
         ]
        },
        {
         "hoverinfo": "none",
         "hovertext": " ",
         "line": {
          "color": "rgb(206, 236, 200)",
          "width": 1
         },
         "textposition": "top center",
         "type": "scatter",
         "x": [
          0.3258739032715395,
          -0.7281161589787841,
          null
         ],
         "y": [
          -0.46008972657043984,
          0.18670197297230368,
          null
         ]
        },
        {
         "hoverinfo": "none",
         "hovertext": " ",
         "line": {
          "color": "rgb(55, 160, 85)",
          "width": 5
         },
         "textposition": "top center",
         "type": "scatter",
         "x": [
          0.8512794768002446,
          0.8512794768002446,
          null
         ],
         "y": [
          0.5316526886740731,
          0.5316526886740731,
          null
         ]
        },
        {
         "hoverinfo": "none",
         "hovertext": " ",
         "line": {
          "color": "rgb(136, 206, 135)",
          "width": 3
         },
         "textposition": "top center",
         "type": "scatter",
         "x": [
          0.8512794768002446,
          0.6387434641683799,
          null
         ],
         "y": [
          0.5316526886740731,
          0.8502974259675539,
          null
         ]
        },
        {
         "hoverinfo": "none",
         "hovertext": " ",
         "line": {
          "color": "rgb(231, 246, 227)",
          "width": 0
         },
         "textposition": "top center",
         "type": "scatter",
         "x": [
          0.8512794768002446,
          -0.40569121539260206,
          null
         ],
         "y": [
          0.5316526886740731,
          -0.32734802801625695,
          null
         ]
        },
        {
         "hoverinfo": "none",
         "hovertext": " ",
         "line": {
          "color": "rgb(174, 222, 167)",
          "width": 2
         },
         "textposition": "top center",
         "type": "scatter",
         "x": [
          0.8512794768002446,
          0.6450589027683868,
          null
         ],
         "y": [
          0.5316526886740731,
          0.39540404296582776,
          null
         ]
        },
        {
         "hoverinfo": "none",
         "hovertext": " ",
         "line": {
          "color": "rgb(206, 236, 200)",
          "width": 1
         },
         "textposition": "top center",
         "type": "scatter",
         "x": [
          0.8512794768002446,
          -0.11484503021519027,
          null
         ],
         "y": [
          0.5316526886740731,
          0.3952508395597706,
          null
         ]
        },
        {
         "hoverinfo": "none",
         "hovertext": " ",
         "line": {
          "color": "rgb(231, 246, 227)",
          "width": 0
         },
         "textposition": "top center",
         "type": "scatter",
         "x": [
          0.8512794768002446,
          0.1449387983818865,
          null
         ],
         "y": [
          0.5316526886740731,
          -0.19991215144002028,
          null
         ]
        },
        {
         "hoverinfo": "none",
         "hovertext": " ",
         "line": {
          "color": "rgb(231, 246, 227)",
          "width": 0
         },
         "textposition": "top center",
         "type": "scatter",
         "x": [
          0.8512794768002446,
          -0.4480642147745625,
          null
         ],
         "y": [
          0.5316526886740731,
          -0.5647369208751434,
          null
         ]
        },
        {
         "hoverinfo": "none",
         "hovertext": " ",
         "line": {
          "color": "rgb(231, 246, 227)",
          "width": 0
         },
         "textposition": "top center",
         "type": "scatter",
         "x": [
          0.8512794768002446,
          -0.7281161589787841,
          null
         ],
         "y": [
          0.5316526886740731,
          0.18670197297230368,
          null
         ]
        },
        {
         "hoverinfo": "none",
         "hovertext": " ",
         "line": {
          "color": "rgb(93, 185, 107)",
          "width": 4
         },
         "textposition": "top center",
         "type": "scatter",
         "x": [
          0.6387434641683799,
          0.6387434641683799,
          null
         ],
         "y": [
          0.8502974259675539,
          0.8502974259675539,
          null
         ]
        },
        {
         "hoverinfo": "none",
         "hovertext": " ",
         "line": {
          "color": "rgb(231, 246, 227)",
          "width": 0
         },
         "textposition": "top center",
         "type": "scatter",
         "x": [
          0.6387434641683799,
          -0.40569121539260206,
          null
         ],
         "y": [
          0.8502974259675539,
          -0.32734802801625695,
          null
         ]
        },
        {
         "hoverinfo": "none",
         "hovertext": " ",
         "line": {
          "color": "rgb(174, 222, 167)",
          "width": 2
         },
         "textposition": "top center",
         "type": "scatter",
         "x": [
          0.6387434641683799,
          0.6450589027683868,
          null
         ],
         "y": [
          0.8502974259675539,
          0.39540404296582776,
          null
         ]
        },
        {
         "hoverinfo": "none",
         "hovertext": " ",
         "line": {
          "color": "rgb(206, 236, 200)",
          "width": 1
         },
         "textposition": "top center",
         "type": "scatter",
         "x": [
          0.6387434641683799,
          -0.11484503021519027,
          null
         ],
         "y": [
          0.8502974259675539,
          0.3952508395597706,
          null
         ]
        },
        {
         "hoverinfo": "none",
         "hovertext": " ",
         "line": {
          "color": "rgb(231, 246, 227)",
          "width": 0
         },
         "textposition": "top center",
         "type": "scatter",
         "x": [
          0.6387434641683799,
          0.1449387983818865,
          null
         ],
         "y": [
          0.8502974259675539,
          -0.19991215144002028,
          null
         ]
        },
        {
         "hoverinfo": "none",
         "hovertext": " ",
         "line": {
          "color": "rgb(231, 246, 227)",
          "width": 0
         },
         "textposition": "top center",
         "type": "scatter",
         "x": [
          0.6387434641683799,
          -0.7281161589787841,
          null
         ],
         "y": [
          0.8502974259675539,
          0.18670197297230368,
          null
         ]
        },
        {
         "hoverinfo": "none",
         "hovertext": " ",
         "line": {
          "color": "rgb(136, 206, 135)",
          "width": 3
         },
         "textposition": "top center",
         "type": "scatter",
         "x": [
          -0.6357871398279092,
          -0.6357871398279092,
          null
         ],
         "y": [
          -1,
          -1,
          null
         ]
        },
        {
         "hoverinfo": "none",
         "hovertext": " ",
         "line": {
          "color": "rgb(206, 236, 200)",
          "width": 1
         },
         "textposition": "top center",
         "type": "scatter",
         "x": [
          -0.6357871398279092,
          -0.40569121539260206,
          null
         ],
         "y": [
          -1,
          -0.32734802801625695,
          null
         ]
        },
        {
         "hoverinfo": "none",
         "hovertext": " ",
         "line": {
          "color": "rgb(231, 246, 227)",
          "width": 0
         },
         "textposition": "top center",
         "type": "scatter",
         "x": [
          -0.6357871398279092,
          0.6450589027683868,
          null
         ],
         "y": [
          -1,
          0.39540404296582776,
          null
         ]
        },
        {
         "hoverinfo": "none",
         "hovertext": " ",
         "line": {
          "color": "rgb(231, 246, 227)",
          "width": 0
         },
         "textposition": "top center",
         "type": "scatter",
         "x": [
          -0.6357871398279092,
          -0.11484503021519027,
          null
         ],
         "y": [
          -1,
          0.3952508395597706,
          null
         ]
        },
        {
         "hoverinfo": "none",
         "hovertext": " ",
         "line": {
          "color": "rgb(231, 246, 227)",
          "width": 0
         },
         "textposition": "top center",
         "type": "scatter",
         "x": [
          -0.6357871398279092,
          0.1449387983818865,
          null
         ],
         "y": [
          -1,
          -0.19991215144002028,
          null
         ]
        },
        {
         "hoverinfo": "none",
         "hovertext": " ",
         "line": {
          "color": "rgb(231, 246, 227)",
          "width": 0
         },
         "textposition": "top center",
         "type": "scatter",
         "x": [
          -0.6357871398279092,
          -0.4480642147745625,
          null
         ],
         "y": [
          -1,
          -0.5647369208751434,
          null
         ]
        },
        {
         "hoverinfo": "none",
         "hovertext": " ",
         "line": {
          "color": "rgb(231, 246, 227)",
          "width": 0
         },
         "textposition": "top center",
         "type": "scatter",
         "x": [
          -0.6357871398279092,
          -0.7281161589787841,
          null
         ],
         "y": [
          -1,
          0.18670197297230368,
          null
         ]
        },
        {
         "hoverinfo": "none",
         "hovertext": " ",
         "line": {
          "color": "rgb(26, 132, 63)",
          "width": 6
         },
         "textposition": "top center",
         "type": "scatter",
         "x": [
          -0.40569121539260206,
          -0.40569121539260206,
          null
         ],
         "y": [
          -0.32734802801625695,
          -0.32734802801625695,
          null
         ]
        },
        {
         "hoverinfo": "none",
         "hovertext": " ",
         "line": {
          "color": "rgb(174, 222, 167)",
          "width": 2
         },
         "textposition": "top center",
         "type": "scatter",
         "x": [
          -0.40569121539260206,
          -0.11484503021519027,
          null
         ],
         "y": [
          -0.32734802801625695,
          0.3952508395597706,
          null
         ]
        },
        {
         "hoverinfo": "none",
         "hovertext": " ",
         "line": {
          "color": "rgb(136, 206, 135)",
          "width": 3
         },
         "textposition": "top center",
         "type": "scatter",
         "x": [
          -0.40569121539260206,
          0.1449387983818865,
          null
         ],
         "y": [
          -0.32734802801625695,
          -0.19991215144002028,
          null
         ]
        },
        {
         "hoverinfo": "none",
         "hovertext": " ",
         "line": {
          "color": "rgb(136, 206, 135)",
          "width": 3
         },
         "textposition": "top center",
         "type": "scatter",
         "x": [
          -0.40569121539260206,
          -0.4480642147745625,
          null
         ],
         "y": [
          -0.32734802801625695,
          -0.5647369208751434,
          null
         ]
        },
        {
         "hoverinfo": "none",
         "hovertext": " ",
         "line": {
          "color": "rgb(206, 236, 200)",
          "width": 1
         },
         "textposition": "top center",
         "type": "scatter",
         "x": [
          -0.40569121539260206,
          -0.7281161589787841,
          null
         ],
         "y": [
          -0.32734802801625695,
          0.18670197297230368,
          null
         ]
        },
        {
         "hoverinfo": "none",
         "hovertext": " ",
         "line": {
          "color": "rgb(55, 160, 85)",
          "width": 5
         },
         "textposition": "top center",
         "type": "scatter",
         "x": [
          0.6450589027683868,
          0.6450589027683868,
          null
         ],
         "y": [
          0.39540404296582776,
          0.39540404296582776,
          null
         ]
        },
        {
         "hoverinfo": "none",
         "hovertext": " ",
         "line": {
          "color": "rgb(206, 236, 200)",
          "width": 1
         },
         "textposition": "top center",
         "type": "scatter",
         "x": [
          0.6450589027683868,
          -0.11484503021519027,
          null
         ],
         "y": [
          0.39540404296582776,
          0.3952508395597706,
          null
         ]
        },
        {
         "hoverinfo": "none",
         "hovertext": " ",
         "line": {
          "color": "rgb(231, 246, 227)",
          "width": 0
         },
         "textposition": "top center",
         "type": "scatter",
         "x": [
          0.6450589027683868,
          0.1449387983818865,
          null
         ],
         "y": [
          0.39540404296582776,
          -0.19991215144002028,
          null
         ]
        },
        {
         "hoverinfo": "none",
         "hovertext": " ",
         "line": {
          "color": "rgb(231, 246, 227)",
          "width": 0
         },
         "textposition": "top center",
         "type": "scatter",
         "x": [
          0.6450589027683868,
          -0.4480642147745625,
          null
         ],
         "y": [
          0.39540404296582776,
          -0.5647369208751434,
          null
         ]
        },
        {
         "hoverinfo": "none",
         "hovertext": " ",
         "line": {
          "color": "rgb(231, 246, 227)",
          "width": 0
         },
         "textposition": "top center",
         "type": "scatter",
         "x": [
          0.6450589027683868,
          -0.7281161589787841,
          null
         ],
         "y": [
          0.39540404296582776,
          0.18670197297230368,
          null
         ]
        },
        {
         "hoverinfo": "none",
         "hovertext": " ",
         "line": {
          "color": "rgb(55, 160, 85)",
          "width": 5
         },
         "textposition": "top center",
         "type": "scatter",
         "x": [
          -0.11484503021519027,
          -0.11484503021519027,
          null
         ],
         "y": [
          0.3952508395597706,
          0.3952508395597706,
          null
         ]
        },
        {
         "hoverinfo": "none",
         "hovertext": " ",
         "line": {
          "color": "rgb(174, 222, 167)",
          "width": 2
         },
         "textposition": "top center",
         "type": "scatter",
         "x": [
          -0.11484503021519027,
          0.1449387983818865,
          null
         ],
         "y": [
          0.3952508395597706,
          -0.19991215144002028,
          null
         ]
        },
        {
         "hoverinfo": "none",
         "hovertext": " ",
         "line": {
          "color": "rgb(206, 236, 200)",
          "width": 1
         },
         "textposition": "top center",
         "type": "scatter",
         "x": [
          -0.11484503021519027,
          -0.4480642147745625,
          null
         ],
         "y": [
          0.3952508395597706,
          -0.5647369208751434,
          null
         ]
        },
        {
         "hoverinfo": "none",
         "hovertext": " ",
         "line": {
          "color": "rgb(231, 246, 227)",
          "width": 0
         },
         "textposition": "top center",
         "type": "scatter",
         "x": [
          -0.11484503021519027,
          -0.7281161589787841,
          null
         ],
         "y": [
          0.3952508395597706,
          0.18670197297230368,
          null
         ]
        },
        {
         "hoverinfo": "none",
         "hovertext": " ",
         "line": {
          "color": "rgb(55, 160, 85)",
          "width": 5
         },
         "textposition": "top center",
         "type": "scatter",
         "x": [
          0.1449387983818865,
          0.1449387983818865,
          null
         ],
         "y": [
          -0.19991215144002028,
          -0.19991215144002028,
          null
         ]
        },
        {
         "hoverinfo": "none",
         "hovertext": " ",
         "line": {
          "color": "rgb(174, 222, 167)",
          "width": 2
         },
         "textposition": "top center",
         "type": "scatter",
         "x": [
          0.1449387983818865,
          -0.4480642147745625,
          null
         ],
         "y": [
          -0.19991215144002028,
          -0.5647369208751434,
          null
         ]
        },
        {
         "hoverinfo": "none",
         "hovertext": " ",
         "line": {
          "color": "rgb(231, 246, 227)",
          "width": 0
         },
         "textposition": "top center",
         "type": "scatter",
         "x": [
          0.1449387983818865,
          -0.7281161589787841,
          null
         ],
         "y": [
          -0.19991215144002028,
          0.18670197297230368,
          null
         ]
        },
        {
         "hoverinfo": "none",
         "hovertext": " ",
         "line": {
          "color": "rgb(93, 185, 107)",
          "width": 4
         },
         "textposition": "top center",
         "type": "scatter",
         "x": [
          -0.4480642147745625,
          -0.4480642147745625,
          null
         ],
         "y": [
          -0.5647369208751434,
          -0.5647369208751434,
          null
         ]
        },
        {
         "hoverinfo": "none",
         "hovertext": " ",
         "line": {
          "color": "rgb(231, 246, 227)",
          "width": 0
         },
         "textposition": "top center",
         "type": "scatter",
         "x": [
          -0.4480642147745625,
          -0.7281161589787841,
          null
         ],
         "y": [
          -0.5647369208751434,
          0.18670197297230368,
          null
         ]
        },
        {
         "hoverinfo": "none",
         "hovertext": " ",
         "line": {
          "color": "rgb(93, 185, 107)",
          "width": 4
         },
         "textposition": "top center",
         "type": "scatter",
         "x": [
          -0.7281161589787841,
          -0.7281161589787841,
          null
         ],
         "y": [
          0.18670197297230368,
          0.18670197297230368,
          null
         ]
        },
        {
         "customdata": [
          [
           368,
           "fast",
           "ADV"
          ],
          [
           140,
           "long",
           "ADV"
          ],
          [
           83,
           "neatly",
           "ADV"
          ]
         ],
         "hovertemplate": "#=%{customdata[0]}<extra></extra>",
         "legendgroup": "ADV",
         "marker": {
          "color": "#636efa",
          "size": [
           368,
           140,
           83
          ],
          "sizemode": "area",
          "sizeref": 1.0575,
          "symbol": "circle"
         },
         "mode": "markers+text",
         "name": "ADV",
         "orientation": "v",
         "showlegend": true,
         "text": [
          "fast",
          "long",
          "neatly"
         ],
         "textposition": "top center",
         "type": "scatter",
         "x": [
          0.731494294276745,
          -0.42315214872404533,
          -0.19616938522515973
         ],
         "xaxis": "x",
         "y": [
          0.08517219678922733,
          0.5728609545690998,
          -0.9921088336686266
         ],
         "yaxis": "y"
        },
        {
         "customdata": [
          [
           423,
           "time",
           "NOUN"
          ],
          [
           338,
           "service",
           "NOUN"
          ],
          [
           241,
           "people",
           "NOUN"
          ],
          [
           166,
           "day",
           "NOUN"
          ],
          [
           207,
           "unload",
           "NOUN"
          ],
          [
           220,
           "staff",
           "NOUN"
          ],
          [
           162,
           "hour",
           "NOUN"
          ],
          [
           146,
           "order",
           "NOUN"
          ],
          [
           162,
           "transport",
           "NOUN"
          ],
          [
           137,
           "office",
           "NOUN"
          ],
          [
           148,
           "place",
           "NOUN"
          ],
          [
           149,
           "coffee",
           "NOUN"
          ],
          [
           140,
           "toilet",
           "NOUN"
          ],
          [
           73,
           "man",
           "NOUN"
          ]
         ],
         "hovertemplate": "#=%{customdata[0]}<extra></extra>",
         "legendgroup": "NOUN",
         "marker": {
          "color": "#EF553B",
          "size": [
           423,
           338,
           241,
           166,
           207,
           220,
           162,
           146,
           162,
           137,
           148,
           149,
           140,
           73
          ],
          "sizemode": "area",
          "sizeref": 1.0575,
          "symbol": "circle"
         },
         "mode": "markers+text",
         "name": "NOUN",
         "orientation": "v",
         "showlegend": true,
         "text": [
          "time",
          "service",
          "people",
          "day",
          "unload",
          "staff",
          "hour",
          "order",
          "transport",
          "office",
          "place",
          "coffee",
          "toilet",
          "man"
         ],
         "textposition": "top center",
         "type": "scatter",
         "x": [
          -0.18453436507291418,
          -0.05768021359772707,
          0.5221620128874973,
          -0.4785319216379006,
          0.26041211431698535,
          0.3514228485283896,
          0.04788960634673765,
          -0.13831907570377594,
          -0.7821113335359461,
          0.07372678093973499,
          0.3258739032715395,
          0.8512794768002446,
          0.6387434641683799,
          -0.6357871398279092
         ],
         "xaxis": "x",
         "y": [
          0.019894190336143733,
          -0.2857092657225607,
          -0.22371668046237014,
          -0.09727330761290566,
          0.3783038837175746,
          0.6520167153614409,
          0.17310151502817359,
          -0.5840419276221137,
          -0.33066913127911723,
          0.8249495473283394,
          -0.46008972657043984,
          0.5316526886740731,
          0.8502974259675539,
          -1
         ],
         "yaxis": "y"
        },
        {
         "customdata": [
          [
           237,
           "deliver",
           "VERB"
          ],
          [
           200,
           "loading",
           "VERB"
          ],
          [
           211,
           "wait",
           "VERB"
          ],
          [
           173,
           "come",
           "VERB"
          ],
          [
           129,
           "call",
           "VERB"
          ],
          [
           126,
           "help",
           "VERB"
          ]
         ],
         "hovertemplate": "#=%{customdata[0]}<extra></extra>",
         "legendgroup": "VERB",
         "marker": {
          "color": "#00cc96",
          "size": [
           237,
           200,
           211,
           173,
           129,
           126
          ],
          "sizemode": "area",
          "sizeref": 1.0575,
          "symbol": "circle"
         },
         "mode": "markers+text",
         "name": "VERB",
         "orientation": "v",
         "showlegend": true,
         "text": [
          "deliver",
          "loading",
          "wait",
          "come",
          "call",
          "help"
         ],
         "textposition": "top center",
         "type": "scatter",
         "x": [
          -0.40569121539260206,
          0.6450589027683868,
          -0.11484503021519027,
          0.1449387983818865,
          -0.4480642147745625,
          -0.7281161589787841
         ],
         "xaxis": "x",
         "y": [
          -0.32734802801625695,
          0.39540404296582776,
          0.3952508395597706,
          -0.19991215144002028,
          -0.5647369208751434,
          0.18670197297230368
         ],
         "yaxis": "y"
        },
        {
         "hoverinfo": "text",
         "hoverlabel": {
          "bgcolor": "#FFFFFF"
         },
         "marker": {
          "opacity": 0
         },
         "mode": "markers",
         "text": [
          "368",
          "0",
          "4",
          "0",
          "1",
          "0",
          "18",
          "0",
          "46",
          "0",
          "27",
          "0",
          "5",
          "0",
          "20",
          "0",
          "41",
          "0",
          "6",
          "0",
          "2",
          "0",
          "4",
          "0",
          "16",
          "0",
          "12",
          "0",
          "29",
          "0",
          "27",
          "0",
          "5",
          "0",
          "6",
          "0",
          "105",
          "0",
          "6",
          "0",
          "6",
          "0",
          "4",
          "0",
          "6",
          "0",
          "140",
          "0",
          "2",
          "0",
          "87",
          "0",
          "6",
          "0",
          "4",
          "0",
          "11",
          "0",
          "25",
          "0",
          "12",
          "0",
          "16",
          "0",
          "10",
          "0",
          "8",
          "0",
          "10",
          "0",
          "6",
          "0",
          "6",
          "0",
          "12",
          "0",
          "3",
          "0",
          "12",
          "0",
          "13",
          "0",
          "51",
          "0",
          "15",
          "0",
          "12",
          "0",
          "1",
          "0",
          "83",
          "0",
          "32",
          "0",
          "13",
          "0",
          "5",
          "0",
          "12",
          "0",
          "6",
          "0",
          "6",
          "0",
          "15",
          "0",
          "10",
          "0",
          "11",
          "0",
          "1",
          "0",
          "1",
          "0",
          "17",
          "0",
          "36",
          "0",
          "2",
          "0",
          "14",
          "0",
          "24",
          "0",
          "12",
          "0",
          "423",
          "0",
          "63",
          "0",
          "33",
          "0",
          "78",
          "0",
          "40",
          "0",
          "24",
          "0",
          "52",
          "0",
          "58",
          "0",
          "41",
          "0",
          "25",
          "0",
          "29",
          "0",
          "11",
          "0",
          "18",
          "0",
          "18",
          "0",
          "98",
          "0",
          "18",
          "0",
          "61",
          "0",
          "62",
          "0",
          "68",
          "0",
          "19",
          "0",
          "338",
          "0",
          "18",
          "0",
          "42",
          "0",
          "11",
          "0",
          "13",
          "0",
          "17",
          "0",
          "38",
          "0",
          "37",
          "0",
          "6",
          "0",
          "17",
          "0",
          "7",
          "0",
          "6",
          "0",
          "9",
          "0",
          "60",
          "0",
          "12",
          "0",
          "20",
          "0",
          "27",
          "0",
          "36",
          "0",
          "22",
          "0",
          "241",
          "0",
          "18",
          "0",
          "19",
          "0",
          "7",
          "0",
          "9",
          "0",
          "11",
          "0",
          "12",
          "0",
          "15",
          "0",
          "18",
          "0",
          "10",
          "0",
          "5",
          "0",
          "5",
          "0",
          "12",
          "0",
          "14",
          "0",
          "13",
          "0",
          "15",
          "0",
          "10",
          "0",
          "16",
          "0",
          "166",
          "0",
          "8",
          "0",
          "5",
          "0",
          "30",
          "0",
          "40",
          "0",
          "21",
          "0",
          "7",
          "0",
          "20",
          "0",
          "3",
          "0",
          "1",
          "0",
          "8",
          "0",
          "58",
          "0",
          "2",
          "0",
          "28",
          "0",
          "45",
          "0",
          "44",
          "0",
          "8",
          "0",
          "207",
          "0",
          "17",
          "0",
          "25",
          "0",
          "8",
          "0",
          "5",
          "0",
          "20",
          "0",
          "10",
          "0",
          "20",
          "0",
          "22",
          "0",
          "2",
          "0",
          "7",
          "0",
          "15",
          "0",
          "31",
          "0",
          "16",
          "0",
          "5",
          "0",
          "9",
          "0",
          "220",
          "0",
          "11",
          "0",
          "2",
          "0",
          "5",
          "0",
          "24",
          "0",
          "10",
          "0",
          "35",
          "0",
          "24",
          "0",
          "2",
          "0",
          "5",
          "0",
          "31",
          "0",
          "13",
          "0",
          "10",
          "0",
          "4",
          "0",
          "5",
          "0",
          "162",
          "0",
          "16",
          "0",
          "13",
          "0",
          "18",
          "0",
          "10",
          "0",
          "13",
          "0",
          "14",
          "0",
          "2",
          "0",
          "30",
          "0",
          "19",
          "0",
          "63",
          "0",
          "26",
          "0",
          "22",
          "0",
          "4",
          "0",
          "146",
          "0",
          "28",
          "0",
          "4",
          "0",
          "19",
          "0",
          "2",
          "0",
          "2",
          "0",
          "5",
          "0",
          "77",
          "0",
          "5",
          "0",
          "22",
          "0",
          "33",
          "0",
          "33",
          "0",
          "14",
          "0",
          "162",
          "0",
          "3",
          "0",
          "11",
          "0",
          "2",
          "0",
          "1",
          "0",
          "1",
          "0",
          "35",
          "0",
          "2",
          "0",
          "6",
          "0",
          "13",
          "0",
          "17",
          "0",
          "6",
          "0",
          "137",
          "0",
          "12",
          "0",
          "27",
          "0",
          "29",
          "0",
          "1",
          "0",
          "3",
          "0",
          "33",
          "0",
          "29",
          "0",
          "12",
          "0",
          "3",
          "0",
          "3",
          "0",
          "148",
          "0",
          "10",
          "0",
          "13",
          "0",
          "8",
          "0",
          "19",
          "0",
          "10",
          "0",
          "11",
          "0",
          "23",
          "0",
          "12",
          "0",
          "15",
          "0",
          "149",
          "0",
          "62",
          "0",
          "2",
          "0",
          "31",
          "0",
          "20",
          "0",
          "9",
          "0",
          "2",
          "0",
          "3",
          "0",
          "140",
          "0",
          "1",
          "0",
          "31",
          "0",
          "24",
          "0",
          "9",
          "0",
          "2",
          "0",
          "73",
          "0",
          "14",
          "0",
          "2",
          "0",
          "5",
          "0",
          "12",
          "0",
          "11",
          "0",
          "4",
          "0",
          "237",
          "0",
          "33",
          "0",
          "37",
          "0",
          "51",
          "0",
          "19",
          "0",
          "200",
          "0",
          "24",
          "0",
          "9",
          "0",
          "1",
          "0",
          "9",
          "0",
          "211",
          "0",
          "26",
          "0",
          "20",
          "0",
          "9",
          "0",
          "173",
          "0",
          "33",
          "0",
          "12",
          "0",
          "129",
          "0",
          "9",
          "0",
          "126",
          "0"
         ],
         "textposition": "top center",
         "type": "scatter",
         "x": [
          0.731494294276745,
          0,
          0.1541710727763498,
          0,
          0.2676624545257926,
          0,
          0.27347996460191537,
          0,
          0.3369070403395089,
          0,
          0.6268281535821212,
          0,
          0.12648118631942218,
          0,
          0.4959532042968652,
          0,
          0.5414585714025673,
          0,
          0.3896919503117413,
          0,
          0.29658760928648453,
          0,
          -0.025308519629600568,
          0,
          0.40261053760823995,
          0,
          0.5286840987741422,
          0,
          0.7913868855384948,
          0,
          0.6851188792225624,
          0,
          0.047853577224417854,
          0,
          0.16290153944207145,
          0,
          0.6882765985225658,
          0,
          0.3083246320307773,
          0,
          0.4382165463293157,
          0,
          0.14171503975109123,
          0,
          0.0016890676489804135,
          0,
          -0.42315214872404533,
          0,
          -0.30966076697460254,
          0,
          -0.30384325689847974,
          0,
          -0.2404161811608862,
          0,
          0.04950493208172599,
          0,
          -0.450842035180973,
          0,
          -0.08137001720352999,
          0,
          -0.035864650097827855,
          0,
          -0.18763127118865383,
          0,
          -0.28073561221391063,
          0,
          -0.6026317411299957,
          0,
          -0.17471268389215516,
          0,
          -0.048639122726252926,
          0,
          0.21406366403809965,
          0,
          0.10779565772216729,
          0,
          -0.5294696442759773,
          0,
          -0.4144216820583237,
          0,
          0.11095337702217076,
          0,
          -0.2689985894696178,
          0,
          -0.1391066751710794,
          0,
          -0.43560818174930394,
          0,
          -0.5756341538514147,
          0,
          -0.19616938522515973,
          0,
          -0.19035187514903695,
          0,
          -0.1269247994114434,
          0,
          0.1629963138311688,
          0,
          -0.33735065343153015,
          0,
          0.032121364545912814,
          0,
          -0.07413988943921104,
          0,
          -0.16724423046446785,
          0,
          -0.4891403593805529,
          0,
          0.06485225902318988,
          0,
          0.32755504578754246,
          0,
          0.2212870394716101,
          0,
          -0.41597826252653447,
          0,
          -0.3009303003088809,
          0,
          -0.155507207720175,
          0,
          -0.025615293421636612,
          0,
          -0.3221167999998611,
          0,
          -0.4621427721019719,
          0,
          -0.18453436507291418,
          0,
          -0.12110728933532063,
          0,
          0.16881382390729155,
          0,
          -0.3315331433554074,
          0,
          0.03793887462203559,
          0,
          0.08344424172773772,
          0,
          -0.06832237936308827,
          0,
          -0.16142672038834505,
          0,
          -0.48332284930443015,
          0,
          -0.055403792066589595,
          0,
          0.07066976909931265,
          0,
          0.3333725558636652,
          0,
          0.22710454954773285,
          0,
          -0.4101607524504117,
          0,
          -0.2951127902327581,
          0,
          0.23026226884773632,
          0,
          -0.1496896976440522,
          0,
          -0.01979778334551384,
          0,
          -0.31629928992373835,
          0,
          -0.45632526202584917,
          0,
          -0.05768021359772707,
          0,
          0.23224089964488512,
          0,
          -0.26810606761781386,
          0,
          0.10136595035962914,
          0,
          0.14687131746533127,
          0,
          -0.004895303625494712,
          0,
          -0.0979996446507515,
          0,
          -0.4198957735668366,
          0,
          0.00802328367100396,
          0,
          0.1340968448369062,
          0,
          0.39679963160125875,
          0,
          0.2905316252853264,
          0,
          -0.3467336767128182,
          0,
          -0.23168571449516456,
          0,
          0.2936893445853299,
          0,
          -0.08626262190645867,
          0,
          0.043629292392079716,
          0,
          -0.2528722141861448,
          0,
          -0.39289818628825557,
          0,
          0.5221620128874973,
          0,
          0.021815045624798357,
          0,
          0.3912870636022413,
          0,
          0.4367924307079435,
          0,
          0.2850258096171175,
          0,
          0.19192146859186068,
          0,
          -0.1299746603242244,
          0,
          0.2979443969136161,
          0,
          0.42401795807951836,
          0,
          0.686720744843871,
          0,
          0.5804527385279385,
          0,
          -0.05681256347020597,
          0,
          0.058235398747447625,
          0,
          0.5836104578279421,
          0,
          0.20365849133615352,
          0,
          0.3335504056346919,
          0,
          0.03704889905646741,
          0,
          -0.10297707304564341,
          0,
          -0.4785319216379006,
          0,
          -0.10905990366045762,
          0,
          -0.06355453655475549,
          0,
          -0.21532115764558146,
          0,
          -0.30842549867083824,
          0,
          -0.6303216275869233,
          0,
          -0.2024025703490828,
          0,
          -0.07632900918318056,
          0,
          0.18637377758117202,
          0,
          0.08010577126523966,
          0,
          -0.5571595307329049,
          0,
          -0.44211156851525135,
          0,
          0.08326349056524313,
          0,
          -0.29668847592654546,
          0,
          -0.16679656162800705,
          0,
          -0.46329806820623154,
          0,
          -0.6033240403083424,
          0,
          0.26041211431698535,
          0,
          0.3059174814226875,
          0,
          0.1541508603318615,
          0,
          0.06104651930660471,
          0,
          -0.26084960960948034,
          0,
          0.16706944762836018,
          0,
          0.2931430087942624,
          0,
          0.555845795558615,
          0,
          0.44957778924268266,
          0,
          -0.18768751275546194,
          0,
          -0.07263955053780835,
          0,
          0.45273550854268607,
          0,
          0.07278354205089754,
          0,
          0.20267545634943593,
          0,
          -0.09382605022878857,
          0,
          -0.23385202233089938,
          0,
          0.3514228485283896,
          0,
          0.19965622743756364,
          0,
          0.10655188641230684,
          0,
          -0.21534424250377823,
          0,
          0.2125748147340623,
          0,
          0.33864837589996455,
          0,
          0.6013511626643171,
          0,
          0.49508315634838473,
          0,
          -0.1421821456497598,
          0,
          -0.027134183432106218,
          0,
          0.49824087564838826,
          0,
          0.11828890915659968,
          0,
          0.24818082345513806,
          0,
          -0.04832068312308643,
          0,
          -0.18834665522519725,
          0,
          0.04788960634673765,
          0,
          -0.04521473467851915,
          0,
          -0.3671108635946042,
          0,
          0.06080819364323632,
          0,
          0.18688175480913857,
          0,
          0.44958454157349115,
          0,
          0.3433165352575588,
          0,
          -0.2939487667405858,
          0,
          -0.1789008045229322,
          0,
          0.34647425455756226,
          0,
          -0.033477711934226315,
          0,
          0.09641420236431207,
          0,
          -0.2000873042139124,
          0,
          -0.3401132763160232,
          0,
          -0.13831907570377594,
          0,
          -0.460215204619861,
          0,
          -0.032296147382020475,
          0,
          0.09377741378388177,
          0,
          0.35648020054823437,
          0,
          0.250212194232302,
          0,
          -0.38705310776584256,
          0,
          -0.272005145548189,
          0,
          0.2533699135323054,
          0,
          -0.1265820529594831,
          0,
          0.003309861339055281,
          0,
          -0.2931916452391692,
          0,
          -0.43321761734128006,
          0,
          -0.7821113335359461,
          0,
          -0.35419227629810557,
          0,
          -0.2281187151322033,
          0,
          0.03458407163214927,
          0,
          -0.07168393468378309,
          0,
          -0.7089492366819277,
          0,
          -0.5939012744642741,
          0,
          -0.06852621538377962,
          0,
          -0.4484781818755682,
          0,
          -0.3185862675770298,
          0,
          -0.6150877741552543,
          0,
          -0.7551137462573652,
          0,
          0.07372678093973499,
          0,
          0.19980034210563724,
          0,
          0.4625031288699898,
          0,
          0.3562351225540574,
          0,
          -0.28103017944408715,
          0,
          -0.16598221722643353,
          0,
          0.3593928418540609,
          0,
          -0.02055912463772764,
          0,
          0.10933278966081075,
          0,
          -0.18716871691741374,
          0,
          -0.3271946890195246,
          0,
          0.3258739032715395,
          0,
          0.5885766900358921,
          0,
          0.4823086837199597,
          0,
          -0.15495661827818488,
          0,
          -0.03990865606053129,
          0,
          0.48546640301996313,
          0,
          0.1055144365281746,
          0,
          0.235406350826713,
          0,
          -0.061095155751511504,
          0,
          -0.20112112785362232,
          0,
          0.8512794768002446,
          0,
          0.7450114704843123,
          0,
          0.22279413070382129,
          0,
          0.7481691897843157,
          0,
          0.36821722329252715,
          0,
          0.49810913759106556,
          0,
          0.20160763101284107,
          0,
          0.06158165891073025,
          0,
          0.6387434641683799,
          0,
          0.11652612438788892,
          0,
          0.6419011834683834,
          0,
          0.2619492169765948,
          0,
          0.3918411312751332,
          0,
          -0.04468634740520211,
          0,
          -0.6357871398279092,
          0,
          -0.5207391776102557,
          0,
          0.004635881470238801,
          0,
          -0.3753160850215498,
          0,
          -0.24542417072301137,
          0,
          -0.5419256773012359,
          0,
          -0.6819516494033466,
          0,
          -0.40569121539260206,
          0,
          -0.26026812280389616,
          0,
          -0.13037620850535778,
          0,
          -0.4268777150835823,
          0,
          -0.5669036871856931,
          0,
          0.6450589027683868,
          0,
          0.2651069362765983,
          0,
          0.3949988505751367,
          0,
          0.09849734399691218,
          0,
          -0.04152862810519864,
          0,
          -0.11484503021519027,
          0,
          0.015046884083348117,
          0,
          -0.2814546224948764,
          0,
          -0.42148059459698717,
          0,
          0.1449387983818865,
          0,
          -0.151562708196338,
          0,
          -0.2915886802984488,
          0,
          -0.4480642147745625,
          0,
          -0.5880901868766732,
          0,
          -0.7281161589787841,
          0
         ],
         "y": [
          0.08517219678922733,
          0,
          0.32901657567916354,
          0,
          -0.4534683184396996,
          0,
          0.05253319356268553,
          0,
          -0.1002685344666667,
          0,
          -0.06927224183657141,
          0,
          -0.006050555411839166,
          0,
          0.23173804025340097,
          0,
          0.36859445607533414,
          0,
          0.12913685590870044,
          0,
          -0.2494348654164432,
          0,
          -0.12274846724494495,
          0,
          0.4550608720587833,
          0,
          -0.18745876489060626,
          0,
          0.30841244273165025,
          0,
          0.46773481137839057,
          0,
          -0.4574139016053863,
          0,
          -0.12108791561351481,
          0,
          0.24028811987752755,
          0,
          0.24021151817449896,
          0,
          -0.057369977325396476,
          0,
          -0.23978236204295802,
          0,
          0.1359370848807655,
          0,
          0.5728609545690998,
          0,
          -0.20962393954976338,
          0,
          0.29637757245262175,
          0,
          0.14357584442326954,
          0,
          0.17457213705336483,
          0,
          0.23779382347809708,
          0,
          0.4755824191433372,
          0,
          0.6124388349652703,
          0,
          0.3729812347986367,
          0,
          -0.005590486526506955,
          0,
          0.12109591164499128,
          0,
          0.6989052509487196,
          0,
          0.05638561399932998,
          0,
          0.5522568216215864,
          0,
          0.7115791902683268,
          0,
          -0.2135695227154501,
          0,
          0.12275646327642142,
          0,
          0.4841324987674638,
          0,
          0.4840558970644352,
          0,
          0.18647440156453976,
          0,
          0.004062016846978211,
          0,
          0.37978146377070177,
          0,
          -0.9921088336686266,
          0,
          -0.48610732166624143,
          0,
          -0.6389090496955936,
          0,
          -0.6079127570654983,
          0,
          -0.5446910706407662,
          0,
          -0.306902474975526,
          0,
          -0.4095036593202265,
          0,
          -0.7880753806453702,
          0,
          -0.6613889824738719,
          0,
          -0.7260992801195332,
          0,
          -0.23022807249727673,
          0,
          -0.07090570385053635,
          0,
          -0.9960544168343133,
          0,
          -0.6597284308424418,
          0,
          -0.298428997054428,
          0,
          -0.5960104925543235,
          0,
          -0.778422877271885,
          0,
          -0.4027034303481615,
          0,
          0.019894190336143733,
          0,
          -0.13290753769320848,
          0,
          -0.1019112450631132,
          0,
          -0.038689558638380965,
          0,
          0.1990990370268592,
          0,
          0.3359554528487923,
          0,
          0.09649785268215866,
          0,
          -0.282073868642985,
          0,
          -0.15538747047148674,
          0,
          0.42242186883224153,
          0,
          -0.22009776811714804,
          0,
          0.2757734395051084,
          0,
          0.4350958081518488,
          0,
          -0.49005290483192815,
          0,
          -0.1537269188400566,
          0,
          0.20764911665098576,
          0,
          0.20757251494795717,
          0,
          -0.09000898055193828,
          0,
          -0.27242136526949984,
          0,
          0.1032980816542237,
          0,
          -0.2857092657225607,
          0,
          -0.25471297309246543,
          0,
          -0.19149128666773318,
          0,
          0.04629730899750695,
          0,
          0.1831537248194401,
          0,
          -0.05630387534719357,
          0,
          -0.4348755966723372,
          0,
          -0.308189198500839,
          0,
          0.2696201408028893,
          0,
          -0.3728994961465003,
          0,
          0.1229717114757562,
          0,
          0.28229408012249657,
          0,
          -0.6428546328612803,
          0,
          -0.30652864686940884,
          0,
          0.05484738862163352,
          0,
          0.05477078691860493,
          0,
          -0.2428107085812905,
          0,
          -0.42522309329885205,
          0,
          -0.049503646375128524,
          0,
          -0.22371668046237014,
          0,
          -0.1604949940376379,
          0,
          0.07729360162760224,
          0,
          0.21415001744953538,
          0,
          -0.02530758271709828,
          0,
          -0.4038793040422419,
          0,
          -0.2771929058707437,
          0,
          0.3006164334329846,
          0,
          -0.341903203516405,
          0,
          0.15396800410585149,
          0,
          0.31329037275259186,
          0,
          -0.611858340231185,
          0,
          -0.27553235423931355,
          0,
          0.08584368125172881,
          0,
          0.08576707954870022,
          0,
          -0.2118144159511952,
          0,
          -0.39422680066875676,
          0,
          -0.018507353745033234,
          0,
          -0.09727330761290566,
          0,
          0.14051528805233449,
          0,
          0.2773717038742676,
          0,
          0.03791410370763396,
          0,
          -0.3406576176175097,
          0,
          -0.21397121944601144,
          0,
          0.36383811985771686,
          0,
          -0.27868151709167277,
          0,
          0.21718969053058373,
          0,
          0.3765120591773241,
          0,
          -0.5486366538064529,
          0,
          -0.2123106678145813,
          0,
          0.14906536767646106,
          0,
          0.14898876597343247,
          0,
          -0.14859272952646296,
          0,
          -0.3310051142440245,
          0,
          0.04471433267969901,
          0,
          0.3783038837175746,
          0,
          0.5151602995395077,
          0,
          0.2757026993728741,
          0,
          -0.10286902195226955,
          0,
          0.023817376219228692,
          0,
          0.601626715522957,
          0,
          -0.04089292142643261,
          0,
          0.45497828619582387,
          0,
          0.6143006548425642,
          0,
          -0.3108480581412127,
          0,
          0.025477927850658832,
          0,
          0.3868539633417012,
          0,
          0.3867773616386726,
          0,
          0.08919586613877717,
          0,
          -0.09321651857878438,
          0,
          0.2825029283449392,
          0,
          0.6520167153614409,
          0,
          0.41255911519480726,
          0,
          0.033987393869663596,
          0,
          0.16067379204116183,
          0,
          0.7384831313448901,
          0,
          0.09596349439550053,
          0,
          0.591834702017757,
          0,
          0.7511570706644974,
          0,
          -0.17399164231927955,
          0,
          0.16233434367259197,
          0,
          0.5237103791636344,
          0,
          0.5236337774606057,
          0,
          0.2260522819607103,
          0,
          0.04363989724314876,
          0,
          0.41935934416687226,
          0,
          0.17310151502817359,
          0,
          -0.20547020629697005,
          0,
          -0.07878380812547182,
          0,
          0.4990255311782565,
          0,
          -0.14349410577113314,
          0,
          0.35237710185112336,
          0,
          0.5116994704978637,
          0,
          -0.4134492424859132,
          0,
          -0.07712325649404168,
          0,
          0.2842527789970007,
          0,
          0.2841761772939721,
          0,
          -0.013405318205923347,
          0,
          -0.19581770292348488,
          0,
          0.17990174400023862,
          0,
          -0.5840419276221137,
          0,
          -0.4573555294506155,
          0,
          0.12045380985311283,
          0,
          -0.5220658270962768,
          0,
          -0.026194619474020298,
          0,
          0.13312774917272008,
          0,
          -0.7920209638110569,
          0,
          -0.45569497781918533,
          0,
          -0.09431894232814297,
          0,
          -0.09439554403117156,
          0,
          -0.391977039531067,
          0,
          -0.5743894242486285,
          0,
          -0.19866997732490502,
          0,
          -0.33066913127911723,
          0,
          0.24714020802461106,
          0,
          -0.3953794289247785,
          0,
          0.10049177869747794,
          0,
          0.2598141473442183,
          0,
          -0.6653345656395586,
          0,
          -0.3290085796476871,
          0,
          0.032367455843355264,
          0,
          0.032290854140326675,
          0,
          -0.26529064135956876,
          0,
          -0.4477030260771303,
          0,
          -0.07198357915340678,
          0,
          0.8249495473283394,
          0,
          0.18242991037894976,
          0,
          0.6783011180012062,
          0,
          0.8376234866479466,
          0,
          -0.08752522633583032,
          0,
          0.2488007596560412,
          0,
          0.6101767951470836,
          0,
          0.610100193444055,
          0,
          0.31251869794415954,
          0,
          0.130106313226598,
          0,
          0.5058257601503215,
          0,
          -0.46008972657043984,
          0,
          0.03578148105181664,
          0,
          0.195103849698557,
          0,
          -0.7300448632852199,
          0,
          -0.3937188772933484,
          0,
          -0.03234284180230604,
          0,
          -0.03241944350533463,
          0,
          -0.3300009390052301,
          0,
          -0.5124133237227916,
          0,
          -0.13669387679906808,
          0,
          0.5316526886740731,
          0,
          0.6909750573208135,
          0,
          0.10215233032890808,
          0,
          0.46352836581995044,
          0,
          0.46345176411692185,
          0,
          0.16587026861702642,
          0,
          -0.01654211610053513,
          0,
          0.35917733082318837,
          0,
          0.8502974259675539,
          0,
          0.26147469897564846,
          0,
          0.6228507344666908,
          0,
          0.6227741327636622,
          0,
          0.3251926372637668,
          0,
          0.5184996994699288,
          0,
          -1,
          0,
          -0.6636740140081285,
          0,
          -0.3022979785170861,
          0,
          -0.3023745802201147,
          0,
          -0.5999560757200102,
          0,
          -0.7823684604375717,
          0,
          -0.4066490135138482,
          0,
          -0.32734802801625695,
          0,
          0.033951405771756815,
          0,
          -0.2636300897281386,
          0,
          -0.44604247444570017,
          0,
          -0.07032302752197664,
          0,
          0.39540404296582776,
          0,
          0.3953274412627992,
          0,
          0.09774594576290374,
          0,
          -0.08466643895465781,
          0,
          0.29105300796906575,
          0,
          0.3952508395597706,
          0,
          0.09766934405987515,
          0,
          -0.0847430406576864,
          0,
          0.29097640626603716,
          0,
          -0.19991215144002028,
          0,
          -0.38232453615758183,
          0,
          -0.006605089233858302,
          0,
          -0.5647369208751434,
          0,
          -0.18901747395141985,
          0,
          0.18670197297230368,
          0
         ]
        }
       ],
       "layout": {
        "font": {
         "color": "RebeccaPurple",
         "family": "Calibri",
         "size": 16
        },
        "height": 1000,
        "margin": {
         "b": 0,
         "l": 0,
         "r": 0,
         "t": 20
        },
        "paper_bgcolor": "rgb(255,255,255)",
        "plot_bgcolor": "rgb(255,255,255)",
        "showlegend": false,
        "template": {
         "data": {
          "bar": [
           {
            "error_x": {
             "color": "#2a3f5f"
            },
            "error_y": {
             "color": "#2a3f5f"
            },
            "marker": {
             "line": {
              "color": "#E5ECF6",
              "width": 0.5
             },
             "pattern": {
              "fillmode": "overlay",
              "size": 10,
              "solidity": 0.2
             }
            },
            "type": "bar"
           }
          ],
          "barpolar": [
           {
            "marker": {
             "line": {
              "color": "#E5ECF6",
              "width": 0.5
             },
             "pattern": {
              "fillmode": "overlay",
              "size": 10,
              "solidity": 0.2
             }
            },
            "type": "barpolar"
           }
          ],
          "carpet": [
           {
            "aaxis": {
             "endlinecolor": "#2a3f5f",
             "gridcolor": "white",
             "linecolor": "white",
             "minorgridcolor": "white",
             "startlinecolor": "#2a3f5f"
            },
            "baxis": {
             "endlinecolor": "#2a3f5f",
             "gridcolor": "white",
             "linecolor": "white",
             "minorgridcolor": "white",
             "startlinecolor": "#2a3f5f"
            },
            "type": "carpet"
           }
          ],
          "choropleth": [
           {
            "colorbar": {
             "outlinewidth": 0,
             "ticks": ""
            },
            "type": "choropleth"
           }
          ],
          "contour": [
           {
            "colorbar": {
             "outlinewidth": 0,
             "ticks": ""
            },
            "colorscale": [
             [
              0,
              "#0d0887"
             ],
             [
              0.1111111111111111,
              "#46039f"
             ],
             [
              0.2222222222222222,
              "#7201a8"
             ],
             [
              0.3333333333333333,
              "#9c179e"
             ],
             [
              0.4444444444444444,
              "#bd3786"
             ],
             [
              0.5555555555555556,
              "#d8576b"
             ],
             [
              0.6666666666666666,
              "#ed7953"
             ],
             [
              0.7777777777777778,
              "#fb9f3a"
             ],
             [
              0.8888888888888888,
              "#fdca26"
             ],
             [
              1,
              "#f0f921"
             ]
            ],
            "type": "contour"
           }
          ],
          "contourcarpet": [
           {
            "colorbar": {
             "outlinewidth": 0,
             "ticks": ""
            },
            "type": "contourcarpet"
           }
          ],
          "heatmap": [
           {
            "colorbar": {
             "outlinewidth": 0,
             "ticks": ""
            },
            "colorscale": [
             [
              0,
              "#0d0887"
             ],
             [
              0.1111111111111111,
              "#46039f"
             ],
             [
              0.2222222222222222,
              "#7201a8"
             ],
             [
              0.3333333333333333,
              "#9c179e"
             ],
             [
              0.4444444444444444,
              "#bd3786"
             ],
             [
              0.5555555555555556,
              "#d8576b"
             ],
             [
              0.6666666666666666,
              "#ed7953"
             ],
             [
              0.7777777777777778,
              "#fb9f3a"
             ],
             [
              0.8888888888888888,
              "#fdca26"
             ],
             [
              1,
              "#f0f921"
             ]
            ],
            "type": "heatmap"
           }
          ],
          "heatmapgl": [
           {
            "colorbar": {
             "outlinewidth": 0,
             "ticks": ""
            },
            "colorscale": [
             [
              0,
              "#0d0887"
             ],
             [
              0.1111111111111111,
              "#46039f"
             ],
             [
              0.2222222222222222,
              "#7201a8"
             ],
             [
              0.3333333333333333,
              "#9c179e"
             ],
             [
              0.4444444444444444,
              "#bd3786"
             ],
             [
              0.5555555555555556,
              "#d8576b"
             ],
             [
              0.6666666666666666,
              "#ed7953"
             ],
             [
              0.7777777777777778,
              "#fb9f3a"
             ],
             [
              0.8888888888888888,
              "#fdca26"
             ],
             [
              1,
              "#f0f921"
             ]
            ],
            "type": "heatmapgl"
           }
          ],
          "histogram": [
           {
            "marker": {
             "pattern": {
              "fillmode": "overlay",
              "size": 10,
              "solidity": 0.2
             }
            },
            "type": "histogram"
           }
          ],
          "histogram2d": [
           {
            "colorbar": {
             "outlinewidth": 0,
             "ticks": ""
            },
            "colorscale": [
             [
              0,
              "#0d0887"
             ],
             [
              0.1111111111111111,
              "#46039f"
             ],
             [
              0.2222222222222222,
              "#7201a8"
             ],
             [
              0.3333333333333333,
              "#9c179e"
             ],
             [
              0.4444444444444444,
              "#bd3786"
             ],
             [
              0.5555555555555556,
              "#d8576b"
             ],
             [
              0.6666666666666666,
              "#ed7953"
             ],
             [
              0.7777777777777778,
              "#fb9f3a"
             ],
             [
              0.8888888888888888,
              "#fdca26"
             ],
             [
              1,
              "#f0f921"
             ]
            ],
            "type": "histogram2d"
           }
          ],
          "histogram2dcontour": [
           {
            "colorbar": {
             "outlinewidth": 0,
             "ticks": ""
            },
            "colorscale": [
             [
              0,
              "#0d0887"
             ],
             [
              0.1111111111111111,
              "#46039f"
             ],
             [
              0.2222222222222222,
              "#7201a8"
             ],
             [
              0.3333333333333333,
              "#9c179e"
             ],
             [
              0.4444444444444444,
              "#bd3786"
             ],
             [
              0.5555555555555556,
              "#d8576b"
             ],
             [
              0.6666666666666666,
              "#ed7953"
             ],
             [
              0.7777777777777778,
              "#fb9f3a"
             ],
             [
              0.8888888888888888,
              "#fdca26"
             ],
             [
              1,
              "#f0f921"
             ]
            ],
            "type": "histogram2dcontour"
           }
          ],
          "mesh3d": [
           {
            "colorbar": {
             "outlinewidth": 0,
             "ticks": ""
            },
            "type": "mesh3d"
           }
          ],
          "parcoords": [
           {
            "line": {
             "colorbar": {
              "outlinewidth": 0,
              "ticks": ""
             }
            },
            "type": "parcoords"
           }
          ],
          "pie": [
           {
            "automargin": true,
            "type": "pie"
           }
          ],
          "scatter": [
           {
            "fillpattern": {
             "fillmode": "overlay",
             "size": 10,
             "solidity": 0.2
            },
            "type": "scatter"
           }
          ],
          "scatter3d": [
           {
            "line": {
             "colorbar": {
              "outlinewidth": 0,
              "ticks": ""
             }
            },
            "marker": {
             "colorbar": {
              "outlinewidth": 0,
              "ticks": ""
             }
            },
            "type": "scatter3d"
           }
          ],
          "scattercarpet": [
           {
            "marker": {
             "colorbar": {
              "outlinewidth": 0,
              "ticks": ""
             }
            },
            "type": "scattercarpet"
           }
          ],
          "scattergeo": [
           {
            "marker": {
             "colorbar": {
              "outlinewidth": 0,
              "ticks": ""
             }
            },
            "type": "scattergeo"
           }
          ],
          "scattergl": [
           {
            "marker": {
             "colorbar": {
              "outlinewidth": 0,
              "ticks": ""
             }
            },
            "type": "scattergl"
           }
          ],
          "scattermapbox": [
           {
            "marker": {
             "colorbar": {
              "outlinewidth": 0,
              "ticks": ""
             }
            },
            "type": "scattermapbox"
           }
          ],
          "scatterpolar": [
           {
            "marker": {
             "colorbar": {
              "outlinewidth": 0,
              "ticks": ""
             }
            },
            "type": "scatterpolar"
           }
          ],
          "scatterpolargl": [
           {
            "marker": {
             "colorbar": {
              "outlinewidth": 0,
              "ticks": ""
             }
            },
            "type": "scatterpolargl"
           }
          ],
          "scatterternary": [
           {
            "marker": {
             "colorbar": {
              "outlinewidth": 0,
              "ticks": ""
             }
            },
            "type": "scatterternary"
           }
          ],
          "surface": [
           {
            "colorbar": {
             "outlinewidth": 0,
             "ticks": ""
            },
            "colorscale": [
             [
              0,
              "#0d0887"
             ],
             [
              0.1111111111111111,
              "#46039f"
             ],
             [
              0.2222222222222222,
              "#7201a8"
             ],
             [
              0.3333333333333333,
              "#9c179e"
             ],
             [
              0.4444444444444444,
              "#bd3786"
             ],
             [
              0.5555555555555556,
              "#d8576b"
             ],
             [
              0.6666666666666666,
              "#ed7953"
             ],
             [
              0.7777777777777778,
              "#fb9f3a"
             ],
             [
              0.8888888888888888,
              "#fdca26"
             ],
             [
              1,
              "#f0f921"
             ]
            ],
            "type": "surface"
           }
          ],
          "table": [
           {
            "cells": {
             "fill": {
              "color": "#EBF0F8"
             },
             "line": {
              "color": "white"
             }
            },
            "header": {
             "fill": {
              "color": "#C8D4E3"
             },
             "line": {
              "color": "white"
             }
            },
            "type": "table"
           }
          ]
         },
         "layout": {
          "annotationdefaults": {
           "arrowcolor": "#2a3f5f",
           "arrowhead": 0,
           "arrowwidth": 1
          },
          "autotypenumbers": "strict",
          "coloraxis": {
           "colorbar": {
            "outlinewidth": 0,
            "ticks": ""
           }
          },
          "colorscale": {
           "diverging": [
            [
             0,
             "#8e0152"
            ],
            [
             0.1,
             "#c51b7d"
            ],
            [
             0.2,
             "#de77ae"
            ],
            [
             0.3,
             "#f1b6da"
            ],
            [
             0.4,
             "#fde0ef"
            ],
            [
             0.5,
             "#f7f7f7"
            ],
            [
             0.6,
             "#e6f5d0"
            ],
            [
             0.7,
             "#b8e186"
            ],
            [
             0.8,
             "#7fbc41"
            ],
            [
             0.9,
             "#4d9221"
            ],
            [
             1,
             "#276419"
            ]
           ],
           "sequential": [
            [
             0,
             "#0d0887"
            ],
            [
             0.1111111111111111,
             "#46039f"
            ],
            [
             0.2222222222222222,
             "#7201a8"
            ],
            [
             0.3333333333333333,
             "#9c179e"
            ],
            [
             0.4444444444444444,
             "#bd3786"
            ],
            [
             0.5555555555555556,
             "#d8576b"
            ],
            [
             0.6666666666666666,
             "#ed7953"
            ],
            [
             0.7777777777777778,
             "#fb9f3a"
            ],
            [
             0.8888888888888888,
             "#fdca26"
            ],
            [
             1,
             "#f0f921"
            ]
           ],
           "sequentialminus": [
            [
             0,
             "#0d0887"
            ],
            [
             0.1111111111111111,
             "#46039f"
            ],
            [
             0.2222222222222222,
             "#7201a8"
            ],
            [
             0.3333333333333333,
             "#9c179e"
            ],
            [
             0.4444444444444444,
             "#bd3786"
            ],
            [
             0.5555555555555556,
             "#d8576b"
            ],
            [
             0.6666666666666666,
             "#ed7953"
            ],
            [
             0.7777777777777778,
             "#fb9f3a"
            ],
            [
             0.8888888888888888,
             "#fdca26"
            ],
            [
             1,
             "#f0f921"
            ]
           ]
          },
          "colorway": [
           "#636efa",
           "#EF553B",
           "#00cc96",
           "#ab63fa",
           "#FFA15A",
           "#19d3f3",
           "#FF6692",
           "#B6E880",
           "#FF97FF",
           "#FECB52"
          ],
          "font": {
           "color": "#2a3f5f"
          },
          "geo": {
           "bgcolor": "white",
           "lakecolor": "white",
           "landcolor": "#E5ECF6",
           "showlakes": true,
           "showland": true,
           "subunitcolor": "white"
          },
          "hoverlabel": {
           "align": "left"
          },
          "hovermode": "closest",
          "mapbox": {
           "style": "light"
          },
          "paper_bgcolor": "white",
          "plot_bgcolor": "#E5ECF6",
          "polar": {
           "angularaxis": {
            "gridcolor": "white",
            "linecolor": "white",
            "ticks": ""
           },
           "bgcolor": "#E5ECF6",
           "radialaxis": {
            "gridcolor": "white",
            "linecolor": "white",
            "ticks": ""
           }
          },
          "scene": {
           "xaxis": {
            "backgroundcolor": "#E5ECF6",
            "gridcolor": "white",
            "gridwidth": 2,
            "linecolor": "white",
            "showbackground": true,
            "ticks": "",
            "zerolinecolor": "white"
           },
           "yaxis": {
            "backgroundcolor": "#E5ECF6",
            "gridcolor": "white",
            "gridwidth": 2,
            "linecolor": "white",
            "showbackground": true,
            "ticks": "",
            "zerolinecolor": "white"
           },
           "zaxis": {
            "backgroundcolor": "#E5ECF6",
            "gridcolor": "white",
            "gridwidth": 2,
            "linecolor": "white",
            "showbackground": true,
            "ticks": "",
            "zerolinecolor": "white"
           }
          },
          "shapedefaults": {
           "line": {
            "color": "#2a3f5f"
           }
          },
          "ternary": {
           "aaxis": {
            "gridcolor": "white",
            "linecolor": "white",
            "ticks": ""
           },
           "baxis": {
            "gridcolor": "white",
            "linecolor": "white",
            "ticks": ""
           },
           "bgcolor": "#E5ECF6",
           "caxis": {
            "gridcolor": "white",
            "linecolor": "white",
            "ticks": ""
           }
          },
          "title": {
           "x": 0.05
          },
          "xaxis": {
           "automargin": true,
           "gridcolor": "white",
           "linecolor": "white",
           "ticks": "",
           "title": {
            "standoff": 15
           },
           "zerolinecolor": "white",
           "zerolinewidth": 2
          },
          "yaxis": {
           "automargin": true,
           "gridcolor": "white",
           "linecolor": "white",
           "ticks": "",
           "title": {
            "standoff": 15
           },
           "zerolinecolor": "white",
           "zerolinewidth": 2
          }
         }
        },
        "width": 1000,
        "xaxis": {
         "showgrid": false,
         "showticklabels": false,
         "zeroline": false
        },
        "yaxis": {
         "showgrid": false,
         "showticklabels": false,
         "zeroline": false
        }
       }
      },
      "text/html": [
       "<div>                            <div id=\"b3fad0b4-b017-4277-a80f-ca1f6e2912f6\" class=\"plotly-graph-div\" style=\"height:1000px; width:1000px;\"></div>            <script type=\"text/javascript\">                require([\"plotly\"], function(Plotly) {                    window.PLOTLYENV=window.PLOTLYENV || {};                                    if (document.getElementById(\"b3fad0b4-b017-4277-a80f-ca1f6e2912f6\")) {                    Plotly.newPlot(                        \"b3fad0b4-b017-4277-a80f-ca1f6e2912f6\",                        [{\"hoverinfo\":\"none\",\"hovertext\":\" \",\"line\":{\"color\":\"rgb(0, 104, 42)\",\"width\":7},\"x\":[0.731494294276745,0.731494294276745,null],\"y\":[0.08517219678922733,0.08517219678922733,null],\"type\":\"scatter\",\"textposition\":\"top center\"},{\"hoverinfo\":\"none\",\"hovertext\":\" \",\"line\":{\"color\":\"rgb(231, 246, 227)\",\"width\":0},\"x\":[0.731494294276745,-0.42315214872404533,null],\"y\":[0.08517219678922733,0.5728609545690998,null],\"type\":\"scatter\",\"textposition\":\"top center\"},{\"hoverinfo\":\"none\",\"hovertext\":\" \",\"line\":{\"color\":\"rgb(231, 246, 227)\",\"width\":0},\"x\":[0.731494294276745,-0.19616938522515973,null],\"y\":[0.08517219678922733,-0.9921088336686266,null],\"type\":\"scatter\",\"textposition\":\"top center\"},{\"hoverinfo\":\"none\",\"hovertext\":\" \",\"line\":{\"color\":\"rgb(206, 236, 200)\",\"width\":1},\"x\":[0.731494294276745,-0.18453436507291418,null],\"y\":[0.08517219678922733,0.019894190336143733,null],\"type\":\"scatter\",\"textposition\":\"top center\"},{\"hoverinfo\":\"none\",\"hovertext\":\" \",\"line\":{\"color\":\"rgb(136, 206, 135)\",\"width\":3},\"x\":[0.731494294276745,-0.05768021359772707,null],\"y\":[0.08517219678922733,-0.2857092657225607,null],\"type\":\"scatter\",\"textposition\":\"top center\"},{\"hoverinfo\":\"none\",\"hovertext\":\" \",\"line\":{\"color\":\"rgb(174, 222, 167)\",\"width\":2},\"x\":[0.731494294276745,0.5221620128874973,null],\"y\":[0.08517219678922733,-0.22371668046237014,null],\"type\":\"scatter\",\"textposition\":\"top center\"},{\"hoverinfo\":\"none\",\"hovertext\":\" \",\"line\":{\"color\":\"rgb(231, 246, 227)\",\"width\":0},\"x\":[0.731494294276745,-0.4785319216379006,null],\"y\":[0.08517219678922733,-0.09727330761290566,null],\"type\":\"scatter\",\"textposition\":\"top center\"},{\"hoverinfo\":\"none\",\"hovertext\":\" \",\"line\":{\"color\":\"rgb(206, 236, 200)\",\"width\":1},\"x\":[0.731494294276745,0.26041211431698535,null],\"y\":[0.08517219678922733,0.3783038837175746,null],\"type\":\"scatter\",\"textposition\":\"top center\"},{\"hoverinfo\":\"none\",\"hovertext\":\" \",\"line\":{\"color\":\"rgb(136, 206, 135)\",\"width\":3},\"x\":[0.731494294276745,0.3514228485283896,null],\"y\":[0.08517219678922733,0.6520167153614409,null],\"type\":\"scatter\",\"textposition\":\"top center\"},{\"hoverinfo\":\"none\",\"hovertext\":\" \",\"line\":{\"color\":\"rgb(231, 246, 227)\",\"width\":0},\"x\":[0.731494294276745,0.04788960634673765,null],\"y\":[0.08517219678922733,0.17310151502817359,null],\"type\":\"scatter\",\"textposition\":\"top center\"},{\"hoverinfo\":\"none\",\"hovertext\":\" \",\"line\":{\"color\":\"rgb(231, 246, 227)\",\"width\":0},\"x\":[0.731494294276745,-0.13831907570377594,null],\"y\":[0.08517219678922733,-0.5840419276221137,null],\"type\":\"scatter\",\"textposition\":\"top center\"},{\"hoverinfo\":\"none\",\"hovertext\":\" \",\"line\":{\"color\":\"rgb(231, 246, 227)\",\"width\":0},\"x\":[0.731494294276745,-0.7821113335359461,null],\"y\":[0.08517219678922733,-0.33066913127911723,null],\"type\":\"scatter\",\"textposition\":\"top center\"},{\"hoverinfo\":\"none\",\"hovertext\":\" \",\"line\":{\"color\":\"rgb(206, 236, 200)\",\"width\":1},\"x\":[0.731494294276745,0.07372678093973499,null],\"y\":[0.08517219678922733,0.8249495473283394,null],\"type\":\"scatter\",\"textposition\":\"top center\"},{\"hoverinfo\":\"none\",\"hovertext\":\" \",\"line\":{\"color\":\"rgb(231, 246, 227)\",\"width\":0},\"x\":[0.731494294276745,0.3258739032715395,null],\"y\":[0.08517219678922733,-0.46008972657043984,null],\"type\":\"scatter\",\"textposition\":\"top center\"},{\"hoverinfo\":\"none\",\"hovertext\":\" \",\"line\":{\"color\":\"rgb(174, 222, 167)\",\"width\":2},\"x\":[0.731494294276745,0.8512794768002446,null],\"y\":[0.08517219678922733,0.5316526886740731,null],\"type\":\"scatter\",\"textposition\":\"top center\"},{\"hoverinfo\":\"none\",\"hovertext\":\" \",\"line\":{\"color\":\"rgb(174, 222, 167)\",\"width\":2},\"x\":[0.731494294276745,0.6387434641683799,null],\"y\":[0.08517219678922733,0.8502974259675539,null],\"type\":\"scatter\",\"textposition\":\"top center\"},{\"hoverinfo\":\"none\",\"hovertext\":\" \",\"line\":{\"color\":\"rgb(231, 246, 227)\",\"width\":0},\"x\":[0.731494294276745,-0.6357871398279092,null],\"y\":[0.08517219678922733,-1.0,null],\"type\":\"scatter\",\"textposition\":\"top center\"},{\"hoverinfo\":\"none\",\"hovertext\":\" \",\"line\":{\"color\":\"rgb(231, 246, 227)\",\"width\":0},\"x\":[0.731494294276745,-0.40569121539260206,null],\"y\":[0.08517219678922733,-0.32734802801625695,null],\"type\":\"scatter\",\"textposition\":\"top center\"},{\"hoverinfo\":\"none\",\"hovertext\":\" \",\"line\":{\"color\":\"rgb(93, 185, 107)\",\"width\":4},\"x\":[0.731494294276745,0.6450589027683868,null],\"y\":[0.08517219678922733,0.39540404296582776,null],\"type\":\"scatter\",\"textposition\":\"top center\"},{\"hoverinfo\":\"none\",\"hovertext\":\" \",\"line\":{\"color\":\"rgb(231, 246, 227)\",\"width\":0},\"x\":[0.731494294276745,-0.11484503021519027,null],\"y\":[0.08517219678922733,0.3952508395597706,null],\"type\":\"scatter\",\"textposition\":\"top center\"},{\"hoverinfo\":\"none\",\"hovertext\":\" \",\"line\":{\"color\":\"rgb(231, 246, 227)\",\"width\":0},\"x\":[0.731494294276745,0.1449387983818865,null],\"y\":[0.08517219678922733,-0.19991215144002028,null],\"type\":\"scatter\",\"textposition\":\"top center\"},{\"hoverinfo\":\"none\",\"hovertext\":\" \",\"line\":{\"color\":\"rgb(231, 246, 227)\",\"width\":0},\"x\":[0.731494294276745,-0.4480642147745625,null],\"y\":[0.08517219678922733,-0.5647369208751434,null],\"type\":\"scatter\",\"textposition\":\"top center\"},{\"hoverinfo\":\"none\",\"hovertext\":\" \",\"line\":{\"color\":\"rgb(231, 246, 227)\",\"width\":0},\"x\":[0.731494294276745,-0.7281161589787841,null],\"y\":[0.08517219678922733,0.18670197297230368,null],\"type\":\"scatter\",\"textposition\":\"top center\"},{\"hoverinfo\":\"none\",\"hovertext\":\" \",\"line\":{\"color\":\"rgb(93, 185, 107)\",\"width\":4},\"x\":[-0.42315214872404533,-0.42315214872404533,null],\"y\":[0.5728609545690998,0.5728609545690998,null],\"type\":\"scatter\",\"textposition\":\"top center\"},{\"hoverinfo\":\"none\",\"hovertext\":\" \",\"line\":{\"color\":\"rgb(231, 246, 227)\",\"width\":0},\"x\":[-0.42315214872404533,-0.19616938522515973,null],\"y\":[0.5728609545690998,-0.9921088336686266,null],\"type\":\"scatter\",\"textposition\":\"top center\"},{\"hoverinfo\":\"none\",\"hovertext\":\" \",\"line\":{\"color\":\"rgb(93, 185, 107)\",\"width\":4},\"x\":[-0.42315214872404533,-0.18453436507291418,null],\"y\":[0.5728609545690998,0.019894190336143733,null],\"type\":\"scatter\",\"textposition\":\"top center\"},{\"hoverinfo\":\"none\",\"hovertext\":\" \",\"line\":{\"color\":\"rgb(231, 246, 227)\",\"width\":0},\"x\":[-0.42315214872404533,-0.05768021359772707,null],\"y\":[0.5728609545690998,-0.2857092657225607,null],\"type\":\"scatter\",\"textposition\":\"top center\"},{\"hoverinfo\":\"none\",\"hovertext\":\" \",\"line\":{\"color\":\"rgb(231, 246, 227)\",\"width\":0},\"x\":[-0.42315214872404533,0.5221620128874973,null],\"y\":[0.5728609545690998,-0.22371668046237014,null],\"type\":\"scatter\",\"textposition\":\"top center\"},{\"hoverinfo\":\"none\",\"hovertext\":\" \",\"line\":{\"color\":\"rgb(231, 246, 227)\",\"width\":0},\"x\":[-0.42315214872404533,-0.4785319216379006,null],\"y\":[0.5728609545690998,-0.09727330761290566,null],\"type\":\"scatter\",\"textposition\":\"top center\"},{\"hoverinfo\":\"none\",\"hovertext\":\" \",\"line\":{\"color\":\"rgb(174, 222, 167)\",\"width\":2},\"x\":[-0.42315214872404533,0.26041211431698535,null],\"y\":[0.5728609545690998,0.3783038837175746,null],\"type\":\"scatter\",\"textposition\":\"top center\"},{\"hoverinfo\":\"none\",\"hovertext\":\" \",\"line\":{\"color\":\"rgb(231, 246, 227)\",\"width\":0},\"x\":[-0.42315214872404533,0.3514228485283896,null],\"y\":[0.5728609545690998,0.6520167153614409,null],\"type\":\"scatter\",\"textposition\":\"top center\"},{\"hoverinfo\":\"none\",\"hovertext\":\" \",\"line\":{\"color\":\"rgb(206, 236, 200)\",\"width\":1},\"x\":[-0.42315214872404533,0.04788960634673765,null],\"y\":[0.5728609545690998,0.17310151502817359,null],\"type\":\"scatter\",\"textposition\":\"top center\"},{\"hoverinfo\":\"none\",\"hovertext\":\" \",\"line\":{\"color\":\"rgb(231, 246, 227)\",\"width\":0},\"x\":[-0.42315214872404533,-0.13831907570377594,null],\"y\":[0.5728609545690998,-0.5840419276221137,null],\"type\":\"scatter\",\"textposition\":\"top center\"},{\"hoverinfo\":\"none\",\"hovertext\":\" \",\"line\":{\"color\":\"rgb(231, 246, 227)\",\"width\":0},\"x\":[-0.42315214872404533,-0.7821113335359461,null],\"y\":[0.5728609545690998,-0.33066913127911723,null],\"type\":\"scatter\",\"textposition\":\"top center\"},{\"hoverinfo\":\"none\",\"hovertext\":\" \",\"line\":{\"color\":\"rgb(231, 246, 227)\",\"width\":0},\"x\":[-0.42315214872404533,0.07372678093973499,null],\"y\":[0.5728609545690998,0.8249495473283394,null],\"type\":\"scatter\",\"textposition\":\"top center\"},{\"hoverinfo\":\"none\",\"hovertext\":\" \",\"line\":{\"color\":\"rgb(231, 246, 227)\",\"width\":0},\"x\":[-0.42315214872404533,0.3258739032715395,null],\"y\":[0.5728609545690998,-0.46008972657043984,null],\"type\":\"scatter\",\"textposition\":\"top center\"},{\"hoverinfo\":\"none\",\"hovertext\":\" \",\"line\":{\"color\":\"rgb(231, 246, 227)\",\"width\":0},\"x\":[-0.42315214872404533,0.8512794768002446,null],\"y\":[0.5728609545690998,0.5316526886740731,null],\"type\":\"scatter\",\"textposition\":\"top center\"},{\"hoverinfo\":\"none\",\"hovertext\":\" \",\"line\":{\"color\":\"rgb(231, 246, 227)\",\"width\":0},\"x\":[-0.42315214872404533,0.6387434641683799,null],\"y\":[0.5728609545690998,0.8502974259675539,null],\"type\":\"scatter\",\"textposition\":\"top center\"},{\"hoverinfo\":\"none\",\"hovertext\":\" \",\"line\":{\"color\":\"rgb(231, 246, 227)\",\"width\":0},\"x\":[-0.42315214872404533,-0.6357871398279092,null],\"y\":[0.5728609545690998,-1.0,null],\"type\":\"scatter\",\"textposition\":\"top center\"},{\"hoverinfo\":\"none\",\"hovertext\":\" \",\"line\":{\"color\":\"rgb(231, 246, 227)\",\"width\":0},\"x\":[-0.42315214872404533,-0.40569121539260206,null],\"y\":[0.5728609545690998,-0.32734802801625695,null],\"type\":\"scatter\",\"textposition\":\"top center\"},{\"hoverinfo\":\"none\",\"hovertext\":\" \",\"line\":{\"color\":\"rgb(231, 246, 227)\",\"width\":0},\"x\":[-0.42315214872404533,0.6450589027683868,null],\"y\":[0.5728609545690998,0.39540404296582776,null],\"type\":\"scatter\",\"textposition\":\"top center\"},{\"hoverinfo\":\"none\",\"hovertext\":\" \",\"line\":{\"color\":\"rgb(136, 206, 135)\",\"width\":3},\"x\":[-0.42315214872404533,-0.11484503021519027,null],\"y\":[0.5728609545690998,0.3952508395597706,null],\"type\":\"scatter\",\"textposition\":\"top center\"},{\"hoverinfo\":\"none\",\"hovertext\":\" \",\"line\":{\"color\":\"rgb(206, 236, 200)\",\"width\":1},\"x\":[-0.42315214872404533,0.1449387983818865,null],\"y\":[0.5728609545690998,-0.19991215144002028,null],\"type\":\"scatter\",\"textposition\":\"top center\"},{\"hoverinfo\":\"none\",\"hovertext\":\" \",\"line\":{\"color\":\"rgb(231, 246, 227)\",\"width\":0},\"x\":[-0.42315214872404533,-0.4480642147745625,null],\"y\":[0.5728609545690998,-0.5647369208751434,null],\"type\":\"scatter\",\"textposition\":\"top center\"},{\"hoverinfo\":\"none\",\"hovertext\":\" \",\"line\":{\"color\":\"rgb(231, 246, 227)\",\"width\":0},\"x\":[-0.42315214872404533,-0.7281161589787841,null],\"y\":[0.5728609545690998,0.18670197297230368,null],\"type\":\"scatter\",\"textposition\":\"top center\"},{\"hoverinfo\":\"none\",\"hovertext\":\" \",\"line\":{\"color\":\"rgb(93, 185, 107)\",\"width\":4},\"x\":[-0.19616938522515973,-0.19616938522515973,null],\"y\":[-0.9921088336686266,-0.9921088336686266,null],\"type\":\"scatter\",\"textposition\":\"top center\"},{\"hoverinfo\":\"none\",\"hovertext\":\" \",\"line\":{\"color\":\"rgb(174, 222, 167)\",\"width\":2},\"x\":[-0.19616938522515973,-0.18453436507291418,null],\"y\":[-0.9921088336686266,0.019894190336143733,null],\"type\":\"scatter\",\"textposition\":\"top center\"},{\"hoverinfo\":\"none\",\"hovertext\":\" \",\"line\":{\"color\":\"rgb(231, 246, 227)\",\"width\":0},\"x\":[-0.19616938522515973,-0.05768021359772707,null],\"y\":[-0.9921088336686266,-0.2857092657225607,null],\"type\":\"scatter\",\"textposition\":\"top center\"},{\"hoverinfo\":\"none\",\"hovertext\":\" \",\"line\":{\"color\":\"rgb(231, 246, 227)\",\"width\":0},\"x\":[-0.19616938522515973,0.5221620128874973,null],\"y\":[-0.9921088336686266,-0.22371668046237014,null],\"type\":\"scatter\",\"textposition\":\"top center\"},{\"hoverinfo\":\"none\",\"hovertext\":\" \",\"line\":{\"color\":\"rgb(231, 246, 227)\",\"width\":0},\"x\":[-0.19616938522515973,-0.4785319216379006,null],\"y\":[-0.9921088336686266,-0.09727330761290566,null],\"type\":\"scatter\",\"textposition\":\"top center\"},{\"hoverinfo\":\"none\",\"hovertext\":\" \",\"line\":{\"color\":\"rgb(231, 246, 227)\",\"width\":0},\"x\":[-0.19616938522515973,0.26041211431698535,null],\"y\":[-0.9921088336686266,0.3783038837175746,null],\"type\":\"scatter\",\"textposition\":\"top center\"},{\"hoverinfo\":\"none\",\"hovertext\":\" \",\"line\":{\"color\":\"rgb(231, 246, 227)\",\"width\":0},\"x\":[-0.19616938522515973,0.04788960634673765,null],\"y\":[-0.9921088336686266,0.17310151502817359,null],\"type\":\"scatter\",\"textposition\":\"top center\"},{\"hoverinfo\":\"none\",\"hovertext\":\" \",\"line\":{\"color\":\"rgb(206, 236, 200)\",\"width\":1},\"x\":[-0.19616938522515973,-0.13831907570377594,null],\"y\":[-0.9921088336686266,-0.5840419276221137,null],\"type\":\"scatter\",\"textposition\":\"top center\"},{\"hoverinfo\":\"none\",\"hovertext\":\" \",\"line\":{\"color\":\"rgb(231, 246, 227)\",\"width\":0},\"x\":[-0.19616938522515973,-0.7821113335359461,null],\"y\":[-0.9921088336686266,-0.33066913127911723,null],\"type\":\"scatter\",\"textposition\":\"top center\"},{\"hoverinfo\":\"none\",\"hovertext\":\" \",\"line\":{\"color\":\"rgb(231, 246, 227)\",\"width\":0},\"x\":[-0.19616938522515973,0.3258739032715395,null],\"y\":[-0.9921088336686266,-0.46008972657043984,null],\"type\":\"scatter\",\"textposition\":\"top center\"},{\"hoverinfo\":\"none\",\"hovertext\":\" \",\"line\":{\"color\":\"rgb(231, 246, 227)\",\"width\":0},\"x\":[-0.19616938522515973,0.8512794768002446,null],\"y\":[-0.9921088336686266,0.5316526886740731,null],\"type\":\"scatter\",\"textposition\":\"top center\"},{\"hoverinfo\":\"none\",\"hovertext\":\" \",\"line\":{\"color\":\"rgb(231, 246, 227)\",\"width\":0},\"x\":[-0.19616938522515973,0.6387434641683799,null],\"y\":[-0.9921088336686266,0.8502974259675539,null],\"type\":\"scatter\",\"textposition\":\"top center\"},{\"hoverinfo\":\"none\",\"hovertext\":\" \",\"line\":{\"color\":\"rgb(206, 236, 200)\",\"width\":1},\"x\":[-0.19616938522515973,-0.6357871398279092,null],\"y\":[-0.9921088336686266,-1.0,null],\"type\":\"scatter\",\"textposition\":\"top center\"},{\"hoverinfo\":\"none\",\"hovertext\":\" \",\"line\":{\"color\":\"rgb(136, 206, 135)\",\"width\":3},\"x\":[-0.19616938522515973,-0.40569121539260206,null],\"y\":[-0.9921088336686266,-0.32734802801625695,null],\"type\":\"scatter\",\"textposition\":\"top center\"},{\"hoverinfo\":\"none\",\"hovertext\":\" \",\"line\":{\"color\":\"rgb(231, 246, 227)\",\"width\":0},\"x\":[-0.19616938522515973,-0.11484503021519027,null],\"y\":[-0.9921088336686266,0.3952508395597706,null],\"type\":\"scatter\",\"textposition\":\"top center\"},{\"hoverinfo\":\"none\",\"hovertext\":\" \",\"line\":{\"color\":\"rgb(206, 236, 200)\",\"width\":1},\"x\":[-0.19616938522515973,0.1449387983818865,null],\"y\":[-0.9921088336686266,-0.19991215144002028,null],\"type\":\"scatter\",\"textposition\":\"top center\"},{\"hoverinfo\":\"none\",\"hovertext\":\" \",\"line\":{\"color\":\"rgb(206, 236, 200)\",\"width\":1},\"x\":[-0.19616938522515973,-0.4480642147745625,null],\"y\":[-0.9921088336686266,-0.5647369208751434,null],\"type\":\"scatter\",\"textposition\":\"top center\"},{\"hoverinfo\":\"none\",\"hovertext\":\" \",\"line\":{\"color\":\"rgb(231, 246, 227)\",\"width\":0},\"x\":[-0.19616938522515973,-0.7281161589787841,null],\"y\":[-0.9921088336686266,0.18670197297230368,null],\"type\":\"scatter\",\"textposition\":\"top center\"},{\"hoverinfo\":\"none\",\"hovertext\":\" \",\"line\":{\"color\":\"rgb(0, 104, 42)\",\"width\":7},\"x\":[-0.18453436507291418,-0.18453436507291418,null],\"y\":[0.019894190336143733,0.019894190336143733,null],\"type\":\"scatter\",\"textposition\":\"top center\"},{\"hoverinfo\":\"none\",\"hovertext\":\" \",\"line\":{\"color\":\"rgb(136, 206, 135)\",\"width\":3},\"x\":[-0.18453436507291418,-0.05768021359772707,null],\"y\":[0.019894190336143733,-0.2857092657225607,null],\"type\":\"scatter\",\"textposition\":\"top center\"},{\"hoverinfo\":\"none\",\"hovertext\":\" \",\"line\":{\"color\":\"rgb(174, 222, 167)\",\"width\":2},\"x\":[-0.18453436507291418,0.5221620128874973,null],\"y\":[0.019894190336143733,-0.22371668046237014,null],\"type\":\"scatter\",\"textposition\":\"top center\"},{\"hoverinfo\":\"none\",\"hovertext\":\" \",\"line\":{\"color\":\"rgb(93, 185, 107)\",\"width\":4},\"x\":[-0.18453436507291418,-0.4785319216379006,null],\"y\":[0.019894190336143733,-0.09727330761290566,null],\"type\":\"scatter\",\"textposition\":\"top center\"},{\"hoverinfo\":\"none\",\"hovertext\":\" \",\"line\":{\"color\":\"rgb(136, 206, 135)\",\"width\":3},\"x\":[-0.18453436507291418,0.26041211431698535,null],\"y\":[0.019894190336143733,0.3783038837175746,null],\"type\":\"scatter\",\"textposition\":\"top center\"},{\"hoverinfo\":\"none\",\"hovertext\":\" \",\"line\":{\"color\":\"rgb(206, 236, 200)\",\"width\":1},\"x\":[-0.18453436507291418,0.3514228485283896,null],\"y\":[0.019894190336143733,0.6520167153614409,null],\"type\":\"scatter\",\"textposition\":\"top center\"},{\"hoverinfo\":\"none\",\"hovertext\":\" \",\"line\":{\"color\":\"rgb(136, 206, 135)\",\"width\":3},\"x\":[-0.18453436507291418,0.04788960634673765,null],\"y\":[0.019894190336143733,0.17310151502817359,null],\"type\":\"scatter\",\"textposition\":\"top center\"},{\"hoverinfo\":\"none\",\"hovertext\":\" \",\"line\":{\"color\":\"rgb(136, 206, 135)\",\"width\":3},\"x\":[-0.18453436507291418,-0.13831907570377594,null],\"y\":[0.019894190336143733,-0.5840419276221137,null],\"type\":\"scatter\",\"textposition\":\"top center\"},{\"hoverinfo\":\"none\",\"hovertext\":\" \",\"line\":{\"color\":\"rgb(136, 206, 135)\",\"width\":3},\"x\":[-0.18453436507291418,-0.7821113335359461,null],\"y\":[0.019894190336143733,-0.33066913127911723,null],\"type\":\"scatter\",\"textposition\":\"top center\"},{\"hoverinfo\":\"none\",\"hovertext\":\" \",\"line\":{\"color\":\"rgb(174, 222, 167)\",\"width\":2},\"x\":[-0.18453436507291418,0.07372678093973499,null],\"y\":[0.019894190336143733,0.8249495473283394,null],\"type\":\"scatter\",\"textposition\":\"top center\"},{\"hoverinfo\":\"none\",\"hovertext\":\" \",\"line\":{\"color\":\"rgb(174, 222, 167)\",\"width\":2},\"x\":[-0.18453436507291418,0.3258739032715395,null],\"y\":[0.019894190336143733,-0.46008972657043984,null],\"type\":\"scatter\",\"textposition\":\"top center\"},{\"hoverinfo\":\"none\",\"hovertext\":\" \",\"line\":{\"color\":\"rgb(231, 246, 227)\",\"width\":0},\"x\":[-0.18453436507291418,0.8512794768002446,null],\"y\":[0.019894190336143733,0.5316526886740731,null],\"type\":\"scatter\",\"textposition\":\"top center\"},{\"hoverinfo\":\"none\",\"hovertext\":\" \",\"line\":{\"color\":\"rgb(206, 236, 200)\",\"width\":1},\"x\":[-0.18453436507291418,0.6387434641683799,null],\"y\":[0.019894190336143733,0.8502974259675539,null],\"type\":\"scatter\",\"textposition\":\"top center\"},{\"hoverinfo\":\"none\",\"hovertext\":\" \",\"line\":{\"color\":\"rgb(206, 236, 200)\",\"width\":1},\"x\":[-0.18453436507291418,-0.6357871398279092,null],\"y\":[0.019894190336143733,-1.0,null],\"type\":\"scatter\",\"textposition\":\"top center\"},{\"hoverinfo\":\"none\",\"hovertext\":\" \",\"line\":{\"color\":\"rgb(93, 185, 107)\",\"width\":4},\"x\":[-0.18453436507291418,-0.40569121539260206,null],\"y\":[0.019894190336143733,-0.32734802801625695,null],\"type\":\"scatter\",\"textposition\":\"top center\"},{\"hoverinfo\":\"none\",\"hovertext\":\" \",\"line\":{\"color\":\"rgb(206, 236, 200)\",\"width\":1},\"x\":[-0.18453436507291418,0.6450589027683868,null],\"y\":[0.019894190336143733,0.39540404296582776,null],\"type\":\"scatter\",\"textposition\":\"top center\"},{\"hoverinfo\":\"none\",\"hovertext\":\" \",\"line\":{\"color\":\"rgb(136, 206, 135)\",\"width\":3},\"x\":[-0.18453436507291418,-0.11484503021519027,null],\"y\":[0.019894190336143733,0.3952508395597706,null],\"type\":\"scatter\",\"textposition\":\"top center\"},{\"hoverinfo\":\"none\",\"hovertext\":\" \",\"line\":{\"color\":\"rgb(136, 206, 135)\",\"width\":3},\"x\":[-0.18453436507291418,0.1449387983818865,null],\"y\":[0.019894190336143733,-0.19991215144002028,null],\"type\":\"scatter\",\"textposition\":\"top center\"},{\"hoverinfo\":\"none\",\"hovertext\":\" \",\"line\":{\"color\":\"rgb(136, 206, 135)\",\"width\":3},\"x\":[-0.18453436507291418,-0.4480642147745625,null],\"y\":[0.019894190336143733,-0.5647369208751434,null],\"type\":\"scatter\",\"textposition\":\"top center\"},{\"hoverinfo\":\"none\",\"hovertext\":\" \",\"line\":{\"color\":\"rgb(206, 236, 200)\",\"width\":1},\"x\":[-0.18453436507291418,-0.7281161589787841,null],\"y\":[0.019894190336143733,0.18670197297230368,null],\"type\":\"scatter\",\"textposition\":\"top center\"},{\"hoverinfo\":\"none\",\"hovertext\":\" \",\"line\":{\"color\":\"rgb(0, 104, 42)\",\"width\":7},\"x\":[-0.05768021359772707,-0.05768021359772707,null],\"y\":[-0.2857092657225607,-0.2857092657225607,null],\"type\":\"scatter\",\"textposition\":\"top center\"},{\"hoverinfo\":\"none\",\"hovertext\":\" \",\"line\":{\"color\":\"rgb(206, 236, 200)\",\"width\":1},\"x\":[-0.05768021359772707,0.5221620128874973,null],\"y\":[-0.2857092657225607,-0.22371668046237014,null],\"type\":\"scatter\",\"textposition\":\"top center\"},{\"hoverinfo\":\"none\",\"hovertext\":\" \",\"line\":{\"color\":\"rgb(136, 206, 135)\",\"width\":3},\"x\":[-0.05768021359772707,-0.4785319216379006,null],\"y\":[-0.2857092657225607,-0.09727330761290566,null],\"type\":\"scatter\",\"textposition\":\"top center\"},{\"hoverinfo\":\"none\",\"hovertext\":\" \",\"line\":{\"color\":\"rgb(231, 246, 227)\",\"width\":0},\"x\":[-0.05768021359772707,0.26041211431698535,null],\"y\":[-0.2857092657225607,0.3783038837175746,null],\"type\":\"scatter\",\"textposition\":\"top center\"},{\"hoverinfo\":\"none\",\"hovertext\":\" \",\"line\":{\"color\":\"rgb(231, 246, 227)\",\"width\":0},\"x\":[-0.05768021359772707,0.3514228485283896,null],\"y\":[-0.2857092657225607,0.6520167153614409,null],\"type\":\"scatter\",\"textposition\":\"top center\"},{\"hoverinfo\":\"none\",\"hovertext\":\" \",\"line\":{\"color\":\"rgb(206, 236, 200)\",\"width\":1},\"x\":[-0.05768021359772707,0.04788960634673765,null],\"y\":[-0.2857092657225607,0.17310151502817359,null],\"type\":\"scatter\",\"textposition\":\"top center\"},{\"hoverinfo\":\"none\",\"hovertext\":\" \",\"line\":{\"color\":\"rgb(136, 206, 135)\",\"width\":3},\"x\":[-0.05768021359772707,-0.13831907570377594,null],\"y\":[-0.2857092657225607,-0.5840419276221137,null],\"type\":\"scatter\",\"textposition\":\"top center\"},{\"hoverinfo\":\"none\",\"hovertext\":\" \",\"line\":{\"color\":\"rgb(136, 206, 135)\",\"width\":3},\"x\":[-0.05768021359772707,-0.7821113335359461,null],\"y\":[-0.2857092657225607,-0.33066913127911723,null],\"type\":\"scatter\",\"textposition\":\"top center\"},{\"hoverinfo\":\"none\",\"hovertext\":\" \",\"line\":{\"color\":\"rgb(231, 246, 227)\",\"width\":0},\"x\":[-0.05768021359772707,0.07372678093973499,null],\"y\":[-0.2857092657225607,0.8249495473283394,null],\"type\":\"scatter\",\"textposition\":\"top center\"},{\"hoverinfo\":\"none\",\"hovertext\":\" \",\"line\":{\"color\":\"rgb(206, 236, 200)\",\"width\":1},\"x\":[-0.05768021359772707,0.3258739032715395,null],\"y\":[-0.2857092657225607,-0.46008972657043984,null],\"type\":\"scatter\",\"textposition\":\"top center\"},{\"hoverinfo\":\"none\",\"hovertext\":\" \",\"line\":{\"color\":\"rgb(231, 246, 227)\",\"width\":0},\"x\":[-0.05768021359772707,0.8512794768002446,null],\"y\":[-0.2857092657225607,0.5316526886740731,null],\"type\":\"scatter\",\"textposition\":\"top center\"},{\"hoverinfo\":\"none\",\"hovertext\":\" \",\"line\":{\"color\":\"rgb(231, 246, 227)\",\"width\":0},\"x\":[-0.05768021359772707,0.6387434641683799,null],\"y\":[-0.2857092657225607,0.8502974259675539,null],\"type\":\"scatter\",\"textposition\":\"top center\"},{\"hoverinfo\":\"none\",\"hovertext\":\" \",\"line\":{\"color\":\"rgb(231, 246, 227)\",\"width\":0},\"x\":[-0.05768021359772707,-0.6357871398279092,null],\"y\":[-0.2857092657225607,-1.0,null],\"type\":\"scatter\",\"textposition\":\"top center\"},{\"hoverinfo\":\"none\",\"hovertext\":\" \",\"line\":{\"color\":\"rgb(136, 206, 135)\",\"width\":3},\"x\":[-0.05768021359772707,-0.40569121539260206,null],\"y\":[-0.2857092657225607,-0.32734802801625695,null],\"type\":\"scatter\",\"textposition\":\"top center\"},{\"hoverinfo\":\"none\",\"hovertext\":\" \",\"line\":{\"color\":\"rgb(231, 246, 227)\",\"width\":0},\"x\":[-0.05768021359772707,0.6450589027683868,null],\"y\":[-0.2857092657225607,0.39540404296582776,null],\"type\":\"scatter\",\"textposition\":\"top center\"},{\"hoverinfo\":\"none\",\"hovertext\":\" \",\"line\":{\"color\":\"rgb(206, 236, 200)\",\"width\":1},\"x\":[-0.05768021359772707,-0.11484503021519027,null],\"y\":[-0.2857092657225607,0.3952508395597706,null],\"type\":\"scatter\",\"textposition\":\"top center\"},{\"hoverinfo\":\"none\",\"hovertext\":\" \",\"line\":{\"color\":\"rgb(174, 222, 167)\",\"width\":2},\"x\":[-0.05768021359772707,0.1449387983818865,null],\"y\":[-0.2857092657225607,-0.19991215144002028,null],\"type\":\"scatter\",\"textposition\":\"top center\"},{\"hoverinfo\":\"none\",\"hovertext\":\" \",\"line\":{\"color\":\"rgb(136, 206, 135)\",\"width\":3},\"x\":[-0.05768021359772707,-0.4480642147745625,null],\"y\":[-0.2857092657225607,-0.5647369208751434,null],\"type\":\"scatter\",\"textposition\":\"top center\"},{\"hoverinfo\":\"none\",\"hovertext\":\" \",\"line\":{\"color\":\"rgb(206, 236, 200)\",\"width\":1},\"x\":[-0.05768021359772707,-0.7281161589787841,null],\"y\":[-0.2857092657225607,0.18670197297230368,null],\"type\":\"scatter\",\"textposition\":\"top center\"},{\"hoverinfo\":\"none\",\"hovertext\":\" \",\"line\":{\"color\":\"rgb(26, 132, 63)\",\"width\":6},\"x\":[0.5221620128874973,0.5221620128874973,null],\"y\":[-0.22371668046237014,-0.22371668046237014,null],\"type\":\"scatter\",\"textposition\":\"top center\"},{\"hoverinfo\":\"none\",\"hovertext\":\" \",\"line\":{\"color\":\"rgb(206, 236, 200)\",\"width\":1},\"x\":[0.5221620128874973,-0.4785319216379006,null],\"y\":[-0.22371668046237014,-0.09727330761290566,null],\"type\":\"scatter\",\"textposition\":\"top center\"},{\"hoverinfo\":\"none\",\"hovertext\":\" \",\"line\":{\"color\":\"rgb(206, 236, 200)\",\"width\":1},\"x\":[0.5221620128874973,0.26041211431698535,null],\"y\":[-0.22371668046237014,0.3783038837175746,null],\"type\":\"scatter\",\"textposition\":\"top center\"},{\"hoverinfo\":\"none\",\"hovertext\":\" \",\"line\":{\"color\":\"rgb(231, 246, 227)\",\"width\":0},\"x\":[0.5221620128874973,0.3514228485283896,null],\"y\":[-0.22371668046237014,0.6520167153614409,null],\"type\":\"scatter\",\"textposition\":\"top center\"},{\"hoverinfo\":\"none\",\"hovertext\":\" \",\"line\":{\"color\":\"rgb(231, 246, 227)\",\"width\":0},\"x\":[0.5221620128874973,0.04788960634673765,null],\"y\":[-0.22371668046237014,0.17310151502817359,null],\"type\":\"scatter\",\"textposition\":\"top center\"},{\"hoverinfo\":\"none\",\"hovertext\":\" \",\"line\":{\"color\":\"rgb(231, 246, 227)\",\"width\":0},\"x\":[0.5221620128874973,-0.13831907570377594,null],\"y\":[-0.22371668046237014,-0.5840419276221137,null],\"type\":\"scatter\",\"textposition\":\"top center\"},{\"hoverinfo\":\"none\",\"hovertext\":\" \",\"line\":{\"color\":\"rgb(231, 246, 227)\",\"width\":0},\"x\":[0.5221620128874973,-0.7821113335359461,null],\"y\":[-0.22371668046237014,-0.33066913127911723,null],\"type\":\"scatter\",\"textposition\":\"top center\"},{\"hoverinfo\":\"none\",\"hovertext\":\" \",\"line\":{\"color\":\"rgb(206, 236, 200)\",\"width\":1},\"x\":[0.5221620128874973,0.07372678093973499,null],\"y\":[-0.22371668046237014,0.8249495473283394,null],\"type\":\"scatter\",\"textposition\":\"top center\"},{\"hoverinfo\":\"none\",\"hovertext\":\" \",\"line\":{\"color\":\"rgb(206, 236, 200)\",\"width\":1},\"x\":[0.5221620128874973,0.3258739032715395,null],\"y\":[-0.22371668046237014,-0.46008972657043984,null],\"type\":\"scatter\",\"textposition\":\"top center\"},{\"hoverinfo\":\"none\",\"hovertext\":\" \",\"line\":{\"color\":\"rgb(231, 246, 227)\",\"width\":0},\"x\":[0.5221620128874973,0.8512794768002446,null],\"y\":[-0.22371668046237014,0.5316526886740731,null],\"type\":\"scatter\",\"textposition\":\"top center\"},{\"hoverinfo\":\"none\",\"hovertext\":\" \",\"line\":{\"color\":\"rgb(231, 246, 227)\",\"width\":0},\"x\":[0.5221620128874973,0.6387434641683799,null],\"y\":[-0.22371668046237014,0.8502974259675539,null],\"type\":\"scatter\",\"textposition\":\"top center\"},{\"hoverinfo\":\"none\",\"hovertext\":\" \",\"line\":{\"color\":\"rgb(231, 246, 227)\",\"width\":0},\"x\":[0.5221620128874973,-0.6357871398279092,null],\"y\":[-0.22371668046237014,-1.0,null],\"type\":\"scatter\",\"textposition\":\"top center\"},{\"hoverinfo\":\"none\",\"hovertext\":\" \",\"line\":{\"color\":\"rgb(231, 246, 227)\",\"width\":0},\"x\":[0.5221620128874973,-0.40569121539260206,null],\"y\":[-0.22371668046237014,-0.32734802801625695,null],\"type\":\"scatter\",\"textposition\":\"top center\"},{\"hoverinfo\":\"none\",\"hovertext\":\" \",\"line\":{\"color\":\"rgb(206, 236, 200)\",\"width\":1},\"x\":[0.5221620128874973,0.6450589027683868,null],\"y\":[-0.22371668046237014,0.39540404296582776,null],\"type\":\"scatter\",\"textposition\":\"top center\"},{\"hoverinfo\":\"none\",\"hovertext\":\" \",\"line\":{\"color\":\"rgb(231, 246, 227)\",\"width\":0},\"x\":[0.5221620128874973,-0.11484503021519027,null],\"y\":[-0.22371668046237014,0.3952508395597706,null],\"type\":\"scatter\",\"textposition\":\"top center\"},{\"hoverinfo\":\"none\",\"hovertext\":\" \",\"line\":{\"color\":\"rgb(206, 236, 200)\",\"width\":1},\"x\":[0.5221620128874973,0.1449387983818865,null],\"y\":[-0.22371668046237014,-0.19991215144002028,null],\"type\":\"scatter\",\"textposition\":\"top center\"},{\"hoverinfo\":\"none\",\"hovertext\":\" \",\"line\":{\"color\":\"rgb(231, 246, 227)\",\"width\":0},\"x\":[0.5221620128874973,-0.4480642147745625,null],\"y\":[-0.22371668046237014,-0.5647369208751434,null],\"type\":\"scatter\",\"textposition\":\"top center\"},{\"hoverinfo\":\"none\",\"hovertext\":\" \",\"line\":{\"color\":\"rgb(206, 236, 200)\",\"width\":1},\"x\":[0.5221620128874973,-0.7281161589787841,null],\"y\":[-0.22371668046237014,0.18670197297230368,null],\"type\":\"scatter\",\"textposition\":\"top center\"},{\"hoverinfo\":\"none\",\"hovertext\":\" \",\"line\":{\"color\":\"rgb(55, 160, 85)\",\"width\":5},\"x\":[-0.4785319216379006,-0.4785319216379006,null],\"y\":[-0.09727330761290566,-0.09727330761290566,null],\"type\":\"scatter\",\"textposition\":\"top center\"},{\"hoverinfo\":\"none\",\"hovertext\":\" \",\"line\":{\"color\":\"rgb(231, 246, 227)\",\"width\":0},\"x\":[-0.4785319216379006,0.26041211431698535,null],\"y\":[-0.09727330761290566,0.3783038837175746,null],\"type\":\"scatter\",\"textposition\":\"top center\"},{\"hoverinfo\":\"none\",\"hovertext\":\" \",\"line\":{\"color\":\"rgb(231, 246, 227)\",\"width\":0},\"x\":[-0.4785319216379006,0.3514228485283896,null],\"y\":[-0.09727330761290566,0.6520167153614409,null],\"type\":\"scatter\",\"textposition\":\"top center\"},{\"hoverinfo\":\"none\",\"hovertext\":\" \",\"line\":{\"color\":\"rgb(174, 222, 167)\",\"width\":2},\"x\":[-0.4785319216379006,0.04788960634673765,null],\"y\":[-0.09727330761290566,0.17310151502817359,null],\"type\":\"scatter\",\"textposition\":\"top center\"},{\"hoverinfo\":\"none\",\"hovertext\":\" \",\"line\":{\"color\":\"rgb(136, 206, 135)\",\"width\":3},\"x\":[-0.4785319216379006,-0.13831907570377594,null],\"y\":[-0.09727330761290566,-0.5840419276221137,null],\"type\":\"scatter\",\"textposition\":\"top center\"},{\"hoverinfo\":\"none\",\"hovertext\":\" \",\"line\":{\"color\":\"rgb(206, 236, 200)\",\"width\":1},\"x\":[-0.4785319216379006,-0.7821113335359461,null],\"y\":[-0.09727330761290566,-0.33066913127911723,null],\"type\":\"scatter\",\"textposition\":\"top center\"},{\"hoverinfo\":\"none\",\"hovertext\":\" \",\"line\":{\"color\":\"rgb(231, 246, 227)\",\"width\":0},\"x\":[-0.4785319216379006,0.07372678093973499,null],\"y\":[-0.09727330761290566,0.8249495473283394,null],\"type\":\"scatter\",\"textposition\":\"top center\"},{\"hoverinfo\":\"none\",\"hovertext\":\" \",\"line\":{\"color\":\"rgb(206, 236, 200)\",\"width\":1},\"x\":[-0.4785319216379006,0.3258739032715395,null],\"y\":[-0.09727330761290566,-0.46008972657043984,null],\"type\":\"scatter\",\"textposition\":\"top center\"},{\"hoverinfo\":\"none\",\"hovertext\":\" \",\"line\":{\"color\":\"rgb(231, 246, 227)\",\"width\":0},\"x\":[-0.4785319216379006,0.8512794768002446,null],\"y\":[-0.09727330761290566,0.5316526886740731,null],\"type\":\"scatter\",\"textposition\":\"top center\"},{\"hoverinfo\":\"none\",\"hovertext\":\" \",\"line\":{\"color\":\"rgb(231, 246, 227)\",\"width\":0},\"x\":[-0.4785319216379006,0.6387434641683799,null],\"y\":[-0.09727330761290566,0.8502974259675539,null],\"type\":\"scatter\",\"textposition\":\"top center\"},{\"hoverinfo\":\"none\",\"hovertext\":\" \",\"line\":{\"color\":\"rgb(231, 246, 227)\",\"width\":0},\"x\":[-0.4785319216379006,-0.6357871398279092,null],\"y\":[-0.09727330761290566,-1.0,null],\"type\":\"scatter\",\"textposition\":\"top center\"},{\"hoverinfo\":\"none\",\"hovertext\":\" \",\"line\":{\"color\":\"rgb(136, 206, 135)\",\"width\":3},\"x\":[-0.4785319216379006,-0.40569121539260206,null],\"y\":[-0.09727330761290566,-0.32734802801625695,null],\"type\":\"scatter\",\"textposition\":\"top center\"},{\"hoverinfo\":\"none\",\"hovertext\":\" \",\"line\":{\"color\":\"rgb(231, 246, 227)\",\"width\":0},\"x\":[-0.4785319216379006,0.6450589027683868,null],\"y\":[-0.09727330761290566,0.39540404296582776,null],\"type\":\"scatter\",\"textposition\":\"top center\"},{\"hoverinfo\":\"none\",\"hovertext\":\" \",\"line\":{\"color\":\"rgb(174, 222, 167)\",\"width\":2},\"x\":[-0.4785319216379006,-0.11484503021519027,null],\"y\":[-0.09727330761290566,0.3952508395597706,null],\"type\":\"scatter\",\"textposition\":\"top center\"},{\"hoverinfo\":\"none\",\"hovertext\":\" \",\"line\":{\"color\":\"rgb(136, 206, 135)\",\"width\":3},\"x\":[-0.4785319216379006,0.1449387983818865,null],\"y\":[-0.09727330761290566,-0.19991215144002028,null],\"type\":\"scatter\",\"textposition\":\"top center\"},{\"hoverinfo\":\"none\",\"hovertext\":\" \",\"line\":{\"color\":\"rgb(136, 206, 135)\",\"width\":3},\"x\":[-0.4785319216379006,-0.4480642147745625,null],\"y\":[-0.09727330761290566,-0.5647369208751434,null],\"type\":\"scatter\",\"textposition\":\"top center\"},{\"hoverinfo\":\"none\",\"hovertext\":\" \",\"line\":{\"color\":\"rgb(231, 246, 227)\",\"width\":0},\"x\":[-0.4785319216379006,-0.7281161589787841,null],\"y\":[-0.09727330761290566,0.18670197297230368,null],\"type\":\"scatter\",\"textposition\":\"top center\"},{\"hoverinfo\":\"none\",\"hovertext\":\" \",\"line\":{\"color\":\"rgb(55, 160, 85)\",\"width\":5},\"x\":[0.26041211431698535,0.26041211431698535,null],\"y\":[0.3783038837175746,0.3783038837175746,null],\"type\":\"scatter\",\"textposition\":\"top center\"},{\"hoverinfo\":\"none\",\"hovertext\":\" \",\"line\":{\"color\":\"rgb(206, 236, 200)\",\"width\":1},\"x\":[0.26041211431698535,0.3514228485283896,null],\"y\":[0.3783038837175746,0.6520167153614409,null],\"type\":\"scatter\",\"textposition\":\"top center\"},{\"hoverinfo\":\"none\",\"hovertext\":\" \",\"line\":{\"color\":\"rgb(174, 222, 167)\",\"width\":2},\"x\":[0.26041211431698535,0.04788960634673765,null],\"y\":[0.3783038837175746,0.17310151502817359,null],\"type\":\"scatter\",\"textposition\":\"top center\"},{\"hoverinfo\":\"none\",\"hovertext\":\" \",\"line\":{\"color\":\"rgb(231, 246, 227)\",\"width\":0},\"x\":[0.26041211431698535,-0.13831907570377594,null],\"y\":[0.3783038837175746,-0.5840419276221137,null],\"type\":\"scatter\",\"textposition\":\"top center\"},{\"hoverinfo\":\"none\",\"hovertext\":\" \",\"line\":{\"color\":\"rgb(231, 246, 227)\",\"width\":0},\"x\":[0.26041211431698535,-0.7821113335359461,null],\"y\":[0.3783038837175746,-0.33066913127911723,null],\"type\":\"scatter\",\"textposition\":\"top center\"},{\"hoverinfo\":\"none\",\"hovertext\":\" \",\"line\":{\"color\":\"rgb(206, 236, 200)\",\"width\":1},\"x\":[0.26041211431698535,0.07372678093973499,null],\"y\":[0.3783038837175746,0.8249495473283394,null],\"type\":\"scatter\",\"textposition\":\"top center\"},{\"hoverinfo\":\"none\",\"hovertext\":\" \",\"line\":{\"color\":\"rgb(231, 246, 227)\",\"width\":0},\"x\":[0.26041211431698535,0.3258739032715395,null],\"y\":[0.3783038837175746,-0.46008972657043984,null],\"type\":\"scatter\",\"textposition\":\"top center\"},{\"hoverinfo\":\"none\",\"hovertext\":\" \",\"line\":{\"color\":\"rgb(206, 236, 200)\",\"width\":1},\"x\":[0.26041211431698535,0.8512794768002446,null],\"y\":[0.3783038837175746,0.5316526886740731,null],\"type\":\"scatter\",\"textposition\":\"top center\"},{\"hoverinfo\":\"none\",\"hovertext\":\" \",\"line\":{\"color\":\"rgb(206, 236, 200)\",\"width\":1},\"x\":[0.26041211431698535,0.6387434641683799,null],\"y\":[0.3783038837175746,0.8502974259675539,null],\"type\":\"scatter\",\"textposition\":\"top center\"},{\"hoverinfo\":\"none\",\"hovertext\":\" \",\"line\":{\"color\":\"rgb(231, 246, 227)\",\"width\":0},\"x\":[0.26041211431698535,-0.6357871398279092,null],\"y\":[0.3783038837175746,-1.0,null],\"type\":\"scatter\",\"textposition\":\"top center\"},{\"hoverinfo\":\"none\",\"hovertext\":\" \",\"line\":{\"color\":\"rgb(231, 246, 227)\",\"width\":0},\"x\":[0.26041211431698535,-0.40569121539260206,null],\"y\":[0.3783038837175746,-0.32734802801625695,null],\"type\":\"scatter\",\"textposition\":\"top center\"},{\"hoverinfo\":\"none\",\"hovertext\":\" \",\"line\":{\"color\":\"rgb(206, 236, 200)\",\"width\":1},\"x\":[0.26041211431698535,0.6450589027683868,null],\"y\":[0.3783038837175746,0.39540404296582776,null],\"type\":\"scatter\",\"textposition\":\"top center\"},{\"hoverinfo\":\"none\",\"hovertext\":\" \",\"line\":{\"color\":\"rgb(174, 222, 167)\",\"width\":2},\"x\":[0.26041211431698535,-0.11484503021519027,null],\"y\":[0.3783038837175746,0.3952508395597706,null],\"type\":\"scatter\",\"textposition\":\"top center\"},{\"hoverinfo\":\"none\",\"hovertext\":\" \",\"line\":{\"color\":\"rgb(206, 236, 200)\",\"width\":1},\"x\":[0.26041211431698535,0.1449387983818865,null],\"y\":[0.3783038837175746,-0.19991215144002028,null],\"type\":\"scatter\",\"textposition\":\"top center\"},{\"hoverinfo\":\"none\",\"hovertext\":\" \",\"line\":{\"color\":\"rgb(231, 246, 227)\",\"width\":0},\"x\":[0.26041211431698535,-0.4480642147745625,null],\"y\":[0.3783038837175746,-0.5647369208751434,null],\"type\":\"scatter\",\"textposition\":\"top center\"},{\"hoverinfo\":\"none\",\"hovertext\":\" \",\"line\":{\"color\":\"rgb(231, 246, 227)\",\"width\":0},\"x\":[0.26041211431698535,-0.7281161589787841,null],\"y\":[0.3783038837175746,0.18670197297230368,null],\"type\":\"scatter\",\"textposition\":\"top center\"},{\"hoverinfo\":\"none\",\"hovertext\":\" \",\"line\":{\"color\":\"rgb(26, 132, 63)\",\"width\":6},\"x\":[0.3514228485283896,0.3514228485283896,null],\"y\":[0.6520167153614409,0.6520167153614409,null],\"type\":\"scatter\",\"textposition\":\"top center\"},{\"hoverinfo\":\"none\",\"hovertext\":\" \",\"line\":{\"color\":\"rgb(231, 246, 227)\",\"width\":0},\"x\":[0.3514228485283896,0.04788960634673765,null],\"y\":[0.6520167153614409,0.17310151502817359,null],\"type\":\"scatter\",\"textposition\":\"top center\"},{\"hoverinfo\":\"none\",\"hovertext\":\" \",\"line\":{\"color\":\"rgb(231, 246, 227)\",\"width\":0},\"x\":[0.3514228485283896,-0.13831907570377594,null],\"y\":[0.6520167153614409,-0.5840419276221137,null],\"type\":\"scatter\",\"textposition\":\"top center\"},{\"hoverinfo\":\"none\",\"hovertext\":\" \",\"line\":{\"color\":\"rgb(231, 246, 227)\",\"width\":0},\"x\":[0.3514228485283896,-0.7821113335359461,null],\"y\":[0.6520167153614409,-0.33066913127911723,null],\"type\":\"scatter\",\"textposition\":\"top center\"},{\"hoverinfo\":\"none\",\"hovertext\":\" \",\"line\":{\"color\":\"rgb(206, 236, 200)\",\"width\":1},\"x\":[0.3514228485283896,0.07372678093973499,null],\"y\":[0.6520167153614409,0.8249495473283394,null],\"type\":\"scatter\",\"textposition\":\"top center\"},{\"hoverinfo\":\"none\",\"hovertext\":\" \",\"line\":{\"color\":\"rgb(231, 246, 227)\",\"width\":0},\"x\":[0.3514228485283896,0.3258739032715395,null],\"y\":[0.6520167153614409,-0.46008972657043984,null],\"type\":\"scatter\",\"textposition\":\"top center\"},{\"hoverinfo\":\"none\",\"hovertext\":\" \",\"line\":{\"color\":\"rgb(136, 206, 135)\",\"width\":3},\"x\":[0.3514228485283896,0.8512794768002446,null],\"y\":[0.6520167153614409,0.5316526886740731,null],\"type\":\"scatter\",\"textposition\":\"top center\"},{\"hoverinfo\":\"none\",\"hovertext\":\" \",\"line\":{\"color\":\"rgb(206, 236, 200)\",\"width\":1},\"x\":[0.3514228485283896,0.6387434641683799,null],\"y\":[0.6520167153614409,0.8502974259675539,null],\"type\":\"scatter\",\"textposition\":\"top center\"},{\"hoverinfo\":\"none\",\"hovertext\":\" \",\"line\":{\"color\":\"rgb(231, 246, 227)\",\"width\":0},\"x\":[0.3514228485283896,-0.6357871398279092,null],\"y\":[0.6520167153614409,-1.0,null],\"type\":\"scatter\",\"textposition\":\"top center\"},{\"hoverinfo\":\"none\",\"hovertext\":\" \",\"line\":{\"color\":\"rgb(231, 246, 227)\",\"width\":0},\"x\":[0.3514228485283896,-0.40569121539260206,null],\"y\":[0.6520167153614409,-0.32734802801625695,null],\"type\":\"scatter\",\"textposition\":\"top center\"},{\"hoverinfo\":\"none\",\"hovertext\":\" \",\"line\":{\"color\":\"rgb(174, 222, 167)\",\"width\":2},\"x\":[0.3514228485283896,0.6450589027683868,null],\"y\":[0.6520167153614409,0.39540404296582776,null],\"type\":\"scatter\",\"textposition\":\"top center\"},{\"hoverinfo\":\"none\",\"hovertext\":\" \",\"line\":{\"color\":\"rgb(231, 246, 227)\",\"width\":0},\"x\":[0.3514228485283896,-0.11484503021519027,null],\"y\":[0.6520167153614409,0.3952508395597706,null],\"type\":\"scatter\",\"textposition\":\"top center\"},{\"hoverinfo\":\"none\",\"hovertext\":\" \",\"line\":{\"color\":\"rgb(231, 246, 227)\",\"width\":0},\"x\":[0.3514228485283896,0.1449387983818865,null],\"y\":[0.6520167153614409,-0.19991215144002028,null],\"type\":\"scatter\",\"textposition\":\"top center\"},{\"hoverinfo\":\"none\",\"hovertext\":\" \",\"line\":{\"color\":\"rgb(231, 246, 227)\",\"width\":0},\"x\":[0.3514228485283896,-0.4480642147745625,null],\"y\":[0.6520167153614409,-0.5647369208751434,null],\"type\":\"scatter\",\"textposition\":\"top center\"},{\"hoverinfo\":\"none\",\"hovertext\":\" \",\"line\":{\"color\":\"rgb(231, 246, 227)\",\"width\":0},\"x\":[0.3514228485283896,-0.7281161589787841,null],\"y\":[0.6520167153614409,0.18670197297230368,null],\"type\":\"scatter\",\"textposition\":\"top center\"},{\"hoverinfo\":\"none\",\"hovertext\":\" \",\"line\":{\"color\":\"rgb(55, 160, 85)\",\"width\":5},\"x\":[0.04788960634673765,0.04788960634673765,null],\"y\":[0.17310151502817359,0.17310151502817359,null],\"type\":\"scatter\",\"textposition\":\"top center\"},{\"hoverinfo\":\"none\",\"hovertext\":\" \",\"line\":{\"color\":\"rgb(206, 236, 200)\",\"width\":1},\"x\":[0.04788960634673765,-0.13831907570377594,null],\"y\":[0.17310151502817359,-0.5840419276221137,null],\"type\":\"scatter\",\"textposition\":\"top center\"},{\"hoverinfo\":\"none\",\"hovertext\":\" \",\"line\":{\"color\":\"rgb(231, 246, 227)\",\"width\":0},\"x\":[0.04788960634673765,-0.7821113335359461,null],\"y\":[0.17310151502817359,-0.33066913127911723,null],\"type\":\"scatter\",\"textposition\":\"top center\"},{\"hoverinfo\":\"none\",\"hovertext\":\" \",\"line\":{\"color\":\"rgb(206, 236, 200)\",\"width\":1},\"x\":[0.04788960634673765,0.07372678093973499,null],\"y\":[0.17310151502817359,0.8249495473283394,null],\"type\":\"scatter\",\"textposition\":\"top center\"},{\"hoverinfo\":\"none\",\"hovertext\":\" \",\"line\":{\"color\":\"rgb(231, 246, 227)\",\"width\":0},\"x\":[0.04788960634673765,0.3258739032715395,null],\"y\":[0.17310151502817359,-0.46008972657043984,null],\"type\":\"scatter\",\"textposition\":\"top center\"},{\"hoverinfo\":\"none\",\"hovertext\":\" \",\"line\":{\"color\":\"rgb(231, 246, 227)\",\"width\":0},\"x\":[0.04788960634673765,0.8512794768002446,null],\"y\":[0.17310151502817359,0.5316526886740731,null],\"type\":\"scatter\",\"textposition\":\"top center\"},{\"hoverinfo\":\"none\",\"hovertext\":\" \",\"line\":{\"color\":\"rgb(206, 236, 200)\",\"width\":1},\"x\":[0.04788960634673765,0.6387434641683799,null],\"y\":[0.17310151502817359,0.8502974259675539,null],\"type\":\"scatter\",\"textposition\":\"top center\"},{\"hoverinfo\":\"none\",\"hovertext\":\" \",\"line\":{\"color\":\"rgb(231, 246, 227)\",\"width\":0},\"x\":[0.04788960634673765,-0.6357871398279092,null],\"y\":[0.17310151502817359,-1.0,null],\"type\":\"scatter\",\"textposition\":\"top center\"},{\"hoverinfo\":\"none\",\"hovertext\":\" \",\"line\":{\"color\":\"rgb(174, 222, 167)\",\"width\":2},\"x\":[0.04788960634673765,-0.40569121539260206,null],\"y\":[0.17310151502817359,-0.32734802801625695,null],\"type\":\"scatter\",\"textposition\":\"top center\"},{\"hoverinfo\":\"none\",\"hovertext\":\" \",\"line\":{\"color\":\"rgb(206, 236, 200)\",\"width\":1},\"x\":[0.04788960634673765,0.6450589027683868,null],\"y\":[0.17310151502817359,0.39540404296582776,null],\"type\":\"scatter\",\"textposition\":\"top center\"},{\"hoverinfo\":\"none\",\"hovertext\":\" \",\"line\":{\"color\":\"rgb(136, 206, 135)\",\"width\":3},\"x\":[0.04788960634673765,-0.11484503021519027,null],\"y\":[0.17310151502817359,0.3952508395597706,null],\"type\":\"scatter\",\"textposition\":\"top center\"},{\"hoverinfo\":\"none\",\"hovertext\":\" \",\"line\":{\"color\":\"rgb(174, 222, 167)\",\"width\":2},\"x\":[0.04788960634673765,0.1449387983818865,null],\"y\":[0.17310151502817359,-0.19991215144002028,null],\"type\":\"scatter\",\"textposition\":\"top center\"},{\"hoverinfo\":\"none\",\"hovertext\":\" \",\"line\":{\"color\":\"rgb(206, 236, 200)\",\"width\":1},\"x\":[0.04788960634673765,-0.4480642147745625,null],\"y\":[0.17310151502817359,-0.5647369208751434,null],\"type\":\"scatter\",\"textposition\":\"top center\"},{\"hoverinfo\":\"none\",\"hovertext\":\" \",\"line\":{\"color\":\"rgb(231, 246, 227)\",\"width\":0},\"x\":[0.04788960634673765,-0.7281161589787841,null],\"y\":[0.17310151502817359,0.18670197297230368,null],\"type\":\"scatter\",\"textposition\":\"top center\"},{\"hoverinfo\":\"none\",\"hovertext\":\" \",\"line\":{\"color\":\"rgb(93, 185, 107)\",\"width\":4},\"x\":[-0.13831907570377594,-0.13831907570377594,null],\"y\":[-0.5840419276221137,-0.5840419276221137,null],\"type\":\"scatter\",\"textposition\":\"top center\"},{\"hoverinfo\":\"none\",\"hovertext\":\" \",\"line\":{\"color\":\"rgb(174, 222, 167)\",\"width\":2},\"x\":[-0.13831907570377594,-0.7821113335359461,null],\"y\":[-0.5840419276221137,-0.33066913127911723,null],\"type\":\"scatter\",\"textposition\":\"top center\"},{\"hoverinfo\":\"none\",\"hovertext\":\" \",\"line\":{\"color\":\"rgb(231, 246, 227)\",\"width\":0},\"x\":[-0.13831907570377594,0.07372678093973499,null],\"y\":[-0.5840419276221137,0.8249495473283394,null],\"type\":\"scatter\",\"textposition\":\"top center\"},{\"hoverinfo\":\"none\",\"hovertext\":\" \",\"line\":{\"color\":\"rgb(206, 236, 200)\",\"width\":1},\"x\":[-0.13831907570377594,0.3258739032715395,null],\"y\":[-0.5840419276221137,-0.46008972657043984,null],\"type\":\"scatter\",\"textposition\":\"top center\"},{\"hoverinfo\":\"none\",\"hovertext\":\" \",\"line\":{\"color\":\"rgb(231, 246, 227)\",\"width\":0},\"x\":[-0.13831907570377594,0.8512794768002446,null],\"y\":[-0.5840419276221137,0.5316526886740731,null],\"type\":\"scatter\",\"textposition\":\"top center\"},{\"hoverinfo\":\"none\",\"hovertext\":\" \",\"line\":{\"color\":\"rgb(231, 246, 227)\",\"width\":0},\"x\":[-0.13831907570377594,0.6387434641683799,null],\"y\":[-0.5840419276221137,0.8502974259675539,null],\"type\":\"scatter\",\"textposition\":\"top center\"},{\"hoverinfo\":\"none\",\"hovertext\":\" \",\"line\":{\"color\":\"rgb(231, 246, 227)\",\"width\":0},\"x\":[-0.13831907570377594,-0.6357871398279092,null],\"y\":[-0.5840419276221137,-1.0,null],\"type\":\"scatter\",\"textposition\":\"top center\"},{\"hoverinfo\":\"none\",\"hovertext\":\" \",\"line\":{\"color\":\"rgb(93, 185, 107)\",\"width\":4},\"x\":[-0.13831907570377594,-0.40569121539260206,null],\"y\":[-0.5840419276221137,-0.32734802801625695,null],\"type\":\"scatter\",\"textposition\":\"top center\"},{\"hoverinfo\":\"none\",\"hovertext\":\" \",\"line\":{\"color\":\"rgb(231, 246, 227)\",\"width\":0},\"x\":[-0.13831907570377594,0.6450589027683868,null],\"y\":[-0.5840419276221137,0.39540404296582776,null],\"type\":\"scatter\",\"textposition\":\"top center\"},{\"hoverinfo\":\"none\",\"hovertext\":\" \",\"line\":{\"color\":\"rgb(206, 236, 200)\",\"width\":1},\"x\":[-0.13831907570377594,-0.11484503021519027,null],\"y\":[-0.5840419276221137,0.3952508395597706,null],\"type\":\"scatter\",\"textposition\":\"top center\"},{\"hoverinfo\":\"none\",\"hovertext\":\" \",\"line\":{\"color\":\"rgb(174, 222, 167)\",\"width\":2},\"x\":[-0.13831907570377594,0.1449387983818865,null],\"y\":[-0.5840419276221137,-0.19991215144002028,null],\"type\":\"scatter\",\"textposition\":\"top center\"},{\"hoverinfo\":\"none\",\"hovertext\":\" \",\"line\":{\"color\":\"rgb(174, 222, 167)\",\"width\":2},\"x\":[-0.13831907570377594,-0.4480642147745625,null],\"y\":[-0.5840419276221137,-0.5647369208751434,null],\"type\":\"scatter\",\"textposition\":\"top center\"},{\"hoverinfo\":\"none\",\"hovertext\":\" \",\"line\":{\"color\":\"rgb(206, 236, 200)\",\"width\":1},\"x\":[-0.13831907570377594,-0.7281161589787841,null],\"y\":[-0.5840419276221137,0.18670197297230368,null],\"type\":\"scatter\",\"textposition\":\"top center\"},{\"hoverinfo\":\"none\",\"hovertext\":\" \",\"line\":{\"color\":\"rgb(55, 160, 85)\",\"width\":5},\"x\":[-0.7821113335359461,-0.7821113335359461,null],\"y\":[-0.33066913127911723,-0.33066913127911723,null],\"type\":\"scatter\",\"textposition\":\"top center\"},{\"hoverinfo\":\"none\",\"hovertext\":\" \",\"line\":{\"color\":\"rgb(231, 246, 227)\",\"width\":0},\"x\":[-0.7821113335359461,0.07372678093973499,null],\"y\":[-0.33066913127911723,0.8249495473283394,null],\"type\":\"scatter\",\"textposition\":\"top center\"},{\"hoverinfo\":\"none\",\"hovertext\":\" \",\"line\":{\"color\":\"rgb(231, 246, 227)\",\"width\":0},\"x\":[-0.7821113335359461,0.3258739032715395,null],\"y\":[-0.33066913127911723,-0.46008972657043984,null],\"type\":\"scatter\",\"textposition\":\"top center\"},{\"hoverinfo\":\"none\",\"hovertext\":\" \",\"line\":{\"color\":\"rgb(231, 246, 227)\",\"width\":0},\"x\":[-0.7821113335359461,0.8512794768002446,null],\"y\":[-0.33066913127911723,0.5316526886740731,null],\"type\":\"scatter\",\"textposition\":\"top center\"},{\"hoverinfo\":\"none\",\"hovertext\":\" \",\"line\":{\"color\":\"rgb(231, 246, 227)\",\"width\":0},\"x\":[-0.7821113335359461,0.6387434641683799,null],\"y\":[-0.33066913127911723,0.8502974259675539,null],\"type\":\"scatter\",\"textposition\":\"top center\"},{\"hoverinfo\":\"none\",\"hovertext\":\" \",\"line\":{\"color\":\"rgb(231, 246, 227)\",\"width\":0},\"x\":[-0.7821113335359461,-0.6357871398279092,null],\"y\":[-0.33066913127911723,-1.0,null],\"type\":\"scatter\",\"textposition\":\"top center\"},{\"hoverinfo\":\"none\",\"hovertext\":\" \",\"line\":{\"color\":\"rgb(136, 206, 135)\",\"width\":3},\"x\":[-0.7821113335359461,-0.40569121539260206,null],\"y\":[-0.33066913127911723,-0.32734802801625695,null],\"type\":\"scatter\",\"textposition\":\"top center\"},{\"hoverinfo\":\"none\",\"hovertext\":\" \",\"line\":{\"color\":\"rgb(231, 246, 227)\",\"width\":0},\"x\":[-0.7821113335359461,0.6450589027683868,null],\"y\":[-0.33066913127911723,0.39540404296582776,null],\"type\":\"scatter\",\"textposition\":\"top center\"},{\"hoverinfo\":\"none\",\"hovertext\":\" \",\"line\":{\"color\":\"rgb(231, 246, 227)\",\"width\":0},\"x\":[-0.7821113335359461,-0.11484503021519027,null],\"y\":[-0.33066913127911723,0.3952508395597706,null],\"type\":\"scatter\",\"textposition\":\"top center\"},{\"hoverinfo\":\"none\",\"hovertext\":\" \",\"line\":{\"color\":\"rgb(231, 246, 227)\",\"width\":0},\"x\":[-0.7821113335359461,0.1449387983818865,null],\"y\":[-0.33066913127911723,-0.19991215144002028,null],\"type\":\"scatter\",\"textposition\":\"top center\"},{\"hoverinfo\":\"none\",\"hovertext\":\" \",\"line\":{\"color\":\"rgb(206, 236, 200)\",\"width\":1},\"x\":[-0.7821113335359461,-0.4480642147745625,null],\"y\":[-0.33066913127911723,-0.5647369208751434,null],\"type\":\"scatter\",\"textposition\":\"top center\"},{\"hoverinfo\":\"none\",\"hovertext\":\" \",\"line\":{\"color\":\"rgb(231, 246, 227)\",\"width\":0},\"x\":[-0.7821113335359461,-0.7281161589787841,null],\"y\":[-0.33066913127911723,0.18670197297230368,null],\"type\":\"scatter\",\"textposition\":\"top center\"},{\"hoverinfo\":\"none\",\"hovertext\":\" \",\"line\":{\"color\":\"rgb(93, 185, 107)\",\"width\":4},\"x\":[0.07372678093973499,0.07372678093973499,null],\"y\":[0.8249495473283394,0.8249495473283394,null],\"type\":\"scatter\",\"textposition\":\"top center\"},{\"hoverinfo\":\"none\",\"hovertext\":\" \",\"line\":{\"color\":\"rgb(231, 246, 227)\",\"width\":0},\"x\":[0.07372678093973499,0.3258739032715395,null],\"y\":[0.8249495473283394,-0.46008972657043984,null],\"type\":\"scatter\",\"textposition\":\"top center\"},{\"hoverinfo\":\"none\",\"hovertext\":\" \",\"line\":{\"color\":\"rgb(174, 222, 167)\",\"width\":2},\"x\":[0.07372678093973499,0.8512794768002446,null],\"y\":[0.8249495473283394,0.5316526886740731,null],\"type\":\"scatter\",\"textposition\":\"top center\"},{\"hoverinfo\":\"none\",\"hovertext\":\" \",\"line\":{\"color\":\"rgb(174, 222, 167)\",\"width\":2},\"x\":[0.07372678093973499,0.6387434641683799,null],\"y\":[0.8249495473283394,0.8502974259675539,null],\"type\":\"scatter\",\"textposition\":\"top center\"},{\"hoverinfo\":\"none\",\"hovertext\":\" \",\"line\":{\"color\":\"rgb(231, 246, 227)\",\"width\":0},\"x\":[0.07372678093973499,-0.6357871398279092,null],\"y\":[0.8249495473283394,-1.0,null],\"type\":\"scatter\",\"textposition\":\"top center\"},{\"hoverinfo\":\"none\",\"hovertext\":\" \",\"line\":{\"color\":\"rgb(231, 246, 227)\",\"width\":0},\"x\":[0.07372678093973499,-0.40569121539260206,null],\"y\":[0.8249495473283394,-0.32734802801625695,null],\"type\":\"scatter\",\"textposition\":\"top center\"},{\"hoverinfo\":\"none\",\"hovertext\":\" \",\"line\":{\"color\":\"rgb(174, 222, 167)\",\"width\":2},\"x\":[0.07372678093973499,0.6450589027683868,null],\"y\":[0.8249495473283394,0.39540404296582776,null],\"type\":\"scatter\",\"textposition\":\"top center\"},{\"hoverinfo\":\"none\",\"hovertext\":\" \",\"line\":{\"color\":\"rgb(174, 222, 167)\",\"width\":2},\"x\":[0.07372678093973499,-0.11484503021519027,null],\"y\":[0.8249495473283394,0.3952508395597706,null],\"type\":\"scatter\",\"textposition\":\"top center\"},{\"hoverinfo\":\"none\",\"hovertext\":\" \",\"line\":{\"color\":\"rgb(231, 246, 227)\",\"width\":0},\"x\":[0.07372678093973499,0.1449387983818865,null],\"y\":[0.8249495473283394,-0.19991215144002028,null],\"type\":\"scatter\",\"textposition\":\"top center\"},{\"hoverinfo\":\"none\",\"hovertext\":\" \",\"line\":{\"color\":\"rgb(231, 246, 227)\",\"width\":0},\"x\":[0.07372678093973499,-0.4480642147745625,null],\"y\":[0.8249495473283394,-0.5647369208751434,null],\"type\":\"scatter\",\"textposition\":\"top center\"},{\"hoverinfo\":\"none\",\"hovertext\":\" \",\"line\":{\"color\":\"rgb(231, 246, 227)\",\"width\":0},\"x\":[0.07372678093973499,-0.7281161589787841,null],\"y\":[0.8249495473283394,0.18670197297230368,null],\"type\":\"scatter\",\"textposition\":\"top center\"},{\"hoverinfo\":\"none\",\"hovertext\":\" \",\"line\":{\"color\":\"rgb(93, 185, 107)\",\"width\":4},\"x\":[0.3258739032715395,0.3258739032715395,null],\"y\":[-0.46008972657043984,-0.46008972657043984,null],\"type\":\"scatter\",\"textposition\":\"top center\"},{\"hoverinfo\":\"none\",\"hovertext\":\" \",\"line\":{\"color\":\"rgb(231, 246, 227)\",\"width\":0},\"x\":[0.3258739032715395,0.8512794768002446,null],\"y\":[-0.46008972657043984,0.5316526886740731,null],\"type\":\"scatter\",\"textposition\":\"top center\"},{\"hoverinfo\":\"none\",\"hovertext\":\" \",\"line\":{\"color\":\"rgb(231, 246, 227)\",\"width\":0},\"x\":[0.3258739032715395,0.6387434641683799,null],\"y\":[-0.46008972657043984,0.8502974259675539,null],\"type\":\"scatter\",\"textposition\":\"top center\"},{\"hoverinfo\":\"none\",\"hovertext\":\" \",\"line\":{\"color\":\"rgb(231, 246, 227)\",\"width\":0},\"x\":[0.3258739032715395,-0.6357871398279092,null],\"y\":[-0.46008972657043984,-1.0,null],\"type\":\"scatter\",\"textposition\":\"top center\"},{\"hoverinfo\":\"none\",\"hovertext\":\" \",\"line\":{\"color\":\"rgb(206, 236, 200)\",\"width\":1},\"x\":[0.3258739032715395,-0.40569121539260206,null],\"y\":[-0.46008972657043984,-0.32734802801625695,null],\"type\":\"scatter\",\"textposition\":\"top center\"},{\"hoverinfo\":\"none\",\"hovertext\":\" \",\"line\":{\"color\":\"rgb(231, 246, 227)\",\"width\":0},\"x\":[0.3258739032715395,0.6450589027683868,null],\"y\":[-0.46008972657043984,0.39540404296582776,null],\"type\":\"scatter\",\"textposition\":\"top center\"},{\"hoverinfo\":\"none\",\"hovertext\":\" \",\"line\":{\"color\":\"rgb(231, 246, 227)\",\"width\":0},\"x\":[0.3258739032715395,-0.11484503021519027,null],\"y\":[-0.46008972657043984,0.3952508395597706,null],\"type\":\"scatter\",\"textposition\":\"top center\"},{\"hoverinfo\":\"none\",\"hovertext\":\" \",\"line\":{\"color\":\"rgb(206, 236, 200)\",\"width\":1},\"x\":[0.3258739032715395,0.1449387983818865,null],\"y\":[-0.46008972657043984,-0.19991215144002028,null],\"type\":\"scatter\",\"textposition\":\"top center\"},{\"hoverinfo\":\"none\",\"hovertext\":\" \",\"line\":{\"color\":\"rgb(231, 246, 227)\",\"width\":0},\"x\":[0.3258739032715395,-0.4480642147745625,null],\"y\":[-0.46008972657043984,-0.5647369208751434,null],\"type\":\"scatter\",\"textposition\":\"top center\"},{\"hoverinfo\":\"none\",\"hovertext\":\" \",\"line\":{\"color\":\"rgb(206, 236, 200)\",\"width\":1},\"x\":[0.3258739032715395,-0.7281161589787841,null],\"y\":[-0.46008972657043984,0.18670197297230368,null],\"type\":\"scatter\",\"textposition\":\"top center\"},{\"hoverinfo\":\"none\",\"hovertext\":\" \",\"line\":{\"color\":\"rgb(55, 160, 85)\",\"width\":5},\"x\":[0.8512794768002446,0.8512794768002446,null],\"y\":[0.5316526886740731,0.5316526886740731,null],\"type\":\"scatter\",\"textposition\":\"top center\"},{\"hoverinfo\":\"none\",\"hovertext\":\" \",\"line\":{\"color\":\"rgb(136, 206, 135)\",\"width\":3},\"x\":[0.8512794768002446,0.6387434641683799,null],\"y\":[0.5316526886740731,0.8502974259675539,null],\"type\":\"scatter\",\"textposition\":\"top center\"},{\"hoverinfo\":\"none\",\"hovertext\":\" \",\"line\":{\"color\":\"rgb(231, 246, 227)\",\"width\":0},\"x\":[0.8512794768002446,-0.40569121539260206,null],\"y\":[0.5316526886740731,-0.32734802801625695,null],\"type\":\"scatter\",\"textposition\":\"top center\"},{\"hoverinfo\":\"none\",\"hovertext\":\" \",\"line\":{\"color\":\"rgb(174, 222, 167)\",\"width\":2},\"x\":[0.8512794768002446,0.6450589027683868,null],\"y\":[0.5316526886740731,0.39540404296582776,null],\"type\":\"scatter\",\"textposition\":\"top center\"},{\"hoverinfo\":\"none\",\"hovertext\":\" \",\"line\":{\"color\":\"rgb(206, 236, 200)\",\"width\":1},\"x\":[0.8512794768002446,-0.11484503021519027,null],\"y\":[0.5316526886740731,0.3952508395597706,null],\"type\":\"scatter\",\"textposition\":\"top center\"},{\"hoverinfo\":\"none\",\"hovertext\":\" \",\"line\":{\"color\":\"rgb(231, 246, 227)\",\"width\":0},\"x\":[0.8512794768002446,0.1449387983818865,null],\"y\":[0.5316526886740731,-0.19991215144002028,null],\"type\":\"scatter\",\"textposition\":\"top center\"},{\"hoverinfo\":\"none\",\"hovertext\":\" \",\"line\":{\"color\":\"rgb(231, 246, 227)\",\"width\":0},\"x\":[0.8512794768002446,-0.4480642147745625,null],\"y\":[0.5316526886740731,-0.5647369208751434,null],\"type\":\"scatter\",\"textposition\":\"top center\"},{\"hoverinfo\":\"none\",\"hovertext\":\" \",\"line\":{\"color\":\"rgb(231, 246, 227)\",\"width\":0},\"x\":[0.8512794768002446,-0.7281161589787841,null],\"y\":[0.5316526886740731,0.18670197297230368,null],\"type\":\"scatter\",\"textposition\":\"top center\"},{\"hoverinfo\":\"none\",\"hovertext\":\" \",\"line\":{\"color\":\"rgb(93, 185, 107)\",\"width\":4},\"x\":[0.6387434641683799,0.6387434641683799,null],\"y\":[0.8502974259675539,0.8502974259675539,null],\"type\":\"scatter\",\"textposition\":\"top center\"},{\"hoverinfo\":\"none\",\"hovertext\":\" \",\"line\":{\"color\":\"rgb(231, 246, 227)\",\"width\":0},\"x\":[0.6387434641683799,-0.40569121539260206,null],\"y\":[0.8502974259675539,-0.32734802801625695,null],\"type\":\"scatter\",\"textposition\":\"top center\"},{\"hoverinfo\":\"none\",\"hovertext\":\" \",\"line\":{\"color\":\"rgb(174, 222, 167)\",\"width\":2},\"x\":[0.6387434641683799,0.6450589027683868,null],\"y\":[0.8502974259675539,0.39540404296582776,null],\"type\":\"scatter\",\"textposition\":\"top center\"},{\"hoverinfo\":\"none\",\"hovertext\":\" \",\"line\":{\"color\":\"rgb(206, 236, 200)\",\"width\":1},\"x\":[0.6387434641683799,-0.11484503021519027,null],\"y\":[0.8502974259675539,0.3952508395597706,null],\"type\":\"scatter\",\"textposition\":\"top center\"},{\"hoverinfo\":\"none\",\"hovertext\":\" \",\"line\":{\"color\":\"rgb(231, 246, 227)\",\"width\":0},\"x\":[0.6387434641683799,0.1449387983818865,null],\"y\":[0.8502974259675539,-0.19991215144002028,null],\"type\":\"scatter\",\"textposition\":\"top center\"},{\"hoverinfo\":\"none\",\"hovertext\":\" \",\"line\":{\"color\":\"rgb(231, 246, 227)\",\"width\":0},\"x\":[0.6387434641683799,-0.7281161589787841,null],\"y\":[0.8502974259675539,0.18670197297230368,null],\"type\":\"scatter\",\"textposition\":\"top center\"},{\"hoverinfo\":\"none\",\"hovertext\":\" \",\"line\":{\"color\":\"rgb(136, 206, 135)\",\"width\":3},\"x\":[-0.6357871398279092,-0.6357871398279092,null],\"y\":[-1.0,-1.0,null],\"type\":\"scatter\",\"textposition\":\"top center\"},{\"hoverinfo\":\"none\",\"hovertext\":\" \",\"line\":{\"color\":\"rgb(206, 236, 200)\",\"width\":1},\"x\":[-0.6357871398279092,-0.40569121539260206,null],\"y\":[-1.0,-0.32734802801625695,null],\"type\":\"scatter\",\"textposition\":\"top center\"},{\"hoverinfo\":\"none\",\"hovertext\":\" \",\"line\":{\"color\":\"rgb(231, 246, 227)\",\"width\":0},\"x\":[-0.6357871398279092,0.6450589027683868,null],\"y\":[-1.0,0.39540404296582776,null],\"type\":\"scatter\",\"textposition\":\"top center\"},{\"hoverinfo\":\"none\",\"hovertext\":\" \",\"line\":{\"color\":\"rgb(231, 246, 227)\",\"width\":0},\"x\":[-0.6357871398279092,-0.11484503021519027,null],\"y\":[-1.0,0.3952508395597706,null],\"type\":\"scatter\",\"textposition\":\"top center\"},{\"hoverinfo\":\"none\",\"hovertext\":\" \",\"line\":{\"color\":\"rgb(231, 246, 227)\",\"width\":0},\"x\":[-0.6357871398279092,0.1449387983818865,null],\"y\":[-1.0,-0.19991215144002028,null],\"type\":\"scatter\",\"textposition\":\"top center\"},{\"hoverinfo\":\"none\",\"hovertext\":\" \",\"line\":{\"color\":\"rgb(231, 246, 227)\",\"width\":0},\"x\":[-0.6357871398279092,-0.4480642147745625,null],\"y\":[-1.0,-0.5647369208751434,null],\"type\":\"scatter\",\"textposition\":\"top center\"},{\"hoverinfo\":\"none\",\"hovertext\":\" \",\"line\":{\"color\":\"rgb(231, 246, 227)\",\"width\":0},\"x\":[-0.6357871398279092,-0.7281161589787841,null],\"y\":[-1.0,0.18670197297230368,null],\"type\":\"scatter\",\"textposition\":\"top center\"},{\"hoverinfo\":\"none\",\"hovertext\":\" \",\"line\":{\"color\":\"rgb(26, 132, 63)\",\"width\":6},\"x\":[-0.40569121539260206,-0.40569121539260206,null],\"y\":[-0.32734802801625695,-0.32734802801625695,null],\"type\":\"scatter\",\"textposition\":\"top center\"},{\"hoverinfo\":\"none\",\"hovertext\":\" \",\"line\":{\"color\":\"rgb(174, 222, 167)\",\"width\":2},\"x\":[-0.40569121539260206,-0.11484503021519027,null],\"y\":[-0.32734802801625695,0.3952508395597706,null],\"type\":\"scatter\",\"textposition\":\"top center\"},{\"hoverinfo\":\"none\",\"hovertext\":\" \",\"line\":{\"color\":\"rgb(136, 206, 135)\",\"width\":3},\"x\":[-0.40569121539260206,0.1449387983818865,null],\"y\":[-0.32734802801625695,-0.19991215144002028,null],\"type\":\"scatter\",\"textposition\":\"top center\"},{\"hoverinfo\":\"none\",\"hovertext\":\" \",\"line\":{\"color\":\"rgb(136, 206, 135)\",\"width\":3},\"x\":[-0.40569121539260206,-0.4480642147745625,null],\"y\":[-0.32734802801625695,-0.5647369208751434,null],\"type\":\"scatter\",\"textposition\":\"top center\"},{\"hoverinfo\":\"none\",\"hovertext\":\" \",\"line\":{\"color\":\"rgb(206, 236, 200)\",\"width\":1},\"x\":[-0.40569121539260206,-0.7281161589787841,null],\"y\":[-0.32734802801625695,0.18670197297230368,null],\"type\":\"scatter\",\"textposition\":\"top center\"},{\"hoverinfo\":\"none\",\"hovertext\":\" \",\"line\":{\"color\":\"rgb(55, 160, 85)\",\"width\":5},\"x\":[0.6450589027683868,0.6450589027683868,null],\"y\":[0.39540404296582776,0.39540404296582776,null],\"type\":\"scatter\",\"textposition\":\"top center\"},{\"hoverinfo\":\"none\",\"hovertext\":\" \",\"line\":{\"color\":\"rgb(206, 236, 200)\",\"width\":1},\"x\":[0.6450589027683868,-0.11484503021519027,null],\"y\":[0.39540404296582776,0.3952508395597706,null],\"type\":\"scatter\",\"textposition\":\"top center\"},{\"hoverinfo\":\"none\",\"hovertext\":\" \",\"line\":{\"color\":\"rgb(231, 246, 227)\",\"width\":0},\"x\":[0.6450589027683868,0.1449387983818865,null],\"y\":[0.39540404296582776,-0.19991215144002028,null],\"type\":\"scatter\",\"textposition\":\"top center\"},{\"hoverinfo\":\"none\",\"hovertext\":\" \",\"line\":{\"color\":\"rgb(231, 246, 227)\",\"width\":0},\"x\":[0.6450589027683868,-0.4480642147745625,null],\"y\":[0.39540404296582776,-0.5647369208751434,null],\"type\":\"scatter\",\"textposition\":\"top center\"},{\"hoverinfo\":\"none\",\"hovertext\":\" \",\"line\":{\"color\":\"rgb(231, 246, 227)\",\"width\":0},\"x\":[0.6450589027683868,-0.7281161589787841,null],\"y\":[0.39540404296582776,0.18670197297230368,null],\"type\":\"scatter\",\"textposition\":\"top center\"},{\"hoverinfo\":\"none\",\"hovertext\":\" \",\"line\":{\"color\":\"rgb(55, 160, 85)\",\"width\":5},\"x\":[-0.11484503021519027,-0.11484503021519027,null],\"y\":[0.3952508395597706,0.3952508395597706,null],\"type\":\"scatter\",\"textposition\":\"top center\"},{\"hoverinfo\":\"none\",\"hovertext\":\" \",\"line\":{\"color\":\"rgb(174, 222, 167)\",\"width\":2},\"x\":[-0.11484503021519027,0.1449387983818865,null],\"y\":[0.3952508395597706,-0.19991215144002028,null],\"type\":\"scatter\",\"textposition\":\"top center\"},{\"hoverinfo\":\"none\",\"hovertext\":\" \",\"line\":{\"color\":\"rgb(206, 236, 200)\",\"width\":1},\"x\":[-0.11484503021519027,-0.4480642147745625,null],\"y\":[0.3952508395597706,-0.5647369208751434,null],\"type\":\"scatter\",\"textposition\":\"top center\"},{\"hoverinfo\":\"none\",\"hovertext\":\" \",\"line\":{\"color\":\"rgb(231, 246, 227)\",\"width\":0},\"x\":[-0.11484503021519027,-0.7281161589787841,null],\"y\":[0.3952508395597706,0.18670197297230368,null],\"type\":\"scatter\",\"textposition\":\"top center\"},{\"hoverinfo\":\"none\",\"hovertext\":\" \",\"line\":{\"color\":\"rgb(55, 160, 85)\",\"width\":5},\"x\":[0.1449387983818865,0.1449387983818865,null],\"y\":[-0.19991215144002028,-0.19991215144002028,null],\"type\":\"scatter\",\"textposition\":\"top center\"},{\"hoverinfo\":\"none\",\"hovertext\":\" \",\"line\":{\"color\":\"rgb(174, 222, 167)\",\"width\":2},\"x\":[0.1449387983818865,-0.4480642147745625,null],\"y\":[-0.19991215144002028,-0.5647369208751434,null],\"type\":\"scatter\",\"textposition\":\"top center\"},{\"hoverinfo\":\"none\",\"hovertext\":\" \",\"line\":{\"color\":\"rgb(231, 246, 227)\",\"width\":0},\"x\":[0.1449387983818865,-0.7281161589787841,null],\"y\":[-0.19991215144002028,0.18670197297230368,null],\"type\":\"scatter\",\"textposition\":\"top center\"},{\"hoverinfo\":\"none\",\"hovertext\":\" \",\"line\":{\"color\":\"rgb(93, 185, 107)\",\"width\":4},\"x\":[-0.4480642147745625,-0.4480642147745625,null],\"y\":[-0.5647369208751434,-0.5647369208751434,null],\"type\":\"scatter\",\"textposition\":\"top center\"},{\"hoverinfo\":\"none\",\"hovertext\":\" \",\"line\":{\"color\":\"rgb(231, 246, 227)\",\"width\":0},\"x\":[-0.4480642147745625,-0.7281161589787841,null],\"y\":[-0.5647369208751434,0.18670197297230368,null],\"type\":\"scatter\",\"textposition\":\"top center\"},{\"hoverinfo\":\"none\",\"hovertext\":\" \",\"line\":{\"color\":\"rgb(93, 185, 107)\",\"width\":4},\"x\":[-0.7281161589787841,-0.7281161589787841,null],\"y\":[0.18670197297230368,0.18670197297230368,null],\"type\":\"scatter\",\"textposition\":\"top center\"},{\"customdata\":[[368.0,\"fast\",\"ADV\"],[140.0,\"long\",\"ADV\"],[83.0,\"neatly\",\"ADV\"]],\"hovertemplate\":\"#=%{customdata[0]}<extra></extra>\",\"legendgroup\":\"ADV\",\"marker\":{\"color\":\"#636efa\",\"size\":[368.0,140.0,83.0],\"sizemode\":\"area\",\"sizeref\":1.0575,\"symbol\":\"circle\"},\"mode\":\"markers+text\",\"name\":\"ADV\",\"orientation\":\"v\",\"showlegend\":true,\"text\":[\"fast\",\"long\",\"neatly\"],\"x\":[0.731494294276745,-0.42315214872404533,-0.19616938522515973],\"xaxis\":\"x\",\"y\":[0.08517219678922733,0.5728609545690998,-0.9921088336686266],\"yaxis\":\"y\",\"type\":\"scatter\",\"textposition\":\"top center\"},{\"customdata\":[[423.0,\"time\",\"NOUN\"],[338.0,\"service\",\"NOUN\"],[241.0,\"people\",\"NOUN\"],[166.0,\"day\",\"NOUN\"],[207.0,\"unload\",\"NOUN\"],[220.0,\"staff\",\"NOUN\"],[162.0,\"hour\",\"NOUN\"],[146.0,\"order\",\"NOUN\"],[162.0,\"transport\",\"NOUN\"],[137.0,\"office\",\"NOUN\"],[148.0,\"place\",\"NOUN\"],[149.0,\"coffee\",\"NOUN\"],[140.0,\"toilet\",\"NOUN\"],[73.0,\"man\",\"NOUN\"]],\"hovertemplate\":\"#=%{customdata[0]}<extra></extra>\",\"legendgroup\":\"NOUN\",\"marker\":{\"color\":\"#EF553B\",\"size\":[423.0,338.0,241.0,166.0,207.0,220.0,162.0,146.0,162.0,137.0,148.0,149.0,140.0,73.0],\"sizemode\":\"area\",\"sizeref\":1.0575,\"symbol\":\"circle\"},\"mode\":\"markers+text\",\"name\":\"NOUN\",\"orientation\":\"v\",\"showlegend\":true,\"text\":[\"time\",\"service\",\"people\",\"day\",\"unload\",\"staff\",\"hour\",\"order\",\"transport\",\"office\",\"place\",\"coffee\",\"toilet\",\"man\"],\"x\":[-0.18453436507291418,-0.05768021359772707,0.5221620128874973,-0.4785319216379006,0.26041211431698535,0.3514228485283896,0.04788960634673765,-0.13831907570377594,-0.7821113335359461,0.07372678093973499,0.3258739032715395,0.8512794768002446,0.6387434641683799,-0.6357871398279092],\"xaxis\":\"x\",\"y\":[0.019894190336143733,-0.2857092657225607,-0.22371668046237014,-0.09727330761290566,0.3783038837175746,0.6520167153614409,0.17310151502817359,-0.5840419276221137,-0.33066913127911723,0.8249495473283394,-0.46008972657043984,0.5316526886740731,0.8502974259675539,-1.0],\"yaxis\":\"y\",\"type\":\"scatter\",\"textposition\":\"top center\"},{\"customdata\":[[237.0,\"deliver\",\"VERB\"],[200.0,\"loading\",\"VERB\"],[211.0,\"wait\",\"VERB\"],[173.0,\"come\",\"VERB\"],[129.0,\"call\",\"VERB\"],[126.0,\"help\",\"VERB\"]],\"hovertemplate\":\"#=%{customdata[0]}<extra></extra>\",\"legendgroup\":\"VERB\",\"marker\":{\"color\":\"#00cc96\",\"size\":[237.0,200.0,211.0,173.0,129.0,126.0],\"sizemode\":\"area\",\"sizeref\":1.0575,\"symbol\":\"circle\"},\"mode\":\"markers+text\",\"name\":\"VERB\",\"orientation\":\"v\",\"showlegend\":true,\"text\":[\"deliver\",\"loading\",\"wait\",\"come\",\"call\",\"help\"],\"x\":[-0.40569121539260206,0.6450589027683868,-0.11484503021519027,0.1449387983818865,-0.4480642147745625,-0.7281161589787841],\"xaxis\":\"x\",\"y\":[-0.32734802801625695,0.39540404296582776,0.3952508395597706,-0.19991215144002028,-0.5647369208751434,0.18670197297230368],\"yaxis\":\"y\",\"type\":\"scatter\",\"textposition\":\"top center\"},{\"hoverinfo\":\"text\",\"hoverlabel\":{\"bgcolor\":\"#FFFFFF\"},\"marker\":{\"opacity\":0},\"mode\":\"markers\",\"text\":[\"368\",\"0\",\"4\",\"0\",\"1\",\"0\",\"18\",\"0\",\"46\",\"0\",\"27\",\"0\",\"5\",\"0\",\"20\",\"0\",\"41\",\"0\",\"6\",\"0\",\"2\",\"0\",\"4\",\"0\",\"16\",\"0\",\"12\",\"0\",\"29\",\"0\",\"27\",\"0\",\"5\",\"0\",\"6\",\"0\",\"105\",\"0\",\"6\",\"0\",\"6\",\"0\",\"4\",\"0\",\"6\",\"0\",\"140\",\"0\",\"2\",\"0\",\"87\",\"0\",\"6\",\"0\",\"4\",\"0\",\"11\",\"0\",\"25\",\"0\",\"12\",\"0\",\"16\",\"0\",\"10\",\"0\",\"8\",\"0\",\"10\",\"0\",\"6\",\"0\",\"6\",\"0\",\"12\",\"0\",\"3\",\"0\",\"12\",\"0\",\"13\",\"0\",\"51\",\"0\",\"15\",\"0\",\"12\",\"0\",\"1\",\"0\",\"83\",\"0\",\"32\",\"0\",\"13\",\"0\",\"5\",\"0\",\"12\",\"0\",\"6\",\"0\",\"6\",\"0\",\"15\",\"0\",\"10\",\"0\",\"11\",\"0\",\"1\",\"0\",\"1\",\"0\",\"17\",\"0\",\"36\",\"0\",\"2\",\"0\",\"14\",\"0\",\"24\",\"0\",\"12\",\"0\",\"423\",\"0\",\"63\",\"0\",\"33\",\"0\",\"78\",\"0\",\"40\",\"0\",\"24\",\"0\",\"52\",\"0\",\"58\",\"0\",\"41\",\"0\",\"25\",\"0\",\"29\",\"0\",\"11\",\"0\",\"18\",\"0\",\"18\",\"0\",\"98\",\"0\",\"18\",\"0\",\"61\",\"0\",\"62\",\"0\",\"68\",\"0\",\"19\",\"0\",\"338\",\"0\",\"18\",\"0\",\"42\",\"0\",\"11\",\"0\",\"13\",\"0\",\"17\",\"0\",\"38\",\"0\",\"37\",\"0\",\"6\",\"0\",\"17\",\"0\",\"7\",\"0\",\"6\",\"0\",\"9\",\"0\",\"60\",\"0\",\"12\",\"0\",\"20\",\"0\",\"27\",\"0\",\"36\",\"0\",\"22\",\"0\",\"241\",\"0\",\"18\",\"0\",\"19\",\"0\",\"7\",\"0\",\"9\",\"0\",\"11\",\"0\",\"12\",\"0\",\"15\",\"0\",\"18\",\"0\",\"10\",\"0\",\"5\",\"0\",\"5\",\"0\",\"12\",\"0\",\"14\",\"0\",\"13\",\"0\",\"15\",\"0\",\"10\",\"0\",\"16\",\"0\",\"166\",\"0\",\"8\",\"0\",\"5\",\"0\",\"30\",\"0\",\"40\",\"0\",\"21\",\"0\",\"7\",\"0\",\"20\",\"0\",\"3\",\"0\",\"1\",\"0\",\"8\",\"0\",\"58\",\"0\",\"2\",\"0\",\"28\",\"0\",\"45\",\"0\",\"44\",\"0\",\"8\",\"0\",\"207\",\"0\",\"17\",\"0\",\"25\",\"0\",\"8\",\"0\",\"5\",\"0\",\"20\",\"0\",\"10\",\"0\",\"20\",\"0\",\"22\",\"0\",\"2\",\"0\",\"7\",\"0\",\"15\",\"0\",\"31\",\"0\",\"16\",\"0\",\"5\",\"0\",\"9\",\"0\",\"220\",\"0\",\"11\",\"0\",\"2\",\"0\",\"5\",\"0\",\"24\",\"0\",\"10\",\"0\",\"35\",\"0\",\"24\",\"0\",\"2\",\"0\",\"5\",\"0\",\"31\",\"0\",\"13\",\"0\",\"10\",\"0\",\"4\",\"0\",\"5\",\"0\",\"162\",\"0\",\"16\",\"0\",\"13\",\"0\",\"18\",\"0\",\"10\",\"0\",\"13\",\"0\",\"14\",\"0\",\"2\",\"0\",\"30\",\"0\",\"19\",\"0\",\"63\",\"0\",\"26\",\"0\",\"22\",\"0\",\"4\",\"0\",\"146\",\"0\",\"28\",\"0\",\"4\",\"0\",\"19\",\"0\",\"2\",\"0\",\"2\",\"0\",\"5\",\"0\",\"77\",\"0\",\"5\",\"0\",\"22\",\"0\",\"33\",\"0\",\"33\",\"0\",\"14\",\"0\",\"162\",\"0\",\"3\",\"0\",\"11\",\"0\",\"2\",\"0\",\"1\",\"0\",\"1\",\"0\",\"35\",\"0\",\"2\",\"0\",\"6\",\"0\",\"13\",\"0\",\"17\",\"0\",\"6\",\"0\",\"137\",\"0\",\"12\",\"0\",\"27\",\"0\",\"29\",\"0\",\"1\",\"0\",\"3\",\"0\",\"33\",\"0\",\"29\",\"0\",\"12\",\"0\",\"3\",\"0\",\"3\",\"0\",\"148\",\"0\",\"10\",\"0\",\"13\",\"0\",\"8\",\"0\",\"19\",\"0\",\"10\",\"0\",\"11\",\"0\",\"23\",\"0\",\"12\",\"0\",\"15\",\"0\",\"149\",\"0\",\"62\",\"0\",\"2\",\"0\",\"31\",\"0\",\"20\",\"0\",\"9\",\"0\",\"2\",\"0\",\"3\",\"0\",\"140\",\"0\",\"1\",\"0\",\"31\",\"0\",\"24\",\"0\",\"9\",\"0\",\"2\",\"0\",\"73\",\"0\",\"14\",\"0\",\"2\",\"0\",\"5\",\"0\",\"12\",\"0\",\"11\",\"0\",\"4\",\"0\",\"237\",\"0\",\"33\",\"0\",\"37\",\"0\",\"51\",\"0\",\"19\",\"0\",\"200\",\"0\",\"24\",\"0\",\"9\",\"0\",\"1\",\"0\",\"9\",\"0\",\"211\",\"0\",\"26\",\"0\",\"20\",\"0\",\"9\",\"0\",\"173\",\"0\",\"33\",\"0\",\"12\",\"0\",\"129\",\"0\",\"9\",\"0\",\"126\",\"0\"],\"x\":[0.731494294276745,0,0.1541710727763498,0,0.2676624545257926,0,0.27347996460191537,0,0.3369070403395089,0,0.6268281535821212,0,0.12648118631942218,0,0.4959532042968652,0,0.5414585714025673,0,0.3896919503117413,0,0.29658760928648453,0,-0.025308519629600568,0,0.40261053760823995,0,0.5286840987741422,0,0.7913868855384948,0,0.6851188792225624,0,0.047853577224417854,0,0.16290153944207145,0,0.6882765985225658,0,0.3083246320307773,0,0.4382165463293157,0,0.14171503975109123,0,0.0016890676489804135,0,-0.42315214872404533,0,-0.30966076697460254,0,-0.30384325689847974,0,-0.2404161811608862,0,0.04950493208172599,0,-0.450842035180973,0,-0.08137001720352999,0,-0.035864650097827855,0,-0.18763127118865383,0,-0.28073561221391063,0,-0.6026317411299957,0,-0.17471268389215516,0,-0.048639122726252926,0,0.21406366403809965,0,0.10779565772216729,0,-0.5294696442759773,0,-0.4144216820583237,0,0.11095337702217076,0,-0.2689985894696178,0,-0.1391066751710794,0,-0.43560818174930394,0,-0.5756341538514147,0,-0.19616938522515973,0,-0.19035187514903695,0,-0.1269247994114434,0,0.1629963138311688,0,-0.33735065343153015,0,0.032121364545912814,0,-0.07413988943921104,0,-0.16724423046446785,0,-0.4891403593805529,0,0.06485225902318988,0,0.32755504578754246,0,0.2212870394716101,0,-0.41597826252653447,0,-0.3009303003088809,0,-0.155507207720175,0,-0.025615293421636612,0,-0.3221167999998611,0,-0.4621427721019719,0,-0.18453436507291418,0,-0.12110728933532063,0,0.16881382390729155,0,-0.3315331433554074,0,0.03793887462203559,0,0.08344424172773772,0,-0.06832237936308827,0,-0.16142672038834505,0,-0.48332284930443015,0,-0.055403792066589595,0,0.07066976909931265,0,0.3333725558636652,0,0.22710454954773285,0,-0.4101607524504117,0,-0.2951127902327581,0,0.23026226884773632,0,-0.1496896976440522,0,-0.01979778334551384,0,-0.31629928992373835,0,-0.45632526202584917,0,-0.05768021359772707,0,0.23224089964488512,0,-0.26810606761781386,0,0.10136595035962914,0,0.14687131746533127,0,-0.004895303625494712,0,-0.0979996446507515,0,-0.4198957735668366,0,0.00802328367100396,0,0.1340968448369062,0,0.39679963160125875,0,0.2905316252853264,0,-0.3467336767128182,0,-0.23168571449516456,0,0.2936893445853299,0,-0.08626262190645867,0,0.043629292392079716,0,-0.2528722141861448,0,-0.39289818628825557,0,0.5221620128874973,0,0.021815045624798357,0,0.3912870636022413,0,0.4367924307079435,0,0.2850258096171175,0,0.19192146859186068,0,-0.1299746603242244,0,0.2979443969136161,0,0.42401795807951836,0,0.686720744843871,0,0.5804527385279385,0,-0.05681256347020597,0,0.058235398747447625,0,0.5836104578279421,0,0.20365849133615352,0,0.3335504056346919,0,0.03704889905646741,0,-0.10297707304564341,0,-0.4785319216379006,0,-0.10905990366045762,0,-0.06355453655475549,0,-0.21532115764558146,0,-0.30842549867083824,0,-0.6303216275869233,0,-0.2024025703490828,0,-0.07632900918318056,0,0.18637377758117202,0,0.08010577126523966,0,-0.5571595307329049,0,-0.44211156851525135,0,0.08326349056524313,0,-0.29668847592654546,0,-0.16679656162800705,0,-0.46329806820623154,0,-0.6033240403083424,0,0.26041211431698535,0,0.3059174814226875,0,0.1541508603318615,0,0.06104651930660471,0,-0.26084960960948034,0,0.16706944762836018,0,0.2931430087942624,0,0.555845795558615,0,0.44957778924268266,0,-0.18768751275546194,0,-0.07263955053780835,0,0.45273550854268607,0,0.07278354205089754,0,0.20267545634943593,0,-0.09382605022878857,0,-0.23385202233089938,0,0.3514228485283896,0,0.19965622743756364,0,0.10655188641230684,0,-0.21534424250377823,0,0.2125748147340623,0,0.33864837589996455,0,0.6013511626643171,0,0.49508315634838473,0,-0.1421821456497598,0,-0.027134183432106218,0,0.49824087564838826,0,0.11828890915659968,0,0.24818082345513806,0,-0.04832068312308643,0,-0.18834665522519725,0,0.04788960634673765,0,-0.04521473467851915,0,-0.3671108635946042,0,0.06080819364323632,0,0.18688175480913857,0,0.44958454157349115,0,0.3433165352575588,0,-0.2939487667405858,0,-0.1789008045229322,0,0.34647425455756226,0,-0.033477711934226315,0,0.09641420236431207,0,-0.2000873042139124,0,-0.3401132763160232,0,-0.13831907570377594,0,-0.460215204619861,0,-0.032296147382020475,0,0.09377741378388177,0,0.35648020054823437,0,0.250212194232302,0,-0.38705310776584256,0,-0.272005145548189,0,0.2533699135323054,0,-0.1265820529594831,0,0.003309861339055281,0,-0.2931916452391692,0,-0.43321761734128006,0,-0.7821113335359461,0,-0.35419227629810557,0,-0.2281187151322033,0,0.03458407163214927,0,-0.07168393468378309,0,-0.7089492366819277,0,-0.5939012744642741,0,-0.06852621538377962,0,-0.4484781818755682,0,-0.3185862675770298,0,-0.6150877741552543,0,-0.7551137462573652,0,0.07372678093973499,0,0.19980034210563724,0,0.4625031288699898,0,0.3562351225540574,0,-0.28103017944408715,0,-0.16598221722643353,0,0.3593928418540609,0,-0.02055912463772764,0,0.10933278966081075,0,-0.18716871691741374,0,-0.3271946890195246,0,0.3258739032715395,0,0.5885766900358921,0,0.4823086837199597,0,-0.15495661827818488,0,-0.03990865606053129,0,0.48546640301996313,0,0.1055144365281746,0,0.235406350826713,0,-0.061095155751511504,0,-0.20112112785362232,0,0.8512794768002446,0,0.7450114704843123,0,0.22279413070382129,0,0.7481691897843157,0,0.36821722329252715,0,0.49810913759106556,0,0.20160763101284107,0,0.06158165891073025,0,0.6387434641683799,0,0.11652612438788892,0,0.6419011834683834,0,0.2619492169765948,0,0.3918411312751332,0,-0.04468634740520211,0,-0.6357871398279092,0,-0.5207391776102557,0,0.004635881470238801,0,-0.3753160850215498,0,-0.24542417072301137,0,-0.5419256773012359,0,-0.6819516494033466,0,-0.40569121539260206,0,-0.26026812280389616,0,-0.13037620850535778,0,-0.4268777150835823,0,-0.5669036871856931,0,0.6450589027683868,0,0.2651069362765983,0,0.3949988505751367,0,0.09849734399691218,0,-0.04152862810519864,0,-0.11484503021519027,0,0.015046884083348117,0,-0.2814546224948764,0,-0.42148059459698717,0,0.1449387983818865,0,-0.151562708196338,0,-0.2915886802984488,0,-0.4480642147745625,0,-0.5880901868766732,0,-0.7281161589787841,0],\"y\":[0.08517219678922733,0,0.32901657567916354,0,-0.4534683184396996,0,0.05253319356268553,0,-0.1002685344666667,0,-0.06927224183657141,0,-0.006050555411839166,0,0.23173804025340097,0,0.36859445607533414,0,0.12913685590870044,0,-0.2494348654164432,0,-0.12274846724494495,0,0.4550608720587833,0,-0.18745876489060626,0,0.30841244273165025,0,0.46773481137839057,0,-0.4574139016053863,0,-0.12108791561351481,0,0.24028811987752755,0,0.24021151817449896,0,-0.057369977325396476,0,-0.23978236204295802,0,0.1359370848807655,0,0.5728609545690998,0,-0.20962393954976338,0,0.29637757245262175,0,0.14357584442326954,0,0.17457213705336483,0,0.23779382347809708,0,0.4755824191433372,0,0.6124388349652703,0,0.3729812347986367,0,-0.005590486526506955,0,0.12109591164499128,0,0.6989052509487196,0,0.05638561399932998,0,0.5522568216215864,0,0.7115791902683268,0,-0.2135695227154501,0,0.12275646327642142,0,0.4841324987674638,0,0.4840558970644352,0,0.18647440156453976,0,0.004062016846978211,0,0.37978146377070177,0,-0.9921088336686266,0,-0.48610732166624143,0,-0.6389090496955936,0,-0.6079127570654983,0,-0.5446910706407662,0,-0.306902474975526,0,-0.4095036593202265,0,-0.7880753806453702,0,-0.6613889824738719,0,-0.7260992801195332,0,-0.23022807249727673,0,-0.07090570385053635,0,-0.9960544168343133,0,-0.6597284308424418,0,-0.298428997054428,0,-0.5960104925543235,0,-0.778422877271885,0,-0.4027034303481615,0,0.019894190336143733,0,-0.13290753769320848,0,-0.1019112450631132,0,-0.038689558638380965,0,0.1990990370268592,0,0.3359554528487923,0,0.09649785268215866,0,-0.282073868642985,0,-0.15538747047148674,0,0.42242186883224153,0,-0.22009776811714804,0,0.2757734395051084,0,0.4350958081518488,0,-0.49005290483192815,0,-0.1537269188400566,0,0.20764911665098576,0,0.20757251494795717,0,-0.09000898055193828,0,-0.27242136526949984,0,0.1032980816542237,0,-0.2857092657225607,0,-0.25471297309246543,0,-0.19149128666773318,0,0.04629730899750695,0,0.1831537248194401,0,-0.05630387534719357,0,-0.4348755966723372,0,-0.308189198500839,0,0.2696201408028893,0,-0.3728994961465003,0,0.1229717114757562,0,0.28229408012249657,0,-0.6428546328612803,0,-0.30652864686940884,0,0.05484738862163352,0,0.05477078691860493,0,-0.2428107085812905,0,-0.42522309329885205,0,-0.049503646375128524,0,-0.22371668046237014,0,-0.1604949940376379,0,0.07729360162760224,0,0.21415001744953538,0,-0.02530758271709828,0,-0.4038793040422419,0,-0.2771929058707437,0,0.3006164334329846,0,-0.341903203516405,0,0.15396800410585149,0,0.31329037275259186,0,-0.611858340231185,0,-0.27553235423931355,0,0.08584368125172881,0,0.08576707954870022,0,-0.2118144159511952,0,-0.39422680066875676,0,-0.018507353745033234,0,-0.09727330761290566,0,0.14051528805233449,0,0.2773717038742676,0,0.03791410370763396,0,-0.3406576176175097,0,-0.21397121944601144,0,0.36383811985771686,0,-0.27868151709167277,0,0.21718969053058373,0,0.3765120591773241,0,-0.5486366538064529,0,-0.2123106678145813,0,0.14906536767646106,0,0.14898876597343247,0,-0.14859272952646296,0,-0.3310051142440245,0,0.04471433267969901,0,0.3783038837175746,0,0.5151602995395077,0,0.2757026993728741,0,-0.10286902195226955,0,0.023817376219228692,0,0.601626715522957,0,-0.04089292142643261,0,0.45497828619582387,0,0.6143006548425642,0,-0.3108480581412127,0,0.025477927850658832,0,0.3868539633417012,0,0.3867773616386726,0,0.08919586613877717,0,-0.09321651857878438,0,0.2825029283449392,0,0.6520167153614409,0,0.41255911519480726,0,0.033987393869663596,0,0.16067379204116183,0,0.7384831313448901,0,0.09596349439550053,0,0.591834702017757,0,0.7511570706644974,0,-0.17399164231927955,0,0.16233434367259197,0,0.5237103791636344,0,0.5236337774606057,0,0.2260522819607103,0,0.04363989724314876,0,0.41935934416687226,0,0.17310151502817359,0,-0.20547020629697005,0,-0.07878380812547182,0,0.4990255311782565,0,-0.14349410577113314,0,0.35237710185112336,0,0.5116994704978637,0,-0.4134492424859132,0,-0.07712325649404168,0,0.2842527789970007,0,0.2841761772939721,0,-0.013405318205923347,0,-0.19581770292348488,0,0.17990174400023862,0,-0.5840419276221137,0,-0.4573555294506155,0,0.12045380985311283,0,-0.5220658270962768,0,-0.026194619474020298,0,0.13312774917272008,0,-0.7920209638110569,0,-0.45569497781918533,0,-0.09431894232814297,0,-0.09439554403117156,0,-0.391977039531067,0,-0.5743894242486285,0,-0.19866997732490502,0,-0.33066913127911723,0,0.24714020802461106,0,-0.3953794289247785,0,0.10049177869747794,0,0.2598141473442183,0,-0.6653345656395586,0,-0.3290085796476871,0,0.032367455843355264,0,0.032290854140326675,0,-0.26529064135956876,0,-0.4477030260771303,0,-0.07198357915340678,0,0.8249495473283394,0,0.18242991037894976,0,0.6783011180012062,0,0.8376234866479466,0,-0.08752522633583032,0,0.2488007596560412,0,0.6101767951470836,0,0.610100193444055,0,0.31251869794415954,0,0.130106313226598,0,0.5058257601503215,0,-0.46008972657043984,0,0.03578148105181664,0,0.195103849698557,0,-0.7300448632852199,0,-0.3937188772933484,0,-0.03234284180230604,0,-0.03241944350533463,0,-0.3300009390052301,0,-0.5124133237227916,0,-0.13669387679906808,0,0.5316526886740731,0,0.6909750573208135,0,0.10215233032890808,0,0.46352836581995044,0,0.46345176411692185,0,0.16587026861702642,0,-0.01654211610053513,0,0.35917733082318837,0,0.8502974259675539,0,0.26147469897564846,0,0.6228507344666908,0,0.6227741327636622,0,0.3251926372637668,0,0.5184996994699288,0,-1.0,0,-0.6636740140081285,0,-0.3022979785170861,0,-0.3023745802201147,0,-0.5999560757200102,0,-0.7823684604375717,0,-0.4066490135138482,0,-0.32734802801625695,0,0.033951405771756815,0,-0.2636300897281386,0,-0.44604247444570017,0,-0.07032302752197664,0,0.39540404296582776,0,0.3953274412627992,0,0.09774594576290374,0,-0.08466643895465781,0,0.29105300796906575,0,0.3952508395597706,0,0.09766934405987515,0,-0.0847430406576864,0,0.29097640626603716,0,-0.19991215144002028,0,-0.38232453615758183,0,-0.006605089233858302,0,-0.5647369208751434,0,-0.18901747395141985,0,0.18670197297230368,0],\"type\":\"scatter\",\"textposition\":\"top center\"}],                        {\"template\":{\"data\":{\"histogram2dcontour\":[{\"type\":\"histogram2dcontour\",\"colorbar\":{\"outlinewidth\":0,\"ticks\":\"\"},\"colorscale\":[[0.0,\"#0d0887\"],[0.1111111111111111,\"#46039f\"],[0.2222222222222222,\"#7201a8\"],[0.3333333333333333,\"#9c179e\"],[0.4444444444444444,\"#bd3786\"],[0.5555555555555556,\"#d8576b\"],[0.6666666666666666,\"#ed7953\"],[0.7777777777777778,\"#fb9f3a\"],[0.8888888888888888,\"#fdca26\"],[1.0,\"#f0f921\"]]}],\"choropleth\":[{\"type\":\"choropleth\",\"colorbar\":{\"outlinewidth\":0,\"ticks\":\"\"}}],\"histogram2d\":[{\"type\":\"histogram2d\",\"colorbar\":{\"outlinewidth\":0,\"ticks\":\"\"},\"colorscale\":[[0.0,\"#0d0887\"],[0.1111111111111111,\"#46039f\"],[0.2222222222222222,\"#7201a8\"],[0.3333333333333333,\"#9c179e\"],[0.4444444444444444,\"#bd3786\"],[0.5555555555555556,\"#d8576b\"],[0.6666666666666666,\"#ed7953\"],[0.7777777777777778,\"#fb9f3a\"],[0.8888888888888888,\"#fdca26\"],[1.0,\"#f0f921\"]]}],\"heatmap\":[{\"type\":\"heatmap\",\"colorbar\":{\"outlinewidth\":0,\"ticks\":\"\"},\"colorscale\":[[0.0,\"#0d0887\"],[0.1111111111111111,\"#46039f\"],[0.2222222222222222,\"#7201a8\"],[0.3333333333333333,\"#9c179e\"],[0.4444444444444444,\"#bd3786\"],[0.5555555555555556,\"#d8576b\"],[0.6666666666666666,\"#ed7953\"],[0.7777777777777778,\"#fb9f3a\"],[0.8888888888888888,\"#fdca26\"],[1.0,\"#f0f921\"]]}],\"heatmapgl\":[{\"type\":\"heatmapgl\",\"colorbar\":{\"outlinewidth\":0,\"ticks\":\"\"},\"colorscale\":[[0.0,\"#0d0887\"],[0.1111111111111111,\"#46039f\"],[0.2222222222222222,\"#7201a8\"],[0.3333333333333333,\"#9c179e\"],[0.4444444444444444,\"#bd3786\"],[0.5555555555555556,\"#d8576b\"],[0.6666666666666666,\"#ed7953\"],[0.7777777777777778,\"#fb9f3a\"],[0.8888888888888888,\"#fdca26\"],[1.0,\"#f0f921\"]]}],\"contourcarpet\":[{\"type\":\"contourcarpet\",\"colorbar\":{\"outlinewidth\":0,\"ticks\":\"\"}}],\"contour\":[{\"type\":\"contour\",\"colorbar\":{\"outlinewidth\":0,\"ticks\":\"\"},\"colorscale\":[[0.0,\"#0d0887\"],[0.1111111111111111,\"#46039f\"],[0.2222222222222222,\"#7201a8\"],[0.3333333333333333,\"#9c179e\"],[0.4444444444444444,\"#bd3786\"],[0.5555555555555556,\"#d8576b\"],[0.6666666666666666,\"#ed7953\"],[0.7777777777777778,\"#fb9f3a\"],[0.8888888888888888,\"#fdca26\"],[1.0,\"#f0f921\"]]}],\"surface\":[{\"type\":\"surface\",\"colorbar\":{\"outlinewidth\":0,\"ticks\":\"\"},\"colorscale\":[[0.0,\"#0d0887\"],[0.1111111111111111,\"#46039f\"],[0.2222222222222222,\"#7201a8\"],[0.3333333333333333,\"#9c179e\"],[0.4444444444444444,\"#bd3786\"],[0.5555555555555556,\"#d8576b\"],[0.6666666666666666,\"#ed7953\"],[0.7777777777777778,\"#fb9f3a\"],[0.8888888888888888,\"#fdca26\"],[1.0,\"#f0f921\"]]}],\"mesh3d\":[{\"type\":\"mesh3d\",\"colorbar\":{\"outlinewidth\":0,\"ticks\":\"\"}}],\"scatter\":[{\"fillpattern\":{\"fillmode\":\"overlay\",\"size\":10,\"solidity\":0.2},\"type\":\"scatter\"}],\"parcoords\":[{\"type\":\"parcoords\",\"line\":{\"colorbar\":{\"outlinewidth\":0,\"ticks\":\"\"}}}],\"scatterpolargl\":[{\"type\":\"scatterpolargl\",\"marker\":{\"colorbar\":{\"outlinewidth\":0,\"ticks\":\"\"}}}],\"bar\":[{\"error_x\":{\"color\":\"#2a3f5f\"},\"error_y\":{\"color\":\"#2a3f5f\"},\"marker\":{\"line\":{\"color\":\"#E5ECF6\",\"width\":0.5},\"pattern\":{\"fillmode\":\"overlay\",\"size\":10,\"solidity\":0.2}},\"type\":\"bar\"}],\"scattergeo\":[{\"type\":\"scattergeo\",\"marker\":{\"colorbar\":{\"outlinewidth\":0,\"ticks\":\"\"}}}],\"scatterpolar\":[{\"type\":\"scatterpolar\",\"marker\":{\"colorbar\":{\"outlinewidth\":0,\"ticks\":\"\"}}}],\"histogram\":[{\"marker\":{\"pattern\":{\"fillmode\":\"overlay\",\"size\":10,\"solidity\":0.2}},\"type\":\"histogram\"}],\"scattergl\":[{\"type\":\"scattergl\",\"marker\":{\"colorbar\":{\"outlinewidth\":0,\"ticks\":\"\"}}}],\"scatter3d\":[{\"type\":\"scatter3d\",\"line\":{\"colorbar\":{\"outlinewidth\":0,\"ticks\":\"\"}},\"marker\":{\"colorbar\":{\"outlinewidth\":0,\"ticks\":\"\"}}}],\"scattermapbox\":[{\"type\":\"scattermapbox\",\"marker\":{\"colorbar\":{\"outlinewidth\":0,\"ticks\":\"\"}}}],\"scatterternary\":[{\"type\":\"scatterternary\",\"marker\":{\"colorbar\":{\"outlinewidth\":0,\"ticks\":\"\"}}}],\"scattercarpet\":[{\"type\":\"scattercarpet\",\"marker\":{\"colorbar\":{\"outlinewidth\":0,\"ticks\":\"\"}}}],\"carpet\":[{\"aaxis\":{\"endlinecolor\":\"#2a3f5f\",\"gridcolor\":\"white\",\"linecolor\":\"white\",\"minorgridcolor\":\"white\",\"startlinecolor\":\"#2a3f5f\"},\"baxis\":{\"endlinecolor\":\"#2a3f5f\",\"gridcolor\":\"white\",\"linecolor\":\"white\",\"minorgridcolor\":\"white\",\"startlinecolor\":\"#2a3f5f\"},\"type\":\"carpet\"}],\"table\":[{\"cells\":{\"fill\":{\"color\":\"#EBF0F8\"},\"line\":{\"color\":\"white\"}},\"header\":{\"fill\":{\"color\":\"#C8D4E3\"},\"line\":{\"color\":\"white\"}},\"type\":\"table\"}],\"barpolar\":[{\"marker\":{\"line\":{\"color\":\"#E5ECF6\",\"width\":0.5},\"pattern\":{\"fillmode\":\"overlay\",\"size\":10,\"solidity\":0.2}},\"type\":\"barpolar\"}],\"pie\":[{\"automargin\":true,\"type\":\"pie\"}]},\"layout\":{\"autotypenumbers\":\"strict\",\"colorway\":[\"#636efa\",\"#EF553B\",\"#00cc96\",\"#ab63fa\",\"#FFA15A\",\"#19d3f3\",\"#FF6692\",\"#B6E880\",\"#FF97FF\",\"#FECB52\"],\"font\":{\"color\":\"#2a3f5f\"},\"hovermode\":\"closest\",\"hoverlabel\":{\"align\":\"left\"},\"paper_bgcolor\":\"white\",\"plot_bgcolor\":\"#E5ECF6\",\"polar\":{\"bgcolor\":\"#E5ECF6\",\"angularaxis\":{\"gridcolor\":\"white\",\"linecolor\":\"white\",\"ticks\":\"\"},\"radialaxis\":{\"gridcolor\":\"white\",\"linecolor\":\"white\",\"ticks\":\"\"}},\"ternary\":{\"bgcolor\":\"#E5ECF6\",\"aaxis\":{\"gridcolor\":\"white\",\"linecolor\":\"white\",\"ticks\":\"\"},\"baxis\":{\"gridcolor\":\"white\",\"linecolor\":\"white\",\"ticks\":\"\"},\"caxis\":{\"gridcolor\":\"white\",\"linecolor\":\"white\",\"ticks\":\"\"}},\"coloraxis\":{\"colorbar\":{\"outlinewidth\":0,\"ticks\":\"\"}},\"colorscale\":{\"sequential\":[[0.0,\"#0d0887\"],[0.1111111111111111,\"#46039f\"],[0.2222222222222222,\"#7201a8\"],[0.3333333333333333,\"#9c179e\"],[0.4444444444444444,\"#bd3786\"],[0.5555555555555556,\"#d8576b\"],[0.6666666666666666,\"#ed7953\"],[0.7777777777777778,\"#fb9f3a\"],[0.8888888888888888,\"#fdca26\"],[1.0,\"#f0f921\"]],\"sequentialminus\":[[0.0,\"#0d0887\"],[0.1111111111111111,\"#46039f\"],[0.2222222222222222,\"#7201a8\"],[0.3333333333333333,\"#9c179e\"],[0.4444444444444444,\"#bd3786\"],[0.5555555555555556,\"#d8576b\"],[0.6666666666666666,\"#ed7953\"],[0.7777777777777778,\"#fb9f3a\"],[0.8888888888888888,\"#fdca26\"],[1.0,\"#f0f921\"]],\"diverging\":[[0,\"#8e0152\"],[0.1,\"#c51b7d\"],[0.2,\"#de77ae\"],[0.3,\"#f1b6da\"],[0.4,\"#fde0ef\"],[0.5,\"#f7f7f7\"],[0.6,\"#e6f5d0\"],[0.7,\"#b8e186\"],[0.8,\"#7fbc41\"],[0.9,\"#4d9221\"],[1,\"#276419\"]]},\"xaxis\":{\"gridcolor\":\"white\",\"linecolor\":\"white\",\"ticks\":\"\",\"title\":{\"standoff\":15},\"zerolinecolor\":\"white\",\"automargin\":true,\"zerolinewidth\":2},\"yaxis\":{\"gridcolor\":\"white\",\"linecolor\":\"white\",\"ticks\":\"\",\"title\":{\"standoff\":15},\"zerolinecolor\":\"white\",\"automargin\":true,\"zerolinewidth\":2},\"scene\":{\"xaxis\":{\"backgroundcolor\":\"#E5ECF6\",\"gridcolor\":\"white\",\"linecolor\":\"white\",\"showbackground\":true,\"ticks\":\"\",\"zerolinecolor\":\"white\",\"gridwidth\":2},\"yaxis\":{\"backgroundcolor\":\"#E5ECF6\",\"gridcolor\":\"white\",\"linecolor\":\"white\",\"showbackground\":true,\"ticks\":\"\",\"zerolinecolor\":\"white\",\"gridwidth\":2},\"zaxis\":{\"backgroundcolor\":\"#E5ECF6\",\"gridcolor\":\"white\",\"linecolor\":\"white\",\"showbackground\":true,\"ticks\":\"\",\"zerolinecolor\":\"white\",\"gridwidth\":2}},\"shapedefaults\":{\"line\":{\"color\":\"#2a3f5f\"}},\"annotationdefaults\":{\"arrowcolor\":\"#2a3f5f\",\"arrowhead\":0,\"arrowwidth\":1},\"geo\":{\"bgcolor\":\"white\",\"landcolor\":\"#E5ECF6\",\"subunitcolor\":\"white\",\"showland\":true,\"showlakes\":true,\"lakecolor\":\"white\"},\"title\":{\"x\":0.05},\"mapbox\":{\"style\":\"light\"}}},\"xaxis\":{\"showgrid\":false,\"zeroline\":false,\"showticklabels\":false},\"yaxis\":{\"showgrid\":false,\"zeroline\":false,\"showticklabels\":false},\"width\":1000,\"height\":1000,\"font\":{\"size\":16,\"color\":\"RebeccaPurple\",\"family\":\"Calibri\"},\"showlegend\":false,\"paper_bgcolor\":\"rgb(255,255,255)\",\"plot_bgcolor\":\"rgb(255,255,255)\",\"margin\":{\"l\":0,\"r\":0,\"t\":20,\"b\":0}},                        {\"responsive\": true}                    ).then(function(){\n",
       "                            \n",
       "var gd = document.getElementById('b3fad0b4-b017-4277-a80f-ca1f6e2912f6');\n",
       "var x = new MutationObserver(function (mutations, observer) {{\n",
       "        var display = window.getComputedStyle(gd).display;\n",
       "        if (!display || display === 'none') {{\n",
       "            console.log([gd, 'removed!']);\n",
       "            Plotly.purge(gd);\n",
       "            observer.disconnect();\n",
       "        }}\n",
       "}});\n",
       "\n",
       "// Listen for the removal of the full notebook cells\n",
       "var notebookContainer = gd.closest('#notebook-container');\n",
       "if (notebookContainer) {{\n",
       "    x.observe(notebookContainer, {childList: true});\n",
       "}}\n",
       "\n",
       "// Listen for the clearing of the current output cell\n",
       "var outputEl = gd.closest('.output');\n",
       "if (outputEl) {{\n",
       "    x.observe(outputEl, {childList: true});\n",
       "}}\n",
       "\n",
       "                        })                };                });            </script>        </div>"
      ]
     },
     "metadata": {},
     "output_type": "display_data"
    },
    {
     "data": {
      "image/png": "[encoded data removed]",
      "text/plain": [
       "<Figure size 1080x360 with 1 Axes>"
      ]
     },
     "metadata": {
      "needs_background": "light"
     },
     "output_type": "display_data"
    }
   ],
   "source": [
    "    \n",
    "edge_x = []\n",
    "edge_y = []\n",
    "weight=[]\n",
    "for edge in G.edges():\n",
    "    x0, y0 = pos[edge[0]]\n",
    "    x1, y1 = pos[edge[1]]\n",
    "#     print(G.get_edge_data(edge[0],edge[1])['weight'])\n",
    "    weight.append(G.get_edge_data(edge[0],edge[1])['weight'])\n",
    "    edge_x.append(x0)\n",
    "    edge_x.append(x1)\n",
    "    edge_x.append(None)\n",
    "    edge_y.append(y0)\n",
    "    edge_y.append(y1)\n",
    "    edge_y.append(None)\n",
    "    \n",
    "# edge_trace = go.Scatter(\n",
    "#     x=edge_x, y=edge_y,\n",
    "#     line=dict(width=0.5, color='#888'),\n",
    "#     hoverinfo='none',\n",
    "#     mode='lines')\n",
    "\n",
    "# s_w=np.round(sigmoid(np.asarray(weight)),1).tolist()\n",
    "# s_w=np.round(np.log(weight))\n",
    "weight = np.asarray(weight)\n",
    "\n",
    "fig,ax = plt.subplots(figsize = (15,5))\n",
    "sns.ecdfplot(weight,ax = ax)\n",
    "############################################\n",
    "thr_wei = []\n",
    "for line in ax.get_lines():\n",
    "        \n",
    "    for y_special in [ 0.5, 0.7, 0.8, 0.9, 0.95, 0.98, 0.99]:#0.5, 0.7,\n",
    "        x, y = line.get_data()\n",
    "        ind = np.argwhere(y >= y_special)[0, 0]  # first index where y is larger than y_special\n",
    "        # x[ind] is the desired x-value\n",
    "        ax.text(x[ind], y_special, f' {x[ind]:.0f}', ha='left', va='top') # maybe color=line.get_color()\n",
    "        ax.axhline(y_special, linestyle='--', color='#cfcfcf', lw=2, alpha=0.75)\n",
    "        thr_wei.append(x[ind])\n",
    "\n",
    "\n",
    "weight_df = pd.DataFrame(np.digitize(weight, thr_wei), columns = ['weight'])\n",
    "weight_df['color'] = ''\n",
    "color_list_rgb_list = get_rgb_color_list('Greens',len(thr_wei)+1)\n",
    "for i in np.arange(len(thr_wei)+1):\n",
    "#     weight_df['weight'].loc[weight_df['weight']==i] = j\n",
    "#     print(i)\n",
    "    weight_df['color'].loc[weight_df['weight']==i] = 'rgb'+str(color_list_rgb_list[i])\n",
    "# weight_df['weight'] = weight_df['weight']\n",
    "\n",
    "    \n",
    "############################################\n",
    "\n",
    "s_w = weight_df['weight'].values#/100\n",
    "#color_list = get_rgb_color_list('BuGn',len(weight))\n",
    "\n",
    "middle_node_trace = go.Scatter(\n",
    "    x=list(),\n",
    "    y=list(),\n",
    "    text=list(),\n",
    "    mode='markers',\n",
    "    hoverinfo='text',\n",
    "    marker=dict(\n",
    "        opacity=0\n",
    "    ),\n",
    "    hoverlabel= dict(bgcolor= '#FFFFFF')\n",
    ")\n",
    "\n",
    "edge_trace=list()\n",
    "n=0\n",
    "m=3\n",
    "for i in np.arange(len(weight)):\n",
    "    edge_trace.append(go.Scatter(x = edge_x[n:m], \n",
    "                               y = edge_y[n:m],\n",
    "                               hoverinfo='none',\n",
    "                               hovertext =' ',\n",
    "                               line=dict(\n",
    "                            color=weight_df['color'].iloc[i],#'rgb(200,200,'+str(2*int(s_w[i]))+')',\n",
    "                            width=s_w[i])\n",
    "                            #width=int(weight[i]))#int(s_w[i]))\n",
    "                            ))\n",
    "    middle_node_trace['x']+=((edge_x[n]+edge_x[n+1])/2,0)\n",
    "    middle_node_trace['y']+=((edge_y[n]+edge_y[n+1])/2,0)\n",
    "    middle_node_trace['text']+=(str(int(weight[i])),0)#+' visits',0)\n",
    "    n=m\n",
    "    m=m+3\n",
    "\n",
    "node_x = []\n",
    "node_y = []\n",
    "for node in G.nodes():\n",
    "    x, y = pos[node]\n",
    "    node_x.append(x)\n",
    "    node_y.append(y)\n",
    "    \n",
    "size_points=pd.DataFrame([node_x,node_y,np.diag(ad_mat)]).T\n",
    "size_points.columns=['x','y','#']\n",
    "size_points['lexicon']= lexicon\n",
    "size_points = size_points.merge(most_freq_df[['word','tag']], left_on='lexicon', right_on='word')\n",
    "size_points.drop('word',axis = 1,inplace = True)\n",
    "\n",
    "for t in np.arange(len(np.unique(size_points['tag']))):\n",
    "    edge_trace.append(px.scatter(size_points,\n",
    "                                     x='x',y='y',\n",
    "                                     size=\"#\",\n",
    "                                     text='lexicon',\n",
    "                                     color = 'tag',\n",
    "        #                              color_discrete_map=color_discrete_map,\n",
    "                                     hover_data= {\n",
    "                                    \"x\": False,   \n",
    "                                    \"y\": False,\n",
    "                                    \"#\": True,\n",
    "                                    \"lexicon\": False,\n",
    "                                    \"tag\": False,\n",
    "                                    }\n",
    "                                ).update_traces(mode='markers+text').data[t])\n",
    "\n",
    "edge_trace.append(middle_node_trace)   \n",
    "\n",
    "\n",
    "\n",
    "fig=go.Figure(data=edge_trace)\n",
    "fig.update_layout(width=1000,height=1000,\n",
    "                  xaxis=dict(showgrid=False, zeroline=False, showticklabels=False),\n",
    "                  yaxis=dict(showgrid=False, zeroline=False, showticklabels=False)) \n",
    "fig.update_layout(showlegend=False,\n",
    "        paper_bgcolor='rgb(255,255,255)',\n",
    "        plot_bgcolor='rgb(255,255,255)',\n",
    "        font=dict(\n",
    "        #family=\"Courier New, monospace\",\n",
    "        size=16,\n",
    "        color=\"RebeccaPurple\"\n",
    "    ))\n",
    "fig.for_each_trace(lambda t: t.update(textposition='top center'))\n",
    "fig.update_layout(font_family=\"Calibri\",width=1000,height=1000)\n",
    "\n",
    "fig.update_layout(\n",
    "    margin=dict(l=0, r=0, t=20, b=0))\n",
    "fig.show()\n",
    "\n",
    "# plot(fig,config=dict(\n",
    "#                     displayModeBar=False\n",
    "#                 ))"
   ]
  },
  {
   "cell_type": "code",
   "execution_count": null,
   "id": "5b89613f",
   "metadata": {},
   "outputs": [],
   "source": []
  }
 ],
 "metadata": {
  "kernelspec": {
   "display_name": "Python 3 (ipykernel)",
   "language": "python",
   "name": "python3"
  },
  "language_info": {
   "codemirror_mode": {
    "name": "ipython",
    "version": 3
   },
   "file_extension": ".py",
   "mimetype": "text/x-python",
   "name": "python",
   "nbconvert_exporter": "python",
   "pygments_lexer": "ipython3",
   "version": "3.9.15"
  },
  "toc": {
   "base_numbering": 1,
   "nav_menu": {},
   "number_sections": true,
   "sideBar": true,
   "skip_h1_title": false,
   "title_cell": "Table of Contents",
   "title_sidebar": "Contents",
   "toc_cell": false,
   "toc_position": {},
   "toc_section_display": true,
   "toc_window_display": false
  }
 },
 "nbformat": 4,
 "nbformat_minor": 5
}
