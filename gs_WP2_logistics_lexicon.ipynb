{
 "cells": [
  {
   "cell_type": "code",
   "execution_count": 1,
   "id": "72c883fa",
   "metadata": {},
   "outputs": [],
   "source": [
    "import numpy as np\n",
    "import pandas as pd\n",
    "import os\n",
    "import matplotlib.pyplot as plt \n",
    "import seaborn as sns\n",
    "import demoji\n",
    "import spacy\n",
    "\n",
    "import plotly.graph_objects as go\n",
    "from PIL import ImageColor, Image\n",
    "from wordcloud import WordCloud, STOPWORDS, ImageColorGenerator\n",
    "import plotly.express as px\n"
   ]
  },
  {
   "cell_type": "code",
   "execution_count": 2,
   "id": "4d05cf5d",
   "metadata": {},
   "outputs": [],
   "source": [
    "# colormaps = ['Accent', 'Accent_r', 'Blues', 'Blues_r', \n",
    "#              'BrBG', 'BrBG_r', 'BuGn', 'BuGn_r', 'BuPu', 'BuPu_r', \n",
    "#              'CMRmap', 'CMRmap_r', 'Dark2', 'Dark2_r', 'GnBu', 'GnBu_r', \n",
    "#              'Greens', 'Greens_r', 'Greys', 'Greys_r', 'OrRd', 'OrRd_r', \n",
    "#              'Oranges', 'Oranges_r', 'PRGn', 'PRGn_r', 'Paired', 'Paired_r', \n",
    "#              'Pastel1', 'Pastel1_r', 'Pastel2', 'Pastel2_r', 'PiYG', 'PiYG_r', \n",
    "#              'PuBu', 'PuBuGn', 'PuBuGn_r', 'PuBu_r', 'PuOr', 'PuOr_r', 'PuRd', 'PuRd_r', \n",
    "#              'Purples', 'Purples_r', 'RdBu', 'RdBu_r', 'RdGy', 'RdGy_r', 'RdPu', 'RdPu_r', \n",
    "#              'RdYlBu', 'RdYlBu_r', 'RdYlGn', 'RdYlGn_r', 'Reds', 'Reds_r', \n",
    "#              'Set1', 'Set1_r', 'Set2', 'Set2_r', 'Set3', 'Set3_r', \n",
    "#              'Spectral', 'Spectral_r', 'Wistia', 'Wistia_r', \n",
    "#              'YlGn', 'YlGnBu', 'YlGnBu_r', 'YlGn_r', 'YlOrBr', 'YlOrBr_r', 'YlOrRd', 'YlOrRd_r', \n",
    "#              'afmhot', 'afmhot_r', 'autumn', 'autumn_r', 'binary', 'binary_r', 'bone', 'bone_r', \n",
    "#              'brg', 'brg_r', 'bwr', 'bwr_r', 'cividis', 'cividis_r', 'cool', 'cool_r', \n",
    "#              'coolwarm', 'coolwarm_r', 'copper', 'copper_r', 'crest', 'crest_r', \n",
    "#              'cubehelix', 'cubehelix_r', 'flag', 'flag_r', 'flare', 'flare_r', \n",
    "#              'gist_earth', 'gist_earth_r', 'gist_gray', 'gist_gray_r', 'gist_heat', 'gist_heat_r', \n",
    "#              'gist_ncar', 'gist_ncar_r', 'gist_rainbow', 'gist_rainbow_r', 'gist_stern', \n",
    "#              'gist_stern_r', 'gist_yarg', 'gist_yarg_r', 'gnuplot', 'gnuplot2', 'gnuplot2_r', \n",
    "#              'gnuplot_r', 'gray', 'gray_r', 'hot', 'hot_r', 'hsv', 'hsv_r', 'icefire', 'icefire_r', \n",
    "#              'inferno', 'inferno_r', 'jet', 'jet_r', 'magma', 'magma_r', 'mako', 'mako_r', \n",
    "#              'nipy_spectral', 'nipy_spectral_r', 'ocean', 'ocean_r', 'pink', 'pink_r', 'plasma', \n",
    "#              'plasma_r', 'prism', 'prism_r', 'rainbow', 'rainbow_r', 'rocket', 'rocket_r', \n",
    "#              'seismic', 'seismic_r', 'spring', 'spring_r', 'summer', 'summer_r', 'tab10', \n",
    "#              'tab10_r', 'tab20', 'tab20_r', 'tab20b', 'tab20b_r', \n",
    "#              'tab20c', 'tab20c_r', 'terrain', 'terrain_r', 'turbo', 'turbo_r', \n",
    "#              'twilight', 'twilight_r', 'twilight_shifted', 'twilight_shifted_r', \n",
    "#              'viridis', 'viridis_r', 'vlag', 'vlag_r', 'winter', 'winter_r']"
   ]
  },
  {
   "cell_type": "markdown",
   "id": "5564a5ca",
   "metadata": {},
   "source": [
    "# Load DataSet and Data Dictionary"
   ]
  },
  {
   "cell_type": "code",
   "execution_count": 3,
   "id": "51e2b8c7",
   "metadata": {},
   "outputs": [
    {
     "data": {
      "text/html": [
       "<div>\n",
       "<style scoped>\n",
       "    .dataframe tbody tr th:only-of-type {\n",
       "        vertical-align: middle;\n",
       "    }\n",
       "\n",
       "    .dataframe tbody tr th {\n",
       "        vertical-align: top;\n",
       "    }\n",
       "\n",
       "    .dataframe thead th {\n",
       "        text-align: right;\n",
       "    }\n",
       "</style>\n",
       "<table border=\"1\" class=\"dataframe\">\n",
       "  <thead>\n",
       "    <tr style=\"text-align: right;\">\n",
       "      <th></th>\n",
       "      <th>name</th>\n",
       "      <th>type_company</th>\n",
       "      <th>website</th>\n",
       "      <th>lat</th>\n",
       "      <th>lon</th>\n",
       "      <th>city</th>\n",
       "      <th>avg_stars_num</th>\n",
       "      <th>n_reviews_num</th>\n",
       "      <th>encoded_user</th>\n",
       "      <th>local_guide</th>\n",
       "      <th>clean_other_review_num</th>\n",
       "      <th>published_date</th>\n",
       "      <th>today_date</th>\n",
       "      <th>stars_num</th>\n",
       "      <th>review_EN</th>\n",
       "      <th>original_lang</th>\n",
       "    </tr>\n",
       "  </thead>\n",
       "  <tbody>\n",
       "    <tr>\n",
       "      <th>0</th>\n",
       "      <td>Caretrex warehousing &amp; logistics</td>\n",
       "      <td>Logistics service</td>\n",
       "      <td>http://www.caretrex.com/</td>\n",
       "      <td>51.593721</td>\n",
       "      <td>5.073492</td>\n",
       "      <td>Tilburg</td>\n",
       "      <td>5.0</td>\n",
       "      <td>2.0</td>\n",
       "      <td>HHpDM</td>\n",
       "      <td>0.0</td>\n",
       "      <td>4.0</td>\n",
       "      <td>2 years ago</td>\n",
       "      <td>2022-09-24</td>\n",
       "      <td>5.0</td>\n",
       "      <td>NaN</td>\n",
       "      <td>NaN</td>\n",
       "    </tr>\n",
       "    <tr>\n",
       "      <th>1</th>\n",
       "      <td>Caretrex warehousing &amp; logistics</td>\n",
       "      <td>Logistics service</td>\n",
       "      <td>http://www.caretrex.com/</td>\n",
       "      <td>51.593721</td>\n",
       "      <td>5.073492</td>\n",
       "      <td>Tilburg</td>\n",
       "      <td>5.0</td>\n",
       "      <td>2.0</td>\n",
       "      <td>dYFWx</td>\n",
       "      <td>0.0</td>\n",
       "      <td>1.0</td>\n",
       "      <td>5 years ago</td>\n",
       "      <td>2022-09-24</td>\n",
       "      <td>5.0</td>\n",
       "      <td>NaN</td>\n",
       "      <td>NaN</td>\n",
       "    </tr>\n",
       "    <tr>\n",
       "      <th>2</th>\n",
       "      <td>FEFA Logistics</td>\n",
       "      <td>Trucking company</td>\n",
       "      <td>http://www.fefalogistics.nl/</td>\n",
       "      <td>51.480074</td>\n",
       "      <td>5.446764</td>\n",
       "      <td>Eindhoven</td>\n",
       "      <td>NaN</td>\n",
       "      <td>NaN</td>\n",
       "      <td>NaN</td>\n",
       "      <td>NaN</td>\n",
       "      <td>NaN</td>\n",
       "      <td>NaN</td>\n",
       "      <td>NaN</td>\n",
       "      <td>NaN</td>\n",
       "      <td>NaN</td>\n",
       "      <td>NaN</td>\n",
       "    </tr>\n",
       "    <tr>\n",
       "      <th>3</th>\n",
       "      <td>Dekkers Transport Holland</td>\n",
       "      <td>Trucking company</td>\n",
       "      <td>http://www.dekkerstransport.nl/</td>\n",
       "      <td>51.597249</td>\n",
       "      <td>5.027990</td>\n",
       "      <td>Tilburg</td>\n",
       "      <td>4.6</td>\n",
       "      <td>53.0</td>\n",
       "      <td>Pp1)c</td>\n",
       "      <td>0.0</td>\n",
       "      <td>5.0</td>\n",
       "      <td>a year ago</td>\n",
       "      <td>2022-09-24</td>\n",
       "      <td>5.0</td>\n",
       "      <td>Best employer ever. Worked there for approxima...</td>\n",
       "      <td>ENG</td>\n",
       "    </tr>\n",
       "    <tr>\n",
       "      <th>4</th>\n",
       "      <td>Dekkers Transport Holland</td>\n",
       "      <td>Trucking company</td>\n",
       "      <td>http://www.dekkerstransport.nl/</td>\n",
       "      <td>51.597249</td>\n",
       "      <td>5.027990</td>\n",
       "      <td>Tilburg</td>\n",
       "      <td>4.6</td>\n",
       "      <td>53.0</td>\n",
       "      <td>*nk1l</td>\n",
       "      <td>0.0</td>\n",
       "      <td>2.0</td>\n",
       "      <td>a year ago</td>\n",
       "      <td>2022-09-24</td>\n",
       "      <td>5.0</td>\n",
       "      <td>better place with very good people everything ...</td>\n",
       "      <td>ENG</td>\n",
       "    </tr>\n",
       "  </tbody>\n",
       "</table>\n",
       "</div>"
      ],
      "text/plain": [
       "                               name       type_company  \\\n",
       "0  Caretrex warehousing & logistics  Logistics service   \n",
       "1  Caretrex warehousing & logistics  Logistics service   \n",
       "2                    FEFA Logistics   Trucking company   \n",
       "3         Dekkers Transport Holland   Trucking company   \n",
       "4         Dekkers Transport Holland   Trucking company   \n",
       "\n",
       "                           website        lat       lon       city  \\\n",
       "0         http://www.caretrex.com/  51.593721  5.073492    Tilburg   \n",
       "1         http://www.caretrex.com/  51.593721  5.073492    Tilburg   \n",
       "2     http://www.fefalogistics.nl/  51.480074  5.446764  Eindhoven   \n",
       "3  http://www.dekkerstransport.nl/  51.597249  5.027990    Tilburg   \n",
       "4  http://www.dekkerstransport.nl/  51.597249  5.027990    Tilburg   \n",
       "\n",
       "   avg_stars_num  n_reviews_num encoded_user  local_guide  \\\n",
       "0            5.0            2.0        HHpDM          0.0   \n",
       "1            5.0            2.0        dYFWx          0.0   \n",
       "2            NaN            NaN          NaN          NaN   \n",
       "3            4.6           53.0        Pp1)c          0.0   \n",
       "4            4.6           53.0        *nk1l          0.0   \n",
       "\n",
       "   clean_other_review_num published_date  today_date  stars_num  \\\n",
       "0                     4.0    2 years ago  2022-09-24        5.0   \n",
       "1                     1.0    5 years ago  2022-09-24        5.0   \n",
       "2                     NaN            NaN         NaN        NaN   \n",
       "3                     5.0     a year ago  2022-09-24        5.0   \n",
       "4                     2.0     a year ago  2022-09-24        5.0   \n",
       "\n",
       "                                           review_EN original_lang  \n",
       "0                                                NaN           NaN  \n",
       "1                                                NaN           NaN  \n",
       "2                                                NaN           NaN  \n",
       "3  Best employer ever. Worked there for approxima...           ENG  \n",
       "4  better place with very good people everything ...           ENG  "
      ]
     },
     "execution_count": 3,
     "metadata": {},
     "output_type": "execute_result"
    }
   ],
   "source": [
    "# main_dir = \n",
    "Dataset_name = 'TechLabsDataset.csv' \n",
    "DataDictionary_name = 'TechLabsDataset_Dictionary.csv'\n",
    "\n",
    "Dataset = pd.read_csv(os.path.join('./Data/',Dataset_name), index_col = 0)\n",
    "DataDictionary = pd.read_csv(os.path.join('./Data/',DataDictionary_name), index_col = 0)\n",
    "Dataset.head()"
   ]
  },
  {
   "cell_type": "code",
   "execution_count": 4,
   "id": "0aeaec1f",
   "metadata": {},
   "outputs": [
    {
     "data": {
      "text/html": [
       "<div>\n",
       "<style scoped>\n",
       "    .dataframe tbody tr th:only-of-type {\n",
       "        vertical-align: middle;\n",
       "    }\n",
       "\n",
       "    .dataframe tbody tr th {\n",
       "        vertical-align: top;\n",
       "    }\n",
       "\n",
       "    .dataframe thead th {\n",
       "        text-align: right;\n",
       "    }\n",
       "</style>\n",
       "<table border=\"1\" class=\"dataframe\">\n",
       "  <thead>\n",
       "    <tr style=\"text-align: right;\">\n",
       "      <th></th>\n",
       "      <th>review_EN</th>\n",
       "    </tr>\n",
       "  </thead>\n",
       "  <tbody>\n",
       "    <tr>\n",
       "      <th>3</th>\n",
       "      <td>Best employer ever. Worked there for approxima...</td>\n",
       "    </tr>\n",
       "    <tr>\n",
       "      <th>4</th>\n",
       "      <td>better place with very good people everything ...</td>\n",
       "    </tr>\n",
       "    <tr>\n",
       "      <th>5</th>\n",
       "      <td>Nice</td>\n",
       "    </tr>\n",
       "    <tr>\n",
       "      <th>6</th>\n",
       "      <td>Good firm. The staff are very welcoming and f...</td>\n",
       "    </tr>\n",
       "    <tr>\n",
       "      <th>7</th>\n",
       "      <td>Top company, and coffee, so recommended\\n\\n</td>\n",
       "    </tr>\n",
       "  </tbody>\n",
       "</table>\n",
       "</div>"
      ],
      "text/plain": [
       "                                           review_EN\n",
       "3  Best employer ever. Worked there for approxima...\n",
       "4  better place with very good people everything ...\n",
       "5                                               Nice\n",
       "6   Good firm. The staff are very welcoming and f...\n",
       "7        Top company, and coffee, so recommended\\n\\n"
      ]
     },
     "execution_count": 4,
     "metadata": {},
     "output_type": "execute_result"
    }
   ],
   "source": [
    "review_df = pd.DataFrame(Dataset[~Dataset['review_EN'].isnull()]['review_EN'])\n",
    "review_df.head()\n"
   ]
  },
  {
   "cell_type": "code",
   "execution_count": 5,
   "id": "d5d8e532",
   "metadata": {},
   "outputs": [],
   "source": [
    "# find emo\n",
    "def find_emo(text):\n",
    "    # find emoji and add to list\n",
    "    all_emoji = demoji.findall(text)\n",
    "    emo = ''\n",
    "    if len(all_emoji)>0:\n",
    "        for i,j in enumerate(all_emoji):\n",
    "            # list emo\n",
    "            emo = emo+','+all_emoji[j]\n",
    "    return emo\n",
    "\n",
    "\n",
    "# replace emo with empty text\n",
    "def replace_emo(text):\n",
    "    # find emo and replce with empty text\n",
    "    all_emoji = demoji.findall(text)\n",
    "\n",
    "    if len(all_emoji)>0:\n",
    "        for i,j in enumerate(all_emoji):\n",
    "            text = text.replace(j,'')\n",
    "    return text"
   ]
  },
  {
   "cell_type": "code",
   "execution_count": 6,
   "id": "dc1f4fb3",
   "metadata": {},
   "outputs": [],
   "source": [
    "# add emo\n",
    "review_df['emo'] = review_df['review_EN'].apply(lambda x: find_emo(x))"
   ]
  },
  {
   "cell_type": "code",
   "execution_count": 7,
   "id": "267c7c4c",
   "metadata": {},
   "outputs": [
    {
     "data": {
      "text/html": [
       "<div>\n",
       "<style scoped>\n",
       "    .dataframe tbody tr th:only-of-type {\n",
       "        vertical-align: middle;\n",
       "    }\n",
       "\n",
       "    .dataframe tbody tr th {\n",
       "        vertical-align: top;\n",
       "    }\n",
       "\n",
       "    .dataframe thead th {\n",
       "        text-align: right;\n",
       "    }\n",
       "</style>\n",
       "<table border=\"1\" class=\"dataframe\">\n",
       "  <thead>\n",
       "    <tr style=\"text-align: right;\">\n",
       "      <th></th>\n",
       "      <th>review_EN</th>\n",
       "      <th>emo</th>\n",
       "    </tr>\n",
       "  </thead>\n",
       "  <tbody>\n",
       "    <tr>\n",
       "      <th>3</th>\n",
       "      <td>Best employer ever. Worked there for approxima...</td>\n",
       "      <td></td>\n",
       "    </tr>\n",
       "    <tr>\n",
       "      <th>4</th>\n",
       "      <td>better place with very good people everything ...</td>\n",
       "      <td></td>\n",
       "    </tr>\n",
       "    <tr>\n",
       "      <th>5</th>\n",
       "      <td>Nice</td>\n",
       "      <td></td>\n",
       "    </tr>\n",
       "    <tr>\n",
       "      <th>6</th>\n",
       "      <td>Good firm. The staff are very welcoming and f...</td>\n",
       "      <td></td>\n",
       "    </tr>\n",
       "    <tr>\n",
       "      <th>7</th>\n",
       "      <td>Top company, and coffee, so recommended\\n\\n</td>\n",
       "      <td></td>\n",
       "    </tr>\n",
       "  </tbody>\n",
       "</table>\n",
       "</div>"
      ],
      "text/plain": [
       "                                           review_EN emo\n",
       "3  Best employer ever. Worked there for approxima...    \n",
       "4  better place with very good people everything ...    \n",
       "5                                               Nice    \n",
       "6   Good firm. The staff are very welcoming and f...    \n",
       "7        Top company, and coffee, so recommended\\n\\n    "
      ]
     },
     "execution_count": 7,
     "metadata": {},
     "output_type": "execute_result"
    }
   ],
   "source": [
    "review_df.head()"
   ]
  },
  {
   "cell_type": "code",
   "execution_count": 8,
   "id": "59411bd2",
   "metadata": {},
   "outputs": [],
   "source": [
    "# add review with no emo\n",
    "review_df['review_no_emo'] = review_df['review_EN'].apply(lambda x: replace_emo(x))\n",
    "# review_df[review_df['emo']!=''][['review_no_emo','emo']]"
   ]
  },
  {
   "cell_type": "code",
   "execution_count": 9,
   "id": "984c3ba3",
   "metadata": {},
   "outputs": [
    {
     "data": {
      "text/html": [
       "<div>\n",
       "<style scoped>\n",
       "    .dataframe tbody tr th:only-of-type {\n",
       "        vertical-align: middle;\n",
       "    }\n",
       "\n",
       "    .dataframe tbody tr th {\n",
       "        vertical-align: top;\n",
       "    }\n",
       "\n",
       "    .dataframe thead th {\n",
       "        text-align: right;\n",
       "    }\n",
       "</style>\n",
       "<table border=\"1\" class=\"dataframe\">\n",
       "  <thead>\n",
       "    <tr style=\"text-align: right;\">\n",
       "      <th></th>\n",
       "      <th>review_EN</th>\n",
       "      <th>emo</th>\n",
       "      <th>review_no_emo</th>\n",
       "    </tr>\n",
       "  </thead>\n",
       "  <tbody>\n",
       "    <tr>\n",
       "      <th>3</th>\n",
       "      <td>Best employer ever. Worked there for approxima...</td>\n",
       "      <td></td>\n",
       "      <td>Best employer ever. Worked there for approxima...</td>\n",
       "    </tr>\n",
       "    <tr>\n",
       "      <th>4</th>\n",
       "      <td>better place with very good people everything ...</td>\n",
       "      <td></td>\n",
       "      <td>better place with very good people everything ...</td>\n",
       "    </tr>\n",
       "    <tr>\n",
       "      <th>5</th>\n",
       "      <td>Nice</td>\n",
       "      <td></td>\n",
       "      <td>Nice</td>\n",
       "    </tr>\n",
       "    <tr>\n",
       "      <th>6</th>\n",
       "      <td>Good firm. The staff are very welcoming and f...</td>\n",
       "      <td></td>\n",
       "      <td>Good firm. The staff are very welcoming and f...</td>\n",
       "    </tr>\n",
       "    <tr>\n",
       "      <th>7</th>\n",
       "      <td>Top company, and coffee, so recommended\\n\\n</td>\n",
       "      <td></td>\n",
       "      <td>Top company, and coffee, so recommended\\n\\n</td>\n",
       "    </tr>\n",
       "  </tbody>\n",
       "</table>\n",
       "</div>"
      ],
      "text/plain": [
       "                                           review_EN emo  \\\n",
       "3  Best employer ever. Worked there for approxima...       \n",
       "4  better place with very good people everything ...       \n",
       "5                                               Nice       \n",
       "6   Good firm. The staff are very welcoming and f...       \n",
       "7        Top company, and coffee, so recommended\\n\\n       \n",
       "\n",
       "                                       review_no_emo  \n",
       "3  Best employer ever. Worked there for approxima...  \n",
       "4  better place with very good people everything ...  \n",
       "5                                               Nice  \n",
       "6   Good firm. The staff are very welcoming and f...  \n",
       "7        Top company, and coffee, so recommended\\n\\n  "
      ]
     },
     "execution_count": 9,
     "metadata": {},
     "output_type": "execute_result"
    }
   ],
   "source": [
    "review_df.head()"
   ]
  },
  {
   "cell_type": "markdown",
   "id": "17427550",
   "metadata": {},
   "source": [
    "# NLP pre-processing on review_df['review_no_emo']\n"
   ]
  },
  {
   "cell_type": "code",
   "execution_count": 10,
   "id": "510f0781",
   "metadata": {},
   "outputs": [],
   "source": [
    "# get clean lemmas\n",
    "def get_clean_lemma(text):  \n",
    "    text = [token.lemma_ for token in nlp(text.lower()) if\n",
    "                  not token.is_punct\n",
    "                  and not token.is_currency\n",
    "                  and not token.is_digit\n",
    "                  and not token.is_punct\n",
    "    #               and not token.is_oov# is out of vocabulary\n",
    "                  and not token.is_space\n",
    "                  and not token.is_stop\n",
    "                  and not token.like_num\n",
    "                  and not token.pos_ in ['SYM','SPACE',#'ADJ',\n",
    "                                         'SCONJ','PUNCT', 'X', 'ADP',\n",
    "                                         'AUX','CCONJ','DET','INTJ',\n",
    "                                         'NUM','PART','PRON']\n",
    "                          ]\n",
    "    return text\n",
    "\n",
    "\n"
   ]
  },
  {
   "cell_type": "code",
   "execution_count": 11,
   "id": "1fab2921",
   "metadata": {},
   "outputs": [],
   "source": [
    "\n",
    "# check attribute of token in spacy: https://spacy.io/api/token\n",
    "\n",
    "# list of stop words in spacy\n",
    "# spacy_stopwords = spacy.lang.en.stop_words.STOP_WORDS\n",
    "# print('Number of stop words: %d' % len(spacy_stopwords))\n",
    "# print('First ten stop words: %s' % list(spacy_stopwords))\n",
    "\n",
    "nlp = spacy.load(\"en_core_web_sm\")\n",
    "\n",
    "review_df['text_lemmas'] = review_df['review_no_emo'].apply(lambda x: get_clean_lemma(x))\n"
   ]
  },
  {
   "cell_type": "code",
   "execution_count": 12,
   "id": "96b2f854",
   "metadata": {},
   "outputs": [
    {
     "data": {
      "text/html": [
       "<div>\n",
       "<style scoped>\n",
       "    .dataframe tbody tr th:only-of-type {\n",
       "        vertical-align: middle;\n",
       "    }\n",
       "\n",
       "    .dataframe tbody tr th {\n",
       "        vertical-align: top;\n",
       "    }\n",
       "\n",
       "    .dataframe thead th {\n",
       "        text-align: right;\n",
       "    }\n",
       "</style>\n",
       "<table border=\"1\" class=\"dataframe\">\n",
       "  <thead>\n",
       "    <tr style=\"text-align: right;\">\n",
       "      <th></th>\n",
       "      <th>review_EN</th>\n",
       "      <th>emo</th>\n",
       "      <th>review_no_emo</th>\n",
       "      <th>text_lemmas</th>\n",
       "    </tr>\n",
       "  </thead>\n",
       "  <tbody>\n",
       "    <tr>\n",
       "      <th>3</th>\n",
       "      <td>Best employer ever. Worked there for approxima...</td>\n",
       "      <td></td>\n",
       "      <td>Best employer ever. Worked there for approxima...</td>\n",
       "      <td>[good, employer, work, approximately, year, ti...</td>\n",
       "    </tr>\n",
       "    <tr>\n",
       "      <th>4</th>\n",
       "      <td>better place with very good people everything ...</td>\n",
       "      <td></td>\n",
       "      <td>better place with very good people everything ...</td>\n",
       "      <td>[well, place, good, people, perfect]</td>\n",
       "    </tr>\n",
       "    <tr>\n",
       "      <th>5</th>\n",
       "      <td>Nice</td>\n",
       "      <td></td>\n",
       "      <td>Nice</td>\n",
       "      <td>[nice]</td>\n",
       "    </tr>\n",
       "    <tr>\n",
       "      <th>6</th>\n",
       "      <td>Good firm. The staff are very welcoming and f...</td>\n",
       "      <td></td>\n",
       "      <td>Good firm. The staff are very welcoming and f...</td>\n",
       "      <td>[good, firm, staff, welcoming, friendly, thank...</td>\n",
       "    </tr>\n",
       "    <tr>\n",
       "      <th>7</th>\n",
       "      <td>Top company, and coffee, so recommended\\n\\n</td>\n",
       "      <td></td>\n",
       "      <td>Top company, and coffee, so recommended\\n\\n</td>\n",
       "      <td>[company, coffee, recommend]</td>\n",
       "    </tr>\n",
       "  </tbody>\n",
       "</table>\n",
       "</div>"
      ],
      "text/plain": [
       "                                           review_EN emo  \\\n",
       "3  Best employer ever. Worked there for approxima...       \n",
       "4  better place with very good people everything ...       \n",
       "5                                               Nice       \n",
       "6   Good firm. The staff are very welcoming and f...       \n",
       "7        Top company, and coffee, so recommended\\n\\n       \n",
       "\n",
       "                                       review_no_emo  \\\n",
       "3  Best employer ever. Worked there for approxima...   \n",
       "4  better place with very good people everything ...   \n",
       "5                                               Nice   \n",
       "6   Good firm. The staff are very welcoming and f...   \n",
       "7        Top company, and coffee, so recommended\\n\\n   \n",
       "\n",
       "                                         text_lemmas  \n",
       "3  [good, employer, work, approximately, year, ti...  \n",
       "4               [well, place, good, people, perfect]  \n",
       "5                                             [nice]  \n",
       "6  [good, firm, staff, welcoming, friendly, thank...  \n",
       "7                       [company, coffee, recommend]  "
      ]
     },
     "execution_count": 12,
     "metadata": {},
     "output_type": "execute_result"
    }
   ],
   "source": [
    "review_df.head()"
   ]
  },
  {
   "cell_type": "code",
   "execution_count": 13,
   "id": "f4778309",
   "metadata": {},
   "outputs": [],
   "source": [
    "\n",
    "concatenate_all_tokens = sum(review_df['text_lemmas'].tolist(),[])\n",
    "from collections import Counter\n",
    "\n",
    "\n",
    "word_counts = Counter(concatenate_all_tokens)\n"
   ]
  },
  {
   "cell_type": "code",
   "execution_count": 14,
   "id": "735c36a6",
   "metadata": {},
   "outputs": [],
   "source": [
    "word_counts_df = pd.DataFrame.from_dict(word_counts, orient='index').reset_index()\n",
    "word_counts_df.columns = ['word','#']\n",
    "word_counts_df.sort_values('#',ascending = False, inplace = True)\n"
   ]
  },
  {
   "cell_type": "code",
   "execution_count": 15,
   "id": "3e3f46ba",
   "metadata": {},
   "outputs": [
    {
     "data": {
      "text/html": [
       "<div>\n",
       "<style scoped>\n",
       "    .dataframe tbody tr th:only-of-type {\n",
       "        vertical-align: middle;\n",
       "    }\n",
       "\n",
       "    .dataframe tbody tr th {\n",
       "        vertical-align: top;\n",
       "    }\n",
       "\n",
       "    .dataframe thead th {\n",
       "        text-align: right;\n",
       "    }\n",
       "</style>\n",
       "<table border=\"1\" class=\"dataframe\">\n",
       "  <thead>\n",
       "    <tr style=\"text-align: right;\">\n",
       "      <th></th>\n",
       "      <th>word</th>\n",
       "      <th>#</th>\n",
       "    </tr>\n",
       "  </thead>\n",
       "  <tbody>\n",
       "    <tr>\n",
       "      <th>32</th>\n",
       "      <td>company</td>\n",
       "      <td>769</td>\n",
       "    </tr>\n",
       "    <tr>\n",
       "      <th>0</th>\n",
       "      <td>good</td>\n",
       "      <td>582</td>\n",
       "    </tr>\n",
       "    <tr>\n",
       "      <th>5</th>\n",
       "      <td>time</td>\n",
       "      <td>529</td>\n",
       "    </tr>\n",
       "    <tr>\n",
       "      <th>93</th>\n",
       "      <td>delivery</td>\n",
       "      <td>482</td>\n",
       "    </tr>\n",
       "    <tr>\n",
       "      <th>70</th>\n",
       "      <td>driver</td>\n",
       "      <td>430</td>\n",
       "    </tr>\n",
       "    <tr>\n",
       "      <th>...</th>\n",
       "      <td>...</td>\n",
       "      <td>...</td>\n",
       "    </tr>\n",
       "    <tr>\n",
       "      <th>2123</th>\n",
       "      <td>portable</td>\n",
       "      <td>1</td>\n",
       "    </tr>\n",
       "    <tr>\n",
       "      <th>2120</th>\n",
       "      <td>cycle</td>\n",
       "      <td>1</td>\n",
       "    </tr>\n",
       "    <tr>\n",
       "      <th>2118</th>\n",
       "      <td>requirement</td>\n",
       "      <td>1</td>\n",
       "    </tr>\n",
       "    <tr>\n",
       "      <th>2113</th>\n",
       "      <td>transportcompany</td>\n",
       "      <td>1</td>\n",
       "    </tr>\n",
       "    <tr>\n",
       "      <th>3668</th>\n",
       "      <td>unique</td>\n",
       "      <td>1</td>\n",
       "    </tr>\n",
       "  </tbody>\n",
       "</table>\n",
       "<p>3669 rows × 2 columns</p>\n",
       "</div>"
      ],
      "text/plain": [
       "                  word    #\n",
       "32             company  769\n",
       "0                 good  582\n",
       "5                 time  529\n",
       "93            delivery  482\n",
       "70              driver  430\n",
       "...                ...  ...\n",
       "2123          portable    1\n",
       "2120             cycle    1\n",
       "2118       requirement    1\n",
       "2113  transportcompany    1\n",
       "3668            unique    1\n",
       "\n",
       "[3669 rows x 2 columns]"
      ]
     },
     "execution_count": 15,
     "metadata": {},
     "output_type": "execute_result"
    }
   ],
   "source": [
    "word_counts_df"
   ]
  },
  {
   "cell_type": "code",
   "execution_count": 16,
   "id": "0438fcb2",
   "metadata": {},
   "outputs": [],
   "source": [
    "word_counts_df['tag'] = word_counts_df['word'].apply(lambda x: nlp(x)[0].pos_)"
   ]
  },
  {
   "cell_type": "code",
   "execution_count": 17,
   "id": "619d535b",
   "metadata": {},
   "outputs": [],
   "source": [
    "word_counts_df = word_counts_df[~word_counts_df['tag'].isin(['SYM','SPACE','ADJ',\n",
    "                                         'SCONJ','PUNCT', 'X', 'ADP',\n",
    "                                         'AUX','CCONJ','DET','INTJ',\n",
    "                                         'NUM','PART','PRON','PROPN'])]\n",
    "\n"
   ]
  },
  {
   "cell_type": "code",
   "execution_count": 18,
   "id": "770c23b7",
   "metadata": {},
   "outputs": [
    {
     "name": "stderr",
     "output_type": "stream",
     "text": [
      "/var/folders/6d/dgjgypyn24x1lv9vc5gs38p00000gp/T/ipykernel_97057/579942042.py:14: UserWarning: \n",
      "\n",
      "`distplot` is a deprecated function and will be removed in seaborn v0.14.0.\n",
      "\n",
      "Please adapt your code to use either `displot` (a figure-level function with\n",
      "similar flexibility) or `histplot` (an axes-level function for histograms).\n",
      "\n",
      "For a guide to updating your code to use the new functions, please see\n",
      "https://gist.github.com/mwaskom/de44147ed2974457ad6372750bbe5751\n",
      "\n",
      "  sns.distplot(x = word_counts_df['#'], bins = 200,ax = ax[1])\n"
     ]
    },
    {
     "data": {
      "text/plain": [
       "(0.0, 200.0)"
      ]
     },
     "execution_count": 18,
     "metadata": {},
     "output_type": "execute_result"
    },
    {
     "data": {
      "image/png": "[encoded data removed]",
      "text/plain": [
       "<Figure size 1080x360 with 2 Axes>"
      ]
     },
     "metadata": {
      "needs_background": "light"
     },
     "output_type": "display_data"
    }
   ],
   "source": [
    "fig,ax = plt.subplots(1,2, figsize = (15,5))\n",
    "sns.ecdfplot(data = word_counts_df,x = '#',ax = ax[0])\n",
    "\n",
    "for line in ax[0].get_lines():\n",
    "        \n",
    "    for y_special in [0.5, 0.7, 0.8, 0.9, 0.95, 0.98, 0.99]:\n",
    "        x, y = line.get_data()\n",
    "        ind = np.argwhere(y >= y_special)[0, 0]  # first index where y is larger than y_special\n",
    "        # x[ind] is the desired x-value\n",
    "        ax[0].text(x[ind], y_special, f' {x[ind]:.0f}', ha='left', va='top') # maybe color=line.get_color()\n",
    "        ax[0].axhline(y_special, linestyle='--', color='#cfcfcf', lw=2, alpha=0.75)\n",
    "ax[0].set_xlim([0,200])\n",
    "\n",
    "sns.distplot(x = word_counts_df['#'], bins = 200,ax = ax[1])\n",
    "ax[1].set_xlim([0,200])\n",
    "\n",
    "# ax[0].axline((0, 0.5), slope=0, color='r')\n",
    "# ax[0].axline((0, 0.8), slope=0, color='r')\n",
    "# ax[0].axline((10, 0), slope=90, color='r')\n",
    "# ax[0].axline((20, 0), slope=90, color='r')"
   ]
  },
  {
   "cell_type": "code",
   "execution_count": 19,
   "id": "3616d059",
   "metadata": {},
   "outputs": [
    {
     "name": "stdout",
     "output_type": "stream",
     "text": [
      "['ADV' 'NOUN' 'VERB']\n"
     ]
    }
   ],
   "source": [
    "print(np.unique(word_counts_df['tag']))\n"
   ]
  },
  {
   "cell_type": "code",
   "execution_count": 20,
   "id": "dff1a151",
   "metadata": {},
   "outputs": [],
   "source": [
    "freq_thr = int(x[ind])\n",
    "most_freq_df = pd.DataFrame([])\n",
    "\n",
    "for i in np.unique(word_counts_df['tag']):\n",
    "    most_freq_df = pd.concat([most_freq_df,\n",
    "                               word_counts_df[(word_counts_df['tag']==i) & (word_counts_df['#']>=freq_thr)]],\n",
    "                             axis = 0)\n"
   ]
  },
  {
   "cell_type": "code",
   "execution_count": 21,
   "id": "39a16f0c",
   "metadata": {},
   "outputs": [
    {
     "data": {
      "text/plain": [
       "(26, 3)"
      ]
     },
     "execution_count": 21,
     "metadata": {},
     "output_type": "execute_result"
    }
   ],
   "source": [
    "most_freq_df.shape"
   ]
  },
  {
   "cell_type": "code",
   "execution_count": 22,
   "id": "8947a102",
   "metadata": {},
   "outputs": [],
   "source": [
    "\n",
    "remove =['spreuwel','mediamarkt','hornbach','netherlands','english',\n",
    "         'nl','eindhoven','germany','deliverer','quantum','ea','logistic',\n",
    "         'company','pm','p.m.','am','a.m.','work','super','thank']\n",
    "most_freq_df = most_freq_df[~most_freq_df['word'].isin(remove)]\n",
    "most_freq_df.loc[most_freq_df['word']=='cmr','tag'] = 'NOUN'"
   ]
  },
  {
   "cell_type": "code",
   "execution_count": 23,
   "id": "418c23d0",
   "metadata": {},
   "outputs": [
    {
     "data": {
      "text/html": [
       "<div>\n",
       "<style scoped>\n",
       "    .dataframe tbody tr th:only-of-type {\n",
       "        vertical-align: middle;\n",
       "    }\n",
       "\n",
       "    .dataframe tbody tr th {\n",
       "        vertical-align: top;\n",
       "    }\n",
       "\n",
       "    .dataframe thead th {\n",
       "        text-align: right;\n",
       "    }\n",
       "</style>\n",
       "<table border=\"1\" class=\"dataframe\">\n",
       "  <thead>\n",
       "    <tr style=\"text-align: right;\">\n",
       "      <th></th>\n",
       "      <th>word</th>\n",
       "      <th>#</th>\n",
       "      <th>tag</th>\n",
       "    </tr>\n",
       "  </thead>\n",
       "  <tbody>\n",
       "  </tbody>\n",
       "</table>\n",
       "</div>"
      ],
      "text/plain": [
       "Empty DataFrame\n",
       "Columns: [word, #, tag]\n",
       "Index: []"
      ]
     },
     "execution_count": 23,
     "metadata": {},
     "output_type": "execute_result"
    }
   ],
   "source": [
    "most_freq_df.loc[most_freq_df['word']=='cmr']"
   ]
  },
  {
   "cell_type": "code",
   "execution_count": 24,
   "id": "d5f0f109",
   "metadata": {},
   "outputs": [
    {
     "data": {
      "text/plain": [
       "23"
      ]
     },
     "execution_count": 24,
     "metadata": {},
     "output_type": "execute_result"
    }
   ],
   "source": [
    "most_freq_df['tag'].value_counts().sum()"
   ]
  },
  {
   "cell_type": "code",
   "execution_count": 25,
   "id": "374b8c56",
   "metadata": {},
   "outputs": [
    {
     "data": {
      "text/plain": [
       "NOUN    14\n",
       "VERB     6\n",
       "ADV      3\n",
       "Name: tag, dtype: int64"
      ]
     },
     "execution_count": 25,
     "metadata": {},
     "output_type": "execute_result"
    }
   ],
   "source": [
    "# aggregate words having same count\n",
    "agg_words_df = pd.DataFrame([])\n",
    "for i in np.unique(most_freq_df['tag']):\n",
    "    aggre_df = pd.DataFrame(most_freq_df[most_freq_df['tag']==i].groupby('#')['word'].apply(list))\n",
    "    aggre_df['#'] = np.unique(most_freq_df[most_freq_df['tag']==i]['#'])\n",
    "    aggre_df['tag'] = i\n",
    "    agg_words_df = pd.concat([agg_words_df,aggre_df], axis= 0)\n",
    "agg_words_df['word_list'] = agg_words_df['word'].apply(lambda x: ', '.join(map(str,x)))\n",
    "agg_words_df['tag'].value_counts() "
   ]
  },
  {
   "cell_type": "code",
   "execution_count": 26,
   "id": "c4078abe",
   "metadata": {},
   "outputs": [
    {
     "data": {
      "text/html": [
       "<div>\n",
       "<style scoped>\n",
       "    .dataframe tbody tr th:only-of-type {\n",
       "        vertical-align: middle;\n",
       "    }\n",
       "\n",
       "    .dataframe tbody tr th {\n",
       "        vertical-align: top;\n",
       "    }\n",
       "\n",
       "    .dataframe thead th {\n",
       "        text-align: right;\n",
       "    }\n",
       "</style>\n",
       "<table border=\"1\" class=\"dataframe\">\n",
       "  <thead>\n",
       "    <tr style=\"text-align: right;\">\n",
       "      <th></th>\n",
       "      <th>word</th>\n",
       "      <th>#</th>\n",
       "      <th>tag</th>\n",
       "      <th>word_list</th>\n",
       "    </tr>\n",
       "    <tr>\n",
       "      <th>#</th>\n",
       "      <th></th>\n",
       "      <th></th>\n",
       "      <th></th>\n",
       "      <th></th>\n",
       "    </tr>\n",
       "  </thead>\n",
       "  <tbody>\n",
       "    <tr>\n",
       "      <th>152</th>\n",
       "      <td>[long]</td>\n",
       "      <td>152</td>\n",
       "      <td>ADV</td>\n",
       "      <td>long</td>\n",
       "    </tr>\n",
       "    <tr>\n",
       "      <th>197</th>\n",
       "      <td>[quickly]</td>\n",
       "      <td>197</td>\n",
       "      <td>ADV</td>\n",
       "      <td>quickly</td>\n",
       "    </tr>\n",
       "    <tr>\n",
       "      <th>378</th>\n",
       "      <td>[fast]</td>\n",
       "      <td>378</td>\n",
       "      <td>ADV</td>\n",
       "      <td>fast</td>\n",
       "    </tr>\n",
       "    <tr>\n",
       "      <th>144</th>\n",
       "      <td>[toilet]</td>\n",
       "      <td>144</td>\n",
       "      <td>NOUN</td>\n",
       "      <td>toilet</td>\n",
       "    </tr>\n",
       "    <tr>\n",
       "      <th>156</th>\n",
       "      <td>[coffee]</td>\n",
       "      <td>156</td>\n",
       "      <td>NOUN</td>\n",
       "      <td>coffee</td>\n",
       "    </tr>\n",
       "    <tr>\n",
       "      <th>163</th>\n",
       "      <td>[place]</td>\n",
       "      <td>163</td>\n",
       "      <td>NOUN</td>\n",
       "      <td>place</td>\n",
       "    </tr>\n",
       "    <tr>\n",
       "      <th>167</th>\n",
       "      <td>[office]</td>\n",
       "      <td>167</td>\n",
       "      <td>NOUN</td>\n",
       "      <td>office</td>\n",
       "    </tr>\n",
       "    <tr>\n",
       "      <th>189</th>\n",
       "      <td>[transport]</td>\n",
       "      <td>189</td>\n",
       "      <td>NOUN</td>\n",
       "      <td>transport</td>\n",
       "    </tr>\n",
       "    <tr>\n",
       "      <th>190</th>\n",
       "      <td>[order]</td>\n",
       "      <td>190</td>\n",
       "      <td>NOUN</td>\n",
       "      <td>order</td>\n",
       "    </tr>\n",
       "    <tr>\n",
       "      <th>196</th>\n",
       "      <td>[hour]</td>\n",
       "      <td>196</td>\n",
       "      <td>NOUN</td>\n",
       "      <td>hour</td>\n",
       "    </tr>\n",
       "    <tr>\n",
       "      <th>226</th>\n",
       "      <td>[staff]</td>\n",
       "      <td>226</td>\n",
       "      <td>NOUN</td>\n",
       "      <td>staff</td>\n",
       "    </tr>\n",
       "    <tr>\n",
       "      <th>228</th>\n",
       "      <td>[unload]</td>\n",
       "      <td>228</td>\n",
       "      <td>NOUN</td>\n",
       "      <td>unload</td>\n",
       "    </tr>\n",
       "    <tr>\n",
       "      <th>235</th>\n",
       "      <td>[day]</td>\n",
       "      <td>235</td>\n",
       "      <td>NOUN</td>\n",
       "      <td>day</td>\n",
       "    </tr>\n",
       "    <tr>\n",
       "      <th>250</th>\n",
       "      <td>[people]</td>\n",
       "      <td>250</td>\n",
       "      <td>NOUN</td>\n",
       "      <td>people</td>\n",
       "    </tr>\n",
       "    <tr>\n",
       "      <th>386</th>\n",
       "      <td>[service]</td>\n",
       "      <td>386</td>\n",
       "      <td>NOUN</td>\n",
       "      <td>service</td>\n",
       "    </tr>\n",
       "    <tr>\n",
       "      <th>482</th>\n",
       "      <td>[delivery]</td>\n",
       "      <td>482</td>\n",
       "      <td>NOUN</td>\n",
       "      <td>delivery</td>\n",
       "    </tr>\n",
       "    <tr>\n",
       "      <th>529</th>\n",
       "      <td>[time]</td>\n",
       "      <td>529</td>\n",
       "      <td>NOUN</td>\n",
       "      <td>time</td>\n",
       "    </tr>\n",
       "    <tr>\n",
       "      <th>167</th>\n",
       "      <td>[call]</td>\n",
       "      <td>167</td>\n",
       "      <td>VERB</td>\n",
       "      <td>call</td>\n",
       "    </tr>\n",
       "    <tr>\n",
       "      <th>199</th>\n",
       "      <td>[come]</td>\n",
       "      <td>199</td>\n",
       "      <td>VERB</td>\n",
       "      <td>come</td>\n",
       "    </tr>\n",
       "    <tr>\n",
       "      <th>210</th>\n",
       "      <td>[loading]</td>\n",
       "      <td>210</td>\n",
       "      <td>VERB</td>\n",
       "      <td>loading</td>\n",
       "    </tr>\n",
       "    <tr>\n",
       "      <th>242</th>\n",
       "      <td>[wait]</td>\n",
       "      <td>242</td>\n",
       "      <td>VERB</td>\n",
       "      <td>wait</td>\n",
       "    </tr>\n",
       "    <tr>\n",
       "      <th>250</th>\n",
       "      <td>[load]</td>\n",
       "      <td>250</td>\n",
       "      <td>VERB</td>\n",
       "      <td>load</td>\n",
       "    </tr>\n",
       "    <tr>\n",
       "      <th>329</th>\n",
       "      <td>[deliver]</td>\n",
       "      <td>329</td>\n",
       "      <td>VERB</td>\n",
       "      <td>deliver</td>\n",
       "    </tr>\n",
       "  </tbody>\n",
       "</table>\n",
       "</div>"
      ],
      "text/plain": [
       "            word    #   tag  word_list\n",
       "#                                     \n",
       "152       [long]  152   ADV       long\n",
       "197    [quickly]  197   ADV    quickly\n",
       "378       [fast]  378   ADV       fast\n",
       "144     [toilet]  144  NOUN     toilet\n",
       "156     [coffee]  156  NOUN     coffee\n",
       "163      [place]  163  NOUN      place\n",
       "167     [office]  167  NOUN     office\n",
       "189  [transport]  189  NOUN  transport\n",
       "190      [order]  190  NOUN      order\n",
       "196       [hour]  196  NOUN       hour\n",
       "226      [staff]  226  NOUN      staff\n",
       "228     [unload]  228  NOUN     unload\n",
       "235        [day]  235  NOUN        day\n",
       "250     [people]  250  NOUN     people\n",
       "386    [service]  386  NOUN    service\n",
       "482   [delivery]  482  NOUN   delivery\n",
       "529       [time]  529  NOUN       time\n",
       "167       [call]  167  VERB       call\n",
       "199       [come]  199  VERB       come\n",
       "210    [loading]  210  VERB    loading\n",
       "242       [wait]  242  VERB       wait\n",
       "250       [load]  250  VERB       load\n",
       "329    [deliver]  329  VERB    deliver"
      ]
     },
     "execution_count": 26,
     "metadata": {},
     "output_type": "execute_result"
    }
   ],
   "source": [
    "agg_words_df"
   ]
  },
  {
   "cell_type": "code",
   "execution_count": 27,
   "id": "8e0cc99a",
   "metadata": {},
   "outputs": [],
   "source": [
    "# https://stackabuse.com/python-for-nlp-tokenization-stemming-and-lemmatization-with-spacy-library/"
   ]
  },
  {
   "cell_type": "code",
   "execution_count": 28,
   "id": "f66d6d0b",
   "metadata": {},
   "outputs": [
    {
     "data": {
      "image/png": "[encoded data removed]",
      "text/plain": [
       "<Figure size 432x288 with 1 Axes>"
      ]
     },
     "metadata": {},
     "output_type": "display_data"
    }
   ],
   "source": [
    "# define Seaborn color palette to use\n",
    "data = agg_words_df[agg_words_df['tag']=='NOUN']['#'].tolist()\n",
    "keys = agg_words_df[agg_words_df['tag']=='NOUN']['word_list'].tolist()\n",
    "\n",
    "\n",
    "palette_color = sns.color_palette('bright')\n",
    "  \n",
    "# plotting data on chart\n",
    "plt.pie(data, labels=keys, colors=palette_color, autopct='%.0f%%')\n",
    "  \n",
    "# displaying chart\n",
    "plt.show()"
   ]
  },
  {
   "cell_type": "code",
   "execution_count": 29,
   "id": "63409c37",
   "metadata": {},
   "outputs": [
    {
     "data": {
      "image/png": "[encoded data removed]",
      "text/plain": [
       "<Figure size 432x288 with 1 Axes>"
      ]
     },
     "metadata": {},
     "output_type": "display_data"
    }
   ],
   "source": [
    "# define Seaborn color palette to use\n",
    "data = agg_words_df[agg_words_df['tag']=='VERB']['#'].tolist()\n",
    "keys = agg_words_df[agg_words_df['tag']=='VERB']['word_list'].tolist()\n",
    "\n",
    "\n",
    "palette_color = sns.color_palette('bright')\n",
    "  \n",
    "# plotting data on chart\n",
    "plt.pie(data, labels=keys, colors=palette_color, autopct='%.0f%%',textprops={'fontsize': 8})\n",
    "  \n",
    "# displaying chart\n",
    "plt.show()"
   ]
  },
  {
   "cell_type": "code",
   "execution_count": 30,
   "id": "d5c8e5ba",
   "metadata": {},
   "outputs": [
    {
     "data": {
      "image/png": "[encoded data removed]",
      "text/plain": [
       "<Figure size 432x288 with 1 Axes>"
      ]
     },
     "metadata": {},
     "output_type": "display_data"
    }
   ],
   "source": [
    "# define Seaborn color palette to use\n",
    "data = agg_words_df[agg_words_df['tag']=='ADV']['#'].tolist()\n",
    "keys = agg_words_df[agg_words_df['tag']=='ADV']['word_list'].tolist()\n",
    "\n",
    "\n",
    "palette_color = sns.color_palette('bright')\n",
    "  \n",
    "# plotting data on chart\n",
    "plt.pie(data, labels=keys, colors=palette_color, autopct='%.0f%%',textprops={'fontsize': 8})\n",
    "  \n",
    "# displaying chart\n",
    "plt.show()"
   ]
  },
  {
   "cell_type": "code",
   "execution_count": 31,
   "id": "4cf4c0df",
   "metadata": {},
   "outputs": [
    {
     "name": "stderr",
     "output_type": "stream",
     "text": [
      "/Users/giu/opt/anaconda3/envs/TOMlogistics/lib/python3.9/site-packages/seaborn/categorical.py:3202: UserWarning: Setting `sharey=False` with `color=None` may cause different levels of the `y` variable to share colors. This will change in a future version.\n",
      "  warnings.warn(msg.format(\"sharey\", \"y\"), UserWarning)\n"
     ]
    },
    {
     "data": {
      "text/plain": [
       "<seaborn.axisgrid.FacetGrid at 0x7ffc7dda5b50>"
      ]
     },
     "execution_count": 31,
     "metadata": {},
     "output_type": "execute_result"
    },
    {
     "data": {
      "image/png": "[encoded data removed]",
      "text/plain": [
       "<Figure size 720x720 with 3 Axes>"
      ]
     },
     "metadata": {
      "needs_background": "light"
     },
     "output_type": "display_data"
    }
   ],
   "source": [
    "sns.catplot(\n",
    "    data=agg_words_df, y=\"word_list\", x=\"#\", col=\"tag\",col_wrap=2,\n",
    "    kind=\"bar\",sharey=False\n",
    ")"
   ]
  },
  {
   "cell_type": "code",
   "execution_count": 32,
   "id": "a23a537a",
   "metadata": {},
   "outputs": [
    {
     "data": {
      "text/plain": [
       "(-0.5, 399.5, 199.5, -0.5)"
      ]
     },
     "execution_count": 32,
     "metadata": {},
     "output_type": "execute_result"
    },
    {
     "data": {
      "image/png": "[encoded data removed]",
      "text/plain": [
       "<Figure size 360x576 with 1 Axes>"
      ]
     },
     "metadata": {
      "needs_background": "light"
     },
     "output_type": "display_data"
    }
   ],
   "source": [
    "most_freq_df.head()\n",
    "freq_dict={}\n",
    "N_words = most_freq_df.shape[0]\n",
    "for i in np.arange(N_words):\n",
    "    freq_dict[most_freq_df['word'].iloc[i]]=most_freq_df['#'].iloc[i]\n",
    "    \n",
    "wc_img = WordCloud(background_color=None,#collocation_threshold=80,mask=wave_mask,\n",
    "               contour_color='white',max_words=N_words,min_word_length=3,\n",
    "               mode =\"RGBA\",collocations=False,repeat=True)#max_font_size = 40,\n",
    "#print(txt_to_use.tolist())\n",
    "wc_img = wc_img.generate_from_frequencies(frequencies=freq_dict)\n",
    "\n",
    "fig,ax =plt.subplots(figsize=(5,8))\n",
    "ax.imshow(wc_img, interpolation='bilinear')\n",
    "ax.axis(\"off\")"
   ]
  },
  {
   "cell_type": "code",
   "execution_count": 33,
   "id": "b4dd473a",
   "metadata": {},
   "outputs": [],
   "source": [
    "def get_rgb_color_list(color_palette,n_colors):\n",
    "    \"\"\"\n",
    "        generate a list of rgb color from color_palette\n",
    "    \n",
    "    \n",
    "    inputs: color_palette,string e.g.'Grays'\n",
    "            n_colors,integer indicating how many colors should be generates\n",
    "    \n",
    "    outputs:\n",
    "            color_list_rgb,list containing color stings e.g. [(255,255,129),(243,198,244),..]\n",
    "            \"\"\"\n",
    "    color_list = sns.color_palette(palette=color_palette, n_colors=n_colors)\n",
    "    color_list=color_list.as_hex()\n",
    "    color_list_rgb =list()\n",
    "    for h in color_list:\n",
    "        color_list_rgb.append(ImageColor.getcolor(h, \"RGB\"))\n",
    "    #color_list_rgb.append([(0,0,0)])\n",
    "    return color_list_rgb\n",
    "\n",
    "def change_image_color(wave_mask,color_rgb,opacity):\n",
    "    \"\"\"\n",
    "        filter colors in image mask and change opacity\n",
    "    \n",
    "    \n",
    "    inputs: wave_mask,matrix (n,m,4)containing colors in rgba\n",
    "            color_rgb,color in rgb e.g.(0,0,0)\n",
    "            pltsize,[width,height] e.g.[400,600] \n",
    "            opacity,float between 0 and 1\n",
    "    outputs:\n",
    "            wave_mask,matrix (n,m,4)containing colors in rgba of the image mask\n",
    "            \"\"\"\n",
    "    red,green,blue,alpha=wave_mask.T\n",
    "    white_areas=(red>128)&(blue>128)&(green>128)\n",
    "    wave_mask[...,:][white_areas.T]=(255,255,255,255)\n",
    "    red,green,blue,alpha=wave_mask.T\n",
    "    white_areas=(red<128)&(blue<128)&(green<128)\n",
    "    wave_mask[...,:][white_areas.T]=color_rgb+(int(225*opacity),)\n",
    "    return wave_mask\n",
    "\n",
    "def plot_wordscloud(image_path,tags,color_mask,pltsize,opacity,colormap_text):\n",
    "    \"\"\"\n",
    "        generate wordscloud visualization compatible with plotly\n",
    "    \n",
    "    \n",
    "    inputs:\n",
    "            image_path, string indicating the path of the image mask to load\n",
    "            tags, dataframe with 'word' and count'#'\n",
    "            color_mask,rgb e.g.(0,0,0)\n",
    "            pltsize,[width,height] e.g.[400,600] \n",
    "            opacity,float between 0 and 1\n",
    "    outputs:\n",
    "            wc_img,image of wordscloud not suitable for plotly -to be used for verification\n",
    "            fig, figure handle suitable for plotly\n",
    "            wave_mask,matrix (n,m,4)containing colors in rgba of the image mask\n",
    "            \"\"\"\n",
    "\n",
    "    \n",
    "    # generate a mask with the input picture\n",
    "    wave_mask = np.array(Image.open(image_path).convert('RGBA'))\n",
    "\n",
    "    #wave_mask=np.insert(wave_mask,1,opacity*np.ones((wave_mask.shape[0],wave_mask.shape[1])),2)\n",
    "    wave_mask=change_image_color(wave_mask,color_mask,opacity)\n",
    "    freq_dict={}\n",
    "    N_words = tags.shape[0]\n",
    "    for i in np.arange(N_words):\n",
    "        freq_dict[tags['word'].iloc[i]]=tags['#'].iloc[i]\n",
    "\n",
    "    \n",
    "    \n",
    "    #generate wordcloud from package\n",
    "    \n",
    "    wc_img = WordCloud(mask=wave_mask,background_color=None,#collocation_threshold=80,\n",
    "                   contour_color='black',max_words=N_words,#min_word_length=3,\n",
    "                   mode =\"RGBA\",repeat=False,colormap = colormap_text)#,max_font_size = 80)#max_font_size = 40,\n",
    "    #print(txt_to_use.tolist())\n",
    "    wc_img = wc_img.generate_from_frequencies(frequencies=freq_dict)\n",
    "    \n",
    "    \n",
    "#    fig,ax =plt.subplots(figsize=(5,8))\n",
    "#    ax.imshow(wc_img, interpolation='bilinear')\n",
    "#    ax.axis(\"off\")\n",
    "\n",
    "    # string, font size, position, orientation and color.\n",
    "    # get wc layout\n",
    "    var_str =[wc_img.layout_[i][0][0] for i in np.arange(len(wc_img.layout_))]#string\n",
    "\n",
    "    var_freq =[wc_img.layout_[i][0][1] for i in np.arange(len(wc_img.layout_))]#frequency\n",
    "    var_size =[wc_img.layout_[i][1] for i in np.arange(len(wc_img.layout_))]#size\n",
    "    var_position =np.asarray([[wc_img.layout_[i][2][0],wc_img.layout_[i][2][1]] for i in np.arange(len(wc_img.layout_))])#position\n",
    "    var_position[:,0]=var_position[:,0]#-0.2*var_position[:,0]#-0.8*np.mean(var_position[:,0])\n",
    "    var_position[:,1]=var_position[:,1]#-0.2*var_position[:,1]#-0.8*np.mean(var_position[:,1])\n",
    "    var_oriet =[wc_img.layout_[i][3] for i in np.arange(len(wc_img.layout_))]#orientation\n",
    "    var_color =[wc_img.layout_[i][4] for i in np.arange(len(wc_img.layout_))]#color\n",
    "    \n",
    "    all_wc=pd.DataFrame([var_str,var_freq,var_size,var_position[:,0],var_position[:,1],var_oriet,var_color]).T\n",
    "    all_wc.columns=['var_str','var_freq','var_size','var_x','var_y','var_oriet','var_color']\n",
    "    \n",
    "    # split words per orienation\n",
    "    idx_or1= np.where(np.asarray(var_oriet)==2)[0]# vertical words\n",
    "    idx_or2= np.where(np.asarray(var_oriet)==None)[0]#orizontal words\n",
    "\n",
    "\n",
    "    layout = go.Layout({'xaxis': {'showgrid': False, 'showticklabels': False, 'zeroline': False},\n",
    "                        'yaxis': {'showgrid': False, 'showticklabels': False, 'zeroline': False}})\n",
    "    #generate wordcloud compatible with plotly\n",
    "    \n",
    "    fig = go.Figure(layout = layout,data =px.imshow(wave_mask))#, \n",
    "    fig.update_traces(hoverinfo='none', hovertemplate='')\n",
    "    #add annotation of vertical text\n",
    "    for i in idx_or1:\n",
    "        fig.add_annotation(y=np.asarray(var_position)[i,0],\n",
    "             x=np.asarray(var_position)[i,1],\n",
    "             text=np.asarray(var_str)[i],\n",
    "             textangle=90,\n",
    "             showarrow=False,\n",
    "             xanchor=\"left\",\n",
    "             yanchor=\"top\",\n",
    "             #clicktoshow='onout',\n",
    "             #captureevents=True,\n",
    "             hovertext='# '+str(tags['#'].loc[tags['word']==np.asarray(var_str)[i]].values[0]),\n",
    "                           font=dict(\n",
    "                    color=np.asarray(var_color)[i],\n",
    "                    size=np.asarray(var_size)[i]+5,\n",
    "                    family='Droid Sans Mono',\n",
    "                    \n",
    "                ))\n",
    "    #add annotation of horizontal text\n",
    "    for i in idx_or2:    \n",
    "        #print(np.asarray(var_str)[i])\n",
    "        fig.add_annotation(y=np.asarray(var_position)[i,0],\n",
    "             x=np.asarray(var_position)[i,1],\n",
    "             text=np.asarray(var_str)[i],\n",
    "             textangle=0,\n",
    "             showarrow=False,\n",
    "             xanchor=\"left\",\n",
    "             yanchor=\"top\",\n",
    "             hovertext='# '+str(tags['#'].loc[tags['word']==np.asarray(var_str)[i]].values[0]),\n",
    "             font=dict(\n",
    "                    color=np.asarray(var_color)[i],\n",
    "                    size=np.asarray(var_size)[i]+5,\n",
    "                    family='Droid Sans Mono'\n",
    "                ))\n",
    "    \n",
    "#     fig.update_traces(textposition='inside')\n",
    "    fig.update_yaxes(autorange=\"reversed\")\n",
    "    fig.update_xaxes(visible=False)\n",
    "    fig.update_yaxes(visible=False)\n",
    "    fig.update_layout(\n",
    "        paper_bgcolor='rgb(255,255,255)',\n",
    "        plot_bgcolor='rgb(255,255,255)', \n",
    "        width=pltsize[0],\n",
    "        height=pltsize[1],\n",
    "        margin=dict(l=1, r=1, t=1, b=1)\n",
    "        )\n",
    "    fig.update_layout(clickmode='select')\n",
    "\n",
    "    \n",
    "    return(wc_img,fig,wave_mask)\n"
   ]
  },
  {
   "cell_type": "code",
   "execution_count": 35,
   "id": "46b972f0",
   "metadata": {},
   "outputs": [
    {
     "data": {
      "application/vnd.plotly.v1+json": {
       "config": {
        "plotlyServerURL": "https://plot.ly"
       },
       "data": [
        {
         "hoverinfo": "none",
         "hovertemplate": "",
         "name": "0",
         "source": "data:image/png;base64,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",
         "type": "image",
         "xaxis": "x",
         "yaxis": "y"
        }
       ],
       "layout": {
        "annotations": [
         {
          "font": {
           "color": "rgb(206, 206, 206)",
           "family": "Droid Sans Mono",
           "size": 22
          },
          "hovertext": "# 242",
          "showarrow": false,
          "text": "wait",
          "textangle": 90,
          "x": 16,
          "xanchor": "left",
          "y": 136,
          "yanchor": "top"
         },
         {
          "font": {
           "color": "rgb(68, 68, 68)",
           "family": "Droid Sans Mono",
           "size": 47
          },
          "hovertext": "# 529",
          "showarrow": false,
          "text": "time",
          "textangle": 0,
          "x": 138,
          "xanchor": "left",
          "y": 81,
          "yanchor": "top"
         },
         {
          "font": {
           "color": "rgb(157, 157, 157)",
           "family": "Droid Sans Mono",
           "size": 37
          },
          "hovertext": "# 482",
          "showarrow": false,
          "text": "delivery",
          "textangle": 0,
          "x": 94,
          "xanchor": "left",
          "y": 26,
          "yanchor": "top"
         },
         {
          "font": {
           "color": "rgb(80, 80, 80)",
           "family": "Droid Sans Mono",
           "size": 33
          },
          "hovertext": "# 386",
          "showarrow": false,
          "text": "service",
          "textangle": 0,
          "x": 107,
          "xanchor": "left",
          "y": 50,
          "yanchor": "top"
         },
         {
          "font": {
           "color": "rgb(39, 39, 39)",
           "family": "Droid Sans Mono",
           "size": 33
          },
          "hovertext": "# 378",
          "showarrow": false,
          "text": "fast",
          "textangle": 0,
          "x": 97,
          "xanchor": "left",
          "y": 134,
          "yanchor": "top"
         },
         {
          "font": {
           "color": "rgb(23, 23, 23)",
           "family": "Droid Sans Mono",
           "size": 25
          },
          "hovertext": "# 329",
          "showarrow": false,
          "text": "deliver",
          "textangle": 0,
          "x": 163,
          "xanchor": "left",
          "y": 12,
          "yanchor": "top"
         },
         {
          "font": {
           "color": "rgb(57, 57, 57)",
           "family": "Droid Sans Mono",
           "size": 22
          },
          "hovertext": "# 250",
          "showarrow": false,
          "text": "people",
          "textangle": 0,
          "x": 20,
          "xanchor": "left",
          "y": 119,
          "yanchor": "top"
         },
         {
          "font": {
           "color": "rgb(164, 164, 164)",
           "family": "Droid Sans Mono",
           "size": 22
          },
          "hovertext": "# 250",
          "showarrow": false,
          "text": "load",
          "textangle": 0,
          "x": 97,
          "xanchor": "left",
          "y": 98,
          "yanchor": "top"
         },
         {
          "font": {
           "color": "rgb(204, 204, 204)",
           "family": "Droid Sans Mono",
           "size": 22
          },
          "hovertext": "# 235",
          "showarrow": false,
          "text": "day",
          "textangle": 0,
          "x": 49,
          "xanchor": "left",
          "y": 162,
          "yanchor": "top"
         },
         {
          "font": {
           "color": "rgb(37, 37, 37)",
           "family": "Droid Sans Mono",
           "size": 22
          },
          "hovertext": "# 228",
          "showarrow": false,
          "text": "unload",
          "textangle": 0,
          "x": 185,
          "xanchor": "left",
          "y": 71,
          "yanchor": "top"
         },
         {
          "font": {
           "color": "rgb(153, 153, 153)",
           "family": "Droid Sans Mono",
           "size": 21
          },
          "hovertext": "# 226",
          "showarrow": false,
          "text": "staff",
          "textangle": 0,
          "x": 94,
          "xanchor": "left",
          "y": 71,
          "yanchor": "top"
         },
         {
          "font": {
           "color": "rgb(243, 243, 243)",
           "family": "Droid Sans Mono",
           "size": 15
          },
          "hovertext": "# 210",
          "showarrow": false,
          "text": "loading",
          "textangle": 0,
          "x": 96,
          "xanchor": "left",
          "y": 111,
          "yanchor": "top"
         },
         {
          "font": {
           "color": "rgb(15, 15, 15)",
           "family": "Droid Sans Mono",
           "size": 15
          },
          "hovertext": "# 199",
          "showarrow": false,
          "text": "come",
          "textangle": 0,
          "x": 126,
          "xanchor": "left",
          "y": 155,
          "yanchor": "top"
         },
         {
          "font": {
           "color": "rgb(6, 6, 6)",
           "family": "Droid Sans Mono",
           "size": 15
          },
          "hovertext": "# 197",
          "showarrow": false,
          "text": "quickly",
          "textangle": 0,
          "x": 117,
          "xanchor": "left",
          "y": 12,
          "yanchor": "top"
         },
         {
          "font": {
           "color": "rgb(60, 60, 60)",
           "family": "Droid Sans Mono",
           "size": 15
          },
          "hovertext": "# 196",
          "showarrow": false,
          "text": "hour",
          "textangle": 0,
          "x": 191,
          "xanchor": "left",
          "y": 172,
          "yanchor": "top"
         },
         {
          "font": {
           "color": "rgb(181, 181, 181)",
           "family": "Droid Sans Mono",
           "size": 15
          },
          "hovertext": "# 190",
          "showarrow": false,
          "text": "order",
          "textangle": 0,
          "x": 213,
          "xanchor": "left",
          "y": 132,
          "yanchor": "top"
         },
         {
          "font": {
           "color": "rgb(252, 252, 252)",
           "family": "Droid Sans Mono",
           "size": 13
          },
          "hovertext": "# 189",
          "showarrow": false,
          "text": "transport",
          "textangle": 0,
          "x": 168,
          "xanchor": "left",
          "y": 113,
          "yanchor": "top"
         },
         {
          "font": {
           "color": "rgb(136, 136, 136)",
           "family": "Droid Sans Mono",
           "size": 13
          },
          "hovertext": "# 167",
          "showarrow": false,
          "text": "office",
          "textangle": 0,
          "x": 105,
          "xanchor": "left",
          "y": 84,
          "yanchor": "top"
         },
         {
          "font": {
           "color": "rgb(43, 43, 43)",
           "family": "Droid Sans Mono",
           "size": 13
          },
          "hovertext": "# 167",
          "showarrow": false,
          "text": "call",
          "textangle": 0,
          "x": 190,
          "xanchor": "left",
          "y": 152,
          "yanchor": "top"
         },
         {
          "font": {
           "color": "rgb(242, 242, 242)",
           "family": "Droid Sans Mono",
           "size": 13
          },
          "hovertext": "# 163",
          "showarrow": false,
          "text": "place",
          "textangle": 0,
          "x": 222,
          "xanchor": "left",
          "y": 139,
          "yanchor": "top"
         },
         {
          "font": {
           "color": "rgb(245, 245, 245)",
           "family": "Droid Sans Mono",
           "size": 13
          },
          "hovertext": "# 156",
          "showarrow": false,
          "text": "coffee",
          "textangle": 0,
          "x": 46,
          "xanchor": "left",
          "y": 71,
          "yanchor": "top"
         },
         {
          "font": {
           "color": "rgb(50, 50, 50)",
           "family": "Droid Sans Mono",
           "size": 13
          },
          "hovertext": "# 152",
          "showarrow": false,
          "text": "long",
          "textangle": 0,
          "x": 111,
          "xanchor": "left",
          "y": 21,
          "yanchor": "top"
         },
         {
          "font": {
           "color": "rgb(140, 140, 140)",
           "family": "Droid Sans Mono",
           "size": 13
          },
          "hovertext": "# 144",
          "showarrow": false,
          "text": "toilet",
          "textangle": 0,
          "x": 187,
          "xanchor": "left",
          "y": 161,
          "yanchor": "top"
         }
        ],
        "clickmode": "select",
        "height": 500,
        "margin": {
         "b": 1,
         "l": 1,
         "r": 1,
         "t": 1
        },
        "paper_bgcolor": "rgb(255,255,255)",
        "plot_bgcolor": "rgb(255,255,255)",
        "template": {
         "data": {
          "bar": [
           {
            "error_x": {
             "color": "#2a3f5f"
            },
            "error_y": {
             "color": "#2a3f5f"
            },
            "marker": {
             "line": {
              "color": "#E5ECF6",
              "width": 0.5
             },
             "pattern": {
              "fillmode": "overlay",
              "size": 10,
              "solidity": 0.2
             }
            },
            "type": "bar"
           }
          ],
          "barpolar": [
           {
            "marker": {
             "line": {
              "color": "#E5ECF6",
              "width": 0.5
             },
             "pattern": {
              "fillmode": "overlay",
              "size": 10,
              "solidity": 0.2
             }
            },
            "type": "barpolar"
           }
          ],
          "carpet": [
           {
            "aaxis": {
             "endlinecolor": "#2a3f5f",
             "gridcolor": "white",
             "linecolor": "white",
             "minorgridcolor": "white",
             "startlinecolor": "#2a3f5f"
            },
            "baxis": {
             "endlinecolor": "#2a3f5f",
             "gridcolor": "white",
             "linecolor": "white",
             "minorgridcolor": "white",
             "startlinecolor": "#2a3f5f"
            },
            "type": "carpet"
           }
          ],
          "choropleth": [
           {
            "colorbar": {
             "outlinewidth": 0,
             "ticks": ""
            },
            "type": "choropleth"
           }
          ],
          "contour": [
           {
            "colorbar": {
             "outlinewidth": 0,
             "ticks": ""
            },
            "colorscale": [
             [
              0,
              "#0d0887"
             ],
             [
              0.1111111111111111,
              "#46039f"
             ],
             [
              0.2222222222222222,
              "#7201a8"
             ],
             [
              0.3333333333333333,
              "#9c179e"
             ],
             [
              0.4444444444444444,
              "#bd3786"
             ],
             [
              0.5555555555555556,
              "#d8576b"
             ],
             [
              0.6666666666666666,
              "#ed7953"
             ],
             [
              0.7777777777777778,
              "#fb9f3a"
             ],
             [
              0.8888888888888888,
              "#fdca26"
             ],
             [
              1,
              "#f0f921"
             ]
            ],
            "type": "contour"
           }
          ],
          "contourcarpet": [
           {
            "colorbar": {
             "outlinewidth": 0,
             "ticks": ""
            },
            "type": "contourcarpet"
           }
          ],
          "heatmap": [
           {
            "colorbar": {
             "outlinewidth": 0,
             "ticks": ""
            },
            "colorscale": [
             [
              0,
              "#0d0887"
             ],
             [
              0.1111111111111111,
              "#46039f"
             ],
             [
              0.2222222222222222,
              "#7201a8"
             ],
             [
              0.3333333333333333,
              "#9c179e"
             ],
             [
              0.4444444444444444,
              "#bd3786"
             ],
             [
              0.5555555555555556,
              "#d8576b"
             ],
             [
              0.6666666666666666,
              "#ed7953"
             ],
             [
              0.7777777777777778,
              "#fb9f3a"
             ],
             [
              0.8888888888888888,
              "#fdca26"
             ],
             [
              1,
              "#f0f921"
             ]
            ],
            "type": "heatmap"
           }
          ],
          "heatmapgl": [
           {
            "colorbar": {
             "outlinewidth": 0,
             "ticks": ""
            },
            "colorscale": [
             [
              0,
              "#0d0887"
             ],
             [
              0.1111111111111111,
              "#46039f"
             ],
             [
              0.2222222222222222,
              "#7201a8"
             ],
             [
              0.3333333333333333,
              "#9c179e"
             ],
             [
              0.4444444444444444,
              "#bd3786"
             ],
             [
              0.5555555555555556,
              "#d8576b"
             ],
             [
              0.6666666666666666,
              "#ed7953"
             ],
             [
              0.7777777777777778,
              "#fb9f3a"
             ],
             [
              0.8888888888888888,
              "#fdca26"
             ],
             [
              1,
              "#f0f921"
             ]
            ],
            "type": "heatmapgl"
           }
          ],
          "histogram": [
           {
            "marker": {
             "pattern": {
              "fillmode": "overlay",
              "size": 10,
              "solidity": 0.2
             }
            },
            "type": "histogram"
           }
          ],
          "histogram2d": [
           {
            "colorbar": {
             "outlinewidth": 0,
             "ticks": ""
            },
            "colorscale": [
             [
              0,
              "#0d0887"
             ],
             [
              0.1111111111111111,
              "#46039f"
             ],
             [
              0.2222222222222222,
              "#7201a8"
             ],
             [
              0.3333333333333333,
              "#9c179e"
             ],
             [
              0.4444444444444444,
              "#bd3786"
             ],
             [
              0.5555555555555556,
              "#d8576b"
             ],
             [
              0.6666666666666666,
              "#ed7953"
             ],
             [
              0.7777777777777778,
              "#fb9f3a"
             ],
             [
              0.8888888888888888,
              "#fdca26"
             ],
             [
              1,
              "#f0f921"
             ]
            ],
            "type": "histogram2d"
           }
          ],
          "histogram2dcontour": [
           {
            "colorbar": {
             "outlinewidth": 0,
             "ticks": ""
            },
            "colorscale": [
             [
              0,
              "#0d0887"
             ],
             [
              0.1111111111111111,
              "#46039f"
             ],
             [
              0.2222222222222222,
              "#7201a8"
             ],
             [
              0.3333333333333333,
              "#9c179e"
             ],
             [
              0.4444444444444444,
              "#bd3786"
             ],
             [
              0.5555555555555556,
              "#d8576b"
             ],
             [
              0.6666666666666666,
              "#ed7953"
             ],
             [
              0.7777777777777778,
              "#fb9f3a"
             ],
             [
              0.8888888888888888,
              "#fdca26"
             ],
             [
              1,
              "#f0f921"
             ]
            ],
            "type": "histogram2dcontour"
           }
          ],
          "mesh3d": [
           {
            "colorbar": {
             "outlinewidth": 0,
             "ticks": ""
            },
            "type": "mesh3d"
           }
          ],
          "parcoords": [
           {
            "line": {
             "colorbar": {
              "outlinewidth": 0,
              "ticks": ""
             }
            },
            "type": "parcoords"
           }
          ],
          "pie": [
           {
            "automargin": true,
            "type": "pie"
           }
          ],
          "scatter": [
           {
            "fillpattern": {
             "fillmode": "overlay",
             "size": 10,
             "solidity": 0.2
            },
            "type": "scatter"
           }
          ],
          "scatter3d": [
           {
            "line": {
             "colorbar": {
              "outlinewidth": 0,
              "ticks": ""
             }
            },
            "marker": {
             "colorbar": {
              "outlinewidth": 0,
              "ticks": ""
             }
            },
            "type": "scatter3d"
           }
          ],
          "scattercarpet": [
           {
            "marker": {
             "colorbar": {
              "outlinewidth": 0,
              "ticks": ""
             }
            },
            "type": "scattercarpet"
           }
          ],
          "scattergeo": [
           {
            "marker": {
             "colorbar": {
              "outlinewidth": 0,
              "ticks": ""
             }
            },
            "type": "scattergeo"
           }
          ],
          "scattergl": [
           {
            "marker": {
             "colorbar": {
              "outlinewidth": 0,
              "ticks": ""
             }
            },
            "type": "scattergl"
           }
          ],
          "scattermapbox": [
           {
            "marker": {
             "colorbar": {
              "outlinewidth": 0,
              "ticks": ""
             }
            },
            "type": "scattermapbox"
           }
          ],
          "scatterpolar": [
           {
            "marker": {
             "colorbar": {
              "outlinewidth": 0,
              "ticks": ""
             }
            },
            "type": "scatterpolar"
           }
          ],
          "scatterpolargl": [
           {
            "marker": {
             "colorbar": {
              "outlinewidth": 0,
              "ticks": ""
             }
            },
            "type": "scatterpolargl"
           }
          ],
          "scatterternary": [
           {
            "marker": {
             "colorbar": {
              "outlinewidth": 0,
              "ticks": ""
             }
            },
            "type": "scatterternary"
           }
          ],
          "surface": [
           {
            "colorbar": {
             "outlinewidth": 0,
             "ticks": ""
            },
            "colorscale": [
             [
              0,
              "#0d0887"
             ],
             [
              0.1111111111111111,
              "#46039f"
             ],
             [
              0.2222222222222222,
              "#7201a8"
             ],
             [
              0.3333333333333333,
              "#9c179e"
             ],
             [
              0.4444444444444444,
              "#bd3786"
             ],
             [
              0.5555555555555556,
              "#d8576b"
             ],
             [
              0.6666666666666666,
              "#ed7953"
             ],
             [
              0.7777777777777778,
              "#fb9f3a"
             ],
             [
              0.8888888888888888,
              "#fdca26"
             ],
             [
              1,
              "#f0f921"
             ]
            ],
            "type": "surface"
           }
          ],
          "table": [
           {
            "cells": {
             "fill": {
              "color": "#EBF0F8"
             },
             "line": {
              "color": "white"
             }
            },
            "header": {
             "fill": {
              "color": "#C8D4E3"
             },
             "line": {
              "color": "white"
             }
            },
            "type": "table"
           }
          ]
         },
         "layout": {
          "annotationdefaults": {
           "arrowcolor": "#2a3f5f",
           "arrowhead": 0,
           "arrowwidth": 1
          },
          "autotypenumbers": "strict",
          "coloraxis": {
           "colorbar": {
            "outlinewidth": 0,
            "ticks": ""
           }
          },
          "colorscale": {
           "diverging": [
            [
             0,
             "#8e0152"
            ],
            [
             0.1,
             "#c51b7d"
            ],
            [
             0.2,
             "#de77ae"
            ],
            [
             0.3,
             "#f1b6da"
            ],
            [
             0.4,
             "#fde0ef"
            ],
            [
             0.5,
             "#f7f7f7"
            ],
            [
             0.6,
             "#e6f5d0"
            ],
            [
             0.7,
             "#b8e186"
            ],
            [
             0.8,
             "#7fbc41"
            ],
            [
             0.9,
             "#4d9221"
            ],
            [
             1,
             "#276419"
            ]
           ],
           "sequential": [
            [
             0,
             "#0d0887"
            ],
            [
             0.1111111111111111,
             "#46039f"
            ],
            [
             0.2222222222222222,
             "#7201a8"
            ],
            [
             0.3333333333333333,
             "#9c179e"
            ],
            [
             0.4444444444444444,
             "#bd3786"
            ],
            [
             0.5555555555555556,
             "#d8576b"
            ],
            [
             0.6666666666666666,
             "#ed7953"
            ],
            [
             0.7777777777777778,
             "#fb9f3a"
            ],
            [
             0.8888888888888888,
             "#fdca26"
            ],
            [
             1,
             "#f0f921"
            ]
           ],
           "sequentialminus": [
            [
             0,
             "#0d0887"
            ],
            [
             0.1111111111111111,
             "#46039f"
            ],
            [
             0.2222222222222222,
             "#7201a8"
            ],
            [
             0.3333333333333333,
             "#9c179e"
            ],
            [
             0.4444444444444444,
             "#bd3786"
            ],
            [
             0.5555555555555556,
             "#d8576b"
            ],
            [
             0.6666666666666666,
             "#ed7953"
            ],
            [
             0.7777777777777778,
             "#fb9f3a"
            ],
            [
             0.8888888888888888,
             "#fdca26"
            ],
            [
             1,
             "#f0f921"
            ]
           ]
          },
          "colorway": [
           "#636efa",
           "#EF553B",
           "#00cc96",
           "#ab63fa",
           "#FFA15A",
           "#19d3f3",
           "#FF6692",
           "#B6E880",
           "#FF97FF",
           "#FECB52"
          ],
          "font": {
           "color": "#2a3f5f"
          },
          "geo": {
           "bgcolor": "white",
           "lakecolor": "white",
           "landcolor": "#E5ECF6",
           "showlakes": true,
           "showland": true,
           "subunitcolor": "white"
          },
          "hoverlabel": {
           "align": "left"
          },
          "hovermode": "closest",
          "mapbox": {
           "style": "light"
          },
          "paper_bgcolor": "white",
          "plot_bgcolor": "#E5ECF6",
          "polar": {
           "angularaxis": {
            "gridcolor": "white",
            "linecolor": "white",
            "ticks": ""
           },
           "bgcolor": "#E5ECF6",
           "radialaxis": {
            "gridcolor": "white",
            "linecolor": "white",
            "ticks": ""
           }
          },
          "scene": {
           "xaxis": {
            "backgroundcolor": "#E5ECF6",
            "gridcolor": "white",
            "gridwidth": 2,
            "linecolor": "white",
            "showbackground": true,
            "ticks": "",
            "zerolinecolor": "white"
           },
           "yaxis": {
            "backgroundcolor": "#E5ECF6",
            "gridcolor": "white",
            "gridwidth": 2,
            "linecolor": "white",
            "showbackground": true,
            "ticks": "",
            "zerolinecolor": "white"
           },
           "zaxis": {
            "backgroundcolor": "#E5ECF6",
            "gridcolor": "white",
            "gridwidth": 2,
            "linecolor": "white",
            "showbackground": true,
            "ticks": "",
            "zerolinecolor": "white"
           }
          },
          "shapedefaults": {
           "line": {
            "color": "#2a3f5f"
           }
          },
          "ternary": {
           "aaxis": {
            "gridcolor": "white",
            "linecolor": "white",
            "ticks": ""
           },
           "baxis": {
            "gridcolor": "white",
            "linecolor": "white",
            "ticks": ""
           },
           "bgcolor": "#E5ECF6",
           "caxis": {
            "gridcolor": "white",
            "linecolor": "white",
            "ticks": ""
           }
          },
          "title": {
           "x": 0.05
          },
          "xaxis": {
           "automargin": true,
           "gridcolor": "white",
           "linecolor": "white",
           "ticks": "",
           "title": {
            "standoff": 15
           },
           "zerolinecolor": "white",
           "zerolinewidth": 2
          },
          "yaxis": {
           "automargin": true,
           "gridcolor": "white",
           "linecolor": "white",
           "ticks": "",
           "title": {
            "standoff": 15
           },
           "zerolinecolor": "white",
           "zerolinewidth": 2
          }
         }
        },
        "width": 500,
        "xaxis": {
         "anchor": "y",
         "domain": [
          0,
          1
         ],
         "visible": false
        },
        "yaxis": {
         "anchor": "x",
         "autorange": "reversed",
         "domain": [
          0,
          1
         ],
         "visible": false
        }
       }
      },
      "text/html": [
       "<div>                            <div id=\"b9bb16e2-9138-462d-994b-53d9557b2b63\" class=\"plotly-graph-div\" style=\"height:500px; width:500px;\"></div>            <script type=\"text/javascript\">                require([\"plotly\"], function(Plotly) {                    window.PLOTLYENV=window.PLOTLYENV || {};                                    if (document.getElementById(\"b9bb16e2-9138-462d-994b-53d9557b2b63\")) {                    Plotly.newPlot(                        \"b9bb16e2-9138-462d-994b-53d9557b2b63\",                        [{\"hovertemplate\":\"\",\"name\":\"0\",\"source\":\"data:image/png;base64,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\",\"xaxis\":\"x\",\"yaxis\":\"y\",\"type\":\"image\",\"hoverinfo\":\"none\"}],                        {\"margin\":{\"t\":1,\"l\":1,\"r\":1,\"b\":1},\"template\":{\"data\":{\"barpolar\":[{\"marker\":{\"line\":{\"color\":\"#E5ECF6\",\"width\":0.5},\"pattern\":{\"fillmode\":\"overlay\",\"size\":10,\"solidity\":0.2}},\"type\":\"barpolar\"}],\"bar\":[{\"error_x\":{\"color\":\"#2a3f5f\"},\"error_y\":{\"color\":\"#2a3f5f\"},\"marker\":{\"line\":{\"color\":\"#E5ECF6\",\"width\":0.5},\"pattern\":{\"fillmode\":\"overlay\",\"size\":10,\"solidity\":0.2}},\"type\":\"bar\"}],\"carpet\":[{\"aaxis\":{\"endlinecolor\":\"#2a3f5f\",\"gridcolor\":\"white\",\"linecolor\":\"white\",\"minorgridcolor\":\"white\",\"startlinecolor\":\"#2a3f5f\"},\"baxis\":{\"endlinecolor\":\"#2a3f5f\",\"gridcolor\":\"white\",\"linecolor\":\"white\",\"minorgridcolor\":\"white\",\"startlinecolor\":\"#2a3f5f\"},\"type\":\"carpet\"}],\"choropleth\":[{\"colorbar\":{\"outlinewidth\":0,\"ticks\":\"\"},\"type\":\"choropleth\"}],\"contourcarpet\":[{\"colorbar\":{\"outlinewidth\":0,\"ticks\":\"\"},\"type\":\"contourcarpet\"}],\"contour\":[{\"colorbar\":{\"outlinewidth\":0,\"ticks\":\"\"},\"colorscale\":[[0.0,\"#0d0887\"],[0.1111111111111111,\"#46039f\"],[0.2222222222222222,\"#7201a8\"],[0.3333333333333333,\"#9c179e\"],[0.4444444444444444,\"#bd3786\"],[0.5555555555555556,\"#d8576b\"],[0.6666666666666666,\"#ed7953\"],[0.7777777777777778,\"#fb9f3a\"],[0.8888888888888888,\"#fdca26\"],[1.0,\"#f0f921\"]],\"type\":\"contour\"}],\"heatmapgl\":[{\"colorbar\":{\"outlinewidth\":0,\"ticks\":\"\"},\"colorscale\":[[0.0,\"#0d0887\"],[0.1111111111111111,\"#46039f\"],[0.2222222222222222,\"#7201a8\"],[0.3333333333333333,\"#9c179e\"],[0.4444444444444444,\"#bd3786\"],[0.5555555555555556,\"#d8576b\"],[0.6666666666666666,\"#ed7953\"],[0.7777777777777778,\"#fb9f3a\"],[0.8888888888888888,\"#fdca26\"],[1.0,\"#f0f921\"]],\"type\":\"heatmapgl\"}],\"heatmap\":[{\"colorbar\":{\"outlinewidth\":0,\"ticks\":\"\"},\"colorscale\":[[0.0,\"#0d0887\"],[0.1111111111111111,\"#46039f\"],[0.2222222222222222,\"#7201a8\"],[0.3333333333333333,\"#9c179e\"],[0.4444444444444444,\"#bd3786\"],[0.5555555555555556,\"#d8576b\"],[0.6666666666666666,\"#ed7953\"],[0.7777777777777778,\"#fb9f3a\"],[0.8888888888888888,\"#fdca26\"],[1.0,\"#f0f921\"]],\"type\":\"heatmap\"}],\"histogram2dcontour\":[{\"colorbar\":{\"outlinewidth\":0,\"ticks\":\"\"},\"colorscale\":[[0.0,\"#0d0887\"],[0.1111111111111111,\"#46039f\"],[0.2222222222222222,\"#7201a8\"],[0.3333333333333333,\"#9c179e\"],[0.4444444444444444,\"#bd3786\"],[0.5555555555555556,\"#d8576b\"],[0.6666666666666666,\"#ed7953\"],[0.7777777777777778,\"#fb9f3a\"],[0.8888888888888888,\"#fdca26\"],[1.0,\"#f0f921\"]],\"type\":\"histogram2dcontour\"}],\"histogram2d\":[{\"colorbar\":{\"outlinewidth\":0,\"ticks\":\"\"},\"colorscale\":[[0.0,\"#0d0887\"],[0.1111111111111111,\"#46039f\"],[0.2222222222222222,\"#7201a8\"],[0.3333333333333333,\"#9c179e\"],[0.4444444444444444,\"#bd3786\"],[0.5555555555555556,\"#d8576b\"],[0.6666666666666666,\"#ed7953\"],[0.7777777777777778,\"#fb9f3a\"],[0.8888888888888888,\"#fdca26\"],[1.0,\"#f0f921\"]],\"type\":\"histogram2d\"}],\"histogram\":[{\"marker\":{\"pattern\":{\"fillmode\":\"overlay\",\"size\":10,\"solidity\":0.2}},\"type\":\"histogram\"}],\"mesh3d\":[{\"colorbar\":{\"outlinewidth\":0,\"ticks\":\"\"},\"type\":\"mesh3d\"}],\"parcoords\":[{\"line\":{\"colorbar\":{\"outlinewidth\":0,\"ticks\":\"\"}},\"type\":\"parcoords\"}],\"pie\":[{\"automargin\":true,\"type\":\"pie\"}],\"scatter3d\":[{\"line\":{\"colorbar\":{\"outlinewidth\":0,\"ticks\":\"\"}},\"marker\":{\"colorbar\":{\"outlinewidth\":0,\"ticks\":\"\"}},\"type\":\"scatter3d\"}],\"scattercarpet\":[{\"marker\":{\"colorbar\":{\"outlinewidth\":0,\"ticks\":\"\"}},\"type\":\"scattercarpet\"}],\"scattergeo\":[{\"marker\":{\"colorbar\":{\"outlinewidth\":0,\"ticks\":\"\"}},\"type\":\"scattergeo\"}],\"scattergl\":[{\"marker\":{\"colorbar\":{\"outlinewidth\":0,\"ticks\":\"\"}},\"type\":\"scattergl\"}],\"scattermapbox\":[{\"marker\":{\"colorbar\":{\"outlinewidth\":0,\"ticks\":\"\"}},\"type\":\"scattermapbox\"}],\"scatterpolargl\":[{\"marker\":{\"colorbar\":{\"outlinewidth\":0,\"ticks\":\"\"}},\"type\":\"scatterpolargl\"}],\"scatterpolar\":[{\"marker\":{\"colorbar\":{\"outlinewidth\":0,\"ticks\":\"\"}},\"type\":\"scatterpolar\"}],\"scatter\":[{\"fillpattern\":{\"fillmode\":\"overlay\",\"size\":10,\"solidity\":0.2},\"type\":\"scatter\"}],\"scatterternary\":[{\"marker\":{\"colorbar\":{\"outlinewidth\":0,\"ticks\":\"\"}},\"type\":\"scatterternary\"}],\"surface\":[{\"colorbar\":{\"outlinewidth\":0,\"ticks\":\"\"},\"colorscale\":[[0.0,\"#0d0887\"],[0.1111111111111111,\"#46039f\"],[0.2222222222222222,\"#7201a8\"],[0.3333333333333333,\"#9c179e\"],[0.4444444444444444,\"#bd3786\"],[0.5555555555555556,\"#d8576b\"],[0.6666666666666666,\"#ed7953\"],[0.7777777777777778,\"#fb9f3a\"],[0.8888888888888888,\"#fdca26\"],[1.0,\"#f0f921\"]],\"type\":\"surface\"}],\"table\":[{\"cells\":{\"fill\":{\"color\":\"#EBF0F8\"},\"line\":{\"color\":\"white\"}},\"header\":{\"fill\":{\"color\":\"#C8D4E3\"},\"line\":{\"color\":\"white\"}},\"type\":\"table\"}]},\"layout\":{\"annotationdefaults\":{\"arrowcolor\":\"#2a3f5f\",\"arrowhead\":0,\"arrowwidth\":1},\"autotypenumbers\":\"strict\",\"coloraxis\":{\"colorbar\":{\"outlinewidth\":0,\"ticks\":\"\"}},\"colorscale\":{\"diverging\":[[0,\"#8e0152\"],[0.1,\"#c51b7d\"],[0.2,\"#de77ae\"],[0.3,\"#f1b6da\"],[0.4,\"#fde0ef\"],[0.5,\"#f7f7f7\"],[0.6,\"#e6f5d0\"],[0.7,\"#b8e186\"],[0.8,\"#7fbc41\"],[0.9,\"#4d9221\"],[1,\"#276419\"]],\"sequential\":[[0.0,\"#0d0887\"],[0.1111111111111111,\"#46039f\"],[0.2222222222222222,\"#7201a8\"],[0.3333333333333333,\"#9c179e\"],[0.4444444444444444,\"#bd3786\"],[0.5555555555555556,\"#d8576b\"],[0.6666666666666666,\"#ed7953\"],[0.7777777777777778,\"#fb9f3a\"],[0.8888888888888888,\"#fdca26\"],[1.0,\"#f0f921\"]],\"sequentialminus\":[[0.0,\"#0d0887\"],[0.1111111111111111,\"#46039f\"],[0.2222222222222222,\"#7201a8\"],[0.3333333333333333,\"#9c179e\"],[0.4444444444444444,\"#bd3786\"],[0.5555555555555556,\"#d8576b\"],[0.6666666666666666,\"#ed7953\"],[0.7777777777777778,\"#fb9f3a\"],[0.8888888888888888,\"#fdca26\"],[1.0,\"#f0f921\"]]},\"colorway\":[\"#636efa\",\"#EF553B\",\"#00cc96\",\"#ab63fa\",\"#FFA15A\",\"#19d3f3\",\"#FF6692\",\"#B6E880\",\"#FF97FF\",\"#FECB52\"],\"font\":{\"color\":\"#2a3f5f\"},\"geo\":{\"bgcolor\":\"white\",\"lakecolor\":\"white\",\"landcolor\":\"#E5ECF6\",\"showlakes\":true,\"showland\":true,\"subunitcolor\":\"white\"},\"hoverlabel\":{\"align\":\"left\"},\"hovermode\":\"closest\",\"mapbox\":{\"style\":\"light\"},\"paper_bgcolor\":\"white\",\"plot_bgcolor\":\"#E5ECF6\",\"polar\":{\"angularaxis\":{\"gridcolor\":\"white\",\"linecolor\":\"white\",\"ticks\":\"\"},\"bgcolor\":\"#E5ECF6\",\"radialaxis\":{\"gridcolor\":\"white\",\"linecolor\":\"white\",\"ticks\":\"\"}},\"scene\":{\"xaxis\":{\"backgroundcolor\":\"#E5ECF6\",\"gridcolor\":\"white\",\"gridwidth\":2,\"linecolor\":\"white\",\"showbackground\":true,\"ticks\":\"\",\"zerolinecolor\":\"white\"},\"yaxis\":{\"backgroundcolor\":\"#E5ECF6\",\"gridcolor\":\"white\",\"gridwidth\":2,\"linecolor\":\"white\",\"showbackground\":true,\"ticks\":\"\",\"zerolinecolor\":\"white\"},\"zaxis\":{\"backgroundcolor\":\"#E5ECF6\",\"gridcolor\":\"white\",\"gridwidth\":2,\"linecolor\":\"white\",\"showbackground\":true,\"ticks\":\"\",\"zerolinecolor\":\"white\"}},\"shapedefaults\":{\"line\":{\"color\":\"#2a3f5f\"}},\"ternary\":{\"aaxis\":{\"gridcolor\":\"white\",\"linecolor\":\"white\",\"ticks\":\"\"},\"baxis\":{\"gridcolor\":\"white\",\"linecolor\":\"white\",\"ticks\":\"\"},\"bgcolor\":\"#E5ECF6\",\"caxis\":{\"gridcolor\":\"white\",\"linecolor\":\"white\",\"ticks\":\"\"}},\"title\":{\"x\":0.05},\"xaxis\":{\"automargin\":true,\"gridcolor\":\"white\",\"linecolor\":\"white\",\"ticks\":\"\",\"title\":{\"standoff\":15},\"zerolinecolor\":\"white\",\"zerolinewidth\":2},\"yaxis\":{\"automargin\":true,\"gridcolor\":\"white\",\"linecolor\":\"white\",\"ticks\":\"\",\"title\":{\"standoff\":15},\"zerolinecolor\":\"white\",\"zerolinewidth\":2}}},\"xaxis\":{\"anchor\":\"y\",\"domain\":[0.0,1.0],\"visible\":false},\"yaxis\":{\"anchor\":\"x\",\"domain\":[0.0,1.0],\"autorange\":\"reversed\",\"visible\":false},\"annotations\":[{\"font\":{\"color\":\"rgb(206, 206, 206)\",\"family\":\"Droid Sans Mono\",\"size\":22},\"hovertext\":\"# 242\",\"showarrow\":false,\"text\":\"wait\",\"textangle\":90,\"x\":16,\"xanchor\":\"left\",\"y\":136,\"yanchor\":\"top\"},{\"font\":{\"color\":\"rgb(68, 68, 68)\",\"family\":\"Droid Sans Mono\",\"size\":47},\"hovertext\":\"# 529\",\"showarrow\":false,\"text\":\"time\",\"textangle\":0,\"x\":138,\"xanchor\":\"left\",\"y\":81,\"yanchor\":\"top\"},{\"font\":{\"color\":\"rgb(157, 157, 157)\",\"family\":\"Droid Sans Mono\",\"size\":37},\"hovertext\":\"# 482\",\"showarrow\":false,\"text\":\"delivery\",\"textangle\":0,\"x\":94,\"xanchor\":\"left\",\"y\":26,\"yanchor\":\"top\"},{\"font\":{\"color\":\"rgb(80, 80, 80)\",\"family\":\"Droid Sans Mono\",\"size\":33},\"hovertext\":\"# 386\",\"showarrow\":false,\"text\":\"service\",\"textangle\":0,\"x\":107,\"xanchor\":\"left\",\"y\":50,\"yanchor\":\"top\"},{\"font\":{\"color\":\"rgb(39, 39, 39)\",\"family\":\"Droid Sans Mono\",\"size\":33},\"hovertext\":\"# 378\",\"showarrow\":false,\"text\":\"fast\",\"textangle\":0,\"x\":97,\"xanchor\":\"left\",\"y\":134,\"yanchor\":\"top\"},{\"font\":{\"color\":\"rgb(23, 23, 23)\",\"family\":\"Droid Sans Mono\",\"size\":25},\"hovertext\":\"# 329\",\"showarrow\":false,\"text\":\"deliver\",\"textangle\":0,\"x\":163,\"xanchor\":\"left\",\"y\":12,\"yanchor\":\"top\"},{\"font\":{\"color\":\"rgb(57, 57, 57)\",\"family\":\"Droid Sans Mono\",\"size\":22},\"hovertext\":\"# 250\",\"showarrow\":false,\"text\":\"people\",\"textangle\":0,\"x\":20,\"xanchor\":\"left\",\"y\":119,\"yanchor\":\"top\"},{\"font\":{\"color\":\"rgb(164, 164, 164)\",\"family\":\"Droid Sans Mono\",\"size\":22},\"hovertext\":\"# 250\",\"showarrow\":false,\"text\":\"load\",\"textangle\":0,\"x\":97,\"xanchor\":\"left\",\"y\":98,\"yanchor\":\"top\"},{\"font\":{\"color\":\"rgb(204, 204, 204)\",\"family\":\"Droid Sans Mono\",\"size\":22},\"hovertext\":\"# 235\",\"showarrow\":false,\"text\":\"day\",\"textangle\":0,\"x\":49,\"xanchor\":\"left\",\"y\":162,\"yanchor\":\"top\"},{\"font\":{\"color\":\"rgb(37, 37, 37)\",\"family\":\"Droid Sans Mono\",\"size\":22},\"hovertext\":\"# 228\",\"showarrow\":false,\"text\":\"unload\",\"textangle\":0,\"x\":185,\"xanchor\":\"left\",\"y\":71,\"yanchor\":\"top\"},{\"font\":{\"color\":\"rgb(153, 153, 153)\",\"family\":\"Droid Sans Mono\",\"size\":21},\"hovertext\":\"# 226\",\"showarrow\":false,\"text\":\"staff\",\"textangle\":0,\"x\":94,\"xanchor\":\"left\",\"y\":71,\"yanchor\":\"top\"},{\"font\":{\"color\":\"rgb(243, 243, 243)\",\"family\":\"Droid Sans Mono\",\"size\":15},\"hovertext\":\"# 210\",\"showarrow\":false,\"text\":\"loading\",\"textangle\":0,\"x\":96,\"xanchor\":\"left\",\"y\":111,\"yanchor\":\"top\"},{\"font\":{\"color\":\"rgb(15, 15, 15)\",\"family\":\"Droid Sans Mono\",\"size\":15},\"hovertext\":\"# 199\",\"showarrow\":false,\"text\":\"come\",\"textangle\":0,\"x\":126,\"xanchor\":\"left\",\"y\":155,\"yanchor\":\"top\"},{\"font\":{\"color\":\"rgb(6, 6, 6)\",\"family\":\"Droid Sans Mono\",\"size\":15},\"hovertext\":\"# 197\",\"showarrow\":false,\"text\":\"quickly\",\"textangle\":0,\"x\":117,\"xanchor\":\"left\",\"y\":12,\"yanchor\":\"top\"},{\"font\":{\"color\":\"rgb(60, 60, 60)\",\"family\":\"Droid Sans Mono\",\"size\":15},\"hovertext\":\"# 196\",\"showarrow\":false,\"text\":\"hour\",\"textangle\":0,\"x\":191,\"xanchor\":\"left\",\"y\":172,\"yanchor\":\"top\"},{\"font\":{\"color\":\"rgb(181, 181, 181)\",\"family\":\"Droid Sans Mono\",\"size\":15},\"hovertext\":\"# 190\",\"showarrow\":false,\"text\":\"order\",\"textangle\":0,\"x\":213,\"xanchor\":\"left\",\"y\":132,\"yanchor\":\"top\"},{\"font\":{\"color\":\"rgb(252, 252, 252)\",\"family\":\"Droid Sans Mono\",\"size\":13},\"hovertext\":\"# 189\",\"showarrow\":false,\"text\":\"transport\",\"textangle\":0,\"x\":168,\"xanchor\":\"left\",\"y\":113,\"yanchor\":\"top\"},{\"font\":{\"color\":\"rgb(136, 136, 136)\",\"family\":\"Droid Sans Mono\",\"size\":13},\"hovertext\":\"# 167\",\"showarrow\":false,\"text\":\"office\",\"textangle\":0,\"x\":105,\"xanchor\":\"left\",\"y\":84,\"yanchor\":\"top\"},{\"font\":{\"color\":\"rgb(43, 43, 43)\",\"family\":\"Droid Sans Mono\",\"size\":13},\"hovertext\":\"# 167\",\"showarrow\":false,\"text\":\"call\",\"textangle\":0,\"x\":190,\"xanchor\":\"left\",\"y\":152,\"yanchor\":\"top\"},{\"font\":{\"color\":\"rgb(242, 242, 242)\",\"family\":\"Droid Sans Mono\",\"size\":13},\"hovertext\":\"# 163\",\"showarrow\":false,\"text\":\"place\",\"textangle\":0,\"x\":222,\"xanchor\":\"left\",\"y\":139,\"yanchor\":\"top\"},{\"font\":{\"color\":\"rgb(245, 245, 245)\",\"family\":\"Droid Sans Mono\",\"size\":13},\"hovertext\":\"# 156\",\"showarrow\":false,\"text\":\"coffee\",\"textangle\":0,\"x\":46,\"xanchor\":\"left\",\"y\":71,\"yanchor\":\"top\"},{\"font\":{\"color\":\"rgb(50, 50, 50)\",\"family\":\"Droid Sans Mono\",\"size\":13},\"hovertext\":\"# 152\",\"showarrow\":false,\"text\":\"long\",\"textangle\":0,\"x\":111,\"xanchor\":\"left\",\"y\":21,\"yanchor\":\"top\"},{\"font\":{\"color\":\"rgb(140, 140, 140)\",\"family\":\"Droid Sans Mono\",\"size\":13},\"hovertext\":\"# 144\",\"showarrow\":false,\"text\":\"toilet\",\"textangle\":0,\"x\":187,\"xanchor\":\"left\",\"y\":161,\"yanchor\":\"top\"}],\"paper_bgcolor\":\"rgb(255,255,255)\",\"plot_bgcolor\":\"rgb(255,255,255)\",\"width\":500,\"height\":500,\"clickmode\":\"select\"},                        {\"responsive\": true}                    ).then(function(){\n",
       "                            \n",
       "var gd = document.getElementById('b9bb16e2-9138-462d-994b-53d9557b2b63');\n",
       "var x = new MutationObserver(function (mutations, observer) {{\n",
       "        var display = window.getComputedStyle(gd).display;\n",
       "        if (!display || display === 'none') {{\n",
       "            console.log([gd, 'removed!']);\n",
       "            Plotly.purge(gd);\n",
       "            observer.disconnect();\n",
       "        }}\n",
       "}});\n",
       "\n",
       "// Listen for the removal of the full notebook cells\n",
       "var notebookContainer = gd.closest('#notebook-container');\n",
       "if (notebookContainer) {{\n",
       "    x.observe(notebookContainer, {childList: true});\n",
       "}}\n",
       "\n",
       "// Listen for the clearing of the current output cell\n",
       "var outputEl = gd.closest('.output');\n",
       "if (outputEl) {{\n",
       "    x.observe(outputEl, {childList: true});\n",
       "}}\n",
       "\n",
       "                        })                };                });            </script>        </div>"
      ]
     },
     "metadata": {},
     "output_type": "display_data"
    }
   ],
   "source": [
    "image_path = './figures/truck.png'\n",
    "pltsize = [500,500]\n",
    "opacity = 0.5\n",
    "color_list_rgb_list = get_rgb_color_list('Greens',5)\n",
    "color_mask = color_list_rgb_list[4]\n",
    "# tags = most_freq_df[most_freq_df['tag']=='ADV']\n",
    "colormap_text = 'Greys_r'\n",
    "wc_img,fig,wave_mask = plot_wordscloud(image_path,most_freq_df,color_mask,pltsize,opacity, colormap_text)\n",
    "fig\n",
    "fig.show()\n",
    "#    fig,ax =plt.subplots(figsize=(5,8))\n",
    "#    ax.imshow(wc_img, interpolation='bilinear')\n",
    "#    ax.axis(\"off\")\n",
    "\n"
   ]
  },
  {
   "cell_type": "code",
   "execution_count": 36,
   "id": "1a2f1702",
   "metadata": {},
   "outputs": [
    {
     "name": "stdout",
     "output_type": "stream",
     "text": [
      "['ADV' 'NOUN' 'VERB']\n"
     ]
    }
   ],
   "source": [
    "lexicon = most_freq_df['word'].tolist()\n",
    "len_lex = len(lexicon)\n",
    "print(np.unique(most_freq_df['tag']))"
   ]
  },
  {
   "cell_type": "code",
   "execution_count": 37,
   "id": "1af4af73",
   "metadata": {},
   "outputs": [],
   "source": [
    "# add color to tags\n",
    "col_tags = get_rgb_color_list('BuGn',len(np.unique(most_freq_df['tag'])))\n",
    "col_tags  = ['blue','red','yellow','green']\n",
    "col_tags = ['#d6cbd3','#eca1a6','#feb236','#ada397']\n",
    "\n",
    "dict_col = {}\n",
    "for j,i in enumerate(np.unique(most_freq_df['tag'])):\n",
    "    dict_col[i] = col_tags[j]\n"
   ]
  },
  {
   "cell_type": "code",
   "execution_count": 38,
   "id": "0d88dac5",
   "metadata": {},
   "outputs": [
    {
     "data": {
      "text/html": [
       "<div>\n",
       "<style scoped>\n",
       "    .dataframe tbody tr th:only-of-type {\n",
       "        vertical-align: middle;\n",
       "    }\n",
       "\n",
       "    .dataframe tbody tr th {\n",
       "        vertical-align: top;\n",
       "    }\n",
       "\n",
       "    .dataframe thead th {\n",
       "        text-align: right;\n",
       "    }\n",
       "</style>\n",
       "<table border=\"1\" class=\"dataframe\">\n",
       "  <thead>\n",
       "    <tr style=\"text-align: right;\">\n",
       "      <th></th>\n",
       "      <th>word</th>\n",
       "      <th>#</th>\n",
       "      <th>tag</th>\n",
       "      <th>col_tag</th>\n",
       "    </tr>\n",
       "  </thead>\n",
       "  <tbody>\n",
       "    <tr>\n",
       "      <th>92</th>\n",
       "      <td>fast</td>\n",
       "      <td>378</td>\n",
       "      <td>ADV</td>\n",
       "      <td>#d6cbd3</td>\n",
       "    </tr>\n",
       "    <tr>\n",
       "      <th>54</th>\n",
       "      <td>quickly</td>\n",
       "      <td>197</td>\n",
       "      <td>ADV</td>\n",
       "      <td>#d6cbd3</td>\n",
       "    </tr>\n",
       "    <tr>\n",
       "      <th>47</th>\n",
       "      <td>long</td>\n",
       "      <td>152</td>\n",
       "      <td>ADV</td>\n",
       "      <td>#d6cbd3</td>\n",
       "    </tr>\n",
       "    <tr>\n",
       "      <th>5</th>\n",
       "      <td>time</td>\n",
       "      <td>529</td>\n",
       "      <td>NOUN</td>\n",
       "      <td>#eca1a6</td>\n",
       "    </tr>\n",
       "    <tr>\n",
       "      <th>93</th>\n",
       "      <td>delivery</td>\n",
       "      <td>482</td>\n",
       "      <td>NOUN</td>\n",
       "      <td>#eca1a6</td>\n",
       "    </tr>\n",
       "  </tbody>\n",
       "</table>\n",
       "</div>"
      ],
      "text/plain": [
       "        word    #   tag  col_tag\n",
       "92      fast  378   ADV  #d6cbd3\n",
       "54   quickly  197   ADV  #d6cbd3\n",
       "47      long  152   ADV  #d6cbd3\n",
       "5       time  529  NOUN  #eca1a6\n",
       "93  delivery  482  NOUN  #eca1a6"
      ]
     },
     "execution_count": 38,
     "metadata": {},
     "output_type": "execute_result"
    }
   ],
   "source": [
    "# add color tag to the lexicon\n",
    "most_freq_df['col_tag'] = most_freq_df['tag'].apply(lambda x: dict_col[x])\n",
    "most_freq_df.head()"
   ]
  },
  {
   "cell_type": "code",
   "execution_count": 39,
   "id": "020271a0",
   "metadata": {},
   "outputs": [
    {
     "name": "stdout",
     "output_type": "stream",
     "text": [
      "['fast', 'quickly', 'long', 'time', 'delivery', 'service', 'people', 'day', 'unload', 'staff', 'hour', 'order', 'transport', 'office', 'place', 'coffee', 'toilet', 'deliver', 'load', 'wait', 'loading', 'come', 'call']\n"
     ]
    }
   ],
   "source": [
    "print(lexicon)\n",
    "# make adjacency matrix\n",
    "lexicon_adjmat = np.zeros((len_lex,len_lex))\n",
    "lexicon_adjmat = pd.DataFrame(lexicon_adjmat,columns = lexicon, index = lexicon)\n",
    "for i in np.arange(review_df['text_lemmas'].shape[0]):\n",
    "    intersec = list(set(review_df['text_lemmas'].iloc[i]).intersection(set(lexicon)))\n",
    "    lexicon_adjmat.loc[intersec,intersec] = lexicon_adjmat.loc[intersec,intersec]+ 1"
   ]
  },
  {
   "cell_type": "code",
   "execution_count": 40,
   "id": "fcba8021",
   "metadata": {},
   "outputs": [],
   "source": [
    "color_discrete_map = {}\n",
    "for i in np.arange(most_freq_df.shape[0]):\n",
    "    color_discrete_map[most_freq_df['word'].iloc[i]] = most_freq_df['col_tag'].iloc[i]"
   ]
  },
  {
   "cell_type": "code",
   "execution_count": 41,
   "id": "81670a55",
   "metadata": {},
   "outputs": [],
   "source": [
    "import plotly.graph_objects as go\n",
    "import networkx as nx\n",
    "import plotly.express as px\n",
    "from plotly.offline import plot\n",
    "\n",
    "# pos = nx.circular_layout(G)\n",
    "# pos = nx.kamada_kawai_layout(G)\n",
    "\n",
    "# G = nx.DiGraph(ad_mat)\n",
    "# nx.draw(G)\n",
    "\n",
    "# for i in np.arange(most_freq_df.shape[0]):\n",
    "#     G.nodes(data = True)[i]['level'] = most_freq_df['col_tag'].iloc[i]\n",
    "# pos = nx.multipartite_layout(G, subset_key=\"level\")\n",
    "\n",
    "def sigmoid(x):\n",
    "    y = 10 / (1 + np.exp(-(x-5)/1.9))\n",
    "    return y"
   ]
  },
  {
   "cell_type": "code",
   "execution_count": 42,
   "id": "14bae939",
   "metadata": {},
   "outputs": [
    {
     "name": "stderr",
     "output_type": "stream",
     "text": [
      "/var/folders/6d/dgjgypyn24x1lv9vc5gs38p00000gp/T/ipykernel_97057/805009564.py:3: DeprecationWarning:\n",
      "\n",
      "`np.bool` is a deprecated alias for the builtin `bool`. To silence this warning, use `bool` by itself. Doing this will not modify any behavior and is safe. If you specifically wanted the numpy scalar type, use `np.bool_` here.\n",
      "Deprecated in NumPy 1.20; for more details and guidance: https://numpy.org/devdocs/release/1.20.0-notes.html#deprecations\n",
      "\n"
     ]
    },
    {
     "data": {
      "text/plain": [
       "<AxesSubplot:>"
      ]
     },
     "execution_count": 42,
     "metadata": {},
     "output_type": "execute_result"
    },
    {
     "data": {
      "image/png": "[encoded data removed]",
      "text/plain": [
       "<Figure size 1080x1080 with 2 Axes>"
      ]
     },
     "metadata": {
      "needs_background": "light"
     },
     "output_type": "display_data"
    }
   ],
   "source": [
    "fig,ax = plt.subplots(figsize = (15,15))\n",
    "# matrix = np.triu(lexicon_adjmat.values)\n",
    "mask = np.zeros_like(lexicon_adjmat.values, dtype=np.bool)\n",
    "mask[np.triu_indices_from(mask)] = True\n",
    "sns.heatmap(lexicon_adjmat,mask=mask, annot=True, ax = ax, cmap=\"crest\",annot_kws={\"fontsize\":8})"
   ]
  },
  {
   "cell_type": "code",
   "execution_count": 75,
   "id": "e548e3b1",
   "metadata": {},
   "outputs": [],
   "source": [
    "ad_mat = lexicon_adjmat.values\n",
    "G = nx.from_numpy_matrix(ad_mat)\n",
    "pos = nx.random_layout(G)\n",
    "pos = nx.kamada_kawai_layout(G)"
   ]
  },
  {
   "cell_type": "code",
   "execution_count": 79,
   "id": "96b26f74",
   "metadata": {},
   "outputs": [
    {
     "data": {
      "application/vnd.plotly.v1+json": {
       "config": {
        "plotlyServerURL": "https://plot.ly"
       },
       "data": [
        {
         "hoverinfo": "none",
         "hovertext": " ",
         "line": {
          "color": "rgb(100,200,3)",
          "width": 3.68
         },
         "textposition": "top center",
         "type": "scatter",
         "x": [
          0.07672033887604401,
          0.07672033887604401,
          null
         ],
         "y": [
          0.27649526674030017,
          0.27649526674030017,
          null
         ]
        },
        {
         "hoverinfo": "none",
         "hovertext": " ",
         "line": {
          "color": "rgb(100,200,0)",
          "width": 0.03
         },
         "textposition": "top center",
         "type": "scatter",
         "x": [
          0.07672033887604401,
          0.26281681750159147,
          null
         ],
         "y": [
          0.27649526674030017,
          0.16341705312411842,
          null
         ]
        },
        {
         "hoverinfo": "none",
         "hovertext": " ",
         "line": {
          "color": "rgb(100,200,0)",
          "width": 0.04
         },
         "textposition": "top center",
         "type": "scatter",
         "x": [
          0.07672033887604401,
          -0.31640935946231563,
          null
         ],
         "y": [
          0.27649526674030017,
          0.4478815572900766,
          null
         ]
        },
        {
         "hoverinfo": "none",
         "hovertext": " ",
         "line": {
          "color": "rgb(100,200,0)",
          "width": 0.18
         },
         "textposition": "top center",
         "type": "scatter",
         "x": [
          0.07672033887604401,
          0.9999999999999999,
          null
         ],
         "y": [
          0.27649526674030017,
          -0.792748664783978,
          null
         ]
        },
        {
         "hoverinfo": "none",
         "hovertext": " ",
         "line": {
          "color": "rgb(100,200,0)",
          "width": 0.25
         },
         "textposition": "top center",
         "type": "scatter",
         "x": [
          0.07672033887604401,
          0.013359875503130328,
          null
         ],
         "y": [
          0.27649526674030017,
          -0.018807038715815263,
          null
         ]
        },
        {
         "hoverinfo": "none",
         "hovertext": " ",
         "line": {
          "color": "rgb(100,200,0)",
          "width": 0.46
         },
         "textposition": "top center",
         "type": "scatter",
         "x": [
          0.07672033887604401,
          -0.5927227170015038,
          null
         ],
         "y": [
          0.27649526674030017,
          -0.26818423076617726,
          null
         ]
        },
        {
         "hoverinfo": "none",
         "hovertext": " ",
         "line": {
          "color": "rgb(100,200,0)",
          "width": 0.27
         },
         "textposition": "top center",
         "type": "scatter",
         "x": [
          0.07672033887604401,
          -0.5261619971077781,
          null
         ],
         "y": [
          0.27649526674030017,
          0.15597534960762655,
          null
         ]
        },
        {
         "hoverinfo": "none",
         "hovertext": " ",
         "line": {
          "color": "rgb(100,200,0)",
          "width": 0.05
         },
         "textposition": "top center",
         "type": "scatter",
         "x": [
          0.07672033887604401,
          -0.1101981914276436,
          null
         ],
         "y": [
          0.27649526674030017,
          -0.1386567663246579,
          null
         ]
        },
        {
         "hoverinfo": "none",
         "hovertext": " ",
         "line": {
          "color": "rgb(100,200,0)",
          "width": 0.2
         },
         "textposition": "top center",
         "type": "scatter",
         "x": [
          0.07672033887604401,
          -0.3283655382286087,
          null
         ],
         "y": [
          0.27649526674030017,
          -0.5210579759864579,
          null
         ]
        },
        {
         "hoverinfo": "none",
         "hovertext": " ",
         "line": {
          "color": "rgb(100,200,0)",
          "width": 0.41
         },
         "textposition": "top center",
         "type": "scatter",
         "x": [
          0.07672033887604401,
          -0.17793367119152348,
          null
         ],
         "y": [
          0.27649526674030017,
          0.19909860375575822,
          null
         ]
        },
        {
         "hoverinfo": "none",
         "hovertext": " ",
         "line": {
          "color": "rgb(100,200,0)",
          "width": 0.06
         },
         "textposition": "top center",
         "type": "scatter",
         "x": [
          0.07672033887604401,
          -0.008898994998657116,
          null
         ],
         "y": [
          0.27649526674030017,
          0.86968417501967,
          null
         ]
        },
        {
         "hoverinfo": "none",
         "hovertext": " ",
         "line": {
          "color": "rgb(100,200,0)",
          "width": 0.02
         },
         "textposition": "top center",
         "type": "scatter",
         "x": [
          0.07672033887604401,
          -0.032363532478511176,
          null
         ],
         "y": [
          0.27649526674030017,
          0.11734746928670177,
          null
         ]
        },
        {
         "hoverinfo": "none",
         "hovertext": " ",
         "line": {
          "color": "rgb(100,200,0)",
          "width": 0.04
         },
         "textposition": "top center",
         "type": "scatter",
         "x": [
          0.07672033887604401,
          -0.024798508730488826,
          null
         ],
         "y": [
          0.27649526674030017,
          -0.17338909340872768,
          null
         ]
        },
        {
         "hoverinfo": "none",
         "hovertext": " ",
         "line": {
          "color": "rgb(100,200,0)",
          "width": 0.16
         },
         "textposition": "top center",
         "type": "scatter",
         "x": [
          0.07672033887604401,
          0.08140881795286144,
          null
         ],
         "y": [
          0.27649526674030017,
          -0.3613323956197131,
          null
         ]
        },
        {
         "hoverinfo": "none",
         "hovertext": " ",
         "line": {
          "color": "rgb(100,200,0)",
          "width": 0.12
         },
         "textposition": "top center",
         "type": "scatter",
         "x": [
          0.07672033887604401,
          -0.7643893943348069,
          null
         ],
         "y": [
          0.27649526674030017,
          0.5082398453914309,
          null
         ]
        },
        {
         "hoverinfo": "none",
         "hovertext": " ",
         "line": {
          "color": "rgb(100,200,0)",
          "width": 0.29
         },
         "textposition": "top center",
         "type": "scatter",
         "x": [
          0.07672033887604401,
          0.09606441193397575,
          null
         ],
         "y": [
          0.27649526674030017,
          -0.0018440192520536444,
          null
         ]
        },
        {
         "hoverinfo": "none",
         "hovertext": " ",
         "line": {
          "color": "rgb(100,200,0)",
          "width": 0.27
         },
         "textposition": "top center",
         "type": "scatter",
         "x": [
          0.07672033887604401,
          -0.05007246339081912,
          null
         ],
         "y": [
          0.27649526674030017,
          -0.07901321553880383,
          null
         ]
        },
        {
         "hoverinfo": "none",
         "hovertext": " ",
         "line": {
          "color": "rgb(100,200,0)",
          "width": 0.06
         },
         "textposition": "top center",
         "type": "scatter",
         "x": [
          0.07672033887604401,
          0.03147272336468635,
          null
         ],
         "y": [
          0.27649526674030017,
          -0.12807799463958677,
          null
         ]
        },
        {
         "hoverinfo": "none",
         "hovertext": " ",
         "line": {
          "color": "rgb(100,200,0)",
          "width": 0.28
         },
         "textposition": "top center",
         "type": "scatter",
         "x": [
          0.07672033887604401,
          -0.18223836965864945,
          null
         ],
         "y": [
          0.27649526674030017,
          -0.6322822275673232,
          null
         ]
        },
        {
         "hoverinfo": "none",
         "hovertext": " ",
         "line": {
          "color": "rgb(100,200,0)",
          "width": 0.06
         },
         "textposition": "top center",
         "type": "scatter",
         "x": [
          0.07672033887604401,
          0.6509979169809771,
          null
         ],
         "y": [
          0.27649526674030017,
          0.08960708127153735,
          null
         ]
        },
        {
         "hoverinfo": "none",
         "hovertext": " ",
         "line": {
          "color": "rgb(100,200,1)",
          "width": 1.05
         },
         "textposition": "top center",
         "type": "scatter",
         "x": [
          0.07672033887604401,
          0.1484277257993926,
          null
         ],
         "y": [
          0.27649526674030017,
          -0.21212120475697013,
          null
         ]
        },
        {
         "hoverinfo": "none",
         "hovertext": " ",
         "line": {
          "color": "rgb(100,200,0)",
          "width": 0.06
         },
         "textposition": "top center",
         "type": "scatter",
         "x": [
          0.07672033887604401,
          0.547664843443468,
          null
         ],
         "y": [
          0.27649526674030017,
          0.6410124382128094,
          null
         ]
        },
        {
         "hoverinfo": "none",
         "hovertext": " ",
         "line": {
          "color": "rgb(100,200,0)",
          "width": 0.04
         },
         "textposition": "top center",
         "type": "scatter",
         "x": [
          0.07672033887604401,
          0.20561926665517882,
          null
         ],
         "y": [
          0.27649526674030017,
          -0.14124401233976489,
          null
         ]
        },
        {
         "hoverinfo": "none",
         "hovertext": " ",
         "line": {
          "color": "rgb(100,200,1)",
          "width": 1.91
         },
         "textposition": "top center",
         "type": "scatter",
         "x": [
          0.26281681750159147,
          0.26281681750159147,
          null
         ],
         "y": [
          0.16341705312411842,
          0.16341705312411842,
          null
         ]
        },
        {
         "hoverinfo": "none",
         "hovertext": " ",
         "line": {
          "color": "rgb(100,200,0)",
          "width": 0.06
         },
         "textposition": "top center",
         "type": "scatter",
         "x": [
          0.26281681750159147,
          -0.31640935946231563,
          null
         ],
         "y": [
          0.16341705312411842,
          0.4478815572900766,
          null
         ]
        },
        {
         "hoverinfo": "none",
         "hovertext": " ",
         "line": {
          "color": "rgb(100,200,0)",
          "width": 0.19
         },
         "textposition": "top center",
         "type": "scatter",
         "x": [
          0.26281681750159147,
          0.9999999999999999,
          null
         ],
         "y": [
          0.16341705312411842,
          -0.792748664783978,
          null
         ]
        },
        {
         "hoverinfo": "none",
         "hovertext": " ",
         "line": {
          "color": "rgb(100,200,0)",
          "width": 0.03
         },
         "textposition": "top center",
         "type": "scatter",
         "x": [
          0.26281681750159147,
          0.013359875503130328,
          null
         ],
         "y": [
          0.16341705312411842,
          -0.018807038715815263,
          null
         ]
        },
        {
         "hoverinfo": "none",
         "hovertext": " ",
         "line": {
          "color": "rgb(100,200,0)",
          "width": 0.12
         },
         "textposition": "top center",
         "type": "scatter",
         "x": [
          0.26281681750159147,
          -0.5927227170015038,
          null
         ],
         "y": [
          0.16341705312411842,
          -0.26818423076617726,
          null
         ]
        },
        {
         "hoverinfo": "none",
         "hovertext": " ",
         "line": {
          "color": "rgb(100,200,0)",
          "width": 0.14
         },
         "textposition": "top center",
         "type": "scatter",
         "x": [
          0.26281681750159147,
          -0.5261619971077781,
          null
         ],
         "y": [
          0.16341705312411842,
          0.15597534960762655,
          null
         ]
        },
        {
         "hoverinfo": "none",
         "hovertext": " ",
         "line": {
          "color": "rgb(100,200,0)",
          "width": 0.04
         },
         "textposition": "top center",
         "type": "scatter",
         "x": [
          0.26281681750159147,
          -0.1101981914276436,
          null
         ],
         "y": [
          0.16341705312411842,
          -0.1386567663246579,
          null
         ]
        },
        {
         "hoverinfo": "none",
         "hovertext": " ",
         "line": {
          "color": "rgb(100,200,0)",
          "width": 0.47
         },
         "textposition": "top center",
         "type": "scatter",
         "x": [
          0.26281681750159147,
          -0.3283655382286087,
          null
         ],
         "y": [
          0.16341705312411842,
          -0.5210579759864579,
          null
         ]
        },
        {
         "hoverinfo": "none",
         "hovertext": " ",
         "line": {
          "color": "rgb(100,200,0)",
          "width": 0.21
         },
         "textposition": "top center",
         "type": "scatter",
         "x": [
          0.26281681750159147,
          -0.17793367119152348,
          null
         ],
         "y": [
          0.16341705312411842,
          0.19909860375575822,
          null
         ]
        },
        {
         "hoverinfo": "none",
         "hovertext": " ",
         "line": {
          "color": "rgb(100,200,0)",
          "width": 0.09
         },
         "textposition": "top center",
         "type": "scatter",
         "x": [
          0.26281681750159147,
          -0.008898994998657116,
          null
         ],
         "y": [
          0.16341705312411842,
          0.86968417501967,
          null
         ]
        },
        {
         "hoverinfo": "none",
         "hovertext": " ",
         "line": {
          "color": "rgb(100,200,0)",
          "width": 0.05
         },
         "textposition": "top center",
         "type": "scatter",
         "x": [
          0.26281681750159147,
          -0.032363532478511176,
          null
         ],
         "y": [
          0.16341705312411842,
          0.11734746928670177,
          null
         ]
        },
        {
         "hoverinfo": "none",
         "hovertext": " ",
         "line": {
          "color": "rgb(100,200,0)",
          "width": 0.05
         },
         "textposition": "top center",
         "type": "scatter",
         "x": [
          0.26281681750159147,
          -0.024798508730488826,
          null
         ],
         "y": [
          0.16341705312411842,
          -0.17338909340872768,
          null
         ]
        },
        {
         "hoverinfo": "none",
         "hovertext": " ",
         "line": {
          "color": "rgb(100,200,0)",
          "width": 0.15
         },
         "textposition": "top center",
         "type": "scatter",
         "x": [
          0.26281681750159147,
          0.08140881795286144,
          null
         ],
         "y": [
          0.16341705312411842,
          -0.3613323956197131,
          null
         ]
        },
        {
         "hoverinfo": "none",
         "hovertext": " ",
         "line": {
          "color": "rgb(100,200,0)",
          "width": 0.1
         },
         "textposition": "top center",
         "type": "scatter",
         "x": [
          0.26281681750159147,
          -0.7643893943348069,
          null
         ],
         "y": [
          0.16341705312411842,
          0.5082398453914309,
          null
         ]
        },
        {
         "hoverinfo": "none",
         "hovertext": " ",
         "line": {
          "color": "rgb(100,200,0)",
          "width": 0.2
         },
         "textposition": "top center",
         "type": "scatter",
         "x": [
          0.26281681750159147,
          0.09606441193397575,
          null
         ],
         "y": [
          0.16341705312411842,
          -0.0018440192520536444,
          null
         ]
        },
        {
         "hoverinfo": "none",
         "hovertext": " ",
         "line": {
          "color": "rgb(100,200,0)",
          "width": 0.2
         },
         "textposition": "top center",
         "type": "scatter",
         "x": [
          0.26281681750159147,
          -0.05007246339081912,
          null
         ],
         "y": [
          0.16341705312411842,
          -0.07901321553880383,
          null
         ]
        },
        {
         "hoverinfo": "none",
         "hovertext": " ",
         "line": {
          "color": "rgb(100,200,0)",
          "width": 0.06
         },
         "textposition": "top center",
         "type": "scatter",
         "x": [
          0.26281681750159147,
          0.03147272336468635,
          null
         ],
         "y": [
          0.16341705312411842,
          -0.12807799463958677,
          null
         ]
        },
        {
         "hoverinfo": "none",
         "hovertext": " ",
         "line": {
          "color": "rgb(100,200,0)",
          "width": 0.43
         },
         "textposition": "top center",
         "type": "scatter",
         "x": [
          0.26281681750159147,
          -0.18223836965864945,
          null
         ],
         "y": [
          0.16341705312411842,
          -0.6322822275673232,
          null
         ]
        },
        {
         "hoverinfo": "none",
         "hovertext": " ",
         "line": {
          "color": "rgb(100,200,0)",
          "width": 0.13
         },
         "textposition": "top center",
         "type": "scatter",
         "x": [
          0.26281681750159147,
          0.6509979169809771,
          null
         ],
         "y": [
          0.16341705312411842,
          0.08960708127153735,
          null
         ]
        },
        {
         "hoverinfo": "none",
         "hovertext": " ",
         "line": {
          "color": "rgb(100,200,0)",
          "width": 0.12
         },
         "textposition": "top center",
         "type": "scatter",
         "x": [
          0.26281681750159147,
          0.1484277257993926,
          null
         ],
         "y": [
          0.16341705312411842,
          -0.21212120475697013,
          null
         ]
        },
        {
         "hoverinfo": "none",
         "hovertext": " ",
         "line": {
          "color": "rgb(100,200,0)",
          "width": 0.11
         },
         "textposition": "top center",
         "type": "scatter",
         "x": [
          0.26281681750159147,
          0.547664843443468,
          null
         ],
         "y": [
          0.16341705312411842,
          0.6410124382128094,
          null
         ]
        },
        {
         "hoverinfo": "none",
         "hovertext": " ",
         "line": {
          "color": "rgb(100,200,0)",
          "width": 0.04
         },
         "textposition": "top center",
         "type": "scatter",
         "x": [
          0.26281681750159147,
          0.20561926665517882,
          null
         ],
         "y": [
          0.16341705312411842,
          -0.14124401233976489,
          null
         ]
        },
        {
         "hoverinfo": "none",
         "hovertext": " ",
         "line": {
          "color": "rgb(100,200,1)",
          "width": 1.4
         },
         "textposition": "top center",
         "type": "scatter",
         "x": [
          -0.31640935946231563,
          -0.31640935946231563,
          null
         ],
         "y": [
          0.4478815572900766,
          0.4478815572900766,
          null
         ]
        },
        {
         "hoverinfo": "none",
         "hovertext": " ",
         "line": {
          "color": "rgb(100,200,0)",
          "width": 0.87
         },
         "textposition": "top center",
         "type": "scatter",
         "x": [
          -0.31640935946231563,
          0.9999999999999999,
          null
         ],
         "y": [
          0.4478815572900766,
          -0.792748664783978,
          null
         ]
        },
        {
         "hoverinfo": "none",
         "hovertext": " ",
         "line": {
          "color": "rgb(100,200,0)",
          "width": 0.17
         },
         "textposition": "top center",
         "type": "scatter",
         "x": [
          -0.31640935946231563,
          0.013359875503130328,
          null
         ],
         "y": [
          0.4478815572900766,
          -0.018807038715815263,
          null
         ]
        },
        {
         "hoverinfo": "none",
         "hovertext": " ",
         "line": {
          "color": "rgb(100,200,0)",
          "width": 0.06
         },
         "textposition": "top center",
         "type": "scatter",
         "x": [
          -0.31640935946231563,
          -0.5927227170015038,
          null
         ],
         "y": [
          0.4478815572900766,
          -0.26818423076617726,
          null
         ]
        },
        {
         "hoverinfo": "none",
         "hovertext": " ",
         "line": {
          "color": "rgb(100,200,0)",
          "width": 0.04
         },
         "textposition": "top center",
         "type": "scatter",
         "x": [
          -0.31640935946231563,
          -0.5261619971077781,
          null
         ],
         "y": [
          0.4478815572900766,
          0.15597534960762655,
          null
         ]
        },
        {
         "hoverinfo": "none",
         "hovertext": " ",
         "line": {
          "color": "rgb(100,200,0)",
          "width": 0.11
         },
         "textposition": "top center",
         "type": "scatter",
         "x": [
          -0.31640935946231563,
          -0.1101981914276436,
          null
         ],
         "y": [
          0.4478815572900766,
          -0.1386567663246579,
          null
         ]
        },
        {
         "hoverinfo": "none",
         "hovertext": " ",
         "line": {
          "color": "rgb(100,200,0)",
          "width": 0.25
         },
         "textposition": "top center",
         "type": "scatter",
         "x": [
          -0.31640935946231563,
          -0.3283655382286087,
          null
         ],
         "y": [
          0.4478815572900766,
          -0.5210579759864579,
          null
         ]
        },
        {
         "hoverinfo": "none",
         "hovertext": " ",
         "line": {
          "color": "rgb(100,200,0)",
          "width": 0.12
         },
         "textposition": "top center",
         "type": "scatter",
         "x": [
          -0.31640935946231563,
          -0.17793367119152348,
          null
         ],
         "y": [
          0.4478815572900766,
          0.19909860375575822,
          null
         ]
        },
        {
         "hoverinfo": "none",
         "hovertext": " ",
         "line": {
          "color": "rgb(100,200,0)",
          "width": 0.16
         },
         "textposition": "top center",
         "type": "scatter",
         "x": [
          -0.31640935946231563,
          -0.008898994998657116,
          null
         ],
         "y": [
          0.4478815572900766,
          0.86968417501967,
          null
         ]
        },
        {
         "hoverinfo": "none",
         "hovertext": " ",
         "line": {
          "color": "rgb(100,200,0)",
          "width": 0.1
         },
         "textposition": "top center",
         "type": "scatter",
         "x": [
          -0.31640935946231563,
          -0.032363532478511176,
          null
         ],
         "y": [
          0.4478815572900766,
          0.11734746928670177,
          null
         ]
        },
        {
         "hoverinfo": "none",
         "hovertext": " ",
         "line": {
          "color": "rgb(100,200,0)",
          "width": 0.08
         },
         "textposition": "top center",
         "type": "scatter",
         "x": [
          -0.31640935946231563,
          -0.024798508730488826,
          null
         ],
         "y": [
          0.4478815572900766,
          -0.17338909340872768,
          null
         ]
        },
        {
         "hoverinfo": "none",
         "hovertext": " ",
         "line": {
          "color": "rgb(100,200,0)",
          "width": 0.1
         },
         "textposition": "top center",
         "type": "scatter",
         "x": [
          -0.31640935946231563,
          0.08140881795286144,
          null
         ],
         "y": [
          0.4478815572900766,
          -0.3613323956197131,
          null
         ]
        },
        {
         "hoverinfo": "none",
         "hovertext": " ",
         "line": {
          "color": "rgb(100,200,0)",
          "width": 0.06
         },
         "textposition": "top center",
         "type": "scatter",
         "x": [
          -0.31640935946231563,
          -0.7643893943348069,
          null
         ],
         "y": [
          0.4478815572900766,
          0.5082398453914309,
          null
         ]
        },
        {
         "hoverinfo": "none",
         "hovertext": " ",
         "line": {
          "color": "rgb(100,200,0)",
          "width": 0.06
         },
         "textposition": "top center",
         "type": "scatter",
         "x": [
          -0.31640935946231563,
          0.09606441193397575,
          null
         ],
         "y": [
          0.4478815572900766,
          -0.0018440192520536444,
          null
         ]
        },
        {
         "hoverinfo": "none",
         "hovertext": " ",
         "line": {
          "color": "rgb(100,200,0)",
          "width": 0.12
         },
         "textposition": "top center",
         "type": "scatter",
         "x": [
          -0.31640935946231563,
          -0.05007246339081912,
          null
         ],
         "y": [
          0.4478815572900766,
          -0.07901321553880383,
          null
         ]
        },
        {
         "hoverinfo": "none",
         "hovertext": " ",
         "line": {
          "color": "rgb(100,200,0)",
          "width": 0.12
         },
         "textposition": "top center",
         "type": "scatter",
         "x": [
          -0.31640935946231563,
          0.03147272336468635,
          null
         ],
         "y": [
          0.4478815572900766,
          -0.12807799463958677,
          null
         ]
        },
        {
         "hoverinfo": "none",
         "hovertext": " ",
         "line": {
          "color": "rgb(100,200,0)",
          "width": 0.19
         },
         "textposition": "top center",
         "type": "scatter",
         "x": [
          -0.31640935946231563,
          -0.18223836965864945,
          null
         ],
         "y": [
          0.4478815572900766,
          -0.6322822275673232,
          null
         ]
        },
        {
         "hoverinfo": "none",
         "hovertext": " ",
         "line": {
          "color": "rgb(100,200,0)",
          "width": 0.51
         },
         "textposition": "top center",
         "type": "scatter",
         "x": [
          -0.31640935946231563,
          0.6509979169809771,
          null
         ],
         "y": [
          0.4478815572900766,
          0.08960708127153735,
          null
         ]
        },
        {
         "hoverinfo": "none",
         "hovertext": " ",
         "line": {
          "color": "rgb(100,200,0)",
          "width": 0.13
         },
         "textposition": "top center",
         "type": "scatter",
         "x": [
          -0.31640935946231563,
          0.1484277257993926,
          null
         ],
         "y": [
          0.4478815572900766,
          -0.21212120475697013,
          null
         ]
        },
        {
         "hoverinfo": "none",
         "hovertext": " ",
         "line": {
          "color": "rgb(100,200,0)",
          "width": 0.15
         },
         "textposition": "top center",
         "type": "scatter",
         "x": [
          -0.31640935946231563,
          0.547664843443468,
          null
         ],
         "y": [
          0.4478815572900766,
          0.6410124382128094,
          null
         ]
        },
        {
         "hoverinfo": "none",
         "hovertext": " ",
         "line": {
          "color": "rgb(100,200,0)",
          "width": 0.12
         },
         "textposition": "top center",
         "type": "scatter",
         "x": [
          -0.31640935946231563,
          0.20561926665517882,
          null
         ],
         "y": [
          0.4478815572900766,
          -0.14124401233976489,
          null
         ]
        },
        {
         "hoverinfo": "none",
         "hovertext": " ",
         "line": {
          "color": "rgb(100,200,4)",
          "width": 4.23
         },
         "textposition": "top center",
         "type": "scatter",
         "x": [
          0.9999999999999999,
          0.9999999999999999,
          null
         ],
         "y": [
          -0.792748664783978,
          -0.792748664783978,
          null
         ]
        },
        {
         "hoverinfo": "none",
         "hovertext": " ",
         "line": {
          "color": "rgb(100,200,1)",
          "width": 1.3
         },
         "textposition": "top center",
         "type": "scatter",
         "x": [
          0.9999999999999999,
          0.013359875503130328,
          null
         ],
         "y": [
          -0.792748664783978,
          -0.018807038715815263,
          null
         ]
        },
        {
         "hoverinfo": "none",
         "hovertext": " ",
         "line": {
          "color": "rgb(100,200,0)",
          "width": 0.63
         },
         "textposition": "top center",
         "type": "scatter",
         "x": [
          0.9999999999999999,
          -0.5927227170015038,
          null
         ],
         "y": [
          -0.792748664783978,
          -0.26818423076617726,
          null
         ]
        },
        {
         "hoverinfo": "none",
         "hovertext": " ",
         "line": {
          "color": "rgb(100,200,0)",
          "width": 0.33
         },
         "textposition": "top center",
         "type": "scatter",
         "x": [
          0.9999999999999999,
          -0.5261619971077781,
          null
         ],
         "y": [
          -0.792748664783978,
          0.15597534960762655,
          null
         ]
        },
        {
         "hoverinfo": "none",
         "hovertext": " ",
         "line": {
          "color": "rgb(100,200,0)",
          "width": 0.78
         },
         "textposition": "top center",
         "type": "scatter",
         "x": [
          0.9999999999999999,
          -0.1101981914276436,
          null
         ],
         "y": [
          -0.792748664783978,
          -0.1386567663246579,
          null
         ]
        },
        {
         "hoverinfo": "none",
         "hovertext": " ",
         "line": {
          "color": "rgb(100,200,0)",
          "width": 0.4
         },
         "textposition": "top center",
         "type": "scatter",
         "x": [
          0.9999999999999999,
          -0.3283655382286087,
          null
         ],
         "y": [
          -0.792748664783978,
          -0.5210579759864579,
          null
         ]
        },
        {
         "hoverinfo": "none",
         "hovertext": " ",
         "line": {
          "color": "rgb(100,200,0)",
          "width": 0.24
         },
         "textposition": "top center",
         "type": "scatter",
         "x": [
          0.9999999999999999,
          -0.17793367119152348,
          null
         ],
         "y": [
          -0.792748664783978,
          0.19909860375575822,
          null
         ]
        },
        {
         "hoverinfo": "none",
         "hovertext": " ",
         "line": {
          "color": "rgb(100,200,0)",
          "width": 0.52
         },
         "textposition": "top center",
         "type": "scatter",
         "x": [
          0.9999999999999999,
          -0.008898994998657116,
          null
         ],
         "y": [
          -0.792748664783978,
          0.86968417501967,
          null
         ]
        },
        {
         "hoverinfo": "none",
         "hovertext": " ",
         "line": {
          "color": "rgb(100,200,0)",
          "width": 0.58
         },
         "textposition": "top center",
         "type": "scatter",
         "x": [
          0.9999999999999999,
          -0.032363532478511176,
          null
         ],
         "y": [
          -0.792748664783978,
          0.11734746928670177,
          null
         ]
        },
        {
         "hoverinfo": "none",
         "hovertext": " ",
         "line": {
          "color": "rgb(100,200,0)",
          "width": 0.41
         },
         "textposition": "top center",
         "type": "scatter",
         "x": [
          0.9999999999999999,
          -0.024798508730488826,
          null
         ],
         "y": [
          -0.792748664783978,
          -0.17338909340872768,
          null
         ]
        },
        {
         "hoverinfo": "none",
         "hovertext": " ",
         "line": {
          "color": "rgb(100,200,0)",
          "width": 0.25
         },
         "textposition": "top center",
         "type": "scatter",
         "x": [
          0.9999999999999999,
          0.08140881795286144,
          null
         ],
         "y": [
          -0.792748664783978,
          -0.3613323956197131,
          null
         ]
        },
        {
         "hoverinfo": "none",
         "hovertext": " ",
         "line": {
          "color": "rgb(100,200,0)",
          "width": 0.29
         },
         "textposition": "top center",
         "type": "scatter",
         "x": [
          0.9999999999999999,
          -0.7643893943348069,
          null
         ],
         "y": [
          -0.792748664783978,
          0.5082398453914309,
          null
         ]
        },
        {
         "hoverinfo": "none",
         "hovertext": " ",
         "line": {
          "color": "rgb(100,200,0)",
          "width": 0.11
         },
         "textposition": "top center",
         "type": "scatter",
         "x": [
          0.9999999999999999,
          0.09606441193397575,
          null
         ],
         "y": [
          -0.792748664783978,
          -0.0018440192520536444,
          null
         ]
        },
        {
         "hoverinfo": "none",
         "hovertext": " ",
         "line": {
          "color": "rgb(100,200,0)",
          "width": 0.18
         },
         "textposition": "top center",
         "type": "scatter",
         "x": [
          0.9999999999999999,
          -0.05007246339081912,
          null
         ],
         "y": [
          -0.792748664783978,
          -0.07901321553880383,
          null
         ]
        },
        {
         "hoverinfo": "none",
         "hovertext": " ",
         "line": {
          "color": "rgb(100,200,0)",
          "width": 0.98
         },
         "textposition": "top center",
         "type": "scatter",
         "x": [
          0.9999999999999999,
          0.03147272336468635,
          null
         ],
         "y": [
          -0.792748664783978,
          -0.12807799463958677,
          null
         ]
        },
        {
         "hoverinfo": "none",
         "hovertext": " ",
         "line": {
          "color": "rgb(100,200,0)",
          "width": 0.45
         },
         "textposition": "top center",
         "type": "scatter",
         "x": [
          0.9999999999999999,
          -0.18223836965864945,
          null
         ],
         "y": [
          -0.792748664783978,
          -0.6322822275673232,
          null
         ]
        },
        {
         "hoverinfo": "none",
         "hovertext": " ",
         "line": {
          "color": "rgb(100,200,0)",
          "width": 0.61
         },
         "textposition": "top center",
         "type": "scatter",
         "x": [
          0.9999999999999999,
          0.6509979169809771,
          null
         ],
         "y": [
          -0.792748664783978,
          0.08960708127153735,
          null
         ]
        },
        {
         "hoverinfo": "none",
         "hovertext": " ",
         "line": {
          "color": "rgb(100,200,0)",
          "width": 0.18
         },
         "textposition": "top center",
         "type": "scatter",
         "x": [
          0.9999999999999999,
          0.1484277257993926,
          null
         ],
         "y": [
          -0.792748664783978,
          -0.21212120475697013,
          null
         ]
        },
        {
         "hoverinfo": "none",
         "hovertext": " ",
         "line": {
          "color": "rgb(100,200,0)",
          "width": 0.62
         },
         "textposition": "top center",
         "type": "scatter",
         "x": [
          0.9999999999999999,
          0.547664843443468,
          null
         ],
         "y": [
          -0.792748664783978,
          0.6410124382128094,
          null
         ]
        },
        {
         "hoverinfo": "none",
         "hovertext": " ",
         "line": {
          "color": "rgb(100,200,0)",
          "width": 0.68
         },
         "textposition": "top center",
         "type": "scatter",
         "x": [
          0.9999999999999999,
          0.20561926665517882,
          null
         ],
         "y": [
          -0.792748664783978,
          -0.14124401233976489,
          null
         ]
        },
        {
         "hoverinfo": "none",
         "hovertext": " ",
         "line": {
          "color": "rgb(100,200,3)",
          "width": 3.32
         },
         "textposition": "top center",
         "type": "scatter",
         "x": [
          0.013359875503130328,
          0.013359875503130328,
          null
         ],
         "y": [
          -0.018807038715815263,
          -0.018807038715815263,
          null
         ]
        },
        {
         "hoverinfo": "none",
         "hovertext": " ",
         "line": {
          "color": "rgb(100,200,0)",
          "width": 0.85
         },
         "textposition": "top center",
         "type": "scatter",
         "x": [
          0.013359875503130328,
          -0.5927227170015038,
          null
         ],
         "y": [
          -0.018807038715815263,
          -0.26818423076617726,
          null
         ]
        },
        {
         "hoverinfo": "none",
         "hovertext": " ",
         "line": {
          "color": "rgb(100,200,0)",
          "width": 0.19
         },
         "textposition": "top center",
         "type": "scatter",
         "x": [
          0.013359875503130328,
          -0.5261619971077781,
          null
         ],
         "y": [
          -0.018807038715815263,
          0.15597534960762655,
          null
         ]
        },
        {
         "hoverinfo": "none",
         "hovertext": " ",
         "line": {
          "color": "rgb(100,200,0)",
          "width": 0.75
         },
         "textposition": "top center",
         "type": "scatter",
         "x": [
          0.013359875503130328,
          -0.1101981914276436,
          null
         ],
         "y": [
          -0.018807038715815263,
          -0.1386567663246579,
          null
         ]
        },
        {
         "hoverinfo": "none",
         "hovertext": " ",
         "line": {
          "color": "rgb(100,200,0)",
          "width": 0.1
         },
         "textposition": "top center",
         "type": "scatter",
         "x": [
          0.013359875503130328,
          -0.3283655382286087,
          null
         ],
         "y": [
          -0.018807038715815263,
          -0.5210579759864579,
          null
         ]
        },
        {
         "hoverinfo": "none",
         "hovertext": " ",
         "line": {
          "color": "rgb(100,200,0)",
          "width": 0.09
         },
         "textposition": "top center",
         "type": "scatter",
         "x": [
          0.013359875503130328,
          -0.17793367119152348,
          null
         ],
         "y": [
          -0.018807038715815263,
          0.19909860375575822,
          null
         ]
        },
        {
         "hoverinfo": "none",
         "hovertext": " ",
         "line": {
          "color": "rgb(100,200,0)",
          "width": 0.28
         },
         "textposition": "top center",
         "type": "scatter",
         "x": [
          0.013359875503130328,
          -0.008898994998657116,
          null
         ],
         "y": [
          -0.018807038715815263,
          0.86968417501967,
          null
         ]
        },
        {
         "hoverinfo": "none",
         "hovertext": " ",
         "line": {
          "color": "rgb(100,200,0)",
          "width": 0.76
         },
         "textposition": "top center",
         "type": "scatter",
         "x": [
          0.013359875503130328,
          -0.032363532478511176,
          null
         ],
         "y": [
          -0.018807038715815263,
          0.11734746928670177,
          null
         ]
        },
        {
         "hoverinfo": "none",
         "hovertext": " ",
         "line": {
          "color": "rgb(100,200,0)",
          "width": 0.39
         },
         "textposition": "top center",
         "type": "scatter",
         "x": [
          0.013359875503130328,
          -0.024798508730488826,
          null
         ],
         "y": [
          -0.018807038715815263,
          -0.17338909340872768,
          null
         ]
        },
        {
         "hoverinfo": "none",
         "hovertext": " ",
         "line": {
          "color": "rgb(100,200,0)",
          "width": 0.03
         },
         "textposition": "top center",
         "type": "scatter",
         "x": [
          0.013359875503130328,
          0.08140881795286144,
          null
         ],
         "y": [
          -0.018807038715815263,
          -0.3613323956197131,
          null
         ]
        },
        {
         "hoverinfo": "none",
         "hovertext": " ",
         "line": {
          "color": "rgb(100,200,0)",
          "width": 0.28
         },
         "textposition": "top center",
         "type": "scatter",
         "x": [
          0.013359875503130328,
          -0.7643893943348069,
          null
         ],
         "y": [
          -0.018807038715815263,
          0.5082398453914309,
          null
         ]
        },
        {
         "hoverinfo": "none",
         "hovertext": " ",
         "line": {
          "color": "rgb(100,200,0)",
          "width": 0.01
         },
         "textposition": "top center",
         "type": "scatter",
         "x": [
          0.013359875503130328,
          0.09606441193397575,
          null
         ],
         "y": [
          -0.018807038715815263,
          -0.0018440192520536444,
          null
         ]
        },
        {
         "hoverinfo": "none",
         "hovertext": " ",
         "line": {
          "color": "rgb(100,200,0)",
          "width": 0.01
         },
         "textposition": "top center",
         "type": "scatter",
         "x": [
          0.013359875503130328,
          -0.05007246339081912,
          null
         ],
         "y": [
          -0.018807038715815263,
          -0.07901321553880383,
          null
         ]
        },
        {
         "hoverinfo": "none",
         "hovertext": " ",
         "line": {
          "color": "rgb(100,200,1)",
          "width": 1.13
         },
         "textposition": "top center",
         "type": "scatter",
         "x": [
          0.013359875503130328,
          0.03147272336468635,
          null
         ],
         "y": [
          -0.018807038715815263,
          -0.12807799463958677,
          null
         ]
        },
        {
         "hoverinfo": "none",
         "hovertext": " ",
         "line": {
          "color": "rgb(100,200,0)",
          "width": 0.07
         },
         "textposition": "top center",
         "type": "scatter",
         "x": [
          0.013359875503130328,
          -0.18223836965864945,
          null
         ],
         "y": [
          -0.018807038715815263,
          -0.6322822275673232,
          null
         ]
        },
        {
         "hoverinfo": "none",
         "hovertext": " ",
         "line": {
          "color": "rgb(100,200,0)",
          "width": 0.28
         },
         "textposition": "top center",
         "type": "scatter",
         "x": [
          0.013359875503130328,
          0.6509979169809771,
          null
         ],
         "y": [
          -0.018807038715815263,
          0.08960708127153735,
          null
         ]
        },
        {
         "hoverinfo": "none",
         "hovertext": " ",
         "line": {
          "color": "rgb(100,200,0)",
          "width": 0.48
         },
         "textposition": "top center",
         "type": "scatter",
         "x": [
          0.013359875503130328,
          0.547664843443468,
          null
         ],
         "y": [
          -0.018807038715815263,
          0.6410124382128094,
          null
         ]
        },
        {
         "hoverinfo": "none",
         "hovertext": " ",
         "line": {
          "color": "rgb(100,200,0)",
          "width": 0.81
         },
         "textposition": "top center",
         "type": "scatter",
         "x": [
          0.013359875503130328,
          0.20561926665517882,
          null
         ],
         "y": [
          -0.018807038715815263,
          -0.14124401233976489,
          null
         ]
        },
        {
         "hoverinfo": "none",
         "hovertext": " ",
         "line": {
          "color": "rgb(100,200,3)",
          "width": 3.38
         },
         "textposition": "top center",
         "type": "scatter",
         "x": [
          -0.5927227170015038,
          -0.5927227170015038,
          null
         ],
         "y": [
          -0.26818423076617726,
          -0.26818423076617726,
          null
         ]
        },
        {
         "hoverinfo": "none",
         "hovertext": " ",
         "line": {
          "color": "rgb(100,200,0)",
          "width": 0.18
         },
         "textposition": "top center",
         "type": "scatter",
         "x": [
          -0.5927227170015038,
          -0.5261619971077781,
          null
         ],
         "y": [
          -0.26818423076617726,
          0.15597534960762655,
          null
         ]
        },
        {
         "hoverinfo": "none",
         "hovertext": " ",
         "line": {
          "color": "rgb(100,200,0)",
          "width": 0.42
         },
         "textposition": "top center",
         "type": "scatter",
         "x": [
          -0.5927227170015038,
          -0.1101981914276436,
          null
         ],
         "y": [
          -0.26818423076617726,
          -0.1386567663246579,
          null
         ]
        },
        {
         "hoverinfo": "none",
         "hovertext": " ",
         "line": {
          "color": "rgb(100,200,0)",
          "width": 0.11
         },
         "textposition": "top center",
         "type": "scatter",
         "x": [
          -0.5927227170015038,
          -0.3283655382286087,
          null
         ],
         "y": [
          -0.26818423076617726,
          -0.5210579759864579,
          null
         ]
        },
        {
         "hoverinfo": "none",
         "hovertext": " ",
         "line": {
          "color": "rgb(100,200,0)",
          "width": 0.13
         },
         "textposition": "top center",
         "type": "scatter",
         "x": [
          -0.5927227170015038,
          -0.17793367119152348,
          null
         ],
         "y": [
          -0.26818423076617726,
          0.19909860375575822,
          null
         ]
        },
        {
         "hoverinfo": "none",
         "hovertext": " ",
         "line": {
          "color": "rgb(100,200,0)",
          "width": 0.17
         },
         "textposition": "top center",
         "type": "scatter",
         "x": [
          -0.5927227170015038,
          -0.008898994998657116,
          null
         ],
         "y": [
          -0.26818423076617726,
          0.86968417501967,
          null
         ]
        },
        {
         "hoverinfo": "none",
         "hovertext": " ",
         "line": {
          "color": "rgb(100,200,0)",
          "width": 0.38
         },
         "textposition": "top center",
         "type": "scatter",
         "x": [
          -0.5927227170015038,
          -0.032363532478511176,
          null
         ],
         "y": [
          -0.26818423076617726,
          0.11734746928670177,
          null
         ]
        },
        {
         "hoverinfo": "none",
         "hovertext": " ",
         "line": {
          "color": "rgb(100,200,0)",
          "width": 0.37
         },
         "textposition": "top center",
         "type": "scatter",
         "x": [
          -0.5927227170015038,
          -0.024798508730488826,
          null
         ],
         "y": [
          -0.26818423076617726,
          -0.17338909340872768,
          null
         ]
        },
        {
         "hoverinfo": "none",
         "hovertext": " ",
         "line": {
          "color": "rgb(100,200,0)",
          "width": 0.06
         },
         "textposition": "top center",
         "type": "scatter",
         "x": [
          -0.5927227170015038,
          0.08140881795286144,
          null
         ],
         "y": [
          -0.26818423076617726,
          -0.3613323956197131,
          null
         ]
        },
        {
         "hoverinfo": "none",
         "hovertext": " ",
         "line": {
          "color": "rgb(100,200,0)",
          "width": 0.17
         },
         "textposition": "top center",
         "type": "scatter",
         "x": [
          -0.5927227170015038,
          -0.7643893943348069,
          null
         ],
         "y": [
          -0.26818423076617726,
          0.5082398453914309,
          null
         ]
        },
        {
         "hoverinfo": "none",
         "hovertext": " ",
         "line": {
          "color": "rgb(100,200,0)",
          "width": 0.07
         },
         "textposition": "top center",
         "type": "scatter",
         "x": [
          -0.5927227170015038,
          0.09606441193397575,
          null
         ],
         "y": [
          -0.26818423076617726,
          -0.0018440192520536444,
          null
         ]
        },
        {
         "hoverinfo": "none",
         "hovertext": " ",
         "line": {
          "color": "rgb(100,200,0)",
          "width": 0.06
         },
         "textposition": "top center",
         "type": "scatter",
         "x": [
          -0.5927227170015038,
          -0.05007246339081912,
          null
         ],
         "y": [
          -0.26818423076617726,
          -0.07901321553880383,
          null
         ]
        },
        {
         "hoverinfo": "none",
         "hovertext": " ",
         "line": {
          "color": "rgb(100,200,0)",
          "width": 0.6
         },
         "textposition": "top center",
         "type": "scatter",
         "x": [
          -0.5927227170015038,
          0.03147272336468635,
          null
         ],
         "y": [
          -0.26818423076617726,
          -0.12807799463958677,
          null
         ]
        },
        {
         "hoverinfo": "none",
         "hovertext": " ",
         "line": {
          "color": "rgb(100,200,0)",
          "width": 0.06
         },
         "textposition": "top center",
         "type": "scatter",
         "x": [
          -0.5927227170015038,
          -0.18223836965864945,
          null
         ],
         "y": [
          -0.26818423076617726,
          -0.6322822275673232,
          null
         ]
        },
        {
         "hoverinfo": "none",
         "hovertext": " ",
         "line": {
          "color": "rgb(100,200,0)",
          "width": 0.2
         },
         "textposition": "top center",
         "type": "scatter",
         "x": [
          -0.5927227170015038,
          0.6509979169809771,
          null
         ],
         "y": [
          -0.26818423076617726,
          0.08960708127153735,
          null
         ]
        },
        {
         "hoverinfo": "none",
         "hovertext": " ",
         "line": {
          "color": "rgb(100,200,0)",
          "width": 0.12
         },
         "textposition": "top center",
         "type": "scatter",
         "x": [
          -0.5927227170015038,
          0.1484277257993926,
          null
         ],
         "y": [
          -0.26818423076617726,
          -0.21212120475697013,
          null
         ]
        },
        {
         "hoverinfo": "none",
         "hovertext": " ",
         "line": {
          "color": "rgb(100,200,0)",
          "width": 0.27
         },
         "textposition": "top center",
         "type": "scatter",
         "x": [
          -0.5927227170015038,
          0.547664843443468,
          null
         ],
         "y": [
          -0.26818423076617726,
          0.6410124382128094,
          null
         ]
        },
        {
         "hoverinfo": "none",
         "hovertext": " ",
         "line": {
          "color": "rgb(100,200,0)",
          "width": 0.36
         },
         "textposition": "top center",
         "type": "scatter",
         "x": [
          -0.5927227170015038,
          0.20561926665517882,
          null
         ],
         "y": [
          -0.26818423076617726,
          -0.14124401233976489,
          null
         ]
        },
        {
         "hoverinfo": "none",
         "hovertext": " ",
         "line": {
          "color": "rgb(100,200,2)",
          "width": 2.41
         },
         "textposition": "top center",
         "type": "scatter",
         "x": [
          -0.5261619971077781,
          -0.5261619971077781,
          null
         ],
         "y": [
          0.15597534960762655,
          0.15597534960762655,
          null
         ]
        },
        {
         "hoverinfo": "none",
         "hovertext": " ",
         "line": {
          "color": "rgb(100,200,0)",
          "width": 0.18
         },
         "textposition": "top center",
         "type": "scatter",
         "x": [
          -0.5261619971077781,
          -0.1101981914276436,
          null
         ],
         "y": [
          0.15597534960762655,
          -0.1386567663246579,
          null
         ]
        },
        {
         "hoverinfo": "none",
         "hovertext": " ",
         "line": {
          "color": "rgb(100,200,0)",
          "width": 0.19
         },
         "textposition": "top center",
         "type": "scatter",
         "x": [
          -0.5261619971077781,
          -0.3283655382286087,
          null
         ],
         "y": [
          0.15597534960762655,
          -0.5210579759864579,
          null
         ]
        },
        {
         "hoverinfo": "none",
         "hovertext": " ",
         "line": {
          "color": "rgb(100,200,0)",
          "width": 0.07
         },
         "textposition": "top center",
         "type": "scatter",
         "x": [
          -0.5261619971077781,
          -0.17793367119152348,
          null
         ],
         "y": [
          0.15597534960762655,
          0.19909860375575822,
          null
         ]
        },
        {
         "hoverinfo": "none",
         "hovertext": " ",
         "line": {
          "color": "rgb(100,200,0)",
          "width": 0.09
         },
         "textposition": "top center",
         "type": "scatter",
         "x": [
          -0.5261619971077781,
          -0.008898994998657116,
          null
         ],
         "y": [
          0.15597534960762655,
          0.86968417501967,
          null
         ]
        },
        {
         "hoverinfo": "none",
         "hovertext": " ",
         "line": {
          "color": "rgb(100,200,0)",
          "width": 0.11
         },
         "textposition": "top center",
         "type": "scatter",
         "x": [
          -0.5261619971077781,
          -0.032363532478511176,
          null
         ],
         "y": [
          0.15597534960762655,
          0.11734746928670177,
          null
         ]
        },
        {
         "hoverinfo": "none",
         "hovertext": " ",
         "line": {
          "color": "rgb(100,200,0)",
          "width": 0.12
         },
         "textposition": "top center",
         "type": "scatter",
         "x": [
          -0.5261619971077781,
          -0.024798508730488826,
          null
         ],
         "y": [
          0.15597534960762655,
          -0.17338909340872768,
          null
         ]
        },
        {
         "hoverinfo": "none",
         "hovertext": " ",
         "line": {
          "color": "rgb(100,200,0)",
          "width": 0.15
         },
         "textposition": "top center",
         "type": "scatter",
         "x": [
          -0.5261619971077781,
          0.08140881795286144,
          null
         ],
         "y": [
          0.15597534960762655,
          -0.3613323956197131,
          null
         ]
        },
        {
         "hoverinfo": "none",
         "hovertext": " ",
         "line": {
          "color": "rgb(100,200,0)",
          "width": 0.18
         },
         "textposition": "top center",
         "type": "scatter",
         "x": [
          -0.5261619971077781,
          -0.7643893943348069,
          null
         ],
         "y": [
          0.15597534960762655,
          0.5082398453914309,
          null
         ]
        },
        {
         "hoverinfo": "none",
         "hovertext": " ",
         "line": {
          "color": "rgb(100,200,0)",
          "width": 0.1
         },
         "textposition": "top center",
         "type": "scatter",
         "x": [
          -0.5261619971077781,
          0.09606441193397575,
          null
         ],
         "y": [
          0.15597534960762655,
          -0.0018440192520536444,
          null
         ]
        },
        {
         "hoverinfo": "none",
         "hovertext": " ",
         "line": {
          "color": "rgb(100,200,0)",
          "width": 0.05
         },
         "textposition": "top center",
         "type": "scatter",
         "x": [
          -0.5261619971077781,
          -0.05007246339081912,
          null
         ],
         "y": [
          0.15597534960762655,
          -0.07901321553880383,
          null
         ]
        },
        {
         "hoverinfo": "none",
         "hovertext": " ",
         "line": {
          "color": "rgb(100,200,0)",
          "width": 0.12
         },
         "textposition": "top center",
         "type": "scatter",
         "x": [
          -0.5261619971077781,
          0.03147272336468635,
          null
         ],
         "y": [
          0.15597534960762655,
          -0.12807799463958677,
          null
         ]
        },
        {
         "hoverinfo": "none",
         "hovertext": " ",
         "line": {
          "color": "rgb(100,200,0)",
          "width": 0.16
         },
         "textposition": "top center",
         "type": "scatter",
         "x": [
          -0.5261619971077781,
          -0.18223836965864945,
          null
         ],
         "y": [
          0.15597534960762655,
          -0.6322822275673232,
          null
         ]
        },
        {
         "hoverinfo": "none",
         "hovertext": " ",
         "line": {
          "color": "rgb(100,200,0)",
          "width": 0.13
         },
         "textposition": "top center",
         "type": "scatter",
         "x": [
          -0.5261619971077781,
          0.6509979169809771,
          null
         ],
         "y": [
          0.15597534960762655,
          0.08960708127153735,
          null
         ]
        },
        {
         "hoverinfo": "none",
         "hovertext": " ",
         "line": {
          "color": "rgb(100,200,0)",
          "width": 0.14
         },
         "textposition": "top center",
         "type": "scatter",
         "x": [
          -0.5261619971077781,
          0.1484277257993926,
          null
         ],
         "y": [
          0.15597534960762655,
          -0.21212120475697013,
          null
         ]
        },
        {
         "hoverinfo": "none",
         "hovertext": " ",
         "line": {
          "color": "rgb(100,200,0)",
          "width": 0.15
         },
         "textposition": "top center",
         "type": "scatter",
         "x": [
          -0.5261619971077781,
          0.547664843443468,
          null
         ],
         "y": [
          0.15597534960762655,
          0.6410124382128094,
          null
         ]
        },
        {
         "hoverinfo": "none",
         "hovertext": " ",
         "line": {
          "color": "rgb(100,200,0)",
          "width": 0.1
         },
         "textposition": "top center",
         "type": "scatter",
         "x": [
          -0.5261619971077781,
          0.20561926665517882,
          null
         ],
         "y": [
          0.15597534960762655,
          -0.14124401233976489,
          null
         ]
        },
        {
         "hoverinfo": "none",
         "hovertext": " ",
         "line": {
          "color": "rgb(100,200,1)",
          "width": 1.66
         },
         "textposition": "top center",
         "type": "scatter",
         "x": [
          -0.1101981914276436,
          -0.1101981914276436,
          null
         ],
         "y": [
          -0.1386567663246579,
          -0.1386567663246579,
          null
         ]
        },
        {
         "hoverinfo": "none",
         "hovertext": " ",
         "line": {
          "color": "rgb(100,200,0)",
          "width": 0.08
         },
         "textposition": "top center",
         "type": "scatter",
         "x": [
          -0.1101981914276436,
          -0.3283655382286087,
          null
         ],
         "y": [
          -0.1386567663246579,
          -0.5210579759864579,
          null
         ]
        },
        {
         "hoverinfo": "none",
         "hovertext": " ",
         "line": {
          "color": "rgb(100,200,0)",
          "width": 0.05
         },
         "textposition": "top center",
         "type": "scatter",
         "x": [
          -0.1101981914276436,
          -0.17793367119152348,
          null
         ],
         "y": [
          -0.1386567663246579,
          0.19909860375575822,
          null
         ]
        },
        {
         "hoverinfo": "none",
         "hovertext": " ",
         "line": {
          "color": "rgb(100,200,0)",
          "width": 0.3
         },
         "textposition": "top center",
         "type": "scatter",
         "x": [
          -0.1101981914276436,
          -0.008898994998657116,
          null
         ],
         "y": [
          -0.1386567663246579,
          0.86968417501967,
          null
         ]
        },
        {
         "hoverinfo": "none",
         "hovertext": " ",
         "line": {
          "color": "rgb(100,200,0)",
          "width": 0.4
         },
         "textposition": "top center",
         "type": "scatter",
         "x": [
          -0.1101981914276436,
          -0.032363532478511176,
          null
         ],
         "y": [
          -0.1386567663246579,
          0.11734746928670177,
          null
         ]
        },
        {
         "hoverinfo": "none",
         "hovertext": " ",
         "line": {
          "color": "rgb(100,200,0)",
          "width": 0.21
         },
         "textposition": "top center",
         "type": "scatter",
         "x": [
          -0.1101981914276436,
          -0.024798508730488826,
          null
         ],
         "y": [
          -0.1386567663246579,
          -0.17338909340872768,
          null
         ]
        },
        {
         "hoverinfo": "none",
         "hovertext": " ",
         "line": {
          "color": "rgb(100,200,0)",
          "width": 0.07
         },
         "textposition": "top center",
         "type": "scatter",
         "x": [
          -0.1101981914276436,
          0.08140881795286144,
          null
         ],
         "y": [
          -0.1386567663246579,
          -0.3613323956197131,
          null
         ]
        },
        {
         "hoverinfo": "none",
         "hovertext": " ",
         "line": {
          "color": "rgb(100,200,0)",
          "width": 0.2
         },
         "textposition": "top center",
         "type": "scatter",
         "x": [
          -0.1101981914276436,
          -0.7643893943348069,
          null
         ],
         "y": [
          -0.1386567663246579,
          0.5082398453914309,
          null
         ]
        },
        {
         "hoverinfo": "none",
         "hovertext": " ",
         "line": {
          "color": "rgb(100,200,0)",
          "width": 0.03
         },
         "textposition": "top center",
         "type": "scatter",
         "x": [
          -0.1101981914276436,
          0.09606441193397575,
          null
         ],
         "y": [
          -0.1386567663246579,
          -0.0018440192520536444,
          null
         ]
        },
        {
         "hoverinfo": "none",
         "hovertext": " ",
         "line": {
          "color": "rgb(100,200,0)",
          "width": 0.01
         },
         "textposition": "top center",
         "type": "scatter",
         "x": [
          -0.1101981914276436,
          -0.05007246339081912,
          null
         ],
         "y": [
          -0.1386567663246579,
          -0.07901321553880383,
          null
         ]
        },
        {
         "hoverinfo": "none",
         "hovertext": " ",
         "line": {
          "color": "rgb(100,200,0)",
          "width": 0.58
         },
         "textposition": "top center",
         "type": "scatter",
         "x": [
          -0.1101981914276436,
          0.03147272336468635,
          null
         ],
         "y": [
          -0.1386567663246579,
          -0.12807799463958677,
          null
         ]
        },
        {
         "hoverinfo": "none",
         "hovertext": " ",
         "line": {
          "color": "rgb(100,200,0)",
          "width": 0.05
         },
         "textposition": "top center",
         "type": "scatter",
         "x": [
          -0.1101981914276436,
          -0.18223836965864945,
          null
         ],
         "y": [
          -0.1386567663246579,
          -0.6322822275673232,
          null
         ]
        },
        {
         "hoverinfo": "none",
         "hovertext": " ",
         "line": {
          "color": "rgb(100,200,0)",
          "width": 0.28
         },
         "textposition": "top center",
         "type": "scatter",
         "x": [
          -0.1101981914276436,
          0.6509979169809771,
          null
         ],
         "y": [
          -0.1386567663246579,
          0.08960708127153735,
          null
         ]
        },
        {
         "hoverinfo": "none",
         "hovertext": " ",
         "line": {
          "color": "rgb(100,200,0)",
          "width": 0.02
         },
         "textposition": "top center",
         "type": "scatter",
         "x": [
          -0.1101981914276436,
          0.1484277257993926,
          null
         ],
         "y": [
          -0.1386567663246579,
          -0.21212120475697013,
          null
         ]
        },
        {
         "hoverinfo": "none",
         "hovertext": " ",
         "line": {
          "color": "rgb(100,200,0)",
          "width": 0.45
         },
         "textposition": "top center",
         "type": "scatter",
         "x": [
          -0.1101981914276436,
          0.547664843443468,
          null
         ],
         "y": [
          -0.1386567663246579,
          0.6410124382128094,
          null
         ]
        },
        {
         "hoverinfo": "none",
         "hovertext": " ",
         "line": {
          "color": "rgb(100,200,0)",
          "width": 0.44
         },
         "textposition": "top center",
         "type": "scatter",
         "x": [
          -0.1101981914276436,
          0.20561926665517882,
          null
         ],
         "y": [
          -0.1386567663246579,
          -0.14124401233976489,
          null
         ]
        },
        {
         "hoverinfo": "none",
         "hovertext": " ",
         "line": {
          "color": "rgb(100,200,2)",
          "width": 2.07
         },
         "textposition": "top center",
         "type": "scatter",
         "x": [
          -0.3283655382286087,
          -0.3283655382286087,
          null
         ],
         "y": [
          -0.5210579759864579,
          -0.5210579759864579,
          null
         ]
        },
        {
         "hoverinfo": "none",
         "hovertext": " ",
         "line": {
          "color": "rgb(100,200,0)",
          "width": 0.17
         },
         "textposition": "top center",
         "type": "scatter",
         "x": [
          -0.3283655382286087,
          -0.17793367119152348,
          null
         ],
         "y": [
          -0.5210579759864579,
          0.19909860375575822,
          null
         ]
        },
        {
         "hoverinfo": "none",
         "hovertext": " ",
         "line": {
          "color": "rgb(100,200,0)",
          "width": 0.25
         },
         "textposition": "top center",
         "type": "scatter",
         "x": [
          -0.3283655382286087,
          -0.008898994998657116,
          null
         ],
         "y": [
          -0.5210579759864579,
          0.86968417501967,
          null
         ]
        },
        {
         "hoverinfo": "none",
         "hovertext": " ",
         "line": {
          "color": "rgb(100,200,0)",
          "width": 0.08
         },
         "textposition": "top center",
         "type": "scatter",
         "x": [
          -0.3283655382286087,
          -0.032363532478511176,
          null
         ],
         "y": [
          -0.5210579759864579,
          0.11734746928670177,
          null
         ]
        },
        {
         "hoverinfo": "none",
         "hovertext": " ",
         "line": {
          "color": "rgb(100,200,0)",
          "width": 0.05
         },
         "textposition": "top center",
         "type": "scatter",
         "x": [
          -0.3283655382286087,
          -0.024798508730488826,
          null
         ],
         "y": [
          -0.5210579759864579,
          -0.17338909340872768,
          null
         ]
        },
        {
         "hoverinfo": "none",
         "hovertext": " ",
         "line": {
          "color": "rgb(100,200,0)",
          "width": 0.2
         },
         "textposition": "top center",
         "type": "scatter",
         "x": [
          -0.3283655382286087,
          0.08140881795286144,
          null
         ],
         "y": [
          -0.5210579759864579,
          -0.3613323956197131,
          null
         ]
        },
        {
         "hoverinfo": "none",
         "hovertext": " ",
         "line": {
          "color": "rgb(100,200,0)",
          "width": 0.1
         },
         "textposition": "top center",
         "type": "scatter",
         "x": [
          -0.3283655382286087,
          -0.7643893943348069,
          null
         ],
         "y": [
          -0.5210579759864579,
          0.5082398453914309,
          null
         ]
        },
        {
         "hoverinfo": "none",
         "hovertext": " ",
         "line": {
          "color": "rgb(100,200,0)",
          "width": 0.2
         },
         "textposition": "top center",
         "type": "scatter",
         "x": [
          -0.3283655382286087,
          0.09606441193397575,
          null
         ],
         "y": [
          -0.5210579759864579,
          -0.0018440192520536444,
          null
         ]
        },
        {
         "hoverinfo": "none",
         "hovertext": " ",
         "line": {
          "color": "rgb(100,200,0)",
          "width": 0.22
         },
         "textposition": "top center",
         "type": "scatter",
         "x": [
          -0.3283655382286087,
          -0.05007246339081912,
          null
         ],
         "y": [
          -0.5210579759864579,
          -0.07901321553880383,
          null
         ]
        },
        {
         "hoverinfo": "none",
         "hovertext": " ",
         "line": {
          "color": "rgb(100,200,0)",
          "width": 0.07
         },
         "textposition": "top center",
         "type": "scatter",
         "x": [
          -0.3283655382286087,
          0.03147272336468635,
          null
         ],
         "y": [
          -0.5210579759864579,
          -0.12807799463958677,
          null
         ]
        },
        {
         "hoverinfo": "none",
         "hovertext": " ",
         "line": {
          "color": "rgb(100,200,0)",
          "width": 0.24
         },
         "textposition": "top center",
         "type": "scatter",
         "x": [
          -0.3283655382286087,
          -0.18223836965864945,
          null
         ],
         "y": [
          -0.5210579759864579,
          -0.6322822275673232,
          null
         ]
        },
        {
         "hoverinfo": "none",
         "hovertext": " ",
         "line": {
          "color": "rgb(100,200,0)",
          "width": 0.31
         },
         "textposition": "top center",
         "type": "scatter",
         "x": [
          -0.3283655382286087,
          0.6509979169809771,
          null
         ],
         "y": [
          -0.5210579759864579,
          0.08960708127153735,
          null
         ]
        },
        {
         "hoverinfo": "none",
         "hovertext": " ",
         "line": {
          "color": "rgb(100,200,0)",
          "width": 0.15
         },
         "textposition": "top center",
         "type": "scatter",
         "x": [
          -0.3283655382286087,
          0.1484277257993926,
          null
         ],
         "y": [
          -0.5210579759864579,
          -0.21212120475697013,
          null
         ]
        },
        {
         "hoverinfo": "none",
         "hovertext": " ",
         "line": {
          "color": "rgb(100,200,0)",
          "width": 0.16
         },
         "textposition": "top center",
         "type": "scatter",
         "x": [
          -0.3283655382286087,
          0.547664843443468,
          null
         ],
         "y": [
          -0.5210579759864579,
          0.6410124382128094,
          null
         ]
        },
        {
         "hoverinfo": "none",
         "hovertext": " ",
         "line": {
          "color": "rgb(100,200,0)",
          "width": 0.05
         },
         "textposition": "top center",
         "type": "scatter",
         "x": [
          -0.3283655382286087,
          0.20561926665517882,
          null
         ],
         "y": [
          -0.5210579759864579,
          -0.14124401233976489,
          null
         ]
        },
        {
         "hoverinfo": "none",
         "hovertext": " ",
         "line": {
          "color": "rgb(100,200,2)",
          "width": 2.2
         },
         "textposition": "top center",
         "type": "scatter",
         "x": [
          -0.17793367119152348,
          -0.17793367119152348,
          null
         ],
         "y": [
          0.19909860375575822,
          0.19909860375575822,
          null
         ]
        },
        {
         "hoverinfo": "none",
         "hovertext": " ",
         "line": {
          "color": "rgb(100,200,0)",
          "width": 0.11
         },
         "textposition": "top center",
         "type": "scatter",
         "x": [
          -0.17793367119152348,
          -0.008898994998657116,
          null
         ],
         "y": [
          0.19909860375575822,
          0.86968417501967,
          null
         ]
        },
        {
         "hoverinfo": "none",
         "hovertext": " ",
         "line": {
          "color": "rgb(100,200,0)",
          "width": 0.02
         },
         "textposition": "top center",
         "type": "scatter",
         "x": [
          -0.17793367119152348,
          -0.032363532478511176,
          null
         ],
         "y": [
          0.19909860375575822,
          0.11734746928670177,
          null
         ]
        },
        {
         "hoverinfo": "none",
         "hovertext": " ",
         "line": {
          "color": "rgb(100,200,0)",
          "width": 0.05
         },
         "textposition": "top center",
         "type": "scatter",
         "x": [
          -0.17793367119152348,
          -0.024798508730488826,
          null
         ],
         "y": [
          0.19909860375575822,
          -0.17338909340872768,
          null
         ]
        },
        {
         "hoverinfo": "none",
         "hovertext": " ",
         "line": {
          "color": "rgb(100,200,0)",
          "width": 0.24
         },
         "textposition": "top center",
         "type": "scatter",
         "x": [
          -0.17793367119152348,
          0.08140881795286144,
          null
         ],
         "y": [
          0.19909860375575822,
          -0.3613323956197131,
          null
         ]
        },
        {
         "hoverinfo": "none",
         "hovertext": " ",
         "line": {
          "color": "rgb(100,200,0)",
          "width": 0.1
         },
         "textposition": "top center",
         "type": "scatter",
         "x": [
          -0.17793367119152348,
          -0.7643893943348069,
          null
         ],
         "y": [
          0.19909860375575822,
          0.5082398453914309,
          null
         ]
        },
        {
         "hoverinfo": "none",
         "hovertext": " ",
         "line": {
          "color": "rgb(100,200,0)",
          "width": 0.35
         },
         "textposition": "top center",
         "type": "scatter",
         "x": [
          -0.17793367119152348,
          0.09606441193397575,
          null
         ],
         "y": [
          0.19909860375575822,
          -0.0018440192520536444,
          null
         ]
        },
        {
         "hoverinfo": "none",
         "hovertext": " ",
         "line": {
          "color": "rgb(100,200,0)",
          "width": 0.24
         },
         "textposition": "top center",
         "type": "scatter",
         "x": [
          -0.17793367119152348,
          -0.05007246339081912,
          null
         ],
         "y": [
          0.19909860375575822,
          -0.07901321553880383,
          null
         ]
        },
        {
         "hoverinfo": "none",
         "hovertext": " ",
         "line": {
          "color": "rgb(100,200,0)",
          "width": 0.05
         },
         "textposition": "top center",
         "type": "scatter",
         "x": [
          -0.17793367119152348,
          0.03147272336468635,
          null
         ],
         "y": [
          0.19909860375575822,
          -0.12807799463958677,
          null
         ]
        },
        {
         "hoverinfo": "none",
         "hovertext": " ",
         "line": {
          "color": "rgb(100,200,0)",
          "width": 0.2
         },
         "textposition": "top center",
         "type": "scatter",
         "x": [
          -0.17793367119152348,
          -0.18223836965864945,
          null
         ],
         "y": [
          0.19909860375575822,
          -0.6322822275673232,
          null
         ]
        },
        {
         "hoverinfo": "none",
         "hovertext": " ",
         "line": {
          "color": "rgb(100,200,0)",
          "width": 0.13
         },
         "textposition": "top center",
         "type": "scatter",
         "x": [
          -0.17793367119152348,
          0.6509979169809771,
          null
         ],
         "y": [
          0.19909860375575822,
          0.08960708127153735,
          null
         ]
        },
        {
         "hoverinfo": "none",
         "hovertext": " ",
         "line": {
          "color": "rgb(100,200,0)",
          "width": 0.31
         },
         "textposition": "top center",
         "type": "scatter",
         "x": [
          -0.17793367119152348,
          0.1484277257993926,
          null
         ],
         "y": [
          0.19909860375575822,
          -0.21212120475697013,
          null
         ]
        },
        {
         "hoverinfo": "none",
         "hovertext": " ",
         "line": {
          "color": "rgb(100,200,0)",
          "width": 0.1
         },
         "textposition": "top center",
         "type": "scatter",
         "x": [
          -0.17793367119152348,
          0.547664843443468,
          null
         ],
         "y": [
          0.19909860375575822,
          0.6410124382128094,
          null
         ]
        },
        {
         "hoverinfo": "none",
         "hovertext": " ",
         "line": {
          "color": "rgb(100,200,0)",
          "width": 0.04
         },
         "textposition": "top center",
         "type": "scatter",
         "x": [
          -0.17793367119152348,
          0.20561926665517882,
          null
         ],
         "y": [
          0.19909860375575822,
          -0.14124401233976489,
          null
         ]
        },
        {
         "hoverinfo": "none",
         "hovertext": " ",
         "line": {
          "color": "rgb(100,200,1)",
          "width": 1.62
         },
         "textposition": "top center",
         "type": "scatter",
         "x": [
          -0.008898994998657116,
          -0.008898994998657116,
          null
         ],
         "y": [
          0.86968417501967,
          0.86968417501967,
          null
         ]
        },
        {
         "hoverinfo": "none",
         "hovertext": " ",
         "line": {
          "color": "rgb(100,200,0)",
          "width": 0.16
         },
         "textposition": "top center",
         "type": "scatter",
         "x": [
          -0.008898994998657116,
          -0.032363532478511176,
          null
         ],
         "y": [
          0.86968417501967,
          0.11734746928670177,
          null
         ]
        },
        {
         "hoverinfo": "none",
         "hovertext": " ",
         "line": {
          "color": "rgb(100,200,0)",
          "width": 0.13
         },
         "textposition": "top center",
         "type": "scatter",
         "x": [
          -0.008898994998657116,
          -0.024798508730488826,
          null
         ],
         "y": [
          0.86968417501967,
          -0.17338909340872768,
          null
         ]
        },
        {
         "hoverinfo": "none",
         "hovertext": " ",
         "line": {
          "color": "rgb(100,200,0)",
          "width": 0.18
         },
         "textposition": "top center",
         "type": "scatter",
         "x": [
          -0.008898994998657116,
          0.08140881795286144,
          null
         ],
         "y": [
          0.86968417501967,
          -0.3613323956197131,
          null
         ]
        },
        {
         "hoverinfo": "none",
         "hovertext": " ",
         "line": {
          "color": "rgb(100,200,0)",
          "width": 0.1
         },
         "textposition": "top center",
         "type": "scatter",
         "x": [
          -0.008898994998657116,
          -0.7643893943348069,
          null
         ],
         "y": [
          0.86968417501967,
          0.5082398453914309,
          null
         ]
        },
        {
         "hoverinfo": "none",
         "hovertext": " ",
         "line": {
          "color": "rgb(100,200,0)",
          "width": 0.13
         },
         "textposition": "top center",
         "type": "scatter",
         "x": [
          -0.008898994998657116,
          0.09606441193397575,
          null
         ],
         "y": [
          0.86968417501967,
          -0.0018440192520536444,
          null
         ]
        },
        {
         "hoverinfo": "none",
         "hovertext": " ",
         "line": {
          "color": "rgb(100,200,0)",
          "width": 0.14
         },
         "textposition": "top center",
         "type": "scatter",
         "x": [
          -0.008898994998657116,
          -0.05007246339081912,
          null
         ],
         "y": [
          0.86968417501967,
          -0.07901321553880383,
          null
         ]
        },
        {
         "hoverinfo": "none",
         "hovertext": " ",
         "line": {
          "color": "rgb(100,200,0)",
          "width": 0.3
         },
         "textposition": "top center",
         "type": "scatter",
         "x": [
          -0.008898994998657116,
          0.03147272336468635,
          null
         ],
         "y": [
          0.86968417501967,
          -0.12807799463958677,
          null
         ]
        },
        {
         "hoverinfo": "none",
         "hovertext": " ",
         "line": {
          "color": "rgb(100,200,0)",
          "width": 0.34
         },
         "textposition": "top center",
         "type": "scatter",
         "x": [
          -0.008898994998657116,
          -0.18223836965864945,
          null
         ],
         "y": [
          0.86968417501967,
          -0.6322822275673232,
          null
         ]
        },
        {
         "hoverinfo": "none",
         "hovertext": " ",
         "line": {
          "color": "rgb(100,200,0)",
          "width": 0.63
         },
         "textposition": "top center",
         "type": "scatter",
         "x": [
          -0.008898994998657116,
          0.6509979169809771,
          null
         ],
         "y": [
          0.86968417501967,
          0.08960708127153735,
          null
         ]
        },
        {
         "hoverinfo": "none",
         "hovertext": " ",
         "line": {
          "color": "rgb(100,200,0)",
          "width": 0.19
         },
         "textposition": "top center",
         "type": "scatter",
         "x": [
          -0.008898994998657116,
          0.1484277257993926,
          null
         ],
         "y": [
          0.86968417501967,
          -0.21212120475697013,
          null
         ]
        },
        {
         "hoverinfo": "none",
         "hovertext": " ",
         "line": {
          "color": "rgb(100,200,0)",
          "width": 0.26
         },
         "textposition": "top center",
         "type": "scatter",
         "x": [
          -0.008898994998657116,
          0.547664843443468,
          null
         ],
         "y": [
          0.86968417501967,
          0.6410124382128094,
          null
         ]
        },
        {
         "hoverinfo": "none",
         "hovertext": " ",
         "line": {
          "color": "rgb(100,200,0)",
          "width": 0.22
         },
         "textposition": "top center",
         "type": "scatter",
         "x": [
          -0.008898994998657116,
          0.20561926665517882,
          null
         ],
         "y": [
          0.86968417501967,
          -0.14124401233976489,
          null
         ]
        },
        {
         "hoverinfo": "none",
         "hovertext": " ",
         "line": {
          "color": "rgb(100,200,1)",
          "width": 1.46
         },
         "textposition": "top center",
         "type": "scatter",
         "x": [
          -0.032363532478511176,
          -0.032363532478511176,
          null
         ],
         "y": [
          0.11734746928670177,
          0.11734746928670177,
          null
         ]
        },
        {
         "hoverinfo": "none",
         "hovertext": " ",
         "line": {
          "color": "rgb(100,200,0)",
          "width": 0.28
         },
         "textposition": "top center",
         "type": "scatter",
         "x": [
          -0.032363532478511176,
          -0.024798508730488826,
          null
         ],
         "y": [
          0.11734746928670177,
          -0.17338909340872768,
          null
         ]
        },
        {
         "hoverinfo": "none",
         "hovertext": " ",
         "line": {
          "color": "rgb(100,200,0)",
          "width": 0.04
         },
         "textposition": "top center",
         "type": "scatter",
         "x": [
          -0.032363532478511176,
          0.08140881795286144,
          null
         ],
         "y": [
          0.11734746928670177,
          -0.3613323956197131,
          null
         ]
        },
        {
         "hoverinfo": "none",
         "hovertext": " ",
         "line": {
          "color": "rgb(100,200,0)",
          "width": 0.19
         },
         "textposition": "top center",
         "type": "scatter",
         "x": [
          -0.032363532478511176,
          -0.7643893943348069,
          null
         ],
         "y": [
          0.11734746928670177,
          0.5082398453914309,
          null
         ]
        },
        {
         "hoverinfo": "none",
         "hovertext": " ",
         "line": {
          "color": "rgb(100,200,0)",
          "width": 0.02
         },
         "textposition": "top center",
         "type": "scatter",
         "x": [
          -0.032363532478511176,
          0.09606441193397575,
          null
         ],
         "y": [
          0.11734746928670177,
          -0.0018440192520536444,
          null
         ]
        },
        {
         "hoverinfo": "none",
         "hovertext": " ",
         "line": {
          "color": "rgb(100,200,0)",
          "width": 0.02
         },
         "textposition": "top center",
         "type": "scatter",
         "x": [
          -0.032363532478511176,
          -0.05007246339081912,
          null
         ],
         "y": [
          0.11734746928670177,
          -0.07901321553880383,
          null
         ]
        },
        {
         "hoverinfo": "none",
         "hovertext": " ",
         "line": {
          "color": "rgb(100,200,0)",
          "width": 0.77
         },
         "textposition": "top center",
         "type": "scatter",
         "x": [
          -0.032363532478511176,
          0.03147272336468635,
          null
         ],
         "y": [
          0.11734746928670177,
          -0.12807799463958677,
          null
         ]
        },
        {
         "hoverinfo": "none",
         "hovertext": " ",
         "line": {
          "color": "rgb(100,200,0)",
          "width": 0.07
         },
         "textposition": "top center",
         "type": "scatter",
         "x": [
          -0.032363532478511176,
          -0.18223836965864945,
          null
         ],
         "y": [
          0.11734746928670177,
          -0.6322822275673232,
          null
         ]
        },
        {
         "hoverinfo": "none",
         "hovertext": " ",
         "line": {
          "color": "rgb(100,200,0)",
          "width": 0.22
         },
         "textposition": "top center",
         "type": "scatter",
         "x": [
          -0.032363532478511176,
          0.6509979169809771,
          null
         ],
         "y": [
          0.11734746928670177,
          0.08960708127153735,
          null
         ]
        },
        {
         "hoverinfo": "none",
         "hovertext": " ",
         "line": {
          "color": "rgb(100,200,0)",
          "width": 0.05
         },
         "textposition": "top center",
         "type": "scatter",
         "x": [
          -0.032363532478511176,
          0.1484277257993926,
          null
         ],
         "y": [
          0.11734746928670177,
          -0.21212120475697013,
          null
         ]
        },
        {
         "hoverinfo": "none",
         "hovertext": " ",
         "line": {
          "color": "rgb(100,200,0)",
          "width": 0.33
         },
         "textposition": "top center",
         "type": "scatter",
         "x": [
          -0.032363532478511176,
          0.547664843443468,
          null
         ],
         "y": [
          0.11734746928670177,
          0.6410124382128094,
          null
         ]
        },
        {
         "hoverinfo": "none",
         "hovertext": " ",
         "line": {
          "color": "rgb(100,200,0)",
          "width": 0.33
         },
         "textposition": "top center",
         "type": "scatter",
         "x": [
          -0.032363532478511176,
          0.20561926665517882,
          null
         ],
         "y": [
          0.11734746928670177,
          -0.14124401233976489,
          null
         ]
        },
        {
         "hoverinfo": "none",
         "hovertext": " ",
         "line": {
          "color": "rgb(100,200,1)",
          "width": 1.62
         },
         "textposition": "top center",
         "type": "scatter",
         "x": [
          -0.024798508730488826,
          -0.024798508730488826,
          null
         ],
         "y": [
          -0.17338909340872768,
          -0.17338909340872768,
          null
         ]
        },
        {
         "hoverinfo": "none",
         "hovertext": " ",
         "line": {
          "color": "rgb(100,200,0)",
          "width": 0.03
         },
         "textposition": "top center",
         "type": "scatter",
         "x": [
          -0.024798508730488826,
          0.08140881795286144,
          null
         ],
         "y": [
          -0.17338909340872768,
          -0.3613323956197131,
          null
         ]
        },
        {
         "hoverinfo": "none",
         "hovertext": " ",
         "line": {
          "color": "rgb(100,200,0)",
          "width": 0.11
         },
         "textposition": "top center",
         "type": "scatter",
         "x": [
          -0.024798508730488826,
          -0.7643893943348069,
          null
         ],
         "y": [
          -0.17338909340872768,
          0.5082398453914309,
          null
         ]
        },
        {
         "hoverinfo": "none",
         "hovertext": " ",
         "line": {
          "color": "rgb(100,200,0)",
          "width": 0.02
         },
         "textposition": "top center",
         "type": "scatter",
         "x": [
          -0.024798508730488826,
          0.09606441193397575,
          null
         ],
         "y": [
          -0.17338909340872768,
          -0.0018440192520536444,
          null
         ]
        },
        {
         "hoverinfo": "none",
         "hovertext": " ",
         "line": {
          "color": "rgb(100,200,0)",
          "width": 0.01
         },
         "textposition": "top center",
         "type": "scatter",
         "x": [
          -0.024798508730488826,
          -0.05007246339081912,
          null
         ],
         "y": [
          -0.17338909340872768,
          -0.07901321553880383,
          null
         ]
        },
        {
         "hoverinfo": "none",
         "hovertext": " ",
         "line": {
          "color": "rgb(100,200,0)",
          "width": 0.35
         },
         "textposition": "top center",
         "type": "scatter",
         "x": [
          -0.024798508730488826,
          0.03147272336468635,
          null
         ],
         "y": [
          -0.17338909340872768,
          -0.12807799463958677,
          null
         ]
        },
        {
         "hoverinfo": "none",
         "hovertext": " ",
         "line": {
          "color": "rgb(100,200,0)",
          "width": 0.06
         },
         "textposition": "top center",
         "type": "scatter",
         "x": [
          -0.024798508730488826,
          -0.18223836965864945,
          null
         ],
         "y": [
          -0.17338909340872768,
          -0.6322822275673232,
          null
         ]
        },
        {
         "hoverinfo": "none",
         "hovertext": " ",
         "line": {
          "color": "rgb(100,200,0)",
          "width": 0.06
         },
         "textposition": "top center",
         "type": "scatter",
         "x": [
          -0.024798508730488826,
          0.6509979169809771,
          null
         ],
         "y": [
          -0.17338909340872768,
          0.08960708127153735,
          null
         ]
        },
        {
         "hoverinfo": "none",
         "hovertext": " ",
         "line": {
          "color": "rgb(100,200,0)",
          "width": 0.02
         },
         "textposition": "top center",
         "type": "scatter",
         "x": [
          -0.024798508730488826,
          0.1484277257993926,
          null
         ],
         "y": [
          -0.17338909340872768,
          -0.21212120475697013,
          null
         ]
        },
        {
         "hoverinfo": "none",
         "hovertext": " ",
         "line": {
          "color": "rgb(100,200,0)",
          "width": 0.13
         },
         "textposition": "top center",
         "type": "scatter",
         "x": [
          -0.024798508730488826,
          0.547664843443468,
          null
         ],
         "y": [
          -0.17338909340872768,
          0.6410124382128094,
          null
         ]
        },
        {
         "hoverinfo": "none",
         "hovertext": " ",
         "line": {
          "color": "rgb(100,200,0)",
          "width": 0.17
         },
         "textposition": "top center",
         "type": "scatter",
         "x": [
          -0.024798508730488826,
          0.20561926665517882,
          null
         ],
         "y": [
          -0.17338909340872768,
          -0.14124401233976489,
          null
         ]
        },
        {
         "hoverinfo": "none",
         "hovertext": " ",
         "line": {
          "color": "rgb(100,200,1)",
          "width": 1.37
         },
         "textposition": "top center",
         "type": "scatter",
         "x": [
          0.08140881795286144,
          0.08140881795286144,
          null
         ],
         "y": [
          -0.3613323956197131,
          -0.3613323956197131,
          null
         ]
        },
        {
         "hoverinfo": "none",
         "hovertext": " ",
         "line": {
          "color": "rgb(100,200,0)",
          "width": 0.12
         },
         "textposition": "top center",
         "type": "scatter",
         "x": [
          0.08140881795286144,
          -0.7643893943348069,
          null
         ],
         "y": [
          -0.3613323956197131,
          0.5082398453914309,
          null
         ]
        },
        {
         "hoverinfo": "none",
         "hovertext": " ",
         "line": {
          "color": "rgb(100,200,0)",
          "width": 0.27
         },
         "textposition": "top center",
         "type": "scatter",
         "x": [
          0.08140881795286144,
          0.09606441193397575,
          null
         ],
         "y": [
          -0.3613323956197131,
          -0.0018440192520536444,
          null
         ]
        },
        {
         "hoverinfo": "none",
         "hovertext": " ",
         "line": {
          "color": "rgb(100,200,0)",
          "width": 0.29
         },
         "textposition": "top center",
         "type": "scatter",
         "x": [
          0.08140881795286144,
          -0.05007246339081912,
          null
         ],
         "y": [
          -0.3613323956197131,
          -0.07901321553880383,
          null
         ]
        },
        {
         "hoverinfo": "none",
         "hovertext": " ",
         "line": {
          "color": "rgb(100,200,0)",
          "width": 0.03
         },
         "textposition": "top center",
         "type": "scatter",
         "x": [
          0.08140881795286144,
          0.03147272336468635,
          null
         ],
         "y": [
          -0.3613323956197131,
          -0.12807799463958677,
          null
         ]
        },
        {
         "hoverinfo": "none",
         "hovertext": " ",
         "line": {
          "color": "rgb(100,200,0)",
          "width": 0.34
         },
         "textposition": "top center",
         "type": "scatter",
         "x": [
          0.08140881795286144,
          -0.18223836965864945,
          null
         ],
         "y": [
          -0.3613323956197131,
          -0.6322822275673232,
          null
         ]
        },
        {
         "hoverinfo": "none",
         "hovertext": " ",
         "line": {
          "color": "rgb(100,200,0)",
          "width": 0.29
         },
         "textposition": "top center",
         "type": "scatter",
         "x": [
          0.08140881795286144,
          0.6509979169809771,
          null
         ],
         "y": [
          -0.3613323956197131,
          0.08960708127153735,
          null
         ]
        },
        {
         "hoverinfo": "none",
         "hovertext": " ",
         "line": {
          "color": "rgb(100,200,0)",
          "width": 0.33
         },
         "textposition": "top center",
         "type": "scatter",
         "x": [
          0.08140881795286144,
          0.1484277257993926,
          null
         ],
         "y": [
          -0.3613323956197131,
          -0.21212120475697013,
          null
         ]
        },
        {
         "hoverinfo": "none",
         "hovertext": " ",
         "line": {
          "color": "rgb(100,200,0)",
          "width": 0.12
         },
         "textposition": "top center",
         "type": "scatter",
         "x": [
          0.08140881795286144,
          0.547664843443468,
          null
         ],
         "y": [
          -0.3613323956197131,
          0.6410124382128094,
          null
         ]
        },
        {
         "hoverinfo": "none",
         "hovertext": " ",
         "line": {
          "color": "rgb(100,200,0)",
          "width": 0.03
         },
         "textposition": "top center",
         "type": "scatter",
         "x": [
          0.08140881795286144,
          0.20561926665517882,
          null
         ],
         "y": [
          -0.3613323956197131,
          -0.14124401233976489,
          null
         ]
        },
        {
         "hoverinfo": "none",
         "hovertext": " ",
         "line": {
          "color": "rgb(100,200,1)",
          "width": 1.48
         },
         "textposition": "top center",
         "type": "scatter",
         "x": [
          -0.7643893943348069,
          -0.7643893943348069,
          null
         ],
         "y": [
          0.5082398453914309,
          0.5082398453914309,
          null
         ]
        },
        {
         "hoverinfo": "none",
         "hovertext": " ",
         "line": {
          "color": "rgb(100,200,0)",
          "width": 0.1
         },
         "textposition": "top center",
         "type": "scatter",
         "x": [
          -0.7643893943348069,
          0.09606441193397575,
          null
         ],
         "y": [
          0.5082398453914309,
          -0.0018440192520536444,
          null
         ]
        },
        {
         "hoverinfo": "none",
         "hovertext": " ",
         "line": {
          "color": "rgb(100,200,0)",
          "width": 0.13
         },
         "textposition": "top center",
         "type": "scatter",
         "x": [
          -0.7643893943348069,
          -0.05007246339081912,
          null
         ],
         "y": [
          0.5082398453914309,
          -0.07901321553880383,
          null
         ]
        },
        {
         "hoverinfo": "none",
         "hovertext": " ",
         "line": {
          "color": "rgb(100,200,0)",
          "width": 0.19
         },
         "textposition": "top center",
         "type": "scatter",
         "x": [
          -0.7643893943348069,
          0.03147272336468635,
          null
         ],
         "y": [
          0.5082398453914309,
          -0.12807799463958677,
          null
         ]
        },
        {
         "hoverinfo": "none",
         "hovertext": " ",
         "line": {
          "color": "rgb(100,200,0)",
          "width": 0.11
         },
         "textposition": "top center",
         "type": "scatter",
         "x": [
          -0.7643893943348069,
          -0.18223836965864945,
          null
         ],
         "y": [
          0.5082398453914309,
          -0.6322822275673232,
          null
         ]
        },
        {
         "hoverinfo": "none",
         "hovertext": " ",
         "line": {
          "color": "rgb(100,200,0)",
          "width": 0.11
         },
         "textposition": "top center",
         "type": "scatter",
         "x": [
          -0.7643893943348069,
          0.6509979169809771,
          null
         ],
         "y": [
          0.5082398453914309,
          0.08960708127153735,
          null
         ]
        },
        {
         "hoverinfo": "none",
         "hovertext": " ",
         "line": {
          "color": "rgb(100,200,0)",
          "width": 0.1
         },
         "textposition": "top center",
         "type": "scatter",
         "x": [
          -0.7643893943348069,
          0.1484277257993926,
          null
         ],
         "y": [
          0.5082398453914309,
          -0.21212120475697013,
          null
         ]
        },
        {
         "hoverinfo": "none",
         "hovertext": " ",
         "line": {
          "color": "rgb(100,200,0)",
          "width": 0.23
         },
         "textposition": "top center",
         "type": "scatter",
         "x": [
          -0.7643893943348069,
          0.547664843443468,
          null
         ],
         "y": [
          0.5082398453914309,
          0.6410124382128094,
          null
         ]
        },
        {
         "hoverinfo": "none",
         "hovertext": " ",
         "line": {
          "color": "rgb(100,200,0)",
          "width": 0.12
         },
         "textposition": "top center",
         "type": "scatter",
         "x": [
          -0.7643893943348069,
          0.20561926665517882,
          null
         ],
         "y": [
          0.5082398453914309,
          -0.14124401233976489,
          null
         ]
        },
        {
         "hoverinfo": "none",
         "hovertext": " ",
         "line": {
          "color": "rgb(100,200,1)",
          "width": 1.49
         },
         "textposition": "top center",
         "type": "scatter",
         "x": [
          0.09606441193397575,
          0.09606441193397575,
          null
         ],
         "y": [
          -0.0018440192520536444,
          -0.0018440192520536444,
          null
         ]
        },
        {
         "hoverinfo": "none",
         "hovertext": " ",
         "line": {
          "color": "rgb(100,200,0)",
          "width": 0.62
         },
         "textposition": "top center",
         "type": "scatter",
         "x": [
          0.09606441193397575,
          -0.05007246339081912,
          null
         ],
         "y": [
          -0.0018440192520536444,
          -0.07901321553880383,
          null
         ]
        },
        {
         "hoverinfo": "none",
         "hovertext": " ",
         "line": {
          "color": "rgb(100,200,0)",
          "width": 0.02
         },
         "textposition": "top center",
         "type": "scatter",
         "x": [
          0.09606441193397575,
          0.03147272336468635,
          null
         ],
         "y": [
          -0.0018440192520536444,
          -0.12807799463958677,
          null
         ]
        },
        {
         "hoverinfo": "none",
         "hovertext": " ",
         "line": {
          "color": "rgb(100,200,0)",
          "width": 0.29
         },
         "textposition": "top center",
         "type": "scatter",
         "x": [
          0.09606441193397575,
          -0.18223836965864945,
          null
         ],
         "y": [
          -0.0018440192520536444,
          -0.6322822275673232,
          null
         ]
        },
        {
         "hoverinfo": "none",
         "hovertext": " ",
         "line": {
          "color": "rgb(100,200,0)",
          "width": 0.2
         },
         "textposition": "top center",
         "type": "scatter",
         "x": [
          0.09606441193397575,
          0.6509979169809771,
          null
         ],
         "y": [
          -0.0018440192520536444,
          0.08960708127153735,
          null
         ]
        },
        {
         "hoverinfo": "none",
         "hovertext": " ",
         "line": {
          "color": "rgb(100,200,0)",
          "width": 0.31
         },
         "textposition": "top center",
         "type": "scatter",
         "x": [
          0.09606441193397575,
          0.1484277257993926,
          null
         ],
         "y": [
          -0.0018440192520536444,
          -0.21212120475697013,
          null
         ]
        },
        {
         "hoverinfo": "none",
         "hovertext": " ",
         "line": {
          "color": "rgb(100,200,0)",
          "width": 0.09
         },
         "textposition": "top center",
         "type": "scatter",
         "x": [
          0.09606441193397575,
          0.547664843443468,
          null
         ],
         "y": [
          -0.0018440192520536444,
          0.6410124382128094,
          null
         ]
        },
        {
         "hoverinfo": "none",
         "hovertext": " ",
         "line": {
          "color": "rgb(100,200,0)",
          "width": 0.02
         },
         "textposition": "top center",
         "type": "scatter",
         "x": [
          0.09606441193397575,
          0.20561926665517882,
          null
         ],
         "y": [
          -0.0018440192520536444,
          -0.14124401233976489,
          null
         ]
        },
        {
         "hoverinfo": "none",
         "hovertext": " ",
         "line": {
          "color": "rgb(100,200,1)",
          "width": 1.4
         },
         "textposition": "top center",
         "type": "scatter",
         "x": [
          -0.05007246339081912,
          -0.05007246339081912,
          null
         ],
         "y": [
          -0.07901321553880383,
          -0.07901321553880383,
          null
         ]
        },
        {
         "hoverinfo": "none",
         "hovertext": " ",
         "line": {
          "color": "rgb(100,200,0)",
          "width": 0.01
         },
         "textposition": "top center",
         "type": "scatter",
         "x": [
          -0.05007246339081912,
          0.03147272336468635,
          null
         ],
         "y": [
          -0.07901321553880383,
          -0.12807799463958677,
          null
         ]
        },
        {
         "hoverinfo": "none",
         "hovertext": " ",
         "line": {
          "color": "rgb(100,200,0)",
          "width": 0.34
         },
         "textposition": "top center",
         "type": "scatter",
         "x": [
          -0.05007246339081912,
          -0.18223836965864945,
          null
         ],
         "y": [
          -0.07901321553880383,
          -0.6322822275673232,
          null
         ]
        },
        {
         "hoverinfo": "none",
         "hovertext": " ",
         "line": {
          "color": "rgb(100,200,0)",
          "width": 0.24
         },
         "textposition": "top center",
         "type": "scatter",
         "x": [
          -0.05007246339081912,
          0.6509979169809771,
          null
         ],
         "y": [
          -0.07901321553880383,
          0.08960708127153735,
          null
         ]
        },
        {
         "hoverinfo": "none",
         "hovertext": " ",
         "line": {
          "color": "rgb(100,200,0)",
          "width": 0.31
         },
         "textposition": "top center",
         "type": "scatter",
         "x": [
          -0.05007246339081912,
          0.1484277257993926,
          null
         ],
         "y": [
          -0.07901321553880383,
          -0.21212120475697013,
          null
         ]
        },
        {
         "hoverinfo": "none",
         "hovertext": " ",
         "line": {
          "color": "rgb(100,200,0)",
          "width": 0.09
         },
         "textposition": "top center",
         "type": "scatter",
         "x": [
          -0.05007246339081912,
          0.547664843443468,
          null
         ],
         "y": [
          -0.07901321553880383,
          0.6410124382128094,
          null
         ]
        },
        {
         "hoverinfo": "none",
         "hovertext": " ",
         "line": {
          "color": "rgb(100,200,2)",
          "width": 2.37
         },
         "textposition": "top center",
         "type": "scatter",
         "x": [
          0.03147272336468635,
          0.03147272336468635,
          null
         ],
         "y": [
          -0.12807799463958677,
          -0.12807799463958677,
          null
         ]
        },
        {
         "hoverinfo": "none",
         "hovertext": " ",
         "line": {
          "color": "rgb(100,200,0)",
          "width": 0.06
         },
         "textposition": "top center",
         "type": "scatter",
         "x": [
          0.03147272336468635,
          -0.18223836965864945,
          null
         ],
         "y": [
          -0.12807799463958677,
          -0.6322822275673232,
          null
         ]
        },
        {
         "hoverinfo": "none",
         "hovertext": " ",
         "line": {
          "color": "rgb(100,200,0)",
          "width": 0.33
         },
         "textposition": "top center",
         "type": "scatter",
         "x": [
          0.03147272336468635,
          0.6509979169809771,
          null
         ],
         "y": [
          -0.12807799463958677,
          0.08960708127153735,
          null
         ]
        },
        {
         "hoverinfo": "none",
         "hovertext": " ",
         "line": {
          "color": "rgb(100,200,0)",
          "width": 0.37
         },
         "textposition": "top center",
         "type": "scatter",
         "x": [
          0.03147272336468635,
          0.547664843443468,
          null
         ],
         "y": [
          -0.12807799463958677,
          0.6410124382128094,
          null
         ]
        },
        {
         "hoverinfo": "none",
         "hovertext": " ",
         "line": {
          "color": "rgb(100,200,0)",
          "width": 0.51
         },
         "textposition": "top center",
         "type": "scatter",
         "x": [
          0.03147272336468635,
          0.20561926665517882,
          null
         ],
         "y": [
          -0.12807799463958677,
          -0.14124401233976489,
          null
         ]
        },
        {
         "hoverinfo": "none",
         "hovertext": " ",
         "line": {
          "color": "rgb(100,200,2)",
          "width": 2.15
         },
         "textposition": "top center",
         "type": "scatter",
         "x": [
          -0.18223836965864945,
          -0.18223836965864945,
          null
         ],
         "y": [
          -0.6322822275673232,
          -0.6322822275673232,
          null
         ]
        },
        {
         "hoverinfo": "none",
         "hovertext": " ",
         "line": {
          "color": "rgb(100,200,0)",
          "width": 0.34
         },
         "textposition": "top center",
         "type": "scatter",
         "x": [
          -0.18223836965864945,
          0.6509979169809771,
          null
         ],
         "y": [
          -0.6322822275673232,
          0.08960708127153735,
          null
         ]
        },
        {
         "hoverinfo": "none",
         "hovertext": " ",
         "line": {
          "color": "rgb(100,200,0)",
          "width": 0.39
         },
         "textposition": "top center",
         "type": "scatter",
         "x": [
          -0.18223836965864945,
          0.1484277257993926,
          null
         ],
         "y": [
          -0.6322822275673232,
          -0.21212120475697013,
          null
         ]
        },
        {
         "hoverinfo": "none",
         "hovertext": " ",
         "line": {
          "color": "rgb(100,200,0)",
          "width": 0.21
         },
         "textposition": "top center",
         "type": "scatter",
         "x": [
          -0.18223836965864945,
          0.547664843443468,
          null
         ],
         "y": [
          -0.6322822275673232,
          0.6410124382128094,
          null
         ]
        },
        {
         "hoverinfo": "none",
         "hovertext": " ",
         "line": {
          "color": "rgb(100,200,0)",
          "width": 0.07
         },
         "textposition": "top center",
         "type": "scatter",
         "x": [
          -0.18223836965864945,
          0.20561926665517882,
          null
         ],
         "y": [
          -0.6322822275673232,
          -0.14124401233976489,
          null
         ]
        },
        {
         "hoverinfo": "none",
         "hovertext": " ",
         "line": {
          "color": "rgb(100,200,2)",
          "width": 2.11
         },
         "textposition": "top center",
         "type": "scatter",
         "x": [
          0.6509979169809771,
          0.6509979169809771,
          null
         ],
         "y": [
          0.08960708127153735,
          0.08960708127153735,
          null
         ]
        },
        {
         "hoverinfo": "none",
         "hovertext": " ",
         "line": {
          "color": "rgb(100,200,0)",
          "width": 0.24
         },
         "textposition": "top center",
         "type": "scatter",
         "x": [
          0.6509979169809771,
          0.1484277257993926,
          null
         ],
         "y": [
          0.08960708127153735,
          -0.21212120475697013,
          null
         ]
        },
        {
         "hoverinfo": "none",
         "hovertext": " ",
         "line": {
          "color": "rgb(100,200,0)",
          "width": 0.26
         },
         "textposition": "top center",
         "type": "scatter",
         "x": [
          0.6509979169809771,
          0.547664843443468,
          null
         ],
         "y": [
          0.08960708127153735,
          0.6410124382128094,
          null
         ]
        },
        {
         "hoverinfo": "none",
         "hovertext": " ",
         "line": {
          "color": "rgb(100,200,0)",
          "width": 0.2
         },
         "textposition": "top center",
         "type": "scatter",
         "x": [
          0.6509979169809771,
          0.20561926665517882,
          null
         ],
         "y": [
          0.08960708127153735,
          -0.14124401233976489,
          null
         ]
        },
        {
         "hoverinfo": "none",
         "hovertext": " ",
         "line": {
          "color": "rgb(100,200,2)",
          "width": 2
         },
         "textposition": "top center",
         "type": "scatter",
         "x": [
          0.1484277257993926,
          0.1484277257993926,
          null
         ],
         "y": [
          -0.21212120475697013,
          -0.21212120475697013,
          null
         ]
        },
        {
         "hoverinfo": "none",
         "hovertext": " ",
         "line": {
          "color": "rgb(100,200,0)",
          "width": 0.09
         },
         "textposition": "top center",
         "type": "scatter",
         "x": [
          0.1484277257993926,
          0.547664843443468,
          null
         ],
         "y": [
          -0.21212120475697013,
          0.6410124382128094,
          null
         ]
        },
        {
         "hoverinfo": "none",
         "hovertext": " ",
         "line": {
          "color": "rgb(100,200,0)",
          "width": 0.01
         },
         "textposition": "top center",
         "type": "scatter",
         "x": [
          0.1484277257993926,
          0.20561926665517882,
          null
         ],
         "y": [
          -0.21212120475697013,
          -0.14124401233976489,
          null
         ]
        },
        {
         "hoverinfo": "none",
         "hovertext": " ",
         "line": {
          "color": "rgb(100,200,1)",
          "width": 1.73
         },
         "textposition": "top center",
         "type": "scatter",
         "x": [
          0.547664843443468,
          0.547664843443468,
          null
         ],
         "y": [
          0.6410124382128094,
          0.6410124382128094,
          null
         ]
        },
        {
         "hoverinfo": "none",
         "hovertext": " ",
         "line": {
          "color": "rgb(100,200,0)",
          "width": 0.33
         },
         "textposition": "top center",
         "type": "scatter",
         "x": [
          0.547664843443468,
          0.20561926665517882,
          null
         ],
         "y": [
          0.6410124382128094,
          -0.14124401233976489,
          null
         ]
        },
        {
         "hoverinfo": "none",
         "hovertext": " ",
         "line": {
          "color": "rgb(100,200,1)",
          "width": 1.29
         },
         "textposition": "top center",
         "type": "scatter",
         "x": [
          0.20561926665517882,
          0.20561926665517882,
          null
         ],
         "y": [
          -0.14124401233976489,
          -0.14124401233976489,
          null
         ]
        },
        {
         "customdata": [
          [
           368,
           "fast",
           "ADV"
          ],
          [
           191,
           "quickly",
           "ADV"
          ],
          [
           140,
           "long",
           "ADV"
          ]
         ],
         "hovertemplate": "#=%{customdata[0]}<extra></extra>",
         "legendgroup": "ADV",
         "marker": {
          "color": "#636efa",
          "size": [
           368,
           191,
           140
          ],
          "sizemode": "area",
          "sizeref": 1.0575,
          "symbol": "circle"
         },
         "mode": "markers+text",
         "name": "ADV",
         "orientation": "v",
         "showlegend": true,
         "text": [
          "fast",
          "quickly",
          "long"
         ],
         "textposition": "top center",
         "type": "scatter",
         "x": [
          0.07672033887604401,
          0.26281681750159147,
          -0.31640935946231563
         ],
         "xaxis": "x",
         "y": [
          0.27649526674030017,
          0.16341705312411842,
          0.4478815572900766
         ],
         "yaxis": "y"
        },
        {
         "customdata": [
          [
           423,
           "time",
           "NOUN"
          ],
          [
           332,
           "delivery",
           "NOUN"
          ],
          [
           338,
           "service",
           "NOUN"
          ],
          [
           241,
           "people",
           "NOUN"
          ],
          [
           166,
           "day",
           "NOUN"
          ],
          [
           207,
           "unload",
           "NOUN"
          ],
          [
           220,
           "staff",
           "NOUN"
          ],
          [
           162,
           "hour",
           "NOUN"
          ],
          [
           146,
           "order",
           "NOUN"
          ],
          [
           162,
           "transport",
           "NOUN"
          ],
          [
           137,
           "office",
           "NOUN"
          ],
          [
           148,
           "place",
           "NOUN"
          ],
          [
           149,
           "coffee",
           "NOUN"
          ],
          [
           140,
           "toilet",
           "NOUN"
          ]
         ],
         "hovertemplate": "#=%{customdata[0]}<extra></extra>",
         "legendgroup": "NOUN",
         "marker": {
          "color": "#EF553B",
          "size": [
           423,
           332,
           338,
           241,
           166,
           207,
           220,
           162,
           146,
           162,
           137,
           148,
           149,
           140
          ],
          "sizemode": "area",
          "sizeref": 1.0575,
          "symbol": "circle"
         },
         "mode": "markers+text",
         "name": "NOUN",
         "orientation": "v",
         "showlegend": true,
         "text": [
          "time",
          "delivery",
          "service",
          "people",
          "day",
          "unload",
          "staff",
          "hour",
          "order",
          "transport",
          "office",
          "place",
          "coffee",
          "toilet"
         ],
         "textposition": "top center",
         "type": "scatter",
         "x": [
          0.9999999999999999,
          0.013359875503130328,
          -0.5927227170015038,
          -0.5261619971077781,
          -0.1101981914276436,
          -0.3283655382286087,
          -0.17793367119152348,
          -0.008898994998657116,
          -0.032363532478511176,
          -0.024798508730488826,
          0.08140881795286144,
          -0.7643893943348069,
          0.09606441193397575,
          -0.05007246339081912
         ],
         "xaxis": "x",
         "y": [
          -0.792748664783978,
          -0.018807038715815263,
          -0.26818423076617726,
          0.15597534960762655,
          -0.1386567663246579,
          -0.5210579759864579,
          0.19909860375575822,
          0.86968417501967,
          0.11734746928670177,
          -0.17338909340872768,
          -0.3613323956197131,
          0.5082398453914309,
          -0.0018440192520536444,
          -0.07901321553880383
         ],
         "yaxis": "y"
        },
        {
         "customdata": [
          [
           237,
           "deliver",
           "VERB"
          ],
          [
           215,
           "load",
           "VERB"
          ],
          [
           211,
           "wait",
           "VERB"
          ],
          [
           200,
           "loading",
           "VERB"
          ],
          [
           173,
           "come",
           "VERB"
          ],
          [
           129,
           "call",
           "VERB"
          ]
         ],
         "hovertemplate": "#=%{customdata[0]}<extra></extra>",
         "legendgroup": "VERB",
         "marker": {
          "color": "#00cc96",
          "size": [
           237,
           215,
           211,
           200,
           173,
           129
          ],
          "sizemode": "area",
          "sizeref": 1.0575,
          "symbol": "circle"
         },
         "mode": "markers+text",
         "name": "VERB",
         "orientation": "v",
         "showlegend": true,
         "text": [
          "deliver",
          "load",
          "wait",
          "loading",
          "come",
          "call"
         ],
         "textposition": "top center",
         "type": "scatter",
         "x": [
          0.03147272336468635,
          -0.18223836965864945,
          0.6509979169809771,
          0.1484277257993926,
          0.547664843443468,
          0.20561926665517882
         ],
         "xaxis": "x",
         "y": [
          -0.12807799463958677,
          -0.6322822275673232,
          0.08960708127153735,
          -0.21212120475697013,
          0.6410124382128094,
          -0.14124401233976489
         ],
         "yaxis": "y"
        },
        {
         "hoverinfo": "text",
         "hoverlabel": {
          "bgcolor": "#FFFFFF"
         },
         "marker": {
          "opacity": 0
         },
         "mode": "markers",
         "text": [
          "368",
          "0",
          "3",
          "0",
          "4",
          "0",
          "18",
          "0",
          "25",
          "0",
          "46",
          "0",
          "27",
          "0",
          "5",
          "0",
          "20",
          "0",
          "41",
          "0",
          "6",
          "0",
          "2",
          "0",
          "4",
          "0",
          "16",
          "0",
          "12",
          "0",
          "29",
          "0",
          "27",
          "0",
          "6",
          "0",
          "28",
          "0",
          "6",
          "0",
          "105",
          "0",
          "6",
          "0",
          "4",
          "0",
          "191",
          "0",
          "6",
          "0",
          "19",
          "0",
          "3",
          "0",
          "12",
          "0",
          "14",
          "0",
          "4",
          "0",
          "47",
          "0",
          "21",
          "0",
          "9",
          "0",
          "5",
          "0",
          "5",
          "0",
          "15",
          "0",
          "10",
          "0",
          "20",
          "0",
          "20",
          "0",
          "6",
          "0",
          "43",
          "0",
          "13",
          "0",
          "12",
          "0",
          "11",
          "0",
          "4",
          "0",
          "140",
          "0",
          "87",
          "0",
          "17",
          "0",
          "6",
          "0",
          "4",
          "0",
          "11",
          "0",
          "25",
          "0",
          "12",
          "0",
          "16",
          "0",
          "10",
          "0",
          "8",
          "0",
          "10",
          "0",
          "6",
          "0",
          "6",
          "0",
          "12",
          "0",
          "12",
          "0",
          "19",
          "0",
          "51",
          "0",
          "13",
          "0",
          "15",
          "0",
          "12",
          "0",
          "423",
          "0",
          "130",
          "0",
          "63",
          "0",
          "33",
          "0",
          "78",
          "0",
          "40",
          "0",
          "24",
          "0",
          "52",
          "0",
          "58",
          "0",
          "41",
          "0",
          "25",
          "0",
          "29",
          "0",
          "11",
          "0",
          "18",
          "0",
          "98",
          "0",
          "45",
          "0",
          "61",
          "0",
          "18",
          "0",
          "62",
          "0",
          "68",
          "0",
          "332",
          "0",
          "85",
          "0",
          "19",
          "0",
          "75",
          "0",
          "10",
          "0",
          "9",
          "0",
          "28",
          "0",
          "76",
          "0",
          "39",
          "0",
          "3",
          "0",
          "28",
          "0",
          "1",
          "0",
          "1",
          "0",
          "113",
          "0",
          "7",
          "0",
          "28",
          "0",
          "48",
          "0",
          "81",
          "0",
          "338",
          "0",
          "18",
          "0",
          "42",
          "0",
          "11",
          "0",
          "13",
          "0",
          "17",
          "0",
          "38",
          "0",
          "37",
          "0",
          "6",
          "0",
          "17",
          "0",
          "7",
          "0",
          "6",
          "0",
          "60",
          "0",
          "6",
          "0",
          "20",
          "0",
          "12",
          "0",
          "27",
          "0",
          "36",
          "0",
          "241",
          "0",
          "18",
          "0",
          "19",
          "0",
          "7",
          "0",
          "9",
          "0",
          "11",
          "0",
          "12",
          "0",
          "15",
          "0",
          "18",
          "0",
          "10",
          "0",
          "5",
          "0",
          "12",
          "0",
          "16",
          "0",
          "13",
          "0",
          "14",
          "0",
          "15",
          "0",
          "10",
          "0",
          "166",
          "0",
          "8",
          "0",
          "5",
          "0",
          "30",
          "0",
          "40",
          "0",
          "21",
          "0",
          "7",
          "0",
          "20",
          "0",
          "3",
          "0",
          "1",
          "0",
          "58",
          "0",
          "5",
          "0",
          "28",
          "0",
          "2",
          "0",
          "45",
          "0",
          "44",
          "0",
          "207",
          "0",
          "17",
          "0",
          "25",
          "0",
          "8",
          "0",
          "5",
          "0",
          "20",
          "0",
          "10",
          "0",
          "20",
          "0",
          "22",
          "0",
          "7",
          "0",
          "24",
          "0",
          "31",
          "0",
          "15",
          "0",
          "16",
          "0",
          "5",
          "0",
          "220",
          "0",
          "11",
          "0",
          "2",
          "0",
          "5",
          "0",
          "24",
          "0",
          "10",
          "0",
          "35",
          "0",
          "24",
          "0",
          "5",
          "0",
          "20",
          "0",
          "13",
          "0",
          "31",
          "0",
          "10",
          "0",
          "4",
          "0",
          "162",
          "0",
          "16",
          "0",
          "13",
          "0",
          "18",
          "0",
          "10",
          "0",
          "13",
          "0",
          "14",
          "0",
          "30",
          "0",
          "34",
          "0",
          "63",
          "0",
          "19",
          "0",
          "26",
          "0",
          "22",
          "0",
          "146",
          "0",
          "28",
          "0",
          "4",
          "0",
          "19",
          "0",
          "2",
          "0",
          "2",
          "0",
          "77",
          "0",
          "7",
          "0",
          "22",
          "0",
          "5",
          "0",
          "33",
          "0",
          "33",
          "0",
          "162",
          "0",
          "3",
          "0",
          "11",
          "0",
          "2",
          "0",
          "1",
          "0",
          "35",
          "0",
          "6",
          "0",
          "6",
          "0",
          "2",
          "0",
          "13",
          "0",
          "17",
          "0",
          "137",
          "0",
          "12",
          "0",
          "27",
          "0",
          "29",
          "0",
          "3",
          "0",
          "34",
          "0",
          "29",
          "0",
          "33",
          "0",
          "12",
          "0",
          "3",
          "0",
          "148",
          "0",
          "10",
          "0",
          "13",
          "0",
          "19",
          "0",
          "11",
          "0",
          "11",
          "0",
          "10",
          "0",
          "23",
          "0",
          "12",
          "0",
          "149",
          "0",
          "62",
          "0",
          "2",
          "0",
          "29",
          "0",
          "20",
          "0",
          "31",
          "0",
          "9",
          "0",
          "2",
          "0",
          "140",
          "0",
          "1",
          "0",
          "34",
          "0",
          "24",
          "0",
          "31",
          "0",
          "9",
          "0",
          "237",
          "0",
          "6",
          "0",
          "33",
          "0",
          "37",
          "0",
          "51",
          "0",
          "215",
          "0",
          "34",
          "0",
          "39",
          "0",
          "21",
          "0",
          "7",
          "0",
          "211",
          "0",
          "24",
          "0",
          "26",
          "0",
          "20",
          "0",
          "200",
          "0",
          "9",
          "0",
          "1",
          "0",
          "173",
          "0",
          "33",
          "0",
          "129",
          "0"
         ],
         "textposition": "top center",
         "type": "scatter",
         "x": [
          0.07672033887604401,
          0,
          0.16976857818881774,
          0,
          -0.11984451029313581,
          0,
          0.538360169438022,
          0,
          0.04504010718958717,
          0,
          -0.2580011890627299,
          0,
          -0.22472082911586705,
          0,
          -0.016738926275799794,
          0,
          -0.12582259967628234,
          0,
          -0.05060666615773973,
          0,
          0.033910671938693446,
          0,
          0.02217840319876642,
          0,
          0.025960915072777594,
          0,
          0.07906457841445272,
          0,
          -0.34383452772938145,
          0,
          0.08639237540500988,
          0,
          0.013323937742612448,
          0,
          0.05409653112036518,
          0,
          -0.05275901539130272,
          0,
          0.36385912792851055,
          0,
          0.1125740323377183,
          0,
          0.312192591159756,
          0,
          0.14116980276561142,
          0,
          0.26281681750159147,
          0,
          -0.02679627098036208,
          0,
          0.6314084087507956,
          0,
          0.1380883465023609,
          0,
          -0.16495294974995617,
          0,
          -0.13167258980309332,
          0,
          0.07630931303697394,
          0,
          -0.032774360363508614,
          0,
          0.042441573155033996,
          0,
          0.1269589112514672,
          0,
          0.11522664251154015,
          0,
          0.11900915438555132,
          0,
          0.17211281772722645,
          0,
          -0.2507862884166077,
          0,
          0.1794406147177836,
          0,
          0.10637217705538618,
          0,
          0.14714477043313892,
          0,
          0.04028922392147101,
          0,
          0.4569073672412843,
          0,
          0.20562227165049202,
          0,
          0.40524083047252973,
          0,
          0.23421804207838515,
          0,
          -0.31640935946231563,
          0,
          0.34179532026884213,
          0,
          -0.15152474197959265,
          0,
          -0.4545660382319097,
          0,
          -0.42128567828504687,
          0,
          -0.2133037754449796,
          0,
          -0.32238744884546217,
          0,
          -0.24717151532691956,
          0,
          -0.16265417723048636,
          0,
          -0.17438644597041342,
          0,
          -0.17060393409640223,
          0,
          -0.1175002707547271,
          0,
          -0.5403993768985613,
          0,
          -0.11017247376416994,
          0,
          -0.18324091142656737,
          0,
          -0.14246831804881463,
          0,
          -0.24932386456048256,
          0,
          0.16729427875933073,
          0,
          -0.08399081683146152,
          0,
          0.11562774199057618,
          0,
          -0.055395046403568404,
          0,
          0.9999999999999999,
          0,
          0.5066799377515651,
          0,
          0.20363864149924804,
          0,
          0.2369190014461109,
          0,
          0.4449009042861781,
          0,
          0.3358172308856956,
          0,
          0.4110331644042382,
          0,
          0.4955505025006714,
          0,
          0.48381823376074434,
          0,
          0.48760074563475553,
          0,
          0.5407044089764307,
          0,
          0.11780530283259649,
          0,
          0.5480322059669878,
          0,
          0.47496376830459036,
          0,
          0.5157363616823432,
          0,
          0.4088808151706752,
          0,
          0.8254989584904885,
          0,
          0.5742138628996962,
          0,
          0.7738324217217339,
          0,
          0.6028096333275894,
          0,
          0.013359875503130328,
          0,
          -0.28968142074918674,
          0,
          -0.2564010608023239,
          0,
          -0.04841915796225664,
          0,
          -0.15750283136273918,
          0,
          -0.08228689784419657,
          0,
          0.002230440252236606,
          0,
          -0.009501828487690423,
          0,
          -0.005719316613679249,
          0,
          0.04738434672799588,
          0,
          -0.3755147594158383,
          0,
          0.054712143718553034,
          0,
          -0.018356293943844394,
          0,
          0.02241629943390834,
          0,
          -0.08443924707775956,
          0,
          0.3321788962420537,
          0,
          0.28051235947329917,
          0,
          0.10948957107915458,
          0,
          -0.5927227170015038,
          0,
          -0.559442357054641,
          0,
          -0.3514604542145737,
          0,
          -0.46054412761505625,
          0,
          -0.38532819409651364,
          0,
          -0.30081085600008045,
          0,
          -0.3125431247400075,
          0,
          -0.3087606128659963,
          0,
          -0.25565694952432116,
          0,
          -0.6785560556681554,
          0,
          -0.24832915253376403,
          0,
          -0.3213975901961615,
          0,
          -0.28062499681840875,
          0,
          -0.38748054333007664,
          0,
          0.02913759998973664,
          0,
          -0.22214749560105562,
          0,
          -0.022528936779017905,
          0,
          -0.1935517251731625,
          0,
          -0.5261619971077781,
          0,
          -0.3181800942677109,
          0,
          -0.4272637676681934,
          0,
          -0.3520478341496508,
          0,
          -0.2675304960532176,
          0,
          -0.27926276479314466,
          0,
          -0.2754802529191335,
          0,
          -0.22237658957745834,
          0,
          -0.6452756957212925,
          0,
          -0.21504879258690118,
          0,
          -0.28811723024929864,
          0,
          -0.24734463687154587,
          0,
          -0.3542001833832138,
          0,
          0.06241795993659949,
          0,
          -0.18886713565419277,
          0,
          0.010751423167844942,
          0,
          -0.16027136522629964,
          0,
          -0.1101981914276436,
          0,
          -0.21928186482812614,
          0,
          -0.14406593130958353,
          0,
          -0.059548593213150355,
          0,
          -0.0712808619530774,
          0,
          -0.06749835007906621,
          0,
          -0.014394686737391083,
          0,
          -0.4372937928812253,
          0,
          -0.007066889746833928,
          0,
          -0.08013532740923136,
          0,
          -0.03936273403147862,
          0,
          -0.14621828054314653,
          0,
          0.2703998627766667,
          0,
          0.019114767185874494,
          0,
          0.2187333260079122,
          0,
          0.04771053761376761,
          0,
          -0.3283655382286087,
          0,
          -0.2531496047100661,
          0,
          -0.1686322666136329,
          0,
          -0.18036453535355995,
          0,
          -0.17658202347954877,
          0,
          -0.12347836013787364,
          0,
          -0.5463774662817078,
          0,
          -0.11615056314731648,
          0,
          -0.1892190008097139,
          0,
          -0.14844640743196116,
          0,
          -0.2553019539436291,
          0,
          0.1613161893761842,
          0,
          -0.08996890621460805,
          0,
          0.10964965260742965,
          0,
          -0.06137313578671494,
          0,
          -0.17793367119152348,
          0,
          -0.0934163330950903,
          0,
          -0.10514860183501733,
          0,
          -0.10136608996100616,
          0,
          -0.04826242661933102,
          0,
          -0.4711615327631652,
          0,
          -0.040934629628773866,
          0,
          -0.1140030672911713,
          0,
          -0.07323047391341857,
          0,
          -0.18008602042508648,
          0,
          0.2365321228947268,
          0,
          -0.014752972696065444,
          0,
          0.18486558612597226,
          0,
          0.013842797731827672,
          0,
          -0.008898994998657116,
          0,
          -0.020631263738584146,
          0,
          -0.01684875186457297,
          0,
          0.036254911477102164,
          0,
          -0.386644194666732,
          0,
          0.04358270846765931,
          0,
          -0.029485729194738117,
          0,
          0.011286864183014618,
          0,
          -0.09556868232865329,
          0,
          0.32104946099116,
          0,
          0.06976436540036773,
          0,
          0.26938292422240545,
          0,
          0.09836013582826085,
          0,
          -0.032363532478511176,
          0,
          -0.0285810206045,
          0,
          0.02452264273717513,
          0,
          -0.39837646340665905,
          0,
          0.031850439727732285,
          0,
          -0.04121799793466514,
          0,
          -0.00044540455691241196,
          0,
          -0.10730095106858031,
          0,
          0.30931719225123294,
          0,
          0.05803209666044071,
          0,
          0.2576506554824784,
          0,
          0.08662786708833382,
          0,
          -0.024798508730488826,
          0,
          0.028305154611186305,
          0,
          -0.39459395153264787,
          0,
          0.03563295160174346,
          0,
          -0.03743548606065397,
          0,
          0.003337107317098763,
          0,
          -0.10351843919456914,
          0,
          0.3130997041252441,
          0,
          0.06181460853445188,
          0,
          0.2614331673564896,
          0,
          0.090410378962345,
          0,
          0.08140881795286144,
          0,
          -0.3414902881909727,
          0,
          0.08873661494341858,
          0,
          0.01566817728102116,
          0,
          0.0564407706587739,
          0,
          -0.05041477585289401,
          0,
          0.3662033674669193,
          0,
          0.11491827187612702,
          0,
          0.31453683069816474,
          0,
          0.14351404230402012,
          0,
          -0.7643893943348069,
          0,
          -0.3341624912004156,
          0,
          -0.40723092886281304,
          0,
          -0.3664583354850603,
          0,
          -0.4733138819967282,
          0,
          -0.05669573867691491,
          0,
          -0.30798083426770717,
          0,
          -0.10836227544566945,
          0,
          -0.27938506383981404,
          0,
          0.09606441193397575,
          0,
          0.022995974271578314,
          0,
          0.06376856764933105,
          0,
          -0.04308697886233685,
          0,
          0.3735311644574764,
          0,
          0.12224606886668417,
          0,
          0.32186462768872187,
          0,
          0.15084183929457728,
          0,
          -0.05007246339081912,
          0,
          -0.009299870013066383,
          0,
          -0.11615541652473428,
          0,
          0.30046272679507896,
          0,
          0.04917763120428674,
          0,
          0.24879619002632444,
          0,
          0.03147272336468635,
          0,
          -0.07538282314698155,
          0,
          0.3412353201728317,
          0,
          0.28956878340407716,
          0,
          0.11854599500993258,
          0,
          -0.18223836965864945,
          0,
          0.2343797736611638,
          0,
          -0.01690532192962843,
          0,
          0.18271323689240926,
          0,
          0.011690448498264686,
          0,
          0.6509979169809771,
          0,
          0.3997128213901848,
          0,
          0.5993313802122225,
          0,
          0.42830859181807795,
          0,
          0.1484277257993926,
          0,
          0.3480462846214303,
          0,
          0.1770234962272857,
          0,
          0.547664843443468,
          0,
          0.3766420550493234,
          0,
          0.20561926665517882,
          0
         ],
         "y": [
          0.27649526674030017,
          0,
          0.2199561599322093,
          0,
          0.36218841201518837,
          0,
          -0.25812669902183893,
          0,
          0.12884411401224247,
          0,
          0.004155517987061458,
          0,
          0.21623530817396336,
          0,
          0.06891925020782114,
          0,
          -0.12228135462307885,
          0,
          0.2377969352480292,
          0,
          0.5730897208799851,
          0,
          0.19692136801350096,
          0,
          0.051553086665786244,
          0,
          -0.04241856443970646,
          0,
          0.3923675560658655,
          0,
          0.13732562374412327,
          0,
          0.09874102560074817,
          0,
          0.0742086360503567,
          0,
          -0.17789348041351152,
          0,
          0.18305117400591875,
          0,
          0.03218703099166502,
          0,
          0.45875385247655476,
          0,
          0.06762562720026764,
          0,
          0.16341705312411842,
          0,
          0.30564930520709754,
          0,
          -0.31466580582992976,
          0,
          0.07230500720415158,
          0,
          -0.05238358882102942,
          0,
          0.15969620136587248,
          0,
          0.012380143399730259,
          0,
          -0.17882046143116972,
          0,
          0.18125782843993832,
          0,
          0.5165506140718942,
          0,
          0.14038226120541009,
          0,
          -0.004986020142304634,
          0,
          -0.09895767124779734,
          0,
          0.33582844925777466,
          0,
          0.08078651693603238,
          0,
          0.04220191879265729,
          0,
          0.017669529242265822,
          0,
          -0.2344325872216024,
          0,
          0.12651206719782787,
          0,
          -0.02435207581642586,
          0,
          0.40221474566846394,
          0,
          0.011086520392176766,
          0,
          0.4478815572900766,
          0,
          -0.17243355374695069,
          0,
          0.2145372592871307,
          0,
          0.08984866326194968,
          0,
          0.30192845344885155,
          0,
          0.15461239548270936,
          0,
          -0.036588209348190626,
          0,
          0.3234900805229174,
          0,
          0.6587828661548734,
          0,
          0.2826145132883892,
          0,
          0.13724623194067448,
          0,
          0.043274580835181764,
          0,
          0.47806070134075374,
          0,
          0.2230187690190115,
          0,
          0.1844341708756364,
          0,
          0.1599017813252449,
          0,
          -0.0922003351386233,
          0,
          0.268744319280807,
          0,
          0.11788017626655324,
          0,
          0.544446997751443,
          0,
          0.15331877247515585,
          0,
          -0.792748664783978,
          0,
          -0.4057778517498966,
          0,
          -0.5304664477750776,
          0,
          -0.31838665758817575,
          0,
          -0.46570271555431797,
          0,
          -0.6569033203852179,
          0,
          -0.2968250305141099,
          0,
          0.038467755117846,
          0,
          -0.3377005977486381,
          0,
          -0.4830688790963528,
          0,
          -0.5770405302018455,
          0,
          -0.14225440969627356,
          0,
          -0.39729634201801584,
          0,
          -0.4358809401613909,
          0,
          -0.4604133297117824,
          0,
          -0.7125154461756507,
          0,
          -0.3515707917562203,
          0,
          -0.5024349347704741,
          0,
          -0.0758681132855843,
          0,
          -0.46699633856187145,
          0,
          -0.018807038715815263,
          0,
          -0.14349563474099625,
          0,
          0.06858415544590564,
          0,
          -0.07873190252023658,
          0,
          -0.26993250735113655,
          0,
          0.09014578251997148,
          0,
          0.4254385681519274,
          0,
          0.04927021528544325,
          0,
          -0.09609806606227148,
          0,
          -0.19006971716776416,
          0,
          0.2447164033378078,
          0,
          -0.010325528983934453,
          0,
          -0.04891012712730955,
          0,
          -0.07344251667770102,
          0,
          -0.32554463314156923,
          0,
          0.03540002127786104,
          0,
          0.3111026997484971,
          0,
          -0.08002552552779008,
          0,
          -0.26818423076617726,
          0,
          -0.056104440579275355,
          0,
          -0.20342049854541758,
          0,
          -0.39462110337631756,
          0,
          -0.03454281350520952,
          0,
          0.30074997212674637,
          0,
          -0.07541838073973775,
          0,
          -0.22078666208745246,
          0,
          -0.31475831319294517,
          0,
          0.1200278073126268,
          0,
          -0.13501412500911544,
          0,
          -0.17359872315249053,
          0,
          -0.19813111270288203,
          0,
          -0.45023322916675024,
          0,
          -0.08928857474731995,
          0,
          -0.2401527177615737,
          0,
          0.18641410372331607,
          0,
          -0.20471412155297108,
          0,
          0.15597534960762655,
          0,
          0.008659291641484324,
          0,
          -0.18254131318941566,
          0,
          0.17753697668169238,
          0,
          0.5128297623136483,
          0,
          0.13666140944716415,
          0,
          -0.00870687190055057,
          0,
          -0.10267852300604327,
          0,
          0.3321075974995287,
          0,
          0.07706566517778644,
          0,
          0.038481067034411356,
          0,
          0.013948677484019886,
          0,
          -0.23815343897984834,
          0,
          0.12279121543958195,
          0,
          -0.028072927574671794,
          0,
          0.39849389391021794,
          0,
          0.00736566863393083,
          0,
          -0.1386567663246579,
          0,
          -0.3298573711555579,
          0,
          0.03022091871555016,
          0,
          0.3655137043475061,
          0,
          -0.010654648518978065,
          0,
          -0.1560229298666928,
          0,
          -0.2499945809721855,
          0,
          0.18479153953338648,
          0,
          -0.07025039278835578,
          0,
          -0.10883499093173087,
          0,
          -0.13336738048212232,
          0,
          -0.38546949694599053,
          0,
          -0.024524842526560273,
          0,
          -0.175388985540814,
          0,
          0.2511778359440757,
          0,
          -0.13995038933221138,
          0,
          -0.5210579759864579,
          0,
          -0.16097968611534982,
          0,
          0.17431309951660606,
          0,
          -0.20185525334987806,
          0,
          -0.34722353469759276,
          0,
          -0.4411951858030855,
          0,
          -0.006409065297513505,
          0,
          -0.2614509976192558,
          0,
          -0.30003559576263084,
          0,
          -0.32456798531302233,
          0,
          -0.5766701017768905,
          0,
          -0.21572544735746024,
          0,
          -0.366589590371714,
          0,
          0.059977231113175766,
          0,
          -0.3311509941631114,
          0,
          0.19909860375575822,
          0,
          0.5343913893877141,
          0,
          0.15822303652123,
          0,
          0.012854755173515267,
          0,
          -0.08111689593197743,
          0,
          0.3536692245735945,
          0,
          0.09862729225185228,
          0,
          0.06004269410847719,
          0,
          0.03551030455808572,
          0,
          -0.2165918119057825,
          0,
          0.14435284251364777,
          0,
          -0.006511300500605957,
          0,
          0.4200555209842838,
          0,
          0.028927295707996667,
          0,
          0.86968417501967,
          0,
          0.4935158221531859,
          0,
          0.34814754080547117,
          0,
          0.25417588969997845,
          0,
          0.6889620102055505,
          0,
          0.43392007788380815,
          0,
          0.3953354797404331,
          0,
          0.3708030901900416,
          0,
          0.11870097372617339,
          0,
          0.4796456281456037,
          0,
          0.3287814851313499,
          0,
          0.7553483066162396,
          0,
          0.36422008133995254,
          0,
          0.11734746928670177,
          0,
          -0.028020812061012958,
          0,
          -0.12199246316650567,
          0,
          0.31279365733906633,
          0,
          0.05775172501732406,
          0,
          0.01916712687394897,
          0,
          -0.005365262676442502,
          0,
          -0.2574673791403107,
          0,
          0.10347727527911957,
          0,
          -0.04738686773513418,
          0,
          0.3791799537497556,
          0,
          -0.011948271526531558,
          0,
          -0.17338909340872768,
          0,
          -0.26736074451422037,
          0,
          0.1674253759913516,
          0,
          -0.08761655633039067,
          0,
          -0.12620115447376576,
          0,
          -0.15073354402415723,
          0,
          -0.40283566048802544,
          0,
          -0.041891006068595166,
          0,
          -0.1927551490828489,
          0,
          0.23381167240204087,
          0,
          -0.15731655287424628,
          0,
          -0.3613323956197131,
          0,
          0.07345372488585888,
          0,
          -0.18158820743588336,
          0,
          -0.22017280557925845,
          0,
          -0.24470519512964994,
          0,
          -0.49680731159351815,
          0,
          -0.13586265717408785,
          0,
          -0.2867268001883416,
          0,
          0.13984002129654816,
          0,
          -0.251288203979739,
          0,
          0.5082398453914309,
          0,
          0.2531979130696886,
          0,
          0.21461331492631353,
          0,
          0.19008092537592203,
          0,
          -0.06202119108794618,
          0,
          0.2989234633314841,
          0,
          0.14805932031723035,
          0,
          0.5746261418021201,
          0,
          0.18349791652583297,
          0,
          -0.0018440192520536444,
          0,
          -0.04042861739542874,
          0,
          -0.06496100694582022,
          0,
          -0.31706312340968845,
          0,
          0.043881531009741855,
          0,
          -0.1069826120045119,
          0,
          0.31958420948037786,
          0,
          -0.07154401579590927,
          0,
          -0.07901321553880383,
          0,
          -0.1035456050891953,
          0,
          -0.3556477215530635,
          0,
          0.00529693286636676,
          0,
          -0.14556721014788698,
          0,
          0.2809996113370028,
          0,
          -0.12807799463958677,
          0,
          -0.380180111103455,
          0,
          -0.01923545668402471,
          0,
          0.2564672217866113,
          0,
          -0.13466100348967583,
          0,
          -0.6322822275673232,
          0,
          -0.2713375731478929,
          0,
          -0.4222017161621467,
          0,
          0.00436510532274309,
          0,
          -0.38676311995354407,
          0,
          0.08960708127153735,
          0,
          -0.06125706174271639,
          0,
          0.3653097597421734,
          0,
          -0.025818465534113766,
          0,
          -0.21212120475697013,
          0,
          0.21444561672791962,
          0,
          -0.1766826085483675,
          0,
          0.6410124382128094,
          0,
          0.24988421293652224,
          0,
          -0.14124401233976489,
          0
         ]
        }
       ],
       "layout": {
        "font": {
         "color": "RebeccaPurple",
         "family": "Calibri",
         "size": 16
        },
        "height": 1000,
        "margin": {
         "b": 0,
         "l": 0,
         "r": 0,
         "t": 20
        },
        "paper_bgcolor": "rgb(255,255,255)",
        "plot_bgcolor": "rgb(255,255,255)",
        "showlegend": false,
        "template": {
         "data": {
          "bar": [
           {
            "error_x": {
             "color": "#2a3f5f"
            },
            "error_y": {
             "color": "#2a3f5f"
            },
            "marker": {
             "line": {
              "color": "#E5ECF6",
              "width": 0.5
             },
             "pattern": {
              "fillmode": "overlay",
              "size": 10,
              "solidity": 0.2
             }
            },
            "type": "bar"
           }
          ],
          "barpolar": [
           {
            "marker": {
             "line": {
              "color": "#E5ECF6",
              "width": 0.5
             },
             "pattern": {
              "fillmode": "overlay",
              "size": 10,
              "solidity": 0.2
             }
            },
            "type": "barpolar"
           }
          ],
          "carpet": [
           {
            "aaxis": {
             "endlinecolor": "#2a3f5f",
             "gridcolor": "white",
             "linecolor": "white",
             "minorgridcolor": "white",
             "startlinecolor": "#2a3f5f"
            },
            "baxis": {
             "endlinecolor": "#2a3f5f",
             "gridcolor": "white",
             "linecolor": "white",
             "minorgridcolor": "white",
             "startlinecolor": "#2a3f5f"
            },
            "type": "carpet"
           }
          ],
          "choropleth": [
           {
            "colorbar": {
             "outlinewidth": 0,
             "ticks": ""
            },
            "type": "choropleth"
           }
          ],
          "contour": [
           {
            "colorbar": {
             "outlinewidth": 0,
             "ticks": ""
            },
            "colorscale": [
             [
              0,
              "#0d0887"
             ],
             [
              0.1111111111111111,
              "#46039f"
             ],
             [
              0.2222222222222222,
              "#7201a8"
             ],
             [
              0.3333333333333333,
              "#9c179e"
             ],
             [
              0.4444444444444444,
              "#bd3786"
             ],
             [
              0.5555555555555556,
              "#d8576b"
             ],
             [
              0.6666666666666666,
              "#ed7953"
             ],
             [
              0.7777777777777778,
              "#fb9f3a"
             ],
             [
              0.8888888888888888,
              "#fdca26"
             ],
             [
              1,
              "#f0f921"
             ]
            ],
            "type": "contour"
           }
          ],
          "contourcarpet": [
           {
            "colorbar": {
             "outlinewidth": 0,
             "ticks": ""
            },
            "type": "contourcarpet"
           }
          ],
          "heatmap": [
           {
            "colorbar": {
             "outlinewidth": 0,
             "ticks": ""
            },
            "colorscale": [
             [
              0,
              "#0d0887"
             ],
             [
              0.1111111111111111,
              "#46039f"
             ],
             [
              0.2222222222222222,
              "#7201a8"
             ],
             [
              0.3333333333333333,
              "#9c179e"
             ],
             [
              0.4444444444444444,
              "#bd3786"
             ],
             [
              0.5555555555555556,
              "#d8576b"
             ],
             [
              0.6666666666666666,
              "#ed7953"
             ],
             [
              0.7777777777777778,
              "#fb9f3a"
             ],
             [
              0.8888888888888888,
              "#fdca26"
             ],
             [
              1,
              "#f0f921"
             ]
            ],
            "type": "heatmap"
           }
          ],
          "heatmapgl": [
           {
            "colorbar": {
             "outlinewidth": 0,
             "ticks": ""
            },
            "colorscale": [
             [
              0,
              "#0d0887"
             ],
             [
              0.1111111111111111,
              "#46039f"
             ],
             [
              0.2222222222222222,
              "#7201a8"
             ],
             [
              0.3333333333333333,
              "#9c179e"
             ],
             [
              0.4444444444444444,
              "#bd3786"
             ],
             [
              0.5555555555555556,
              "#d8576b"
             ],
             [
              0.6666666666666666,
              "#ed7953"
             ],
             [
              0.7777777777777778,
              "#fb9f3a"
             ],
             [
              0.8888888888888888,
              "#fdca26"
             ],
             [
              1,
              "#f0f921"
             ]
            ],
            "type": "heatmapgl"
           }
          ],
          "histogram": [
           {
            "marker": {
             "pattern": {
              "fillmode": "overlay",
              "size": 10,
              "solidity": 0.2
             }
            },
            "type": "histogram"
           }
          ],
          "histogram2d": [
           {
            "colorbar": {
             "outlinewidth": 0,
             "ticks": ""
            },
            "colorscale": [
             [
              0,
              "#0d0887"
             ],
             [
              0.1111111111111111,
              "#46039f"
             ],
             [
              0.2222222222222222,
              "#7201a8"
             ],
             [
              0.3333333333333333,
              "#9c179e"
             ],
             [
              0.4444444444444444,
              "#bd3786"
             ],
             [
              0.5555555555555556,
              "#d8576b"
             ],
             [
              0.6666666666666666,
              "#ed7953"
             ],
             [
              0.7777777777777778,
              "#fb9f3a"
             ],
             [
              0.8888888888888888,
              "#fdca26"
             ],
             [
              1,
              "#f0f921"
             ]
            ],
            "type": "histogram2d"
           }
          ],
          "histogram2dcontour": [
           {
            "colorbar": {
             "outlinewidth": 0,
             "ticks": ""
            },
            "colorscale": [
             [
              0,
              "#0d0887"
             ],
             [
              0.1111111111111111,
              "#46039f"
             ],
             [
              0.2222222222222222,
              "#7201a8"
             ],
             [
              0.3333333333333333,
              "#9c179e"
             ],
             [
              0.4444444444444444,
              "#bd3786"
             ],
             [
              0.5555555555555556,
              "#d8576b"
             ],
             [
              0.6666666666666666,
              "#ed7953"
             ],
             [
              0.7777777777777778,
              "#fb9f3a"
             ],
             [
              0.8888888888888888,
              "#fdca26"
             ],
             [
              1,
              "#f0f921"
             ]
            ],
            "type": "histogram2dcontour"
           }
          ],
          "mesh3d": [
           {
            "colorbar": {
             "outlinewidth": 0,
             "ticks": ""
            },
            "type": "mesh3d"
           }
          ],
          "parcoords": [
           {
            "line": {
             "colorbar": {
              "outlinewidth": 0,
              "ticks": ""
             }
            },
            "type": "parcoords"
           }
          ],
          "pie": [
           {
            "automargin": true,
            "type": "pie"
           }
          ],
          "scatter": [
           {
            "fillpattern": {
             "fillmode": "overlay",
             "size": 10,
             "solidity": 0.2
            },
            "type": "scatter"
           }
          ],
          "scatter3d": [
           {
            "line": {
             "colorbar": {
              "outlinewidth": 0,
              "ticks": ""
             }
            },
            "marker": {
             "colorbar": {
              "outlinewidth": 0,
              "ticks": ""
             }
            },
            "type": "scatter3d"
           }
          ],
          "scattercarpet": [
           {
            "marker": {
             "colorbar": {
              "outlinewidth": 0,
              "ticks": ""
             }
            },
            "type": "scattercarpet"
           }
          ],
          "scattergeo": [
           {
            "marker": {
             "colorbar": {
              "outlinewidth": 0,
              "ticks": ""
             }
            },
            "type": "scattergeo"
           }
          ],
          "scattergl": [
           {
            "marker": {
             "colorbar": {
              "outlinewidth": 0,
              "ticks": ""
             }
            },
            "type": "scattergl"
           }
          ],
          "scattermapbox": [
           {
            "marker": {
             "colorbar": {
              "outlinewidth": 0,
              "ticks": ""
             }
            },
            "type": "scattermapbox"
           }
          ],
          "scatterpolar": [
           {
            "marker": {
             "colorbar": {
              "outlinewidth": 0,
              "ticks": ""
             }
            },
            "type": "scatterpolar"
           }
          ],
          "scatterpolargl": [
           {
            "marker": {
             "colorbar": {
              "outlinewidth": 0,
              "ticks": ""
             }
            },
            "type": "scatterpolargl"
           }
          ],
          "scatterternary": [
           {
            "marker": {
             "colorbar": {
              "outlinewidth": 0,
              "ticks": ""
             }
            },
            "type": "scatterternary"
           }
          ],
          "surface": [
           {
            "colorbar": {
             "outlinewidth": 0,
             "ticks": ""
            },
            "colorscale": [
             [
              0,
              "#0d0887"
             ],
             [
              0.1111111111111111,
              "#46039f"
             ],
             [
              0.2222222222222222,
              "#7201a8"
             ],
             [
              0.3333333333333333,
              "#9c179e"
             ],
             [
              0.4444444444444444,
              "#bd3786"
             ],
             [
              0.5555555555555556,
              "#d8576b"
             ],
             [
              0.6666666666666666,
              "#ed7953"
             ],
             [
              0.7777777777777778,
              "#fb9f3a"
             ],
             [
              0.8888888888888888,
              "#fdca26"
             ],
             [
              1,
              "#f0f921"
             ]
            ],
            "type": "surface"
           }
          ],
          "table": [
           {
            "cells": {
             "fill": {
              "color": "#EBF0F8"
             },
             "line": {
              "color": "white"
             }
            },
            "header": {
             "fill": {
              "color": "#C8D4E3"
             },
             "line": {
              "color": "white"
             }
            },
            "type": "table"
           }
          ]
         },
         "layout": {
          "annotationdefaults": {
           "arrowcolor": "#2a3f5f",
           "arrowhead": 0,
           "arrowwidth": 1
          },
          "autotypenumbers": "strict",
          "coloraxis": {
           "colorbar": {
            "outlinewidth": 0,
            "ticks": ""
           }
          },
          "colorscale": {
           "diverging": [
            [
             0,
             "#8e0152"
            ],
            [
             0.1,
             "#c51b7d"
            ],
            [
             0.2,
             "#de77ae"
            ],
            [
             0.3,
             "#f1b6da"
            ],
            [
             0.4,
             "#fde0ef"
            ],
            [
             0.5,
             "#f7f7f7"
            ],
            [
             0.6,
             "#e6f5d0"
            ],
            [
             0.7,
             "#b8e186"
            ],
            [
             0.8,
             "#7fbc41"
            ],
            [
             0.9,
             "#4d9221"
            ],
            [
             1,
             "#276419"
            ]
           ],
           "sequential": [
            [
             0,
             "#0d0887"
            ],
            [
             0.1111111111111111,
             "#46039f"
            ],
            [
             0.2222222222222222,
             "#7201a8"
            ],
            [
             0.3333333333333333,
             "#9c179e"
            ],
            [
             0.4444444444444444,
             "#bd3786"
            ],
            [
             0.5555555555555556,
             "#d8576b"
            ],
            [
             0.6666666666666666,
             "#ed7953"
            ],
            [
             0.7777777777777778,
             "#fb9f3a"
            ],
            [
             0.8888888888888888,
             "#fdca26"
            ],
            [
             1,
             "#f0f921"
            ]
           ],
           "sequentialminus": [
            [
             0,
             "#0d0887"
            ],
            [
             0.1111111111111111,
             "#46039f"
            ],
            [
             0.2222222222222222,
             "#7201a8"
            ],
            [
             0.3333333333333333,
             "#9c179e"
            ],
            [
             0.4444444444444444,
             "#bd3786"
            ],
            [
             0.5555555555555556,
             "#d8576b"
            ],
            [
             0.6666666666666666,
             "#ed7953"
            ],
            [
             0.7777777777777778,
             "#fb9f3a"
            ],
            [
             0.8888888888888888,
             "#fdca26"
            ],
            [
             1,
             "#f0f921"
            ]
           ]
          },
          "colorway": [
           "#636efa",
           "#EF553B",
           "#00cc96",
           "#ab63fa",
           "#FFA15A",
           "#19d3f3",
           "#FF6692",
           "#B6E880",
           "#FF97FF",
           "#FECB52"
          ],
          "font": {
           "color": "#2a3f5f"
          },
          "geo": {
           "bgcolor": "white",
           "lakecolor": "white",
           "landcolor": "#E5ECF6",
           "showlakes": true,
           "showland": true,
           "subunitcolor": "white"
          },
          "hoverlabel": {
           "align": "left"
          },
          "hovermode": "closest",
          "mapbox": {
           "style": "light"
          },
          "paper_bgcolor": "white",
          "plot_bgcolor": "#E5ECF6",
          "polar": {
           "angularaxis": {
            "gridcolor": "white",
            "linecolor": "white",
            "ticks": ""
           },
           "bgcolor": "#E5ECF6",
           "radialaxis": {
            "gridcolor": "white",
            "linecolor": "white",
            "ticks": ""
           }
          },
          "scene": {
           "xaxis": {
            "backgroundcolor": "#E5ECF6",
            "gridcolor": "white",
            "gridwidth": 2,
            "linecolor": "white",
            "showbackground": true,
            "ticks": "",
            "zerolinecolor": "white"
           },
           "yaxis": {
            "backgroundcolor": "#E5ECF6",
            "gridcolor": "white",
            "gridwidth": 2,
            "linecolor": "white",
            "showbackground": true,
            "ticks": "",
            "zerolinecolor": "white"
           },
           "zaxis": {
            "backgroundcolor": "#E5ECF6",
            "gridcolor": "white",
            "gridwidth": 2,
            "linecolor": "white",
            "showbackground": true,
            "ticks": "",
            "zerolinecolor": "white"
           }
          },
          "shapedefaults": {
           "line": {
            "color": "#2a3f5f"
           }
          },
          "ternary": {
           "aaxis": {
            "gridcolor": "white",
            "linecolor": "white",
            "ticks": ""
           },
           "baxis": {
            "gridcolor": "white",
            "linecolor": "white",
            "ticks": ""
           },
           "bgcolor": "#E5ECF6",
           "caxis": {
            "gridcolor": "white",
            "linecolor": "white",
            "ticks": ""
           }
          },
          "title": {
           "x": 0.05
          },
          "xaxis": {
           "automargin": true,
           "gridcolor": "white",
           "linecolor": "white",
           "ticks": "",
           "title": {
            "standoff": 15
           },
           "zerolinecolor": "white",
           "zerolinewidth": 2
          },
          "yaxis": {
           "automargin": true,
           "gridcolor": "white",
           "linecolor": "white",
           "ticks": "",
           "title": {
            "standoff": 15
           },
           "zerolinecolor": "white",
           "zerolinewidth": 2
          }
         }
        },
        "width": 1000,
        "xaxis": {
         "showgrid": false,
         "showticklabels": false,
         "zeroline": false
        },
        "yaxis": {
         "showgrid": false,
         "showticklabels": false,
         "zeroline": false
        }
       }
      },
      "text/html": [
       "<div>                            <div id=\"c1f0329c-b569-4003-b0bd-58cdf20a065a\" class=\"plotly-graph-div\" style=\"height:1000px; width:1000px;\"></div>            <script type=\"text/javascript\">                require([\"plotly\"], function(Plotly) {                    window.PLOTLYENV=window.PLOTLYENV || {};                                    if (document.getElementById(\"c1f0329c-b569-4003-b0bd-58cdf20a065a\")) {                    Plotly.newPlot(                        \"c1f0329c-b569-4003-b0bd-58cdf20a065a\",                        [{\"hoverinfo\":\"none\",\"hovertext\":\" \",\"line\":{\"color\":\"rgb(100,200,3)\",\"width\":3.68},\"x\":[0.07672033887604401,0.07672033887604401,null],\"y\":[0.27649526674030017,0.27649526674030017,null],\"type\":\"scatter\",\"textposition\":\"top center\"},{\"hoverinfo\":\"none\",\"hovertext\":\" \",\"line\":{\"color\":\"rgb(100,200,0)\",\"width\":0.03},\"x\":[0.07672033887604401,0.26281681750159147,null],\"y\":[0.27649526674030017,0.16341705312411842,null],\"type\":\"scatter\",\"textposition\":\"top center\"},{\"hoverinfo\":\"none\",\"hovertext\":\" \",\"line\":{\"color\":\"rgb(100,200,0)\",\"width\":0.04},\"x\":[0.07672033887604401,-0.31640935946231563,null],\"y\":[0.27649526674030017,0.4478815572900766,null],\"type\":\"scatter\",\"textposition\":\"top center\"},{\"hoverinfo\":\"none\",\"hovertext\":\" \",\"line\":{\"color\":\"rgb(100,200,0)\",\"width\":0.18},\"x\":[0.07672033887604401,0.9999999999999999,null],\"y\":[0.27649526674030017,-0.792748664783978,null],\"type\":\"scatter\",\"textposition\":\"top center\"},{\"hoverinfo\":\"none\",\"hovertext\":\" \",\"line\":{\"color\":\"rgb(100,200,0)\",\"width\":0.25},\"x\":[0.07672033887604401,0.013359875503130328,null],\"y\":[0.27649526674030017,-0.018807038715815263,null],\"type\":\"scatter\",\"textposition\":\"top center\"},{\"hoverinfo\":\"none\",\"hovertext\":\" \",\"line\":{\"color\":\"rgb(100,200,0)\",\"width\":0.46},\"x\":[0.07672033887604401,-0.5927227170015038,null],\"y\":[0.27649526674030017,-0.26818423076617726,null],\"type\":\"scatter\",\"textposition\":\"top center\"},{\"hoverinfo\":\"none\",\"hovertext\":\" \",\"line\":{\"color\":\"rgb(100,200,0)\",\"width\":0.27},\"x\":[0.07672033887604401,-0.5261619971077781,null],\"y\":[0.27649526674030017,0.15597534960762655,null],\"type\":\"scatter\",\"textposition\":\"top center\"},{\"hoverinfo\":\"none\",\"hovertext\":\" \",\"line\":{\"color\":\"rgb(100,200,0)\",\"width\":0.05},\"x\":[0.07672033887604401,-0.1101981914276436,null],\"y\":[0.27649526674030017,-0.1386567663246579,null],\"type\":\"scatter\",\"textposition\":\"top center\"},{\"hoverinfo\":\"none\",\"hovertext\":\" \",\"line\":{\"color\":\"rgb(100,200,0)\",\"width\":0.2},\"x\":[0.07672033887604401,-0.3283655382286087,null],\"y\":[0.27649526674030017,-0.5210579759864579,null],\"type\":\"scatter\",\"textposition\":\"top center\"},{\"hoverinfo\":\"none\",\"hovertext\":\" \",\"line\":{\"color\":\"rgb(100,200,0)\",\"width\":0.41},\"x\":[0.07672033887604401,-0.17793367119152348,null],\"y\":[0.27649526674030017,0.19909860375575822,null],\"type\":\"scatter\",\"textposition\":\"top center\"},{\"hoverinfo\":\"none\",\"hovertext\":\" \",\"line\":{\"color\":\"rgb(100,200,0)\",\"width\":0.06},\"x\":[0.07672033887604401,-0.008898994998657116,null],\"y\":[0.27649526674030017,0.86968417501967,null],\"type\":\"scatter\",\"textposition\":\"top center\"},{\"hoverinfo\":\"none\",\"hovertext\":\" \",\"line\":{\"color\":\"rgb(100,200,0)\",\"width\":0.02},\"x\":[0.07672033887604401,-0.032363532478511176,null],\"y\":[0.27649526674030017,0.11734746928670177,null],\"type\":\"scatter\",\"textposition\":\"top center\"},{\"hoverinfo\":\"none\",\"hovertext\":\" \",\"line\":{\"color\":\"rgb(100,200,0)\",\"width\":0.04},\"x\":[0.07672033887604401,-0.024798508730488826,null],\"y\":[0.27649526674030017,-0.17338909340872768,null],\"type\":\"scatter\",\"textposition\":\"top center\"},{\"hoverinfo\":\"none\",\"hovertext\":\" \",\"line\":{\"color\":\"rgb(100,200,0)\",\"width\":0.16},\"x\":[0.07672033887604401,0.08140881795286144,null],\"y\":[0.27649526674030017,-0.3613323956197131,null],\"type\":\"scatter\",\"textposition\":\"top center\"},{\"hoverinfo\":\"none\",\"hovertext\":\" \",\"line\":{\"color\":\"rgb(100,200,0)\",\"width\":0.12},\"x\":[0.07672033887604401,-0.7643893943348069,null],\"y\":[0.27649526674030017,0.5082398453914309,null],\"type\":\"scatter\",\"textposition\":\"top center\"},{\"hoverinfo\":\"none\",\"hovertext\":\" \",\"line\":{\"color\":\"rgb(100,200,0)\",\"width\":0.29},\"x\":[0.07672033887604401,0.09606441193397575,null],\"y\":[0.27649526674030017,-0.0018440192520536444,null],\"type\":\"scatter\",\"textposition\":\"top center\"},{\"hoverinfo\":\"none\",\"hovertext\":\" \",\"line\":{\"color\":\"rgb(100,200,0)\",\"width\":0.27},\"x\":[0.07672033887604401,-0.05007246339081912,null],\"y\":[0.27649526674030017,-0.07901321553880383,null],\"type\":\"scatter\",\"textposition\":\"top center\"},{\"hoverinfo\":\"none\",\"hovertext\":\" \",\"line\":{\"color\":\"rgb(100,200,0)\",\"width\":0.06},\"x\":[0.07672033887604401,0.03147272336468635,null],\"y\":[0.27649526674030017,-0.12807799463958677,null],\"type\":\"scatter\",\"textposition\":\"top center\"},{\"hoverinfo\":\"none\",\"hovertext\":\" \",\"line\":{\"color\":\"rgb(100,200,0)\",\"width\":0.28},\"x\":[0.07672033887604401,-0.18223836965864945,null],\"y\":[0.27649526674030017,-0.6322822275673232,null],\"type\":\"scatter\",\"textposition\":\"top center\"},{\"hoverinfo\":\"none\",\"hovertext\":\" \",\"line\":{\"color\":\"rgb(100,200,0)\",\"width\":0.06},\"x\":[0.07672033887604401,0.6509979169809771,null],\"y\":[0.27649526674030017,0.08960708127153735,null],\"type\":\"scatter\",\"textposition\":\"top center\"},{\"hoverinfo\":\"none\",\"hovertext\":\" \",\"line\":{\"color\":\"rgb(100,200,1)\",\"width\":1.05},\"x\":[0.07672033887604401,0.1484277257993926,null],\"y\":[0.27649526674030017,-0.21212120475697013,null],\"type\":\"scatter\",\"textposition\":\"top center\"},{\"hoverinfo\":\"none\",\"hovertext\":\" \",\"line\":{\"color\":\"rgb(100,200,0)\",\"width\":0.06},\"x\":[0.07672033887604401,0.547664843443468,null],\"y\":[0.27649526674030017,0.6410124382128094,null],\"type\":\"scatter\",\"textposition\":\"top center\"},{\"hoverinfo\":\"none\",\"hovertext\":\" \",\"line\":{\"color\":\"rgb(100,200,0)\",\"width\":0.04},\"x\":[0.07672033887604401,0.20561926665517882,null],\"y\":[0.27649526674030017,-0.14124401233976489,null],\"type\":\"scatter\",\"textposition\":\"top center\"},{\"hoverinfo\":\"none\",\"hovertext\":\" \",\"line\":{\"color\":\"rgb(100,200,1)\",\"width\":1.91},\"x\":[0.26281681750159147,0.26281681750159147,null],\"y\":[0.16341705312411842,0.16341705312411842,null],\"type\":\"scatter\",\"textposition\":\"top center\"},{\"hoverinfo\":\"none\",\"hovertext\":\" \",\"line\":{\"color\":\"rgb(100,200,0)\",\"width\":0.06},\"x\":[0.26281681750159147,-0.31640935946231563,null],\"y\":[0.16341705312411842,0.4478815572900766,null],\"type\":\"scatter\",\"textposition\":\"top center\"},{\"hoverinfo\":\"none\",\"hovertext\":\" \",\"line\":{\"color\":\"rgb(100,200,0)\",\"width\":0.19},\"x\":[0.26281681750159147,0.9999999999999999,null],\"y\":[0.16341705312411842,-0.792748664783978,null],\"type\":\"scatter\",\"textposition\":\"top center\"},{\"hoverinfo\":\"none\",\"hovertext\":\" \",\"line\":{\"color\":\"rgb(100,200,0)\",\"width\":0.03},\"x\":[0.26281681750159147,0.013359875503130328,null],\"y\":[0.16341705312411842,-0.018807038715815263,null],\"type\":\"scatter\",\"textposition\":\"top center\"},{\"hoverinfo\":\"none\",\"hovertext\":\" \",\"line\":{\"color\":\"rgb(100,200,0)\",\"width\":0.12},\"x\":[0.26281681750159147,-0.5927227170015038,null],\"y\":[0.16341705312411842,-0.26818423076617726,null],\"type\":\"scatter\",\"textposition\":\"top center\"},{\"hoverinfo\":\"none\",\"hovertext\":\" \",\"line\":{\"color\":\"rgb(100,200,0)\",\"width\":0.14},\"x\":[0.26281681750159147,-0.5261619971077781,null],\"y\":[0.16341705312411842,0.15597534960762655,null],\"type\":\"scatter\",\"textposition\":\"top center\"},{\"hoverinfo\":\"none\",\"hovertext\":\" \",\"line\":{\"color\":\"rgb(100,200,0)\",\"width\":0.04},\"x\":[0.26281681750159147,-0.1101981914276436,null],\"y\":[0.16341705312411842,-0.1386567663246579,null],\"type\":\"scatter\",\"textposition\":\"top center\"},{\"hoverinfo\":\"none\",\"hovertext\":\" \",\"line\":{\"color\":\"rgb(100,200,0)\",\"width\":0.47},\"x\":[0.26281681750159147,-0.3283655382286087,null],\"y\":[0.16341705312411842,-0.5210579759864579,null],\"type\":\"scatter\",\"textposition\":\"top center\"},{\"hoverinfo\":\"none\",\"hovertext\":\" \",\"line\":{\"color\":\"rgb(100,200,0)\",\"width\":0.21},\"x\":[0.26281681750159147,-0.17793367119152348,null],\"y\":[0.16341705312411842,0.19909860375575822,null],\"type\":\"scatter\",\"textposition\":\"top center\"},{\"hoverinfo\":\"none\",\"hovertext\":\" \",\"line\":{\"color\":\"rgb(100,200,0)\",\"width\":0.09},\"x\":[0.26281681750159147,-0.008898994998657116,null],\"y\":[0.16341705312411842,0.86968417501967,null],\"type\":\"scatter\",\"textposition\":\"top center\"},{\"hoverinfo\":\"none\",\"hovertext\":\" \",\"line\":{\"color\":\"rgb(100,200,0)\",\"width\":0.05},\"x\":[0.26281681750159147,-0.032363532478511176,null],\"y\":[0.16341705312411842,0.11734746928670177,null],\"type\":\"scatter\",\"textposition\":\"top center\"},{\"hoverinfo\":\"none\",\"hovertext\":\" \",\"line\":{\"color\":\"rgb(100,200,0)\",\"width\":0.05},\"x\":[0.26281681750159147,-0.024798508730488826,null],\"y\":[0.16341705312411842,-0.17338909340872768,null],\"type\":\"scatter\",\"textposition\":\"top center\"},{\"hoverinfo\":\"none\",\"hovertext\":\" \",\"line\":{\"color\":\"rgb(100,200,0)\",\"width\":0.15},\"x\":[0.26281681750159147,0.08140881795286144,null],\"y\":[0.16341705312411842,-0.3613323956197131,null],\"type\":\"scatter\",\"textposition\":\"top center\"},{\"hoverinfo\":\"none\",\"hovertext\":\" \",\"line\":{\"color\":\"rgb(100,200,0)\",\"width\":0.1},\"x\":[0.26281681750159147,-0.7643893943348069,null],\"y\":[0.16341705312411842,0.5082398453914309,null],\"type\":\"scatter\",\"textposition\":\"top center\"},{\"hoverinfo\":\"none\",\"hovertext\":\" \",\"line\":{\"color\":\"rgb(100,200,0)\",\"width\":0.2},\"x\":[0.26281681750159147,0.09606441193397575,null],\"y\":[0.16341705312411842,-0.0018440192520536444,null],\"type\":\"scatter\",\"textposition\":\"top center\"},{\"hoverinfo\":\"none\",\"hovertext\":\" \",\"line\":{\"color\":\"rgb(100,200,0)\",\"width\":0.2},\"x\":[0.26281681750159147,-0.05007246339081912,null],\"y\":[0.16341705312411842,-0.07901321553880383,null],\"type\":\"scatter\",\"textposition\":\"top center\"},{\"hoverinfo\":\"none\",\"hovertext\":\" \",\"line\":{\"color\":\"rgb(100,200,0)\",\"width\":0.06},\"x\":[0.26281681750159147,0.03147272336468635,null],\"y\":[0.16341705312411842,-0.12807799463958677,null],\"type\":\"scatter\",\"textposition\":\"top center\"},{\"hoverinfo\":\"none\",\"hovertext\":\" \",\"line\":{\"color\":\"rgb(100,200,0)\",\"width\":0.43},\"x\":[0.26281681750159147,-0.18223836965864945,null],\"y\":[0.16341705312411842,-0.6322822275673232,null],\"type\":\"scatter\",\"textposition\":\"top center\"},{\"hoverinfo\":\"none\",\"hovertext\":\" \",\"line\":{\"color\":\"rgb(100,200,0)\",\"width\":0.13},\"x\":[0.26281681750159147,0.6509979169809771,null],\"y\":[0.16341705312411842,0.08960708127153735,null],\"type\":\"scatter\",\"textposition\":\"top center\"},{\"hoverinfo\":\"none\",\"hovertext\":\" \",\"line\":{\"color\":\"rgb(100,200,0)\",\"width\":0.12},\"x\":[0.26281681750159147,0.1484277257993926,null],\"y\":[0.16341705312411842,-0.21212120475697013,null],\"type\":\"scatter\",\"textposition\":\"top center\"},{\"hoverinfo\":\"none\",\"hovertext\":\" \",\"line\":{\"color\":\"rgb(100,200,0)\",\"width\":0.11},\"x\":[0.26281681750159147,0.547664843443468,null],\"y\":[0.16341705312411842,0.6410124382128094,null],\"type\":\"scatter\",\"textposition\":\"top center\"},{\"hoverinfo\":\"none\",\"hovertext\":\" \",\"line\":{\"color\":\"rgb(100,200,0)\",\"width\":0.04},\"x\":[0.26281681750159147,0.20561926665517882,null],\"y\":[0.16341705312411842,-0.14124401233976489,null],\"type\":\"scatter\",\"textposition\":\"top center\"},{\"hoverinfo\":\"none\",\"hovertext\":\" \",\"line\":{\"color\":\"rgb(100,200,1)\",\"width\":1.4},\"x\":[-0.31640935946231563,-0.31640935946231563,null],\"y\":[0.4478815572900766,0.4478815572900766,null],\"type\":\"scatter\",\"textposition\":\"top center\"},{\"hoverinfo\":\"none\",\"hovertext\":\" \",\"line\":{\"color\":\"rgb(100,200,0)\",\"width\":0.87},\"x\":[-0.31640935946231563,0.9999999999999999,null],\"y\":[0.4478815572900766,-0.792748664783978,null],\"type\":\"scatter\",\"textposition\":\"top center\"},{\"hoverinfo\":\"none\",\"hovertext\":\" \",\"line\":{\"color\":\"rgb(100,200,0)\",\"width\":0.17},\"x\":[-0.31640935946231563,0.013359875503130328,null],\"y\":[0.4478815572900766,-0.018807038715815263,null],\"type\":\"scatter\",\"textposition\":\"top center\"},{\"hoverinfo\":\"none\",\"hovertext\":\" \",\"line\":{\"color\":\"rgb(100,200,0)\",\"width\":0.06},\"x\":[-0.31640935946231563,-0.5927227170015038,null],\"y\":[0.4478815572900766,-0.26818423076617726,null],\"type\":\"scatter\",\"textposition\":\"top center\"},{\"hoverinfo\":\"none\",\"hovertext\":\" \",\"line\":{\"color\":\"rgb(100,200,0)\",\"width\":0.04},\"x\":[-0.31640935946231563,-0.5261619971077781,null],\"y\":[0.4478815572900766,0.15597534960762655,null],\"type\":\"scatter\",\"textposition\":\"top center\"},{\"hoverinfo\":\"none\",\"hovertext\":\" \",\"line\":{\"color\":\"rgb(100,200,0)\",\"width\":0.11},\"x\":[-0.31640935946231563,-0.1101981914276436,null],\"y\":[0.4478815572900766,-0.1386567663246579,null],\"type\":\"scatter\",\"textposition\":\"top center\"},{\"hoverinfo\":\"none\",\"hovertext\":\" \",\"line\":{\"color\":\"rgb(100,200,0)\",\"width\":0.25},\"x\":[-0.31640935946231563,-0.3283655382286087,null],\"y\":[0.4478815572900766,-0.5210579759864579,null],\"type\":\"scatter\",\"textposition\":\"top center\"},{\"hoverinfo\":\"none\",\"hovertext\":\" \",\"line\":{\"color\":\"rgb(100,200,0)\",\"width\":0.12},\"x\":[-0.31640935946231563,-0.17793367119152348,null],\"y\":[0.4478815572900766,0.19909860375575822,null],\"type\":\"scatter\",\"textposition\":\"top center\"},{\"hoverinfo\":\"none\",\"hovertext\":\" \",\"line\":{\"color\":\"rgb(100,200,0)\",\"width\":0.16},\"x\":[-0.31640935946231563,-0.008898994998657116,null],\"y\":[0.4478815572900766,0.86968417501967,null],\"type\":\"scatter\",\"textposition\":\"top center\"},{\"hoverinfo\":\"none\",\"hovertext\":\" \",\"line\":{\"color\":\"rgb(100,200,0)\",\"width\":0.1},\"x\":[-0.31640935946231563,-0.032363532478511176,null],\"y\":[0.4478815572900766,0.11734746928670177,null],\"type\":\"scatter\",\"textposition\":\"top center\"},{\"hoverinfo\":\"none\",\"hovertext\":\" \",\"line\":{\"color\":\"rgb(100,200,0)\",\"width\":0.08},\"x\":[-0.31640935946231563,-0.024798508730488826,null],\"y\":[0.4478815572900766,-0.17338909340872768,null],\"type\":\"scatter\",\"textposition\":\"top center\"},{\"hoverinfo\":\"none\",\"hovertext\":\" \",\"line\":{\"color\":\"rgb(100,200,0)\",\"width\":0.1},\"x\":[-0.31640935946231563,0.08140881795286144,null],\"y\":[0.4478815572900766,-0.3613323956197131,null],\"type\":\"scatter\",\"textposition\":\"top center\"},{\"hoverinfo\":\"none\",\"hovertext\":\" \",\"line\":{\"color\":\"rgb(100,200,0)\",\"width\":0.06},\"x\":[-0.31640935946231563,-0.7643893943348069,null],\"y\":[0.4478815572900766,0.5082398453914309,null],\"type\":\"scatter\",\"textposition\":\"top center\"},{\"hoverinfo\":\"none\",\"hovertext\":\" \",\"line\":{\"color\":\"rgb(100,200,0)\",\"width\":0.06},\"x\":[-0.31640935946231563,0.09606441193397575,null],\"y\":[0.4478815572900766,-0.0018440192520536444,null],\"type\":\"scatter\",\"textposition\":\"top center\"},{\"hoverinfo\":\"none\",\"hovertext\":\" \",\"line\":{\"color\":\"rgb(100,200,0)\",\"width\":0.12},\"x\":[-0.31640935946231563,-0.05007246339081912,null],\"y\":[0.4478815572900766,-0.07901321553880383,null],\"type\":\"scatter\",\"textposition\":\"top center\"},{\"hoverinfo\":\"none\",\"hovertext\":\" \",\"line\":{\"color\":\"rgb(100,200,0)\",\"width\":0.12},\"x\":[-0.31640935946231563,0.03147272336468635,null],\"y\":[0.4478815572900766,-0.12807799463958677,null],\"type\":\"scatter\",\"textposition\":\"top center\"},{\"hoverinfo\":\"none\",\"hovertext\":\" \",\"line\":{\"color\":\"rgb(100,200,0)\",\"width\":0.19},\"x\":[-0.31640935946231563,-0.18223836965864945,null],\"y\":[0.4478815572900766,-0.6322822275673232,null],\"type\":\"scatter\",\"textposition\":\"top center\"},{\"hoverinfo\":\"none\",\"hovertext\":\" \",\"line\":{\"color\":\"rgb(100,200,0)\",\"width\":0.51},\"x\":[-0.31640935946231563,0.6509979169809771,null],\"y\":[0.4478815572900766,0.08960708127153735,null],\"type\":\"scatter\",\"textposition\":\"top center\"},{\"hoverinfo\":\"none\",\"hovertext\":\" \",\"line\":{\"color\":\"rgb(100,200,0)\",\"width\":0.13},\"x\":[-0.31640935946231563,0.1484277257993926,null],\"y\":[0.4478815572900766,-0.21212120475697013,null],\"type\":\"scatter\",\"textposition\":\"top center\"},{\"hoverinfo\":\"none\",\"hovertext\":\" \",\"line\":{\"color\":\"rgb(100,200,0)\",\"width\":0.15},\"x\":[-0.31640935946231563,0.547664843443468,null],\"y\":[0.4478815572900766,0.6410124382128094,null],\"type\":\"scatter\",\"textposition\":\"top center\"},{\"hoverinfo\":\"none\",\"hovertext\":\" \",\"line\":{\"color\":\"rgb(100,200,0)\",\"width\":0.12},\"x\":[-0.31640935946231563,0.20561926665517882,null],\"y\":[0.4478815572900766,-0.14124401233976489,null],\"type\":\"scatter\",\"textposition\":\"top center\"},{\"hoverinfo\":\"none\",\"hovertext\":\" \",\"line\":{\"color\":\"rgb(100,200,4)\",\"width\":4.23},\"x\":[0.9999999999999999,0.9999999999999999,null],\"y\":[-0.792748664783978,-0.792748664783978,null],\"type\":\"scatter\",\"textposition\":\"top center\"},{\"hoverinfo\":\"none\",\"hovertext\":\" \",\"line\":{\"color\":\"rgb(100,200,1)\",\"width\":1.3},\"x\":[0.9999999999999999,0.013359875503130328,null],\"y\":[-0.792748664783978,-0.018807038715815263,null],\"type\":\"scatter\",\"textposition\":\"top center\"},{\"hoverinfo\":\"none\",\"hovertext\":\" \",\"line\":{\"color\":\"rgb(100,200,0)\",\"width\":0.63},\"x\":[0.9999999999999999,-0.5927227170015038,null],\"y\":[-0.792748664783978,-0.26818423076617726,null],\"type\":\"scatter\",\"textposition\":\"top center\"},{\"hoverinfo\":\"none\",\"hovertext\":\" \",\"line\":{\"color\":\"rgb(100,200,0)\",\"width\":0.33},\"x\":[0.9999999999999999,-0.5261619971077781,null],\"y\":[-0.792748664783978,0.15597534960762655,null],\"type\":\"scatter\",\"textposition\":\"top center\"},{\"hoverinfo\":\"none\",\"hovertext\":\" \",\"line\":{\"color\":\"rgb(100,200,0)\",\"width\":0.78},\"x\":[0.9999999999999999,-0.1101981914276436,null],\"y\":[-0.792748664783978,-0.1386567663246579,null],\"type\":\"scatter\",\"textposition\":\"top center\"},{\"hoverinfo\":\"none\",\"hovertext\":\" \",\"line\":{\"color\":\"rgb(100,200,0)\",\"width\":0.4},\"x\":[0.9999999999999999,-0.3283655382286087,null],\"y\":[-0.792748664783978,-0.5210579759864579,null],\"type\":\"scatter\",\"textposition\":\"top center\"},{\"hoverinfo\":\"none\",\"hovertext\":\" \",\"line\":{\"color\":\"rgb(100,200,0)\",\"width\":0.24},\"x\":[0.9999999999999999,-0.17793367119152348,null],\"y\":[-0.792748664783978,0.19909860375575822,null],\"type\":\"scatter\",\"textposition\":\"top center\"},{\"hoverinfo\":\"none\",\"hovertext\":\" \",\"line\":{\"color\":\"rgb(100,200,0)\",\"width\":0.52},\"x\":[0.9999999999999999,-0.008898994998657116,null],\"y\":[-0.792748664783978,0.86968417501967,null],\"type\":\"scatter\",\"textposition\":\"top center\"},{\"hoverinfo\":\"none\",\"hovertext\":\" \",\"line\":{\"color\":\"rgb(100,200,0)\",\"width\":0.58},\"x\":[0.9999999999999999,-0.032363532478511176,null],\"y\":[-0.792748664783978,0.11734746928670177,null],\"type\":\"scatter\",\"textposition\":\"top center\"},{\"hoverinfo\":\"none\",\"hovertext\":\" \",\"line\":{\"color\":\"rgb(100,200,0)\",\"width\":0.41},\"x\":[0.9999999999999999,-0.024798508730488826,null],\"y\":[-0.792748664783978,-0.17338909340872768,null],\"type\":\"scatter\",\"textposition\":\"top center\"},{\"hoverinfo\":\"none\",\"hovertext\":\" \",\"line\":{\"color\":\"rgb(100,200,0)\",\"width\":0.25},\"x\":[0.9999999999999999,0.08140881795286144,null],\"y\":[-0.792748664783978,-0.3613323956197131,null],\"type\":\"scatter\",\"textposition\":\"top center\"},{\"hoverinfo\":\"none\",\"hovertext\":\" \",\"line\":{\"color\":\"rgb(100,200,0)\",\"width\":0.29},\"x\":[0.9999999999999999,-0.7643893943348069,null],\"y\":[-0.792748664783978,0.5082398453914309,null],\"type\":\"scatter\",\"textposition\":\"top center\"},{\"hoverinfo\":\"none\",\"hovertext\":\" \",\"line\":{\"color\":\"rgb(100,200,0)\",\"width\":0.11},\"x\":[0.9999999999999999,0.09606441193397575,null],\"y\":[-0.792748664783978,-0.0018440192520536444,null],\"type\":\"scatter\",\"textposition\":\"top center\"},{\"hoverinfo\":\"none\",\"hovertext\":\" \",\"line\":{\"color\":\"rgb(100,200,0)\",\"width\":0.18},\"x\":[0.9999999999999999,-0.05007246339081912,null],\"y\":[-0.792748664783978,-0.07901321553880383,null],\"type\":\"scatter\",\"textposition\":\"top center\"},{\"hoverinfo\":\"none\",\"hovertext\":\" \",\"line\":{\"color\":\"rgb(100,200,0)\",\"width\":0.98},\"x\":[0.9999999999999999,0.03147272336468635,null],\"y\":[-0.792748664783978,-0.12807799463958677,null],\"type\":\"scatter\",\"textposition\":\"top center\"},{\"hoverinfo\":\"none\",\"hovertext\":\" \",\"line\":{\"color\":\"rgb(100,200,0)\",\"width\":0.45},\"x\":[0.9999999999999999,-0.18223836965864945,null],\"y\":[-0.792748664783978,-0.6322822275673232,null],\"type\":\"scatter\",\"textposition\":\"top center\"},{\"hoverinfo\":\"none\",\"hovertext\":\" \",\"line\":{\"color\":\"rgb(100,200,0)\",\"width\":0.61},\"x\":[0.9999999999999999,0.6509979169809771,null],\"y\":[-0.792748664783978,0.08960708127153735,null],\"type\":\"scatter\",\"textposition\":\"top center\"},{\"hoverinfo\":\"none\",\"hovertext\":\" \",\"line\":{\"color\":\"rgb(100,200,0)\",\"width\":0.18},\"x\":[0.9999999999999999,0.1484277257993926,null],\"y\":[-0.792748664783978,-0.21212120475697013,null],\"type\":\"scatter\",\"textposition\":\"top center\"},{\"hoverinfo\":\"none\",\"hovertext\":\" \",\"line\":{\"color\":\"rgb(100,200,0)\",\"width\":0.62},\"x\":[0.9999999999999999,0.547664843443468,null],\"y\":[-0.792748664783978,0.6410124382128094,null],\"type\":\"scatter\",\"textposition\":\"top center\"},{\"hoverinfo\":\"none\",\"hovertext\":\" \",\"line\":{\"color\":\"rgb(100,200,0)\",\"width\":0.68},\"x\":[0.9999999999999999,0.20561926665517882,null],\"y\":[-0.792748664783978,-0.14124401233976489,null],\"type\":\"scatter\",\"textposition\":\"top center\"},{\"hoverinfo\":\"none\",\"hovertext\":\" \",\"line\":{\"color\":\"rgb(100,200,3)\",\"width\":3.32},\"x\":[0.013359875503130328,0.013359875503130328,null],\"y\":[-0.018807038715815263,-0.018807038715815263,null],\"type\":\"scatter\",\"textposition\":\"top center\"},{\"hoverinfo\":\"none\",\"hovertext\":\" \",\"line\":{\"color\":\"rgb(100,200,0)\",\"width\":0.85},\"x\":[0.013359875503130328,-0.5927227170015038,null],\"y\":[-0.018807038715815263,-0.26818423076617726,null],\"type\":\"scatter\",\"textposition\":\"top center\"},{\"hoverinfo\":\"none\",\"hovertext\":\" \",\"line\":{\"color\":\"rgb(100,200,0)\",\"width\":0.19},\"x\":[0.013359875503130328,-0.5261619971077781,null],\"y\":[-0.018807038715815263,0.15597534960762655,null],\"type\":\"scatter\",\"textposition\":\"top center\"},{\"hoverinfo\":\"none\",\"hovertext\":\" \",\"line\":{\"color\":\"rgb(100,200,0)\",\"width\":0.75},\"x\":[0.013359875503130328,-0.1101981914276436,null],\"y\":[-0.018807038715815263,-0.1386567663246579,null],\"type\":\"scatter\",\"textposition\":\"top center\"},{\"hoverinfo\":\"none\",\"hovertext\":\" \",\"line\":{\"color\":\"rgb(100,200,0)\",\"width\":0.1},\"x\":[0.013359875503130328,-0.3283655382286087,null],\"y\":[-0.018807038715815263,-0.5210579759864579,null],\"type\":\"scatter\",\"textposition\":\"top center\"},{\"hoverinfo\":\"none\",\"hovertext\":\" \",\"line\":{\"color\":\"rgb(100,200,0)\",\"width\":0.09},\"x\":[0.013359875503130328,-0.17793367119152348,null],\"y\":[-0.018807038715815263,0.19909860375575822,null],\"type\":\"scatter\",\"textposition\":\"top center\"},{\"hoverinfo\":\"none\",\"hovertext\":\" \",\"line\":{\"color\":\"rgb(100,200,0)\",\"width\":0.28},\"x\":[0.013359875503130328,-0.008898994998657116,null],\"y\":[-0.018807038715815263,0.86968417501967,null],\"type\":\"scatter\",\"textposition\":\"top center\"},{\"hoverinfo\":\"none\",\"hovertext\":\" \",\"line\":{\"color\":\"rgb(100,200,0)\",\"width\":0.76},\"x\":[0.013359875503130328,-0.032363532478511176,null],\"y\":[-0.018807038715815263,0.11734746928670177,null],\"type\":\"scatter\",\"textposition\":\"top center\"},{\"hoverinfo\":\"none\",\"hovertext\":\" \",\"line\":{\"color\":\"rgb(100,200,0)\",\"width\":0.39},\"x\":[0.013359875503130328,-0.024798508730488826,null],\"y\":[-0.018807038715815263,-0.17338909340872768,null],\"type\":\"scatter\",\"textposition\":\"top center\"},{\"hoverinfo\":\"none\",\"hovertext\":\" \",\"line\":{\"color\":\"rgb(100,200,0)\",\"width\":0.03},\"x\":[0.013359875503130328,0.08140881795286144,null],\"y\":[-0.018807038715815263,-0.3613323956197131,null],\"type\":\"scatter\",\"textposition\":\"top center\"},{\"hoverinfo\":\"none\",\"hovertext\":\" \",\"line\":{\"color\":\"rgb(100,200,0)\",\"width\":0.28},\"x\":[0.013359875503130328,-0.7643893943348069,null],\"y\":[-0.018807038715815263,0.5082398453914309,null],\"type\":\"scatter\",\"textposition\":\"top center\"},{\"hoverinfo\":\"none\",\"hovertext\":\" \",\"line\":{\"color\":\"rgb(100,200,0)\",\"width\":0.01},\"x\":[0.013359875503130328,0.09606441193397575,null],\"y\":[-0.018807038715815263,-0.0018440192520536444,null],\"type\":\"scatter\",\"textposition\":\"top center\"},{\"hoverinfo\":\"none\",\"hovertext\":\" \",\"line\":{\"color\":\"rgb(100,200,0)\",\"width\":0.01},\"x\":[0.013359875503130328,-0.05007246339081912,null],\"y\":[-0.018807038715815263,-0.07901321553880383,null],\"type\":\"scatter\",\"textposition\":\"top center\"},{\"hoverinfo\":\"none\",\"hovertext\":\" \",\"line\":{\"color\":\"rgb(100,200,1)\",\"width\":1.13},\"x\":[0.013359875503130328,0.03147272336468635,null],\"y\":[-0.018807038715815263,-0.12807799463958677,null],\"type\":\"scatter\",\"textposition\":\"top center\"},{\"hoverinfo\":\"none\",\"hovertext\":\" \",\"line\":{\"color\":\"rgb(100,200,0)\",\"width\":0.07},\"x\":[0.013359875503130328,-0.18223836965864945,null],\"y\":[-0.018807038715815263,-0.6322822275673232,null],\"type\":\"scatter\",\"textposition\":\"top center\"},{\"hoverinfo\":\"none\",\"hovertext\":\" \",\"line\":{\"color\":\"rgb(100,200,0)\",\"width\":0.28},\"x\":[0.013359875503130328,0.6509979169809771,null],\"y\":[-0.018807038715815263,0.08960708127153735,null],\"type\":\"scatter\",\"textposition\":\"top center\"},{\"hoverinfo\":\"none\",\"hovertext\":\" \",\"line\":{\"color\":\"rgb(100,200,0)\",\"width\":0.48},\"x\":[0.013359875503130328,0.547664843443468,null],\"y\":[-0.018807038715815263,0.6410124382128094,null],\"type\":\"scatter\",\"textposition\":\"top center\"},{\"hoverinfo\":\"none\",\"hovertext\":\" \",\"line\":{\"color\":\"rgb(100,200,0)\",\"width\":0.81},\"x\":[0.013359875503130328,0.20561926665517882,null],\"y\":[-0.018807038715815263,-0.14124401233976489,null],\"type\":\"scatter\",\"textposition\":\"top center\"},{\"hoverinfo\":\"none\",\"hovertext\":\" \",\"line\":{\"color\":\"rgb(100,200,3)\",\"width\":3.38},\"x\":[-0.5927227170015038,-0.5927227170015038,null],\"y\":[-0.26818423076617726,-0.26818423076617726,null],\"type\":\"scatter\",\"textposition\":\"top center\"},{\"hoverinfo\":\"none\",\"hovertext\":\" \",\"line\":{\"color\":\"rgb(100,200,0)\",\"width\":0.18},\"x\":[-0.5927227170015038,-0.5261619971077781,null],\"y\":[-0.26818423076617726,0.15597534960762655,null],\"type\":\"scatter\",\"textposition\":\"top center\"},{\"hoverinfo\":\"none\",\"hovertext\":\" \",\"line\":{\"color\":\"rgb(100,200,0)\",\"width\":0.42},\"x\":[-0.5927227170015038,-0.1101981914276436,null],\"y\":[-0.26818423076617726,-0.1386567663246579,null],\"type\":\"scatter\",\"textposition\":\"top center\"},{\"hoverinfo\":\"none\",\"hovertext\":\" \",\"line\":{\"color\":\"rgb(100,200,0)\",\"width\":0.11},\"x\":[-0.5927227170015038,-0.3283655382286087,null],\"y\":[-0.26818423076617726,-0.5210579759864579,null],\"type\":\"scatter\",\"textposition\":\"top center\"},{\"hoverinfo\":\"none\",\"hovertext\":\" \",\"line\":{\"color\":\"rgb(100,200,0)\",\"width\":0.13},\"x\":[-0.5927227170015038,-0.17793367119152348,null],\"y\":[-0.26818423076617726,0.19909860375575822,null],\"type\":\"scatter\",\"textposition\":\"top center\"},{\"hoverinfo\":\"none\",\"hovertext\":\" \",\"line\":{\"color\":\"rgb(100,200,0)\",\"width\":0.17},\"x\":[-0.5927227170015038,-0.008898994998657116,null],\"y\":[-0.26818423076617726,0.86968417501967,null],\"type\":\"scatter\",\"textposition\":\"top center\"},{\"hoverinfo\":\"none\",\"hovertext\":\" \",\"line\":{\"color\":\"rgb(100,200,0)\",\"width\":0.38},\"x\":[-0.5927227170015038,-0.032363532478511176,null],\"y\":[-0.26818423076617726,0.11734746928670177,null],\"type\":\"scatter\",\"textposition\":\"top center\"},{\"hoverinfo\":\"none\",\"hovertext\":\" \",\"line\":{\"color\":\"rgb(100,200,0)\",\"width\":0.37},\"x\":[-0.5927227170015038,-0.024798508730488826,null],\"y\":[-0.26818423076617726,-0.17338909340872768,null],\"type\":\"scatter\",\"textposition\":\"top center\"},{\"hoverinfo\":\"none\",\"hovertext\":\" \",\"line\":{\"color\":\"rgb(100,200,0)\",\"width\":0.06},\"x\":[-0.5927227170015038,0.08140881795286144,null],\"y\":[-0.26818423076617726,-0.3613323956197131,null],\"type\":\"scatter\",\"textposition\":\"top center\"},{\"hoverinfo\":\"none\",\"hovertext\":\" \",\"line\":{\"color\":\"rgb(100,200,0)\",\"width\":0.17},\"x\":[-0.5927227170015038,-0.7643893943348069,null],\"y\":[-0.26818423076617726,0.5082398453914309,null],\"type\":\"scatter\",\"textposition\":\"top center\"},{\"hoverinfo\":\"none\",\"hovertext\":\" \",\"line\":{\"color\":\"rgb(100,200,0)\",\"width\":0.07},\"x\":[-0.5927227170015038,0.09606441193397575,null],\"y\":[-0.26818423076617726,-0.0018440192520536444,null],\"type\":\"scatter\",\"textposition\":\"top center\"},{\"hoverinfo\":\"none\",\"hovertext\":\" \",\"line\":{\"color\":\"rgb(100,200,0)\",\"width\":0.06},\"x\":[-0.5927227170015038,-0.05007246339081912,null],\"y\":[-0.26818423076617726,-0.07901321553880383,null],\"type\":\"scatter\",\"textposition\":\"top center\"},{\"hoverinfo\":\"none\",\"hovertext\":\" \",\"line\":{\"color\":\"rgb(100,200,0)\",\"width\":0.6},\"x\":[-0.5927227170015038,0.03147272336468635,null],\"y\":[-0.26818423076617726,-0.12807799463958677,null],\"type\":\"scatter\",\"textposition\":\"top center\"},{\"hoverinfo\":\"none\",\"hovertext\":\" \",\"line\":{\"color\":\"rgb(100,200,0)\",\"width\":0.06},\"x\":[-0.5927227170015038,-0.18223836965864945,null],\"y\":[-0.26818423076617726,-0.6322822275673232,null],\"type\":\"scatter\",\"textposition\":\"top center\"},{\"hoverinfo\":\"none\",\"hovertext\":\" \",\"line\":{\"color\":\"rgb(100,200,0)\",\"width\":0.2},\"x\":[-0.5927227170015038,0.6509979169809771,null],\"y\":[-0.26818423076617726,0.08960708127153735,null],\"type\":\"scatter\",\"textposition\":\"top center\"},{\"hoverinfo\":\"none\",\"hovertext\":\" \",\"line\":{\"color\":\"rgb(100,200,0)\",\"width\":0.12},\"x\":[-0.5927227170015038,0.1484277257993926,null],\"y\":[-0.26818423076617726,-0.21212120475697013,null],\"type\":\"scatter\",\"textposition\":\"top center\"},{\"hoverinfo\":\"none\",\"hovertext\":\" \",\"line\":{\"color\":\"rgb(100,200,0)\",\"width\":0.27},\"x\":[-0.5927227170015038,0.547664843443468,null],\"y\":[-0.26818423076617726,0.6410124382128094,null],\"type\":\"scatter\",\"textposition\":\"top center\"},{\"hoverinfo\":\"none\",\"hovertext\":\" \",\"line\":{\"color\":\"rgb(100,200,0)\",\"width\":0.36},\"x\":[-0.5927227170015038,0.20561926665517882,null],\"y\":[-0.26818423076617726,-0.14124401233976489,null],\"type\":\"scatter\",\"textposition\":\"top center\"},{\"hoverinfo\":\"none\",\"hovertext\":\" \",\"line\":{\"color\":\"rgb(100,200,2)\",\"width\":2.41},\"x\":[-0.5261619971077781,-0.5261619971077781,null],\"y\":[0.15597534960762655,0.15597534960762655,null],\"type\":\"scatter\",\"textposition\":\"top center\"},{\"hoverinfo\":\"none\",\"hovertext\":\" \",\"line\":{\"color\":\"rgb(100,200,0)\",\"width\":0.18},\"x\":[-0.5261619971077781,-0.1101981914276436,null],\"y\":[0.15597534960762655,-0.1386567663246579,null],\"type\":\"scatter\",\"textposition\":\"top center\"},{\"hoverinfo\":\"none\",\"hovertext\":\" \",\"line\":{\"color\":\"rgb(100,200,0)\",\"width\":0.19},\"x\":[-0.5261619971077781,-0.3283655382286087,null],\"y\":[0.15597534960762655,-0.5210579759864579,null],\"type\":\"scatter\",\"textposition\":\"top center\"},{\"hoverinfo\":\"none\",\"hovertext\":\" \",\"line\":{\"color\":\"rgb(100,200,0)\",\"width\":0.07},\"x\":[-0.5261619971077781,-0.17793367119152348,null],\"y\":[0.15597534960762655,0.19909860375575822,null],\"type\":\"scatter\",\"textposition\":\"top center\"},{\"hoverinfo\":\"none\",\"hovertext\":\" \",\"line\":{\"color\":\"rgb(100,200,0)\",\"width\":0.09},\"x\":[-0.5261619971077781,-0.008898994998657116,null],\"y\":[0.15597534960762655,0.86968417501967,null],\"type\":\"scatter\",\"textposition\":\"top center\"},{\"hoverinfo\":\"none\",\"hovertext\":\" \",\"line\":{\"color\":\"rgb(100,200,0)\",\"width\":0.11},\"x\":[-0.5261619971077781,-0.032363532478511176,null],\"y\":[0.15597534960762655,0.11734746928670177,null],\"type\":\"scatter\",\"textposition\":\"top center\"},{\"hoverinfo\":\"none\",\"hovertext\":\" \",\"line\":{\"color\":\"rgb(100,200,0)\",\"width\":0.12},\"x\":[-0.5261619971077781,-0.024798508730488826,null],\"y\":[0.15597534960762655,-0.17338909340872768,null],\"type\":\"scatter\",\"textposition\":\"top center\"},{\"hoverinfo\":\"none\",\"hovertext\":\" \",\"line\":{\"color\":\"rgb(100,200,0)\",\"width\":0.15},\"x\":[-0.5261619971077781,0.08140881795286144,null],\"y\":[0.15597534960762655,-0.3613323956197131,null],\"type\":\"scatter\",\"textposition\":\"top center\"},{\"hoverinfo\":\"none\",\"hovertext\":\" \",\"line\":{\"color\":\"rgb(100,200,0)\",\"width\":0.18},\"x\":[-0.5261619971077781,-0.7643893943348069,null],\"y\":[0.15597534960762655,0.5082398453914309,null],\"type\":\"scatter\",\"textposition\":\"top center\"},{\"hoverinfo\":\"none\",\"hovertext\":\" \",\"line\":{\"color\":\"rgb(100,200,0)\",\"width\":0.1},\"x\":[-0.5261619971077781,0.09606441193397575,null],\"y\":[0.15597534960762655,-0.0018440192520536444,null],\"type\":\"scatter\",\"textposition\":\"top center\"},{\"hoverinfo\":\"none\",\"hovertext\":\" \",\"line\":{\"color\":\"rgb(100,200,0)\",\"width\":0.05},\"x\":[-0.5261619971077781,-0.05007246339081912,null],\"y\":[0.15597534960762655,-0.07901321553880383,null],\"type\":\"scatter\",\"textposition\":\"top center\"},{\"hoverinfo\":\"none\",\"hovertext\":\" \",\"line\":{\"color\":\"rgb(100,200,0)\",\"width\":0.12},\"x\":[-0.5261619971077781,0.03147272336468635,null],\"y\":[0.15597534960762655,-0.12807799463958677,null],\"type\":\"scatter\",\"textposition\":\"top center\"},{\"hoverinfo\":\"none\",\"hovertext\":\" \",\"line\":{\"color\":\"rgb(100,200,0)\",\"width\":0.16},\"x\":[-0.5261619971077781,-0.18223836965864945,null],\"y\":[0.15597534960762655,-0.6322822275673232,null],\"type\":\"scatter\",\"textposition\":\"top center\"},{\"hoverinfo\":\"none\",\"hovertext\":\" \",\"line\":{\"color\":\"rgb(100,200,0)\",\"width\":0.13},\"x\":[-0.5261619971077781,0.6509979169809771,null],\"y\":[0.15597534960762655,0.08960708127153735,null],\"type\":\"scatter\",\"textposition\":\"top center\"},{\"hoverinfo\":\"none\",\"hovertext\":\" \",\"line\":{\"color\":\"rgb(100,200,0)\",\"width\":0.14},\"x\":[-0.5261619971077781,0.1484277257993926,null],\"y\":[0.15597534960762655,-0.21212120475697013,null],\"type\":\"scatter\",\"textposition\":\"top center\"},{\"hoverinfo\":\"none\",\"hovertext\":\" \",\"line\":{\"color\":\"rgb(100,200,0)\",\"width\":0.15},\"x\":[-0.5261619971077781,0.547664843443468,null],\"y\":[0.15597534960762655,0.6410124382128094,null],\"type\":\"scatter\",\"textposition\":\"top center\"},{\"hoverinfo\":\"none\",\"hovertext\":\" \",\"line\":{\"color\":\"rgb(100,200,0)\",\"width\":0.1},\"x\":[-0.5261619971077781,0.20561926665517882,null],\"y\":[0.15597534960762655,-0.14124401233976489,null],\"type\":\"scatter\",\"textposition\":\"top center\"},{\"hoverinfo\":\"none\",\"hovertext\":\" \",\"line\":{\"color\":\"rgb(100,200,1)\",\"width\":1.66},\"x\":[-0.1101981914276436,-0.1101981914276436,null],\"y\":[-0.1386567663246579,-0.1386567663246579,null],\"type\":\"scatter\",\"textposition\":\"top center\"},{\"hoverinfo\":\"none\",\"hovertext\":\" \",\"line\":{\"color\":\"rgb(100,200,0)\",\"width\":0.08},\"x\":[-0.1101981914276436,-0.3283655382286087,null],\"y\":[-0.1386567663246579,-0.5210579759864579,null],\"type\":\"scatter\",\"textposition\":\"top center\"},{\"hoverinfo\":\"none\",\"hovertext\":\" \",\"line\":{\"color\":\"rgb(100,200,0)\",\"width\":0.05},\"x\":[-0.1101981914276436,-0.17793367119152348,null],\"y\":[-0.1386567663246579,0.19909860375575822,null],\"type\":\"scatter\",\"textposition\":\"top center\"},{\"hoverinfo\":\"none\",\"hovertext\":\" \",\"line\":{\"color\":\"rgb(100,200,0)\",\"width\":0.3},\"x\":[-0.1101981914276436,-0.008898994998657116,null],\"y\":[-0.1386567663246579,0.86968417501967,null],\"type\":\"scatter\",\"textposition\":\"top center\"},{\"hoverinfo\":\"none\",\"hovertext\":\" \",\"line\":{\"color\":\"rgb(100,200,0)\",\"width\":0.4},\"x\":[-0.1101981914276436,-0.032363532478511176,null],\"y\":[-0.1386567663246579,0.11734746928670177,null],\"type\":\"scatter\",\"textposition\":\"top center\"},{\"hoverinfo\":\"none\",\"hovertext\":\" \",\"line\":{\"color\":\"rgb(100,200,0)\",\"width\":0.21},\"x\":[-0.1101981914276436,-0.024798508730488826,null],\"y\":[-0.1386567663246579,-0.17338909340872768,null],\"type\":\"scatter\",\"textposition\":\"top center\"},{\"hoverinfo\":\"none\",\"hovertext\":\" \",\"line\":{\"color\":\"rgb(100,200,0)\",\"width\":0.07},\"x\":[-0.1101981914276436,0.08140881795286144,null],\"y\":[-0.1386567663246579,-0.3613323956197131,null],\"type\":\"scatter\",\"textposition\":\"top center\"},{\"hoverinfo\":\"none\",\"hovertext\":\" \",\"line\":{\"color\":\"rgb(100,200,0)\",\"width\":0.2},\"x\":[-0.1101981914276436,-0.7643893943348069,null],\"y\":[-0.1386567663246579,0.5082398453914309,null],\"type\":\"scatter\",\"textposition\":\"top center\"},{\"hoverinfo\":\"none\",\"hovertext\":\" \",\"line\":{\"color\":\"rgb(100,200,0)\",\"width\":0.03},\"x\":[-0.1101981914276436,0.09606441193397575,null],\"y\":[-0.1386567663246579,-0.0018440192520536444,null],\"type\":\"scatter\",\"textposition\":\"top center\"},{\"hoverinfo\":\"none\",\"hovertext\":\" \",\"line\":{\"color\":\"rgb(100,200,0)\",\"width\":0.01},\"x\":[-0.1101981914276436,-0.05007246339081912,null],\"y\":[-0.1386567663246579,-0.07901321553880383,null],\"type\":\"scatter\",\"textposition\":\"top center\"},{\"hoverinfo\":\"none\",\"hovertext\":\" \",\"line\":{\"color\":\"rgb(100,200,0)\",\"width\":0.58},\"x\":[-0.1101981914276436,0.03147272336468635,null],\"y\":[-0.1386567663246579,-0.12807799463958677,null],\"type\":\"scatter\",\"textposition\":\"top center\"},{\"hoverinfo\":\"none\",\"hovertext\":\" \",\"line\":{\"color\":\"rgb(100,200,0)\",\"width\":0.05},\"x\":[-0.1101981914276436,-0.18223836965864945,null],\"y\":[-0.1386567663246579,-0.6322822275673232,null],\"type\":\"scatter\",\"textposition\":\"top center\"},{\"hoverinfo\":\"none\",\"hovertext\":\" \",\"line\":{\"color\":\"rgb(100,200,0)\",\"width\":0.28},\"x\":[-0.1101981914276436,0.6509979169809771,null],\"y\":[-0.1386567663246579,0.08960708127153735,null],\"type\":\"scatter\",\"textposition\":\"top center\"},{\"hoverinfo\":\"none\",\"hovertext\":\" \",\"line\":{\"color\":\"rgb(100,200,0)\",\"width\":0.02},\"x\":[-0.1101981914276436,0.1484277257993926,null],\"y\":[-0.1386567663246579,-0.21212120475697013,null],\"type\":\"scatter\",\"textposition\":\"top center\"},{\"hoverinfo\":\"none\",\"hovertext\":\" \",\"line\":{\"color\":\"rgb(100,200,0)\",\"width\":0.45},\"x\":[-0.1101981914276436,0.547664843443468,null],\"y\":[-0.1386567663246579,0.6410124382128094,null],\"type\":\"scatter\",\"textposition\":\"top center\"},{\"hoverinfo\":\"none\",\"hovertext\":\" \",\"line\":{\"color\":\"rgb(100,200,0)\",\"width\":0.44},\"x\":[-0.1101981914276436,0.20561926665517882,null],\"y\":[-0.1386567663246579,-0.14124401233976489,null],\"type\":\"scatter\",\"textposition\":\"top center\"},{\"hoverinfo\":\"none\",\"hovertext\":\" \",\"line\":{\"color\":\"rgb(100,200,2)\",\"width\":2.07},\"x\":[-0.3283655382286087,-0.3283655382286087,null],\"y\":[-0.5210579759864579,-0.5210579759864579,null],\"type\":\"scatter\",\"textposition\":\"top center\"},{\"hoverinfo\":\"none\",\"hovertext\":\" \",\"line\":{\"color\":\"rgb(100,200,0)\",\"width\":0.17},\"x\":[-0.3283655382286087,-0.17793367119152348,null],\"y\":[-0.5210579759864579,0.19909860375575822,null],\"type\":\"scatter\",\"textposition\":\"top center\"},{\"hoverinfo\":\"none\",\"hovertext\":\" \",\"line\":{\"color\":\"rgb(100,200,0)\",\"width\":0.25},\"x\":[-0.3283655382286087,-0.008898994998657116,null],\"y\":[-0.5210579759864579,0.86968417501967,null],\"type\":\"scatter\",\"textposition\":\"top center\"},{\"hoverinfo\":\"none\",\"hovertext\":\" \",\"line\":{\"color\":\"rgb(100,200,0)\",\"width\":0.08},\"x\":[-0.3283655382286087,-0.032363532478511176,null],\"y\":[-0.5210579759864579,0.11734746928670177,null],\"type\":\"scatter\",\"textposition\":\"top center\"},{\"hoverinfo\":\"none\",\"hovertext\":\" \",\"line\":{\"color\":\"rgb(100,200,0)\",\"width\":0.05},\"x\":[-0.3283655382286087,-0.024798508730488826,null],\"y\":[-0.5210579759864579,-0.17338909340872768,null],\"type\":\"scatter\",\"textposition\":\"top center\"},{\"hoverinfo\":\"none\",\"hovertext\":\" \",\"line\":{\"color\":\"rgb(100,200,0)\",\"width\":0.2},\"x\":[-0.3283655382286087,0.08140881795286144,null],\"y\":[-0.5210579759864579,-0.3613323956197131,null],\"type\":\"scatter\",\"textposition\":\"top center\"},{\"hoverinfo\":\"none\",\"hovertext\":\" \",\"line\":{\"color\":\"rgb(100,200,0)\",\"width\":0.1},\"x\":[-0.3283655382286087,-0.7643893943348069,null],\"y\":[-0.5210579759864579,0.5082398453914309,null],\"type\":\"scatter\",\"textposition\":\"top center\"},{\"hoverinfo\":\"none\",\"hovertext\":\" \",\"line\":{\"color\":\"rgb(100,200,0)\",\"width\":0.2},\"x\":[-0.3283655382286087,0.09606441193397575,null],\"y\":[-0.5210579759864579,-0.0018440192520536444,null],\"type\":\"scatter\",\"textposition\":\"top center\"},{\"hoverinfo\":\"none\",\"hovertext\":\" \",\"line\":{\"color\":\"rgb(100,200,0)\",\"width\":0.22},\"x\":[-0.3283655382286087,-0.05007246339081912,null],\"y\":[-0.5210579759864579,-0.07901321553880383,null],\"type\":\"scatter\",\"textposition\":\"top center\"},{\"hoverinfo\":\"none\",\"hovertext\":\" \",\"line\":{\"color\":\"rgb(100,200,0)\",\"width\":0.07},\"x\":[-0.3283655382286087,0.03147272336468635,null],\"y\":[-0.5210579759864579,-0.12807799463958677,null],\"type\":\"scatter\",\"textposition\":\"top center\"},{\"hoverinfo\":\"none\",\"hovertext\":\" \",\"line\":{\"color\":\"rgb(100,200,0)\",\"width\":0.24},\"x\":[-0.3283655382286087,-0.18223836965864945,null],\"y\":[-0.5210579759864579,-0.6322822275673232,null],\"type\":\"scatter\",\"textposition\":\"top center\"},{\"hoverinfo\":\"none\",\"hovertext\":\" \",\"line\":{\"color\":\"rgb(100,200,0)\",\"width\":0.31},\"x\":[-0.3283655382286087,0.6509979169809771,null],\"y\":[-0.5210579759864579,0.08960708127153735,null],\"type\":\"scatter\",\"textposition\":\"top center\"},{\"hoverinfo\":\"none\",\"hovertext\":\" \",\"line\":{\"color\":\"rgb(100,200,0)\",\"width\":0.15},\"x\":[-0.3283655382286087,0.1484277257993926,null],\"y\":[-0.5210579759864579,-0.21212120475697013,null],\"type\":\"scatter\",\"textposition\":\"top center\"},{\"hoverinfo\":\"none\",\"hovertext\":\" \",\"line\":{\"color\":\"rgb(100,200,0)\",\"width\":0.16},\"x\":[-0.3283655382286087,0.547664843443468,null],\"y\":[-0.5210579759864579,0.6410124382128094,null],\"type\":\"scatter\",\"textposition\":\"top center\"},{\"hoverinfo\":\"none\",\"hovertext\":\" \",\"line\":{\"color\":\"rgb(100,200,0)\",\"width\":0.05},\"x\":[-0.3283655382286087,0.20561926665517882,null],\"y\":[-0.5210579759864579,-0.14124401233976489,null],\"type\":\"scatter\",\"textposition\":\"top center\"},{\"hoverinfo\":\"none\",\"hovertext\":\" \",\"line\":{\"color\":\"rgb(100,200,2)\",\"width\":2.2},\"x\":[-0.17793367119152348,-0.17793367119152348,null],\"y\":[0.19909860375575822,0.19909860375575822,null],\"type\":\"scatter\",\"textposition\":\"top center\"},{\"hoverinfo\":\"none\",\"hovertext\":\" \",\"line\":{\"color\":\"rgb(100,200,0)\",\"width\":0.11},\"x\":[-0.17793367119152348,-0.008898994998657116,null],\"y\":[0.19909860375575822,0.86968417501967,null],\"type\":\"scatter\",\"textposition\":\"top center\"},{\"hoverinfo\":\"none\",\"hovertext\":\" \",\"line\":{\"color\":\"rgb(100,200,0)\",\"width\":0.02},\"x\":[-0.17793367119152348,-0.032363532478511176,null],\"y\":[0.19909860375575822,0.11734746928670177,null],\"type\":\"scatter\",\"textposition\":\"top center\"},{\"hoverinfo\":\"none\",\"hovertext\":\" \",\"line\":{\"color\":\"rgb(100,200,0)\",\"width\":0.05},\"x\":[-0.17793367119152348,-0.024798508730488826,null],\"y\":[0.19909860375575822,-0.17338909340872768,null],\"type\":\"scatter\",\"textposition\":\"top center\"},{\"hoverinfo\":\"none\",\"hovertext\":\" \",\"line\":{\"color\":\"rgb(100,200,0)\",\"width\":0.24},\"x\":[-0.17793367119152348,0.08140881795286144,null],\"y\":[0.19909860375575822,-0.3613323956197131,null],\"type\":\"scatter\",\"textposition\":\"top center\"},{\"hoverinfo\":\"none\",\"hovertext\":\" \",\"line\":{\"color\":\"rgb(100,200,0)\",\"width\":0.1},\"x\":[-0.17793367119152348,-0.7643893943348069,null],\"y\":[0.19909860375575822,0.5082398453914309,null],\"type\":\"scatter\",\"textposition\":\"top center\"},{\"hoverinfo\":\"none\",\"hovertext\":\" \",\"line\":{\"color\":\"rgb(100,200,0)\",\"width\":0.35},\"x\":[-0.17793367119152348,0.09606441193397575,null],\"y\":[0.19909860375575822,-0.0018440192520536444,null],\"type\":\"scatter\",\"textposition\":\"top center\"},{\"hoverinfo\":\"none\",\"hovertext\":\" \",\"line\":{\"color\":\"rgb(100,200,0)\",\"width\":0.24},\"x\":[-0.17793367119152348,-0.05007246339081912,null],\"y\":[0.19909860375575822,-0.07901321553880383,null],\"type\":\"scatter\",\"textposition\":\"top center\"},{\"hoverinfo\":\"none\",\"hovertext\":\" \",\"line\":{\"color\":\"rgb(100,200,0)\",\"width\":0.05},\"x\":[-0.17793367119152348,0.03147272336468635,null],\"y\":[0.19909860375575822,-0.12807799463958677,null],\"type\":\"scatter\",\"textposition\":\"top center\"},{\"hoverinfo\":\"none\",\"hovertext\":\" \",\"line\":{\"color\":\"rgb(100,200,0)\",\"width\":0.2},\"x\":[-0.17793367119152348,-0.18223836965864945,null],\"y\":[0.19909860375575822,-0.6322822275673232,null],\"type\":\"scatter\",\"textposition\":\"top center\"},{\"hoverinfo\":\"none\",\"hovertext\":\" \",\"line\":{\"color\":\"rgb(100,200,0)\",\"width\":0.13},\"x\":[-0.17793367119152348,0.6509979169809771,null],\"y\":[0.19909860375575822,0.08960708127153735,null],\"type\":\"scatter\",\"textposition\":\"top center\"},{\"hoverinfo\":\"none\",\"hovertext\":\" \",\"line\":{\"color\":\"rgb(100,200,0)\",\"width\":0.31},\"x\":[-0.17793367119152348,0.1484277257993926,null],\"y\":[0.19909860375575822,-0.21212120475697013,null],\"type\":\"scatter\",\"textposition\":\"top center\"},{\"hoverinfo\":\"none\",\"hovertext\":\" \",\"line\":{\"color\":\"rgb(100,200,0)\",\"width\":0.1},\"x\":[-0.17793367119152348,0.547664843443468,null],\"y\":[0.19909860375575822,0.6410124382128094,null],\"type\":\"scatter\",\"textposition\":\"top center\"},{\"hoverinfo\":\"none\",\"hovertext\":\" \",\"line\":{\"color\":\"rgb(100,200,0)\",\"width\":0.04},\"x\":[-0.17793367119152348,0.20561926665517882,null],\"y\":[0.19909860375575822,-0.14124401233976489,null],\"type\":\"scatter\",\"textposition\":\"top center\"},{\"hoverinfo\":\"none\",\"hovertext\":\" \",\"line\":{\"color\":\"rgb(100,200,1)\",\"width\":1.62},\"x\":[-0.008898994998657116,-0.008898994998657116,null],\"y\":[0.86968417501967,0.86968417501967,null],\"type\":\"scatter\",\"textposition\":\"top center\"},{\"hoverinfo\":\"none\",\"hovertext\":\" \",\"line\":{\"color\":\"rgb(100,200,0)\",\"width\":0.16},\"x\":[-0.008898994998657116,-0.032363532478511176,null],\"y\":[0.86968417501967,0.11734746928670177,null],\"type\":\"scatter\",\"textposition\":\"top center\"},{\"hoverinfo\":\"none\",\"hovertext\":\" \",\"line\":{\"color\":\"rgb(100,200,0)\",\"width\":0.13},\"x\":[-0.008898994998657116,-0.024798508730488826,null],\"y\":[0.86968417501967,-0.17338909340872768,null],\"type\":\"scatter\",\"textposition\":\"top center\"},{\"hoverinfo\":\"none\",\"hovertext\":\" \",\"line\":{\"color\":\"rgb(100,200,0)\",\"width\":0.18},\"x\":[-0.008898994998657116,0.08140881795286144,null],\"y\":[0.86968417501967,-0.3613323956197131,null],\"type\":\"scatter\",\"textposition\":\"top center\"},{\"hoverinfo\":\"none\",\"hovertext\":\" \",\"line\":{\"color\":\"rgb(100,200,0)\",\"width\":0.1},\"x\":[-0.008898994998657116,-0.7643893943348069,null],\"y\":[0.86968417501967,0.5082398453914309,null],\"type\":\"scatter\",\"textposition\":\"top center\"},{\"hoverinfo\":\"none\",\"hovertext\":\" \",\"line\":{\"color\":\"rgb(100,200,0)\",\"width\":0.13},\"x\":[-0.008898994998657116,0.09606441193397575,null],\"y\":[0.86968417501967,-0.0018440192520536444,null],\"type\":\"scatter\",\"textposition\":\"top center\"},{\"hoverinfo\":\"none\",\"hovertext\":\" \",\"line\":{\"color\":\"rgb(100,200,0)\",\"width\":0.14},\"x\":[-0.008898994998657116,-0.05007246339081912,null],\"y\":[0.86968417501967,-0.07901321553880383,null],\"type\":\"scatter\",\"textposition\":\"top center\"},{\"hoverinfo\":\"none\",\"hovertext\":\" \",\"line\":{\"color\":\"rgb(100,200,0)\",\"width\":0.3},\"x\":[-0.008898994998657116,0.03147272336468635,null],\"y\":[0.86968417501967,-0.12807799463958677,null],\"type\":\"scatter\",\"textposition\":\"top center\"},{\"hoverinfo\":\"none\",\"hovertext\":\" \",\"line\":{\"color\":\"rgb(100,200,0)\",\"width\":0.34},\"x\":[-0.008898994998657116,-0.18223836965864945,null],\"y\":[0.86968417501967,-0.6322822275673232,null],\"type\":\"scatter\",\"textposition\":\"top center\"},{\"hoverinfo\":\"none\",\"hovertext\":\" \",\"line\":{\"color\":\"rgb(100,200,0)\",\"width\":0.63},\"x\":[-0.008898994998657116,0.6509979169809771,null],\"y\":[0.86968417501967,0.08960708127153735,null],\"type\":\"scatter\",\"textposition\":\"top center\"},{\"hoverinfo\":\"none\",\"hovertext\":\" \",\"line\":{\"color\":\"rgb(100,200,0)\",\"width\":0.19},\"x\":[-0.008898994998657116,0.1484277257993926,null],\"y\":[0.86968417501967,-0.21212120475697013,null],\"type\":\"scatter\",\"textposition\":\"top center\"},{\"hoverinfo\":\"none\",\"hovertext\":\" \",\"line\":{\"color\":\"rgb(100,200,0)\",\"width\":0.26},\"x\":[-0.008898994998657116,0.547664843443468,null],\"y\":[0.86968417501967,0.6410124382128094,null],\"type\":\"scatter\",\"textposition\":\"top center\"},{\"hoverinfo\":\"none\",\"hovertext\":\" \",\"line\":{\"color\":\"rgb(100,200,0)\",\"width\":0.22},\"x\":[-0.008898994998657116,0.20561926665517882,null],\"y\":[0.86968417501967,-0.14124401233976489,null],\"type\":\"scatter\",\"textposition\":\"top center\"},{\"hoverinfo\":\"none\",\"hovertext\":\" \",\"line\":{\"color\":\"rgb(100,200,1)\",\"width\":1.46},\"x\":[-0.032363532478511176,-0.032363532478511176,null],\"y\":[0.11734746928670177,0.11734746928670177,null],\"type\":\"scatter\",\"textposition\":\"top center\"},{\"hoverinfo\":\"none\",\"hovertext\":\" \",\"line\":{\"color\":\"rgb(100,200,0)\",\"width\":0.28},\"x\":[-0.032363532478511176,-0.024798508730488826,null],\"y\":[0.11734746928670177,-0.17338909340872768,null],\"type\":\"scatter\",\"textposition\":\"top center\"},{\"hoverinfo\":\"none\",\"hovertext\":\" \",\"line\":{\"color\":\"rgb(100,200,0)\",\"width\":0.04},\"x\":[-0.032363532478511176,0.08140881795286144,null],\"y\":[0.11734746928670177,-0.3613323956197131,null],\"type\":\"scatter\",\"textposition\":\"top center\"},{\"hoverinfo\":\"none\",\"hovertext\":\" \",\"line\":{\"color\":\"rgb(100,200,0)\",\"width\":0.19},\"x\":[-0.032363532478511176,-0.7643893943348069,null],\"y\":[0.11734746928670177,0.5082398453914309,null],\"type\":\"scatter\",\"textposition\":\"top center\"},{\"hoverinfo\":\"none\",\"hovertext\":\" \",\"line\":{\"color\":\"rgb(100,200,0)\",\"width\":0.02},\"x\":[-0.032363532478511176,0.09606441193397575,null],\"y\":[0.11734746928670177,-0.0018440192520536444,null],\"type\":\"scatter\",\"textposition\":\"top center\"},{\"hoverinfo\":\"none\",\"hovertext\":\" \",\"line\":{\"color\":\"rgb(100,200,0)\",\"width\":0.02},\"x\":[-0.032363532478511176,-0.05007246339081912,null],\"y\":[0.11734746928670177,-0.07901321553880383,null],\"type\":\"scatter\",\"textposition\":\"top center\"},{\"hoverinfo\":\"none\",\"hovertext\":\" \",\"line\":{\"color\":\"rgb(100,200,0)\",\"width\":0.77},\"x\":[-0.032363532478511176,0.03147272336468635,null],\"y\":[0.11734746928670177,-0.12807799463958677,null],\"type\":\"scatter\",\"textposition\":\"top center\"},{\"hoverinfo\":\"none\",\"hovertext\":\" \",\"line\":{\"color\":\"rgb(100,200,0)\",\"width\":0.07},\"x\":[-0.032363532478511176,-0.18223836965864945,null],\"y\":[0.11734746928670177,-0.6322822275673232,null],\"type\":\"scatter\",\"textposition\":\"top center\"},{\"hoverinfo\":\"none\",\"hovertext\":\" \",\"line\":{\"color\":\"rgb(100,200,0)\",\"width\":0.22},\"x\":[-0.032363532478511176,0.6509979169809771,null],\"y\":[0.11734746928670177,0.08960708127153735,null],\"type\":\"scatter\",\"textposition\":\"top center\"},{\"hoverinfo\":\"none\",\"hovertext\":\" \",\"line\":{\"color\":\"rgb(100,200,0)\",\"width\":0.05},\"x\":[-0.032363532478511176,0.1484277257993926,null],\"y\":[0.11734746928670177,-0.21212120475697013,null],\"type\":\"scatter\",\"textposition\":\"top center\"},{\"hoverinfo\":\"none\",\"hovertext\":\" \",\"line\":{\"color\":\"rgb(100,200,0)\",\"width\":0.33},\"x\":[-0.032363532478511176,0.547664843443468,null],\"y\":[0.11734746928670177,0.6410124382128094,null],\"type\":\"scatter\",\"textposition\":\"top center\"},{\"hoverinfo\":\"none\",\"hovertext\":\" \",\"line\":{\"color\":\"rgb(100,200,0)\",\"width\":0.33},\"x\":[-0.032363532478511176,0.20561926665517882,null],\"y\":[0.11734746928670177,-0.14124401233976489,null],\"type\":\"scatter\",\"textposition\":\"top center\"},{\"hoverinfo\":\"none\",\"hovertext\":\" \",\"line\":{\"color\":\"rgb(100,200,1)\",\"width\":1.62},\"x\":[-0.024798508730488826,-0.024798508730488826,null],\"y\":[-0.17338909340872768,-0.17338909340872768,null],\"type\":\"scatter\",\"textposition\":\"top center\"},{\"hoverinfo\":\"none\",\"hovertext\":\" \",\"line\":{\"color\":\"rgb(100,200,0)\",\"width\":0.03},\"x\":[-0.024798508730488826,0.08140881795286144,null],\"y\":[-0.17338909340872768,-0.3613323956197131,null],\"type\":\"scatter\",\"textposition\":\"top center\"},{\"hoverinfo\":\"none\",\"hovertext\":\" \",\"line\":{\"color\":\"rgb(100,200,0)\",\"width\":0.11},\"x\":[-0.024798508730488826,-0.7643893943348069,null],\"y\":[-0.17338909340872768,0.5082398453914309,null],\"type\":\"scatter\",\"textposition\":\"top center\"},{\"hoverinfo\":\"none\",\"hovertext\":\" \",\"line\":{\"color\":\"rgb(100,200,0)\",\"width\":0.02},\"x\":[-0.024798508730488826,0.09606441193397575,null],\"y\":[-0.17338909340872768,-0.0018440192520536444,null],\"type\":\"scatter\",\"textposition\":\"top center\"},{\"hoverinfo\":\"none\",\"hovertext\":\" \",\"line\":{\"color\":\"rgb(100,200,0)\",\"width\":0.01},\"x\":[-0.024798508730488826,-0.05007246339081912,null],\"y\":[-0.17338909340872768,-0.07901321553880383,null],\"type\":\"scatter\",\"textposition\":\"top center\"},{\"hoverinfo\":\"none\",\"hovertext\":\" \",\"line\":{\"color\":\"rgb(100,200,0)\",\"width\":0.35},\"x\":[-0.024798508730488826,0.03147272336468635,null],\"y\":[-0.17338909340872768,-0.12807799463958677,null],\"type\":\"scatter\",\"textposition\":\"top center\"},{\"hoverinfo\":\"none\",\"hovertext\":\" \",\"line\":{\"color\":\"rgb(100,200,0)\",\"width\":0.06},\"x\":[-0.024798508730488826,-0.18223836965864945,null],\"y\":[-0.17338909340872768,-0.6322822275673232,null],\"type\":\"scatter\",\"textposition\":\"top center\"},{\"hoverinfo\":\"none\",\"hovertext\":\" \",\"line\":{\"color\":\"rgb(100,200,0)\",\"width\":0.06},\"x\":[-0.024798508730488826,0.6509979169809771,null],\"y\":[-0.17338909340872768,0.08960708127153735,null],\"type\":\"scatter\",\"textposition\":\"top center\"},{\"hoverinfo\":\"none\",\"hovertext\":\" \",\"line\":{\"color\":\"rgb(100,200,0)\",\"width\":0.02},\"x\":[-0.024798508730488826,0.1484277257993926,null],\"y\":[-0.17338909340872768,-0.21212120475697013,null],\"type\":\"scatter\",\"textposition\":\"top center\"},{\"hoverinfo\":\"none\",\"hovertext\":\" \",\"line\":{\"color\":\"rgb(100,200,0)\",\"width\":0.13},\"x\":[-0.024798508730488826,0.547664843443468,null],\"y\":[-0.17338909340872768,0.6410124382128094,null],\"type\":\"scatter\",\"textposition\":\"top center\"},{\"hoverinfo\":\"none\",\"hovertext\":\" \",\"line\":{\"color\":\"rgb(100,200,0)\",\"width\":0.17},\"x\":[-0.024798508730488826,0.20561926665517882,null],\"y\":[-0.17338909340872768,-0.14124401233976489,null],\"type\":\"scatter\",\"textposition\":\"top center\"},{\"hoverinfo\":\"none\",\"hovertext\":\" \",\"line\":{\"color\":\"rgb(100,200,1)\",\"width\":1.37},\"x\":[0.08140881795286144,0.08140881795286144,null],\"y\":[-0.3613323956197131,-0.3613323956197131,null],\"type\":\"scatter\",\"textposition\":\"top center\"},{\"hoverinfo\":\"none\",\"hovertext\":\" \",\"line\":{\"color\":\"rgb(100,200,0)\",\"width\":0.12},\"x\":[0.08140881795286144,-0.7643893943348069,null],\"y\":[-0.3613323956197131,0.5082398453914309,null],\"type\":\"scatter\",\"textposition\":\"top center\"},{\"hoverinfo\":\"none\",\"hovertext\":\" \",\"line\":{\"color\":\"rgb(100,200,0)\",\"width\":0.27},\"x\":[0.08140881795286144,0.09606441193397575,null],\"y\":[-0.3613323956197131,-0.0018440192520536444,null],\"type\":\"scatter\",\"textposition\":\"top center\"},{\"hoverinfo\":\"none\",\"hovertext\":\" \",\"line\":{\"color\":\"rgb(100,200,0)\",\"width\":0.29},\"x\":[0.08140881795286144,-0.05007246339081912,null],\"y\":[-0.3613323956197131,-0.07901321553880383,null],\"type\":\"scatter\",\"textposition\":\"top center\"},{\"hoverinfo\":\"none\",\"hovertext\":\" \",\"line\":{\"color\":\"rgb(100,200,0)\",\"width\":0.03},\"x\":[0.08140881795286144,0.03147272336468635,null],\"y\":[-0.3613323956197131,-0.12807799463958677,null],\"type\":\"scatter\",\"textposition\":\"top center\"},{\"hoverinfo\":\"none\",\"hovertext\":\" \",\"line\":{\"color\":\"rgb(100,200,0)\",\"width\":0.34},\"x\":[0.08140881795286144,-0.18223836965864945,null],\"y\":[-0.3613323956197131,-0.6322822275673232,null],\"type\":\"scatter\",\"textposition\":\"top center\"},{\"hoverinfo\":\"none\",\"hovertext\":\" \",\"line\":{\"color\":\"rgb(100,200,0)\",\"width\":0.29},\"x\":[0.08140881795286144,0.6509979169809771,null],\"y\":[-0.3613323956197131,0.08960708127153735,null],\"type\":\"scatter\",\"textposition\":\"top center\"},{\"hoverinfo\":\"none\",\"hovertext\":\" \",\"line\":{\"color\":\"rgb(100,200,0)\",\"width\":0.33},\"x\":[0.08140881795286144,0.1484277257993926,null],\"y\":[-0.3613323956197131,-0.21212120475697013,null],\"type\":\"scatter\",\"textposition\":\"top center\"},{\"hoverinfo\":\"none\",\"hovertext\":\" \",\"line\":{\"color\":\"rgb(100,200,0)\",\"width\":0.12},\"x\":[0.08140881795286144,0.547664843443468,null],\"y\":[-0.3613323956197131,0.6410124382128094,null],\"type\":\"scatter\",\"textposition\":\"top center\"},{\"hoverinfo\":\"none\",\"hovertext\":\" \",\"line\":{\"color\":\"rgb(100,200,0)\",\"width\":0.03},\"x\":[0.08140881795286144,0.20561926665517882,null],\"y\":[-0.3613323956197131,-0.14124401233976489,null],\"type\":\"scatter\",\"textposition\":\"top center\"},{\"hoverinfo\":\"none\",\"hovertext\":\" \",\"line\":{\"color\":\"rgb(100,200,1)\",\"width\":1.48},\"x\":[-0.7643893943348069,-0.7643893943348069,null],\"y\":[0.5082398453914309,0.5082398453914309,null],\"type\":\"scatter\",\"textposition\":\"top center\"},{\"hoverinfo\":\"none\",\"hovertext\":\" \",\"line\":{\"color\":\"rgb(100,200,0)\",\"width\":0.1},\"x\":[-0.7643893943348069,0.09606441193397575,null],\"y\":[0.5082398453914309,-0.0018440192520536444,null],\"type\":\"scatter\",\"textposition\":\"top center\"},{\"hoverinfo\":\"none\",\"hovertext\":\" \",\"line\":{\"color\":\"rgb(100,200,0)\",\"width\":0.13},\"x\":[-0.7643893943348069,-0.05007246339081912,null],\"y\":[0.5082398453914309,-0.07901321553880383,null],\"type\":\"scatter\",\"textposition\":\"top center\"},{\"hoverinfo\":\"none\",\"hovertext\":\" \",\"line\":{\"color\":\"rgb(100,200,0)\",\"width\":0.19},\"x\":[-0.7643893943348069,0.03147272336468635,null],\"y\":[0.5082398453914309,-0.12807799463958677,null],\"type\":\"scatter\",\"textposition\":\"top center\"},{\"hoverinfo\":\"none\",\"hovertext\":\" \",\"line\":{\"color\":\"rgb(100,200,0)\",\"width\":0.11},\"x\":[-0.7643893943348069,-0.18223836965864945,null],\"y\":[0.5082398453914309,-0.6322822275673232,null],\"type\":\"scatter\",\"textposition\":\"top center\"},{\"hoverinfo\":\"none\",\"hovertext\":\" \",\"line\":{\"color\":\"rgb(100,200,0)\",\"width\":0.11},\"x\":[-0.7643893943348069,0.6509979169809771,null],\"y\":[0.5082398453914309,0.08960708127153735,null],\"type\":\"scatter\",\"textposition\":\"top center\"},{\"hoverinfo\":\"none\",\"hovertext\":\" \",\"line\":{\"color\":\"rgb(100,200,0)\",\"width\":0.1},\"x\":[-0.7643893943348069,0.1484277257993926,null],\"y\":[0.5082398453914309,-0.21212120475697013,null],\"type\":\"scatter\",\"textposition\":\"top center\"},{\"hoverinfo\":\"none\",\"hovertext\":\" \",\"line\":{\"color\":\"rgb(100,200,0)\",\"width\":0.23},\"x\":[-0.7643893943348069,0.547664843443468,null],\"y\":[0.5082398453914309,0.6410124382128094,null],\"type\":\"scatter\",\"textposition\":\"top center\"},{\"hoverinfo\":\"none\",\"hovertext\":\" \",\"line\":{\"color\":\"rgb(100,200,0)\",\"width\":0.12},\"x\":[-0.7643893943348069,0.20561926665517882,null],\"y\":[0.5082398453914309,-0.14124401233976489,null],\"type\":\"scatter\",\"textposition\":\"top center\"},{\"hoverinfo\":\"none\",\"hovertext\":\" \",\"line\":{\"color\":\"rgb(100,200,1)\",\"width\":1.49},\"x\":[0.09606441193397575,0.09606441193397575,null],\"y\":[-0.0018440192520536444,-0.0018440192520536444,null],\"type\":\"scatter\",\"textposition\":\"top center\"},{\"hoverinfo\":\"none\",\"hovertext\":\" \",\"line\":{\"color\":\"rgb(100,200,0)\",\"width\":0.62},\"x\":[0.09606441193397575,-0.05007246339081912,null],\"y\":[-0.0018440192520536444,-0.07901321553880383,null],\"type\":\"scatter\",\"textposition\":\"top center\"},{\"hoverinfo\":\"none\",\"hovertext\":\" \",\"line\":{\"color\":\"rgb(100,200,0)\",\"width\":0.02},\"x\":[0.09606441193397575,0.03147272336468635,null],\"y\":[-0.0018440192520536444,-0.12807799463958677,null],\"type\":\"scatter\",\"textposition\":\"top center\"},{\"hoverinfo\":\"none\",\"hovertext\":\" \",\"line\":{\"color\":\"rgb(100,200,0)\",\"width\":0.29},\"x\":[0.09606441193397575,-0.18223836965864945,null],\"y\":[-0.0018440192520536444,-0.6322822275673232,null],\"type\":\"scatter\",\"textposition\":\"top center\"},{\"hoverinfo\":\"none\",\"hovertext\":\" \",\"line\":{\"color\":\"rgb(100,200,0)\",\"width\":0.2},\"x\":[0.09606441193397575,0.6509979169809771,null],\"y\":[-0.0018440192520536444,0.08960708127153735,null],\"type\":\"scatter\",\"textposition\":\"top center\"},{\"hoverinfo\":\"none\",\"hovertext\":\" \",\"line\":{\"color\":\"rgb(100,200,0)\",\"width\":0.31},\"x\":[0.09606441193397575,0.1484277257993926,null],\"y\":[-0.0018440192520536444,-0.21212120475697013,null],\"type\":\"scatter\",\"textposition\":\"top center\"},{\"hoverinfo\":\"none\",\"hovertext\":\" \",\"line\":{\"color\":\"rgb(100,200,0)\",\"width\":0.09},\"x\":[0.09606441193397575,0.547664843443468,null],\"y\":[-0.0018440192520536444,0.6410124382128094,null],\"type\":\"scatter\",\"textposition\":\"top center\"},{\"hoverinfo\":\"none\",\"hovertext\":\" \",\"line\":{\"color\":\"rgb(100,200,0)\",\"width\":0.02},\"x\":[0.09606441193397575,0.20561926665517882,null],\"y\":[-0.0018440192520536444,-0.14124401233976489,null],\"type\":\"scatter\",\"textposition\":\"top center\"},{\"hoverinfo\":\"none\",\"hovertext\":\" \",\"line\":{\"color\":\"rgb(100,200,1)\",\"width\":1.4},\"x\":[-0.05007246339081912,-0.05007246339081912,null],\"y\":[-0.07901321553880383,-0.07901321553880383,null],\"type\":\"scatter\",\"textposition\":\"top center\"},{\"hoverinfo\":\"none\",\"hovertext\":\" \",\"line\":{\"color\":\"rgb(100,200,0)\",\"width\":0.01},\"x\":[-0.05007246339081912,0.03147272336468635,null],\"y\":[-0.07901321553880383,-0.12807799463958677,null],\"type\":\"scatter\",\"textposition\":\"top center\"},{\"hoverinfo\":\"none\",\"hovertext\":\" \",\"line\":{\"color\":\"rgb(100,200,0)\",\"width\":0.34},\"x\":[-0.05007246339081912,-0.18223836965864945,null],\"y\":[-0.07901321553880383,-0.6322822275673232,null],\"type\":\"scatter\",\"textposition\":\"top center\"},{\"hoverinfo\":\"none\",\"hovertext\":\" \",\"line\":{\"color\":\"rgb(100,200,0)\",\"width\":0.24},\"x\":[-0.05007246339081912,0.6509979169809771,null],\"y\":[-0.07901321553880383,0.08960708127153735,null],\"type\":\"scatter\",\"textposition\":\"top center\"},{\"hoverinfo\":\"none\",\"hovertext\":\" \",\"line\":{\"color\":\"rgb(100,200,0)\",\"width\":0.31},\"x\":[-0.05007246339081912,0.1484277257993926,null],\"y\":[-0.07901321553880383,-0.21212120475697013,null],\"type\":\"scatter\",\"textposition\":\"top center\"},{\"hoverinfo\":\"none\",\"hovertext\":\" \",\"line\":{\"color\":\"rgb(100,200,0)\",\"width\":0.09},\"x\":[-0.05007246339081912,0.547664843443468,null],\"y\":[-0.07901321553880383,0.6410124382128094,null],\"type\":\"scatter\",\"textposition\":\"top center\"},{\"hoverinfo\":\"none\",\"hovertext\":\" \",\"line\":{\"color\":\"rgb(100,200,2)\",\"width\":2.37},\"x\":[0.03147272336468635,0.03147272336468635,null],\"y\":[-0.12807799463958677,-0.12807799463958677,null],\"type\":\"scatter\",\"textposition\":\"top center\"},{\"hoverinfo\":\"none\",\"hovertext\":\" \",\"line\":{\"color\":\"rgb(100,200,0)\",\"width\":0.06},\"x\":[0.03147272336468635,-0.18223836965864945,null],\"y\":[-0.12807799463958677,-0.6322822275673232,null],\"type\":\"scatter\",\"textposition\":\"top center\"},{\"hoverinfo\":\"none\",\"hovertext\":\" \",\"line\":{\"color\":\"rgb(100,200,0)\",\"width\":0.33},\"x\":[0.03147272336468635,0.6509979169809771,null],\"y\":[-0.12807799463958677,0.08960708127153735,null],\"type\":\"scatter\",\"textposition\":\"top center\"},{\"hoverinfo\":\"none\",\"hovertext\":\" \",\"line\":{\"color\":\"rgb(100,200,0)\",\"width\":0.37},\"x\":[0.03147272336468635,0.547664843443468,null],\"y\":[-0.12807799463958677,0.6410124382128094,null],\"type\":\"scatter\",\"textposition\":\"top center\"},{\"hoverinfo\":\"none\",\"hovertext\":\" \",\"line\":{\"color\":\"rgb(100,200,0)\",\"width\":0.51},\"x\":[0.03147272336468635,0.20561926665517882,null],\"y\":[-0.12807799463958677,-0.14124401233976489,null],\"type\":\"scatter\",\"textposition\":\"top center\"},{\"hoverinfo\":\"none\",\"hovertext\":\" \",\"line\":{\"color\":\"rgb(100,200,2)\",\"width\":2.15},\"x\":[-0.18223836965864945,-0.18223836965864945,null],\"y\":[-0.6322822275673232,-0.6322822275673232,null],\"type\":\"scatter\",\"textposition\":\"top center\"},{\"hoverinfo\":\"none\",\"hovertext\":\" \",\"line\":{\"color\":\"rgb(100,200,0)\",\"width\":0.34},\"x\":[-0.18223836965864945,0.6509979169809771,null],\"y\":[-0.6322822275673232,0.08960708127153735,null],\"type\":\"scatter\",\"textposition\":\"top center\"},{\"hoverinfo\":\"none\",\"hovertext\":\" \",\"line\":{\"color\":\"rgb(100,200,0)\",\"width\":0.39},\"x\":[-0.18223836965864945,0.1484277257993926,null],\"y\":[-0.6322822275673232,-0.21212120475697013,null],\"type\":\"scatter\",\"textposition\":\"top center\"},{\"hoverinfo\":\"none\",\"hovertext\":\" \",\"line\":{\"color\":\"rgb(100,200,0)\",\"width\":0.21},\"x\":[-0.18223836965864945,0.547664843443468,null],\"y\":[-0.6322822275673232,0.6410124382128094,null],\"type\":\"scatter\",\"textposition\":\"top center\"},{\"hoverinfo\":\"none\",\"hovertext\":\" \",\"line\":{\"color\":\"rgb(100,200,0)\",\"width\":0.07},\"x\":[-0.18223836965864945,0.20561926665517882,null],\"y\":[-0.6322822275673232,-0.14124401233976489,null],\"type\":\"scatter\",\"textposition\":\"top center\"},{\"hoverinfo\":\"none\",\"hovertext\":\" \",\"line\":{\"color\":\"rgb(100,200,2)\",\"width\":2.11},\"x\":[0.6509979169809771,0.6509979169809771,null],\"y\":[0.08960708127153735,0.08960708127153735,null],\"type\":\"scatter\",\"textposition\":\"top center\"},{\"hoverinfo\":\"none\",\"hovertext\":\" \",\"line\":{\"color\":\"rgb(100,200,0)\",\"width\":0.24},\"x\":[0.6509979169809771,0.1484277257993926,null],\"y\":[0.08960708127153735,-0.21212120475697013,null],\"type\":\"scatter\",\"textposition\":\"top center\"},{\"hoverinfo\":\"none\",\"hovertext\":\" \",\"line\":{\"color\":\"rgb(100,200,0)\",\"width\":0.26},\"x\":[0.6509979169809771,0.547664843443468,null],\"y\":[0.08960708127153735,0.6410124382128094,null],\"type\":\"scatter\",\"textposition\":\"top center\"},{\"hoverinfo\":\"none\",\"hovertext\":\" \",\"line\":{\"color\":\"rgb(100,200,0)\",\"width\":0.2},\"x\":[0.6509979169809771,0.20561926665517882,null],\"y\":[0.08960708127153735,-0.14124401233976489,null],\"type\":\"scatter\",\"textposition\":\"top center\"},{\"hoverinfo\":\"none\",\"hovertext\":\" \",\"line\":{\"color\":\"rgb(100,200,2)\",\"width\":2.0},\"x\":[0.1484277257993926,0.1484277257993926,null],\"y\":[-0.21212120475697013,-0.21212120475697013,null],\"type\":\"scatter\",\"textposition\":\"top center\"},{\"hoverinfo\":\"none\",\"hovertext\":\" \",\"line\":{\"color\":\"rgb(100,200,0)\",\"width\":0.09},\"x\":[0.1484277257993926,0.547664843443468,null],\"y\":[-0.21212120475697013,0.6410124382128094,null],\"type\":\"scatter\",\"textposition\":\"top center\"},{\"hoverinfo\":\"none\",\"hovertext\":\" \",\"line\":{\"color\":\"rgb(100,200,0)\",\"width\":0.01},\"x\":[0.1484277257993926,0.20561926665517882,null],\"y\":[-0.21212120475697013,-0.14124401233976489,null],\"type\":\"scatter\",\"textposition\":\"top center\"},{\"hoverinfo\":\"none\",\"hovertext\":\" \",\"line\":{\"color\":\"rgb(100,200,1)\",\"width\":1.73},\"x\":[0.547664843443468,0.547664843443468,null],\"y\":[0.6410124382128094,0.6410124382128094,null],\"type\":\"scatter\",\"textposition\":\"top center\"},{\"hoverinfo\":\"none\",\"hovertext\":\" \",\"line\":{\"color\":\"rgb(100,200,0)\",\"width\":0.33},\"x\":[0.547664843443468,0.20561926665517882,null],\"y\":[0.6410124382128094,-0.14124401233976489,null],\"type\":\"scatter\",\"textposition\":\"top center\"},{\"hoverinfo\":\"none\",\"hovertext\":\" \",\"line\":{\"color\":\"rgb(100,200,1)\",\"width\":1.29},\"x\":[0.20561926665517882,0.20561926665517882,null],\"y\":[-0.14124401233976489,-0.14124401233976489,null],\"type\":\"scatter\",\"textposition\":\"top center\"},{\"customdata\":[[368.0,\"fast\",\"ADV\"],[191.0,\"quickly\",\"ADV\"],[140.0,\"long\",\"ADV\"]],\"hovertemplate\":\"#=%{customdata[0]}<extra></extra>\",\"legendgroup\":\"ADV\",\"marker\":{\"color\":\"#636efa\",\"size\":[368.0,191.0,140.0],\"sizemode\":\"area\",\"sizeref\":1.0575,\"symbol\":\"circle\"},\"mode\":\"markers+text\",\"name\":\"ADV\",\"orientation\":\"v\",\"showlegend\":true,\"text\":[\"fast\",\"quickly\",\"long\"],\"x\":[0.07672033887604401,0.26281681750159147,-0.31640935946231563],\"xaxis\":\"x\",\"y\":[0.27649526674030017,0.16341705312411842,0.4478815572900766],\"yaxis\":\"y\",\"type\":\"scatter\",\"textposition\":\"top center\"},{\"customdata\":[[423.0,\"time\",\"NOUN\"],[332.0,\"delivery\",\"NOUN\"],[338.0,\"service\",\"NOUN\"],[241.0,\"people\",\"NOUN\"],[166.0,\"day\",\"NOUN\"],[207.0,\"unload\",\"NOUN\"],[220.0,\"staff\",\"NOUN\"],[162.0,\"hour\",\"NOUN\"],[146.0,\"order\",\"NOUN\"],[162.0,\"transport\",\"NOUN\"],[137.0,\"office\",\"NOUN\"],[148.0,\"place\",\"NOUN\"],[149.0,\"coffee\",\"NOUN\"],[140.0,\"toilet\",\"NOUN\"]],\"hovertemplate\":\"#=%{customdata[0]}<extra></extra>\",\"legendgroup\":\"NOUN\",\"marker\":{\"color\":\"#EF553B\",\"size\":[423.0,332.0,338.0,241.0,166.0,207.0,220.0,162.0,146.0,162.0,137.0,148.0,149.0,140.0],\"sizemode\":\"area\",\"sizeref\":1.0575,\"symbol\":\"circle\"},\"mode\":\"markers+text\",\"name\":\"NOUN\",\"orientation\":\"v\",\"showlegend\":true,\"text\":[\"time\",\"delivery\",\"service\",\"people\",\"day\",\"unload\",\"staff\",\"hour\",\"order\",\"transport\",\"office\",\"place\",\"coffee\",\"toilet\"],\"x\":[0.9999999999999999,0.013359875503130328,-0.5927227170015038,-0.5261619971077781,-0.1101981914276436,-0.3283655382286087,-0.17793367119152348,-0.008898994998657116,-0.032363532478511176,-0.024798508730488826,0.08140881795286144,-0.7643893943348069,0.09606441193397575,-0.05007246339081912],\"xaxis\":\"x\",\"y\":[-0.792748664783978,-0.018807038715815263,-0.26818423076617726,0.15597534960762655,-0.1386567663246579,-0.5210579759864579,0.19909860375575822,0.86968417501967,0.11734746928670177,-0.17338909340872768,-0.3613323956197131,0.5082398453914309,-0.0018440192520536444,-0.07901321553880383],\"yaxis\":\"y\",\"type\":\"scatter\",\"textposition\":\"top center\"},{\"customdata\":[[237.0,\"deliver\",\"VERB\"],[215.0,\"load\",\"VERB\"],[211.0,\"wait\",\"VERB\"],[200.0,\"loading\",\"VERB\"],[173.0,\"come\",\"VERB\"],[129.0,\"call\",\"VERB\"]],\"hovertemplate\":\"#=%{customdata[0]}<extra></extra>\",\"legendgroup\":\"VERB\",\"marker\":{\"color\":\"#00cc96\",\"size\":[237.0,215.0,211.0,200.0,173.0,129.0],\"sizemode\":\"area\",\"sizeref\":1.0575,\"symbol\":\"circle\"},\"mode\":\"markers+text\",\"name\":\"VERB\",\"orientation\":\"v\",\"showlegend\":true,\"text\":[\"deliver\",\"load\",\"wait\",\"loading\",\"come\",\"call\"],\"x\":[0.03147272336468635,-0.18223836965864945,0.6509979169809771,0.1484277257993926,0.547664843443468,0.20561926665517882],\"xaxis\":\"x\",\"y\":[-0.12807799463958677,-0.6322822275673232,0.08960708127153735,-0.21212120475697013,0.6410124382128094,-0.14124401233976489],\"yaxis\":\"y\",\"type\":\"scatter\",\"textposition\":\"top center\"},{\"hoverinfo\":\"text\",\"hoverlabel\":{\"bgcolor\":\"#FFFFFF\"},\"marker\":{\"opacity\":0},\"mode\":\"markers\",\"text\":[\"368\",\"0\",\"3\",\"0\",\"4\",\"0\",\"18\",\"0\",\"25\",\"0\",\"46\",\"0\",\"27\",\"0\",\"5\",\"0\",\"20\",\"0\",\"41\",\"0\",\"6\",\"0\",\"2\",\"0\",\"4\",\"0\",\"16\",\"0\",\"12\",\"0\",\"29\",\"0\",\"27\",\"0\",\"6\",\"0\",\"28\",\"0\",\"6\",\"0\",\"105\",\"0\",\"6\",\"0\",\"4\",\"0\",\"191\",\"0\",\"6\",\"0\",\"19\",\"0\",\"3\",\"0\",\"12\",\"0\",\"14\",\"0\",\"4\",\"0\",\"47\",\"0\",\"21\",\"0\",\"9\",\"0\",\"5\",\"0\",\"5\",\"0\",\"15\",\"0\",\"10\",\"0\",\"20\",\"0\",\"20\",\"0\",\"6\",\"0\",\"43\",\"0\",\"13\",\"0\",\"12\",\"0\",\"11\",\"0\",\"4\",\"0\",\"140\",\"0\",\"87\",\"0\",\"17\",\"0\",\"6\",\"0\",\"4\",\"0\",\"11\",\"0\",\"25\",\"0\",\"12\",\"0\",\"16\",\"0\",\"10\",\"0\",\"8\",\"0\",\"10\",\"0\",\"6\",\"0\",\"6\",\"0\",\"12\",\"0\",\"12\",\"0\",\"19\",\"0\",\"51\",\"0\",\"13\",\"0\",\"15\",\"0\",\"12\",\"0\",\"423\",\"0\",\"130\",\"0\",\"63\",\"0\",\"33\",\"0\",\"78\",\"0\",\"40\",\"0\",\"24\",\"0\",\"52\",\"0\",\"58\",\"0\",\"41\",\"0\",\"25\",\"0\",\"29\",\"0\",\"11\",\"0\",\"18\",\"0\",\"98\",\"0\",\"45\",\"0\",\"61\",\"0\",\"18\",\"0\",\"62\",\"0\",\"68\",\"0\",\"332\",\"0\",\"85\",\"0\",\"19\",\"0\",\"75\",\"0\",\"10\",\"0\",\"9\",\"0\",\"28\",\"0\",\"76\",\"0\",\"39\",\"0\",\"3\",\"0\",\"28\",\"0\",\"1\",\"0\",\"1\",\"0\",\"113\",\"0\",\"7\",\"0\",\"28\",\"0\",\"48\",\"0\",\"81\",\"0\",\"338\",\"0\",\"18\",\"0\",\"42\",\"0\",\"11\",\"0\",\"13\",\"0\",\"17\",\"0\",\"38\",\"0\",\"37\",\"0\",\"6\",\"0\",\"17\",\"0\",\"7\",\"0\",\"6\",\"0\",\"60\",\"0\",\"6\",\"0\",\"20\",\"0\",\"12\",\"0\",\"27\",\"0\",\"36\",\"0\",\"241\",\"0\",\"18\",\"0\",\"19\",\"0\",\"7\",\"0\",\"9\",\"0\",\"11\",\"0\",\"12\",\"0\",\"15\",\"0\",\"18\",\"0\",\"10\",\"0\",\"5\",\"0\",\"12\",\"0\",\"16\",\"0\",\"13\",\"0\",\"14\",\"0\",\"15\",\"0\",\"10\",\"0\",\"166\",\"0\",\"8\",\"0\",\"5\",\"0\",\"30\",\"0\",\"40\",\"0\",\"21\",\"0\",\"7\",\"0\",\"20\",\"0\",\"3\",\"0\",\"1\",\"0\",\"58\",\"0\",\"5\",\"0\",\"28\",\"0\",\"2\",\"0\",\"45\",\"0\",\"44\",\"0\",\"207\",\"0\",\"17\",\"0\",\"25\",\"0\",\"8\",\"0\",\"5\",\"0\",\"20\",\"0\",\"10\",\"0\",\"20\",\"0\",\"22\",\"0\",\"7\",\"0\",\"24\",\"0\",\"31\",\"0\",\"15\",\"0\",\"16\",\"0\",\"5\",\"0\",\"220\",\"0\",\"11\",\"0\",\"2\",\"0\",\"5\",\"0\",\"24\",\"0\",\"10\",\"0\",\"35\",\"0\",\"24\",\"0\",\"5\",\"0\",\"20\",\"0\",\"13\",\"0\",\"31\",\"0\",\"10\",\"0\",\"4\",\"0\",\"162\",\"0\",\"16\",\"0\",\"13\",\"0\",\"18\",\"0\",\"10\",\"0\",\"13\",\"0\",\"14\",\"0\",\"30\",\"0\",\"34\",\"0\",\"63\",\"0\",\"19\",\"0\",\"26\",\"0\",\"22\",\"0\",\"146\",\"0\",\"28\",\"0\",\"4\",\"0\",\"19\",\"0\",\"2\",\"0\",\"2\",\"0\",\"77\",\"0\",\"7\",\"0\",\"22\",\"0\",\"5\",\"0\",\"33\",\"0\",\"33\",\"0\",\"162\",\"0\",\"3\",\"0\",\"11\",\"0\",\"2\",\"0\",\"1\",\"0\",\"35\",\"0\",\"6\",\"0\",\"6\",\"0\",\"2\",\"0\",\"13\",\"0\",\"17\",\"0\",\"137\",\"0\",\"12\",\"0\",\"27\",\"0\",\"29\",\"0\",\"3\",\"0\",\"34\",\"0\",\"29\",\"0\",\"33\",\"0\",\"12\",\"0\",\"3\",\"0\",\"148\",\"0\",\"10\",\"0\",\"13\",\"0\",\"19\",\"0\",\"11\",\"0\",\"11\",\"0\",\"10\",\"0\",\"23\",\"0\",\"12\",\"0\",\"149\",\"0\",\"62\",\"0\",\"2\",\"0\",\"29\",\"0\",\"20\",\"0\",\"31\",\"0\",\"9\",\"0\",\"2\",\"0\",\"140\",\"0\",\"1\",\"0\",\"34\",\"0\",\"24\",\"0\",\"31\",\"0\",\"9\",\"0\",\"237\",\"0\",\"6\",\"0\",\"33\",\"0\",\"37\",\"0\",\"51\",\"0\",\"215\",\"0\",\"34\",\"0\",\"39\",\"0\",\"21\",\"0\",\"7\",\"0\",\"211\",\"0\",\"24\",\"0\",\"26\",\"0\",\"20\",\"0\",\"200\",\"0\",\"9\",\"0\",\"1\",\"0\",\"173\",\"0\",\"33\",\"0\",\"129\",\"0\"],\"x\":[0.07672033887604401,0,0.16976857818881774,0,-0.11984451029313581,0,0.538360169438022,0,0.04504010718958717,0,-0.2580011890627299,0,-0.22472082911586705,0,-0.016738926275799794,0,-0.12582259967628234,0,-0.05060666615773973,0,0.033910671938693446,0,0.02217840319876642,0,0.025960915072777594,0,0.07906457841445272,0,-0.34383452772938145,0,0.08639237540500988,0,0.013323937742612448,0,0.05409653112036518,0,-0.05275901539130272,0,0.36385912792851055,0,0.1125740323377183,0,0.312192591159756,0,0.14116980276561142,0,0.26281681750159147,0,-0.02679627098036208,0,0.6314084087507956,0,0.1380883465023609,0,-0.16495294974995617,0,-0.13167258980309332,0,0.07630931303697394,0,-0.032774360363508614,0,0.042441573155033996,0,0.1269589112514672,0,0.11522664251154015,0,0.11900915438555132,0,0.17211281772722645,0,-0.2507862884166077,0,0.1794406147177836,0,0.10637217705538618,0,0.14714477043313892,0,0.04028922392147101,0,0.4569073672412843,0,0.20562227165049202,0,0.40524083047252973,0,0.23421804207838515,0,-0.31640935946231563,0,0.34179532026884213,0,-0.15152474197959265,0,-0.4545660382319097,0,-0.42128567828504687,0,-0.2133037754449796,0,-0.32238744884546217,0,-0.24717151532691956,0,-0.16265417723048636,0,-0.17438644597041342,0,-0.17060393409640223,0,-0.1175002707547271,0,-0.5403993768985613,0,-0.11017247376416994,0,-0.18324091142656737,0,-0.14246831804881463,0,-0.24932386456048256,0,0.16729427875933073,0,-0.08399081683146152,0,0.11562774199057618,0,-0.055395046403568404,0,0.9999999999999999,0,0.5066799377515651,0,0.20363864149924804,0,0.2369190014461109,0,0.4449009042861781,0,0.3358172308856956,0,0.4110331644042382,0,0.4955505025006714,0,0.48381823376074434,0,0.48760074563475553,0,0.5407044089764307,0,0.11780530283259649,0,0.5480322059669878,0,0.47496376830459036,0,0.5157363616823432,0,0.4088808151706752,0,0.8254989584904885,0,0.5742138628996962,0,0.7738324217217339,0,0.6028096333275894,0,0.013359875503130328,0,-0.28968142074918674,0,-0.2564010608023239,0,-0.04841915796225664,0,-0.15750283136273918,0,-0.08228689784419657,0,0.002230440252236606,0,-0.009501828487690423,0,-0.005719316613679249,0,0.04738434672799588,0,-0.3755147594158383,0,0.054712143718553034,0,-0.018356293943844394,0,0.02241629943390834,0,-0.08443924707775956,0,0.3321788962420537,0,0.28051235947329917,0,0.10948957107915458,0,-0.5927227170015038,0,-0.559442357054641,0,-0.3514604542145737,0,-0.46054412761505625,0,-0.38532819409651364,0,-0.30081085600008045,0,-0.3125431247400075,0,-0.3087606128659963,0,-0.25565694952432116,0,-0.6785560556681554,0,-0.24832915253376403,0,-0.3213975901961615,0,-0.28062499681840875,0,-0.38748054333007664,0,0.02913759998973664,0,-0.22214749560105562,0,-0.022528936779017905,0,-0.1935517251731625,0,-0.5261619971077781,0,-0.3181800942677109,0,-0.4272637676681934,0,-0.3520478341496508,0,-0.2675304960532176,0,-0.27926276479314466,0,-0.2754802529191335,0,-0.22237658957745834,0,-0.6452756957212925,0,-0.21504879258690118,0,-0.28811723024929864,0,-0.24734463687154587,0,-0.3542001833832138,0,0.06241795993659949,0,-0.18886713565419277,0,0.010751423167844942,0,-0.16027136522629964,0,-0.1101981914276436,0,-0.21928186482812614,0,-0.14406593130958353,0,-0.059548593213150355,0,-0.0712808619530774,0,-0.06749835007906621,0,-0.014394686737391083,0,-0.4372937928812253,0,-0.007066889746833928,0,-0.08013532740923136,0,-0.03936273403147862,0,-0.14621828054314653,0,0.2703998627766667,0,0.019114767185874494,0,0.2187333260079122,0,0.04771053761376761,0,-0.3283655382286087,0,-0.2531496047100661,0,-0.1686322666136329,0,-0.18036453535355995,0,-0.17658202347954877,0,-0.12347836013787364,0,-0.5463774662817078,0,-0.11615056314731648,0,-0.1892190008097139,0,-0.14844640743196116,0,-0.2553019539436291,0,0.1613161893761842,0,-0.08996890621460805,0,0.10964965260742965,0,-0.06137313578671494,0,-0.17793367119152348,0,-0.0934163330950903,0,-0.10514860183501733,0,-0.10136608996100616,0,-0.04826242661933102,0,-0.4711615327631652,0,-0.040934629628773866,0,-0.1140030672911713,0,-0.07323047391341857,0,-0.18008602042508648,0,0.2365321228947268,0,-0.014752972696065444,0,0.18486558612597226,0,0.013842797731827672,0,-0.008898994998657116,0,-0.020631263738584146,0,-0.01684875186457297,0,0.036254911477102164,0,-0.386644194666732,0,0.04358270846765931,0,-0.029485729194738117,0,0.011286864183014618,0,-0.09556868232865329,0,0.32104946099116,0,0.06976436540036773,0,0.26938292422240545,0,0.09836013582826085,0,-0.032363532478511176,0,-0.0285810206045,0,0.02452264273717513,0,-0.39837646340665905,0,0.031850439727732285,0,-0.04121799793466514,0,-0.00044540455691241196,0,-0.10730095106858031,0,0.30931719225123294,0,0.05803209666044071,0,0.2576506554824784,0,0.08662786708833382,0,-0.024798508730488826,0,0.028305154611186305,0,-0.39459395153264787,0,0.03563295160174346,0,-0.03743548606065397,0,0.003337107317098763,0,-0.10351843919456914,0,0.3130997041252441,0,0.06181460853445188,0,0.2614331673564896,0,0.090410378962345,0,0.08140881795286144,0,-0.3414902881909727,0,0.08873661494341858,0,0.01566817728102116,0,0.0564407706587739,0,-0.05041477585289401,0,0.3662033674669193,0,0.11491827187612702,0,0.31453683069816474,0,0.14351404230402012,0,-0.7643893943348069,0,-0.3341624912004156,0,-0.40723092886281304,0,-0.3664583354850603,0,-0.4733138819967282,0,-0.05669573867691491,0,-0.30798083426770717,0,-0.10836227544566945,0,-0.27938506383981404,0,0.09606441193397575,0,0.022995974271578314,0,0.06376856764933105,0,-0.04308697886233685,0,0.3735311644574764,0,0.12224606886668417,0,0.32186462768872187,0,0.15084183929457728,0,-0.05007246339081912,0,-0.009299870013066383,0,-0.11615541652473428,0,0.30046272679507896,0,0.04917763120428674,0,0.24879619002632444,0,0.03147272336468635,0,-0.07538282314698155,0,0.3412353201728317,0,0.28956878340407716,0,0.11854599500993258,0,-0.18223836965864945,0,0.2343797736611638,0,-0.01690532192962843,0,0.18271323689240926,0,0.011690448498264686,0,0.6509979169809771,0,0.3997128213901848,0,0.5993313802122225,0,0.42830859181807795,0,0.1484277257993926,0,0.3480462846214303,0,0.1770234962272857,0,0.547664843443468,0,0.3766420550493234,0,0.20561926665517882,0],\"y\":[0.27649526674030017,0,0.2199561599322093,0,0.36218841201518837,0,-0.25812669902183893,0,0.12884411401224247,0,0.004155517987061458,0,0.21623530817396336,0,0.06891925020782114,0,-0.12228135462307885,0,0.2377969352480292,0,0.5730897208799851,0,0.19692136801350096,0,0.051553086665786244,0,-0.04241856443970646,0,0.3923675560658655,0,0.13732562374412327,0,0.09874102560074817,0,0.0742086360503567,0,-0.17789348041351152,0,0.18305117400591875,0,0.03218703099166502,0,0.45875385247655476,0,0.06762562720026764,0,0.16341705312411842,0,0.30564930520709754,0,-0.31466580582992976,0,0.07230500720415158,0,-0.05238358882102942,0,0.15969620136587248,0,0.012380143399730259,0,-0.17882046143116972,0,0.18125782843993832,0,0.5165506140718942,0,0.14038226120541009,0,-0.004986020142304634,0,-0.09895767124779734,0,0.33582844925777466,0,0.08078651693603238,0,0.04220191879265729,0,0.017669529242265822,0,-0.2344325872216024,0,0.12651206719782787,0,-0.02435207581642586,0,0.40221474566846394,0,0.011086520392176766,0,0.4478815572900766,0,-0.17243355374695069,0,0.2145372592871307,0,0.08984866326194968,0,0.30192845344885155,0,0.15461239548270936,0,-0.036588209348190626,0,0.3234900805229174,0,0.6587828661548734,0,0.2826145132883892,0,0.13724623194067448,0,0.043274580835181764,0,0.47806070134075374,0,0.2230187690190115,0,0.1844341708756364,0,0.1599017813252449,0,-0.0922003351386233,0,0.268744319280807,0,0.11788017626655324,0,0.544446997751443,0,0.15331877247515585,0,-0.792748664783978,0,-0.4057778517498966,0,-0.5304664477750776,0,-0.31838665758817575,0,-0.46570271555431797,0,-0.6569033203852179,0,-0.2968250305141099,0,0.038467755117846,0,-0.3377005977486381,0,-0.4830688790963528,0,-0.5770405302018455,0,-0.14225440969627356,0,-0.39729634201801584,0,-0.4358809401613909,0,-0.4604133297117824,0,-0.7125154461756507,0,-0.3515707917562203,0,-0.5024349347704741,0,-0.0758681132855843,0,-0.46699633856187145,0,-0.018807038715815263,0,-0.14349563474099625,0,0.06858415544590564,0,-0.07873190252023658,0,-0.26993250735113655,0,0.09014578251997148,0,0.4254385681519274,0,0.04927021528544325,0,-0.09609806606227148,0,-0.19006971716776416,0,0.2447164033378078,0,-0.010325528983934453,0,-0.04891012712730955,0,-0.07344251667770102,0,-0.32554463314156923,0,0.03540002127786104,0,0.3111026997484971,0,-0.08002552552779008,0,-0.26818423076617726,0,-0.056104440579275355,0,-0.20342049854541758,0,-0.39462110337631756,0,-0.03454281350520952,0,0.30074997212674637,0,-0.07541838073973775,0,-0.22078666208745246,0,-0.31475831319294517,0,0.1200278073126268,0,-0.13501412500911544,0,-0.17359872315249053,0,-0.19813111270288203,0,-0.45023322916675024,0,-0.08928857474731995,0,-0.2401527177615737,0,0.18641410372331607,0,-0.20471412155297108,0,0.15597534960762655,0,0.008659291641484324,0,-0.18254131318941566,0,0.17753697668169238,0,0.5128297623136483,0,0.13666140944716415,0,-0.00870687190055057,0,-0.10267852300604327,0,0.3321075974995287,0,0.07706566517778644,0,0.038481067034411356,0,0.013948677484019886,0,-0.23815343897984834,0,0.12279121543958195,0,-0.028072927574671794,0,0.39849389391021794,0,0.00736566863393083,0,-0.1386567663246579,0,-0.3298573711555579,0,0.03022091871555016,0,0.3655137043475061,0,-0.010654648518978065,0,-0.1560229298666928,0,-0.2499945809721855,0,0.18479153953338648,0,-0.07025039278835578,0,-0.10883499093173087,0,-0.13336738048212232,0,-0.38546949694599053,0,-0.024524842526560273,0,-0.175388985540814,0,0.2511778359440757,0,-0.13995038933221138,0,-0.5210579759864579,0,-0.16097968611534982,0,0.17431309951660606,0,-0.20185525334987806,0,-0.34722353469759276,0,-0.4411951858030855,0,-0.006409065297513505,0,-0.2614509976192558,0,-0.30003559576263084,0,-0.32456798531302233,0,-0.5766701017768905,0,-0.21572544735746024,0,-0.366589590371714,0,0.059977231113175766,0,-0.3311509941631114,0,0.19909860375575822,0,0.5343913893877141,0,0.15822303652123,0,0.012854755173515267,0,-0.08111689593197743,0,0.3536692245735945,0,0.09862729225185228,0,0.06004269410847719,0,0.03551030455808572,0,-0.2165918119057825,0,0.14435284251364777,0,-0.006511300500605957,0,0.4200555209842838,0,0.028927295707996667,0,0.86968417501967,0,0.4935158221531859,0,0.34814754080547117,0,0.25417588969997845,0,0.6889620102055505,0,0.43392007788380815,0,0.3953354797404331,0,0.3708030901900416,0,0.11870097372617339,0,0.4796456281456037,0,0.3287814851313499,0,0.7553483066162396,0,0.36422008133995254,0,0.11734746928670177,0,-0.028020812061012958,0,-0.12199246316650567,0,0.31279365733906633,0,0.05775172501732406,0,0.01916712687394897,0,-0.005365262676442502,0,-0.2574673791403107,0,0.10347727527911957,0,-0.04738686773513418,0,0.3791799537497556,0,-0.011948271526531558,0,-0.17338909340872768,0,-0.26736074451422037,0,0.1674253759913516,0,-0.08761655633039067,0,-0.12620115447376576,0,-0.15073354402415723,0,-0.40283566048802544,0,-0.041891006068595166,0,-0.1927551490828489,0,0.23381167240204087,0,-0.15731655287424628,0,-0.3613323956197131,0,0.07345372488585888,0,-0.18158820743588336,0,-0.22017280557925845,0,-0.24470519512964994,0,-0.49680731159351815,0,-0.13586265717408785,0,-0.2867268001883416,0,0.13984002129654816,0,-0.251288203979739,0,0.5082398453914309,0,0.2531979130696886,0,0.21461331492631353,0,0.19008092537592203,0,-0.06202119108794618,0,0.2989234633314841,0,0.14805932031723035,0,0.5746261418021201,0,0.18349791652583297,0,-0.0018440192520536444,0,-0.04042861739542874,0,-0.06496100694582022,0,-0.31706312340968845,0,0.043881531009741855,0,-0.1069826120045119,0,0.31958420948037786,0,-0.07154401579590927,0,-0.07901321553880383,0,-0.1035456050891953,0,-0.3556477215530635,0,0.00529693286636676,0,-0.14556721014788698,0,0.2809996113370028,0,-0.12807799463958677,0,-0.380180111103455,0,-0.01923545668402471,0,0.2564672217866113,0,-0.13466100348967583,0,-0.6322822275673232,0,-0.2713375731478929,0,-0.4222017161621467,0,0.00436510532274309,0,-0.38676311995354407,0,0.08960708127153735,0,-0.06125706174271639,0,0.3653097597421734,0,-0.025818465534113766,0,-0.21212120475697013,0,0.21444561672791962,0,-0.1766826085483675,0,0.6410124382128094,0,0.24988421293652224,0,-0.14124401233976489,0],\"type\":\"scatter\",\"textposition\":\"top center\"}],                        {\"template\":{\"data\":{\"histogram2dcontour\":[{\"type\":\"histogram2dcontour\",\"colorbar\":{\"outlinewidth\":0,\"ticks\":\"\"},\"colorscale\":[[0.0,\"#0d0887\"],[0.1111111111111111,\"#46039f\"],[0.2222222222222222,\"#7201a8\"],[0.3333333333333333,\"#9c179e\"],[0.4444444444444444,\"#bd3786\"],[0.5555555555555556,\"#d8576b\"],[0.6666666666666666,\"#ed7953\"],[0.7777777777777778,\"#fb9f3a\"],[0.8888888888888888,\"#fdca26\"],[1.0,\"#f0f921\"]]}],\"choropleth\":[{\"type\":\"choropleth\",\"colorbar\":{\"outlinewidth\":0,\"ticks\":\"\"}}],\"histogram2d\":[{\"type\":\"histogram2d\",\"colorbar\":{\"outlinewidth\":0,\"ticks\":\"\"},\"colorscale\":[[0.0,\"#0d0887\"],[0.1111111111111111,\"#46039f\"],[0.2222222222222222,\"#7201a8\"],[0.3333333333333333,\"#9c179e\"],[0.4444444444444444,\"#bd3786\"],[0.5555555555555556,\"#d8576b\"],[0.6666666666666666,\"#ed7953\"],[0.7777777777777778,\"#fb9f3a\"],[0.8888888888888888,\"#fdca26\"],[1.0,\"#f0f921\"]]}],\"heatmap\":[{\"type\":\"heatmap\",\"colorbar\":{\"outlinewidth\":0,\"ticks\":\"\"},\"colorscale\":[[0.0,\"#0d0887\"],[0.1111111111111111,\"#46039f\"],[0.2222222222222222,\"#7201a8\"],[0.3333333333333333,\"#9c179e\"],[0.4444444444444444,\"#bd3786\"],[0.5555555555555556,\"#d8576b\"],[0.6666666666666666,\"#ed7953\"],[0.7777777777777778,\"#fb9f3a\"],[0.8888888888888888,\"#fdca26\"],[1.0,\"#f0f921\"]]}],\"heatmapgl\":[{\"type\":\"heatmapgl\",\"colorbar\":{\"outlinewidth\":0,\"ticks\":\"\"},\"colorscale\":[[0.0,\"#0d0887\"],[0.1111111111111111,\"#46039f\"],[0.2222222222222222,\"#7201a8\"],[0.3333333333333333,\"#9c179e\"],[0.4444444444444444,\"#bd3786\"],[0.5555555555555556,\"#d8576b\"],[0.6666666666666666,\"#ed7953\"],[0.7777777777777778,\"#fb9f3a\"],[0.8888888888888888,\"#fdca26\"],[1.0,\"#f0f921\"]]}],\"contourcarpet\":[{\"type\":\"contourcarpet\",\"colorbar\":{\"outlinewidth\":0,\"ticks\":\"\"}}],\"contour\":[{\"type\":\"contour\",\"colorbar\":{\"outlinewidth\":0,\"ticks\":\"\"},\"colorscale\":[[0.0,\"#0d0887\"],[0.1111111111111111,\"#46039f\"],[0.2222222222222222,\"#7201a8\"],[0.3333333333333333,\"#9c179e\"],[0.4444444444444444,\"#bd3786\"],[0.5555555555555556,\"#d8576b\"],[0.6666666666666666,\"#ed7953\"],[0.7777777777777778,\"#fb9f3a\"],[0.8888888888888888,\"#fdca26\"],[1.0,\"#f0f921\"]]}],\"surface\":[{\"type\":\"surface\",\"colorbar\":{\"outlinewidth\":0,\"ticks\":\"\"},\"colorscale\":[[0.0,\"#0d0887\"],[0.1111111111111111,\"#46039f\"],[0.2222222222222222,\"#7201a8\"],[0.3333333333333333,\"#9c179e\"],[0.4444444444444444,\"#bd3786\"],[0.5555555555555556,\"#d8576b\"],[0.6666666666666666,\"#ed7953\"],[0.7777777777777778,\"#fb9f3a\"],[0.8888888888888888,\"#fdca26\"],[1.0,\"#f0f921\"]]}],\"mesh3d\":[{\"type\":\"mesh3d\",\"colorbar\":{\"outlinewidth\":0,\"ticks\":\"\"}}],\"scatter\":[{\"fillpattern\":{\"fillmode\":\"overlay\",\"size\":10,\"solidity\":0.2},\"type\":\"scatter\"}],\"parcoords\":[{\"type\":\"parcoords\",\"line\":{\"colorbar\":{\"outlinewidth\":0,\"ticks\":\"\"}}}],\"scatterpolargl\":[{\"type\":\"scatterpolargl\",\"marker\":{\"colorbar\":{\"outlinewidth\":0,\"ticks\":\"\"}}}],\"bar\":[{\"error_x\":{\"color\":\"#2a3f5f\"},\"error_y\":{\"color\":\"#2a3f5f\"},\"marker\":{\"line\":{\"color\":\"#E5ECF6\",\"width\":0.5},\"pattern\":{\"fillmode\":\"overlay\",\"size\":10,\"solidity\":0.2}},\"type\":\"bar\"}],\"scattergeo\":[{\"type\":\"scattergeo\",\"marker\":{\"colorbar\":{\"outlinewidth\":0,\"ticks\":\"\"}}}],\"scatterpolar\":[{\"type\":\"scatterpolar\",\"marker\":{\"colorbar\":{\"outlinewidth\":0,\"ticks\":\"\"}}}],\"histogram\":[{\"marker\":{\"pattern\":{\"fillmode\":\"overlay\",\"size\":10,\"solidity\":0.2}},\"type\":\"histogram\"}],\"scattergl\":[{\"type\":\"scattergl\",\"marker\":{\"colorbar\":{\"outlinewidth\":0,\"ticks\":\"\"}}}],\"scatter3d\":[{\"type\":\"scatter3d\",\"line\":{\"colorbar\":{\"outlinewidth\":0,\"ticks\":\"\"}},\"marker\":{\"colorbar\":{\"outlinewidth\":0,\"ticks\":\"\"}}}],\"scattermapbox\":[{\"type\":\"scattermapbox\",\"marker\":{\"colorbar\":{\"outlinewidth\":0,\"ticks\":\"\"}}}],\"scatterternary\":[{\"type\":\"scatterternary\",\"marker\":{\"colorbar\":{\"outlinewidth\":0,\"ticks\":\"\"}}}],\"scattercarpet\":[{\"type\":\"scattercarpet\",\"marker\":{\"colorbar\":{\"outlinewidth\":0,\"ticks\":\"\"}}}],\"carpet\":[{\"aaxis\":{\"endlinecolor\":\"#2a3f5f\",\"gridcolor\":\"white\",\"linecolor\":\"white\",\"minorgridcolor\":\"white\",\"startlinecolor\":\"#2a3f5f\"},\"baxis\":{\"endlinecolor\":\"#2a3f5f\",\"gridcolor\":\"white\",\"linecolor\":\"white\",\"minorgridcolor\":\"white\",\"startlinecolor\":\"#2a3f5f\"},\"type\":\"carpet\"}],\"table\":[{\"cells\":{\"fill\":{\"color\":\"#EBF0F8\"},\"line\":{\"color\":\"white\"}},\"header\":{\"fill\":{\"color\":\"#C8D4E3\"},\"line\":{\"color\":\"white\"}},\"type\":\"table\"}],\"barpolar\":[{\"marker\":{\"line\":{\"color\":\"#E5ECF6\",\"width\":0.5},\"pattern\":{\"fillmode\":\"overlay\",\"size\":10,\"solidity\":0.2}},\"type\":\"barpolar\"}],\"pie\":[{\"automargin\":true,\"type\":\"pie\"}]},\"layout\":{\"autotypenumbers\":\"strict\",\"colorway\":[\"#636efa\",\"#EF553B\",\"#00cc96\",\"#ab63fa\",\"#FFA15A\",\"#19d3f3\",\"#FF6692\",\"#B6E880\",\"#FF97FF\",\"#FECB52\"],\"font\":{\"color\":\"#2a3f5f\"},\"hovermode\":\"closest\",\"hoverlabel\":{\"align\":\"left\"},\"paper_bgcolor\":\"white\",\"plot_bgcolor\":\"#E5ECF6\",\"polar\":{\"bgcolor\":\"#E5ECF6\",\"angularaxis\":{\"gridcolor\":\"white\",\"linecolor\":\"white\",\"ticks\":\"\"},\"radialaxis\":{\"gridcolor\":\"white\",\"linecolor\":\"white\",\"ticks\":\"\"}},\"ternary\":{\"bgcolor\":\"#E5ECF6\",\"aaxis\":{\"gridcolor\":\"white\",\"linecolor\":\"white\",\"ticks\":\"\"},\"baxis\":{\"gridcolor\":\"white\",\"linecolor\":\"white\",\"ticks\":\"\"},\"caxis\":{\"gridcolor\":\"white\",\"linecolor\":\"white\",\"ticks\":\"\"}},\"coloraxis\":{\"colorbar\":{\"outlinewidth\":0,\"ticks\":\"\"}},\"colorscale\":{\"sequential\":[[0.0,\"#0d0887\"],[0.1111111111111111,\"#46039f\"],[0.2222222222222222,\"#7201a8\"],[0.3333333333333333,\"#9c179e\"],[0.4444444444444444,\"#bd3786\"],[0.5555555555555556,\"#d8576b\"],[0.6666666666666666,\"#ed7953\"],[0.7777777777777778,\"#fb9f3a\"],[0.8888888888888888,\"#fdca26\"],[1.0,\"#f0f921\"]],\"sequentialminus\":[[0.0,\"#0d0887\"],[0.1111111111111111,\"#46039f\"],[0.2222222222222222,\"#7201a8\"],[0.3333333333333333,\"#9c179e\"],[0.4444444444444444,\"#bd3786\"],[0.5555555555555556,\"#d8576b\"],[0.6666666666666666,\"#ed7953\"],[0.7777777777777778,\"#fb9f3a\"],[0.8888888888888888,\"#fdca26\"],[1.0,\"#f0f921\"]],\"diverging\":[[0,\"#8e0152\"],[0.1,\"#c51b7d\"],[0.2,\"#de77ae\"],[0.3,\"#f1b6da\"],[0.4,\"#fde0ef\"],[0.5,\"#f7f7f7\"],[0.6,\"#e6f5d0\"],[0.7,\"#b8e186\"],[0.8,\"#7fbc41\"],[0.9,\"#4d9221\"],[1,\"#276419\"]]},\"xaxis\":{\"gridcolor\":\"white\",\"linecolor\":\"white\",\"ticks\":\"\",\"title\":{\"standoff\":15},\"zerolinecolor\":\"white\",\"automargin\":true,\"zerolinewidth\":2},\"yaxis\":{\"gridcolor\":\"white\",\"linecolor\":\"white\",\"ticks\":\"\",\"title\":{\"standoff\":15},\"zerolinecolor\":\"white\",\"automargin\":true,\"zerolinewidth\":2},\"scene\":{\"xaxis\":{\"backgroundcolor\":\"#E5ECF6\",\"gridcolor\":\"white\",\"linecolor\":\"white\",\"showbackground\":true,\"ticks\":\"\",\"zerolinecolor\":\"white\",\"gridwidth\":2},\"yaxis\":{\"backgroundcolor\":\"#E5ECF6\",\"gridcolor\":\"white\",\"linecolor\":\"white\",\"showbackground\":true,\"ticks\":\"\",\"zerolinecolor\":\"white\",\"gridwidth\":2},\"zaxis\":{\"backgroundcolor\":\"#E5ECF6\",\"gridcolor\":\"white\",\"linecolor\":\"white\",\"showbackground\":true,\"ticks\":\"\",\"zerolinecolor\":\"white\",\"gridwidth\":2}},\"shapedefaults\":{\"line\":{\"color\":\"#2a3f5f\"}},\"annotationdefaults\":{\"arrowcolor\":\"#2a3f5f\",\"arrowhead\":0,\"arrowwidth\":1},\"geo\":{\"bgcolor\":\"white\",\"landcolor\":\"#E5ECF6\",\"subunitcolor\":\"white\",\"showland\":true,\"showlakes\":true,\"lakecolor\":\"white\"},\"title\":{\"x\":0.05},\"mapbox\":{\"style\":\"light\"}}},\"xaxis\":{\"showgrid\":false,\"zeroline\":false,\"showticklabels\":false},\"yaxis\":{\"showgrid\":false,\"zeroline\":false,\"showticklabels\":false},\"width\":1000,\"height\":1000,\"font\":{\"size\":16,\"color\":\"RebeccaPurple\",\"family\":\"Calibri\"},\"showlegend\":false,\"paper_bgcolor\":\"rgb(255,255,255)\",\"plot_bgcolor\":\"rgb(255,255,255)\",\"margin\":{\"l\":0,\"r\":0,\"t\":20,\"b\":0}},                        {\"responsive\": true}                    ).then(function(){\n",
       "                            \n",
       "var gd = document.getElementById('c1f0329c-b569-4003-b0bd-58cdf20a065a');\n",
       "var x = new MutationObserver(function (mutations, observer) {{\n",
       "        var display = window.getComputedStyle(gd).display;\n",
       "        if (!display || display === 'none') {{\n",
       "            console.log([gd, 'removed!']);\n",
       "            Plotly.purge(gd);\n",
       "            observer.disconnect();\n",
       "        }}\n",
       "}});\n",
       "\n",
       "// Listen for the removal of the full notebook cells\n",
       "var notebookContainer = gd.closest('#notebook-container');\n",
       "if (notebookContainer) {{\n",
       "    x.observe(notebookContainer, {childList: true});\n",
       "}}\n",
       "\n",
       "// Listen for the clearing of the current output cell\n",
       "var outputEl = gd.closest('.output');\n",
       "if (outputEl) {{\n",
       "    x.observe(outputEl, {childList: true});\n",
       "}}\n",
       "\n",
       "                        })                };                });            </script>        </div>"
      ]
     },
     "metadata": {},
     "output_type": "display_data"
    }
   ],
   "source": [
    "    \n",
    "edge_x = []\n",
    "edge_y = []\n",
    "weight=[]\n",
    "for edge in G.edges():\n",
    "    x0, y0 = pos[edge[0]]\n",
    "    x1, y1 = pos[edge[1]]\n",
    "#     print(G.get_edge_data(edge[0],edge[1])['weight'])\n",
    "    weight.append(G.get_edge_data(edge[0],edge[1])['weight'])\n",
    "    edge_x.append(x0)\n",
    "    edge_x.append(x1)\n",
    "    edge_x.append(None)\n",
    "    edge_y.append(y0)\n",
    "    edge_y.append(y1)\n",
    "    edge_y.append(None)\n",
    "    \n",
    "# edge_trace = go.Scatter(\n",
    "#     x=edge_x, y=edge_y,\n",
    "#     line=dict(width=0.5, color='#888'),\n",
    "#     hoverinfo='none',\n",
    "#     mode='lines')\n",
    "\n",
    "# s_w=np.round(sigmoid(np.asarray(weight)),1).tolist()\n",
    "# s_w=np.round(np.log(weight))\n",
    "s_w = np.asarray(weight)/100\n",
    "#color_list = get_rgb_color_list('BuGn',len(weight))\n",
    "\n",
    "middle_node_trace = go.Scatter(\n",
    "    x=list(),\n",
    "    y=list(),\n",
    "    text=list(),\n",
    "    mode='markers',\n",
    "    hoverinfo='text',\n",
    "    marker=dict(\n",
    "        opacity=0\n",
    "    ),\n",
    "    hoverlabel= dict(bgcolor= '#FFFFFF')\n",
    ")\n",
    "\n",
    "edge_trace=list()\n",
    "n=0\n",
    "m=3\n",
    "for i in np.arange(len(weight)):\n",
    "    edge_trace.append(go.Scatter(x = edge_x[n:m], \n",
    "                               y = edge_y[n:m],\n",
    "                               hoverinfo='none',\n",
    "                               hovertext =' ',\n",
    "                               line=dict(\n",
    "                            color='rgb(100,200,'+str(int(s_w[i]))+')',\n",
    "                            width=s_w[i])\n",
    "                            #width=int(weight[i]))#int(s_w[i]))\n",
    "                            ))\n",
    "    middle_node_trace['x']+=((edge_x[n]+edge_x[n+1])/2,0)\n",
    "    middle_node_trace['y']+=((edge_y[n]+edge_y[n+1])/2,0)\n",
    "    middle_node_trace['text']+=(str(int(weight[i])),0)#+' visits',0)\n",
    "    n=m\n",
    "    m=m+3\n",
    "\n",
    "node_x = []\n",
    "node_y = []\n",
    "for node in G.nodes():\n",
    "    x, y = pos[node]\n",
    "    node_x.append(x)\n",
    "    node_y.append(y)\n",
    "    \n",
    "size_points=pd.DataFrame([node_x,node_y,np.diag(ad_mat)]).T\n",
    "size_points.columns=['x','y','#']\n",
    "size_points['lexicon']= lexicon\n",
    "size_points = size_points.merge(most_freq_df[['word','tag']], left_on='lexicon', right_on='word')\n",
    "size_points.drop('word',axis = 1,inplace = True)\n",
    "\n",
    "for t in np.arange(len(np.unique(size_points['tag']))):\n",
    "    edge_trace.append(px.scatter(size_points,\n",
    "                                     x='x',y='y',\n",
    "                                     size=\"#\",\n",
    "                                     text='lexicon',\n",
    "                                     color = 'tag',\n",
    "        #                              color_discrete_map=color_discrete_map,\n",
    "                                     hover_data= {\n",
    "                                    \"x\": False,   \n",
    "                                    \"y\": False,\n",
    "                                    \"#\": True,\n",
    "                                    \"lexicon\": False,\n",
    "                                    \"tag\": False,\n",
    "                                    }\n",
    "                                ).update_traces(mode='markers+text').data[t])\n",
    "\n",
    "edge_trace.append(middle_node_trace)   \n",
    "\n",
    "\n",
    "\n",
    "fig=go.Figure(data=edge_trace)\n",
    "fig.update_layout(width=1000,height=1000,\n",
    "                  xaxis=dict(showgrid=False, zeroline=False, showticklabels=False),\n",
    "                  yaxis=dict(showgrid=False, zeroline=False, showticklabels=False)) \n",
    "fig.update_layout(showlegend=False,\n",
    "        paper_bgcolor='rgb(255,255,255)',\n",
    "        plot_bgcolor='rgb(255,255,255)',\n",
    "        font=dict(\n",
    "        #family=\"Courier New, monospace\",\n",
    "        size=16,\n",
    "        color=\"RebeccaPurple\"\n",
    "    ))\n",
    "fig.for_each_trace(lambda t: t.update(textposition='top center'))\n",
    "fig.update_layout(font_family=\"Calibri\",width=1000,height=1000)\n",
    "\n",
    "fig.update_layout(\n",
    "    margin=dict(l=0, r=0, t=20, b=0))\n",
    "fig.show()\n",
    "\n",
    "# plot(fig,config=dict(\n",
    "#                     displayModeBar=False\n",
    "#                 ))"
   ]
  },
  {
   "cell_type": "code",
   "execution_count": null,
   "id": "6ebbaae5",
   "metadata": {},
   "outputs": [],
   "source": []
  },
  {
   "cell_type": "code",
   "execution_count": null,
   "id": "a16d4c80",
   "metadata": {},
   "outputs": [],
   "source": []
  }
 ],
 "metadata": {
  "kernelspec": {
   "display_name": "Python 3 (ipykernel)",
   "language": "python",
   "name": "python3"
  },
  "language_info": {
   "codemirror_mode": {
    "name": "ipython",
    "version": 3
   },
   "file_extension": ".py",
   "mimetype": "text/x-python",
   "name": "python",
   "nbconvert_exporter": "python",
   "pygments_lexer": "ipython3",
   "version": "3.9.15"
  },
  "toc": {
   "base_numbering": 1,
   "nav_menu": {},
   "number_sections": true,
   "sideBar": true,
   "skip_h1_title": false,
   "title_cell": "Table of Contents",
   "title_sidebar": "Contents",
   "toc_cell": false,
   "toc_position": {},
   "toc_section_display": true,
   "toc_window_display": false
  }
 },
 "nbformat": 4,
 "nbformat_minor": 5
}
