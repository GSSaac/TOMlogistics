{
 "cells": [
  {
   "cell_type": "code",
   "execution_count": 44,
   "id": "72c883fa",
   "metadata": {},
   "outputs": [],
   "source": [
    "import numpy as np\n",
    "import pandas as pd\n",
    "import os\n",
    "import matplotlib.pyplot as plt \n",
    "import seaborn as sns\n",
    "import demoji\n",
    "import spacy\n",
    "\n",
    "import plotly.graph_objects as go\n",
    "from PIL import ImageColor, Image\n",
    "from wordcloud import WordCloud, STOPWORDS, ImageColorGenerator\n",
    "import plotly.express as px\n"
   ]
  },
  {
   "cell_type": "code",
   "execution_count": 45,
   "id": "4d05cf5d",
   "metadata": {},
   "outputs": [],
   "source": [
    "# colormaps = ['Accent', 'Accent_r', 'Blues', 'Blues_r', \n",
    "#              'BrBG', 'BrBG_r', 'BuGn', 'BuGn_r', 'BuPu', 'BuPu_r', \n",
    "#              'CMRmap', 'CMRmap_r', 'Dark2', 'Dark2_r', 'GnBu', 'GnBu_r', \n",
    "#              'Greens', 'Greens_r', 'Greys', 'Greys_r', 'OrRd', 'OrRd_r', \n",
    "#              'Oranges', 'Oranges_r', 'PRGn', 'PRGn_r', 'Paired', 'Paired_r', \n",
    "#              'Pastel1', 'Pastel1_r', 'Pastel2', 'Pastel2_r', 'PiYG', 'PiYG_r', \n",
    "#              'PuBu', 'PuBuGn', 'PuBuGn_r', 'PuBu_r', 'PuOr', 'PuOr_r', 'PuRd', 'PuRd_r', \n",
    "#              'Purples', 'Purples_r', 'RdBu', 'RdBu_r', 'RdGy', 'RdGy_r', 'RdPu', 'RdPu_r', \n",
    "#              'RdYlBu', 'RdYlBu_r', 'RdYlGn', 'RdYlGn_r', 'Reds', 'Reds_r', \n",
    "#              'Set1', 'Set1_r', 'Set2', 'Set2_r', 'Set3', 'Set3_r', \n",
    "#              'Spectral', 'Spectral_r', 'Wistia', 'Wistia_r', \n",
    "#              'YlGn', 'YlGnBu', 'YlGnBu_r', 'YlGn_r', 'YlOrBr', 'YlOrBr_r', 'YlOrRd', 'YlOrRd_r', \n",
    "#              'afmhot', 'afmhot_r', 'autumn', 'autumn_r', 'binary', 'binary_r', 'bone', 'bone_r', \n",
    "#              'brg', 'brg_r', 'bwr', 'bwr_r', 'cividis', 'cividis_r', 'cool', 'cool_r', \n",
    "#              'coolwarm', 'coolwarm_r', 'copper', 'copper_r', 'crest', 'crest_r', \n",
    "#              'cubehelix', 'cubehelix_r', 'flag', 'flag_r', 'flare', 'flare_r', \n",
    "#              'gist_earth', 'gist_earth_r', 'gist_gray', 'gist_gray_r', 'gist_heat', 'gist_heat_r', \n",
    "#              'gist_ncar', 'gist_ncar_r', 'gist_rainbow', 'gist_rainbow_r', 'gist_stern', \n",
    "#              'gist_stern_r', 'gist_yarg', 'gist_yarg_r', 'gnuplot', 'gnuplot2', 'gnuplot2_r', \n",
    "#              'gnuplot_r', 'gray', 'gray_r', 'hot', 'hot_r', 'hsv', 'hsv_r', 'icefire', 'icefire_r', \n",
    "#              'inferno', 'inferno_r', 'jet', 'jet_r', 'magma', 'magma_r', 'mako', 'mako_r', \n",
    "#              'nipy_spectral', 'nipy_spectral_r', 'ocean', 'ocean_r', 'pink', 'pink_r', 'plasma', \n",
    "#              'plasma_r', 'prism', 'prism_r', 'rainbow', 'rainbow_r', 'rocket', 'rocket_r', \n",
    "#              'seismic', 'seismic_r', 'spring', 'spring_r', 'summer', 'summer_r', 'tab10', \n",
    "#              'tab10_r', 'tab20', 'tab20_r', 'tab20b', 'tab20b_r', \n",
    "#              'tab20c', 'tab20c_r', 'terrain', 'terrain_r', 'turbo', 'turbo_r', \n",
    "#              'twilight', 'twilight_r', 'twilight_shifted', 'twilight_shifted_r', \n",
    "#              'viridis', 'viridis_r', 'vlag', 'vlag_r', 'winter', 'winter_r']"
   ]
  },
  {
   "cell_type": "markdown",
   "id": "5564a5ca",
   "metadata": {},
   "source": [
    "# Load DataSet and Data Dictionary"
   ]
  },
  {
   "cell_type": "code",
   "execution_count": 46,
   "id": "51e2b8c7",
   "metadata": {},
   "outputs": [
    {
     "data": {
      "text/html": [
       "<div>\n",
       "<style scoped>\n",
       "    .dataframe tbody tr th:only-of-type {\n",
       "        vertical-align: middle;\n",
       "    }\n",
       "\n",
       "    .dataframe tbody tr th {\n",
       "        vertical-align: top;\n",
       "    }\n",
       "\n",
       "    .dataframe thead th {\n",
       "        text-align: right;\n",
       "    }\n",
       "</style>\n",
       "<table border=\"1\" class=\"dataframe\">\n",
       "  <thead>\n",
       "    <tr style=\"text-align: right;\">\n",
       "      <th></th>\n",
       "      <th>name</th>\n",
       "      <th>type_company</th>\n",
       "      <th>lat</th>\n",
       "      <th>lon</th>\n",
       "      <th>city</th>\n",
       "      <th>avg_stars_num</th>\n",
       "      <th>n_reviews_num</th>\n",
       "      <th>encoded_user</th>\n",
       "      <th>local_guide</th>\n",
       "      <th>clean_other_review_num</th>\n",
       "      <th>published_date</th>\n",
       "      <th>today_date</th>\n",
       "      <th>stars_num</th>\n",
       "      <th>review_EN</th>\n",
       "      <th>original_lang</th>\n",
       "    </tr>\n",
       "  </thead>\n",
       "  <tbody>\n",
       "    <tr>\n",
       "      <th>0</th>\n",
       "      <td>Caretrex warehousing &amp; logistics</td>\n",
       "      <td>Logistics service</td>\n",
       "      <td>51.593721</td>\n",
       "      <td>5.073492</td>\n",
       "      <td>Tilburg</td>\n",
       "      <td>5.0</td>\n",
       "      <td>2.0</td>\n",
       "      <td>HHpDM</td>\n",
       "      <td>0.0</td>\n",
       "      <td>4.0</td>\n",
       "      <td>2 years ago</td>\n",
       "      <td>2022-09-24</td>\n",
       "      <td>5.0</td>\n",
       "      <td>NaN</td>\n",
       "      <td>NaN</td>\n",
       "    </tr>\n",
       "    <tr>\n",
       "      <th>1</th>\n",
       "      <td>Caretrex warehousing &amp; logistics</td>\n",
       "      <td>Logistics service</td>\n",
       "      <td>51.593721</td>\n",
       "      <td>5.073492</td>\n",
       "      <td>Tilburg</td>\n",
       "      <td>5.0</td>\n",
       "      <td>2.0</td>\n",
       "      <td>dYFWx</td>\n",
       "      <td>0.0</td>\n",
       "      <td>1.0</td>\n",
       "      <td>5 years ago</td>\n",
       "      <td>2022-09-24</td>\n",
       "      <td>5.0</td>\n",
       "      <td>NaN</td>\n",
       "      <td>NaN</td>\n",
       "    </tr>\n",
       "    <tr>\n",
       "      <th>2</th>\n",
       "      <td>FEFA Logistics</td>\n",
       "      <td>Trucking company</td>\n",
       "      <td>51.480074</td>\n",
       "      <td>5.446764</td>\n",
       "      <td>Eindhoven</td>\n",
       "      <td>NaN</td>\n",
       "      <td>NaN</td>\n",
       "      <td>NaN</td>\n",
       "      <td>NaN</td>\n",
       "      <td>NaN</td>\n",
       "      <td>NaN</td>\n",
       "      <td>NaN</td>\n",
       "      <td>NaN</td>\n",
       "      <td>NaN</td>\n",
       "      <td>NaN</td>\n",
       "    </tr>\n",
       "    <tr>\n",
       "      <th>3</th>\n",
       "      <td>Dekkers Transport Holland</td>\n",
       "      <td>Trucking company</td>\n",
       "      <td>51.597249</td>\n",
       "      <td>5.027990</td>\n",
       "      <td>Tilburg</td>\n",
       "      <td>4.6</td>\n",
       "      <td>53.0</td>\n",
       "      <td>Pp1)c</td>\n",
       "      <td>0.0</td>\n",
       "      <td>5.0</td>\n",
       "      <td>a year ago</td>\n",
       "      <td>2022-09-24</td>\n",
       "      <td>5.0</td>\n",
       "      <td>Best employer ever. Worked there for approxima...</td>\n",
       "      <td>ENG</td>\n",
       "    </tr>\n",
       "    <tr>\n",
       "      <th>4</th>\n",
       "      <td>Dekkers Transport Holland</td>\n",
       "      <td>Trucking company</td>\n",
       "      <td>51.597249</td>\n",
       "      <td>5.027990</td>\n",
       "      <td>Tilburg</td>\n",
       "      <td>4.6</td>\n",
       "      <td>53.0</td>\n",
       "      <td>*nk1l</td>\n",
       "      <td>0.0</td>\n",
       "      <td>2.0</td>\n",
       "      <td>a year ago</td>\n",
       "      <td>2022-09-24</td>\n",
       "      <td>5.0</td>\n",
       "      <td>better place with very good people everything ...</td>\n",
       "      <td>ENG</td>\n",
       "    </tr>\n",
       "  </tbody>\n",
       "</table>\n",
       "</div>"
      ],
      "text/plain": [
       "                               name       type_company        lat       lon  \\\n",
       "0  Caretrex warehousing & logistics  Logistics service  51.593721  5.073492   \n",
       "1  Caretrex warehousing & logistics  Logistics service  51.593721  5.073492   \n",
       "2                    FEFA Logistics   Trucking company  51.480074  5.446764   \n",
       "3         Dekkers Transport Holland   Trucking company  51.597249  5.027990   \n",
       "4         Dekkers Transport Holland   Trucking company  51.597249  5.027990   \n",
       "\n",
       "        city  avg_stars_num  n_reviews_num encoded_user  local_guide  \\\n",
       "0    Tilburg            5.0            2.0        HHpDM          0.0   \n",
       "1    Tilburg            5.0            2.0        dYFWx          0.0   \n",
       "2  Eindhoven            NaN            NaN          NaN          NaN   \n",
       "3    Tilburg            4.6           53.0        Pp1)c          0.0   \n",
       "4    Tilburg            4.6           53.0        *nk1l          0.0   \n",
       "\n",
       "   clean_other_review_num published_date  today_date  stars_num  \\\n",
       "0                     4.0    2 years ago  2022-09-24        5.0   \n",
       "1                     1.0    5 years ago  2022-09-24        5.0   \n",
       "2                     NaN            NaN         NaN        NaN   \n",
       "3                     5.0     a year ago  2022-09-24        5.0   \n",
       "4                     2.0     a year ago  2022-09-24        5.0   \n",
       "\n",
       "                                           review_EN original_lang  \n",
       "0                                                NaN           NaN  \n",
       "1                                                NaN           NaN  \n",
       "2                                                NaN           NaN  \n",
       "3  Best employer ever. Worked there for approxima...           ENG  \n",
       "4  better place with very good people everything ...           ENG  "
      ]
     },
     "execution_count": 46,
     "metadata": {},
     "output_type": "execute_result"
    }
   ],
   "source": [
    "# main_dir = \n",
    "Dataset_name = 'TechLabsDataset.csv' \n",
    "DataDictionary_name = 'TechLabsDataset_Dictionary.csv'\n",
    "\n",
    "Dataset = pd.read_csv(os.path.join('./Data/',Dataset_name), index_col = 0)\n",
    "DataDictionary = pd.read_csv(os.path.join('./Data/',DataDictionary_name), index_col = 0)\n",
    "Dataset.head()"
   ]
  },
  {
   "cell_type": "code",
   "execution_count": 47,
   "id": "0aeaec1f",
   "metadata": {},
   "outputs": [
    {
     "data": {
      "text/html": [
       "<div>\n",
       "<style scoped>\n",
       "    .dataframe tbody tr th:only-of-type {\n",
       "        vertical-align: middle;\n",
       "    }\n",
       "\n",
       "    .dataframe tbody tr th {\n",
       "        vertical-align: top;\n",
       "    }\n",
       "\n",
       "    .dataframe thead th {\n",
       "        text-align: right;\n",
       "    }\n",
       "</style>\n",
       "<table border=\"1\" class=\"dataframe\">\n",
       "  <thead>\n",
       "    <tr style=\"text-align: right;\">\n",
       "      <th></th>\n",
       "      <th>review_EN</th>\n",
       "    </tr>\n",
       "  </thead>\n",
       "  <tbody>\n",
       "    <tr>\n",
       "      <th>3</th>\n",
       "      <td>Best employer ever. Worked there for approxima...</td>\n",
       "    </tr>\n",
       "    <tr>\n",
       "      <th>4</th>\n",
       "      <td>better place with very good people everything ...</td>\n",
       "    </tr>\n",
       "    <tr>\n",
       "      <th>5</th>\n",
       "      <td>Nice</td>\n",
       "    </tr>\n",
       "    <tr>\n",
       "      <th>6</th>\n",
       "      <td>Good firm. The staff are very welcoming and f...</td>\n",
       "    </tr>\n",
       "    <tr>\n",
       "      <th>7</th>\n",
       "      <td>Top company, and coffee, so recommended\\n\\n</td>\n",
       "    </tr>\n",
       "  </tbody>\n",
       "</table>\n",
       "</div>"
      ],
      "text/plain": [
       "                                           review_EN\n",
       "3  Best employer ever. Worked there for approxima...\n",
       "4  better place with very good people everything ...\n",
       "5                                               Nice\n",
       "6   Good firm. The staff are very welcoming and f...\n",
       "7        Top company, and coffee, so recommended\\n\\n"
      ]
     },
     "execution_count": 47,
     "metadata": {},
     "output_type": "execute_result"
    }
   ],
   "source": [
    "review_df = pd.DataFrame(Dataset[~Dataset['review_EN'].isnull()]['review_EN'])\n",
    "review_df.head()\n"
   ]
  },
  {
   "cell_type": "code",
   "execution_count": 48,
   "id": "d5d8e532",
   "metadata": {},
   "outputs": [],
   "source": [
    "# find emo\n",
    "def find_emo(text):\n",
    "    # find emoji and add to list\n",
    "    all_emoji = demoji.findall(text)\n",
    "    emo = ''\n",
    "    if len(all_emoji)>0:\n",
    "        for i,j in enumerate(all_emoji):\n",
    "            # list emo\n",
    "            emo = emo+','+all_emoji[j]\n",
    "    return emo\n",
    "\n",
    "\n",
    "# replace emo with empty text\n",
    "def replace_emo(text):\n",
    "    # find emo and replce with empty text\n",
    "    all_emoji = demoji.findall(text)\n",
    "\n",
    "    if len(all_emoji)>0:\n",
    "        for i,j in enumerate(all_emoji):\n",
    "            text = text.replace(j,'')\n",
    "    return text"
   ]
  },
  {
   "cell_type": "code",
   "execution_count": 49,
   "id": "dc1f4fb3",
   "metadata": {},
   "outputs": [],
   "source": [
    "# add emo\n",
    "review_df['emo'] = review_df['review_EN'].apply(lambda x: find_emo(x))"
   ]
  },
  {
   "cell_type": "code",
   "execution_count": 50,
   "id": "267c7c4c",
   "metadata": {},
   "outputs": [
    {
     "data": {
      "text/html": [
       "<div>\n",
       "<style scoped>\n",
       "    .dataframe tbody tr th:only-of-type {\n",
       "        vertical-align: middle;\n",
       "    }\n",
       "\n",
       "    .dataframe tbody tr th {\n",
       "        vertical-align: top;\n",
       "    }\n",
       "\n",
       "    .dataframe thead th {\n",
       "        text-align: right;\n",
       "    }\n",
       "</style>\n",
       "<table border=\"1\" class=\"dataframe\">\n",
       "  <thead>\n",
       "    <tr style=\"text-align: right;\">\n",
       "      <th></th>\n",
       "      <th>review_EN</th>\n",
       "      <th>emo</th>\n",
       "    </tr>\n",
       "  </thead>\n",
       "  <tbody>\n",
       "    <tr>\n",
       "      <th>3</th>\n",
       "      <td>Best employer ever. Worked there for approxima...</td>\n",
       "      <td></td>\n",
       "    </tr>\n",
       "    <tr>\n",
       "      <th>4</th>\n",
       "      <td>better place with very good people everything ...</td>\n",
       "      <td></td>\n",
       "    </tr>\n",
       "    <tr>\n",
       "      <th>5</th>\n",
       "      <td>Nice</td>\n",
       "      <td></td>\n",
       "    </tr>\n",
       "    <tr>\n",
       "      <th>6</th>\n",
       "      <td>Good firm. The staff are very welcoming and f...</td>\n",
       "      <td></td>\n",
       "    </tr>\n",
       "    <tr>\n",
       "      <th>7</th>\n",
       "      <td>Top company, and coffee, so recommended\\n\\n</td>\n",
       "      <td></td>\n",
       "    </tr>\n",
       "  </tbody>\n",
       "</table>\n",
       "</div>"
      ],
      "text/plain": [
       "                                           review_EN emo\n",
       "3  Best employer ever. Worked there for approxima...    \n",
       "4  better place with very good people everything ...    \n",
       "5                                               Nice    \n",
       "6   Good firm. The staff are very welcoming and f...    \n",
       "7        Top company, and coffee, so recommended\\n\\n    "
      ]
     },
     "execution_count": 50,
     "metadata": {},
     "output_type": "execute_result"
    }
   ],
   "source": [
    "review_df.head()"
   ]
  },
  {
   "cell_type": "code",
   "execution_count": 51,
   "id": "59411bd2",
   "metadata": {},
   "outputs": [],
   "source": [
    "# add review with no emo\n",
    "review_df['review_no_emo'] = review_df['review_EN'].apply(lambda x: replace_emo(x))\n",
    "# review_df[review_df['emo']!=''][['review_no_emo','emo']]"
   ]
  },
  {
   "cell_type": "code",
   "execution_count": 52,
   "id": "984c3ba3",
   "metadata": {},
   "outputs": [
    {
     "data": {
      "text/html": [
       "<div>\n",
       "<style scoped>\n",
       "    .dataframe tbody tr th:only-of-type {\n",
       "        vertical-align: middle;\n",
       "    }\n",
       "\n",
       "    .dataframe tbody tr th {\n",
       "        vertical-align: top;\n",
       "    }\n",
       "\n",
       "    .dataframe thead th {\n",
       "        text-align: right;\n",
       "    }\n",
       "</style>\n",
       "<table border=\"1\" class=\"dataframe\">\n",
       "  <thead>\n",
       "    <tr style=\"text-align: right;\">\n",
       "      <th></th>\n",
       "      <th>review_EN</th>\n",
       "      <th>emo</th>\n",
       "      <th>review_no_emo</th>\n",
       "    </tr>\n",
       "  </thead>\n",
       "  <tbody>\n",
       "    <tr>\n",
       "      <th>3</th>\n",
       "      <td>Best employer ever. Worked there for approxima...</td>\n",
       "      <td></td>\n",
       "      <td>Best employer ever. Worked there for approxima...</td>\n",
       "    </tr>\n",
       "    <tr>\n",
       "      <th>4</th>\n",
       "      <td>better place with very good people everything ...</td>\n",
       "      <td></td>\n",
       "      <td>better place with very good people everything ...</td>\n",
       "    </tr>\n",
       "    <tr>\n",
       "      <th>5</th>\n",
       "      <td>Nice</td>\n",
       "      <td></td>\n",
       "      <td>Nice</td>\n",
       "    </tr>\n",
       "    <tr>\n",
       "      <th>6</th>\n",
       "      <td>Good firm. The staff are very welcoming and f...</td>\n",
       "      <td></td>\n",
       "      <td>Good firm. The staff are very welcoming and f...</td>\n",
       "    </tr>\n",
       "    <tr>\n",
       "      <th>7</th>\n",
       "      <td>Top company, and coffee, so recommended\\n\\n</td>\n",
       "      <td></td>\n",
       "      <td>Top company, and coffee, so recommended\\n\\n</td>\n",
       "    </tr>\n",
       "  </tbody>\n",
       "</table>\n",
       "</div>"
      ],
      "text/plain": [
       "                                           review_EN emo  \\\n",
       "3  Best employer ever. Worked there for approxima...       \n",
       "4  better place with very good people everything ...       \n",
       "5                                               Nice       \n",
       "6   Good firm. The staff are very welcoming and f...       \n",
       "7        Top company, and coffee, so recommended\\n\\n       \n",
       "\n",
       "                                       review_no_emo  \n",
       "3  Best employer ever. Worked there for approxima...  \n",
       "4  better place with very good people everything ...  \n",
       "5                                               Nice  \n",
       "6   Good firm. The staff are very welcoming and f...  \n",
       "7        Top company, and coffee, so recommended\\n\\n  "
      ]
     },
     "execution_count": 52,
     "metadata": {},
     "output_type": "execute_result"
    }
   ],
   "source": [
    "review_df.head()"
   ]
  },
  {
   "cell_type": "markdown",
   "id": "17427550",
   "metadata": {},
   "source": [
    "# NLP pre-processing on review_df['review_no_emo']\n"
   ]
  },
  {
   "cell_type": "code",
   "execution_count": 53,
   "id": "510f0781",
   "metadata": {},
   "outputs": [],
   "source": [
    "# get clean lemmas\n",
    "def get_clean_lemma(text):  \n",
    "    text = [token.lemma_ for token in nlp(text.lower()) if\n",
    "                  not token.is_punct\n",
    "                  and not token.is_currency\n",
    "                  and not token.is_digit\n",
    "                  and not token.is_punct\n",
    "    #               and not token.is_oov# is out of vocabulary\n",
    "                  and not token.is_space\n",
    "                  and not token.is_stop\n",
    "                  and not token.like_num\n",
    "                  and not token.pos_ in ['SYM','SPACE',#'ADJ',\n",
    "                                         'SCONJ','PUNCT', 'X', 'ADP',\n",
    "                                         'AUX','CCONJ','DET','INTJ',\n",
    "                                         'NUM','PART','PRON']\n",
    "                          ]\n",
    "    return text\n",
    "\n",
    "\n"
   ]
  },
  {
   "cell_type": "code",
   "execution_count": 54,
   "id": "1fab2921",
   "metadata": {},
   "outputs": [],
   "source": [
    "\n",
    "# check attribute of token in spacy: https://spacy.io/api/token\n",
    "\n",
    "# list of stop words in spacy\n",
    "# spacy_stopwords = spacy.lang.en.stop_words.STOP_WORDS\n",
    "# print('Number of stop words: %d' % len(spacy_stopwords))\n",
    "# print('First ten stop words: %s' % list(spacy_stopwords))\n",
    "\n",
    "nlp = spacy.load(\"en_core_web_sm\")\n",
    "\n",
    "review_df['text_lemmas'] = review_df['review_no_emo'].apply(lambda x: get_clean_lemma(x))\n"
   ]
  },
  {
   "cell_type": "code",
   "execution_count": 55,
   "id": "96b2f854",
   "metadata": {},
   "outputs": [
    {
     "data": {
      "text/html": [
       "<div>\n",
       "<style scoped>\n",
       "    .dataframe tbody tr th:only-of-type {\n",
       "        vertical-align: middle;\n",
       "    }\n",
       "\n",
       "    .dataframe tbody tr th {\n",
       "        vertical-align: top;\n",
       "    }\n",
       "\n",
       "    .dataframe thead th {\n",
       "        text-align: right;\n",
       "    }\n",
       "</style>\n",
       "<table border=\"1\" class=\"dataframe\">\n",
       "  <thead>\n",
       "    <tr style=\"text-align: right;\">\n",
       "      <th></th>\n",
       "      <th>review_EN</th>\n",
       "      <th>emo</th>\n",
       "      <th>review_no_emo</th>\n",
       "      <th>text_lemmas</th>\n",
       "    </tr>\n",
       "  </thead>\n",
       "  <tbody>\n",
       "    <tr>\n",
       "      <th>3</th>\n",
       "      <td>Best employer ever. Worked there for approxima...</td>\n",
       "      <td></td>\n",
       "      <td>Best employer ever. Worked there for approxima...</td>\n",
       "      <td>[good, employer, work, approximately, year, ti...</td>\n",
       "    </tr>\n",
       "    <tr>\n",
       "      <th>4</th>\n",
       "      <td>better place with very good people everything ...</td>\n",
       "      <td></td>\n",
       "      <td>better place with very good people everything ...</td>\n",
       "      <td>[well, place, good, people, perfect]</td>\n",
       "    </tr>\n",
       "    <tr>\n",
       "      <th>5</th>\n",
       "      <td>Nice</td>\n",
       "      <td></td>\n",
       "      <td>Nice</td>\n",
       "      <td>[nice]</td>\n",
       "    </tr>\n",
       "    <tr>\n",
       "      <th>6</th>\n",
       "      <td>Good firm. The staff are very welcoming and f...</td>\n",
       "      <td></td>\n",
       "      <td>Good firm. The staff are very welcoming and f...</td>\n",
       "      <td>[good, firm, staff, welcoming, friendly, thank...</td>\n",
       "    </tr>\n",
       "    <tr>\n",
       "      <th>7</th>\n",
       "      <td>Top company, and coffee, so recommended\\n\\n</td>\n",
       "      <td></td>\n",
       "      <td>Top company, and coffee, so recommended\\n\\n</td>\n",
       "      <td>[company, coffee, recommend]</td>\n",
       "    </tr>\n",
       "  </tbody>\n",
       "</table>\n",
       "</div>"
      ],
      "text/plain": [
       "                                           review_EN emo  \\\n",
       "3  Best employer ever. Worked there for approxima...       \n",
       "4  better place with very good people everything ...       \n",
       "5                                               Nice       \n",
       "6   Good firm. The staff are very welcoming and f...       \n",
       "7        Top company, and coffee, so recommended\\n\\n       \n",
       "\n",
       "                                       review_no_emo  \\\n",
       "3  Best employer ever. Worked there for approxima...   \n",
       "4  better place with very good people everything ...   \n",
       "5                                               Nice   \n",
       "6   Good firm. The staff are very welcoming and f...   \n",
       "7        Top company, and coffee, so recommended\\n\\n   \n",
       "\n",
       "                                         text_lemmas  \n",
       "3  [good, employer, work, approximately, year, ti...  \n",
       "4               [well, place, good, people, perfect]  \n",
       "5                                             [nice]  \n",
       "6  [good, firm, staff, welcoming, friendly, thank...  \n",
       "7                       [company, coffee, recommend]  "
      ]
     },
     "execution_count": 55,
     "metadata": {},
     "output_type": "execute_result"
    }
   ],
   "source": [
    "review_df.head()"
   ]
  },
  {
   "cell_type": "code",
   "execution_count": 56,
   "id": "f4778309",
   "metadata": {},
   "outputs": [],
   "source": [
    "\n",
    "concatenate_all_tokens = sum(review_df['text_lemmas'].tolist(),[])\n",
    "from collections import Counter\n",
    "\n",
    "\n",
    "word_counts = Counter(concatenate_all_tokens)\n"
   ]
  },
  {
   "cell_type": "code",
   "execution_count": 57,
   "id": "735c36a6",
   "metadata": {},
   "outputs": [],
   "source": [
    "word_counts_df = pd.DataFrame.from_dict(word_counts, orient='index').reset_index()\n",
    "word_counts_df.columns = ['word','#']\n",
    "word_counts_df.sort_values('#',ascending = False, inplace = True)\n"
   ]
  },
  {
   "cell_type": "code",
   "execution_count": 58,
   "id": "3e3f46ba",
   "metadata": {},
   "outputs": [
    {
     "data": {
      "text/html": [
       "<div>\n",
       "<style scoped>\n",
       "    .dataframe tbody tr th:only-of-type {\n",
       "        vertical-align: middle;\n",
       "    }\n",
       "\n",
       "    .dataframe tbody tr th {\n",
       "        vertical-align: top;\n",
       "    }\n",
       "\n",
       "    .dataframe thead th {\n",
       "        text-align: right;\n",
       "    }\n",
       "</style>\n",
       "<table border=\"1\" class=\"dataframe\">\n",
       "  <thead>\n",
       "    <tr style=\"text-align: right;\">\n",
       "      <th></th>\n",
       "      <th>word</th>\n",
       "      <th>#</th>\n",
       "    </tr>\n",
       "  </thead>\n",
       "  <tbody>\n",
       "    <tr>\n",
       "      <th>32</th>\n",
       "      <td>company</td>\n",
       "      <td>769</td>\n",
       "    </tr>\n",
       "    <tr>\n",
       "      <th>0</th>\n",
       "      <td>good</td>\n",
       "      <td>582</td>\n",
       "    </tr>\n",
       "    <tr>\n",
       "      <th>5</th>\n",
       "      <td>time</td>\n",
       "      <td>529</td>\n",
       "    </tr>\n",
       "    <tr>\n",
       "      <th>93</th>\n",
       "      <td>delivery</td>\n",
       "      <td>482</td>\n",
       "    </tr>\n",
       "    <tr>\n",
       "      <th>70</th>\n",
       "      <td>driver</td>\n",
       "      <td>430</td>\n",
       "    </tr>\n",
       "    <tr>\n",
       "      <th>...</th>\n",
       "      <td>...</td>\n",
       "      <td>...</td>\n",
       "    </tr>\n",
       "    <tr>\n",
       "      <th>2123</th>\n",
       "      <td>portable</td>\n",
       "      <td>1</td>\n",
       "    </tr>\n",
       "    <tr>\n",
       "      <th>2120</th>\n",
       "      <td>cycle</td>\n",
       "      <td>1</td>\n",
       "    </tr>\n",
       "    <tr>\n",
       "      <th>2118</th>\n",
       "      <td>requirement</td>\n",
       "      <td>1</td>\n",
       "    </tr>\n",
       "    <tr>\n",
       "      <th>2113</th>\n",
       "      <td>transportcompany</td>\n",
       "      <td>1</td>\n",
       "    </tr>\n",
       "    <tr>\n",
       "      <th>3668</th>\n",
       "      <td>unique</td>\n",
       "      <td>1</td>\n",
       "    </tr>\n",
       "  </tbody>\n",
       "</table>\n",
       "<p>3669 rows × 2 columns</p>\n",
       "</div>"
      ],
      "text/plain": [
       "                  word    #\n",
       "32             company  769\n",
       "0                 good  582\n",
       "5                 time  529\n",
       "93            delivery  482\n",
       "70              driver  430\n",
       "...                ...  ...\n",
       "2123          portable    1\n",
       "2120             cycle    1\n",
       "2118       requirement    1\n",
       "2113  transportcompany    1\n",
       "3668            unique    1\n",
       "\n",
       "[3669 rows x 2 columns]"
      ]
     },
     "execution_count": 58,
     "metadata": {},
     "output_type": "execute_result"
    }
   ],
   "source": [
    "word_counts_df"
   ]
  },
  {
   "cell_type": "code",
   "execution_count": 59,
   "id": "0438fcb2",
   "metadata": {},
   "outputs": [],
   "source": [
    "word_counts_df['tag'] = word_counts_df['word'].apply(lambda x: nlp(x)[0].pos_)"
   ]
  },
  {
   "cell_type": "code",
   "execution_count": 60,
   "id": "619d535b",
   "metadata": {},
   "outputs": [],
   "source": [
    "word_counts_df = word_counts_df[~word_counts_df['tag'].isin(['SYM','SPACE',#'ADJ',\n",
    "                                         'SCONJ','PUNCT', 'X', 'ADP',\n",
    "                                         'AUX','CCONJ','DET','INTJ',\n",
    "                                         'NUM','PART','PRON','PROPN'])]\n",
    "\n"
   ]
  },
  {
   "cell_type": "code",
   "execution_count": 61,
   "id": "3616d059",
   "metadata": {},
   "outputs": [
    {
     "name": "stdout",
     "output_type": "stream",
     "text": [
      "['ADJ' 'ADV' 'NOUN' 'VERB']\n"
     ]
    }
   ],
   "source": [
    "print(np.unique(word_counts_df['tag']))\n"
   ]
  },
  {
   "cell_type": "code",
   "execution_count": 239,
   "id": "dff1a151",
   "metadata": {},
   "outputs": [],
   "source": [
    "freq_thr = 100\n",
    "most_freq_df = pd.DataFrame([])\n",
    "\n",
    "for i in np.unique(word_counts_df['tag']):\n",
    "    most_freq_df = pd.concat([most_freq_df,\n",
    "                               word_counts_df[(word_counts_df['tag']==i) & (word_counts_df['#']>=freq_thr)]],\n",
    "                             axis = 0)\n"
   ]
  },
  {
   "cell_type": "code",
   "execution_count": 240,
   "id": "39a16f0c",
   "metadata": {},
   "outputs": [
    {
     "data": {
      "text/plain": [
       "(44, 3)"
      ]
     },
     "execution_count": 240,
     "metadata": {},
     "output_type": "execute_result"
    }
   ],
   "source": [
    "most_freq_df.shape"
   ]
  },
  {
   "cell_type": "code",
   "execution_count": null,
   "id": "78654ba6",
   "metadata": {},
   "outputs": [],
   "source": []
  },
  {
   "cell_type": "code",
   "execution_count": 241,
   "id": "8947a102",
   "metadata": {},
   "outputs": [],
   "source": [
    "\n",
    "remove =['spreuwel','mediamarkt','hornbach','netherlands','english',\n",
    "         'nl','eindhoven','germany','deliverer','quantum','ea','logistic',\n",
    "         'company','pm','p.m.','am','a.m.','work']\n",
    "most_freq_df = most_freq_df[~most_freq_df['word'].isin(remove)]\n",
    "most_freq_df.loc[most_freq_df['word']=='cmr','tag'] = 'NOUN'"
   ]
  },
  {
   "cell_type": "code",
   "execution_count": 242,
   "id": "418c23d0",
   "metadata": {},
   "outputs": [
    {
     "data": {
      "text/html": [
       "<div>\n",
       "<style scoped>\n",
       "    .dataframe tbody tr th:only-of-type {\n",
       "        vertical-align: middle;\n",
       "    }\n",
       "\n",
       "    .dataframe tbody tr th {\n",
       "        vertical-align: top;\n",
       "    }\n",
       "\n",
       "    .dataframe thead th {\n",
       "        text-align: right;\n",
       "    }\n",
       "</style>\n",
       "<table border=\"1\" class=\"dataframe\">\n",
       "  <thead>\n",
       "    <tr style=\"text-align: right;\">\n",
       "      <th></th>\n",
       "      <th>word</th>\n",
       "      <th>#</th>\n",
       "      <th>tag</th>\n",
       "    </tr>\n",
       "  </thead>\n",
       "  <tbody>\n",
       "  </tbody>\n",
       "</table>\n",
       "</div>"
      ],
      "text/plain": [
       "Empty DataFrame\n",
       "Columns: [word, #, tag]\n",
       "Index: []"
      ]
     },
     "execution_count": 242,
     "metadata": {},
     "output_type": "execute_result"
    }
   ],
   "source": [
    "most_freq_df.loc[most_freq_df['word']=='cmr']"
   ]
  },
  {
   "cell_type": "code",
   "execution_count": 243,
   "id": "d5f0f109",
   "metadata": {},
   "outputs": [
    {
     "data": {
      "text/plain": [
       "41"
      ]
     },
     "execution_count": 243,
     "metadata": {},
     "output_type": "execute_result"
    }
   ],
   "source": [
    "most_freq_df['tag'].value_counts().sum()"
   ]
  },
  {
   "cell_type": "code",
   "execution_count": 244,
   "id": "374b8c56",
   "metadata": {},
   "outputs": [],
   "source": [
    "agg_words_df = pd.DataFrame([])\n",
    "for i in np.unique(most_freq_df['tag']):\n",
    "    aggre_df = pd.DataFrame(most_freq_df[most_freq_df['tag']==i].groupby('#')['word'].apply(list))\n",
    "    aggre_df['#'] = np.unique(most_freq_df[most_freq_df['tag']==i]['#'])\n",
    "    aggre_df['tag'] = i\n",
    "    agg_words_df = pd.concat([agg_words_df,aggre_df], axis= 0)\n",
    "    "
   ]
  },
  {
   "cell_type": "code",
   "execution_count": 245,
   "id": "e7e5f28c",
   "metadata": {},
   "outputs": [],
   "source": [
    "\n",
    "agg_words_df['word_list'] = agg_words_df['word'].apply(lambda x: ', '.join(map(str,x)))\n"
   ]
  },
  {
   "cell_type": "code",
   "execution_count": 246,
   "id": "aa8bfb7c",
   "metadata": {},
   "outputs": [
    {
     "data": {
      "text/plain": [
       "NOUN    19\n",
       "VERB    11\n",
       "ADJ      7\n",
       "ADV      4\n",
       "Name: tag, dtype: int64"
      ]
     },
     "execution_count": 246,
     "metadata": {},
     "output_type": "execute_result"
    }
   ],
   "source": [
    "agg_words_df['tag'].value_counts()\n"
   ]
  },
  {
   "cell_type": "code",
   "execution_count": 247,
   "id": "8e0cc99a",
   "metadata": {},
   "outputs": [],
   "source": [
    "# https://stackabuse.com/python-for-nlp-tokenization-stemming-and-lemmatization-with-spacy-library/"
   ]
  },
  {
   "cell_type": "code",
   "execution_count": 248,
   "id": "f66d6d0b",
   "metadata": {},
   "outputs": [
    {
     "data": {
      "image/png": "[encoded data removed]",
      "text/plain": [
       "<Figure size 432x288 with 1 Axes>"
      ]
     },
     "metadata": {},
     "output_type": "display_data"
    }
   ],
   "source": [
    "# define Seaborn color palette to use\n",
    "data = agg_words_df[agg_words_df['tag']=='NOUN']['#'].tolist()\n",
    "keys = agg_words_df[agg_words_df['tag']=='NOUN']['word_list'].tolist()\n",
    "\n",
    "\n",
    "palette_color = sns.color_palette('bright')\n",
    "  \n",
    "# plotting data on chart\n",
    "plt.pie(data, labels=keys, colors=palette_color, autopct='%.0f%%')\n",
    "  \n",
    "# displaying chart\n",
    "plt.show()"
   ]
  },
  {
   "cell_type": "code",
   "execution_count": 249,
   "id": "63409c37",
   "metadata": {},
   "outputs": [
    {
     "data": {
      "image/png": "[encoded data removed]",
      "text/plain": [
       "<Figure size 432x288 with 1 Axes>"
      ]
     },
     "metadata": {},
     "output_type": "display_data"
    }
   ],
   "source": [
    "# define Seaborn color palette to use\n",
    "data = agg_words_df[agg_words_df['tag']=='VERB']['#'].tolist()\n",
    "keys = agg_words_df[agg_words_df['tag']=='VERB']['word_list'].tolist()\n",
    "\n",
    "\n",
    "palette_color = sns.color_palette('bright')\n",
    "  \n",
    "# plotting data on chart\n",
    "plt.pie(data, labels=keys, colors=palette_color, autopct='%.0f%%',textprops={'fontsize': 8})\n",
    "  \n",
    "# displaying chart\n",
    "plt.show()"
   ]
  },
  {
   "cell_type": "code",
   "execution_count": 250,
   "id": "d5c8e5ba",
   "metadata": {},
   "outputs": [
    {
     "data": {
      "image/png": "[encoded data removed]",
      "text/plain": [
       "<Figure size 432x288 with 1 Axes>"
      ]
     },
     "metadata": {},
     "output_type": "display_data"
    }
   ],
   "source": [
    "# define Seaborn color palette to use\n",
    "data = agg_words_df[agg_words_df['tag']=='ADV']['#'].tolist()\n",
    "keys = agg_words_df[agg_words_df['tag']=='ADV']['word_list'].tolist()\n",
    "\n",
    "\n",
    "palette_color = sns.color_palette('bright')\n",
    "  \n",
    "# plotting data on chart\n",
    "plt.pie(data, labels=keys, colors=palette_color, autopct='%.0f%%',textprops={'fontsize': 8})\n",
    "  \n",
    "# displaying chart\n",
    "plt.show()"
   ]
  },
  {
   "cell_type": "code",
   "execution_count": 251,
   "id": "4cf4c0df",
   "metadata": {},
   "outputs": [
    {
     "name": "stderr",
     "output_type": "stream",
     "text": [
      "/Users/giu/opt/anaconda3/envs/TOMlogistics/lib/python3.9/site-packages/seaborn/categorical.py:3808: UserWarning:\n",
      "\n",
      "Setting `sharey=False` with `color=None` may cause different levels of the `y` variable to share colors. This will change in a future version.\n",
      "\n"
     ]
    },
    {
     "data": {
      "text/plain": [
       "<seaborn.axisgrid.FacetGrid at 0x7ffd9fea5d00>"
      ]
     },
     "execution_count": 251,
     "metadata": {},
     "output_type": "execute_result"
    },
    {
     "data": {
      "image/png": "[encoded data removed]",
      "text/plain": [
       "<Figure size 720x720 with 4 Axes>"
      ]
     },
     "metadata": {
      "needs_background": "light"
     },
     "output_type": "display_data"
    }
   ],
   "source": [
    "sns.catplot(\n",
    "    data=agg_words_df, y=\"word_list\", x=\"#\", col=\"tag\",col_wrap=2,\n",
    "    kind=\"bar\",sharey=False\n",
    ")"
   ]
  },
  {
   "cell_type": "code",
   "execution_count": 252,
   "id": "a23a537a",
   "metadata": {},
   "outputs": [
    {
     "data": {
      "text/plain": [
       "(-0.5, 399.5, 199.5, -0.5)"
      ]
     },
     "execution_count": 252,
     "metadata": {},
     "output_type": "execute_result"
    },
    {
     "data": {
      "image/png": "[encoded data removed]",
      "text/plain": [
       "<Figure size 360x576 with 1 Axes>"
      ]
     },
     "metadata": {
      "needs_background": "light"
     },
     "output_type": "display_data"
    }
   ],
   "source": [
    "most_freq_df.head()\n",
    "freq_dict={}\n",
    "N_words = most_freq_df.shape[0]\n",
    "for i in np.arange(N_words):\n",
    "    freq_dict[most_freq_df['word'].iloc[i]]=most_freq_df['#'].iloc[i]\n",
    "    \n",
    "wc_img = WordCloud(background_color=None,#collocation_threshold=80,mask=wave_mask,\n",
    "               contour_color='white',max_words=N_words,min_word_length=3,\n",
    "               mode =\"RGBA\",collocations=False,repeat=True)#max_font_size = 40,\n",
    "#print(txt_to_use.tolist())\n",
    "wc_img = wc_img.generate_from_frequencies(frequencies=freq_dict)\n",
    "\n",
    "fig,ax =plt.subplots(figsize=(5,8))\n",
    "ax.imshow(wc_img, interpolation='bilinear')\n",
    "ax.axis(\"off\")"
   ]
  },
  {
   "cell_type": "code",
   "execution_count": 253,
   "id": "b4dd473a",
   "metadata": {},
   "outputs": [],
   "source": [
    "def get_rgb_color_list(color_palette,n_colors):\n",
    "    \"\"\"\n",
    "        generate a list of rgb color from color_palette\n",
    "    \n",
    "    \n",
    "    inputs: color_palette,string e.g.'Grays'\n",
    "            n_colors,integer indicating how many colors should be generates\n",
    "    \n",
    "    outputs:\n",
    "            color_list_rgb,list containing color stings e.g. [(255,255,129),(243,198,244),..]\n",
    "            \"\"\"\n",
    "    color_list = sns.color_palette(palette=color_palette, n_colors=n_colors)\n",
    "    color_list=color_list.as_hex()\n",
    "    color_list_rgb =list()\n",
    "    for h in color_list:\n",
    "        color_list_rgb.append(ImageColor.getcolor(h, \"RGB\"))\n",
    "    #color_list_rgb.append([(0,0,0)])\n",
    "    return color_list_rgb\n",
    "\n",
    "def change_image_color(wave_mask,color_rgb,opacity):\n",
    "    \"\"\"\n",
    "        filter colors in image mask and change opacity\n",
    "    \n",
    "    \n",
    "    inputs: wave_mask,matrix (n,m,4)containing colors in rgba\n",
    "            color_rgb,color in rgb e.g.(0,0,0)\n",
    "            pltsize,[width,height] e.g.[400,600] \n",
    "            opacity,float between 0 and 1\n",
    "    outputs:\n",
    "            wave_mask,matrix (n,m,4)containing colors in rgba of the image mask\n",
    "            \"\"\"\n",
    "    red,green,blue,alpha=wave_mask.T\n",
    "    white_areas=(red>128)&(blue>128)&(green>128)\n",
    "    wave_mask[...,:][white_areas.T]=(255,255,255,255)\n",
    "    red,green,blue,alpha=wave_mask.T\n",
    "    white_areas=(red<128)&(blue<128)&(green<128)\n",
    "    wave_mask[...,:][white_areas.T]=color_rgb+(int(225*opacity),)\n",
    "    return wave_mask\n",
    "\n",
    "def plot_wordscloud(image_path,tags,color_mask,pltsize,opacity,colormap_text):\n",
    "    \"\"\"\n",
    "        generate wordscloud visualization compatible with plotly\n",
    "    \n",
    "    \n",
    "    inputs:\n",
    "            image_path, string indicating the path of the image mask to load\n",
    "            tags, dataframe with 'word' and count'#'\n",
    "            color_mask,rgb e.g.(0,0,0)\n",
    "            pltsize,[width,height] e.g.[400,600] \n",
    "            opacity,float between 0 and 1\n",
    "    outputs:\n",
    "            wc_img,image of wordscloud not suitable for plotly -to be used for verification\n",
    "            fig, figure handle suitable for plotly\n",
    "            wave_mask,matrix (n,m,4)containing colors in rgba of the image mask\n",
    "            \"\"\"\n",
    "\n",
    "    \n",
    "    # generate a mask with the input picture\n",
    "    wave_mask = np.array(Image.open(image_path).convert('RGBA'))\n",
    "\n",
    "    #wave_mask=np.insert(wave_mask,1,opacity*np.ones((wave_mask.shape[0],wave_mask.shape[1])),2)\n",
    "    wave_mask=change_image_color(wave_mask,color_mask,opacity)\n",
    "    freq_dict={}\n",
    "    N_words = tags.shape[0]\n",
    "    for i in np.arange(N_words):\n",
    "        freq_dict[tags['word'].iloc[i]]=tags['#'].iloc[i]\n",
    "\n",
    "    \n",
    "    \n",
    "    #generate wordcloud from package\n",
    "    \n",
    "    wc_img = WordCloud(mask=wave_mask,background_color=None,#collocation_threshold=80,\n",
    "                   contour_color='black',max_words=N_words,#min_word_length=3,\n",
    "                   mode =\"RGBA\",repeat=False,colormap = colormap_text)#,max_font_size = 80)#max_font_size = 40,\n",
    "    #print(txt_to_use.tolist())\n",
    "    wc_img = wc_img.generate_from_frequencies(frequencies=freq_dict)\n",
    "    \n",
    "    \n",
    "#    fig,ax =plt.subplots(figsize=(5,8))\n",
    "#    ax.imshow(wc_img, interpolation='bilinear')\n",
    "#    ax.axis(\"off\")\n",
    "\n",
    "    # string, font size, position, orientation and color.\n",
    "    # get wc layout\n",
    "    var_str =[wc_img.layout_[i][0][0] for i in np.arange(len(wc_img.layout_))]#string\n",
    "\n",
    "    var_freq =[wc_img.layout_[i][0][1] for i in np.arange(len(wc_img.layout_))]#frequency\n",
    "    var_size =[wc_img.layout_[i][1] for i in np.arange(len(wc_img.layout_))]#size\n",
    "    var_position =np.asarray([[wc_img.layout_[i][2][0],wc_img.layout_[i][2][1]] for i in np.arange(len(wc_img.layout_))])#position\n",
    "    var_position[:,0]=var_position[:,0]#-0.2*var_position[:,0]#-0.8*np.mean(var_position[:,0])\n",
    "    var_position[:,1]=var_position[:,1]#-0.2*var_position[:,1]#-0.8*np.mean(var_position[:,1])\n",
    "    var_oriet =[wc_img.layout_[i][3] for i in np.arange(len(wc_img.layout_))]#orientation\n",
    "    var_color =[wc_img.layout_[i][4] for i in np.arange(len(wc_img.layout_))]#color\n",
    "    \n",
    "    all_wc=pd.DataFrame([var_str,var_freq,var_size,var_position[:,0],var_position[:,1],var_oriet,var_color]).T\n",
    "    all_wc.columns=['var_str','var_freq','var_size','var_x','var_y','var_oriet','var_color']\n",
    "    \n",
    "    # split words per orienation\n",
    "    idx_or1= np.where(np.asarray(var_oriet)==2)[0]# vertical words\n",
    "    idx_or2= np.where(np.asarray(var_oriet)==None)[0]#orizontal words\n",
    "\n",
    "\n",
    "    layout = go.Layout({'xaxis': {'showgrid': False, 'showticklabels': False, 'zeroline': False},\n",
    "                        'yaxis': {'showgrid': False, 'showticklabels': False, 'zeroline': False}})\n",
    "    #generate wordcloud compatible with plotly\n",
    "    \n",
    "    fig = go.Figure(layout = layout,data =px.imshow(wave_mask))#, \n",
    "    fig.update_traces(hoverinfo='none', hovertemplate='')\n",
    "    #add annotation of vertical text\n",
    "    for i in idx_or1:\n",
    "        fig.add_annotation(y=np.asarray(var_position)[i,0],\n",
    "             x=np.asarray(var_position)[i,1],\n",
    "             text=np.asarray(var_str)[i],\n",
    "             textangle=90,\n",
    "             showarrow=False,\n",
    "             xanchor=\"left\",\n",
    "             yanchor=\"top\",\n",
    "             #clicktoshow='onout',\n",
    "             #captureevents=True,\n",
    "             hovertext='# '+str(tags['#'].loc[tags['word']==np.asarray(var_str)[i]].values[0]),\n",
    "                           font=dict(\n",
    "                    color=np.asarray(var_color)[i],\n",
    "                    size=np.asarray(var_size)[i]+5,\n",
    "                    family='Droid Sans Mono',\n",
    "                    \n",
    "                ))\n",
    "    #add annotation of horizontal text\n",
    "    for i in idx_or2:    \n",
    "        #print(np.asarray(var_str)[i])\n",
    "        fig.add_annotation(y=np.asarray(var_position)[i,0],\n",
    "             x=np.asarray(var_position)[i,1],\n",
    "             text=np.asarray(var_str)[i],\n",
    "             textangle=0,\n",
    "             showarrow=False,\n",
    "             xanchor=\"left\",\n",
    "             yanchor=\"top\",\n",
    "             hovertext='# '+str(tags['#'].loc[tags['word']==np.asarray(var_str)[i]].values[0]),\n",
    "             font=dict(\n",
    "                    color=np.asarray(var_color)[i],\n",
    "                    size=np.asarray(var_size)[i]+5,\n",
    "                    family='Droid Sans Mono'\n",
    "                ))\n",
    "    \n",
    "#     fig.update_traces(textposition='inside')\n",
    "    fig.update_yaxes(autorange=\"reversed\")\n",
    "    fig.update_xaxes(visible=False)\n",
    "    fig.update_yaxes(visible=False)\n",
    "    fig.update_layout(\n",
    "        paper_bgcolor='rgb(255,255,255)',\n",
    "        plot_bgcolor='rgb(255,255,255)', \n",
    "        width=pltsize[0],\n",
    "        height=pltsize[1],\n",
    "        margin=dict(l=1, r=1, t=1, b=1)\n",
    "        )\n",
    "    fig.update_layout(clickmode='select')\n",
    "\n",
    "    \n",
    "    return(wc_img,fig,wave_mask)\n"
   ]
  },
  {
   "cell_type": "code",
   "execution_count": 224,
   "id": "46b972f0",
   "metadata": {},
   "outputs": [
    {
     "data": {
      "application/vnd.plotly.v1+json": {
       "config": {
        "plotlyServerURL": "https://plot.ly"
       },
       "data": [
        {
         "hoverinfo": "none",
         "hovertemplate": "",
         "name": "0",
         "source": "data:image/png;base64,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",
         "type": "image",
         "xaxis": "x",
         "yaxis": "y"
        }
       ],
       "layout": {
        "annotations": [
         {
          "font": {
           "color": "rgb(245, 245, 245)",
           "family": "Droid Sans Mono",
           "size": 51
          },
          "hovertext": "# 378",
          "showarrow": false,
          "text": "fast",
          "textangle": 0,
          "x": 96,
          "xanchor": "left",
          "y": 39,
          "yanchor": "top"
         },
         {
          "font": {
           "color": "rgb(5, 5, 5)",
           "family": "Droid Sans Mono",
           "size": 39
          },
          "hovertext": "# 197",
          "showarrow": false,
          "text": "quickly",
          "textangle": 0,
          "x": 108,
          "xanchor": "left",
          "y": 80,
          "yanchor": "top"
         },
         {
          "font": {
           "color": "rgb(141, 141, 141)",
           "family": "Droid Sans Mono",
           "size": 34
          },
          "hovertext": "# 152",
          "showarrow": false,
          "text": "long",
          "textangle": 0,
          "x": 98,
          "xanchor": "left",
          "y": 131,
          "yanchor": "top"
         },
         {
          "font": {
           "color": "rgb(237, 237, 237)",
           "family": "Droid Sans Mono",
           "size": 28
          },
          "hovertext": "# 146",
          "showarrow": false,
          "text": "super",
          "textangle": 0,
          "x": 138,
          "xanchor": "left",
          "y": 12,
          "yanchor": "top"
         }
        ],
        "clickmode": "select",
        "height": 500,
        "margin": {
         "b": 1,
         "l": 1,
         "r": 1,
         "t": 1
        },
        "paper_bgcolor": "rgb(255,255,255)",
        "plot_bgcolor": "rgb(255,255,255)",
        "template": {
         "data": {
          "bar": [
           {
            "error_x": {
             "color": "#2a3f5f"
            },
            "error_y": {
             "color": "#2a3f5f"
            },
            "marker": {
             "line": {
              "color": "#E5ECF6",
              "width": 0.5
             },
             "pattern": {
              "fillmode": "overlay",
              "size": 10,
              "solidity": 0.2
             }
            },
            "type": "bar"
           }
          ],
          "barpolar": [
           {
            "marker": {
             "line": {
              "color": "#E5ECF6",
              "width": 0.5
             },
             "pattern": {
              "fillmode": "overlay",
              "size": 10,
              "solidity": 0.2
             }
            },
            "type": "barpolar"
           }
          ],
          "carpet": [
           {
            "aaxis": {
             "endlinecolor": "#2a3f5f",
             "gridcolor": "white",
             "linecolor": "white",
             "minorgridcolor": "white",
             "startlinecolor": "#2a3f5f"
            },
            "baxis": {
             "endlinecolor": "#2a3f5f",
             "gridcolor": "white",
             "linecolor": "white",
             "minorgridcolor": "white",
             "startlinecolor": "#2a3f5f"
            },
            "type": "carpet"
           }
          ],
          "choropleth": [
           {
            "colorbar": {
             "outlinewidth": 0,
             "ticks": ""
            },
            "type": "choropleth"
           }
          ],
          "contour": [
           {
            "colorbar": {
             "outlinewidth": 0,
             "ticks": ""
            },
            "colorscale": [
             [
              0,
              "#0d0887"
             ],
             [
              0.1111111111111111,
              "#46039f"
             ],
             [
              0.2222222222222222,
              "#7201a8"
             ],
             [
              0.3333333333333333,
              "#9c179e"
             ],
             [
              0.4444444444444444,
              "#bd3786"
             ],
             [
              0.5555555555555556,
              "#d8576b"
             ],
             [
              0.6666666666666666,
              "#ed7953"
             ],
             [
              0.7777777777777778,
              "#fb9f3a"
             ],
             [
              0.8888888888888888,
              "#fdca26"
             ],
             [
              1,
              "#f0f921"
             ]
            ],
            "type": "contour"
           }
          ],
          "contourcarpet": [
           {
            "colorbar": {
             "outlinewidth": 0,
             "ticks": ""
            },
            "type": "contourcarpet"
           }
          ],
          "heatmap": [
           {
            "colorbar": {
             "outlinewidth": 0,
             "ticks": ""
            },
            "colorscale": [
             [
              0,
              "#0d0887"
             ],
             [
              0.1111111111111111,
              "#46039f"
             ],
             [
              0.2222222222222222,
              "#7201a8"
             ],
             [
              0.3333333333333333,
              "#9c179e"
             ],
             [
              0.4444444444444444,
              "#bd3786"
             ],
             [
              0.5555555555555556,
              "#d8576b"
             ],
             [
              0.6666666666666666,
              "#ed7953"
             ],
             [
              0.7777777777777778,
              "#fb9f3a"
             ],
             [
              0.8888888888888888,
              "#fdca26"
             ],
             [
              1,
              "#f0f921"
             ]
            ],
            "type": "heatmap"
           }
          ],
          "heatmapgl": [
           {
            "colorbar": {
             "outlinewidth": 0,
             "ticks": ""
            },
            "colorscale": [
             [
              0,
              "#0d0887"
             ],
             [
              0.1111111111111111,
              "#46039f"
             ],
             [
              0.2222222222222222,
              "#7201a8"
             ],
             [
              0.3333333333333333,
              "#9c179e"
             ],
             [
              0.4444444444444444,
              "#bd3786"
             ],
             [
              0.5555555555555556,
              "#d8576b"
             ],
             [
              0.6666666666666666,
              "#ed7953"
             ],
             [
              0.7777777777777778,
              "#fb9f3a"
             ],
             [
              0.8888888888888888,
              "#fdca26"
             ],
             [
              1,
              "#f0f921"
             ]
            ],
            "type": "heatmapgl"
           }
          ],
          "histogram": [
           {
            "marker": {
             "pattern": {
              "fillmode": "overlay",
              "size": 10,
              "solidity": 0.2
             }
            },
            "type": "histogram"
           }
          ],
          "histogram2d": [
           {
            "colorbar": {
             "outlinewidth": 0,
             "ticks": ""
            },
            "colorscale": [
             [
              0,
              "#0d0887"
             ],
             [
              0.1111111111111111,
              "#46039f"
             ],
             [
              0.2222222222222222,
              "#7201a8"
             ],
             [
              0.3333333333333333,
              "#9c179e"
             ],
             [
              0.4444444444444444,
              "#bd3786"
             ],
             [
              0.5555555555555556,
              "#d8576b"
             ],
             [
              0.6666666666666666,
              "#ed7953"
             ],
             [
              0.7777777777777778,
              "#fb9f3a"
             ],
             [
              0.8888888888888888,
              "#fdca26"
             ],
             [
              1,
              "#f0f921"
             ]
            ],
            "type": "histogram2d"
           }
          ],
          "histogram2dcontour": [
           {
            "colorbar": {
             "outlinewidth": 0,
             "ticks": ""
            },
            "colorscale": [
             [
              0,
              "#0d0887"
             ],
             [
              0.1111111111111111,
              "#46039f"
             ],
             [
              0.2222222222222222,
              "#7201a8"
             ],
             [
              0.3333333333333333,
              "#9c179e"
             ],
             [
              0.4444444444444444,
              "#bd3786"
             ],
             [
              0.5555555555555556,
              "#d8576b"
             ],
             [
              0.6666666666666666,
              "#ed7953"
             ],
             [
              0.7777777777777778,
              "#fb9f3a"
             ],
             [
              0.8888888888888888,
              "#fdca26"
             ],
             [
              1,
              "#f0f921"
             ]
            ],
            "type": "histogram2dcontour"
           }
          ],
          "mesh3d": [
           {
            "colorbar": {
             "outlinewidth": 0,
             "ticks": ""
            },
            "type": "mesh3d"
           }
          ],
          "parcoords": [
           {
            "line": {
             "colorbar": {
              "outlinewidth": 0,
              "ticks": ""
             }
            },
            "type": "parcoords"
           }
          ],
          "pie": [
           {
            "automargin": true,
            "type": "pie"
           }
          ],
          "scatter": [
           {
            "fillpattern": {
             "fillmode": "overlay",
             "size": 10,
             "solidity": 0.2
            },
            "type": "scatter"
           }
          ],
          "scatter3d": [
           {
            "line": {
             "colorbar": {
              "outlinewidth": 0,
              "ticks": ""
             }
            },
            "marker": {
             "colorbar": {
              "outlinewidth": 0,
              "ticks": ""
             }
            },
            "type": "scatter3d"
           }
          ],
          "scattercarpet": [
           {
            "marker": {
             "colorbar": {
              "outlinewidth": 0,
              "ticks": ""
             }
            },
            "type": "scattercarpet"
           }
          ],
          "scattergeo": [
           {
            "marker": {
             "colorbar": {
              "outlinewidth": 0,
              "ticks": ""
             }
            },
            "type": "scattergeo"
           }
          ],
          "scattergl": [
           {
            "marker": {
             "colorbar": {
              "outlinewidth": 0,
              "ticks": ""
             }
            },
            "type": "scattergl"
           }
          ],
          "scattermapbox": [
           {
            "marker": {
             "colorbar": {
              "outlinewidth": 0,
              "ticks": ""
             }
            },
            "type": "scattermapbox"
           }
          ],
          "scatterpolar": [
           {
            "marker": {
             "colorbar": {
              "outlinewidth": 0,
              "ticks": ""
             }
            },
            "type": "scatterpolar"
           }
          ],
          "scatterpolargl": [
           {
            "marker": {
             "colorbar": {
              "outlinewidth": 0,
              "ticks": ""
             }
            },
            "type": "scatterpolargl"
           }
          ],
          "scatterternary": [
           {
            "marker": {
             "colorbar": {
              "outlinewidth": 0,
              "ticks": ""
             }
            },
            "type": "scatterternary"
           }
          ],
          "surface": [
           {
            "colorbar": {
             "outlinewidth": 0,
             "ticks": ""
            },
            "colorscale": [
             [
              0,
              "#0d0887"
             ],
             [
              0.1111111111111111,
              "#46039f"
             ],
             [
              0.2222222222222222,
              "#7201a8"
             ],
             [
              0.3333333333333333,
              "#9c179e"
             ],
             [
              0.4444444444444444,
              "#bd3786"
             ],
             [
              0.5555555555555556,
              "#d8576b"
             ],
             [
              0.6666666666666666,
              "#ed7953"
             ],
             [
              0.7777777777777778,
              "#fb9f3a"
             ],
             [
              0.8888888888888888,
              "#fdca26"
             ],
             [
              1,
              "#f0f921"
             ]
            ],
            "type": "surface"
           }
          ],
          "table": [
           {
            "cells": {
             "fill": {
              "color": "#EBF0F8"
             },
             "line": {
              "color": "white"
             }
            },
            "header": {
             "fill": {
              "color": "#C8D4E3"
             },
             "line": {
              "color": "white"
             }
            },
            "type": "table"
           }
          ]
         },
         "layout": {
          "annotationdefaults": {
           "arrowcolor": "#2a3f5f",
           "arrowhead": 0,
           "arrowwidth": 1
          },
          "autotypenumbers": "strict",
          "coloraxis": {
           "colorbar": {
            "outlinewidth": 0,
            "ticks": ""
           }
          },
          "colorscale": {
           "diverging": [
            [
             0,
             "#8e0152"
            ],
            [
             0.1,
             "#c51b7d"
            ],
            [
             0.2,
             "#de77ae"
            ],
            [
             0.3,
             "#f1b6da"
            ],
            [
             0.4,
             "#fde0ef"
            ],
            [
             0.5,
             "#f7f7f7"
            ],
            [
             0.6,
             "#e6f5d0"
            ],
            [
             0.7,
             "#b8e186"
            ],
            [
             0.8,
             "#7fbc41"
            ],
            [
             0.9,
             "#4d9221"
            ],
            [
             1,
             "#276419"
            ]
           ],
           "sequential": [
            [
             0,
             "#0d0887"
            ],
            [
             0.1111111111111111,
             "#46039f"
            ],
            [
             0.2222222222222222,
             "#7201a8"
            ],
            [
             0.3333333333333333,
             "#9c179e"
            ],
            [
             0.4444444444444444,
             "#bd3786"
            ],
            [
             0.5555555555555556,
             "#d8576b"
            ],
            [
             0.6666666666666666,
             "#ed7953"
            ],
            [
             0.7777777777777778,
             "#fb9f3a"
            ],
            [
             0.8888888888888888,
             "#fdca26"
            ],
            [
             1,
             "#f0f921"
            ]
           ],
           "sequentialminus": [
            [
             0,
             "#0d0887"
            ],
            [
             0.1111111111111111,
             "#46039f"
            ],
            [
             0.2222222222222222,
             "#7201a8"
            ],
            [
             0.3333333333333333,
             "#9c179e"
            ],
            [
             0.4444444444444444,
             "#bd3786"
            ],
            [
             0.5555555555555556,
             "#d8576b"
            ],
            [
             0.6666666666666666,
             "#ed7953"
            ],
            [
             0.7777777777777778,
             "#fb9f3a"
            ],
            [
             0.8888888888888888,
             "#fdca26"
            ],
            [
             1,
             "#f0f921"
            ]
           ]
          },
          "colorway": [
           "#636efa",
           "#EF553B",
           "#00cc96",
           "#ab63fa",
           "#FFA15A",
           "#19d3f3",
           "#FF6692",
           "#B6E880",
           "#FF97FF",
           "#FECB52"
          ],
          "font": {
           "color": "#2a3f5f"
          },
          "geo": {
           "bgcolor": "white",
           "lakecolor": "white",
           "landcolor": "#E5ECF6",
           "showlakes": true,
           "showland": true,
           "subunitcolor": "white"
          },
          "hoverlabel": {
           "align": "left"
          },
          "hovermode": "closest",
          "mapbox": {
           "style": "light"
          },
          "paper_bgcolor": "white",
          "plot_bgcolor": "#E5ECF6",
          "polar": {
           "angularaxis": {
            "gridcolor": "white",
            "linecolor": "white",
            "ticks": ""
           },
           "bgcolor": "#E5ECF6",
           "radialaxis": {
            "gridcolor": "white",
            "linecolor": "white",
            "ticks": ""
           }
          },
          "scene": {
           "xaxis": {
            "backgroundcolor": "#E5ECF6",
            "gridcolor": "white",
            "gridwidth": 2,
            "linecolor": "white",
            "showbackground": true,
            "ticks": "",
            "zerolinecolor": "white"
           },
           "yaxis": {
            "backgroundcolor": "#E5ECF6",
            "gridcolor": "white",
            "gridwidth": 2,
            "linecolor": "white",
            "showbackground": true,
            "ticks": "",
            "zerolinecolor": "white"
           },
           "zaxis": {
            "backgroundcolor": "#E5ECF6",
            "gridcolor": "white",
            "gridwidth": 2,
            "linecolor": "white",
            "showbackground": true,
            "ticks": "",
            "zerolinecolor": "white"
           }
          },
          "shapedefaults": {
           "line": {
            "color": "#2a3f5f"
           }
          },
          "ternary": {
           "aaxis": {
            "gridcolor": "white",
            "linecolor": "white",
            "ticks": ""
           },
           "baxis": {
            "gridcolor": "white",
            "linecolor": "white",
            "ticks": ""
           },
           "bgcolor": "#E5ECF6",
           "caxis": {
            "gridcolor": "white",
            "linecolor": "white",
            "ticks": ""
           }
          },
          "title": {
           "x": 0.05
          },
          "xaxis": {
           "automargin": true,
           "gridcolor": "white",
           "linecolor": "white",
           "ticks": "",
           "title": {
            "standoff": 15
           },
           "zerolinecolor": "white",
           "zerolinewidth": 2
          },
          "yaxis": {
           "automargin": true,
           "gridcolor": "white",
           "linecolor": "white",
           "ticks": "",
           "title": {
            "standoff": 15
           },
           "zerolinecolor": "white",
           "zerolinewidth": 2
          }
         }
        },
        "width": 500,
        "xaxis": {
         "anchor": "y",
         "domain": [
          0,
          1
         ],
         "visible": false
        },
        "yaxis": {
         "anchor": "x",
         "autorange": "reversed",
         "domain": [
          0,
          1
         ],
         "visible": false
        }
       }
      },
      "text/html": [
       "<div>                            <div id=\"2a5b3e76-d700-4f63-b35b-4def8cb0c02b\" class=\"plotly-graph-div\" style=\"height:500px; width:500px;\"></div>            <script type=\"text/javascript\">                require([\"plotly\"], function(Plotly) {                    window.PLOTLYENV=window.PLOTLYENV || {};                                    if (document.getElementById(\"2a5b3e76-d700-4f63-b35b-4def8cb0c02b\")) {                    Plotly.newPlot(                        \"2a5b3e76-d700-4f63-b35b-4def8cb0c02b\",                        [{\"hovertemplate\":\"\",\"name\":\"0\",\"source\":\"data:image/png;base64,iVBORw0KGgoAAAANSUhEUgAAAP0AAADHCAYAAADS1FU3AAAFy0lEQVR4Xu3bPW4jORCAUe1iQl/HB3PmIzjzwXwd59pgIcAjq3/Y6m5Wsd6LFgLWokh+Ko1H88/1er1egDL+vX8AGJvooRjRQzGih2JED8WIHooRPRQjeihG9FCM6KEY0UMxf+4f4Dwv769v94/BEb4/vj5v/23SdyJ4ehE9FCN6KEb0UIzooRjRQzGih2JED8WIHooRPRQjeihG9FCM6KEY0UMxoodiRA/FiB6KET0UI3ooRvRQjOihGNFDMaKHYkQPxYgeihE9FCN6KEb0UIzooRjRQzGih2JED8WIHooRPRQjeihG9FCM6KEY0UMxoodiRA/FiB6KET0UI3ooRvRQjOihGNFDMaKHYkQPxYgeihE9FCN6KEb0UIzooRjRQzGih2JED8WIHooRPRTz5/6BXl7eX9/uH8vm++Pr8/4xiObU6EcIe87L++ub8InutI/3owcPWRw+6cUOsRw66QUP8RwaPRDPYdGb8hDTIdELHuI6JHogrt2jN+Uhtt2jB2Lb9e/pt0z5DN9g2/K6IKpdo2+RIXYY0W4f701DyGG36FuY8tDPLtGb8pDHLtG3MOWhr6ejN+Uhl6ejB3J5KvrWKe+jPfT3VPRAPpujN+Uhp83RAzmdEr0pD3Fsir71oz0Qx6boW5jyEEtz9KY85NYcfQtTHuJpit6Uh/yaom9hykNMq6M35WEMq6MHxrAq+tYp76M9xLUqemAcu0dvykNsi9G3frQHYluMvoUpD/HNRm/Kw3hmo29hykMOk9Gb8jCmyeiBMe0SvY/2kMfD6H20h3E9jL6FKQ+5/IrelIex/Yq+hSkP+TwVPZCP6KGYP/cPtPDnf8jnr0kvYhifj/dQjOihGNFDMaLvxHcc6OWp397zHOHTg0kPxYgeihE9FCN6KEb0UIzf3nfiK8+c6effFJn0UIzooRjRQzGih2JED8WIHooRPRQjeihG9FBMiW/k+XfrLFlzR0b5FuVw0a85PNhyTx79PxnfCIaJ/tGBwE9H3JHbz8wUf/rojzhIxnLGHckUf9rozzhIcutxRzLEn/K39z0Ok1x635Hvj6/P3muYkm7Sb93Ire+8W5+PflrO7Oh78f3x9bn1OY6SKvq1G32zx2bffkbrc3O+ljN69m603Ito4aeJfs3m3hyxwS2HzPnWnsved+Pnz5tbQ6TwU/yZfm4z7x29sS/vr29HPwdt1tyPM85t6eevWecZwke/dqPOONSfznwupi3djx73Yu75ltZ7hjQf7+fMbfKRXt5f3yIcIo/1uheXy/zd2Ouj/tTPXxJ60q95UXts3jOW3tk5ztz9iHAmc2uYW/vRQke/ZG5TzxZpLRXMRRPpLObWMvcajhQ2+qUNmdtM6nIvloWNfk7Ug426rtEsDYRo5u5Fj9cSMvoeG7GXuQPmWJH3PtLaQkY/J9Lmcb6pgZDhXkytceo1HSVV9FObFk2WdVJTuOjPftc7ivD3N3U3Mu311FqnXtsRwkU/ZWqzgDZpoodHMg6D3msW/YF6H+5Izvz428tZr1H0UEyK6E1MHnEvtgkV/Vkfb6C3nm9YoaIfUc/DHYVh8NszezLEv6fPaOrQIr5JTK2V/Z2x1yY9FCN6KEb0UIzooRi/yAvmjF/kUJtJfzARE43ooYOewyBF9D03iLjci21SRA/sR/QHMomI6J/r9Xq9fzCqiF9RnSP6c7gXbUx6KEb0B+n9bl5Jpr2OsNZU0UfYMMguVfSXS47wM6xxNBn2PMoa00UfXZSDJZZI9yJl9JE2kDjci3VSRn+5xDzgiGuqJuIZRFtT2ugvl1ibGWkt1UU6i0hruUkd/eUSY1MjrIG/RTiTCGt4JH30l0vfze353MzreTY9n3tJqq/hLjnz65iRD5XfzrobGe7FUNHfHH3AGQ6W39yL/w0Z/c3eh5zlUJlX/V4MHf1PWw8624HSpuK9KBP9Iz8PPPMhsq/R70Xp6KGiIf7KDlhP9FCM6KGY/wAg7SE763DXNwAAAABJRU5ErkJggg==\",\"xaxis\":\"x\",\"yaxis\":\"y\",\"type\":\"image\",\"hoverinfo\":\"none\"}],                        {\"margin\":{\"t\":1,\"l\":1,\"r\":1,\"b\":1},\"template\":{\"data\":{\"barpolar\":[{\"marker\":{\"line\":{\"color\":\"#E5ECF6\",\"width\":0.5},\"pattern\":{\"fillmode\":\"overlay\",\"size\":10,\"solidity\":0.2}},\"type\":\"barpolar\"}],\"bar\":[{\"error_x\":{\"color\":\"#2a3f5f\"},\"error_y\":{\"color\":\"#2a3f5f\"},\"marker\":{\"line\":{\"color\":\"#E5ECF6\",\"width\":0.5},\"pattern\":{\"fillmode\":\"overlay\",\"size\":10,\"solidity\":0.2}},\"type\":\"bar\"}],\"carpet\":[{\"aaxis\":{\"endlinecolor\":\"#2a3f5f\",\"gridcolor\":\"white\",\"linecolor\":\"white\",\"minorgridcolor\":\"white\",\"startlinecolor\":\"#2a3f5f\"},\"baxis\":{\"endlinecolor\":\"#2a3f5f\",\"gridcolor\":\"white\",\"linecolor\":\"white\",\"minorgridcolor\":\"white\",\"startlinecolor\":\"#2a3f5f\"},\"type\":\"carpet\"}],\"choropleth\":[{\"colorbar\":{\"outlinewidth\":0,\"ticks\":\"\"},\"type\":\"choropleth\"}],\"contourcarpet\":[{\"colorbar\":{\"outlinewidth\":0,\"ticks\":\"\"},\"type\":\"contourcarpet\"}],\"contour\":[{\"colorbar\":{\"outlinewidth\":0,\"ticks\":\"\"},\"colorscale\":[[0.0,\"#0d0887\"],[0.1111111111111111,\"#46039f\"],[0.2222222222222222,\"#7201a8\"],[0.3333333333333333,\"#9c179e\"],[0.4444444444444444,\"#bd3786\"],[0.5555555555555556,\"#d8576b\"],[0.6666666666666666,\"#ed7953\"],[0.7777777777777778,\"#fb9f3a\"],[0.8888888888888888,\"#fdca26\"],[1.0,\"#f0f921\"]],\"type\":\"contour\"}],\"heatmapgl\":[{\"colorbar\":{\"outlinewidth\":0,\"ticks\":\"\"},\"colorscale\":[[0.0,\"#0d0887\"],[0.1111111111111111,\"#46039f\"],[0.2222222222222222,\"#7201a8\"],[0.3333333333333333,\"#9c179e\"],[0.4444444444444444,\"#bd3786\"],[0.5555555555555556,\"#d8576b\"],[0.6666666666666666,\"#ed7953\"],[0.7777777777777778,\"#fb9f3a\"],[0.8888888888888888,\"#fdca26\"],[1.0,\"#f0f921\"]],\"type\":\"heatmapgl\"}],\"heatmap\":[{\"colorbar\":{\"outlinewidth\":0,\"ticks\":\"\"},\"colorscale\":[[0.0,\"#0d0887\"],[0.1111111111111111,\"#46039f\"],[0.2222222222222222,\"#7201a8\"],[0.3333333333333333,\"#9c179e\"],[0.4444444444444444,\"#bd3786\"],[0.5555555555555556,\"#d8576b\"],[0.6666666666666666,\"#ed7953\"],[0.7777777777777778,\"#fb9f3a\"],[0.8888888888888888,\"#fdca26\"],[1.0,\"#f0f921\"]],\"type\":\"heatmap\"}],\"histogram2dcontour\":[{\"colorbar\":{\"outlinewidth\":0,\"ticks\":\"\"},\"colorscale\":[[0.0,\"#0d0887\"],[0.1111111111111111,\"#46039f\"],[0.2222222222222222,\"#7201a8\"],[0.3333333333333333,\"#9c179e\"],[0.4444444444444444,\"#bd3786\"],[0.5555555555555556,\"#d8576b\"],[0.6666666666666666,\"#ed7953\"],[0.7777777777777778,\"#fb9f3a\"],[0.8888888888888888,\"#fdca26\"],[1.0,\"#f0f921\"]],\"type\":\"histogram2dcontour\"}],\"histogram2d\":[{\"colorbar\":{\"outlinewidth\":0,\"ticks\":\"\"},\"colorscale\":[[0.0,\"#0d0887\"],[0.1111111111111111,\"#46039f\"],[0.2222222222222222,\"#7201a8\"],[0.3333333333333333,\"#9c179e\"],[0.4444444444444444,\"#bd3786\"],[0.5555555555555556,\"#d8576b\"],[0.6666666666666666,\"#ed7953\"],[0.7777777777777778,\"#fb9f3a\"],[0.8888888888888888,\"#fdca26\"],[1.0,\"#f0f921\"]],\"type\":\"histogram2d\"}],\"histogram\":[{\"marker\":{\"pattern\":{\"fillmode\":\"overlay\",\"size\":10,\"solidity\":0.2}},\"type\":\"histogram\"}],\"mesh3d\":[{\"colorbar\":{\"outlinewidth\":0,\"ticks\":\"\"},\"type\":\"mesh3d\"}],\"parcoords\":[{\"line\":{\"colorbar\":{\"outlinewidth\":0,\"ticks\":\"\"}},\"type\":\"parcoords\"}],\"pie\":[{\"automargin\":true,\"type\":\"pie\"}],\"scatter3d\":[{\"line\":{\"colorbar\":{\"outlinewidth\":0,\"ticks\":\"\"}},\"marker\":{\"colorbar\":{\"outlinewidth\":0,\"ticks\":\"\"}},\"type\":\"scatter3d\"}],\"scattercarpet\":[{\"marker\":{\"colorbar\":{\"outlinewidth\":0,\"ticks\":\"\"}},\"type\":\"scattercarpet\"}],\"scattergeo\":[{\"marker\":{\"colorbar\":{\"outlinewidth\":0,\"ticks\":\"\"}},\"type\":\"scattergeo\"}],\"scattergl\":[{\"marker\":{\"colorbar\":{\"outlinewidth\":0,\"ticks\":\"\"}},\"type\":\"scattergl\"}],\"scattermapbox\":[{\"marker\":{\"colorbar\":{\"outlinewidth\":0,\"ticks\":\"\"}},\"type\":\"scattermapbox\"}],\"scatterpolargl\":[{\"marker\":{\"colorbar\":{\"outlinewidth\":0,\"ticks\":\"\"}},\"type\":\"scatterpolargl\"}],\"scatterpolar\":[{\"marker\":{\"colorbar\":{\"outlinewidth\":0,\"ticks\":\"\"}},\"type\":\"scatterpolar\"}],\"scatter\":[{\"fillpattern\":{\"fillmode\":\"overlay\",\"size\":10,\"solidity\":0.2},\"type\":\"scatter\"}],\"scatterternary\":[{\"marker\":{\"colorbar\":{\"outlinewidth\":0,\"ticks\":\"\"}},\"type\":\"scatterternary\"}],\"surface\":[{\"colorbar\":{\"outlinewidth\":0,\"ticks\":\"\"},\"colorscale\":[[0.0,\"#0d0887\"],[0.1111111111111111,\"#46039f\"],[0.2222222222222222,\"#7201a8\"],[0.3333333333333333,\"#9c179e\"],[0.4444444444444444,\"#bd3786\"],[0.5555555555555556,\"#d8576b\"],[0.6666666666666666,\"#ed7953\"],[0.7777777777777778,\"#fb9f3a\"],[0.8888888888888888,\"#fdca26\"],[1.0,\"#f0f921\"]],\"type\":\"surface\"}],\"table\":[{\"cells\":{\"fill\":{\"color\":\"#EBF0F8\"},\"line\":{\"color\":\"white\"}},\"header\":{\"fill\":{\"color\":\"#C8D4E3\"},\"line\":{\"color\":\"white\"}},\"type\":\"table\"}]},\"layout\":{\"annotationdefaults\":{\"arrowcolor\":\"#2a3f5f\",\"arrowhead\":0,\"arrowwidth\":1},\"autotypenumbers\":\"strict\",\"coloraxis\":{\"colorbar\":{\"outlinewidth\":0,\"ticks\":\"\"}},\"colorscale\":{\"diverging\":[[0,\"#8e0152\"],[0.1,\"#c51b7d\"],[0.2,\"#de77ae\"],[0.3,\"#f1b6da\"],[0.4,\"#fde0ef\"],[0.5,\"#f7f7f7\"],[0.6,\"#e6f5d0\"],[0.7,\"#b8e186\"],[0.8,\"#7fbc41\"],[0.9,\"#4d9221\"],[1,\"#276419\"]],\"sequential\":[[0.0,\"#0d0887\"],[0.1111111111111111,\"#46039f\"],[0.2222222222222222,\"#7201a8\"],[0.3333333333333333,\"#9c179e\"],[0.4444444444444444,\"#bd3786\"],[0.5555555555555556,\"#d8576b\"],[0.6666666666666666,\"#ed7953\"],[0.7777777777777778,\"#fb9f3a\"],[0.8888888888888888,\"#fdca26\"],[1.0,\"#f0f921\"]],\"sequentialminus\":[[0.0,\"#0d0887\"],[0.1111111111111111,\"#46039f\"],[0.2222222222222222,\"#7201a8\"],[0.3333333333333333,\"#9c179e\"],[0.4444444444444444,\"#bd3786\"],[0.5555555555555556,\"#d8576b\"],[0.6666666666666666,\"#ed7953\"],[0.7777777777777778,\"#fb9f3a\"],[0.8888888888888888,\"#fdca26\"],[1.0,\"#f0f921\"]]},\"colorway\":[\"#636efa\",\"#EF553B\",\"#00cc96\",\"#ab63fa\",\"#FFA15A\",\"#19d3f3\",\"#FF6692\",\"#B6E880\",\"#FF97FF\",\"#FECB52\"],\"font\":{\"color\":\"#2a3f5f\"},\"geo\":{\"bgcolor\":\"white\",\"lakecolor\":\"white\",\"landcolor\":\"#E5ECF6\",\"showlakes\":true,\"showland\":true,\"subunitcolor\":\"white\"},\"hoverlabel\":{\"align\":\"left\"},\"hovermode\":\"closest\",\"mapbox\":{\"style\":\"light\"},\"paper_bgcolor\":\"white\",\"plot_bgcolor\":\"#E5ECF6\",\"polar\":{\"angularaxis\":{\"gridcolor\":\"white\",\"linecolor\":\"white\",\"ticks\":\"\"},\"bgcolor\":\"#E5ECF6\",\"radialaxis\":{\"gridcolor\":\"white\",\"linecolor\":\"white\",\"ticks\":\"\"}},\"scene\":{\"xaxis\":{\"backgroundcolor\":\"#E5ECF6\",\"gridcolor\":\"white\",\"gridwidth\":2,\"linecolor\":\"white\",\"showbackground\":true,\"ticks\":\"\",\"zerolinecolor\":\"white\"},\"yaxis\":{\"backgroundcolor\":\"#E5ECF6\",\"gridcolor\":\"white\",\"gridwidth\":2,\"linecolor\":\"white\",\"showbackground\":true,\"ticks\":\"\",\"zerolinecolor\":\"white\"},\"zaxis\":{\"backgroundcolor\":\"#E5ECF6\",\"gridcolor\":\"white\",\"gridwidth\":2,\"linecolor\":\"white\",\"showbackground\":true,\"ticks\":\"\",\"zerolinecolor\":\"white\"}},\"shapedefaults\":{\"line\":{\"color\":\"#2a3f5f\"}},\"ternary\":{\"aaxis\":{\"gridcolor\":\"white\",\"linecolor\":\"white\",\"ticks\":\"\"},\"baxis\":{\"gridcolor\":\"white\",\"linecolor\":\"white\",\"ticks\":\"\"},\"bgcolor\":\"#E5ECF6\",\"caxis\":{\"gridcolor\":\"white\",\"linecolor\":\"white\",\"ticks\":\"\"}},\"title\":{\"x\":0.05},\"xaxis\":{\"automargin\":true,\"gridcolor\":\"white\",\"linecolor\":\"white\",\"ticks\":\"\",\"title\":{\"standoff\":15},\"zerolinecolor\":\"white\",\"zerolinewidth\":2},\"yaxis\":{\"automargin\":true,\"gridcolor\":\"white\",\"linecolor\":\"white\",\"ticks\":\"\",\"title\":{\"standoff\":15},\"zerolinecolor\":\"white\",\"zerolinewidth\":2}}},\"xaxis\":{\"anchor\":\"y\",\"domain\":[0.0,1.0],\"visible\":false},\"yaxis\":{\"anchor\":\"x\",\"domain\":[0.0,1.0],\"autorange\":\"reversed\",\"visible\":false},\"annotations\":[{\"font\":{\"color\":\"rgb(245, 245, 245)\",\"family\":\"Droid Sans Mono\",\"size\":51},\"hovertext\":\"# 378\",\"showarrow\":false,\"text\":\"fast\",\"textangle\":0,\"x\":96,\"xanchor\":\"left\",\"y\":39,\"yanchor\":\"top\"},{\"font\":{\"color\":\"rgb(5, 5, 5)\",\"family\":\"Droid Sans Mono\",\"size\":39},\"hovertext\":\"# 197\",\"showarrow\":false,\"text\":\"quickly\",\"textangle\":0,\"x\":108,\"xanchor\":\"left\",\"y\":80,\"yanchor\":\"top\"},{\"font\":{\"color\":\"rgb(141, 141, 141)\",\"family\":\"Droid Sans Mono\",\"size\":34},\"hovertext\":\"# 152\",\"showarrow\":false,\"text\":\"long\",\"textangle\":0,\"x\":98,\"xanchor\":\"left\",\"y\":131,\"yanchor\":\"top\"},{\"font\":{\"color\":\"rgb(237, 237, 237)\",\"family\":\"Droid Sans Mono\",\"size\":28},\"hovertext\":\"# 146\",\"showarrow\":false,\"text\":\"super\",\"textangle\":0,\"x\":138,\"xanchor\":\"left\",\"y\":12,\"yanchor\":\"top\"}],\"paper_bgcolor\":\"rgb(255,255,255)\",\"plot_bgcolor\":\"rgb(255,255,255)\",\"width\":500,\"height\":500,\"clickmode\":\"select\"},                        {\"responsive\": true}                    ).then(function(){\n",
       "                            \n",
       "var gd = document.getElementById('2a5b3e76-d700-4f63-b35b-4def8cb0c02b');\n",
       "var x = new MutationObserver(function (mutations, observer) {{\n",
       "        var display = window.getComputedStyle(gd).display;\n",
       "        if (!display || display === 'none') {{\n",
       "            console.log([gd, 'removed!']);\n",
       "            Plotly.purge(gd);\n",
       "            observer.disconnect();\n",
       "        }}\n",
       "}});\n",
       "\n",
       "// Listen for the removal of the full notebook cells\n",
       "var notebookContainer = gd.closest('#notebook-container');\n",
       "if (notebookContainer) {{\n",
       "    x.observe(notebookContainer, {childList: true});\n",
       "}}\n",
       "\n",
       "// Listen for the clearing of the current output cell\n",
       "var outputEl = gd.closest('.output');\n",
       "if (outputEl) {{\n",
       "    x.observe(outputEl, {childList: true});\n",
       "}}\n",
       "\n",
       "                        })                };                });            </script>        </div>"
      ]
     },
     "metadata": {},
     "output_type": "display_data"
    }
   ],
   "source": [
    "image_path = './figures/truck.png'\n",
    "pltsize = [500,500]\n",
    "opacity = 0.5\n",
    "color_list_rgb_list = get_rgb_color_list('Greens',5)\n",
    "color_mask = color_list_rgb_list[4]\n",
    "tags = most_freq_df[most_freq_df['tag']=='ADV']\n",
    "colormap_text = 'Greys_r'\n",
    "wc_img,fig,wave_mask = plot_wordscloud(image_path,tags,color_mask,pltsize,opacity, colormap_text)\n",
    "\n",
    "#    fig,ax =plt.subplots(figsize=(5,8))\n",
    "#    ax.imshow(wc_img, interpolation='bilinear')\n",
    "#    ax.axis(\"off\")\n",
    "fig\n",
    "# NOUN    39\n",
    "# VERB    32\n",
    "# ADJ     11\n",
    "# ADV      6"
   ]
  },
  {
   "cell_type": "code",
   "execution_count": 225,
   "id": "46012558",
   "metadata": {},
   "outputs": [],
   "source": [
    "# adjacency matrix"
   ]
  },
  {
   "cell_type": "code",
   "execution_count": 226,
   "id": "743468a2",
   "metadata": {},
   "outputs": [],
   "source": [
    "lexicon = most_freq_df['word'].tolist()\n",
    "len_lex = len(lexicon)\n",
    "# lexicon_adjmat"
   ]
  },
  {
   "cell_type": "code",
   "execution_count": 227,
   "id": "a83d449a",
   "metadata": {},
   "outputs": [
    {
     "data": {
      "text/plain": [
       "array(['ADJ', 'ADV', 'NOUN', 'VERB'], dtype=object)"
      ]
     },
     "execution_count": 227,
     "metadata": {},
     "output_type": "execute_result"
    }
   ],
   "source": [
    "np.unique(most_freq_df['tag'])"
   ]
  },
  {
   "cell_type": "code",
   "execution_count": 228,
   "id": "3f2afe36",
   "metadata": {},
   "outputs": [],
   "source": [
    "col_tags = get_rgb_color_list('BuGn',len(np.unique(most_freq_df['tag'])))\n",
    "col_tags  = ['blue','red','yellow','green']\n",
    "dict_col = {}\n",
    "for j,i in enumerate(np.unique(most_freq_df['tag'])):\n",
    "    dict_col[i] = col_tags[j]\n"
   ]
  },
  {
   "cell_type": "code",
   "execution_count": 254,
   "id": "906bab4a",
   "metadata": {},
   "outputs": [
    {
     "data": {
      "text/plain": [
       "{'ADJ': 'blue', 'ADV': 'red', 'NOUN': 'yellow', 'VERB': 'green'}"
      ]
     },
     "execution_count": 254,
     "metadata": {},
     "output_type": "execute_result"
    }
   ],
   "source": [
    "dict_col"
   ]
  },
  {
   "cell_type": "code",
   "execution_count": 229,
   "id": "6638b0f9",
   "metadata": {},
   "outputs": [
    {
     "data": {
      "text/html": [
       "<div>\n",
       "<style scoped>\n",
       "    .dataframe tbody tr th:only-of-type {\n",
       "        vertical-align: middle;\n",
       "    }\n",
       "\n",
       "    .dataframe tbody tr th {\n",
       "        vertical-align: top;\n",
       "    }\n",
       "\n",
       "    .dataframe thead th {\n",
       "        text-align: right;\n",
       "    }\n",
       "</style>\n",
       "<table border=\"1\" class=\"dataframe\">\n",
       "  <thead>\n",
       "    <tr style=\"text-align: right;\">\n",
       "      <th></th>\n",
       "      <th>word</th>\n",
       "      <th>#</th>\n",
       "      <th>tag</th>\n",
       "      <th>col_tag</th>\n",
       "    </tr>\n",
       "  </thead>\n",
       "  <tbody>\n",
       "    <tr>\n",
       "      <th>0</th>\n",
       "      <td>good</td>\n",
       "      <td>582</td>\n",
       "      <td>ADJ</td>\n",
       "      <td>blue</td>\n",
       "    </tr>\n",
       "    <tr>\n",
       "      <th>24</th>\n",
       "      <td>nice</td>\n",
       "      <td>394</td>\n",
       "      <td>ADJ</td>\n",
       "      <td>blue</td>\n",
       "    </tr>\n",
       "    <tr>\n",
       "      <th>28</th>\n",
       "      <td>friendly</td>\n",
       "      <td>372</td>\n",
       "      <td>ADJ</td>\n",
       "      <td>blue</td>\n",
       "    </tr>\n",
       "    <tr>\n",
       "      <th>82</th>\n",
       "      <td>great</td>\n",
       "      <td>219</td>\n",
       "      <td>ADJ</td>\n",
       "      <td>blue</td>\n",
       "    </tr>\n",
       "    <tr>\n",
       "      <th>63</th>\n",
       "      <td>bad</td>\n",
       "      <td>210</td>\n",
       "      <td>ADJ</td>\n",
       "      <td>blue</td>\n",
       "    </tr>\n",
       "  </tbody>\n",
       "</table>\n",
       "</div>"
      ],
      "text/plain": [
       "        word    #  tag col_tag\n",
       "0       good  582  ADJ    blue\n",
       "24      nice  394  ADJ    blue\n",
       "28  friendly  372  ADJ    blue\n",
       "82     great  219  ADJ    blue\n",
       "63       bad  210  ADJ    blue"
      ]
     },
     "execution_count": 229,
     "metadata": {},
     "output_type": "execute_result"
    }
   ],
   "source": [
    "most_freq_df['col_tag'] = most_freq_df['tag'].apply(lambda x: dict_col[x])\n",
    "most_freq_df.head()"
   ]
  },
  {
   "cell_type": "code",
   "execution_count": 230,
   "id": "1fdedac3",
   "metadata": {},
   "outputs": [
    {
     "name": "stdout",
     "output_type": "stream",
     "text": [
      "['good', 'nice', 'friendly', 'great', 'bad', 'helpful', 'free', 'fast', 'quickly', 'long', 'super', 'time', 'delivery', 'service', 'people', 'day', 'unload', 'staff', 'hour', 'order', 'transport', 'office', 'place', 'coffee', 'toilet', 'parking', 'ramp', 'package', 'customer', 'home', 'deliver', 'load', 'wait', 'loading', 'come', 'call', 'help', 'go', 'receive', 'unloading', 'take']\n"
     ]
    }
   ],
   "source": [
    "print(lexicon)\n",
    "lexicon_adjmat = np.zeros((len_lex,len_lex))\n",
    "lexicon_adjmat = pd.DataFrame(lexicon_adjmat,columns = lexicon, index = lexicon)\n",
    "for i in np.arange(review_df['text_lemmas'].shape[0]):\n",
    "    intersec = list(set(review_df['text_lemmas'].iloc[i]).intersection(set(lexicon)))\n",
    "    lexicon_adjmat.loc[intersec,intersec] = lexicon_adjmat.loc[intersec,intersec]+ 1"
   ]
  },
  {
   "cell_type": "code",
   "execution_count": 233,
   "id": "b5c88641",
   "metadata": {},
   "outputs": [],
   "source": [
    "# lexicon_adjmat"
   ]
  },
  {
   "cell_type": "code",
   "execution_count": 259,
   "id": "8d894938",
   "metadata": {},
   "outputs": [],
   "source": [
    "import plotly.graph_objects as go\n",
    "import networkx as nx\n",
    "import plotly.express as px\n",
    "from plotly.offline import plot\n",
    "ad_mat = lexicon_adjmat.values\n",
    "G = nx.from_numpy_matrix(ad_mat)\n",
    "pos = nx.kamada_kawai_layout(G)\n",
    "# pos = nx.circular_layout(G)\n",
    "\n",
    "# G = nx.DiGraph(ad_mat)\n",
    "# nx.draw(G)\n",
    "\n",
    "def sigmoid(x):\n",
    "    y = 10 / (1 + np.exp(-(x-5)/1.9))\n",
    "    return y"
   ]
  },
  {
   "cell_type": "code",
   "execution_count": null,
   "id": "5f2553fc",
   "metadata": {},
   "outputs": [],
   "source": []
  },
  {
   "cell_type": "code",
   "execution_count": 260,
   "id": "bc2e2198",
   "metadata": {},
   "outputs": [],
   "source": [
    "# for i in np.arange(most_freq_df.shape[0]):\n",
    "#     G.nodes(data = True)[i]['level'] = most_freq_df['col_tag'].iloc[i]\n",
    "# pos = nx.multipartite_layout(G, subset_key=\"level\")"
   ]
  },
  {
   "cell_type": "code",
   "execution_count": 261,
   "id": "3a72549a",
   "metadata": {},
   "outputs": [
    {
     "data": {
      "text/plain": [
       "'temp-plot.html'"
      ]
     },
     "execution_count": 261,
     "metadata": {},
     "output_type": "execute_result"
    }
   ],
   "source": [
    "\n",
    "\n",
    "edge_x = []\n",
    "edge_y = []\n",
    "weight=[]\n",
    "for edge in G.edges():\n",
    "    x0, y0 = pos[edge[0]]\n",
    "    x1, y1 = pos[edge[1]]\n",
    "    weight.append(G.get_edge_data(edge[0],edge[1])['weight'])\n",
    "    edge_x.append(x0)\n",
    "    edge_x.append(x1)\n",
    "    edge_x.append(None)\n",
    "    edge_y.append(y0)\n",
    "    edge_y.append(y1)\n",
    "    edge_y.append(None)\n",
    "    \n",
    "node_x = []\n",
    "node_y = []\n",
    "for node in G.nodes():\n",
    "    x, y = pos[node]\n",
    "    node_x.append(x)\n",
    "    node_y.append(y)\n",
    "    \n",
    "s_w=np.round(sigmoid(np.asarray(weight)),1).tolist()\n",
    "# s_w=np.round(np.log(weight))\n",
    "# s_w = weight/100\n",
    "#color_list = get_rgb_color_list('BuGn',len(weight))\n",
    "# make multiple traces\n",
    "\n",
    "middle_node_trace = go.Scatter(\n",
    "    x=list(),\n",
    "    y=list(),\n",
    "    text=list(),\n",
    "    mode='markers',\n",
    "    hoverinfo='text',\n",
    "    marker=dict(\n",
    "        opacity=0\n",
    "    ),\n",
    "    hoverlabel= dict(bgcolor= '#e38078')\n",
    ")\n",
    "    \n",
    "edge_trace=list()\n",
    "n=0\n",
    "m=3\n",
    "for i in np.arange(len(weight)):\n",
    "    edge_trace.append(go.Scatter(x = edge_x[n:m], \n",
    "                               y = edge_y[n:m],\n",
    "                               hoverinfo='none',\n",
    "                               hovertext =' ',\n",
    "                               line=dict(\n",
    "                            color='rgb(100,200,'+str(int(s_w[i]*25))+')',\n",
    "                            width=1)#s_w[i])\n",
    "                            #width=int(weight[i]))#int(s_w[i]))\n",
    "                            ))\n",
    "    middle_node_trace['x']+=((edge_x[n]+edge_x[n+1])/2,0)\n",
    "    middle_node_trace['y']+=((edge_y[n]+edge_y[n+1])/2,0)\n",
    "    middle_node_trace['text']+=(str(int(weight[i])),0)#+' visits',0)\n",
    "    n=m\n",
    "    m=m+3\n",
    "\n",
    "\n",
    "size_points=pd.DataFrame([node_x,node_y,np.diag(ad_mat)]).T\n",
    "size_points.columns=['x','y','#']\n",
    "size_points['lexicon']= lexicon\n",
    "#size_points['color']='#03dae6'\n",
    "edge_trace.append(px.scatter(size_points,\n",
    "                             x='x',y='y',\n",
    "                             size=\"#\",\n",
    "                             text='lexicon',\n",
    "#                             color_discrete_map={\n",
    "#        'Clothes Ateliers': '#d6cbd3',\n",
    "#        'Clothes Reciclying': '#eca1a6',\n",
    "#        'Clothes Reparation': '#feb236',\n",
    "#        'Clothes Washing':'#ada397',\n",
    "#         'Textile Sellers':'#6b5b95',\n",
    "#        \n",
    "#    },\n",
    "                             hover_data= {\n",
    "                            \"x\": False,   \n",
    "                            \"y\": False,\n",
    "                            \"#\": False,\n",
    "                            \"lexicon\": False,\n",
    "                            }\n",
    "                        ).update_traces(mode='markers+text').data[0])\n",
    "edge_trace.append(middle_node_trace)   \n",
    "fig=go.Figure(data=edge_trace)\n",
    "# fig.update_layout(yaxis_range=[-1.5,1.5],xaxis_range=[-1.5,1.5])\n",
    "fig.update_layout(width=1000,height=1000,\n",
    "                  xaxis=dict(showgrid=False, zeroline=False, showticklabels=False),\n",
    "                  yaxis=dict(showgrid=False, zeroline=False, showticklabels=False))   \n",
    "fig.update_layout(showlegend=False,\n",
    "        paper_bgcolor='rgb(255,255,255)',\n",
    "        plot_bgcolor='rgb(255,255,255)',\n",
    "        font=dict(\n",
    "        #family=\"Courier New, monospace\",\n",
    "        size=16,\n",
    "        color=\"RebeccaPurple\"\n",
    "    ))\n",
    "#fig.data[15]['marker']['color']=np.asarray(['#d6cbd3','#eca1a6','#feb236','#ada397','#6b5b95'])\n",
    "#fig.data[17]['marker']['color']=np.asarray(['#d6cbd3','#eca1a6','#feb236','#ada397','#6b5b95'])\n",
    "fig.for_each_trace(lambda t: t.update(textposition='top center'))\n",
    "# fig.update_traces(marker=dict(color=np.asarray(['#d6cbd3','#eca1a6','#feb236','#ada397','#6b5b95'])))\n",
    "# fig.update_layout(title_text=\"<b>Figure 2. Network of reviews' authors across firm types</b>\",\n",
    "#                   title={'x':0.5,'y':0.95,'font':{'family':'Calibri','size':16}})\n",
    "fig.update_layout(font_family=\"Calibri\",width=1000,height=1000)\n",
    "#fig.update_xaxes(title={'font':{'family':'Calibri','size':14},\n",
    "#                                   'text':'Number of firms described by different tags'})\n",
    "# fig.update_layout(\n",
    "#     margin=dict(l=0, r=0, t=20, b=0))\n",
    "plot(fig,config=dict(\n",
    "                    displayModeBar=False\n",
    "                ))\n",
    "    \n",
    "\n"
   ]
  },
  {
   "cell_type": "code",
   "execution_count": 160,
   "id": "d9ee87e1",
   "metadata": {},
   "outputs": [
    {
     "data": {
      "image/png": "[encoded data removed]",
      "text/plain": [
       "<Figure size 432x288 with 1 Axes>"
      ]
     },
     "metadata": {},
     "output_type": "display_data"
    }
   ],
   "source": [
    "# G = nx.complete_multipartite_graph(28, 16, 10)\n",
    "# pos = nx.multipartite_layout(G, subset_key=\"level\")\n",
    "# nx.draw(G, pos, with_labels=True)\n"
   ]
  },
  {
   "cell_type": "code",
   "execution_count": 206,
   "id": "e38cc68a",
   "metadata": {},
   "outputs": [],
   "source": [
    "# G = nx.from_numpy_matrix(ad_mat)\n",
    "# pos = nx.kamada_kawai_layout(G)\n",
    "# for i in np.arange(most_freq_df.shape[0]):\n",
    "#     G.nodes(data = True)[i]['level'] = most_freq_df['col_tag'].iloc[i]\n",
    "# pos = nx.multipartite_layout(G, subset_key=\"level\")\n",
    "\n",
    "\n",
    "    \n",
    "edge_x = []\n",
    "edge_y = []\n",
    "weight=[]\n",
    "for edge in G.edges():\n",
    "    x0, y0 = pos[edge[0]]\n",
    "    x1, y1 = pos[edge[1]]\n",
    "    weight.append(G.get_edge_data(edge[0],edge[1])['weight'])\n",
    "    edge_x.append(x0)\n",
    "    edge_x.append(x1)\n",
    "    edge_x.append(None)\n",
    "    edge_y.append(y0)\n",
    "    edge_y.append(y1)\n",
    "    edge_y.append(None)\n",
    "    \n",
    "\n",
    "edge_trace = go.Scatter(\n",
    "    x=edge_x, y=edge_y,\n",
    "    line=dict(width=0.5, color='#888'),\n",
    "    hoverinfo='none',\n",
    "    mode='lines')\n",
    "    \n",
    "node_x = []\n",
    "node_y = []\n",
    "for node in G.nodes():\n",
    "    x, y = pos[node]\n",
    "    node_x.append(x)\n",
    "    node_y.append(y)\n",
    "\n",
    "node_trace = go.Scatter(\n",
    "    x=node_x, y=node_y,\n",
    "    mode='markers',\n",
    "    hoverinfo='text',\n",
    "    marker=dict(\n",
    "        showscale=True,\n",
    "        # colorscale options\n",
    "        #'Greys' | 'YlGnBu' | 'Greens' | 'YlOrRd' | 'Bluered' | 'RdBu' |\n",
    "        #'Reds' | 'Blues' | 'Picnic' | 'Rainbow' | 'Portland' | 'Jet' |\n",
    "        #'Hot' | 'Blackbody' | 'Earth' | 'Electric' | 'Viridis' |\n",
    "        colorscale='YlGnBu',\n",
    "        reversescale=True,\n",
    "        color=[],\n",
    "        size=10,\n",
    "        colorbar=dict(\n",
    "            thickness=15,\n",
    "            title='Node Connections',\n",
    "            xanchor='left',\n",
    "            titleside='right'\n",
    "        ),\n",
    "        line_width=2))"
   ]
  },
  {
   "cell_type": "code",
   "execution_count": 207,
   "id": "0edcc80e",
   "metadata": {},
   "outputs": [],
   "source": [
    "node_adjacencies = []\n",
    "node_text = []\n",
    "for node, adjacencies in enumerate(G.adjacency()):\n",
    "    node_adjacencies.append(len(adjacencies[1]))\n",
    "    node_text.append('# of connections: '+str(len(adjacencies[1])))\n",
    "\n",
    "node_trace.marker.color = node_adjacencies\n",
    "node_trace.text = node_text"
   ]
  },
  {
   "cell_type": "code",
   "execution_count": 255,
   "id": "6bb0ad0f",
   "metadata": {},
   "outputs": [
    {
     "data": {
      "text/plain": [
       "'temp-plot.html'"
      ]
     },
     "execution_count": 255,
     "metadata": {},
     "output_type": "execute_result"
    }
   ],
   "source": [
    "fig = go.Figure(data=[edge_trace, node_trace],\n",
    "             layout=go.Layout(\n",
    "                title='<br>Network graph made with Python',\n",
    "                titlefont_size=16,\n",
    "                showlegend=False,\n",
    "                hovermode='closest',\n",
    "                margin=dict(b=20,l=5,r=5,t=40),\n",
    "                annotations=[ dict(\n",
    "                    #text=\"Python code: <a href='https://plotly.com/ipython-notebooks/network-graphs/'> https://plotly.com/ipython-notebooks/network-graphs/</a>\",\n",
    "                    showarrow=False,\n",
    "                    xref=\"paper\", yref=\"paper\",\n",
    "                    x=0.005, y=-0.002 ) ],\n",
    "                xaxis=dict(showgrid=False, zeroline=False, showticklabels=False),\n",
    "                yaxis=dict(showgrid=False, zeroline=False, showticklabels=False))\n",
    "                )\n",
    "plot(fig,config=dict(\n",
    "                    displayModeBar=False\n",
    "                ))\n",
    "    \n"
   ]
  },
  {
   "cell_type": "code",
   "execution_count": 204,
   "id": "7b87fe33",
   "metadata": {},
   "outputs": [],
   "source": [
    "# https://plotly.com/python/network-graphs/"
   ]
  },
  {
   "cell_type": "code",
   "execution_count": null,
   "id": "17602901",
   "metadata": {},
   "outputs": [],
   "source": []
  }
 ],
 "metadata": {
  "kernelspec": {
   "display_name": "Python 3 (ipykernel)",
   "language": "python",
   "name": "python3"
  },
  "language_info": {
   "codemirror_mode": {
    "name": "ipython",
    "version": 3
   },
   "file_extension": ".py",
   "mimetype": "text/x-python",
   "name": "python",
   "nbconvert_exporter": "python",
   "pygments_lexer": "ipython3",
   "version": "3.9.15"
  },
  "toc": {
   "base_numbering": 1,
   "nav_menu": {},
   "number_sections": true,
   "sideBar": true,
   "skip_h1_title": false,
   "title_cell": "Table of Contents",
   "title_sidebar": "Contents",
   "toc_cell": false,
   "toc_position": {},
   "toc_section_display": true,
   "toc_window_display": false
  }
 },
 "nbformat": 4,
 "nbformat_minor": 5
}
