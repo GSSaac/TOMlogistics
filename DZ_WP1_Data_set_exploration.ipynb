{
 "cells": [
  {
   "cell_type": "markdown",
   "metadata": {
    "collapsed": false
   },
   "source": [
    "### DATA SET EXPLORATION\n",
    "1.**Data Quality**\n",
    "2.**NLP preprocessing**\n",
    "3.**descriptive statistics**\n",
    "4.**Visuals(maps,variables distributions,correlations,scatterplots)**\n",
    "5.**Selection of subsets of relevant companies**\n",
    "6.**Summery of insights**\n"
   ]
  },
  {
   "cell_type": "markdown",
   "metadata": {
    "collapsed": false
   },
   "source": [
    "### Data Quality"
   ]
  },
  {
   "cell_type": "code",
   "execution_count": 34,
   "metadata": {
    "collapsed": false
   },
   "outputs": [],
   "source": [
    "import numpy as np\n",
    "import pandas as pd\n",
    "import numpy as np\n",
    "import seaborn as sns # For plotting\n",
    "import matplotlib.cm as plt # For showing plots"
   ]
  },
  {
   "cell_type": "code",
   "execution_count": 35,
   "metadata": {
    "collapsed": false
   },
   "outputs": [],
   "source": [
    "pd.set_option(\"display.max_columns\", 85)\n",
    "pd.set_option(\"display.max_rows\", 85)"
   ]
  },
  {
   "cell_type": "code",
   "execution_count": 36,
   "metadata": {
    "collapsed": false
   },
   "outputs": [],
   "source": [
    "df= pd.read_csv('data/TechLabsDataset.csv')\n"
   ]
  },
  {
   "cell_type": "code",
   "execution_count": 37,
   "metadata": {
    "collapsed": false
   },
   "outputs": [
    {
     "data": {
      "text/html": [
       "<div>\n",
       "<style scoped>\n",
       "    .dataframe tbody tr th:only-of-type {\n",
       "        vertical-align: middle;\n",
       "    }\n",
       "\n",
       "    .dataframe tbody tr th {\n",
       "        vertical-align: top;\n",
       "    }\n",
       "\n",
       "    .dataframe thead th {\n",
       "        text-align: right;\n",
       "    }\n",
       "</style>\n",
       "<table border=\"1\" class=\"dataframe\">\n",
       "  <thead>\n",
       "    <tr style=\"text-align: right;\">\n",
       "      <th></th>\n",
       "      <th>Unnamed: 0</th>\n",
       "      <th>name</th>\n",
       "      <th>type_company</th>\n",
       "      <th>lat</th>\n",
       "      <th>lon</th>\n",
       "      <th>city</th>\n",
       "      <th>avg_stars_num</th>\n",
       "      <th>n_reviews_num</th>\n",
       "      <th>encoded_user</th>\n",
       "      <th>local_guide</th>\n",
       "      <th>clean_other_review_num</th>\n",
       "      <th>published_date</th>\n",
       "      <th>today_date</th>\n",
       "      <th>stars_num</th>\n",
       "      <th>review_EN</th>\n",
       "      <th>original_lang</th>\n",
       "    </tr>\n",
       "  </thead>\n",
       "  <tbody>\n",
       "    <tr>\n",
       "      <th>0</th>\n",
       "      <td>0</td>\n",
       "      <td>Caretrex warehousing &amp; logistics</td>\n",
       "      <td>Logistics service</td>\n",
       "      <td>51.593721</td>\n",
       "      <td>5.073492</td>\n",
       "      <td>Tilburg</td>\n",
       "      <td>5.0</td>\n",
       "      <td>2.0</td>\n",
       "      <td>HHpDM</td>\n",
       "      <td>0.0</td>\n",
       "      <td>4.0</td>\n",
       "      <td>2 years ago</td>\n",
       "      <td>2022-09-24</td>\n",
       "      <td>5.0</td>\n",
       "      <td>NaN</td>\n",
       "      <td>NaN</td>\n",
       "    </tr>\n",
       "    <tr>\n",
       "      <th>1</th>\n",
       "      <td>1</td>\n",
       "      <td>Caretrex warehousing &amp; logistics</td>\n",
       "      <td>Logistics service</td>\n",
       "      <td>51.593721</td>\n",
       "      <td>5.073492</td>\n",
       "      <td>Tilburg</td>\n",
       "      <td>5.0</td>\n",
       "      <td>2.0</td>\n",
       "      <td>dYFWx</td>\n",
       "      <td>0.0</td>\n",
       "      <td>1.0</td>\n",
       "      <td>5 years ago</td>\n",
       "      <td>2022-09-24</td>\n",
       "      <td>5.0</td>\n",
       "      <td>NaN</td>\n",
       "      <td>NaN</td>\n",
       "    </tr>\n",
       "    <tr>\n",
       "      <th>2</th>\n",
       "      <td>2</td>\n",
       "      <td>FEFA Logistics</td>\n",
       "      <td>Trucking company</td>\n",
       "      <td>51.480074</td>\n",
       "      <td>5.446764</td>\n",
       "      <td>Eindhoven</td>\n",
       "      <td>NaN</td>\n",
       "      <td>NaN</td>\n",
       "      <td>NaN</td>\n",
       "      <td>NaN</td>\n",
       "      <td>NaN</td>\n",
       "      <td>NaN</td>\n",
       "      <td>NaN</td>\n",
       "      <td>NaN</td>\n",
       "      <td>NaN</td>\n",
       "      <td>NaN</td>\n",
       "    </tr>\n",
       "    <tr>\n",
       "      <th>3</th>\n",
       "      <td>3</td>\n",
       "      <td>Dekkers Transport Holland</td>\n",
       "      <td>Trucking company</td>\n",
       "      <td>51.597249</td>\n",
       "      <td>5.027990</td>\n",
       "      <td>Tilburg</td>\n",
       "      <td>4.6</td>\n",
       "      <td>53.0</td>\n",
       "      <td>Pp1)c</td>\n",
       "      <td>0.0</td>\n",
       "      <td>5.0</td>\n",
       "      <td>a year ago</td>\n",
       "      <td>2022-09-24</td>\n",
       "      <td>5.0</td>\n",
       "      <td>Best employer ever. Worked there for approxima...</td>\n",
       "      <td>ENG</td>\n",
       "    </tr>\n",
       "    <tr>\n",
       "      <th>4</th>\n",
       "      <td>4</td>\n",
       "      <td>Dekkers Transport Holland</td>\n",
       "      <td>Trucking company</td>\n",
       "      <td>51.597249</td>\n",
       "      <td>5.027990</td>\n",
       "      <td>Tilburg</td>\n",
       "      <td>4.6</td>\n",
       "      <td>53.0</td>\n",
       "      <td>*nk1l</td>\n",
       "      <td>0.0</td>\n",
       "      <td>2.0</td>\n",
       "      <td>a year ago</td>\n",
       "      <td>2022-09-24</td>\n",
       "      <td>5.0</td>\n",
       "      <td>better place with very good people everything ...</td>\n",
       "      <td>ENG</td>\n",
       "    </tr>\n",
       "    <tr>\n",
       "      <th>5</th>\n",
       "      <td>5</td>\n",
       "      <td>Dekkers Transport Holland</td>\n",
       "      <td>Trucking company</td>\n",
       "      <td>51.597249</td>\n",
       "      <td>5.027990</td>\n",
       "      <td>Tilburg</td>\n",
       "      <td>4.6</td>\n",
       "      <td>53.0</td>\n",
       "      <td>69lOZ</td>\n",
       "      <td>0.0</td>\n",
       "      <td>3.0</td>\n",
       "      <td>4 years ago</td>\n",
       "      <td>2022-09-24</td>\n",
       "      <td>5.0</td>\n",
       "      <td>Nice</td>\n",
       "      <td>ENG</td>\n",
       "    </tr>\n",
       "    <tr>\n",
       "      <th>6</th>\n",
       "      <td>6</td>\n",
       "      <td>Dekkers Transport Holland</td>\n",
       "      <td>Trucking company</td>\n",
       "      <td>51.597249</td>\n",
       "      <td>5.027990</td>\n",
       "      <td>Tilburg</td>\n",
       "      <td>4.6</td>\n",
       "      <td>53.0</td>\n",
       "      <td>&amp;7jv4</td>\n",
       "      <td>0.0</td>\n",
       "      <td>27.0</td>\n",
       "      <td>3 months ago</td>\n",
       "      <td>2022-09-24</td>\n",
       "      <td>5.0</td>\n",
       "      <td>Good firm. The staff are very welcoming and f...</td>\n",
       "      <td>NOT_ENG</td>\n",
       "    </tr>\n",
       "    <tr>\n",
       "      <th>7</th>\n",
       "      <td>7</td>\n",
       "      <td>Dekkers Transport Holland</td>\n",
       "      <td>Trucking company</td>\n",
       "      <td>51.597249</td>\n",
       "      <td>5.027990</td>\n",
       "      <td>Tilburg</td>\n",
       "      <td>4.6</td>\n",
       "      <td>53.0</td>\n",
       "      <td>K2#6M</td>\n",
       "      <td>1.0</td>\n",
       "      <td>24.0</td>\n",
       "      <td>4 months ago</td>\n",
       "      <td>2022-09-24</td>\n",
       "      <td>5.0</td>\n",
       "      <td>Top company, and coffee, so recommended\\r\\n\\r\\n</td>\n",
       "      <td>NOT_ENG</td>\n",
       "    </tr>\n",
       "    <tr>\n",
       "      <th>8</th>\n",
       "      <td>8</td>\n",
       "      <td>Dekkers Transport Holland</td>\n",
       "      <td>Trucking company</td>\n",
       "      <td>51.597249</td>\n",
       "      <td>5.027990</td>\n",
       "      <td>Tilburg</td>\n",
       "      <td>4.6</td>\n",
       "      <td>53.0</td>\n",
       "      <td>xJ(Zc</td>\n",
       "      <td>0.0</td>\n",
       "      <td>1.0</td>\n",
       "      <td>a year ago</td>\n",
       "      <td>2022-09-24</td>\n",
       "      <td>5.0</td>\n",
       "      <td>A very neat company with professional people ...</td>\n",
       "      <td>NOT_ENG</td>\n",
       "    </tr>\n",
       "    <tr>\n",
       "      <th>9</th>\n",
       "      <td>9</td>\n",
       "      <td>Dekkers Transport Holland</td>\n",
       "      <td>Trucking company</td>\n",
       "      <td>51.597249</td>\n",
       "      <td>5.027990</td>\n",
       "      <td>Tilburg</td>\n",
       "      <td>4.6</td>\n",
       "      <td>53.0</td>\n",
       "      <td>QGfwK</td>\n",
       "      <td>1.0</td>\n",
       "      <td>36.0</td>\n",
       "      <td>4 months ago</td>\n",
       "      <td>2022-09-24</td>\n",
       "      <td>5.0</td>\n",
       "      <td>Friendly staff and quickly released\\r\\n\\r\\n</td>\n",
       "      <td>NOT_ENG</td>\n",
       "    </tr>\n",
       "    <tr>\n",
       "      <th>10</th>\n",
       "      <td>10</td>\n",
       "      <td>Dekkers Transport Holland</td>\n",
       "      <td>Trucking company</td>\n",
       "      <td>51.597249</td>\n",
       "      <td>5.027990</td>\n",
       "      <td>Tilburg</td>\n",
       "      <td>4.6</td>\n",
       "      <td>53.0</td>\n",
       "      <td>cJHxU</td>\n",
       "      <td>0.0</td>\n",
       "      <td>4.0</td>\n",
       "      <td>9 months ago</td>\n",
       "      <td>2022-09-24</td>\n",
       "      <td>5.0</td>\n",
       "      <td>Very pleasant experience, very pleasant and h...</td>\n",
       "      <td>NOT_ENG</td>\n",
       "    </tr>\n",
       "    <tr>\n",
       "      <th>11</th>\n",
       "      <td>11</td>\n",
       "      <td>Dekkers Transport Holland</td>\n",
       "      <td>Trucking company</td>\n",
       "      <td>51.597249</td>\n",
       "      <td>5.027990</td>\n",
       "      <td>Tilburg</td>\n",
       "      <td>4.6</td>\n",
       "      <td>53.0</td>\n",
       "      <td>9^Ikf</td>\n",
       "      <td>0.0</td>\n",
       "      <td>1.0</td>\n",
       "      <td>a year ago</td>\n",
       "      <td>2022-09-24</td>\n",
       "      <td>4.0</td>\n",
       "      <td>Code 95 done here via driving school Tilburg,...</td>\n",
       "      <td>NOT_ENG</td>\n",
       "    </tr>\n",
       "    <tr>\n",
       "      <th>12</th>\n",
       "      <td>12</td>\n",
       "      <td>Dekkers Transport Holland</td>\n",
       "      <td>Trucking company</td>\n",
       "      <td>51.597249</td>\n",
       "      <td>5.027990</td>\n",
       "      <td>Tilburg</td>\n",
       "      <td>4.6</td>\n",
       "      <td>53.0</td>\n",
       "      <td>U5jWG</td>\n",
       "      <td>0.0</td>\n",
       "      <td>7.0</td>\n",
       "      <td>2 years ago</td>\n",
       "      <td>2022-09-24</td>\n",
       "      <td>1.0</td>\n",
       "      <td>Very bad how these people interact with other...</td>\n",
       "      <td>NOT_ENG</td>\n",
       "    </tr>\n",
       "    <tr>\n",
       "      <th>13</th>\n",
       "      <td>13</td>\n",
       "      <td>Dekkers Transport Holland</td>\n",
       "      <td>Trucking company</td>\n",
       "      <td>51.597249</td>\n",
       "      <td>5.027990</td>\n",
       "      <td>Tilburg</td>\n",
       "      <td>4.6</td>\n",
       "      <td>53.0</td>\n",
       "      <td>IGWow</td>\n",
       "      <td>1.0</td>\n",
       "      <td>37.0</td>\n",
       "      <td>a year ago</td>\n",
       "      <td>2022-09-24</td>\n",
       "      <td>5.0</td>\n",
       "      <td>Super\\r\\n\\r\\n</td>\n",
       "      <td>NOT_ENG</td>\n",
       "    </tr>\n",
       "    <tr>\n",
       "      <th>14</th>\n",
       "      <td>14</td>\n",
       "      <td>Dekkers Transport Holland</td>\n",
       "      <td>Trucking company</td>\n",
       "      <td>51.597249</td>\n",
       "      <td>5.027990</td>\n",
       "      <td>Tilburg</td>\n",
       "      <td>4.6</td>\n",
       "      <td>53.0</td>\n",
       "      <td>Em0Qd</td>\n",
       "      <td>1.0</td>\n",
       "      <td>51.0</td>\n",
       "      <td>a year ago</td>\n",
       "      <td>2022-09-24</td>\n",
       "      <td>1.0</td>\n",
       "      <td>I do not recommend it as a truck driver\\r\\n\\r\\n</td>\n",
       "      <td>NOT_ENG</td>\n",
       "    </tr>\n",
       "    <tr>\n",
       "      <th>15</th>\n",
       "      <td>15</td>\n",
       "      <td>Dekkers Transport Holland</td>\n",
       "      <td>Trucking company</td>\n",
       "      <td>51.597249</td>\n",
       "      <td>5.027990</td>\n",
       "      <td>Tilburg</td>\n",
       "      <td>4.6</td>\n",
       "      <td>53.0</td>\n",
       "      <td>T@eui</td>\n",
       "      <td>0.0</td>\n",
       "      <td>7.0</td>\n",
       "      <td>4 years ago</td>\n",
       "      <td>2022-09-24</td>\n",
       "      <td>5.0</td>\n",
       "      <td>Nice transport company specialized in the tra...</td>\n",
       "      <td>NOT_ENG</td>\n",
       "    </tr>\n",
       "    <tr>\n",
       "      <th>16</th>\n",
       "      <td>16</td>\n",
       "      <td>Dekkers Transport Holland</td>\n",
       "      <td>Trucking company</td>\n",
       "      <td>51.597249</td>\n",
       "      <td>5.027990</td>\n",
       "      <td>Tilburg</td>\n",
       "      <td>4.6</td>\n",
       "      <td>53.0</td>\n",
       "      <td>LFd&amp;v</td>\n",
       "      <td>1.0</td>\n",
       "      <td>241.0</td>\n",
       "      <td>11 months ago</td>\n",
       "      <td>2022-09-24</td>\n",
       "      <td>5.0</td>\n",
       "      <td>House environment\\r\\n\\r\\n</td>\n",
       "      <td>NOT_ENG</td>\n",
       "    </tr>\n",
       "    <tr>\n",
       "      <th>17</th>\n",
       "      <td>17</td>\n",
       "      <td>Dekkers Transport Holland</td>\n",
       "      <td>Trucking company</td>\n",
       "      <td>51.597249</td>\n",
       "      <td>5.027990</td>\n",
       "      <td>Tilburg</td>\n",
       "      <td>4.6</td>\n",
       "      <td>53.0</td>\n",
       "      <td>PB312</td>\n",
       "      <td>0.0</td>\n",
       "      <td>3.0</td>\n",
       "      <td>9 months ago</td>\n",
       "      <td>2022-09-24</td>\n",
       "      <td>5.0</td>\n",
       "      <td>👌👌👌</td>\n",
       "      <td>ENG</td>\n",
       "    </tr>\n",
       "    <tr>\n",
       "      <th>18</th>\n",
       "      <td>18</td>\n",
       "      <td>Dekkers Transport Holland</td>\n",
       "      <td>Trucking company</td>\n",
       "      <td>51.597249</td>\n",
       "      <td>5.027990</td>\n",
       "      <td>Tilburg</td>\n",
       "      <td>4.6</td>\n",
       "      <td>53.0</td>\n",
       "      <td>9$yM&amp;</td>\n",
       "      <td>0.0</td>\n",
       "      <td>2.0</td>\n",
       "      <td>a year ago</td>\n",
       "      <td>2022-09-24</td>\n",
       "      <td>5.0</td>\n",
       "      <td>they are great as a team\\r\\n\\r\\n</td>\n",
       "      <td>NOT_ENG</td>\n",
       "    </tr>\n",
       "    <tr>\n",
       "      <th>19</th>\n",
       "      <td>19</td>\n",
       "      <td>Dekkers Transport Holland</td>\n",
       "      <td>Trucking company</td>\n",
       "      <td>51.597249</td>\n",
       "      <td>5.027990</td>\n",
       "      <td>Tilburg</td>\n",
       "      <td>4.6</td>\n",
       "      <td>53.0</td>\n",
       "      <td>f(WGb</td>\n",
       "      <td>1.0</td>\n",
       "      <td>58.0</td>\n",
       "      <td>6 days ago</td>\n",
       "      <td>2022-09-24</td>\n",
       "      <td>5.0</td>\n",
       "      <td>Great class passion for work\\r\\n\\r\\n</td>\n",
       "      <td>NOT_ENG</td>\n",
       "    </tr>\n",
       "  </tbody>\n",
       "</table>\n",
       "</div>"
      ],
      "text/plain": [
       "    Unnamed: 0                              name       type_company  \\\n",
       "0            0  Caretrex warehousing & logistics  Logistics service   \n",
       "1            1  Caretrex warehousing & logistics  Logistics service   \n",
       "2            2                    FEFA Logistics   Trucking company   \n",
       "3            3         Dekkers Transport Holland   Trucking company   \n",
       "4            4         Dekkers Transport Holland   Trucking company   \n",
       "5            5         Dekkers Transport Holland   Trucking company   \n",
       "6            6         Dekkers Transport Holland   Trucking company   \n",
       "7            7         Dekkers Transport Holland   Trucking company   \n",
       "8            8         Dekkers Transport Holland   Trucking company   \n",
       "9            9         Dekkers Transport Holland   Trucking company   \n",
       "10          10         Dekkers Transport Holland   Trucking company   \n",
       "11          11         Dekkers Transport Holland   Trucking company   \n",
       "12          12         Dekkers Transport Holland   Trucking company   \n",
       "13          13         Dekkers Transport Holland   Trucking company   \n",
       "14          14         Dekkers Transport Holland   Trucking company   \n",
       "15          15         Dekkers Transport Holland   Trucking company   \n",
       "16          16         Dekkers Transport Holland   Trucking company   \n",
       "17          17         Dekkers Transport Holland   Trucking company   \n",
       "18          18         Dekkers Transport Holland   Trucking company   \n",
       "19          19         Dekkers Transport Holland   Trucking company   \n",
       "\n",
       "          lat       lon       city  avg_stars_num  n_reviews_num encoded_user  \\\n",
       "0   51.593721  5.073492    Tilburg            5.0            2.0        HHpDM   \n",
       "1   51.593721  5.073492    Tilburg            5.0            2.0        dYFWx   \n",
       "2   51.480074  5.446764  Eindhoven            NaN            NaN          NaN   \n",
       "3   51.597249  5.027990    Tilburg            4.6           53.0        Pp1)c   \n",
       "4   51.597249  5.027990    Tilburg            4.6           53.0        *nk1l   \n",
       "5   51.597249  5.027990    Tilburg            4.6           53.0        69lOZ   \n",
       "6   51.597249  5.027990    Tilburg            4.6           53.0        &7jv4   \n",
       "7   51.597249  5.027990    Tilburg            4.6           53.0        K2#6M   \n",
       "8   51.597249  5.027990    Tilburg            4.6           53.0        xJ(Zc   \n",
       "9   51.597249  5.027990    Tilburg            4.6           53.0        QGfwK   \n",
       "10  51.597249  5.027990    Tilburg            4.6           53.0        cJHxU   \n",
       "11  51.597249  5.027990    Tilburg            4.6           53.0        9^Ikf   \n",
       "12  51.597249  5.027990    Tilburg            4.6           53.0        U5jWG   \n",
       "13  51.597249  5.027990    Tilburg            4.6           53.0        IGWow   \n",
       "14  51.597249  5.027990    Tilburg            4.6           53.0        Em0Qd   \n",
       "15  51.597249  5.027990    Tilburg            4.6           53.0        T@eui   \n",
       "16  51.597249  5.027990    Tilburg            4.6           53.0        LFd&v   \n",
       "17  51.597249  5.027990    Tilburg            4.6           53.0        PB312   \n",
       "18  51.597249  5.027990    Tilburg            4.6           53.0        9$yM&   \n",
       "19  51.597249  5.027990    Tilburg            4.6           53.0        f(WGb   \n",
       "\n",
       "    local_guide  clean_other_review_num published_date  today_date  stars_num  \\\n",
       "0           0.0                     4.0    2 years ago  2022-09-24        5.0   \n",
       "1           0.0                     1.0    5 years ago  2022-09-24        5.0   \n",
       "2           NaN                     NaN            NaN         NaN        NaN   \n",
       "3           0.0                     5.0     a year ago  2022-09-24        5.0   \n",
       "4           0.0                     2.0     a year ago  2022-09-24        5.0   \n",
       "5           0.0                     3.0    4 years ago  2022-09-24        5.0   \n",
       "6           0.0                    27.0   3 months ago  2022-09-24        5.0   \n",
       "7           1.0                    24.0   4 months ago  2022-09-24        5.0   \n",
       "8           0.0                     1.0     a year ago  2022-09-24        5.0   \n",
       "9           1.0                    36.0   4 months ago  2022-09-24        5.0   \n",
       "10          0.0                     4.0   9 months ago  2022-09-24        5.0   \n",
       "11          0.0                     1.0     a year ago  2022-09-24        4.0   \n",
       "12          0.0                     7.0    2 years ago  2022-09-24        1.0   \n",
       "13          1.0                    37.0     a year ago  2022-09-24        5.0   \n",
       "14          1.0                    51.0     a year ago  2022-09-24        1.0   \n",
       "15          0.0                     7.0    4 years ago  2022-09-24        5.0   \n",
       "16          1.0                   241.0  11 months ago  2022-09-24        5.0   \n",
       "17          0.0                     3.0   9 months ago  2022-09-24        5.0   \n",
       "18          0.0                     2.0     a year ago  2022-09-24        5.0   \n",
       "19          1.0                    58.0     6 days ago  2022-09-24        5.0   \n",
       "\n",
       "                                            review_EN original_lang  \n",
       "0                                                 NaN           NaN  \n",
       "1                                                 NaN           NaN  \n",
       "2                                                 NaN           NaN  \n",
       "3   Best employer ever. Worked there for approxima...           ENG  \n",
       "4   better place with very good people everything ...           ENG  \n",
       "5                                                Nice           ENG  \n",
       "6    Good firm. The staff are very welcoming and f...       NOT_ENG  \n",
       "7     Top company, and coffee, so recommended\\r\\n\\r\\n       NOT_ENG  \n",
       "8    A very neat company with professional people ...       NOT_ENG  \n",
       "9         Friendly staff and quickly released\\r\\n\\r\\n       NOT_ENG  \n",
       "10   Very pleasant experience, very pleasant and h...       NOT_ENG  \n",
       "11   Code 95 done here via driving school Tilburg,...       NOT_ENG  \n",
       "12   Very bad how these people interact with other...       NOT_ENG  \n",
       "13                                      Super\\r\\n\\r\\n       NOT_ENG  \n",
       "14    I do not recommend it as a truck driver\\r\\n\\r\\n       NOT_ENG  \n",
       "15   Nice transport company specialized in the tra...       NOT_ENG  \n",
       "16                          House environment\\r\\n\\r\\n       NOT_ENG  \n",
       "17                                                👌👌👌           ENG  \n",
       "18                   they are great as a team\\r\\n\\r\\n       NOT_ENG  \n",
       "19               Great class passion for work\\r\\n\\r\\n       NOT_ENG  "
      ]
     },
     "execution_count": 37,
     "metadata": {},
     "output_type": "execute_result"
    }
   ],
   "source": [
    "df.head(20)"
   ]
  },
  {
   "cell_type": "code",
   "execution_count": 38,
   "metadata": {
    "collapsed": false
   },
   "outputs": [
    {
     "name": "stdout",
     "output_type": "stream",
     "text": [
      "Index(['Unnamed: 0', 'name', 'type_company', 'lat', 'lon', 'city',\n",
      "       'avg_stars_num', 'n_reviews_num', 'encoded_user', 'local_guide',\n",
      "       'clean_other_review_num', 'published_date', 'today_date', 'stars_num',\n",
      "       'review_EN', 'original_lang'],\n",
      "      dtype='object')\n"
     ]
    }
   ],
   "source": [
    "df.columns\n",
    "print(df.columns)"
   ]
  },
  {
   "cell_type": "code",
   "execution_count": 39,
   "metadata": {
    "collapsed": false
   },
   "outputs": [
    {
     "data": {
      "text/html": [
       "<div>\n",
       "<style scoped>\n",
       "    .dataframe tbody tr th:only-of-type {\n",
       "        vertical-align: middle;\n",
       "    }\n",
       "\n",
       "    .dataframe tbody tr th {\n",
       "        vertical-align: top;\n",
       "    }\n",
       "\n",
       "    .dataframe thead th {\n",
       "        text-align: right;\n",
       "    }\n",
       "</style>\n",
       "<table border=\"1\" class=\"dataframe\">\n",
       "  <thead>\n",
       "    <tr style=\"text-align: right;\">\n",
       "      <th></th>\n",
       "      <th>Unnamed: 0</th>\n",
       "      <th>lat</th>\n",
       "      <th>lon</th>\n",
       "      <th>avg_stars_num</th>\n",
       "      <th>n_reviews_num</th>\n",
       "      <th>local_guide</th>\n",
       "      <th>clean_other_review_num</th>\n",
       "      <th>stars_num</th>\n",
       "    </tr>\n",
       "  </thead>\n",
       "  <tbody>\n",
       "    <tr>\n",
       "      <th>count</th>\n",
       "      <td>8080.000000</td>\n",
       "      <td>8080.000000</td>\n",
       "      <td>8080.000000</td>\n",
       "      <td>7921.000000</td>\n",
       "      <td>7921.000000</td>\n",
       "      <td>7236.000000</td>\n",
       "      <td>7141.000000</td>\n",
       "      <td>7911.000000</td>\n",
       "    </tr>\n",
       "    <tr>\n",
       "      <th>mean</th>\n",
       "      <td>4039.500000</td>\n",
       "      <td>51.643661</td>\n",
       "      <td>5.011439</td>\n",
       "      <td>3.976354</td>\n",
       "      <td>168.957834</td>\n",
       "      <td>0.539939</td>\n",
       "      <td>58.193110</td>\n",
       "      <td>3.978258</td>\n",
       "    </tr>\n",
       "    <tr>\n",
       "      <th>std</th>\n",
       "      <td>2332.639421</td>\n",
       "      <td>0.225721</td>\n",
       "      <td>0.414244</td>\n",
       "      <td>0.533461</td>\n",
       "      <td>133.222970</td>\n",
       "      <td>0.498437</td>\n",
       "      <td>127.036557</td>\n",
       "      <td>1.437719</td>\n",
       "    </tr>\n",
       "    <tr>\n",
       "      <th>min</th>\n",
       "      <td>0.000000</td>\n",
       "      <td>50.998084</td>\n",
       "      <td>4.173568</td>\n",
       "      <td>1.000000</td>\n",
       "      <td>1.000000</td>\n",
       "      <td>0.000000</td>\n",
       "      <td>1.000000</td>\n",
       "      <td>1.000000</td>\n",
       "    </tr>\n",
       "    <tr>\n",
       "      <th>25%</th>\n",
       "      <td>2019.750000</td>\n",
       "      <td>51.499010</td>\n",
       "      <td>4.748007</td>\n",
       "      <td>3.800000</td>\n",
       "      <td>49.000000</td>\n",
       "      <td>0.000000</td>\n",
       "      <td>4.000000</td>\n",
       "      <td>3.000000</td>\n",
       "    </tr>\n",
       "    <tr>\n",
       "      <th>50%</th>\n",
       "      <td>4039.500000</td>\n",
       "      <td>51.599276</td>\n",
       "      <td>5.008839</td>\n",
       "      <td>4.100000</td>\n",
       "      <td>138.000000</td>\n",
       "      <td>1.000000</td>\n",
       "      <td>16.000000</td>\n",
       "      <td>5.000000</td>\n",
       "    </tr>\n",
       "    <tr>\n",
       "      <th>75%</th>\n",
       "      <td>6059.250000</td>\n",
       "      <td>51.696315</td>\n",
       "      <td>5.394760</td>\n",
       "      <td>4.300000</td>\n",
       "      <td>306.000000</td>\n",
       "      <td>1.000000</td>\n",
       "      <td>57.000000</td>\n",
       "      <td>5.000000</td>\n",
       "    </tr>\n",
       "    <tr>\n",
       "      <th>max</th>\n",
       "      <td>8079.000000</td>\n",
       "      <td>52.372056</td>\n",
       "      <td>6.183320</td>\n",
       "      <td>5.000000</td>\n",
       "      <td>431.000000</td>\n",
       "      <td>1.000000</td>\n",
       "      <td>1829.000000</td>\n",
       "      <td>5.000000</td>\n",
       "    </tr>\n",
       "  </tbody>\n",
       "</table>\n",
       "</div>"
      ],
      "text/plain": [
       "        Unnamed: 0          lat          lon  avg_stars_num  n_reviews_num  \\\n",
       "count  8080.000000  8080.000000  8080.000000    7921.000000    7921.000000   \n",
       "mean   4039.500000    51.643661     5.011439       3.976354     168.957834   \n",
       "std    2332.639421     0.225721     0.414244       0.533461     133.222970   \n",
       "min       0.000000    50.998084     4.173568       1.000000       1.000000   \n",
       "25%    2019.750000    51.499010     4.748007       3.800000      49.000000   \n",
       "50%    4039.500000    51.599276     5.008839       4.100000     138.000000   \n",
       "75%    6059.250000    51.696315     5.394760       4.300000     306.000000   \n",
       "max    8079.000000    52.372056     6.183320       5.000000     431.000000   \n",
       "\n",
       "       local_guide  clean_other_review_num    stars_num  \n",
       "count  7236.000000             7141.000000  7911.000000  \n",
       "mean      0.539939               58.193110     3.978258  \n",
       "std       0.498437              127.036557     1.437719  \n",
       "min       0.000000                1.000000     1.000000  \n",
       "25%       0.000000                4.000000     3.000000  \n",
       "50%       1.000000               16.000000     5.000000  \n",
       "75%       1.000000               57.000000     5.000000  \n",
       "max       1.000000             1829.000000     5.000000  "
      ]
     },
     "execution_count": 39,
     "metadata": {},
     "output_type": "execute_result"
    }
   ],
   "source": [
    "df.describe()"
   ]
  },
  {
   "cell_type": "code",
   "execution_count": 40,
   "metadata": {
    "collapsed": false
   },
   "outputs": [
    {
     "name": "stdout",
     "output_type": "stream",
     "text": [
      "Our survey data has 8080 rows and 16 columns.\n"
     ]
    }
   ],
   "source": [
    "rows,columns=df.shape\n",
    "print(\"Our survey data has {} rows and {} columns.\".format(rows, columns))"
   ]
  },
  {
   "cell_type": "code",
   "execution_count": 41,
   "metadata": {
    "collapsed": false
   },
   "outputs": [
    {
     "data": {
      "text/plain": [
       "Unnamed: 0                  int64\n",
       "name                       object\n",
       "type_company               object\n",
       "lat                       float64\n",
       "lon                       float64\n",
       "city                       object\n",
       "avg_stars_num             float64\n",
       "n_reviews_num             float64\n",
       "encoded_user               object\n",
       "local_guide               float64\n",
       "clean_other_review_num    float64\n",
       "published_date             object\n",
       "today_date                 object\n",
       "stars_num                 float64\n",
       "review_EN                  object\n",
       "original_lang              object\n",
       "dtype: object"
      ]
     },
     "execution_count": 41,
     "metadata": {},
     "output_type": "execute_result"
    }
   ],
   "source": [
    "df.dtypes #what type of data is each column"
   ]
  },
  {
   "cell_type": "code",
   "execution_count": 42,
   "metadata": {
    "collapsed": false
   },
   "outputs": [
    {
     "data": {
      "text/plain": [
       "city        name                                                \n",
       "Nieuwegein  First Logistics B.V.                                    435\n",
       "Eindhoven   Van Spreuwel Transport                                  384\n",
       "Tilburg     Claassen Logistics                                      351\n",
       "            ID Logistics Benelux                                    333\n",
       "            GVT Transport & Logistics Tilburg                       321\n",
       "                                                                   ... \n",
       "Rijen       Hendrickx Transport & Logistics B.V.                      1\n",
       "Breda       Consafe Logistics B.V.                                    1\n",
       "            Almax Executive Management, Logistics & Supply Chain      1\n",
       "            Air Logistics Europe BV                                   1\n",
       "Rotterdam   Himex Logistics BV                                        1\n",
       "Length: 391, dtype: int64"
      ]
     },
     "execution_count": 42,
     "metadata": {},
     "output_type": "execute_result"
    }
   ],
   "source": [
    "#Grouped by city and sorted by quantity\n",
    "logistics_by_City=df.groupby(['city','name']).size()\n",
    "logistics_by_City.sort_values(ascending=False)"
   ]
  },
  {
   "cell_type": "code",
   "execution_count": 43,
   "metadata": {
    "collapsed": false
   },
   "outputs": [
    {
     "name": "stdout",
     "output_type": "stream",
     "text": [
      "17\n"
     ]
    }
   ],
   "source": [
    "# unique values of type companies\n",
    "\n",
    "print(len((df['type_company'].unique())))\n"
   ]
  },
  {
   "cell_type": "markdown",
   "metadata": {
    "collapsed": false
   },
   "source": [
    "##Companies by name"
   ]
  },
  {
   "cell_type": "code",
   "execution_count": 44,
   "metadata": {
    "collapsed": false
   },
   "outputs": [
    {
     "data": {
      "text/plain": [
       "array(['010 Logistics', '24/7 Logistic Solutions B.V.',\n",
       "       '4 Logistics Netherlands B.V.', '61 Logistics',\n",
       "       'A. den Hartog Transport Langerak BV', 'A.N.S. Koeriers',\n",
       "       'A2 Logistics', 'AAB Logistics', 'AG Koeriers',\n",
       "       'ARCO Transport & Logistics B.V.', 'AT Logistics B.V.',\n",
       "       'ATL Logistics BV', 'ATM Logistics', 'AX Koeriersdiensten',\n",
       "       'AZ Koeriers', 'Abx Logistics Nederland Bv',\n",
       "       'Africa Shipping Logistics', 'Air Logistics Europe BV',\n",
       "       'Allroad Logistics',\n",
       "       'Almax Executive Management, Logistics & Supply Chain',\n",
       "       'Alp Transport en Logistics', 'Aramex', 'Archers Logistics',\n",
       "       'Arena Freight B.V.', 'Arieas Logistics B.V.',\n",
       "       'Arma Logistics B.V.', 'Arrow Lights', 'Atic Services Logistics',\n",
       "       'Auction Logistics', 'Auction Logistics B.V.', 'AzSa Logistics',\n",
       "       'B.K.Logistics', 'B.L. Logistics B.V.', 'BBC Express BV',\n",
       "       'BBL-ROTTERDAM', 'BK Logistics B.V.', 'BM Interfreight B.V.',\n",
       "       'BTS Transport B.V.', 'BVW Logistics B.V.',\n",
       "       'Backdrop Logistics B.V.', 'Balans Logistics B.V.',\n",
       "       'Baris Koeriersdiensten', 'Barsan Group', 'Basant Logistics',\n",
       "       'Base Logistics BV', 'Bax Global Logistics Holding B.V.',\n",
       "       'Bemotrans Freight Forwarding B.V.', 'Berserik logistics B.V.',\n",
       "       'Best-Logistics.nl', 'Biz Logistics', 'Blonk Logistics B.v.',\n",
       "       'Blue Logistics', 'Bos Logistics Schiphol',\n",
       "       'Botlek Logistics b.v.', 'Bouwman Logistics B.V.',\n",
       "       'Braanker Logistics', 'Brans Logistic Services',\n",
       "       'Breewe Logistics', 'Broekman Logistics Limburg B.V.',\n",
       "       'Brunslogistics', 'Bulk Logistic Solutions (BLS) B.V.',\n",
       "       'Bunnik Logistics', 'C. Express', 'C.S.T. Logistics',\n",
       "       'CBK Logistics', 'CEVA Logistics Born 1',\n",
       "       'CJ Logistics Europe B.V.', 'CTG Logistics BV',\n",
       "       'Caretrex warehousing & logistics',\n",
       "       'Cargo Logistics B.V. | Verzorgt complete logistieke ontzorging',\n",
       "       'Cgate Logistics Belgium', 'Chain Logistics BV', 'ChainCargo',\n",
       "       'Chr. Vermeer Transport B.V.', 'Cityline Logistics BV',\n",
       "       'Claassen Logistics', 'Coastlink B.V.', 'Consafe Logistics B.V.',\n",
       "       'Continue Logistics', 'Cotra Logistics Solutions BV',\n",
       "       'Crane Worldwide Logistics', 'Cropas Expeditie',\n",
       "       'DBD- Bus -en Combo Logistiek', 'DBT Logistics',\n",
       "       'DFDS Logistics Nijmegen BV', 'DHL Supply Chain Eindhoven',\n",
       "       'DHL Techn. Distribution B.V.', 'DM Logistics B.V.',\n",
       "       'DNA United Forwarders Ltd.', 'DR Logistics BV', 'Dcbnl B.V.',\n",
       "       'Dds Logistics B.v.', 'De Graaf Logistics BV',\n",
       "       'De Winter Logistics', 'Decathlon Distributiecentrum',\n",
       "       'Dedicated Logistics Services', 'Dekkers Transport Holland',\n",
       "       'DiLX (A Gateway Group Company)', 'Dibhcon Logistics Consultant',\n",
       "       'Dockx Logistics', 'Dunkan Worldwide', 'EA logistics & moving',\n",
       "       'ECW Logistics B. V.', 'ELS-Logistics B.V.', 'EMQ Logistics B.V.',\n",
       "       'EXPO LOGISTICS DEPT', 'Eastlink Logistics BV',\n",
       "       'Eastwood Forwarding B.V.', 'Eco Green Logistics B.V.',\n",
       "       'Ecw Logistics B.V.', 'Efficient Logistics', 'Elst Logistics B.V.',\n",
       "       'Elst Transport', 'Erik Geboers Internationaal Transport',\n",
       "       'European Shipping and Transport Agencies B.V.',\n",
       "       'Eurostars Logistics | Koeriersdiensten', 'Excellent Logistics',\n",
       "       'F.Coremans', 'FEFA Logistics', 'FEMA LOGISTICS',\n",
       "       'Fairways Logistics B.v.', 'Falcon Logistics',\n",
       "       'Fast Forward Logistics - Distribution', 'Fatrans Logistics B.V.',\n",
       "       'Fds Europe Logistics B.V.', 'Finval Shipping BV',\n",
       "       'Firm Logistics', 'First Logistics B.V.', 'Formula 1 Logistics',\n",
       "       'Frankena Logistics', 'Freightlive', 'Freightned Logistics B.V.',\n",
       "       'GMG Logistics', 'GTC Global Logistics B.V.',\n",
       "       'GTD-Transportdiensten', 'GVT Transport & Logistics Tilburg',\n",
       "       'Galal Export', 'Genesis logistics company', 'Gerritsen Group BV',\n",
       "       'Gig@ Tr@nsport', 'Gladiator Logistics',\n",
       "       'Global Logistics Agencies Netherlands BV',\n",
       "       'Global Logistics Holland B.V.', 'Global Logistics Services',\n",
       "       'Globalistics', 'Globe Tranz', 'Gvm Logistics',\n",
       "       'HE-Logistics BV Transport and logistics', 'HLS Logistics B.V.',\n",
       "       'Haco International Trading', 'Hartog Logistics B.V.',\n",
       "       'Heesbeen Transport', 'Hendrickx Transport & Logistics B.V.',\n",
       "       'Heumen Logistics BV', 'Himex Logistics BV', 'Hiram transport',\n",
       "       'Hoosemans Transport - Logistics en Consultancy',\n",
       "       'ID Logistics Benelux', 'IG Logistics B.V.', 'IMS LOGISTICS BV',\n",
       "       'ITS Breda BV', 'Id logistics b.v.', 'Imperial Logistics',\n",
       "       'InTime Logistics & Consulting',\n",
       "       'Independent Commodities Logistics B.V.',\n",
       "       'Independent Transport Logistics bv',\n",
       "       'International Couriers Express', 'Intertrans Logistics B.V.',\n",
       "       'JCL Logistics Benelux B.V.', 'JTS Logistics BV', 'JWK Logistics',\n",
       "       'Jan De Rijk Retail', 'Jan de Rijk Benelux B.V.',\n",
       "       'Jan de Rijk Logistics HQ', 'Jawimex Logiqs',\n",
       "       'JeCeTe Logistics B.V.', 'Jorden Logistics BV', 'K&F express',\n",
       "       'KDS Logistics', 'KNB Logistics BV', 'KS Project Logistics',\n",
       "       'Kaathoven Logistic Service', 'Kaplan Logistics B.V.',\n",
       "       'Kennis Transport en Logistics BV',\n",
       "       'Kerry Logistics (Netherlands) BV', 'Kruining Logistics',\n",
       "       'Kusters Logistics', 'L.H. Logistics', 'L.L. Koerier',\n",
       "       'LB-Logistics',\n",
       "       'LV Logistics (ontstaan uit J. Lensveld & Zonen BV)',\n",
       "       'Lankveld Logistics B.V.', 'Leeuw Shipping & Logistics G de',\n",
       "       'Level Logistics', 'Lifetime Logistics',\n",
       "       'Lina Transport & Logistics', 'Lindsey Logistics',\n",
       "       'Linex Logistics B.V.', 'Lion Logistics Oss',\n",
       "       'Logic 4u - Logical Logistics BV', 'Logistic Workx BV',\n",
       "       'Logistics Company Tilburg B.V.', 'Logix Global Forwarding B.V.',\n",
       "       'Louwman Logistics', 'Lucas Logistics B.V.', 'M4 Koeriers',\n",
       "       'M4 Transport & Logistics', 'M665 Logistics', 'MDW Sneltransport',\n",
       "       'MJ Fast Deliveries', 'MNG Logistics', 'MP-Logistics',\n",
       "       'MY Package Koeriersdiensten', 'Maher Logistics B.V.',\n",
       "       'Mango Logistics', 'Marco van Gool Transport',\n",
       "       'Merchant Logistics bv', 'Michael Allround Serv. Company',\n",
       "       'Milloa Logistics', 'MovingYou', 'Mwd Logistics',\n",
       "       'Müller Fresh Food Logistics', 'ND Logistics',\n",
       "       'NL logistics & services', 'NLM Logistics BV',\n",
       "       'NLS Logistics & Services B.V.', 'NUNNER Logistics BV',\n",
       "       'Naviship Logistics Co.', 'Naxco Logistics Benelux B.V.',\n",
       "       'NedSu exspress NedSu exspress NedSu exspress',\n",
       "       'Neovia Logistics Services, LLC', 'Nesta Logistics B.V.',\n",
       "       'NewCold', 'NewLogic I', 'Newcorp Logistics B.V.', 'Ninja Wallet',\n",
       "       'Noach Logistics Koeltransport en vriestransport', 'Nord Cargo BV',\n",
       "       'Novamente B.V.', 'Odyssey Logistics & Technology',\n",
       "       'One Goal Logistics B.V.', 'Ontruck Nederland',\n",
       "       'Orange Shipping & Logistics B.V.', 'Otentic Logistics B.V.',\n",
       "       'P & M Express BV', 'P & M Logistics Bvba', 'PVT Logistics',\n",
       "       'Pals Melktransport', 'Partner Logistics Waalwijk B.V.',\n",
       "       'PinPoint Logistics', 'Ploeger Logistics België Nv',\n",
       "       'Ploeger Logistics Tilburg', 'Polymer Logistics Nv',\n",
       "       'Premiere Logistics (Netherlands) B.V.', 'Prima Logistics',\n",
       "       'Progress logistics V.O.F.', 'Projects & Industrial Logistics',\n",
       "       'Q-Port Dedicated Logistic People B.V.', 'Q4Logistics B.V.',\n",
       "       'QOOiK', 'Qbex Logistics B.V.', 'Quality Logistic Solutions',\n",
       "       'R & C Logistiek B.V.', 'RH Logistics', 'RIF Logistics',\n",
       "       'RMI Global Logistic Services', 'Radar Logistics Bv',\n",
       "       'Ravetra Logistics BV', 'Rebrex Logistics B.V.',\n",
       "       'Red Transport & Logistics', 'Remant Cool Logistics BV',\n",
       "       'Rena Logistics B.V.', 'Rhenus Contract Logistics Eindhoven B.V.',\n",
       "       'Rhenus Contract Logistics Factory Warehouse Best B.V.',\n",
       "       'RoadTrex Logistics BV', 'Royal Class Logistics V.O.F.',\n",
       "       'Rus Cargo Logistics B.V.', 'RvR Logistics Group', 'Rvd Logistics',\n",
       "       'Ry Transport & Logistics Bv', 'S & R Transport', 'S&I Logistics',\n",
       "       'SAS LOGISTICS BV', 'SMART Logistics B.V.', 'SMK Logistics B.V.',\n",
       "       'STL Logistics B.V.', 'STRATSON Logistics Europe',\n",
       "       'Same Day Delivery Logistics',\n",
       "       'Sanders Transport & Logistics B.V.', 'Sas Transport Logistic Bv',\n",
       "       'Schavemaker Transport Breda B.V.', 'Schenker Logistics Nederland',\n",
       "       'Schenker Logistics Netherlands',\n",
       "       'Seabourne Logistics NL Eindhoven', 'Seafreight Discounter B.V.',\n",
       "       'Seaway International Logistics B.V.', 'Send Solution B.V.',\n",
       "       'Sensible Logistics', 'Serpenti Logistics BV',\n",
       "       'Service Logistics Systems GLS', 'Sitex Logistics',\n",
       "       'Skylinelogistics', 'Slimm Logistics Bv',\n",
       "       'Sluyter Logistics Tilburg B.V.', 'Smits Transport Logistics',\n",
       "       'Soetens Warehousing & Logistics', 'Spark Global Logistics',\n",
       "       'Speedex Logistics', 'Speedliner Logistics BV', 'Speer Koeriers',\n",
       "       'Spierings Smart Logistics', 'Star & Em Logistics B.v.',\n",
       "       'Stella Container Logistics BV', 'Stl Logistics',\n",
       "       'Swaans Logistics Services', 'Swords Logistics',\n",
       "       'TCI International Logistics B.V.', 'TDS-Logistics BV',\n",
       "       'TLogistics', 'TM Logistics', 'TNLC The New Logistics Company',\n",
       "       'TOP Logistics BV', 'TPL Transport Logistics', 'Tds Logistics',\n",
       "       'The IFQA Company', 'The New Logistics Company',\n",
       "       'The Sting Companies', 'Thijssen Koeriers', 'Tnl Transport Bv',\n",
       "       'Topline Logistics - Failliet', 'Tracco Logistics Company B.V.',\n",
       "       'Tradex Corporation BV', 'Tramaco Logistics NV',\n",
       "       'Trans European Logistics Bv', 'Transmeer',\n",
       "       'Transport J.A. van Wanrooy BV', 'Transportbedrijf K C van Wijk',\n",
       "       'Twill Logistics', 'UniExpress', 'Uysal Logistics B.V.',\n",
       "       'V.T.S. Logistiek B.V.', 'VAT Logistics Special Concepts BV',\n",
       "       'VDH Cool Logistics BV', 'VDR logistics', 'Vale Logistics',\n",
       "       'Van Dijk Logistics Venray',\n",
       "       'Van Gelder Automotive Logistics B.V.',\n",
       "       'Van Leeuwen Logistics B.V.', 'Van Lent Logistics',\n",
       "       'Van Spreuwel Transport', 'Van Steenbergen Logistics',\n",
       "       'Van Thiel Logistics', 'Van de Sande Logistics B.V.',\n",
       "       'Van den Bosch Transporten B.V.', 'Van den Broek Logistics BV',\n",
       "       'Van der Hulst Logistics', 'Van der Velden logistics BV',\n",
       "       'Van der Werff Logistics Elshout',\n",
       "       'Vat Logistics (Airfreight) B.v.', 'Vdc Logistics B.v.',\n",
       "       'Venix Logix B.V.', 'Veterinary Services & Logistics Nv',\n",
       "       'Vlat Logistics Bvba', 'Vog-eu Logistics', 'Vortex Logistics',\n",
       "       'Vos Logistics België', 'WDeliver', 'WF Transport',\n",
       "       'Wauters Global Logistics', 'Weiner Logistics Bv',\n",
       "       'Werken bij Schenker logistics', 'Winter Logistics',\n",
       "       'Witlox Logistics BV', 'Witteveen Logistics & It', 'XAP Logistics',\n",
       "       'XPO Logistics (site Tilburg I)', 'XPO Logistics Eindhoven II',\n",
       "       'XPO Supply Chain Netherlands', 'Xpo Supply Chain Netherlands Bv',\n",
       "       'Yellow Transport', 'Yuva Logistics B.V.', 'ZAGROS Transport B.V.',\n",
       "       'Zoey Logistics B.v.', 'iLC Freight', 'kamta.nl/',\n",
       "       'van Nunen Transport & Logistiek bv', 'van Raak koeriersdiensten',\n",
       "       'Über Logistics'], dtype=object)"
      ]
     },
     "execution_count": 44,
     "metadata": {},
     "output_type": "execute_result"
    }
   ],
   "source": [
    "# Use numpy.unique() to unique values in multiple columns\n",
    "column_values = df[ 'name'].values\n",
    "df2_comp_names = np.unique(column_values)\n",
    "df2_comp_names"
   ]
  },
  {
   "cell_type": "code",
   "execution_count": 45,
   "metadata": {
    "collapsed": false
   },
   "outputs": [
    {
     "name": "stdout",
     "output_type": "stream",
     "text": [
      "388\n"
     ]
    }
   ],
   "source": [
    "#Get Unique Values in Columns using set\n",
    "###number of the logistic companies\n",
    "df2_comp_names = set(df.name)\n",
    "print(len(df2_comp_names))"
   ]
  },
  {
   "cell_type": "code",
   "execution_count": 46,
   "metadata": {
    "collapsed": false
   },
   "outputs": [
    {
     "name": "stdout",
     "output_type": "stream",
     "text": [
      "name                         0\n",
      "type_company                 0\n",
      "lat                          0\n",
      "lon                          0\n",
      "city                         0\n",
      "avg_stars_num              159\n",
      "n_reviews_num              159\n",
      "encoded_user               169\n",
      "local_guide                844\n",
      "clean_other_review_num     939\n",
      "published_date             169\n",
      "today_date                 169\n",
      "stars_num                  169\n",
      "review_EN                 4682\n",
      "original_lang             4682\n",
      "dtype: int64\n"
     ]
    }
   ],
   "source": [
    "\n",
    "##Count NaN values for each column in our data set\n",
    "NaN_values=df[['name', 'type_company', 'lat', 'lon', 'city',\n",
    "       'avg_stars_num', 'n_reviews_num', 'encoded_user', 'local_guide',\n",
    "       'clean_other_review_num', 'published_date', 'today_date', 'stars_num',\n",
    "       'review_EN','original_lang']].isna().sum()\n",
    "NaN_values.to_csv('NaN_values.csv')\n",
    "print(NaN_values)"
   ]
  },
  {
   "cell_type": "code",
   "execution_count": 47,
   "metadata": {
    "collapsed": false
   },
   "outputs": [
    {
     "name": "stdout",
     "output_type": "stream",
     "text": [
      "0        2\n",
      "1        2\n",
      "2       10\n",
      "3        0\n",
      "4        0\n",
      "        ..\n",
      "8075    10\n",
      "8076     0\n",
      "8077     2\n",
      "8078     2\n",
      "8079    10\n",
      "Length: 8080, dtype: int64\n"
     ]
    }
   ],
   "source": [
    "##Count NaN values for each row in our data,sorted\n",
    "NaN_per_row=df.isnull().sum(axis=1)\n",
    "print(NaN_per_row)\n",
    "# print(NaN_per_row.sort_values(False))\n",
    "NaN_per_row.to_csv('NaN_per_row.csv')"
   ]
  },
  {
   "cell_type": "code",
   "execution_count": 48,
   "metadata": {
    "collapsed": false
   },
   "outputs": [
    {
     "data": {
      "text/plain": [
       "<module 'matplotlib.cm' from 'C:\\\\Users\\\\despoina\\\\anaconda3\\\\envs\\\\TOMlogistics\\\\lib\\\\site-packages\\\\matplotlib\\\\cm.py'>"
      ]
     },
     "execution_count": 48,
     "metadata": {},
     "output_type": "execute_result"
    },
    {
     "data": {
      "image/png": "[encoded data removed]",
      "text/plain": [
       "<Figure size 640x480 with 1 Axes>"
      ]
     },
     "metadata": {},
     "output_type": "display_data"
    }
   ],
   "source": [
    "# Plot a histogram of Average received stars\n",
    "sns.histplot(df[\"avg_stars_num\"].dropna(), kde = False).set_title(\"Histogram of Average received stars\")\n",
    "plt\n"
   ]
  },
  {
   "cell_type": "code",
   "execution_count": 49,
   "metadata": {
    "collapsed": false
   },
   "outputs": [
    {
     "data": {
      "text/plain": [
       "<module 'matplotlib.cm' from 'C:\\\\Users\\\\despoina\\\\anaconda3\\\\envs\\\\TOMlogistics\\\\lib\\\\site-packages\\\\matplotlib\\\\cm.py'>"
      ]
     },
     "execution_count": 49,
     "metadata": {},
     "output_type": "execute_result"
    },
    {
     "data": {
      "image/png": "[encoded data removed]",
      "text/plain": [
       "<Figure size 640x480 with 1 Axes>"
      ]
     },
     "metadata": {},
     "output_type": "display_data"
    }
   ],
   "source": [
    "# Plot a boxplot of received stars\n",
    "sns.boxplot(x=df['avg_stars_num']).set_title('Boxof Average received stars ')\n",
    "plt"
   ]
  },
  {
   "cell_type": "code",
   "execution_count": 50,
   "metadata": {
    "collapsed": false
   },
   "outputs": [
    {
     "data": {
      "text/plain": [
       "<module 'matplotlib.cm' from 'C:\\\\Users\\\\despoina\\\\anaconda3\\\\envs\\\\TOMlogistics\\\\lib\\\\site-packages\\\\matplotlib\\\\cm.py'>"
      ]
     },
     "execution_count": 50,
     "metadata": {},
     "output_type": "execute_result"
    },
    {
     "data": {
      "image/png": "[encoded data removed]",
      "text/plain": [
       "<Figure size 640x480 with 1 Axes>"
      ]
     },
     "metadata": {},
     "output_type": "display_data"
    }
   ],
   "source": [
    "#Plot a histogram of received stars\n",
    "sns.histplot(df[\"stars_num\"], kde = False).set_title(\"Histogram of  received stars\")\n",
    "plt"
   ]
  },
  {
   "cell_type": "code",
   "execution_count": 51,
   "metadata": {
    "collapsed": false
   },
   "outputs": [
    {
     "data": {
      "text/plain": [
       "<module 'matplotlib.cm' from 'C:\\\\Users\\\\despoina\\\\anaconda3\\\\envs\\\\TOMlogistics\\\\lib\\\\site-packages\\\\matplotlib\\\\cm.py'>"
      ]
     },
     "execution_count": 51,
     "metadata": {},
     "output_type": "execute_result"
    },
    {
     "data": {
      "image/png": "[encoded data removed]",
      "text/plain": [
       "<Figure size 640x480 with 1 Axes>"
      ]
     },
     "metadata": {},
     "output_type": "display_data"
    }
   ],
   "source": [
    "sns.boxplot(x=df['stars_num']).set_title('Box of received stars ')\n",
    "plt"
   ]
  },
  {
   "cell_type": "code",
   "execution_count": 52,
   "metadata": {
    "collapsed": false
   },
   "outputs": [
    {
     "data": {
      "text/plain": [
       "<bound method NDFrame._add_numeric_operations.<locals>.sum of       Unnamed: 0                           name      type_company        lat  \\\n",
       "3              3      Dekkers Transport Holland  Trucking company  51.597249   \n",
       "4              4      Dekkers Transport Holland  Trucking company  51.597249   \n",
       "5              5      Dekkers Transport Holland  Trucking company  51.597249   \n",
       "6              6      Dekkers Transport Holland  Trucking company  51.597249   \n",
       "7              7      Dekkers Transport Holland  Trucking company  51.597249   \n",
       "...          ...                            ...               ...        ...   \n",
       "8068        8068                 L.H. Logistics  Trucking company  51.617957   \n",
       "8069        8069                 L.H. Logistics  Trucking company  51.617957   \n",
       "8070        8070                 L.H. Logistics  Trucking company  51.617957   \n",
       "8071        8071                 L.H. Logistics  Trucking company  51.617957   \n",
       "8076        8076  InTime Logistics & Consulting  Trucking company  52.049578   \n",
       "\n",
       "           lon        city  avg_stars_num  n_reviews_num encoded_user  \\\n",
       "3     5.027990     Tilburg            4.6           53.0        Pp1)c   \n",
       "4     5.027990     Tilburg            4.6           53.0        *nk1l   \n",
       "5     5.027990     Tilburg            4.6           53.0        69lOZ   \n",
       "6     5.027990     Tilburg            4.6           53.0        &7jv4   \n",
       "7     5.027990     Tilburg            4.6           53.0        K2#6M   \n",
       "...        ...         ...            ...            ...          ...   \n",
       "8068  4.736123       Breda            3.5            8.0        AMDIc   \n",
       "8069  4.736123       Breda            3.5            8.0        ivODx   \n",
       "8070  4.736123       Breda            3.5            8.0        K1S^G   \n",
       "8071  4.736123       Breda            3.5            8.0        RP^Ug   \n",
       "8076  5.117079  Nieuwegein            4.7            3.0        wqc@z   \n",
       "\n",
       "      local_guide  clean_other_review_num published_date  today_date  \\\n",
       "3             0.0                     5.0     a year ago  2022-09-24   \n",
       "4             0.0                     2.0     a year ago  2022-09-24   \n",
       "5             0.0                     3.0    4 years ago  2022-09-24   \n",
       "6             0.0                    27.0   3 months ago  2022-09-24   \n",
       "7             1.0                    24.0   4 months ago  2022-09-24   \n",
       "...           ...                     ...            ...         ...   \n",
       "8068          0.0                     1.0   9 months ago  2022-09-24   \n",
       "8069          0.0                     2.0     a year ago  2022-09-24   \n",
       "8070          0.0                    17.0     a year ago  2022-09-24   \n",
       "8071          1.0                   101.0     a year ago  2022-09-24   \n",
       "8076          1.0                    13.0   9 months ago  2022-09-22   \n",
       "\n",
       "      stars_num                                          review_EN  \\\n",
       "3           5.0  Best employer ever. Worked there for approxima...   \n",
       "4           5.0  better place with very good people everything ...   \n",
       "5           5.0                                               Nice   \n",
       "6           5.0   Good firm. The staff are very welcoming and f...   \n",
       "7           5.0    Top company, and coffee, so recommended\\r\\n\\r\\n   \n",
       "...         ...                                                ...   \n",
       "8068        1.0   Untrustworthy people, they are good at lying....   \n",
       "8069        1.0   Drives antisocial and overtakes right on the ...   \n",
       "8070        5.0   In a word, toppers! Always think in possibili...   \n",
       "8071        5.0                              First service\\r\\n\\r\\n   \n",
       "8076        5.0                                     Unique\\r\\n\\r\\n   \n",
       "\n",
       "     original_lang  \n",
       "3              ENG  \n",
       "4              ENG  \n",
       "5              ENG  \n",
       "6          NOT_ENG  \n",
       "7          NOT_ENG  \n",
       "...            ...  \n",
       "8068       NOT_ENG  \n",
       "8069       NOT_ENG  \n",
       "8070       NOT_ENG  \n",
       "8071       NOT_ENG  \n",
       "8076       NOT_ENG  \n",
       "\n",
       "[3398 rows x 16 columns]>"
      ]
     },
     "execution_count": 52,
     "metadata": {},
     "output_type": "execute_result"
    }
   ],
   "source": [
    "##Drop Nan values from the data set\n",
    "df_clean=df.dropna(axis=0,subset=['avg_stars_num','review_EN'])\n",
    "df_clean.sum"
   ]
  },
  {
   "cell_type": "code",
   "execution_count": 53,
   "metadata": {
    "collapsed": false
   },
   "outputs": [
    {
     "data": {
      "text/plain": [
       "<module 'matplotlib.cm' from 'C:\\\\Users\\\\despoina\\\\anaconda3\\\\envs\\\\TOMlogistics\\\\lib\\\\site-packages\\\\matplotlib\\\\cm.py'>"
      ]
     },
     "execution_count": 53,
     "metadata": {},
     "output_type": "execute_result"
    },
    {
     "data": {
      "image/png": "[encoded data removed]",
      "text/plain": [
       "<Figure size 640x480 with 1 Axes>"
      ]
     },
     "metadata": {},
     "output_type": "display_data"
    }
   ],
   "source": [
    "sns.histplot(df_clean[\"stars_num\"], kde = False).set_title(\"Histogram of  received stars\")\n",
    "plt"
   ]
  },
  {
   "cell_type": "code",
   "execution_count": 54,
   "metadata": {
    "collapsed": false
   },
   "outputs": [
    {
     "data": {
      "text/html": [
       "<div>\n",
       "<style scoped>\n",
       "    .dataframe tbody tr th:only-of-type {\n",
       "        vertical-align: middle;\n",
       "    }\n",
       "\n",
       "    .dataframe tbody tr th {\n",
       "        vertical-align: top;\n",
       "    }\n",
       "\n",
       "    .dataframe thead th {\n",
       "        text-align: right;\n",
       "    }\n",
       "</style>\n",
       "<table border=\"1\" class=\"dataframe\">\n",
       "  <thead>\n",
       "    <tr style=\"text-align: right;\">\n",
       "      <th></th>\n",
       "      <th>Unnamed: 0</th>\n",
       "      <th>name</th>\n",
       "      <th>type_company</th>\n",
       "      <th>lat</th>\n",
       "      <th>lon</th>\n",
       "      <th>city</th>\n",
       "      <th>avg_stars_num</th>\n",
       "      <th>n_reviews_num</th>\n",
       "      <th>encoded_user</th>\n",
       "      <th>local_guide</th>\n",
       "      <th>clean_other_review_num</th>\n",
       "      <th>published_date</th>\n",
       "      <th>today_date</th>\n",
       "      <th>stars_num</th>\n",
       "      <th>review_EN</th>\n",
       "      <th>original_lang</th>\n",
       "    </tr>\n",
       "  </thead>\n",
       "  <tbody>\n",
       "    <tr>\n",
       "      <th>3</th>\n",
       "      <td>3</td>\n",
       "      <td>Dekkers Transport Holland</td>\n",
       "      <td>Trucking company</td>\n",
       "      <td>51.597249</td>\n",
       "      <td>5.027990</td>\n",
       "      <td>Tilburg</td>\n",
       "      <td>4.6</td>\n",
       "      <td>53.0</td>\n",
       "      <td>Pp1)c</td>\n",
       "      <td>0.0</td>\n",
       "      <td>5.0</td>\n",
       "      <td>a year ago</td>\n",
       "      <td>2022-09-24</td>\n",
       "      <td>5.0</td>\n",
       "      <td>Best employer ever. Worked there for approxima...</td>\n",
       "      <td>ENG</td>\n",
       "    </tr>\n",
       "    <tr>\n",
       "      <th>4</th>\n",
       "      <td>4</td>\n",
       "      <td>Dekkers Transport Holland</td>\n",
       "      <td>Trucking company</td>\n",
       "      <td>51.597249</td>\n",
       "      <td>5.027990</td>\n",
       "      <td>Tilburg</td>\n",
       "      <td>4.6</td>\n",
       "      <td>53.0</td>\n",
       "      <td>*nk1l</td>\n",
       "      <td>0.0</td>\n",
       "      <td>2.0</td>\n",
       "      <td>a year ago</td>\n",
       "      <td>2022-09-24</td>\n",
       "      <td>5.0</td>\n",
       "      <td>better place with very good people everything ...</td>\n",
       "      <td>ENG</td>\n",
       "    </tr>\n",
       "    <tr>\n",
       "      <th>5</th>\n",
       "      <td>5</td>\n",
       "      <td>Dekkers Transport Holland</td>\n",
       "      <td>Trucking company</td>\n",
       "      <td>51.597249</td>\n",
       "      <td>5.027990</td>\n",
       "      <td>Tilburg</td>\n",
       "      <td>4.6</td>\n",
       "      <td>53.0</td>\n",
       "      <td>69lOZ</td>\n",
       "      <td>0.0</td>\n",
       "      <td>3.0</td>\n",
       "      <td>4 years ago</td>\n",
       "      <td>2022-09-24</td>\n",
       "      <td>5.0</td>\n",
       "      <td>Nice</td>\n",
       "      <td>ENG</td>\n",
       "    </tr>\n",
       "    <tr>\n",
       "      <th>6</th>\n",
       "      <td>6</td>\n",
       "      <td>Dekkers Transport Holland</td>\n",
       "      <td>Trucking company</td>\n",
       "      <td>51.597249</td>\n",
       "      <td>5.027990</td>\n",
       "      <td>Tilburg</td>\n",
       "      <td>4.6</td>\n",
       "      <td>53.0</td>\n",
       "      <td>&amp;7jv4</td>\n",
       "      <td>0.0</td>\n",
       "      <td>27.0</td>\n",
       "      <td>3 months ago</td>\n",
       "      <td>2022-09-24</td>\n",
       "      <td>5.0</td>\n",
       "      <td>Good firm. The staff are very welcoming and f...</td>\n",
       "      <td>NOT_ENG</td>\n",
       "    </tr>\n",
       "    <tr>\n",
       "      <th>7</th>\n",
       "      <td>7</td>\n",
       "      <td>Dekkers Transport Holland</td>\n",
       "      <td>Trucking company</td>\n",
       "      <td>51.597249</td>\n",
       "      <td>5.027990</td>\n",
       "      <td>Tilburg</td>\n",
       "      <td>4.6</td>\n",
       "      <td>53.0</td>\n",
       "      <td>K2#6M</td>\n",
       "      <td>1.0</td>\n",
       "      <td>24.0</td>\n",
       "      <td>4 months ago</td>\n",
       "      <td>2022-09-24</td>\n",
       "      <td>5.0</td>\n",
       "      <td>Top company, and coffee, so recommended\\r\\n\\r\\n</td>\n",
       "      <td>NOT_ENG</td>\n",
       "    </tr>\n",
       "    <tr>\n",
       "      <th>...</th>\n",
       "      <td>...</td>\n",
       "      <td>...</td>\n",
       "      <td>...</td>\n",
       "      <td>...</td>\n",
       "      <td>...</td>\n",
       "      <td>...</td>\n",
       "      <td>...</td>\n",
       "      <td>...</td>\n",
       "      <td>...</td>\n",
       "      <td>...</td>\n",
       "      <td>...</td>\n",
       "      <td>...</td>\n",
       "      <td>...</td>\n",
       "      <td>...</td>\n",
       "      <td>...</td>\n",
       "      <td>...</td>\n",
       "    </tr>\n",
       "    <tr>\n",
       "      <th>8068</th>\n",
       "      <td>8068</td>\n",
       "      <td>L.H. Logistics</td>\n",
       "      <td>Trucking company</td>\n",
       "      <td>51.617957</td>\n",
       "      <td>4.736123</td>\n",
       "      <td>Breda</td>\n",
       "      <td>3.5</td>\n",
       "      <td>8.0</td>\n",
       "      <td>AMDIc</td>\n",
       "      <td>0.0</td>\n",
       "      <td>1.0</td>\n",
       "      <td>9 months ago</td>\n",
       "      <td>2022-09-24</td>\n",
       "      <td>1.0</td>\n",
       "      <td>Untrustworthy people, they are good at lying....</td>\n",
       "      <td>NOT_ENG</td>\n",
       "    </tr>\n",
       "    <tr>\n",
       "      <th>8069</th>\n",
       "      <td>8069</td>\n",
       "      <td>L.H. Logistics</td>\n",
       "      <td>Trucking company</td>\n",
       "      <td>51.617957</td>\n",
       "      <td>4.736123</td>\n",
       "      <td>Breda</td>\n",
       "      <td>3.5</td>\n",
       "      <td>8.0</td>\n",
       "      <td>ivODx</td>\n",
       "      <td>0.0</td>\n",
       "      <td>2.0</td>\n",
       "      <td>a year ago</td>\n",
       "      <td>2022-09-24</td>\n",
       "      <td>1.0</td>\n",
       "      <td>Drives antisocial and overtakes right on the ...</td>\n",
       "      <td>NOT_ENG</td>\n",
       "    </tr>\n",
       "    <tr>\n",
       "      <th>8070</th>\n",
       "      <td>8070</td>\n",
       "      <td>L.H. Logistics</td>\n",
       "      <td>Trucking company</td>\n",
       "      <td>51.617957</td>\n",
       "      <td>4.736123</td>\n",
       "      <td>Breda</td>\n",
       "      <td>3.5</td>\n",
       "      <td>8.0</td>\n",
       "      <td>K1S^G</td>\n",
       "      <td>0.0</td>\n",
       "      <td>17.0</td>\n",
       "      <td>a year ago</td>\n",
       "      <td>2022-09-24</td>\n",
       "      <td>5.0</td>\n",
       "      <td>In a word, toppers! Always think in possibili...</td>\n",
       "      <td>NOT_ENG</td>\n",
       "    </tr>\n",
       "    <tr>\n",
       "      <th>8071</th>\n",
       "      <td>8071</td>\n",
       "      <td>L.H. Logistics</td>\n",
       "      <td>Trucking company</td>\n",
       "      <td>51.617957</td>\n",
       "      <td>4.736123</td>\n",
       "      <td>Breda</td>\n",
       "      <td>3.5</td>\n",
       "      <td>8.0</td>\n",
       "      <td>RP^Ug</td>\n",
       "      <td>1.0</td>\n",
       "      <td>101.0</td>\n",
       "      <td>a year ago</td>\n",
       "      <td>2022-09-24</td>\n",
       "      <td>5.0</td>\n",
       "      <td>First service\\r\\n\\r\\n</td>\n",
       "      <td>NOT_ENG</td>\n",
       "    </tr>\n",
       "    <tr>\n",
       "      <th>8076</th>\n",
       "      <td>8076</td>\n",
       "      <td>InTime Logistics &amp; Consulting</td>\n",
       "      <td>Trucking company</td>\n",
       "      <td>52.049578</td>\n",
       "      <td>5.117079</td>\n",
       "      <td>Nieuwegein</td>\n",
       "      <td>4.7</td>\n",
       "      <td>3.0</td>\n",
       "      <td>wqc@z</td>\n",
       "      <td>1.0</td>\n",
       "      <td>13.0</td>\n",
       "      <td>9 months ago</td>\n",
       "      <td>2022-09-22</td>\n",
       "      <td>5.0</td>\n",
       "      <td>Unique\\r\\n\\r\\n</td>\n",
       "      <td>NOT_ENG</td>\n",
       "    </tr>\n",
       "  </tbody>\n",
       "</table>\n",
       "<p>3398 rows × 16 columns</p>\n",
       "</div>"
      ],
      "text/plain": [
       "      Unnamed: 0                           name      type_company        lat  \\\n",
       "3              3      Dekkers Transport Holland  Trucking company  51.597249   \n",
       "4              4      Dekkers Transport Holland  Trucking company  51.597249   \n",
       "5              5      Dekkers Transport Holland  Trucking company  51.597249   \n",
       "6              6      Dekkers Transport Holland  Trucking company  51.597249   \n",
       "7              7      Dekkers Transport Holland  Trucking company  51.597249   \n",
       "...          ...                            ...               ...        ...   \n",
       "8068        8068                 L.H. Logistics  Trucking company  51.617957   \n",
       "8069        8069                 L.H. Logistics  Trucking company  51.617957   \n",
       "8070        8070                 L.H. Logistics  Trucking company  51.617957   \n",
       "8071        8071                 L.H. Logistics  Trucking company  51.617957   \n",
       "8076        8076  InTime Logistics & Consulting  Trucking company  52.049578   \n",
       "\n",
       "           lon        city  avg_stars_num  n_reviews_num encoded_user  \\\n",
       "3     5.027990     Tilburg            4.6           53.0        Pp1)c   \n",
       "4     5.027990     Tilburg            4.6           53.0        *nk1l   \n",
       "5     5.027990     Tilburg            4.6           53.0        69lOZ   \n",
       "6     5.027990     Tilburg            4.6           53.0        &7jv4   \n",
       "7     5.027990     Tilburg            4.6           53.0        K2#6M   \n",
       "...        ...         ...            ...            ...          ...   \n",
       "8068  4.736123       Breda            3.5            8.0        AMDIc   \n",
       "8069  4.736123       Breda            3.5            8.0        ivODx   \n",
       "8070  4.736123       Breda            3.5            8.0        K1S^G   \n",
       "8071  4.736123       Breda            3.5            8.0        RP^Ug   \n",
       "8076  5.117079  Nieuwegein            4.7            3.0        wqc@z   \n",
       "\n",
       "      local_guide  clean_other_review_num published_date  today_date  \\\n",
       "3             0.0                     5.0     a year ago  2022-09-24   \n",
       "4             0.0                     2.0     a year ago  2022-09-24   \n",
       "5             0.0                     3.0    4 years ago  2022-09-24   \n",
       "6             0.0                    27.0   3 months ago  2022-09-24   \n",
       "7             1.0                    24.0   4 months ago  2022-09-24   \n",
       "...           ...                     ...            ...         ...   \n",
       "8068          0.0                     1.0   9 months ago  2022-09-24   \n",
       "8069          0.0                     2.0     a year ago  2022-09-24   \n",
       "8070          0.0                    17.0     a year ago  2022-09-24   \n",
       "8071          1.0                   101.0     a year ago  2022-09-24   \n",
       "8076          1.0                    13.0   9 months ago  2022-09-22   \n",
       "\n",
       "      stars_num                                          review_EN  \\\n",
       "3           5.0  Best employer ever. Worked there for approxima...   \n",
       "4           5.0  better place with very good people everything ...   \n",
       "5           5.0                                               Nice   \n",
       "6           5.0   Good firm. The staff are very welcoming and f...   \n",
       "7           5.0    Top company, and coffee, so recommended\\r\\n\\r\\n   \n",
       "...         ...                                                ...   \n",
       "8068        1.0   Untrustworthy people, they are good at lying....   \n",
       "8069        1.0   Drives antisocial and overtakes right on the ...   \n",
       "8070        5.0   In a word, toppers! Always think in possibili...   \n",
       "8071        5.0                              First service\\r\\n\\r\\n   \n",
       "8076        5.0                                     Unique\\r\\n\\r\\n   \n",
       "\n",
       "     original_lang  \n",
       "3              ENG  \n",
       "4              ENG  \n",
       "5              ENG  \n",
       "6          NOT_ENG  \n",
       "7          NOT_ENG  \n",
       "...            ...  \n",
       "8068       NOT_ENG  \n",
       "8069       NOT_ENG  \n",
       "8070       NOT_ENG  \n",
       "8071       NOT_ENG  \n",
       "8076       NOT_ENG  \n",
       "\n",
       "[3398 rows x 16 columns]"
      ]
     },
     "execution_count": 54,
     "metadata": {},
     "output_type": "execute_result"
    }
   ],
   "source": [
    "df_clean"
   ]
  },
  {
   "cell_type": "code",
   "execution_count": 55,
   "metadata": {
    "collapsed": false
   },
   "outputs": [
    {
     "data": {
      "text/plain": [
       "Unnamed: 0                0\n",
       "name                      0\n",
       "type_company              0\n",
       "lat                       0\n",
       "lon                       0\n",
       "city                      0\n",
       "avg_stars_num             0\n",
       "n_reviews_num             0\n",
       "encoded_user              0\n",
       "local_guide               0\n",
       "clean_other_review_num    0\n",
       "published_date            0\n",
       "today_date                0\n",
       "stars_num                 0\n",
       "review_EN                 0\n",
       "original_lang             0\n",
       "dtype: int64"
      ]
     },
     "execution_count": 55,
     "metadata": {},
     "output_type": "execute_result"
    }
   ],
   "source": [
    "#Test.looking for missing values\n",
    "df_clean.isna().sum()"
   ]
  },
  {
   "cell_type": "code",
   "execution_count": 56,
   "metadata": {
    "collapsed": false
   },
   "outputs": [
    {
     "data": {
      "text/plain": [
       "<module 'matplotlib.cm' from 'C:\\\\Users\\\\despoina\\\\anaconda3\\\\envs\\\\TOMlogistics\\\\lib\\\\site-packages\\\\matplotlib\\\\cm.py'>"
      ]
     },
     "execution_count": 56,
     "metadata": {},
     "output_type": "execute_result"
    },
    {
     "data": {
      "image/png": "[encoded data removed]",
      "text/plain": [
       "<Figure size 640x480 with 1 Axes>"
      ]
     },
     "metadata": {},
     "output_type": "display_data"
    }
   ],
   "source": [
    "sns.histplot(df_clean[\"avg_stars_num\"], kde = False).set_title(\"Histogram of Average received stars\")\n",
    "plt"
   ]
  },
  {
   "cell_type": "code",
   "execution_count": 57,
   "metadata": {
    "collapsed": false
   },
   "outputs": [
    {
     "data": {
      "text/plain": [
       "name\n",
       "First Logistics B.V.             293\n",
       "Van Spreuwel Transport           288\n",
       "NUNNER Logistics BV              143\n",
       "Claassen Logistics               135\n",
       "ID Logistics Benelux             123\n",
       "                                ... \n",
       "Id logistics b.v.                  1\n",
       "Global Logistics Holland B.V.      1\n",
       "VDR logistics                      1\n",
       "Frankena Logistics                 1\n",
       "Über Logistics                     1\n",
       "Name: review_EN, Length: 184, dtype: int64"
      ]
     },
     "execution_count": 57,
     "metadata": {},
     "output_type": "execute_result"
    }
   ],
   "source": [
    "#how many reviews we have for every company\n",
    "df_clean.groupby('name')['review_EN'].count().sort_values(ascending=False)\n"
   ]
  },
  {
   "cell_type": "code",
   "execution_count": 58,
   "metadata": {
    "collapsed": false
   },
   "outputs": [
    {
     "name": "stdout",
     "output_type": "stream",
     "text": [
      "{'Firm Logistics', 'Formula 1 Logistics', 'EMQ Logistics B.V.', 'Van der Velden logistics BV', 'Van Leeuwen Logistics B.V.', 'The Sting Companies', 'Partner Logistics Waalwijk B.V.', 'BBC Express BV', 'Lion Logistics Oss', 'DNA United Forwarders Ltd.', 'Van den Broek Logistics BV', 'SAS LOGISTICS BV', 'CEVA Logistics Born 1', 'Chr. Vermeer Transport B.V.', 'IG Logistics B.V.', 'Fatrans Logistics B.V.', 'AAB Logistics', 'Über Logistics', 'Erik Geboers Internationaal Transport', 'Kennis Transport en Logistics BV', 'HE-Logistics BV Transport and logistics', 'Eurostars Logistics | Koeriersdiensten', 'Independent Commodities Logistics B.V.', 'Jan De Rijk Retail', 'Cityline Logistics BV', 'BVW Logistics B.V.', 'Allroad Logistics', 'Freightned Logistics B.V.', 'Tracco Logistics Company B.V.', 'The New Logistics Company', 'Crane Worldwide Logistics', 'Louwman Logistics', 'L.H. Logistics', 'SMK Logistics B.V.', 'Trans European Logistics Bv', 'Van de Sande Logistics B.V.', 'Nord Cargo BV', 'KNB Logistics BV', 'Arma Logistics B.V.', 'Dds Logistics B.v.', 'Swords Logistics', 'RMI Global Logistic Services', 'STL Logistics B.V.', 'Logic 4u - Logical Logistics BV', 'Barsan Group', 'TPL Transport Logistics', 'Slimm Logistics Bv', 'MNG Logistics', 'UniExpress', 'Alp Transport en Logistics', 'ELS-Logistics B.V.', 'Efficient Logistics', 'Stella Container Logistics BV', 'Lankveld Logistics B.V.', 'Excellent Logistics', 'Bemotrans Freight Forwarding B.V.', 'A. den Hartog Transport Langerak BV', 'DBT Logistics', 'Speedliner Logistics BV', 'Fds Europe Logistics B.V.', 'Bouwman Logistics B.V.', 'S & R Transport', 'Dedicated Logistics Services', 'Transport J.A. van Wanrooy BV', 'Otentic Logistics B.V.', 'ATL Logistics BV', 'JeCeTe Logistics B.V.', 'Falcon Logistics', 'Seabourne Logistics NL Eindhoven', 'DHL Techn. Distribution B.V.', '010 Logistics', 'Base Logistics BV', 'Vortex Logistics', 'NUNNER Logistics BV', 'ATM Logistics', 'Rebrex Logistics B.V.', 'DiLX (A Gateway Group Company)', 'Elst Transport', 'DHL Supply Chain Eindhoven', 'Independent Transport Logistics bv', 'Gerritsen Group BV', 'TDS-Logistics BV', 'ND Logistics', 'JWK Logistics', 'Serpenti Logistics BV', 'EA logistics & moving', 'NewCold', 'NL logistics & services', 'ID Logistics Benelux', 'Chain Logistics BV', 'De Graaf Logistics BV', 'Rhenus Contract Logistics Eindhoven B.V.', 'Decathlon Distributiecentrum', 'Abx Logistics Nederland Bv', 'WDeliver', 'Newcorp Logistics B.V.', 'Cargo Logistics B.V. | Verzorgt complete logistieke ontzorging', 'VDH Cool Logistics BV', 'KS Project Logistics', 'TLogistics', 'R & C Logistiek B.V.', 'Sitex Logistics', 'Id logistics b.v.', 'CJ Logistics Europe B.V.', 'Intertrans Logistics B.V.', 'Weiner Logistics Bv', 'ITS Breda BV', 'Twill Logistics', 'HLS Logistics B.V.', 'XPO Logistics (site Tilburg I)', 'Star & Em Logistics B.v.', 'XPO Supply Chain Netherlands', 'Van Dijk Logistics Venray', 'GVT Transport & Logistics Tilburg', 'Jan de Rijk Benelux B.V.', 'Witlox Logistics BV', 'Kusters Logistics', 'JTS Logistics BV', 'Mango Logistics', 'TCI International Logistics B.V.', 'Soetens Warehousing & Logistics', 'Rvd Logistics', 'DR Logistics BV', 'Van Steenbergen Logistics', 'VDR logistics', 'M665 Logistics', 'Lucas Logistics B.V.', 'KDS Logistics', 'Best-Logistics.nl', 'BK Logistics B.V.', 'CTG Logistics BV', 'Neovia Logistics Services, LLC', 'Naxco Logistics Benelux B.V.', 'Schenker Logistics Netherlands', 'AT Logistics B.V.', 'Van den Bosch Transporten B.V.', 'Hartog Logistics B.V.', 'van Nunen Transport & Logistiek bv', 'Blonk Logistics B.v.', 'First Logistics B.V.', 'Transmeer', 'LB-Logistics', 'Noach Logistics Koeltransport en vriestransport', 'Claassen Logistics', 'Bos Logistics Schiphol', 'Winter Logistics', 'CBK Logistics', 'Vale Logistics', 'Kerry Logistics (Netherlands) BV', 'LV Logistics (ontstaan uit J. Lensveld & Zonen BV)', 'ChainCargo', 'Imperial Logistics', 'A2 Logistics', 'Auction Logistics B.V.', 'BM Interfreight B.V.', 'Jan de Rijk Logistics HQ', 'XPO Logistics Eindhoven II', 'Breewe Logistics', 'TOP Logistics BV', 'Jorden Logistics BV', 'Merchant Logistics bv', 'Müller Fresh Food Logistics', 'Dekkers Transport Holland', 'InTime Logistics & Consulting', 'M4 Transport & Logistics', '24/7 Logistic Solutions B.V.', 'Schavemaker Transport Breda B.V.', '4 Logistics Netherlands B.V.', 'Balans Logistics B.V.', 'P & M Express BV', 'Frankena Logistics', 'Hiram transport', 'Aramex', 'Wauters Global Logistics', 'Van der Werff Logistics Elshout', 'Arena Freight B.V.', 'Vos Logistics België', 'Sluyter Logistics Tilburg B.V.', 'Global Logistics Holland B.V.', 'Seafreight Discounter B.V.', 'Broekman Logistics Limburg B.V.', 'Ravetra Logistics BV', 'Van Spreuwel Transport', 'Bulk Logistic Solutions (BLS) B.V.'}\n",
      "\n",
      " Number of companies  184\n"
     ]
    }
   ],
   "source": [
    "##In our new clean dataset without NaN values how many companies do we have?\n",
    "#Get unique values using set\n",
    "df_clean_Comp=set(df_clean.name)\n",
    "print(df_clean_Comp)\n",
    "print('\\n Number of companies ', len(df_clean_Comp))"
   ]
  },
  {
   "cell_type": "code",
   "execution_count": 58,
   "metadata": {
    "collapsed": false
   },
   "outputs": [],
   "source": []
  },
  {
   "cell_type": "code",
   "execution_count": 58,
   "metadata": {
    "collapsed": false
   },
   "outputs": [],
   "source": []
  }
 ],
 "metadata": {
  "kernelspec": {
   "display_name": "Python 3",
   "language": "python",
   "name": "python3"
  },
  "language_info": {
   "codemirror_mode": {
    "name": "ipython",
    "version": 2
   },
   "file_extension": ".py",
   "mimetype": "text/x-python",
   "name": "python",
   "nbconvert_exporter": "python",
   "pygments_lexer": "ipython2",
   "version": "3.9.15 (main, Nov 24 2022, 08:29:02) \n[Clang 14.0.6 ]"
  },
  "vscode": {
   "interpreter": {
    "hash": "08f22cf6c6ccbba033a8469223414610965fdd9b3aa1ee8ced62cbb474c66f20"
   }
  }
 },
 "nbformat": 4,
 "nbformat_minor": 0
}
