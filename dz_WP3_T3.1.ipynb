{
 "cells": [
  {
   "cell_type": "markdown",
   "source": [
    "# DATA ENRICHMENT\n",
    "## Work package  3\n",
    "### T3.1:selection of new data sources\n",
    "#### Summary of first insights.\n",
    "<span style=\"font-size:20px;\">The following table has information from possible new data sources in correlation with the data that already exists for some companies in our Data set.\n",
    "\n",
    "<span style=\"font-size:20px;\">Possible Data Sources: Instagram, Facebook, LinkedIn, Glassdoor\n",
    "\n",
    "\n"
   ],
   "metadata": {
    "collapsed": false
   },
   "outputs": []
  },
  {
   "cell_type": "markdown",
   "source": [
    "| Company name                    | Number of reviews    | Instagram                                             | Facebook                                                               | Trustpilot. com    | LinkedIn                                             | Glassdoor    |\n",
    "|---------------------------------|----------------------|-------------------------------------------------------|------------------------------------------------------------------------|--------------------|------------------------------------------------------|--------------|\n",
    "| First Logistics B.V.            | 293                  | 3 posts,10 followers                                  | none                                                                   | 65 reviews         | 8 employees                                          | 1 review     |\n",
    "| Van Spreuwel Transport          | 288                  | 190 posts,269 followers                               | 129 reviews/838 followers                                              | 114 reviews        | 34 employees340 followers                            |              |\n",
    "| NUNNER Logistics BV             | 143                  | none                                                  | none                                                                   | none               | 265 employees,6872 followers                         |              |\n",
    "| Claassen Logistics              | 135                  | 78 posts,414 followers                                | 11 reviews/1200 followers                                              | none               | 79 employees/904 followers                           |              |\n",
    "| Id logistics b.v. (Benelux)     | 1                    | none                                                  | 16 reviews/536 followers                                               | none               | 383 employees/12.058 followers                       |              |\n",
    "| Frankena Logistics              | 1                    | none                                                  | 0 reviews/202 followers/the company is closed according to the page    | none               | 2 on LinkedIn(they say they have 11-50 employees)    |              |\n",
    "| Dekkers Transport Holland       | 19                   | 18 posts/93 followers/0 reviews                       | 10 reviews/979 followers                                               | none               | 9 employees/                                         |              |\n",
    "| Decathlon Distributiecentrum    | 12                   | It has a page but not for their distributiecentrum    | It has a page but not for their distributiecentrum                     | none               | none                                                 |              |\n"
   ],
   "metadata": {
    "collapsed": false
   }
  },
  {
   "cell_type": "markdown",
   "source": [
    "\n",
    "\n",
    "\n",
    "\n",
    "\n",
    "\n",
    "<span style=\"font-size:20px;\">They have been selected from our data:\n",
    "4 companies with the most reviews\n",
    "2 companies with only one review\n",
    "and finally 2 companies with more than 10 reviews\n",
    "\n",
    "<span style=\"font-size:20px;\"> 1.We notice that our sample does not have a particular consistency.\n",
    "2.One of the companies with the most reviews turns out to be a small business that transfers household appliances from well-known chain stores to buyers.\n",
    " Βuyers as final recipients tend to write positive or negative reviews regarding the service that they experience.\n",
    " This explains the large number of reviews in contrast to the small size of the company\n",
    "\n",
    "<span style=\"font-size:20px;\">3.We notice that small-size companies are not active on social media like Facebook and Instagram, but medium-sized companies do.\n",
    "\n",
    "\n",
    "<span style=\"font-size:20px;\">4.Large-size companies appear that don't even have Facebook or Instagram accounts but they are active on LinkedIn\n",
    "\n",
    "<span style=\"font-size:20px;\">5.Large-size companies carry out transfers mainly to other similar-sized companies and not to individuals. In such transactions, we don't usually find reviews on social media.\n",
    " There, the large number of reviews comes mainly from the companies' employees and their experience in the workplace\n",
    "\n",
    "<span style=\"font-size:20px;\">6.To have information from Glassdoor we need to make an account on it ,that's why we\n",
    " have informations only for the first company\n",
    "\n",
    "<span style=\"font-size:20px;\">7.From the table above it appears that Facebook and Linkedin seem to be the most suitable sources so far .\n"
   ],
   "metadata": {
    "collapsed": false
   }
  },
  {
   "cell_type": "markdown",
   "source": [],
   "metadata": {
    "collapsed": false
   }
  }
 ],
 "metadata": {
  "kernelspec": {
   "display_name": "Python 3",
   "language": "python",
   "name": "python3"
  },
  "language_info": {
   "codemirror_mode": {
    "name": "ipython",
    "version": 2
   },
   "file_extension": ".py",
   "mimetype": "text/x-python",
   "name": "python",
   "nbconvert_exporter": "python",
   "pygments_lexer": "ipython2",
   "version": "2.7.6"
  }
 },
 "nbformat": 4,
 "nbformat_minor": 0
}
