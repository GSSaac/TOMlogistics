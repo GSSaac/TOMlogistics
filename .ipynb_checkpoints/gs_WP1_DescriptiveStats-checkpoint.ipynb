{
 "cells": [
  {
   "cell_type": "code",
   "execution_count": null,
   "metadata": {},
   "outputs": [],
   "source": [
    "import time\n",
    "from selenium import webdriver\n",
    "from selenium.common.exceptions import NoSuchElementException\n",
    "from webdriver_manager.chrome import ChromeDriverManager\n",
    "from bs4 import BeautifulSoup\n",
    "from datetime import datetime\n",
    "import numpy as np\n",
    "import pandas as pd\n",
    "import os\n",
    "from selenium.webdriver.common.by import By\n",
    "from selenium.webdriver.support import expected_conditions as EC\n",
    "from selenium.webdriver.support.ui import WebDriverWait\n",
    "import matplotlib.pyplot as plt \n",
    "import seaborn as sns\n"
   ]
  },
  {
   "cell_type": "code",
   "execution_count": null,
   "metadata": {},
   "outputs": [],
   "source": [
    "cdir = os.getcwd()"
   ]
  },
  {
   "cell_type": "code",
   "execution_count": 2,
   "metadata": {},
   "outputs": [],
   "source": [
    "cdir = os.getcwd()\n",
    "#set place ID\n",
    "\n",
    "path_data = \n",
    "save_aggrdata_path = '/Users/giu/Documents/Business/Operations/Pilot_1/code/logistics/data/aggregated_data'\n",
    "file_name = 'AggregatedData_Logistics_Breda_Rotterdam_Eindhoven.csv'\n",
    "\n",
    "all_data = pd.read_csv(os.path.join(save_aggrdata_path,file_name),index_col=0)\n",
    "\n",
    "\n"
   ]
  },
  {
   "cell_type": "code",
   "execution_count": 6,
   "metadata": {},
   "outputs": [
    {
     "data": {
      "text/plain": [
       "place_id               object\n",
       "name                   object\n",
       "address                object\n",
       "avg_stars              object\n",
       "n_reviews              object\n",
       "website                object\n",
       "type_company           object\n",
       "lat                   float64\n",
       "lon                   float64\n",
       "reviewer_name          object\n",
       "reviewer_url           object\n",
       "done_reviews           object\n",
       "stars                  object\n",
       "published_date         object\n",
       "today_date             object\n",
       "review                 object\n",
       "local_guide           float64\n",
       "clean_other_review     object\n",
       "review_EN              object\n",
       "city                   object\n",
       "encoded_user           object\n",
       "original_lang          object\n",
       "stars_num             float64\n",
       "avg_stars_num         float64\n",
       "dtype: object"
      ]
     },
     "execution_count": 6,
     "metadata": {},
     "output_type": "execute_result"
    }
   ],
   "source": [
    "all_data.dtypes"
   ]
  },
  {
   "cell_type": "code",
   "execution_count": 34,
   "metadata": {},
   "outputs": [
    {
     "data": {
      "text/plain": [
       "0           NaN\n",
       "1           NaN\n",
       "2           NaN\n",
       "3           ENG\n",
       "4           ENG\n",
       "         ...   \n",
       "8075        NaN\n",
       "8076    NOT_ENG\n",
       "8077        NaN\n",
       "8078        NaN\n",
       "8079        NaN\n",
       "Name: original_lang, Length: 8080, dtype: object"
      ]
     },
     "execution_count": 34,
     "metadata": {},
     "output_type": "execute_result"
    }
   ],
   "source": [
    "all_data['original_lang']\n"
   ]
  },
  {
   "cell_type": "code",
   "execution_count": 8,
   "metadata": {},
   "outputs": [],
   "source": [
    "# convert stars from string to int\n",
    "all_data['stars_num'] = np.nan\n",
    "all_data['avg_stars_num'] = np.nan\n",
    "all_data['n_reviews_num'] = np.nan\n",
    "all_data['stars_num'].loc[~all_data['stars'].isnull()] = [float(i.split('star')[0]) for i in all_data['stars'].loc[~all_data['stars'].isnull()].values]\n",
    "all_data['avg_stars_num'].loc[~all_data['avg_stars'].isnull()] = [float(i.split('star')[0]) for i in all_data['avg_stars'].loc[~all_data['avg_stars'].isnull()].values]\n",
    "all_data['n_reviews_num'].loc[~all_data['n_reviews'].isnull()] = [float(i.split('review')[0]) for i in all_data['n_reviews'].loc[~all_data['n_reviews'].isnull()].values]\n",
    "all_data['clean_other_review'] = [i.replace(',','') for i in all_data['clean_other_review'].astype(str)]\n",
    "all_data['clean_other_review_num'] = np.nan\n",
    "all_data['clean_other_review_num'].loc[~all_data['clean_other_review'].isnull()] = all_data['clean_other_review'].loc[~all_data['clean_other_review'].isnull()].astype(float)\n",
    "\n",
    "\n"
   ]
  },
  {
   "cell_type": "code",
   "execution_count": 36,
   "metadata": {},
   "outputs": [
    {
     "name": "stdout",
     "output_type": "stream",
     "text": [
      "N companies  391\n"
     ]
    }
   ],
   "source": [
    "TechLabsDataset = all_data[['name',\n",
    " 'type_company',\n",
    " 'lat',\n",
    " 'lon',\n",
    " 'city',\n",
    " 'avg_stars_num',\n",
    " 'n_reviews_num',\n",
    " 'encoded_user',\n",
    " 'local_guide',\n",
    " 'clean_other_review_num',\n",
    " 'published_date',\n",
    " 'today_date',\n",
    " 'stars_num',\n",
    " 'review_EN',\n",
    " 'original_lang']]\n",
    "\n"
   ]
  },
  {
   "cell_type": "code",
   "execution_count": 56,
   "metadata": {},
   "outputs": [],
   "source": [
    "TechLabsDataset_Dictionary = TechLabsDataset.dtypes.reset_index()\n",
    "TechLabsDataset_Dictionary.columns = ['variable','type']\n",
    "TechLabsDataset_Dictionary['description'] = [\n",
    "    'Business name',\n",
    "    'Type of company: Trucking company, Warehouse, Shipping company, etc',\n",
    "    'Latitude',\n",
    "    'Longitude',\n",
    "    'City',\n",
    "    'Average received stars',\n",
    "    'Total number of reviews',\n",
    "    'Reviewer id',\n",
    "    'Flag: 1 if reviewer is local guide, otherwise 0',\n",
    "    'Number of other reviews written by the same reviewer',\n",
    "    'Date of publication of the review',\n",
    "    'Date of gathering of the review',\n",
    "    'Stars associated to one review',\n",
    "    'Review text in English',\n",
    "    'Is ENG if original language is English, otherwise NOT_ENG'\n",
    "]\n",
    "TechLabsDataset_Dictionary.to_csv(os.path.join(save_aggrdata_path,'TechLabsDataset_Dictionary.csv'))\n",
    "TechLabsDataset.to_csv(os.path.join(save_aggrdata_path,'TechLabsDataset.csv'))"
   ]
  },
  {
   "cell_type": "code",
   "execution_count": 58,
   "metadata": {},
   "outputs": [
    {
     "data": {
      "text/html": [
       "<div>\n",
       "<style scoped>\n",
       "    .dataframe tbody tr th:only-of-type {\n",
       "        vertical-align: middle;\n",
       "    }\n",
       "\n",
       "    .dataframe tbody tr th {\n",
       "        vertical-align: top;\n",
       "    }\n",
       "\n",
       "    .dataframe thead th {\n",
       "        text-align: right;\n",
       "    }\n",
       "</style>\n",
       "<table border=\"1\" class=\"dataframe\">\n",
       "  <thead>\n",
       "    <tr style=\"text-align: right;\">\n",
       "      <th></th>\n",
       "      <th>variable</th>\n",
       "      <th>type</th>\n",
       "      <th>description</th>\n",
       "    </tr>\n",
       "  </thead>\n",
       "  <tbody>\n",
       "    <tr>\n",
       "      <th>0</th>\n",
       "      <td>name</td>\n",
       "      <td>object</td>\n",
       "      <td>Business name</td>\n",
       "    </tr>\n",
       "    <tr>\n",
       "      <th>1</th>\n",
       "      <td>type_company</td>\n",
       "      <td>object</td>\n",
       "      <td>Type of company: Trucking company, Warehouse, ...</td>\n",
       "    </tr>\n",
       "    <tr>\n",
       "      <th>2</th>\n",
       "      <td>lat</td>\n",
       "      <td>float64</td>\n",
       "      <td>Latitude</td>\n",
       "    </tr>\n",
       "    <tr>\n",
       "      <th>3</th>\n",
       "      <td>lon</td>\n",
       "      <td>float64</td>\n",
       "      <td>Longitude</td>\n",
       "    </tr>\n",
       "    <tr>\n",
       "      <th>4</th>\n",
       "      <td>city</td>\n",
       "      <td>object</td>\n",
       "      <td>City</td>\n",
       "    </tr>\n",
       "    <tr>\n",
       "      <th>5</th>\n",
       "      <td>avg_stars_num</td>\n",
       "      <td>float64</td>\n",
       "      <td>Average received stars</td>\n",
       "    </tr>\n",
       "    <tr>\n",
       "      <th>6</th>\n",
       "      <td>n_reviews_num</td>\n",
       "      <td>float64</td>\n",
       "      <td>Total number of reviews</td>\n",
       "    </tr>\n",
       "    <tr>\n",
       "      <th>7</th>\n",
       "      <td>encoded_user</td>\n",
       "      <td>object</td>\n",
       "      <td>Reviewer id</td>\n",
       "    </tr>\n",
       "    <tr>\n",
       "      <th>8</th>\n",
       "      <td>local_guide</td>\n",
       "      <td>float64</td>\n",
       "      <td>Flag: 1 if reviewer is local guide, otherwise 0</td>\n",
       "    </tr>\n",
       "    <tr>\n",
       "      <th>9</th>\n",
       "      <td>clean_other_review_num</td>\n",
       "      <td>float64</td>\n",
       "      <td>Number of other reviews written by the same re...</td>\n",
       "    </tr>\n",
       "    <tr>\n",
       "      <th>10</th>\n",
       "      <td>published_date</td>\n",
       "      <td>object</td>\n",
       "      <td>Date of publication of the review</td>\n",
       "    </tr>\n",
       "    <tr>\n",
       "      <th>11</th>\n",
       "      <td>today_date</td>\n",
       "      <td>object</td>\n",
       "      <td>Date of gathering of the review</td>\n",
       "    </tr>\n",
       "    <tr>\n",
       "      <th>12</th>\n",
       "      <td>stars_num</td>\n",
       "      <td>float64</td>\n",
       "      <td>Stars associated to one review</td>\n",
       "    </tr>\n",
       "    <tr>\n",
       "      <th>13</th>\n",
       "      <td>review_EN</td>\n",
       "      <td>object</td>\n",
       "      <td>Review text in English</td>\n",
       "    </tr>\n",
       "    <tr>\n",
       "      <th>14</th>\n",
       "      <td>original_lang</td>\n",
       "      <td>object</td>\n",
       "      <td>Is ENG if original language is English, otherw...</td>\n",
       "    </tr>\n",
       "  </tbody>\n",
       "</table>\n",
       "</div>"
      ],
      "text/plain": [
       "                  variable     type  \\\n",
       "0                     name   object   \n",
       "1             type_company   object   \n",
       "2                      lat  float64   \n",
       "3                      lon  float64   \n",
       "4                     city   object   \n",
       "5            avg_stars_num  float64   \n",
       "6            n_reviews_num  float64   \n",
       "7             encoded_user   object   \n",
       "8              local_guide  float64   \n",
       "9   clean_other_review_num  float64   \n",
       "10          published_date   object   \n",
       "11              today_date   object   \n",
       "12               stars_num  float64   \n",
       "13               review_EN   object   \n",
       "14           original_lang   object   \n",
       "\n",
       "                                          description  \n",
       "0                                       Business name  \n",
       "1   Type of company: Trucking company, Warehouse, ...  \n",
       "2                                            Latitude  \n",
       "3                                           Longitude  \n",
       "4                                                City  \n",
       "5                              Average received stars  \n",
       "6                             Total number of reviews  \n",
       "7                                         Reviewer id  \n",
       "8     Flag: 1 if reviewer is local guide, otherwise 0  \n",
       "9   Number of other reviews written by the same re...  \n",
       "10                  Date of publication of the review  \n",
       "11                    Date of gathering of the review  \n",
       "12                     Stars associated to one review  \n",
       "13                             Review text in English  \n",
       "14  Is ENG if original language is English, otherw...  "
      ]
     },
     "metadata": {},
     "output_type": "display_data"
    },
    {
     "data": {
      "text/plain": [
       "(8080, 15)"
      ]
     },
     "execution_count": 58,
     "metadata": {},
     "output_type": "execute_result"
    }
   ],
   "source": [
    "from tabulate import tabulate\n",
    "TechLabsDataset_Dictionary\n",
    "# print(tabulate(TechLabsDataset_Dictionary, headers='firstrow', tablefmt='pretty'))\n",
    "display(TechLabsDataset_Dictionary)\n",
    "TechLabsDataset_Dictionary.to_clipboard()\n",
    "TechLabsDataset.shape"
   ]
  },
  {
   "cell_type": "code",
   "execution_count": 42,
   "metadata": {},
   "outputs": [
    {
     "name": "stdout",
     "output_type": "stream",
     "text": [
      "N companies  391\n"
     ]
    }
   ],
   "source": [
    "n_companies = TechLabsDataset[['name','city']].drop_duplicates().shape[0]#len(np.unique(all_data['name']))\n",
    "print('N companies ', n_companies)"
   ]
  },
  {
   "cell_type": "code",
   "execution_count": null,
   "metadata": {},
   "outputs": [],
   "source": [
    "\n"
   ]
  },
  {
   "cell_type": "code",
   "execution_count": null,
   "metadata": {},
   "outputs": [],
   "source": [
    "np.unique(all_data['today_date'].astype(str))"
   ]
  },
  {
   "cell_type": "code",
   "execution_count": null,
   "metadata": {},
   "outputs": [],
   "source": [
    "total_reviews = all_data['review'].loc[~all_data['review'].isnull()].shape[0]\n",
    "total_ratings = all_data['stars'].loc[~all_data['stars'].isnull()].shape[0]\n",
    "print(total_ratings,total_reviews)"
   ]
  },
  {
   "cell_type": "code",
   "execution_count": null,
   "metadata": {},
   "outputs": [],
   "source": [
    "all_data[['name','city']].value_counts().reset_index()"
   ]
  },
  {
   "cell_type": "code",
   "execution_count": null,
   "metadata": {},
   "outputs": [],
   "source": [
    "# proportion of companies for rating and reviews  "
   ]
  },
  {
   "cell_type": "code",
   "execution_count": null,
   "metadata": {},
   "outputs": [],
   "source": [
    "all_data.head()"
   ]
  },
  {
   "cell_type": "code",
   "execution_count": null,
   "metadata": {},
   "outputs": [],
   "source": [
    "len(np.unique(all_data.loc[all_data['avg_stars'].isnull(),:]['name']))"
   ]
  },
  {
   "cell_type": "code",
   "execution_count": null,
   "metadata": {},
   "outputs": [],
   "source": [
    "n_companies-all_data.loc[all_data['avg_stars'].isnull(),:].shape[0]"
   ]
  },
  {
   "cell_type": "code",
   "execution_count": null,
   "metadata": {},
   "outputs": [],
   "source": []
  },
  {
   "cell_type": "code",
   "execution_count": null,
   "metadata": {},
   "outputs": [],
   "source": [
    "n_companies-all_data.loc[all_data['avg_stars'].isnull(),:].shape[0]"
   ]
  },
  {
   "cell_type": "code",
   "execution_count": null,
   "metadata": {},
   "outputs": [],
   "source": [
    "\n",
    "tmp = all_data[['name','city']].value_counts().reset_index()\n",
    "tmp.columns = ['company name','city','data_rows']\n",
    "# seaborn.ecdfplot(data=None, *, x=None, y=None, hue=None\n",
    "fig, ax = plt.subplots(figsize = (5,5))\n",
    "sns.ecdfplot(data = tmp, x = 'data_rows',ax = ax)\n",
    "y_null = all_data.loc[all_data['avg_stars'].isnull(),:].shape[0]/n_companies\n",
    "# plt.axvline(x=xi, color='gray', linestyle='--')\n",
    "# plt.axhline(y=0.8, color='gray', linestyle='--')\n",
    "# plt.axhline(y=y_null, color='gray', linestyle='--') \n",
    "# ax.set_xlim([0,20])\n",
    "for y_special in np.asarray([y_null, 0.8]):\n",
    "\n",
    "    for line in ax.get_lines():\n",
    "        x, y = line.get_data()\n",
    "        ind = np.argwhere(y >= y_special)[0, 0]  # first index where y is larger than y_special\n",
    "        # x[ind] is the desired x-value\n",
    "        ax.text(x[ind], y_special, f' {x[ind]:.1f}', ha='left', va='top') # maybe color=line.get_color()\n",
    "#        plt.show()\n",
    "\n",
    "for y_special in np.asarray([y_null, 0.8]):\n",
    "    ax.axhline(y_special, linestyle='--', color='#cfcfcf', lw=2, alpha=0.75)\n"
   ]
  },
  {
   "cell_type": "code",
   "execution_count": null,
   "metadata": {},
   "outputs": [],
   "source": [
    "x,y"
   ]
  },
  {
   "cell_type": "code",
   "execution_count": null,
   "metadata": {},
   "outputs": [],
   "source": [
    "tmp = all_data[['name','n_reviews','avg_stars']].drop_duplicates().sort_values('n_reviews')\n",
    "# number of companies with review\n",
    "print(tmp.loc[tmp['n_reviews'].isnull(),:].shape,tmp.loc[~tmp['n_reviews'].isnull(),:].shape)\n",
    "# number of companies with ratings\n",
    "print(tmp.loc[tmp['avg_stars'].isnull(),:].shape,tmp.loc[~tmp['avg_stars'].isnull(),:].shape)"
   ]
  },
  {
   "cell_type": "code",
   "execution_count": null,
   "metadata": {},
   "outputs": [],
   "source": [
    "city_provenance = all_data[['name','city']].drop_duplicates()['city'].value_counts()\n",
    "city_provenance = city_provenance.reset_index()\n",
    "city_provenance.columns = ['city','N companies']\n",
    "\n",
    "\n",
    "from geopy.geocoders import Nominatim\n",
    "geolocator = Nominatim(user_agent='myapplication')\n",
    "city_lat = []\n",
    "city_lon = []\n",
    "for i in city_provenance['city']:\n",
    "    if i == 'Belgium':\n",
    "        location = geolocator.geocode(\"Belgium\")\n",
    "    else:\n",
    "        location = geolocator.geocode(i+\" Netherlands\")\n",
    "    city_lat.append(location.latitude)\n",
    "    city_lon.append(location.longitude)\n",
    "city_provenance['lat'] = city_lat\n",
    "city_provenance['lon'] = city_lon       "
   ]
  },
  {
   "cell_type": "code",
   "execution_count": null,
   "metadata": {},
   "outputs": [],
   "source": [
    "# plot number of companies per city"
   ]
  },
  {
   "cell_type": "code",
   "execution_count": null,
   "metadata": {},
   "outputs": [],
   "source": [
    "fig,ax = plt.subplots(figsize = (15,3))\n",
    "g = sns.barplot(data = city_provenance, x = 'city',y = 'N companies',color = 'b')\n",
    "# g.set_xticklabels(rotation=90)\n",
    "# plt.xticks(rotation=45)\n",
    "ax.tick_params(axis='x', rotation=90)"
   ]
  },
  {
   "cell_type": "code",
   "execution_count": null,
   "metadata": {},
   "outputs": [],
   "source": [
    "# map number of companies per city"
   ]
  },
  {
   "cell_type": "code",
   "execution_count": null,
   "metadata": {},
   "outputs": [],
   "source": [
    "\n",
    "import plotly.express as px\n",
    "import pandas as pd\n",
    "import plotly.figure_factory as ff\n",
    "api_token = 'pk.eyJ1IjoiZ2l1c2NoaSIsImEiOiJja29iZHJ1cHAxZGR1Mm9tcTMwMno2Mm9uIn0.XFFL7SFpHHP3ZqYUq_XeiA'\n",
    "px.set_mapbox_access_token(api_token)\n",
    "\n",
    "location = geolocator.geocode(\" Netherlands\")\n",
    "fig = px.scatter_mapbox(city_provenance, lat=\"lat\", lon=\"lon\",  color=\"N companies\", size='N companies',\n",
    "                  color_continuous_scale='viridis', size_max=15, zoom=6, center = {\n",
    "                      \n",
    "            'lat': location.latitude,\n",
    "            'lon': location.longitude\n",
    "                  }, #mapbox_style = 'streets'\n",
    "            \n",
    "        )\n",
    "\n",
    "fig.update_layout(coloraxis_colorbar=dict(\n",
    "    title=\"N companies\",\n",
    "    thicknessmode=\"pixels\", thickness=10,\n",
    "    lenmode=\"pixels\", len=200,\n",
    "    yanchor=\"top\", y=1,\n",
    "    ticks=\"outside\", \n",
    "    dtick=5\n",
    "))\n",
    "fig.update_layout(height = 600,width = 600, margin=dict(b=20, t=50, l=50, r=0))\n",
    "fig.show()\n"
   ]
  },
  {
   "cell_type": "code",
   "execution_count": null,
   "metadata": {},
   "outputs": [],
   "source": []
  },
  {
   "cell_type": "code",
   "execution_count": null,
   "metadata": {},
   "outputs": [],
   "source": [
    "all_data[['name','city']].drop_duplicates()['name'].value_counts()"
   ]
  },
  {
   "cell_type": "code",
   "execution_count": null,
   "metadata": {},
   "outputs": [],
   "source": [
    "all_data[['name','type_company']].drop_duplicates()['name'].value_counts()"
   ]
  },
  {
   "cell_type": "code",
   "execution_count": null,
   "metadata": {},
   "outputs": [],
   "source": [
    "all_data[['name','type_company']].drop_duplicates()['type_company'].value_counts().plot(kind = 'hbar')"
   ]
  },
  {
   "cell_type": "code",
   "execution_count": null,
   "metadata": {},
   "outputs": [],
   "source": [
    "all_data[['name','type_company']].drop_duplicates()['type_company'].value_counts()"
   ]
  }
 ],
 "metadata": {
  "kernelspec": {
   "display_name": "Python 3",
   "language": "python",
   "name": "python3"
  },
  "language_info": {
   "codemirror_mode": {
    "name": "ipython",
    "version": 3
   },
   "file_extension": ".py",
   "mimetype": "text/x-python",
   "name": "python",
   "nbconvert_exporter": "python",
   "pygments_lexer": "ipython3",
   "version": "3.7.4"
  },
  "toc": {
   "base_numbering": 1,
   "nav_menu": {},
   "number_sections": true,
   "sideBar": true,
   "skip_h1_title": false,
   "title_cell": "Table of Contents",
   "title_sidebar": "Contents",
   "toc_cell": false,
   "toc_position": {},
   "toc_section_display": true,
   "toc_window_display": false
  }
 },
 "nbformat": 4,
 "nbformat_minor": 2
}
