{
 "cells": [
  {
   "cell_type": "code",
   "execution_count": 295,
   "metadata": {},
   "outputs": [],
   "source": [
    "\n",
    "import numpy as np\n",
    "import pandas as pd\n",
    "import os\n",
    "import matplotlib.pyplot as plt \n",
    "import seaborn as sns\n",
    "import requests\n",
    "import json\n",
    "import time\n",
    "from selenium import webdriver\n",
    "from selenium.common.exceptions import NoSuchElementException\n",
    "from bs4 import BeautifulSoup"
   ]
  },
  {
   "cell_type": "markdown",
   "metadata": {},
   "source": [
    "# Load DataSet and Data Dictionary"
   ]
  },
  {
   "cell_type": "code",
   "execution_count": 296,
   "metadata": {},
   "outputs": [
    {
     "data": {
      "text/html": [
       "<div>\n",
       "<style scoped>\n",
       "    .dataframe tbody tr th:only-of-type {\n",
       "        vertical-align: middle;\n",
       "    }\n",
       "\n",
       "    .dataframe tbody tr th {\n",
       "        vertical-align: top;\n",
       "    }\n",
       "\n",
       "    .dataframe thead th {\n",
       "        text-align: right;\n",
       "    }\n",
       "</style>\n",
       "<table border=\"1\" class=\"dataframe\">\n",
       "  <thead>\n",
       "    <tr style=\"text-align: right;\">\n",
       "      <th></th>\n",
       "      <th>name</th>\n",
       "      <th>type_company</th>\n",
       "      <th>lat</th>\n",
       "      <th>lon</th>\n",
       "      <th>city</th>\n",
       "      <th>avg_stars_num</th>\n",
       "      <th>n_reviews_num</th>\n",
       "      <th>encoded_user</th>\n",
       "      <th>local_guide</th>\n",
       "      <th>clean_other_review_num</th>\n",
       "      <th>published_date</th>\n",
       "      <th>today_date</th>\n",
       "      <th>stars_num</th>\n",
       "      <th>review_EN</th>\n",
       "      <th>original_lang</th>\n",
       "    </tr>\n",
       "  </thead>\n",
       "  <tbody>\n",
       "    <tr>\n",
       "      <th>0</th>\n",
       "      <td>Caretrex warehousing &amp; logistics</td>\n",
       "      <td>Logistics service</td>\n",
       "      <td>51.593721</td>\n",
       "      <td>5.073492</td>\n",
       "      <td>Tilburg</td>\n",
       "      <td>5.0</td>\n",
       "      <td>2.0</td>\n",
       "      <td>HHpDM</td>\n",
       "      <td>0.0</td>\n",
       "      <td>4.0</td>\n",
       "      <td>2 years ago</td>\n",
       "      <td>2022-09-24</td>\n",
       "      <td>5.0</td>\n",
       "      <td>NaN</td>\n",
       "      <td>NaN</td>\n",
       "    </tr>\n",
       "    <tr>\n",
       "      <th>1</th>\n",
       "      <td>Caretrex warehousing &amp; logistics</td>\n",
       "      <td>Logistics service</td>\n",
       "      <td>51.593721</td>\n",
       "      <td>5.073492</td>\n",
       "      <td>Tilburg</td>\n",
       "      <td>5.0</td>\n",
       "      <td>2.0</td>\n",
       "      <td>dYFWx</td>\n",
       "      <td>0.0</td>\n",
       "      <td>1.0</td>\n",
       "      <td>5 years ago</td>\n",
       "      <td>2022-09-24</td>\n",
       "      <td>5.0</td>\n",
       "      <td>NaN</td>\n",
       "      <td>NaN</td>\n",
       "    </tr>\n",
       "    <tr>\n",
       "      <th>2</th>\n",
       "      <td>FEFA Logistics</td>\n",
       "      <td>Trucking company</td>\n",
       "      <td>51.480074</td>\n",
       "      <td>5.446764</td>\n",
       "      <td>Eindhoven</td>\n",
       "      <td>NaN</td>\n",
       "      <td>NaN</td>\n",
       "      <td>NaN</td>\n",
       "      <td>NaN</td>\n",
       "      <td>NaN</td>\n",
       "      <td>NaN</td>\n",
       "      <td>NaN</td>\n",
       "      <td>NaN</td>\n",
       "      <td>NaN</td>\n",
       "      <td>NaN</td>\n",
       "    </tr>\n",
       "    <tr>\n",
       "      <th>3</th>\n",
       "      <td>Dekkers Transport Holland</td>\n",
       "      <td>Trucking company</td>\n",
       "      <td>51.597249</td>\n",
       "      <td>5.027990</td>\n",
       "      <td>Tilburg</td>\n",
       "      <td>4.6</td>\n",
       "      <td>53.0</td>\n",
       "      <td>Pp1)c</td>\n",
       "      <td>0.0</td>\n",
       "      <td>5.0</td>\n",
       "      <td>a year ago</td>\n",
       "      <td>2022-09-24</td>\n",
       "      <td>5.0</td>\n",
       "      <td>Best employer ever. Worked there for approxima...</td>\n",
       "      <td>ENG</td>\n",
       "    </tr>\n",
       "    <tr>\n",
       "      <th>4</th>\n",
       "      <td>Dekkers Transport Holland</td>\n",
       "      <td>Trucking company</td>\n",
       "      <td>51.597249</td>\n",
       "      <td>5.027990</td>\n",
       "      <td>Tilburg</td>\n",
       "      <td>4.6</td>\n",
       "      <td>53.0</td>\n",
       "      <td>*nk1l</td>\n",
       "      <td>0.0</td>\n",
       "      <td>2.0</td>\n",
       "      <td>a year ago</td>\n",
       "      <td>2022-09-24</td>\n",
       "      <td>5.0</td>\n",
       "      <td>better place with very good people everything ...</td>\n",
       "      <td>ENG</td>\n",
       "    </tr>\n",
       "  </tbody>\n",
       "</table>\n",
       "</div>"
      ],
      "text/plain": [
       "                               name       type_company        lat       lon  \\\n",
       "0  Caretrex warehousing & logistics  Logistics service  51.593721  5.073492   \n",
       "1  Caretrex warehousing & logistics  Logistics service  51.593721  5.073492   \n",
       "2                    FEFA Logistics   Trucking company  51.480074  5.446764   \n",
       "3         Dekkers Transport Holland   Trucking company  51.597249  5.027990   \n",
       "4         Dekkers Transport Holland   Trucking company  51.597249  5.027990   \n",
       "\n",
       "        city  avg_stars_num  n_reviews_num encoded_user  local_guide  \\\n",
       "0    Tilburg            5.0            2.0        HHpDM          0.0   \n",
       "1    Tilburg            5.0            2.0        dYFWx          0.0   \n",
       "2  Eindhoven            NaN            NaN          NaN          NaN   \n",
       "3    Tilburg            4.6           53.0        Pp1)c          0.0   \n",
       "4    Tilburg            4.6           53.0        *nk1l          0.0   \n",
       "\n",
       "   clean_other_review_num published_date  today_date  stars_num  \\\n",
       "0                     4.0    2 years ago  2022-09-24        5.0   \n",
       "1                     1.0    5 years ago  2022-09-24        5.0   \n",
       "2                     NaN            NaN         NaN        NaN   \n",
       "3                     5.0     a year ago  2022-09-24        5.0   \n",
       "4                     2.0     a year ago  2022-09-24        5.0   \n",
       "\n",
       "                                           review_EN original_lang  \n",
       "0                                                NaN           NaN  \n",
       "1                                                NaN           NaN  \n",
       "2                                                NaN           NaN  \n",
       "3  Best employer ever. Worked there for approxima...           ENG  \n",
       "4  better place with very good people everything ...           ENG  "
      ]
     },
     "execution_count": 296,
     "metadata": {},
     "output_type": "execute_result"
    }
   ],
   "source": [
    "# main_dir = \n",
    "Dataset_name = 'TechLabsDataset.csv' \n",
    "DataDictionary_name = 'TechLabsDataset_Dictionary.csv'\n",
    "\n",
    "Dataset = pd.read_csv(os.path.join('./Data/',Dataset_name), index_col = 0)\n",
    "DataDictionary = pd.read_csv(os.path.join('./Data/',DataDictionary_name), index_col = 0)\n",
    "Dataset.head()"
   ]
  },
  {
   "cell_type": "code",
   "execution_count": 297,
   "metadata": {},
   "outputs": [
    {
     "data": {
      "text/html": [
       "<div>\n",
       "<style scoped>\n",
       "    .dataframe tbody tr th:only-of-type {\n",
       "        vertical-align: middle;\n",
       "    }\n",
       "\n",
       "    .dataframe tbody tr th {\n",
       "        vertical-align: top;\n",
       "    }\n",
       "\n",
       "    .dataframe thead th {\n",
       "        text-align: right;\n",
       "    }\n",
       "</style>\n",
       "<table border=\"1\" class=\"dataframe\">\n",
       "  <thead>\n",
       "    <tr style=\"text-align: right;\">\n",
       "      <th></th>\n",
       "      <th>name</th>\n",
       "      <th>city</th>\n",
       "      <th>#reviews</th>\n",
       "    </tr>\n",
       "  </thead>\n",
       "  <tbody>\n",
       "    <tr>\n",
       "      <th>0</th>\n",
       "      <td>First Logistics B.V.</td>\n",
       "      <td>Nieuwegein</td>\n",
       "      <td>293</td>\n",
       "    </tr>\n",
       "    <tr>\n",
       "      <th>1</th>\n",
       "      <td>Van Spreuwel Transport</td>\n",
       "      <td>Eindhoven</td>\n",
       "      <td>288</td>\n",
       "    </tr>\n",
       "    <tr>\n",
       "      <th>2</th>\n",
       "      <td>NUNNER Logistics BV</td>\n",
       "      <td>Helmond</td>\n",
       "      <td>143</td>\n",
       "    </tr>\n",
       "    <tr>\n",
       "      <th>3</th>\n",
       "      <td>Claassen Logistics</td>\n",
       "      <td>Tilburg</td>\n",
       "      <td>135</td>\n",
       "    </tr>\n",
       "    <tr>\n",
       "      <th>4</th>\n",
       "      <td>ID Logistics Benelux</td>\n",
       "      <td>Tilburg</td>\n",
       "      <td>123</td>\n",
       "    </tr>\n",
       "    <tr>\n",
       "      <th>...</th>\n",
       "      <td>...</td>\n",
       "      <td>...</td>\n",
       "      <td>...</td>\n",
       "    </tr>\n",
       "    <tr>\n",
       "      <th>182</th>\n",
       "      <td>DHL Techn. Distribution B.V.</td>\n",
       "      <td>Eindhoven</td>\n",
       "      <td>1</td>\n",
       "    </tr>\n",
       "    <tr>\n",
       "      <th>183</th>\n",
       "      <td>TPL Transport Logistics</td>\n",
       "      <td>Belgium</td>\n",
       "      <td>1</td>\n",
       "    </tr>\n",
       "    <tr>\n",
       "      <th>184</th>\n",
       "      <td>The Sting Companies</td>\n",
       "      <td>Tilburg</td>\n",
       "      <td>1</td>\n",
       "    </tr>\n",
       "    <tr>\n",
       "      <th>185</th>\n",
       "      <td>Crane Worldwide Logistics</td>\n",
       "      <td>Rotterdam</td>\n",
       "      <td>1</td>\n",
       "    </tr>\n",
       "    <tr>\n",
       "      <th>186</th>\n",
       "      <td>Über Logistics</td>\n",
       "      <td>Eindhoven</td>\n",
       "      <td>1</td>\n",
       "    </tr>\n",
       "  </tbody>\n",
       "</table>\n",
       "<p>187 rows × 3 columns</p>\n",
       "</div>"
      ],
      "text/plain": [
       "                             name        city  #reviews\n",
       "0            First Logistics B.V.  Nieuwegein       293\n",
       "1          Van Spreuwel Transport   Eindhoven       288\n",
       "2             NUNNER Logistics BV     Helmond       143\n",
       "3              Claassen Logistics     Tilburg       135\n",
       "4            ID Logistics Benelux     Tilburg       123\n",
       "..                            ...         ...       ...\n",
       "182  DHL Techn. Distribution B.V.   Eindhoven         1\n",
       "183       TPL Transport Logistics     Belgium         1\n",
       "184           The Sting Companies     Tilburg         1\n",
       "185     Crane Worldwide Logistics   Rotterdam         1\n",
       "186                Über Logistics   Eindhoven         1\n",
       "\n",
       "[187 rows x 3 columns]"
      ]
     },
     "execution_count": 297,
     "metadata": {},
     "output_type": "execute_result"
    }
   ],
   "source": [
    "number_reviews_per_company = Dataset[~Dataset['review_EN'].isnull()][['name','city']].value_counts().reset_index(name ='#reviews')\n",
    "\n",
    "# number_reviews_per_company['#reviews'].describe()\n",
    "# number_reviews_per_company[number_reviews_per_company['#reviews']>=20]\n",
    "number_reviews_per_company"
   ]
  },
  {
   "cell_type": "markdown",
   "metadata": {},
   "source": [
    "# scrape from https://graydongo.nl/nl/"
   ]
  },
  {
   "cell_type": "code",
   "execution_count": 301,
   "metadata": {},
   "outputs": [],
   "source": [
    "# conda install -c conda-forge webdriver-manager\n",
    "\n",
    "# set driver options\n",
    "from selenium import webdriver\n",
    "from webdriver_manager.chrome import ChromeDriverManager\n",
    "from selenium.webdriver.common.by import By\n",
    "\n",
    "\n",
    "def get_graydongo(company_name,company_city):\n",
    "    driver = webdriver.Chrome(ChromeDriverManager().install())\n",
    "    url = 'https://graydongo.nl/nl/'\n",
    "    driver.get(url)\n",
    "\n",
    "    time.sleep(4)\n",
    "    # click on cookies\n",
    "    cook_btn = driver.find_element(By.ID, 'CybotCookiebotDialogBodyLevelButtonLevelOptinAllowAll')\n",
    "    cook_btn.click()\n",
    "\n",
    "    # set company name in search box\n",
    "    text_space = driver.find_element(By.NAME, \"search\")\n",
    "    text_space.send_keys(company_name)\n",
    "    time.sleep(4)\n",
    "\n",
    "    # click on search box\n",
    "    cook_btn =  driver.find_element(By.CSS_SELECTOR, \"button[type='button']\")\n",
    "    cook_btn.click()\n",
    "    time.sleep(10)\n",
    "\n",
    "    # alternative - \n",
    "    cook_btn = driver.find_elements(By.CLASS_NAME, \"company-name\")\n",
    "\n",
    "\n",
    "    get_all_companies_in_search_list = list()\n",
    "    for j in np.arange(len(cook_btn)):\n",
    "        get_all_companies_in_search_list.append(cook_btn[j].text)\n",
    "    \n",
    "    # click on the first company\n",
    "    html_str = cook_btn[0].get_attribute('innerHTML')\n",
    "    new_url = html_str.split('\"')[1]\n",
    "    \n",
    "    driver.get(new_url)\n",
    "\n",
    "    # # alternative - \n",
    "    # cook_btn =  driver.find_elements(By.CLASS_NAME, \"search-highlight\")\n",
    "\n",
    "    resp = BeautifulSoup(driver.page_source, 'html.parser')\n",
    "\n",
    "    GD_Name = resp.find_all('h1', class_='h2')[0].text.replace('\\n','')\n",
    "    GD_Med = resp.find_all('div', class_='company-text__highlight-label')[0].text.replace('\\n','')\n",
    "    GD_Act = resp.find_all('div', class_='company-text__highlight-label')[1].text.replace('\\n','')\n",
    "    GD_City = resp.find_all('div', class_='company-text__highlight-label')[2].text.replace('\\n','')\n",
    "    GD_kvk_ref = resp.find_all('div', class_='company-text__highlight-label')[3].text.replace('\\n','')\n",
    "    GD_other_in_list = get_all_companies_in_search_list\n",
    "    \n",
    "    \n",
    "    \n",
    "    time.sleep(4)\n",
    "    \n",
    "    driver.close()\n",
    "    driver.quit()\n",
    "    \n",
    "    return [company_name, company_city, GD_Name,GD_Med,GD_Act,GD_City,GD_kvk_ref,GD_other_in_list]\n"
   ]
  },
  {
   "cell_type": "code",
   "execution_count": 302,
   "metadata": {},
   "outputs": [],
   "source": [
    "GD_list = list()"
   ]
  },
  {
   "cell_type": "code",
   "execution_count": 303,
   "metadata": {},
   "outputs": [
    {
     "name": "stderr",
     "output_type": "stream",
     "text": [
      "/var/folders/6d/dgjgypyn24x1lv9vc5gs38p00000gp/T/ipykernel_21665/2539905306.py:10: DeprecationWarning: executable_path has been deprecated, please pass in a Service object\n",
      "  driver = webdriver.Chrome(ChromeDriverManager().install())\n"
     ]
    },
    {
     "ename": "TypeError",
     "evalue": "object of type 'WebElement' has no len()",
     "output_type": "error",
     "traceback": [
      "\u001b[0;31m---------------------------------------------------------------------------\u001b[0m",
      "\u001b[0;31mTypeError\u001b[0m                                 Traceback (most recent call last)",
      "Input \u001b[0;32mIn [303]\u001b[0m, in \u001b[0;36m<cell line: 1>\u001b[0;34m()\u001b[0m\n\u001b[1;32m      2\u001b[0m company_name \u001b[38;5;241m=\u001b[39m number_reviews_per_company\u001b[38;5;241m.\u001b[39miloc[i][\u001b[38;5;124m'\u001b[39m\u001b[38;5;124mname\u001b[39m\u001b[38;5;124m'\u001b[39m]\n\u001b[1;32m      3\u001b[0m company_city \u001b[38;5;241m=\u001b[39m number_reviews_per_company\u001b[38;5;241m.\u001b[39miloc[i][\u001b[38;5;124m'\u001b[39m\u001b[38;5;124mcity\u001b[39m\u001b[38;5;124m'\u001b[39m]\n\u001b[0;32m----> 4\u001b[0m GD_list\u001b[38;5;241m.\u001b[39mappend(\u001b[43mget_graydongo\u001b[49m\u001b[43m(\u001b[49m\u001b[43mcompany_name\u001b[49m\u001b[43m,\u001b[49m\u001b[43mcompany_city\u001b[49m\u001b[43m)\u001b[49m)\n",
      "Input \u001b[0;32mIn [301]\u001b[0m, in \u001b[0;36mget_graydongo\u001b[0;34m(company_name, company_city)\u001b[0m\n\u001b[1;32m     29\u001b[0m     \u001b[38;5;66;03m# alternative - \u001b[39;00m\n\u001b[1;32m     30\u001b[0m \u001b[38;5;66;03m#     cook_btn = driver.find_elements(By.CLASS_NAME, \"company-name\")\u001b[39;00m\n\u001b[1;32m     33\u001b[0m     get_all_companies_in_search_list \u001b[38;5;241m=\u001b[39m \u001b[38;5;28mlist\u001b[39m()\n\u001b[0;32m---> 34\u001b[0m     \u001b[38;5;28;01mfor\u001b[39;00m j \u001b[38;5;129;01min\u001b[39;00m np\u001b[38;5;241m.\u001b[39marange(\u001b[38;5;28;43mlen\u001b[39;49m\u001b[43m(\u001b[49m\u001b[43mcook_btn\u001b[49m\u001b[43m)\u001b[49m):\n\u001b[1;32m     35\u001b[0m         get_all_companies_in_search_list\u001b[38;5;241m.\u001b[39mappend(cook_btn[j]\u001b[38;5;241m.\u001b[39mtext)\n\u001b[1;32m     37\u001b[0m     \u001b[38;5;66;03m# click on the first company\u001b[39;00m\n",
      "\u001b[0;31mTypeError\u001b[0m: object of type 'WebElement' has no len()"
     ]
    }
   ],
   "source": [
    "\n",
    "for i in np.arange(i,number_reviews_per_company.shape[0]):\n",
    "    company_name = number_reviews_per_company.iloc[i]['name']\n",
    "    company_city = number_reviews_per_company.iloc[i]['city']\n",
    "    GD_list.append(get_graydongo(company_name,company_city))"
   ]
  },
  {
   "cell_type": "code",
   "execution_count": 285,
   "metadata": {},
   "outputs": [
    {
     "data": {
      "text/plain": [
       "187"
      ]
     },
     "execution_count": 285,
     "metadata": {},
     "output_type": "execute_result"
    }
   ],
   "source": [
    "number_reviews_per_company.shape[0]"
   ]
  },
  {
   "cell_type": "code",
   "execution_count": 289,
   "metadata": {},
   "outputs": [
    {
     "data": {
      "text/plain": [
       "(187, 7)"
      ]
     },
     "execution_count": 289,
     "metadata": {},
     "output_type": "execute_result"
    }
   ],
   "source": [
    "GD_list_df = pd.DataFrame(GD_list, columns = ['name', 'city', 'GD_Name','GD_Med','GD_Act','GD_City','GD_kvk_ref'])\n",
    "\n",
    "GD_list_df.drop_duplicates(inplace = True)\n",
    "GD_list_df.shape"
   ]
  },
  {
   "cell_type": "code",
   "execution_count": 294,
   "metadata": {},
   "outputs": [],
   "source": [
    "GD_list_df.to_csv('./output/scaping_graydongo.csv')"
   ]
  },
  {
   "cell_type": "code",
   "execution_count": 292,
   "metadata": {},
   "outputs": [
    {
     "data": {
      "text/plain": [
       "1  werknemers                  33\n",
       "Onbekend aantal  werknemers    26\n",
       "8  werknemers                  10\n",
       "2  werknemers                   9\n",
       "3  werknemers                   8\n",
       "4  werknemers                   7\n",
       "25  werknemers                  7\n",
       "7  werknemers                   6\n",
       "5  werknemers                   6\n",
       "10  werknemers                  6\n",
       "9  werknemers                   4\n",
       "6  werknemers                   4\n",
       "12  werknemers                  3\n",
       "15  werknemers                  3\n",
       "36  werknemers                  3\n",
       "26  werknemers                  3\n",
       "27  werknemers                  2\n",
       "96  werknemers                  2\n",
       "38  werknemers                  2\n",
       "17  werknemers                  2\n",
       "45  werknemers                  2\n",
       "20  werknemers                  2\n",
       "16  werknemers                  2\n",
       "46  werknemers                  1\n",
       "24  werknemers                  1\n",
       "18  werknemers                  1\n",
       "1698  werknemers                1\n",
       "113  werknemers                 1\n",
       "19  werknemers                  1\n",
       "395  werknemers                 1\n",
       "37  werknemers                  1\n",
       "22  werknemers                  1\n",
       "33  werknemers                  1\n",
       "162  werknemers                 1\n",
       "29  werknemers                  1\n",
       "21  werknemers                  1\n",
       "11  werknemers                  1\n",
       "71  werknemers                  1\n",
       "92  werknemers                  1\n",
       "49  werknemers                  1\n",
       "34  werknemers                  1\n",
       "100  werknemers                 1\n",
       "62  werknemers                  1\n",
       "58  werknemers                  1\n",
       "130  werknemers                 1\n",
       "91  werknemers                  1\n",
       "74  werknemers                  1\n",
       "118  werknemers                 1\n",
       "1050  werknemers                1\n",
       "42  werknemers                  1\n",
       "281  werknemers                 1\n",
       "75  werknemers                  1\n",
       "23  werknemers                  1\n",
       "260  werknemers                 1\n",
       "70  werknemers                  1\n",
       "129  werknemers                 1\n",
       "30  werknemers                  1\n",
       "307  werknemers                 1\n",
       "Name: GD_Med, dtype: int64"
      ]
     },
     "execution_count": 292,
     "metadata": {},
     "output_type": "execute_result"
    }
   ],
   "source": [
    "GD_list_df['GD_Med'].value_counts()"
   ]
  },
  {
   "cell_type": "code",
   "execution_count": 256,
   "metadata": {},
   "outputs": [
    {
     "name": "stderr",
     "output_type": "stream",
     "text": [
      "[WDM] - Downloading: 100%|█████████████████| 8.61M/8.61M [00:00<00:00, 22.6MB/s]\n",
      "/var/folders/6d/dgjgypyn24x1lv9vc5gs38p00000gp/T/ipykernel_21665/726332107.py:1: DeprecationWarning: executable_path has been deprecated, please pass in a Service object\n",
      "  driver = webdriver.Chrome(ChromeDriverManager().install())\n"
     ]
    }
   ],
   "source": [
    "   "
   ]
  },
  {
   "cell_type": "code",
   "execution_count": 257,
   "metadata": {},
   "outputs": [
    {
     "data": {
      "text/plain": [
       "'                    Van den Broek Logistics B.V.                '"
      ]
     },
     "execution_count": 257,
     "metadata": {},
     "output_type": "execute_result"
    }
   ],
   "source": []
  },
  {
   "cell_type": "code",
   "execution_count": null,
   "metadata": {},
   "outputs": [],
   "source": []
  }
 ],
 "metadata": {
  "kernelspec": {
   "display_name": "Python 3 (ipykernel)",
   "language": "python",
   "name": "python3"
  },
  "language_info": {
   "codemirror_mode": {
    "name": "ipython",
    "version": 3
   },
   "file_extension": ".py",
   "mimetype": "text/x-python",
   "name": "python",
   "nbconvert_exporter": "python",
   "pygments_lexer": "ipython3",
   "version": "3.9.15"
  },
  "toc": {
   "base_numbering": 1,
   "nav_menu": {},
   "number_sections": true,
   "sideBar": true,
   "skip_h1_title": false,
   "title_cell": "Table of Contents",
   "title_sidebar": "Contents",
   "toc_cell": false,
   "toc_position": {},
   "toc_section_display": true,
   "toc_window_display": false
  }
 },
 "nbformat": 4,
 "nbformat_minor": 2
}
